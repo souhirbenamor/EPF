{
  "cells": [
    {
      "cell_type": "markdown",
      "metadata": {
        "id": "view-in-github",
        "colab_type": "text"
      },
      "source": [
        "<a href=\"https://colab.research.google.com/github/souhirbenamor/EPF/blob/main/LEAR_Easy_recalibration_Bridging.ipynb\" target=\"_parent\"><img src=\"https://colab.research.google.com/assets/colab-badge.svg\" alt=\"Open In Colab\"/></a>"
      ]
    },
    {
      "cell_type": "code",
      "execution_count": null,
      "metadata": {
        "id": "QE_wGMpGrNPS"
      },
      "outputs": [],
      "source": [
        "import numpy as np\n",
        "import matplotlib.pyplot as plt\n",
        "import pandas as pd"
      ]
    },
    {
      "cell_type": "code",
      "execution_count": null,
      "metadata": {
        "colab": {
          "base_uri": "https://localhost:8080/"
        },
        "id": "xFuqSx89rsUU",
        "outputId": "998891cf-d4f6-4081-ee10-7b3a3d10386b"
      },
      "outputs": [
        {
          "output_type": "stream",
          "name": "stdout",
          "text": [
            "Looking in indexes: https://pypi.org/simple, https://us-python.pkg.dev/colab-wheels/public/simple/\n",
            "Collecting gitpython\n",
            "  Downloading GitPython-3.1.27-py3-none-any.whl (181 kB)\n",
            "\u001b[K     |████████████████████████████████| 181 kB 5.2 MB/s \n",
            "\u001b[?25hRequirement already satisfied: typing-extensions>=3.7.4.3 in /usr/local/lib/python3.7/dist-packages (from gitpython) (4.1.1)\n",
            "Collecting gitdb<5,>=4.0.1\n",
            "  Downloading gitdb-4.0.9-py3-none-any.whl (63 kB)\n",
            "\u001b[K     |████████████████████████████████| 63 kB 1.4 MB/s \n",
            "\u001b[?25hCollecting smmap<6,>=3.0.1\n",
            "  Downloading smmap-5.0.0-py3-none-any.whl (24 kB)\n",
            "Installing collected packages: smmap, gitdb, gitpython\n",
            "Successfully installed gitdb-4.0.9 gitpython-3.1.27 smmap-5.0.0\n"
          ]
        }
      ],
      "source": [
        "!pip install gitpython"
      ]
    },
    {
      "cell_type": "code",
      "execution_count": null,
      "metadata": {
        "colab": {
          "base_uri": "https://localhost:8080/"
        },
        "id": "tMYGqP7erTVy",
        "outputId": "cd624257-3cae-4bfa-9cf9-d26bcaed9fa9"
      },
      "outputs": [
        {
          "output_type": "execute_result",
          "data": {
            "text/plain": [
              "<git.repo.base.Repo '/content/epftoolbox/.git'>"
            ]
          },
          "metadata": {},
          "execution_count": 3
        }
      ],
      "source": [
        "import os\n",
        "from git.repo.base import Repo\n",
        "Repo.clone_from(\"https://github.com/jeslago/epftoolbox\", \"epftoolbox\")"
      ]
    },
    {
      "cell_type": "code",
      "execution_count": null,
      "metadata": {
        "colab": {
          "base_uri": "https://localhost:8080/"
        },
        "id": "pXaBf9fFrgCE",
        "outputId": "db0b590c-d881-410d-f073-d224ce43212c"
      },
      "outputs": [
        {
          "output_type": "stream",
          "name": "stdout",
          "text": [
            "/content/epftoolbox\n"
          ]
        }
      ],
      "source": [
        "cd epftoolbox"
      ]
    },
    {
      "cell_type": "code",
      "execution_count": null,
      "metadata": {
        "id": "hRIDy0HMr_VD"
      },
      "outputs": [],
      "source": [
        "#from epftoolbox.data import read_data\n",
        "#df_train, df_test = read_data(path='.', dataset='EPF_data', begin_test_date='28-12-2015',end_test_date='31-12-2016')"
      ]
    },
    {
      "cell_type": "code",
      "execution_count": null,
      "metadata": {
        "colab": {
          "base_uri": "https://localhost:8080/",
          "height": 455
        },
        "id": "NeO7OlCl3jlP",
        "outputId": "9a4869b4-8974-40c1-d0c6-5099ac1c266c"
      },
      "outputs": [
        {
          "data": {
            "text/html": [
              "\n",
              "  <div id=\"df-5af690be-bb59-4299-a808-cbdec1622df4\">\n",
              "    <div class=\"colab-df-container\">\n",
              "      <div>\n",
              "<style scoped>\n",
              "    .dataframe tbody tr th:only-of-type {\n",
              "        vertical-align: middle;\n",
              "    }\n",
              "\n",
              "    .dataframe tbody tr th {\n",
              "        vertical-align: top;\n",
              "    }\n",
              "\n",
              "    .dataframe thead th {\n",
              "        text-align: right;\n",
              "    }\n",
              "</style>\n",
              "<table border=\"1\" class=\"dataframe\">\n",
              "  <thead>\n",
              "    <tr style=\"text-align: right;\">\n",
              "      <th></th>\n",
              "      <th>Price</th>\n",
              "      <th>Exogenous 1</th>\n",
              "      <th>Exogenous 2</th>\n",
              "    </tr>\n",
              "    <tr>\n",
              "      <th>Date</th>\n",
              "      <th></th>\n",
              "      <th></th>\n",
              "      <th></th>\n",
              "    </tr>\n",
              "  </thead>\n",
              "  <tbody>\n",
              "    <tr>\n",
              "      <th>2011-01-09 00:00:00</th>\n",
              "      <td>18.29</td>\n",
              "      <td>40242</td>\n",
              "      <td>8280.0</td>\n",
              "    </tr>\n",
              "    <tr>\n",
              "      <th>2011-01-09 01:00:00</th>\n",
              "      <td>16.04</td>\n",
              "      <td>39159</td>\n",
              "      <td>8413.0</td>\n",
              "    </tr>\n",
              "    <tr>\n",
              "      <th>2011-01-09 02:00:00</th>\n",
              "      <td>14.60</td>\n",
              "      <td>38825</td>\n",
              "      <td>8502.0</td>\n",
              "    </tr>\n",
              "    <tr>\n",
              "      <th>2011-01-09 03:00:00</th>\n",
              "      <td>14.95</td>\n",
              "      <td>38969</td>\n",
              "      <td>8669.0</td>\n",
              "    </tr>\n",
              "    <tr>\n",
              "      <th>2011-01-09 04:00:00</th>\n",
              "      <td>14.50</td>\n",
              "      <td>39093</td>\n",
              "      <td>8849.0</td>\n",
              "    </tr>\n",
              "    <tr>\n",
              "      <th>...</th>\n",
              "      <td>...</td>\n",
              "      <td>...</td>\n",
              "      <td>...</td>\n",
              "    </tr>\n",
              "    <tr>\n",
              "      <th>2015-12-27 19:00:00</th>\n",
              "      <td>35.69</td>\n",
              "      <td>65864</td>\n",
              "      <td>23686.0</td>\n",
              "    </tr>\n",
              "    <tr>\n",
              "      <th>2015-12-27 20:00:00</th>\n",
              "      <td>35.09</td>\n",
              "      <td>62098</td>\n",
              "      <td>23236.0</td>\n",
              "    </tr>\n",
              "    <tr>\n",
              "      <th>2015-12-27 21:00:00</th>\n",
              "      <td>32.95</td>\n",
              "      <td>59293</td>\n",
              "      <td>22718.0</td>\n",
              "    </tr>\n",
              "    <tr>\n",
              "      <th>2015-12-27 22:00:00</th>\n",
              "      <td>27.22</td>\n",
              "      <td>55256</td>\n",
              "      <td>22390.0</td>\n",
              "    </tr>\n",
              "    <tr>\n",
              "      <th>2015-12-27 23:00:00</th>\n",
              "      <td>26.56</td>\n",
              "      <td>50849</td>\n",
              "      <td>22086.0</td>\n",
              "    </tr>\n",
              "  </tbody>\n",
              "</table>\n",
              "<p>43536 rows × 3 columns</p>\n",
              "</div>\n",
              "      <button class=\"colab-df-convert\" onclick=\"convertToInteractive('df-5af690be-bb59-4299-a808-cbdec1622df4')\"\n",
              "              title=\"Convert this dataframe to an interactive table.\"\n",
              "              style=\"display:none;\">\n",
              "        \n",
              "  <svg xmlns=\"http://www.w3.org/2000/svg\" height=\"24px\"viewBox=\"0 0 24 24\"\n",
              "       width=\"24px\">\n",
              "    <path d=\"M0 0h24v24H0V0z\" fill=\"none\"/>\n",
              "    <path d=\"M18.56 5.44l.94 2.06.94-2.06 2.06-.94-2.06-.94-.94-2.06-.94 2.06-2.06.94zm-11 1L8.5 8.5l.94-2.06 2.06-.94-2.06-.94L8.5 2.5l-.94 2.06-2.06.94zm10 10l.94 2.06.94-2.06 2.06-.94-2.06-.94-.94-2.06-.94 2.06-2.06.94z\"/><path d=\"M17.41 7.96l-1.37-1.37c-.4-.4-.92-.59-1.43-.59-.52 0-1.04.2-1.43.59L10.3 9.45l-7.72 7.72c-.78.78-.78 2.05 0 2.83L4 21.41c.39.39.9.59 1.41.59.51 0 1.02-.2 1.41-.59l7.78-7.78 2.81-2.81c.8-.78.8-2.07 0-2.86zM5.41 20L4 18.59l7.72-7.72 1.47 1.35L5.41 20z\"/>\n",
              "  </svg>\n",
              "      </button>\n",
              "      \n",
              "  <style>\n",
              "    .colab-df-container {\n",
              "      display:flex;\n",
              "      flex-wrap:wrap;\n",
              "      gap: 12px;\n",
              "    }\n",
              "\n",
              "    .colab-df-convert {\n",
              "      background-color: #E8F0FE;\n",
              "      border: none;\n",
              "      border-radius: 50%;\n",
              "      cursor: pointer;\n",
              "      display: none;\n",
              "      fill: #1967D2;\n",
              "      height: 32px;\n",
              "      padding: 0 0 0 0;\n",
              "      width: 32px;\n",
              "    }\n",
              "\n",
              "    .colab-df-convert:hover {\n",
              "      background-color: #E2EBFA;\n",
              "      box-shadow: 0px 1px 2px rgba(60, 64, 67, 0.3), 0px 1px 3px 1px rgba(60, 64, 67, 0.15);\n",
              "      fill: #174EA6;\n",
              "    }\n",
              "\n",
              "    [theme=dark] .colab-df-convert {\n",
              "      background-color: #3B4455;\n",
              "      fill: #D2E3FC;\n",
              "    }\n",
              "\n",
              "    [theme=dark] .colab-df-convert:hover {\n",
              "      background-color: #434B5C;\n",
              "      box-shadow: 0px 1px 3px 1px rgba(0, 0, 0, 0.15);\n",
              "      filter: drop-shadow(0px 1px 2px rgba(0, 0, 0, 0.3));\n",
              "      fill: #FFFFFF;\n",
              "    }\n",
              "  </style>\n",
              "\n",
              "      <script>\n",
              "        const buttonEl =\n",
              "          document.querySelector('#df-5af690be-bb59-4299-a808-cbdec1622df4 button.colab-df-convert');\n",
              "        buttonEl.style.display =\n",
              "          google.colab.kernel.accessAllowed ? 'block' : 'none';\n",
              "\n",
              "        async function convertToInteractive(key) {\n",
              "          const element = document.querySelector('#df-5af690be-bb59-4299-a808-cbdec1622df4');\n",
              "          const dataTable =\n",
              "            await google.colab.kernel.invokeFunction('convertToInteractive',\n",
              "                                                     [key], {});\n",
              "          if (!dataTable) return;\n",
              "\n",
              "          const docLinkHtml = 'Like what you see? Visit the ' +\n",
              "            '<a target=\"_blank\" href=https://colab.research.google.com/notebooks/data_table.ipynb>data table notebook</a>'\n",
              "            + ' to learn more about interactive tables.';\n",
              "          element.innerHTML = '';\n",
              "          dataTable['output_type'] = 'display_data';\n",
              "          await google.colab.output.renderOutput(dataTable, element);\n",
              "          const docLink = document.createElement('div');\n",
              "          docLink.innerHTML = docLinkHtml;\n",
              "          element.appendChild(docLink);\n",
              "        }\n",
              "      </script>\n",
              "    </div>\n",
              "  </div>\n",
              "  "
            ],
            "text/plain": [
              "                     Price  Exogenous 1  Exogenous 2\n",
              "Date                                                \n",
              "2011-01-09 00:00:00  18.29        40242       8280.0\n",
              "2011-01-09 01:00:00  16.04        39159       8413.0\n",
              "2011-01-09 02:00:00  14.60        38825       8502.0\n",
              "2011-01-09 03:00:00  14.95        38969       8669.0\n",
              "2011-01-09 04:00:00  14.50        39093       8849.0\n",
              "...                    ...          ...          ...\n",
              "2015-12-27 19:00:00  35.69        65864      23686.0\n",
              "2015-12-27 20:00:00  35.09        62098      23236.0\n",
              "2015-12-27 21:00:00  32.95        59293      22718.0\n",
              "2015-12-27 22:00:00  27.22        55256      22390.0\n",
              "2015-12-27 23:00:00  26.56        50849      22086.0\n",
              "\n",
              "[43536 rows x 3 columns]"
            ]
          },
          "execution_count": 8,
          "metadata": {},
          "output_type": "execute_result"
        }
      ],
      "source": [
        "#df_train"
      ]
    },
    {
      "cell_type": "code",
      "execution_count": null,
      "metadata": {
        "colab": {
          "base_uri": "https://localhost:8080/",
          "height": 455
        },
        "id": "GqlPm2Wx3ryO",
        "outputId": "7f30852e-5a02-4b3e-9d7f-41631ac41c84"
      },
      "outputs": [
        {
          "data": {
            "text/html": [
              "\n",
              "  <div id=\"df-7c4064b2-a356-4f98-a7f7-8dedb4d44c00\">\n",
              "    <div class=\"colab-df-container\">\n",
              "      <div>\n",
              "<style scoped>\n",
              "    .dataframe tbody tr th:only-of-type {\n",
              "        vertical-align: middle;\n",
              "    }\n",
              "\n",
              "    .dataframe tbody tr th {\n",
              "        vertical-align: top;\n",
              "    }\n",
              "\n",
              "    .dataframe thead th {\n",
              "        text-align: right;\n",
              "    }\n",
              "</style>\n",
              "<table border=\"1\" class=\"dataframe\">\n",
              "  <thead>\n",
              "    <tr style=\"text-align: right;\">\n",
              "      <th></th>\n",
              "      <th>Price</th>\n",
              "      <th>Exogenous 1</th>\n",
              "      <th>Exogenous 2</th>\n",
              "    </tr>\n",
              "    <tr>\n",
              "      <th>Date</th>\n",
              "      <th></th>\n",
              "      <th></th>\n",
              "      <th></th>\n",
              "    </tr>\n",
              "  </thead>\n",
              "  <tbody>\n",
              "    <tr>\n",
              "      <th>2015-12-28 00:00:00</th>\n",
              "      <td>25.95</td>\n",
              "      <td>47965</td>\n",
              "      <td>21729.00</td>\n",
              "    </tr>\n",
              "    <tr>\n",
              "      <th>2015-12-28 01:00:00</th>\n",
              "      <td>23.30</td>\n",
              "      <td>47262</td>\n",
              "      <td>21491.00</td>\n",
              "    </tr>\n",
              "    <tr>\n",
              "      <th>2015-12-28 02:00:00</th>\n",
              "      <td>19.01</td>\n",
              "      <td>47679</td>\n",
              "      <td>21549.00</td>\n",
              "    </tr>\n",
              "    <tr>\n",
              "      <th>2015-12-28 03:00:00</th>\n",
              "      <td>24.59</td>\n",
              "      <td>48870</td>\n",
              "      <td>22197.00</td>\n",
              "    </tr>\n",
              "    <tr>\n",
              "      <th>2015-12-28 04:00:00</th>\n",
              "      <td>25.03</td>\n",
              "      <td>52302</td>\n",
              "      <td>23355.00</td>\n",
              "    </tr>\n",
              "    <tr>\n",
              "      <th>...</th>\n",
              "      <td>...</td>\n",
              "      <td>...</td>\n",
              "      <td>...</td>\n",
              "    </tr>\n",
              "    <tr>\n",
              "      <th>2016-12-31 19:00:00</th>\n",
              "      <td>40.25</td>\n",
              "      <td>59627</td>\n",
              "      <td>19911.50</td>\n",
              "    </tr>\n",
              "    <tr>\n",
              "      <th>2016-12-31 20:00:00</th>\n",
              "      <td>33.15</td>\n",
              "      <td>56876</td>\n",
              "      <td>20879.50</td>\n",
              "    </tr>\n",
              "    <tr>\n",
              "      <th>2016-12-31 21:00:00</th>\n",
              "      <td>30.39</td>\n",
              "      <td>54637</td>\n",
              "      <td>21307.75</td>\n",
              "    </tr>\n",
              "    <tr>\n",
              "      <th>2016-12-31 22:00:00</th>\n",
              "      <td>25.85</td>\n",
              "      <td>50930</td>\n",
              "      <td>21778.25</td>\n",
              "    </tr>\n",
              "    <tr>\n",
              "      <th>2016-12-31 23:00:00</th>\n",
              "      <td>1.59</td>\n",
              "      <td>45437</td>\n",
              "      <td>27305.00</td>\n",
              "    </tr>\n",
              "  </tbody>\n",
              "</table>\n",
              "<p>8880 rows × 3 columns</p>\n",
              "</div>\n",
              "      <button class=\"colab-df-convert\" onclick=\"convertToInteractive('df-7c4064b2-a356-4f98-a7f7-8dedb4d44c00')\"\n",
              "              title=\"Convert this dataframe to an interactive table.\"\n",
              "              style=\"display:none;\">\n",
              "        \n",
              "  <svg xmlns=\"http://www.w3.org/2000/svg\" height=\"24px\"viewBox=\"0 0 24 24\"\n",
              "       width=\"24px\">\n",
              "    <path d=\"M0 0h24v24H0V0z\" fill=\"none\"/>\n",
              "    <path d=\"M18.56 5.44l.94 2.06.94-2.06 2.06-.94-2.06-.94-.94-2.06-.94 2.06-2.06.94zm-11 1L8.5 8.5l.94-2.06 2.06-.94-2.06-.94L8.5 2.5l-.94 2.06-2.06.94zm10 10l.94 2.06.94-2.06 2.06-.94-2.06-.94-.94-2.06-.94 2.06-2.06.94z\"/><path d=\"M17.41 7.96l-1.37-1.37c-.4-.4-.92-.59-1.43-.59-.52 0-1.04.2-1.43.59L10.3 9.45l-7.72 7.72c-.78.78-.78 2.05 0 2.83L4 21.41c.39.39.9.59 1.41.59.51 0 1.02-.2 1.41-.59l7.78-7.78 2.81-2.81c.8-.78.8-2.07 0-2.86zM5.41 20L4 18.59l7.72-7.72 1.47 1.35L5.41 20z\"/>\n",
              "  </svg>\n",
              "      </button>\n",
              "      \n",
              "  <style>\n",
              "    .colab-df-container {\n",
              "      display:flex;\n",
              "      flex-wrap:wrap;\n",
              "      gap: 12px;\n",
              "    }\n",
              "\n",
              "    .colab-df-convert {\n",
              "      background-color: #E8F0FE;\n",
              "      border: none;\n",
              "      border-radius: 50%;\n",
              "      cursor: pointer;\n",
              "      display: none;\n",
              "      fill: #1967D2;\n",
              "      height: 32px;\n",
              "      padding: 0 0 0 0;\n",
              "      width: 32px;\n",
              "    }\n",
              "\n",
              "    .colab-df-convert:hover {\n",
              "      background-color: #E2EBFA;\n",
              "      box-shadow: 0px 1px 2px rgba(60, 64, 67, 0.3), 0px 1px 3px 1px rgba(60, 64, 67, 0.15);\n",
              "      fill: #174EA6;\n",
              "    }\n",
              "\n",
              "    [theme=dark] .colab-df-convert {\n",
              "      background-color: #3B4455;\n",
              "      fill: #D2E3FC;\n",
              "    }\n",
              "\n",
              "    [theme=dark] .colab-df-convert:hover {\n",
              "      background-color: #434B5C;\n",
              "      box-shadow: 0px 1px 3px 1px rgba(0, 0, 0, 0.15);\n",
              "      filter: drop-shadow(0px 1px 2px rgba(0, 0, 0, 0.3));\n",
              "      fill: #FFFFFF;\n",
              "    }\n",
              "  </style>\n",
              "\n",
              "      <script>\n",
              "        const buttonEl =\n",
              "          document.querySelector('#df-7c4064b2-a356-4f98-a7f7-8dedb4d44c00 button.colab-df-convert');\n",
              "        buttonEl.style.display =\n",
              "          google.colab.kernel.accessAllowed ? 'block' : 'none';\n",
              "\n",
              "        async function convertToInteractive(key) {\n",
              "          const element = document.querySelector('#df-7c4064b2-a356-4f98-a7f7-8dedb4d44c00');\n",
              "          const dataTable =\n",
              "            await google.colab.kernel.invokeFunction('convertToInteractive',\n",
              "                                                     [key], {});\n",
              "          if (!dataTable) return;\n",
              "\n",
              "          const docLinkHtml = 'Like what you see? Visit the ' +\n",
              "            '<a target=\"_blank\" href=https://colab.research.google.com/notebooks/data_table.ipynb>data table notebook</a>'\n",
              "            + ' to learn more about interactive tables.';\n",
              "          element.innerHTML = '';\n",
              "          dataTable['output_type'] = 'display_data';\n",
              "          await google.colab.output.renderOutput(dataTable, element);\n",
              "          const docLink = document.createElement('div');\n",
              "          docLink.innerHTML = docLinkHtml;\n",
              "          element.appendChild(docLink);\n",
              "        }\n",
              "      </script>\n",
              "    </div>\n",
              "  </div>\n",
              "  "
            ],
            "text/plain": [
              "                     Price  Exogenous 1  Exogenous 2\n",
              "Date                                                \n",
              "2015-12-28 00:00:00  25.95        47965     21729.00\n",
              "2015-12-28 01:00:00  23.30        47262     21491.00\n",
              "2015-12-28 02:00:00  19.01        47679     21549.00\n",
              "2015-12-28 03:00:00  24.59        48870     22197.00\n",
              "2015-12-28 04:00:00  25.03        52302     23355.00\n",
              "...                    ...          ...          ...\n",
              "2016-12-31 19:00:00  40.25        59627     19911.50\n",
              "2016-12-31 20:00:00  33.15        56876     20879.50\n",
              "2016-12-31 21:00:00  30.39        54637     21307.75\n",
              "2016-12-31 22:00:00  25.85        50930     21778.25\n",
              "2016-12-31 23:00:00   1.59        45437     27305.00\n",
              "\n",
              "[8880 rows x 3 columns]"
            ]
          },
          "execution_count": 9,
          "metadata": {},
          "output_type": "execute_result"
        }
      ],
      "source": [
        "#df_test"
      ]
    },
    {
      "cell_type": "code",
      "execution_count": null,
      "metadata": {
        "colab": {
          "base_uri": "https://localhost:8080/"
        },
        "id": "YqK5ZL0a3vcE",
        "outputId": "b8dbd6f0-f223-4d66-a917-ed93374bc1a1"
      },
      "outputs": [
        {
          "data": {
            "text/plain": [
              "array([[1.8290e+01, 4.0242e+04, 8.2800e+03],\n",
              "       [1.6040e+01, 3.9159e+04, 8.4130e+03],\n",
              "       [1.4600e+01, 3.8825e+04, 8.5020e+03]])"
            ]
          },
          "execution_count": 10,
          "metadata": {},
          "output_type": "execute_result"
        }
      ],
      "source": [
        "#from epftoolbox.data import DataScaler\n",
        "#Xtrain = df_train.values\n",
        "#Xtest = df_train.values\n",
        "#scaler = DataScaler('Norm')\n",
        "#Xtrain_scaled = scaler.fit_transform(Xtrain)\n",
        "#Xtest_scaled = scaler.transform(Xtest)\n",
        "#Xtrain_inverse = scaler.inverse_transform(Xtrain_scaled)\n",
        "#Xtest_inverse = scaler.inverse_transform(Xtest_scaled)\n",
        "#Xtrain[:3,:]"
      ]
    },
    {
      "cell_type": "code",
      "execution_count": null,
      "metadata": {
        "colab": {
          "base_uri": "https://localhost:8080/"
        },
        "id": "xsL94r8s7VT_",
        "outputId": "340d06a3-e06b-4480-e224-71af0cefeafc"
      },
      "outputs": [
        {
          "data": {
            "text/plain": [
              "array([[0.50536426, 0.22711934, 0.13419524],\n",
              "       [0.49770103, 0.20483539, 0.13649405],\n",
              "       [0.49279657, 0.19796296, 0.13803236]])"
            ]
          },
          "execution_count": 11,
          "metadata": {},
          "output_type": "execute_result"
        }
      ],
      "source": [
        "#Xtrain_scaled[:3,:]"
      ]
    },
    {
      "cell_type": "code",
      "execution_count": null,
      "metadata": {
        "colab": {
          "base_uri": "https://localhost:8080/"
        },
        "id": "pTTD4kTE7Wow",
        "outputId": "54c6d794-fa1a-41fe-b271-9d921ecc259b"
      },
      "outputs": [
        {
          "data": {
            "text/plain": [
              "array([[1.8290e+01, 4.0242e+04, 8.2800e+03],\n",
              "       [1.6040e+01, 3.9159e+04, 8.4130e+03],\n",
              "       [1.4600e+01, 3.8825e+04, 8.5020e+03]])"
            ]
          },
          "execution_count": 12,
          "metadata": {},
          "output_type": "execute_result"
        }
      ],
      "source": [
        "#Xtrain_inverse[:3,:]"
      ]
    },
    {
      "cell_type": "code",
      "execution_count": null,
      "metadata": {
        "colab": {
          "base_uri": "https://localhost:8080/"
        },
        "id": "9ZrE8Bp07Zgk",
        "outputId": "ec346a47-14a2-407d-d273-b6563b1bf824"
      },
      "outputs": [
        {
          "data": {
            "text/plain": [
              "array([[1.8290e+01, 4.0242e+04, 8.2800e+03],\n",
              "       [1.6040e+01, 3.9159e+04, 8.4130e+03],\n",
              "       [1.4600e+01, 3.8825e+04, 8.5020e+03]])"
            ]
          },
          "execution_count": 13,
          "metadata": {},
          "output_type": "execute_result"
        }
      ],
      "source": [
        " #Xtest[:3,:]"
      ]
    },
    {
      "cell_type": "code",
      "execution_count": null,
      "metadata": {
        "colab": {
          "base_uri": "https://localhost:8080/"
        },
        "id": "qmTKy45-7cl_",
        "outputId": "31035d22-c09e-4a7a-dbda-5649fff516d6"
      },
      "outputs": [
        {
          "data": {
            "text/plain": [
              "array([[0.50536426, 0.22711934, 0.13419524],\n",
              "       [0.49770103, 0.20483539, 0.13649405],\n",
              "       [0.49279657, 0.19796296, 0.13803236]])"
            ]
          },
          "execution_count": 14,
          "metadata": {},
          "output_type": "execute_result"
        }
      ],
      "source": [
        "#Xtest_scaled[:3,:]"
      ]
    },
    {
      "cell_type": "code",
      "execution_count": null,
      "metadata": {
        "colab": {
          "base_uri": "https://localhost:8080/"
        },
        "id": "sKrf1XrR7iko",
        "outputId": "0d34bc9d-060c-4aba-ec32-e17f417ff6b3"
      },
      "outputs": [
        {
          "data": {
            "text/plain": [
              "array([[1.8290e+01, 4.0242e+04, 8.2800e+03],\n",
              "       [1.6040e+01, 3.9159e+04, 8.4130e+03],\n",
              "       [1.4600e+01, 3.8825e+04, 8.5020e+03]])"
            ]
          },
          "execution_count": 15,
          "metadata": {},
          "output_type": "execute_result"
        }
      ],
      "source": [
        "#Xtest_inverse[:3,:]"
      ]
    },
    {
      "cell_type": "code",
      "execution_count": null,
      "metadata": {
        "colab": {
          "base_uri": "https://localhost:8080/"
        },
        "id": "nvtyOWKe-Fcu",
        "outputId": "f622656e-4daa-4166-f824-511172fbf938"
      },
      "outputs": [
        {
          "data": {
            "text/plain": [
              "array([[1.8290e+01, 4.0242e+04, 8.2800e+03],\n",
              "       [1.6040e+01, 3.9159e+04, 8.4130e+03],\n",
              "       [1.4600e+01, 3.8825e+04, 8.5020e+03]])"
            ]
          },
          "execution_count": 16,
          "metadata": {},
          "output_type": "execute_result"
        }
      ],
      "source": [
        "#from epftoolbox.data import scaling\n",
        "#Xtrain = df_train.values\n",
        "#Xtest = df_train.values\n",
        "#[Xtrain_scaled, Xtest_scaled], scaler = scaling([Xtrain,Xtest],'Norm')\n",
        "#Xtrain[:3,:]\n"
      ]
    },
    {
      "cell_type": "code",
      "execution_count": null,
      "metadata": {
        "colab": {
          "base_uri": "https://localhost:8080/"
        },
        "id": "t3Y-gq_w-Pt9",
        "outputId": "37b60e49-199d-4e3d-d541-2dde201a5adc"
      },
      "outputs": [
        {
          "data": {
            "text/plain": [
              "array([[0.50536426, 0.22711934, 0.13419524],\n",
              "       [0.49770103, 0.20483539, 0.13649405],\n",
              "       [0.49279657, 0.19796296, 0.13803236]])"
            ]
          },
          "execution_count": 17,
          "metadata": {},
          "output_type": "execute_result"
        }
      ],
      "source": [
        "#Xtrain_scaled[:3,:]"
      ]
    },
    {
      "cell_type": "code",
      "execution_count": null,
      "metadata": {
        "colab": {
          "base_uri": "https://localhost:8080/"
        },
        "id": "Uq932-DW-Rfy",
        "outputId": "5c48158c-00cf-4bd1-f930-8c6c01d030ac"
      },
      "outputs": [
        {
          "data": {
            "text/plain": [
              "array([[1.8290e+01, 4.0242e+04, 8.2800e+03],\n",
              "       [1.6040e+01, 3.9159e+04, 8.4130e+03],\n",
              "       [1.4600e+01, 3.8825e+04, 8.5020e+03]])"
            ]
          },
          "execution_count": 18,
          "metadata": {},
          "output_type": "execute_result"
        }
      ],
      "source": [
        "#Xtest[:3,:]"
      ]
    },
    {
      "cell_type": "code",
      "execution_count": null,
      "metadata": {
        "colab": {
          "base_uri": "https://localhost:8080/"
        },
        "id": "Kb5rLt6M-S4s",
        "outputId": "27c7a31c-9091-437e-e6c9-566ddcc7436d"
      },
      "outputs": [
        {
          "data": {
            "text/plain": [
              "array([[0.50536426, 0.22711934, 0.13419524],\n",
              "       [0.49770103, 0.20483539, 0.13649405],\n",
              "       [0.49279657, 0.19796296, 0.13803236]])"
            ]
          },
          "execution_count": 19,
          "metadata": {},
          "output_type": "execute_result"
        }
      ],
      "source": [
        "#Xtest_scaled[:3,:]"
      ]
    },
    {
      "cell_type": "code",
      "execution_count": null,
      "metadata": {
        "colab": {
          "base_uri": "https://localhost:8080/"
        },
        "id": "g5ogmbpc-Uar",
        "outputId": "3209aeb7-8387-4df0-811b-68ab02dca786"
      },
      "outputs": [
        {
          "data": {
            "text/plain": [
              "epftoolbox.data._wrangling.DataScaler"
            ]
          },
          "execution_count": 20,
          "metadata": {},
          "output_type": "execute_result"
        }
      ],
      "source": [
        "#type(scaler)"
      ]
    },
    {
      "cell_type": "code",
      "execution_count": null,
      "metadata": {
        "id": "Mtej_t8P-Xi0"
      },
      "outputs": [],
      "source": [
        "import pandas as pd\n",
        "import numpy as np\n",
        "import argparse\n",
        "import os\n",
        "\n",
        "from epftoolbox.data import read_data\n",
        "from epftoolbox.evaluation import MAE, sMAPE\n",
        "from epftoolbox.models import LEAR"
      ]
    },
    {
      "cell_type": "code",
      "execution_count": null,
      "metadata": {
        "id": "zHLgPxICB_KJ"
      },
      "outputs": [],
      "source": [
        "from epftoolbox.models import evaluate_lear_in_test_dataset\n",
        "import os\n",
        "\n",
        "# Market under study. If it not one of the standard ones, the file name\n",
        "# has to be provided, where the file has to be a csv file\n",
        "dataset = 'EPF'\n",
        "\n"
      ]
    },
    {
      "cell_type": "code",
      "execution_count": null,
      "metadata": {
        "id": "XWdDTXmACQPw"
      },
      "outputs": [],
      "source": [
        "# Number of years (a year is 364 days) in the test dataset.\n",
        "years_test = 2.0195\n",
        "\n",
        "# Number of days used in the training dataset for recalibration\n",
        "calibration_window = 364 * 4\n",
        "\n",
        "# Optional parameters for selecting the test dataset, if either of them is not provided, \n",
        "# the test dataset is built using the years_test parameter. They should either be one of\n",
        "# the date formats existing in python or a string with the following format\n",
        "# \"%d/%m/%Y %H:%M\"\n",
        "begin_test_date = '05/01/2015'\n",
        "end_test_date = '08/01/2017'\n",
        "\n"
      ]
    },
    {
      "cell_type": "code",
      "execution_count": null,
      "metadata": {
        "id": "v98OwllXCTcF"
      },
      "outputs": [],
      "source": [
        "path_datasets_folder = os.path.join('.', 'datasets')\n",
        "path_recalibration_folder = os.path.join('.', 'experimental_files')\n"
      ]
    },
    {
      "cell_type": "code",
      "execution_count": null,
      "metadata": {
        "colab": {
          "base_uri": "https://localhost:8080/",
          "height": 35
        },
        "id": "DCyh0uP9HgJm",
        "outputId": "b0a835af-1351-4d8c-b399-8390cabd3abf"
      },
      "outputs": [
        {
          "output_type": "execute_result",
          "data": {
            "text/plain": [
              "'EPF'"
            ],
            "application/vnd.google.colaboratory.intrinsic+json": {
              "type": "string"
            }
          },
          "metadata": {},
          "execution_count": 9
        }
      ],
      "source": [
        "dataset"
      ]
    },
    {
      "cell_type": "code",
      "execution_count": null,
      "metadata": {
        "colab": {
          "base_uri": "https://localhost:8080/"
        },
        "id": "YlDiZ-IjJjMC",
        "outputId": "d3547e3f-c6c9-4b90-9694-1f2978b1a2e9"
      },
      "outputs": [
        {
          "output_type": "stream",
          "name": "stdout",
          "text": [
            "                     price day ahead real  Load Forecast  PV+Wind Forecast  \\\n",
            "Date                                                                         \n",
            "2011-01-09 00:00:00                 18.29          40242            8280.0   \n",
            "2011-01-09 01:00:00                 16.04          39159            8413.0   \n",
            "2011-01-09 02:00:00                 14.60          38825            8502.0   \n",
            "2011-01-09 03:00:00                 14.95          38969            8669.0   \n",
            "2011-01-09 04:00:00                 14.50          39093            8849.0   \n",
            "...                                   ...            ...               ...   \n",
            "2017-01-08 19:00:00                 56.70          49516            8053.5   \n",
            "2017-01-08 20:00:00                 52.44          47748            7456.5   \n",
            "2017-01-08 21:00:00                 51.86          47762            6902.5   \n",
            "2017-01-08 22:00:00                 52.26          46223            6395.0   \n",
            "2017-01-08 23:00:00                 50.87          43521            4633.5   \n",
            "\n",
            "                       Gas   Coal    CO2  \n",
            "Date                                      \n",
            "2011-01-09 00:00:00  21.30  55.17   7.27  \n",
            "2011-01-09 01:00:00  21.30  55.17   7.27  \n",
            "2011-01-09 02:00:00  21.30  55.17   7.27  \n",
            "2011-01-09 03:00:00  21.30  55.17   7.27  \n",
            "2011-01-09 04:00:00  21.30  55.17   7.27  \n",
            "...                    ...    ...    ...  \n",
            "2017-01-08 19:00:00  19.12  56.49  32.59  \n",
            "2017-01-08 20:00:00  19.12  56.49  32.59  \n",
            "2017-01-08 21:00:00  19.12  56.49  32.59  \n",
            "2017-01-08 22:00:00  19.12  56.49  32.59  \n",
            "2017-01-08 23:00:00  19.12  56.67  32.59  \n",
            "\n",
            "[52608 rows x 6 columns]\n"
          ]
        }
      ],
      "source": [
        "EPF_1=pd.read_csv('/content/EPF_data 2.csv')\n",
        "EPF_1.reset_index(inplace=True)\n",
        "EPF_1[\"Date\"] = pd.to_datetime(EPF_1[\"Date\"])\n",
        "EPF_1 = EPF_1.set_index('Date')\n",
        "del EPF_1['index']\n",
        "EPF_1.head()\n",
        "print(EPF_1)\n"
      ]
    },
    {
      "cell_type": "code",
      "execution_count": null,
      "metadata": {
        "id": "BkPwmZTIKqlU"
      },
      "outputs": [],
      "source": [
        "EPF_1.to_csv('/content/epftoolbox/datasets/EPF.csv')"
      ]
    },
    {
      "cell_type": "code",
      "execution_count": null,
      "metadata": {
        "colab": {
          "base_uri": "https://localhost:8080/"
        },
        "id": "k5GSi2JFCVOZ",
        "outputId": "c796ac97-7cc2-4e1c-8dc0-2eb3c9fa6b64"
      },
      "outputs": [
        {
          "output_type": "stream",
          "name": "stdout",
          "text": [
            "Test datasets: 2015-01-05 00:00:00 - 2017-01-08 23:00:00\n",
            "2015-01-05 - sMAPE: 7.96%  |  MAE: 4.253\n",
            "2015-01-06 - sMAPE: 16.76%  |  MAE: 6.319\n",
            "2015-01-07 - sMAPE: 35.25%  |  MAE: 9.581\n",
            "2015-01-08 - sMAPE: 30.26%  |  MAE: 9.390\n",
            "2015-01-09 - sMAPE: 62.41%  |  MAE: 15.061\n",
            "2015-01-10 - sMAPE: 60.69%  |  MAE: 15.381\n",
            "2015-01-11 - sMAPE: 53.85%  |  MAE: 14.215\n",
            "2015-01-12 - sMAPE: 49.59%  |  MAE: 13.556\n",
            "2015-01-13 - sMAPE: 45.81%  |  MAE: 12.781\n",
            "2015-01-14 - sMAPE: 42.39%  |  MAE: 12.108\n",
            "2015-01-15 - sMAPE: 40.17%  |  MAE: 11.524\n",
            "2015-01-16 - sMAPE: 38.24%  |  MAE: 11.015\n",
            "2015-01-17 - sMAPE: 37.48%  |  MAE: 10.823\n",
            "2015-01-18 - sMAPE: 35.60%  |  MAE: 10.711\n",
            "2015-01-19 - sMAPE: 34.23%  |  MAE: 10.451\n",
            "2015-01-20 - sMAPE: 32.63%  |  MAE: 10.003\n",
            "2015-01-21 - sMAPE: 35.79%  |  MAE: 10.309\n",
            "2015-01-22 - sMAPE: 36.63%  |  MAE: 10.365\n",
            "2015-01-23 - sMAPE: 35.26%  |  MAE: 10.069\n",
            "2015-01-24 - sMAPE: 34.05%  |  MAE: 9.807\n",
            "2015-01-25 - sMAPE: 32.88%  |  MAE: 9.537\n",
            "2015-01-26 - sMAPE: 32.10%  |  MAE: 9.614\n",
            "2015-01-27 - sMAPE: 31.01%  |  MAE: 9.358\n",
            "2015-01-28 - sMAPE: 29.98%  |  MAE: 9.101\n",
            "2015-01-29 - sMAPE: 29.03%  |  MAE: 8.902\n",
            "2015-01-30 - sMAPE: 28.26%  |  MAE: 8.766\n",
            "2015-01-31 - sMAPE: 27.41%  |  MAE: 8.577\n",
            "2015-02-01 - sMAPE: 26.70%  |  MAE: 8.498\n",
            "2015-02-02 - sMAPE: 26.24%  |  MAE: 8.493\n",
            "2015-02-03 - sMAPE: 25.54%  |  MAE: 8.293\n",
            "2015-02-04 - sMAPE: 25.50%  |  MAE: 8.239\n",
            "2015-02-05 - sMAPE: 25.06%  |  MAE: 8.175\n",
            "2015-02-06 - sMAPE: 24.48%  |  MAE: 8.038\n",
            "2015-02-07 - sMAPE: 23.96%  |  MAE: 7.900\n",
            "2015-02-08 - sMAPE: 23.64%  |  MAE: 7.929\n",
            "2015-02-09 - sMAPE: 23.22%  |  MAE: 7.838\n",
            "2015-02-10 - sMAPE: 22.80%  |  MAE: 7.740\n",
            "2015-02-11 - sMAPE: 22.47%  |  MAE: 7.655\n",
            "2015-02-12 - sMAPE: 22.14%  |  MAE: 7.574\n",
            "2015-02-13 - sMAPE: 21.73%  |  MAE: 7.458\n",
            "2015-02-14 - sMAPE: 21.28%  |  MAE: 7.313\n",
            "2015-02-15 - sMAPE: 20.90%  |  MAE: 7.195\n",
            "2015-02-16 - sMAPE: 20.84%  |  MAE: 7.148\n",
            "2015-02-17 - sMAPE: 23.25%  |  MAE: 7.272\n",
            "2015-02-18 - sMAPE: 23.49%  |  MAE: 7.276\n",
            "2015-02-19 - sMAPE: 24.22%  |  MAE: 7.308\n",
            "2015-02-20 - sMAPE: 23.92%  |  MAE: 7.259\n",
            "2015-02-21 - sMAPE: 23.54%  |  MAE: 7.156\n",
            "2015-02-22 - sMAPE: 23.29%  |  MAE: 7.135\n",
            "2015-02-23 - sMAPE: 22.94%  |  MAE: 7.041\n",
            "2015-02-24 - sMAPE: 22.73%  |  MAE: 6.990\n",
            "2015-02-25 - sMAPE: 22.44%  |  MAE: 6.909\n",
            "2015-02-26 - sMAPE: 22.14%  |  MAE: 6.841\n",
            "2015-02-27 - sMAPE: 21.81%  |  MAE: 6.745\n",
            "2015-02-28 - sMAPE: 21.47%  |  MAE: 6.647\n",
            "2015-03-01 - sMAPE: 21.15%  |  MAE: 6.559\n",
            "2015-03-02 - sMAPE: 21.00%  |  MAE: 6.557\n",
            "2015-03-03 - sMAPE: 20.77%  |  MAE: 6.491\n",
            "2015-03-04 - sMAPE: 20.54%  |  MAE: 6.435\n",
            "2015-03-05 - sMAPE: 20.36%  |  MAE: 6.408\n",
            "2015-03-06 - sMAPE: 20.17%  |  MAE: 6.376\n",
            "2015-03-07 - sMAPE: 20.00%  |  MAE: 6.336\n",
            "2015-03-08 - sMAPE: 19.80%  |  MAE: 6.283\n",
            "2015-03-09 - sMAPE: 19.60%  |  MAE: 6.242\n",
            "2015-03-10 - sMAPE: 19.41%  |  MAE: 6.188\n",
            "2015-03-11 - sMAPE: 20.90%  |  MAE: 6.271\n",
            "2015-03-12 - sMAPE: 21.81%  |  MAE: 6.318\n",
            "2015-03-13 - sMAPE: 22.15%  |  MAE: 6.373\n",
            "2015-03-14 - sMAPE: 21.97%  |  MAE: 6.329\n",
            "2015-03-15 - sMAPE: 21.84%  |  MAE: 6.281\n",
            "2015-03-16 - sMAPE: 22.11%  |  MAE: 6.259\n",
            "2015-03-17 - sMAPE: 23.68%  |  MAE: 6.420\n",
            "2015-03-18 - sMAPE: 24.31%  |  MAE: 6.464\n",
            "2015-03-19 - sMAPE: 24.33%  |  MAE: 6.498\n",
            "2015-03-20 - sMAPE: 24.25%  |  MAE: 6.464\n",
            "2015-03-21 - sMAPE: 24.59%  |  MAE: 6.455\n",
            "2015-03-22 - sMAPE: 24.49%  |  MAE: 6.437\n",
            "2015-03-23 - sMAPE: 24.63%  |  MAE: 6.436\n",
            "2015-03-24 - sMAPE: 25.51%  |  MAE: 6.476\n",
            "2015-03-25 - sMAPE: 26.11%  |  MAE: 6.470\n",
            "2015-03-26 - sMAPE: 26.05%  |  MAE: 6.467\n",
            "2015-03-27 - sMAPE: 25.83%  |  MAE: 6.438\n",
            "2015-03-28 - sMAPE: 25.57%  |  MAE: 6.382\n",
            "2015-03-29 - sMAPE: 25.33%  |  MAE: 6.335\n",
            "2015-03-30 - sMAPE: 25.08%  |  MAE: 6.279\n",
            "2015-03-31 - sMAPE: 24.88%  |  MAE: 6.235\n",
            "2015-04-01 - sMAPE: 24.68%  |  MAE: 6.192\n",
            "2015-04-02 - sMAPE: 24.47%  |  MAE: 6.143\n",
            "2015-04-03 - sMAPE: 24.25%  |  MAE: 6.094\n",
            "2015-04-04 - sMAPE: 24.03%  |  MAE: 6.046\n",
            "2015-04-05 - sMAPE: 23.85%  |  MAE: 6.020\n",
            "2015-04-06 - sMAPE: 23.65%  |  MAE: 5.977\n",
            "2015-04-07 - sMAPE: 23.50%  |  MAE: 5.947\n",
            "2015-04-08 - sMAPE: 23.51%  |  MAE: 5.924\n",
            "2015-04-09 - sMAPE: 23.34%  |  MAE: 5.889\n",
            "2015-04-10 - sMAPE: 23.14%  |  MAE: 5.843\n",
            "2015-04-11 - sMAPE: 22.96%  |  MAE: 5.809\n",
            "2015-04-12 - sMAPE: 22.77%  |  MAE: 5.767\n",
            "2015-04-13 - sMAPE: 22.60%  |  MAE: 5.735\n",
            "2015-04-14 - sMAPE: 22.57%  |  MAE: 5.743\n",
            "2015-04-15 - sMAPE: 22.41%  |  MAE: 5.708\n",
            "2015-04-16 - sMAPE: 22.24%  |  MAE: 5.673\n",
            "2015-04-17 - sMAPE: 22.06%  |  MAE: 5.633\n",
            "2015-04-18 - sMAPE: 21.87%  |  MAE: 5.591\n",
            "2015-04-19 - sMAPE: 21.70%  |  MAE: 5.552\n",
            "2015-04-20 - sMAPE: 21.54%  |  MAE: 5.518\n",
            "2015-04-21 - sMAPE: 21.45%  |  MAE: 5.509\n",
            "2015-04-22 - sMAPE: 21.35%  |  MAE: 5.493\n",
            "2015-04-23 - sMAPE: 21.21%  |  MAE: 5.467\n",
            "2015-04-24 - sMAPE: 21.07%  |  MAE: 5.438\n",
            "2015-04-25 - sMAPE: 20.92%  |  MAE: 5.404\n",
            "2015-04-26 - sMAPE: 20.81%  |  MAE: 5.386\n",
            "2015-04-27 - sMAPE: 20.78%  |  MAE: 5.373\n",
            "2015-04-28 - sMAPE: 20.64%  |  MAE: 5.342\n",
            "2015-04-29 - sMAPE: 20.61%  |  MAE: 5.326\n",
            "2015-04-30 - sMAPE: 21.72%  |  MAE: 5.589\n",
            "2015-05-01 - sMAPE: 22.05%  |  MAE: 5.605\n",
            "2015-05-02 - sMAPE: 21.96%  |  MAE: 5.588\n",
            "2015-05-03 - sMAPE: 21.89%  |  MAE: 5.586\n",
            "2015-05-04 - sMAPE: 21.75%  |  MAE: 5.557\n",
            "2015-05-05 - sMAPE: 21.61%  |  MAE: 5.523\n",
            "2015-05-06 - sMAPE: 21.47%  |  MAE: 5.490\n",
            "2015-05-07 - sMAPE: 21.40%  |  MAE: 5.488\n",
            "2015-05-08 - sMAPE: 21.25%  |  MAE: 5.456\n",
            "2015-05-09 - sMAPE: 21.40%  |  MAE: 5.466\n",
            "2015-05-10 - sMAPE: 21.41%  |  MAE: 5.486\n",
            "2015-05-11 - sMAPE: 21.30%  |  MAE: 5.464\n",
            "2015-05-12 - sMAPE: 21.16%  |  MAE: 5.434\n",
            "2015-05-13 - sMAPE: 21.08%  |  MAE: 5.414\n",
            "2015-05-14 - sMAPE: 20.99%  |  MAE: 5.402\n",
            "2015-05-15 - sMAPE: 20.88%  |  MAE: 5.388\n",
            "2015-05-16 - sMAPE: 20.75%  |  MAE: 5.359\n",
            "2015-05-17 - sMAPE: 20.64%  |  MAE: 5.341\n",
            "2015-05-18 - sMAPE: 20.54%  |  MAE: 5.321\n",
            "2015-05-19 - sMAPE: 20.44%  |  MAE: 5.301\n",
            "2015-05-20 - sMAPE: 20.71%  |  MAE: 5.338\n",
            "2015-05-21 - sMAPE: 20.59%  |  MAE: 5.312\n",
            "2015-05-22 - sMAPE: 20.46%  |  MAE: 5.282\n",
            "2015-05-23 - sMAPE: 20.34%  |  MAE: 5.253\n",
            "2015-05-24 - sMAPE: 20.21%  |  MAE: 5.222\n",
            "2015-05-25 - sMAPE: 20.11%  |  MAE: 5.202\n",
            "2015-05-26 - sMAPE: 20.01%  |  MAE: 5.181\n",
            "2015-05-27 - sMAPE: 19.91%  |  MAE: 5.156\n",
            "2015-05-28 - sMAPE: 19.81%  |  MAE: 5.137\n",
            "2015-05-29 - sMAPE: 19.73%  |  MAE: 5.126\n",
            "2015-05-30 - sMAPE: 19.62%  |  MAE: 5.102\n",
            "2015-05-31 - sMAPE: 19.52%  |  MAE: 5.083\n",
            "2015-06-01 - sMAPE: 19.44%  |  MAE: 5.069\n",
            "2015-06-02 - sMAPE: 19.34%  |  MAE: 5.044\n",
            "2015-06-03 - sMAPE: 19.51%  |  MAE: 5.057\n",
            "2015-06-04 - sMAPE: 19.46%  |  MAE: 5.049\n",
            "2015-06-05 - sMAPE: 19.37%  |  MAE: 5.033\n",
            "2015-06-06 - sMAPE: 19.27%  |  MAE: 5.012\n",
            "2015-06-07 - sMAPE: 19.71%  |  MAE: 5.056\n",
            "2015-06-08 - sMAPE: 19.62%  |  MAE: 5.036\n",
            "2015-06-09 - sMAPE: 19.56%  |  MAE: 5.024\n",
            "2015-06-10 - sMAPE: 19.72%  |  MAE: 5.032\n",
            "2015-06-11 - sMAPE: 19.64%  |  MAE: 5.013\n",
            "2015-06-12 - sMAPE: 19.55%  |  MAE: 4.997\n",
            "2015-06-13 - sMAPE: 19.48%  |  MAE: 4.983\n",
            "2015-06-14 - sMAPE: 19.39%  |  MAE: 4.966\n",
            "2015-06-15 - sMAPE: 19.43%  |  MAE: 4.977\n",
            "2015-06-16 - sMAPE: 19.96%  |  MAE: 5.193\n",
            "2015-06-17 - sMAPE: 19.95%  |  MAE: 5.182\n",
            "2015-06-18 - sMAPE: 19.90%  |  MAE: 5.172\n",
            "2015-06-19 - sMAPE: 19.82%  |  MAE: 5.157\n",
            "2015-06-20 - sMAPE: 19.73%  |  MAE: 5.141\n",
            "2015-06-21 - sMAPE: 19.67%  |  MAE: 5.137\n",
            "2015-06-22 - sMAPE: 19.61%  |  MAE: 5.132\n",
            "2015-06-23 - sMAPE: 19.53%  |  MAE: 5.112\n",
            "2015-06-24 - sMAPE: 19.49%  |  MAE: 5.104\n",
            "2015-06-25 - sMAPE: 19.43%  |  MAE: 5.101\n",
            "2015-06-26 - sMAPE: 19.34%  |  MAE: 5.084\n",
            "2015-06-27 - sMAPE: 19.27%  |  MAE: 5.068\n",
            "2015-06-28 - sMAPE: 19.19%  |  MAE: 5.050\n",
            "2015-06-29 - sMAPE: 19.11%  |  MAE: 5.032\n",
            "2015-06-30 - sMAPE: 19.03%  |  MAE: 5.014\n",
            "2015-07-01 - sMAPE: 19.15%  |  MAE: 5.011\n",
            "2015-07-02 - sMAPE: 19.10%  |  MAE: 5.002\n",
            "2015-07-03 - sMAPE: 19.04%  |  MAE: 4.999\n",
            "2015-07-04 - sMAPE: 18.97%  |  MAE: 4.985\n",
            "2015-07-05 - sMAPE: 18.91%  |  MAE: 4.972\n",
            "2015-07-06 - sMAPE: 18.85%  |  MAE: 4.965\n",
            "2015-07-07 - sMAPE: 18.78%  |  MAE: 4.951\n",
            "2015-07-08 - sMAPE: 19.00%  |  MAE: 4.969\n",
            "2015-07-09 - sMAPE: 18.93%  |  MAE: 4.953\n",
            "2015-07-10 - sMAPE: 18.86%  |  MAE: 4.940\n",
            "2015-07-11 - sMAPE: 18.79%  |  MAE: 4.925\n",
            "2015-07-12 - sMAPE: 18.73%  |  MAE: 4.910\n",
            "2015-07-13 - sMAPE: 18.65%  |  MAE: 4.893\n",
            "2015-07-14 - sMAPE: 18.65%  |  MAE: 4.890\n",
            "2015-07-15 - sMAPE: 18.63%  |  MAE: 4.879\n",
            "2015-07-16 - sMAPE: 18.57%  |  MAE: 4.868\n",
            "2015-07-17 - sMAPE: 18.48%  |  MAE: 4.849\n",
            "2015-07-18 - sMAPE: 18.41%  |  MAE: 4.832\n",
            "2015-07-19 - sMAPE: 18.33%  |  MAE: 4.815\n",
            "2015-07-20 - sMAPE: 18.26%  |  MAE: 4.801\n",
            "2015-07-21 - sMAPE: 18.20%  |  MAE: 4.787\n",
            "2015-07-22 - sMAPE: 18.12%  |  MAE: 4.769\n",
            "2015-07-23 - sMAPE: 18.06%  |  MAE: 4.755\n",
            "2015-07-24 - sMAPE: 17.99%  |  MAE: 4.741\n",
            "2015-07-25 - sMAPE: 17.92%  |  MAE: 4.727\n",
            "2015-07-26 - sMAPE: 17.85%  |  MAE: 4.709\n",
            "2015-07-27 - sMAPE: 17.78%  |  MAE: 4.694\n",
            "2015-07-28 - sMAPE: 17.73%  |  MAE: 4.683\n",
            "2015-07-29 - sMAPE: 17.70%  |  MAE: 4.676\n",
            "2015-07-30 - sMAPE: 17.63%  |  MAE: 4.660\n",
            "2015-07-31 - sMAPE: 17.57%  |  MAE: 4.650\n",
            "2015-08-01 - sMAPE: 17.56%  |  MAE: 4.662\n",
            "2015-08-02 - sMAPE: 17.52%  |  MAE: 4.665\n",
            "2015-08-03 - sMAPE: 17.49%  |  MAE: 4.663\n",
            "2015-08-04 - sMAPE: 17.44%  |  MAE: 4.652\n",
            "2015-08-05 - sMAPE: 17.41%  |  MAE: 4.651\n",
            "2015-08-06 - sMAPE: 17.36%  |  MAE: 4.642\n",
            "2015-08-07 - sMAPE: 17.30%  |  MAE: 4.630\n",
            "2015-08-08 - sMAPE: 17.25%  |  MAE: 4.624\n",
            "2015-08-09 - sMAPE: 17.20%  |  MAE: 4.616\n",
            "2015-08-10 - sMAPE: 17.15%  |  MAE: 4.608\n",
            "2015-08-11 - sMAPE: 17.10%  |  MAE: 4.600\n",
            "2015-08-12 - sMAPE: 17.05%  |  MAE: 4.588\n",
            "2015-08-13 - sMAPE: 17.00%  |  MAE: 4.579\n",
            "2015-08-14 - sMAPE: 16.94%  |  MAE: 4.568\n",
            "2015-08-15 - sMAPE: 16.90%  |  MAE: 4.560\n",
            "2015-08-16 - sMAPE: 16.84%  |  MAE: 4.546\n",
            "2015-08-17 - sMAPE: 16.79%  |  MAE: 4.533\n",
            "2015-08-18 - sMAPE: 17.00%  |  MAE: 4.569\n",
            "2015-08-19 - sMAPE: 17.17%  |  MAE: 4.579\n",
            "2015-08-20 - sMAPE: 17.13%  |  MAE: 4.576\n",
            "2015-08-21 - sMAPE: 17.09%  |  MAE: 4.568\n",
            "2015-08-22 - sMAPE: 17.04%  |  MAE: 4.560\n",
            "2015-08-23 - sMAPE: 17.00%  |  MAE: 4.552\n",
            "2015-08-24 - sMAPE: 16.97%  |  MAE: 4.545\n",
            "2015-08-25 - sMAPE: 16.96%  |  MAE: 4.540\n",
            "2015-08-26 - sMAPE: 16.94%  |  MAE: 4.531\n",
            "2015-08-27 - sMAPE: 16.89%  |  MAE: 4.519\n",
            "2015-08-28 - sMAPE: 16.84%  |  MAE: 4.510\n",
            "2015-08-29 - sMAPE: 16.79%  |  MAE: 4.503\n",
            "2015-08-30 - sMAPE: 16.74%  |  MAE: 4.491\n",
            "2015-08-31 - sMAPE: 16.70%  |  MAE: 4.481\n",
            "2015-09-01 - sMAPE: 16.65%  |  MAE: 4.470\n",
            "2015-09-02 - sMAPE: 16.61%  |  MAE: 4.460\n",
            "2015-09-03 - sMAPE: 16.57%  |  MAE: 4.458\n",
            "2015-09-04 - sMAPE: 16.54%  |  MAE: 4.456\n",
            "2015-09-05 - sMAPE: 16.52%  |  MAE: 4.460\n",
            "2015-09-06 - sMAPE: 16.48%  |  MAE: 4.456\n",
            "2015-09-07 - sMAPE: 16.44%  |  MAE: 4.449\n",
            "2015-09-08 - sMAPE: 16.40%  |  MAE: 4.439\n",
            "2015-09-09 - sMAPE: 16.36%  |  MAE: 4.431\n",
            "2015-09-10 - sMAPE: 16.32%  |  MAE: 4.423\n",
            "2015-09-11 - sMAPE: 16.27%  |  MAE: 4.411\n",
            "2015-09-12 - sMAPE: 16.23%  |  MAE: 4.402\n",
            "2015-09-13 - sMAPE: 16.18%  |  MAE: 4.389\n",
            "2015-09-14 - sMAPE: 16.14%  |  MAE: 4.379\n",
            "2015-09-15 - sMAPE: 16.10%  |  MAE: 4.370\n",
            "2015-09-16 - sMAPE: 16.05%  |  MAE: 4.358\n",
            "2015-09-17 - sMAPE: 16.01%  |  MAE: 4.352\n",
            "2015-09-18 - sMAPE: 15.96%  |  MAE: 4.342\n",
            "2015-09-19 - sMAPE: 15.91%  |  MAE: 4.330\n",
            "2015-09-20 - sMAPE: 15.86%  |  MAE: 4.318\n",
            "2015-09-21 - sMAPE: 15.82%  |  MAE: 4.308\n",
            "2015-09-22 - sMAPE: 15.78%  |  MAE: 4.297\n",
            "2015-09-23 - sMAPE: 15.91%  |  MAE: 4.306\n",
            "2015-09-24 - sMAPE: 15.87%  |  MAE: 4.298\n",
            "2015-09-25 - sMAPE: 15.85%  |  MAE: 4.293\n",
            "2015-09-26 - sMAPE: 15.82%  |  MAE: 4.288\n",
            "2015-09-27 - sMAPE: 15.78%  |  MAE: 4.282\n",
            "2015-09-28 - sMAPE: 15.74%  |  MAE: 4.276\n",
            "2015-09-29 - sMAPE: 15.71%  |  MAE: 4.269\n",
            "2015-09-30 - sMAPE: 15.69%  |  MAE: 4.264\n",
            "2015-10-01 - sMAPE: 15.65%  |  MAE: 4.255\n",
            "2015-10-02 - sMAPE: 15.61%  |  MAE: 4.251\n",
            "2015-10-03 - sMAPE: 15.57%  |  MAE: 4.242\n",
            "2015-10-04 - sMAPE: 15.53%  |  MAE: 4.233\n",
            "2015-10-05 - sMAPE: 15.49%  |  MAE: 4.224\n",
            "2015-10-06 - sMAPE: 15.59%  |  MAE: 4.227\n",
            "2015-10-07 - sMAPE: 15.87%  |  MAE: 4.243\n",
            "2015-10-08 - sMAPE: 15.98%  |  MAE: 4.260\n",
            "2015-10-09 - sMAPE: 15.95%  |  MAE: 4.256\n",
            "2015-10-10 - sMAPE: 15.91%  |  MAE: 4.248\n",
            "2015-10-11 - sMAPE: 15.89%  |  MAE: 4.248\n",
            "2015-10-12 - sMAPE: 15.85%  |  MAE: 4.241\n",
            "2015-10-13 - sMAPE: 15.82%  |  MAE: 4.235\n",
            "2015-10-14 - sMAPE: 15.79%  |  MAE: 4.228\n",
            "2015-10-15 - sMAPE: 15.75%  |  MAE: 4.221\n",
            "2015-10-16 - sMAPE: 15.71%  |  MAE: 4.212\n",
            "2015-10-17 - sMAPE: 15.67%  |  MAE: 4.204\n",
            "2015-10-18 - sMAPE: 15.65%  |  MAE: 4.198\n",
            "2015-10-19 - sMAPE: 15.70%  |  MAE: 4.201\n",
            "2015-10-20 - sMAPE: 15.78%  |  MAE: 4.199\n",
            "2015-10-21 - sMAPE: 15.84%  |  MAE: 4.201\n",
            "2015-10-22 - sMAPE: 15.84%  |  MAE: 4.200\n",
            "2015-10-23 - sMAPE: 15.81%  |  MAE: 4.195\n",
            "2015-10-24 - sMAPE: 15.78%  |  MAE: 4.190\n",
            "2015-10-25 - sMAPE: 15.73%  |  MAE: 4.181\n",
            "2015-10-26 - sMAPE: 15.70%  |  MAE: 4.172\n",
            "2015-10-27 - sMAPE: 15.66%  |  MAE: 4.165\n",
            "2015-10-28 - sMAPE: 15.63%  |  MAE: 4.156\n",
            "2015-10-29 - sMAPE: 15.60%  |  MAE: 4.152\n",
            "2015-10-30 - sMAPE: 15.58%  |  MAE: 4.153\n",
            "2015-10-31 - sMAPE: 15.54%  |  MAE: 4.144\n",
            "2015-11-01 - sMAPE: 15.51%  |  MAE: 4.141\n",
            "2015-11-02 - sMAPE: 15.48%  |  MAE: 4.135\n",
            "2015-11-03 - sMAPE: 15.57%  |  MAE: 4.140\n",
            "2015-11-04 - sMAPE: 15.75%  |  MAE: 4.168\n",
            "2015-11-05 - sMAPE: 15.73%  |  MAE: 4.168\n",
            "2015-11-06 - sMAPE: 15.69%  |  MAE: 4.161\n",
            "2015-11-07 - sMAPE: 15.66%  |  MAE: 4.154\n",
            "2015-11-08 - sMAPE: 15.62%  |  MAE: 4.145\n",
            "2015-11-09 - sMAPE: 15.60%  |  MAE: 4.142\n",
            "2015-11-10 - sMAPE: 15.57%  |  MAE: 4.135\n",
            "2015-11-11 - sMAPE: 15.60%  |  MAE: 4.133\n",
            "2015-11-12 - sMAPE: 15.59%  |  MAE: 4.134\n",
            "2015-11-13 - sMAPE: 15.55%  |  MAE: 4.126\n",
            "2015-11-14 - sMAPE: 15.51%  |  MAE: 4.120\n",
            "2015-11-15 - sMAPE: 15.48%  |  MAE: 4.117\n",
            "2015-11-16 - sMAPE: 15.45%  |  MAE: 4.112\n",
            "2015-11-17 - sMAPE: 15.42%  |  MAE: 4.107\n",
            "2015-11-18 - sMAPE: 15.39%  |  MAE: 4.100\n",
            "2015-11-19 - sMAPE: 15.36%  |  MAE: 4.095\n",
            "2015-11-20 - sMAPE: 15.32%  |  MAE: 4.089\n",
            "2015-11-21 - sMAPE: 15.30%  |  MAE: 4.087\n",
            "2015-11-22 - sMAPE: 15.27%  |  MAE: 4.080\n",
            "2015-11-23 - sMAPE: 15.24%  |  MAE: 4.075\n",
            "2015-11-24 - sMAPE: 15.20%  |  MAE: 4.066\n",
            "2015-11-25 - sMAPE: 15.17%  |  MAE: 4.059\n",
            "2015-11-26 - sMAPE: 15.15%  |  MAE: 4.055\n",
            "2015-11-27 - sMAPE: 15.12%  |  MAE: 4.053\n",
            "2015-11-28 - sMAPE: 15.09%  |  MAE: 4.052\n",
            "2015-11-29 - sMAPE: 15.06%  |  MAE: 4.046\n",
            "2015-11-30 - sMAPE: 15.03%  |  MAE: 4.042\n",
            "2015-12-01 - sMAPE: 15.03%  |  MAE: 4.040\n",
            "2015-12-02 - sMAPE: 15.03%  |  MAE: 4.042\n",
            "2015-12-03 - sMAPE: 15.03%  |  MAE: 4.056\n",
            "2015-12-04 - sMAPE: 15.00%  |  MAE: 4.054\n",
            "2015-12-05 - sMAPE: 14.97%  |  MAE: 4.045\n",
            "2015-12-06 - sMAPE: 14.99%  |  MAE: 4.045\n",
            "2015-12-07 - sMAPE: 14.97%  |  MAE: 4.044\n",
            "2015-12-08 - sMAPE: 14.95%  |  MAE: 4.040\n",
            "2015-12-09 - sMAPE: 14.92%  |  MAE: 4.034\n",
            "2015-12-10 - sMAPE: 14.89%  |  MAE: 4.028\n",
            "2015-12-11 - sMAPE: 14.86%  |  MAE: 4.024\n",
            "2015-12-12 - sMAPE: 14.83%  |  MAE: 4.019\n",
            "2015-12-13 - sMAPE: 14.80%  |  MAE: 4.013\n",
            "2015-12-14 - sMAPE: 14.80%  |  MAE: 4.014\n",
            "2015-12-15 - sMAPE: 14.96%  |  MAE: 4.028\n",
            "2015-12-16 - sMAPE: 15.41%  |  MAE: 4.098\n",
            "2015-12-17 - sMAPE: 15.44%  |  MAE: 4.106\n",
            "2015-12-18 - sMAPE: 15.42%  |  MAE: 4.102\n",
            "2015-12-19 - sMAPE: 15.45%  |  MAE: 4.101\n",
            "2015-12-20 - sMAPE: 15.42%  |  MAE: 4.096\n",
            "2015-12-21 - sMAPE: 15.41%  |  MAE: 4.093\n",
            "2015-12-22 - sMAPE: 15.46%  |  MAE: 4.100\n",
            "2015-12-23 - sMAPE: 15.65%  |  MAE: 4.105\n",
            "2015-12-24 - sMAPE: 15.63%  |  MAE: 4.103\n",
            "2015-12-25 - sMAPE: 15.60%  |  MAE: 4.096\n",
            "2015-12-26 - sMAPE: 15.59%  |  MAE: 4.099\n",
            "2015-12-27 - sMAPE: 15.56%  |  MAE: 4.093\n",
            "2015-12-28 - sMAPE: 15.55%  |  MAE: 4.090\n",
            "2015-12-29 - sMAPE: 15.56%  |  MAE: 4.090\n",
            "2015-12-30 - sMAPE: 15.58%  |  MAE: 4.090\n",
            "2015-12-31 - sMAPE: 15.69%  |  MAE: 4.092\n",
            "2016-01-01 - sMAPE: 15.72%  |  MAE: 4.089\n",
            "2016-01-02 - sMAPE: 15.72%  |  MAE: 4.088\n",
            "2016-01-03 - sMAPE: 15.70%  |  MAE: 4.084\n",
            "2016-01-04 - sMAPE: 15.67%  |  MAE: 4.078\n",
            "2016-01-05 - sMAPE: 15.65%  |  MAE: 4.076\n",
            "2016-01-06 - sMAPE: 15.64%  |  MAE: 4.074\n",
            "2016-01-07 - sMAPE: 15.66%  |  MAE: 4.075\n",
            "2016-01-08 - sMAPE: 15.65%  |  MAE: 4.073\n",
            "2016-01-09 - sMAPE: 15.65%  |  MAE: 4.076\n",
            "2016-01-10 - sMAPE: 15.64%  |  MAE: 4.077\n",
            "2016-01-11 - sMAPE: 15.70%  |  MAE: 4.082\n",
            "2016-01-12 - sMAPE: 15.77%  |  MAE: 4.088\n",
            "2016-01-13 - sMAPE: 15.75%  |  MAE: 4.085\n",
            "2016-01-14 - sMAPE: 15.72%  |  MAE: 4.080\n",
            "2016-01-15 - sMAPE: 15.70%  |  MAE: 4.074\n",
            "2016-01-16 - sMAPE: 15.74%  |  MAE: 4.075\n",
            "2016-01-17 - sMAPE: 15.71%  |  MAE: 4.069\n",
            "2016-01-18 - sMAPE: 15.70%  |  MAE: 4.069\n",
            "2016-01-19 - sMAPE: 15.69%  |  MAE: 4.066\n",
            "2016-01-20 - sMAPE: 15.69%  |  MAE: 4.066\n",
            "2016-01-21 - sMAPE: 15.67%  |  MAE: 4.061\n",
            "2016-01-22 - sMAPE: 15.72%  |  MAE: 4.067\n",
            "2016-01-23 - sMAPE: 15.76%  |  MAE: 4.068\n",
            "2016-01-24 - sMAPE: 15.72%  |  MAE: 4.060\n",
            "2016-01-25 - sMAPE: 15.70%  |  MAE: 4.056\n",
            "2016-01-26 - sMAPE: 15.71%  |  MAE: 4.058\n",
            "2016-01-27 - sMAPE: 15.68%  |  MAE: 4.054\n",
            "2016-01-28 - sMAPE: 15.67%  |  MAE: 4.053\n",
            "2016-01-29 - sMAPE: 15.64%  |  MAE: 4.048\n",
            "2016-01-30 - sMAPE: 15.61%  |  MAE: 4.043\n",
            "2016-01-31 - sMAPE: 15.59%  |  MAE: 4.042\n",
            "2016-02-01 - sMAPE: 15.57%  |  MAE: 4.042\n",
            "2016-02-02 - sMAPE: 15.54%  |  MAE: 4.037\n",
            "2016-02-03 - sMAPE: 15.52%  |  MAE: 4.032\n",
            "2016-02-04 - sMAPE: 15.49%  |  MAE: 4.026\n",
            "2016-02-05 - sMAPE: 15.48%  |  MAE: 4.024\n",
            "2016-02-06 - sMAPE: 15.47%  |  MAE: 4.024\n",
            "2016-02-07 - sMAPE: 15.48%  |  MAE: 4.025\n",
            "2016-02-08 - sMAPE: 15.54%  |  MAE: 4.024\n",
            "2016-02-09 - sMAPE: 15.72%  |  MAE: 4.030\n",
            "2016-02-10 - sMAPE: 15.79%  |  MAE: 4.037\n",
            "2016-02-11 - sMAPE: 15.78%  |  MAE: 4.032\n",
            "2016-02-12 - sMAPE: 15.77%  |  MAE: 4.029\n",
            "2016-02-13 - sMAPE: 15.75%  |  MAE: 4.025\n",
            "2016-02-14 - sMAPE: 15.72%  |  MAE: 4.021\n",
            "2016-02-15 - sMAPE: 15.70%  |  MAE: 4.019\n",
            "2016-02-16 - sMAPE: 15.68%  |  MAE: 4.015\n",
            "2016-02-17 - sMAPE: 15.93%  |  MAE: 4.022\n",
            "2016-02-18 - sMAPE: 16.06%  |  MAE: 4.036\n",
            "2016-02-19 - sMAPE: 16.21%  |  MAE: 4.048\n",
            "2016-02-20 - sMAPE: 16.25%  |  MAE: 4.046\n",
            "2016-02-21 - sMAPE: 16.24%  |  MAE: 4.046\n",
            "2016-02-22 - sMAPE: 16.23%  |  MAE: 4.047\n",
            "2016-02-23 - sMAPE: 16.31%  |  MAE: 4.053\n",
            "2016-02-24 - sMAPE: 16.57%  |  MAE: 4.072\n",
            "2016-02-25 - sMAPE: 16.61%  |  MAE: 4.076\n",
            "2016-02-26 - sMAPE: 16.64%  |  MAE: 4.079\n",
            "2016-02-27 - sMAPE: 16.63%  |  MAE: 4.076\n",
            "2016-02-28 - sMAPE: 16.62%  |  MAE: 4.075\n",
            "2016-02-29 - sMAPE: 16.63%  |  MAE: 4.074\n",
            "2016-03-01 - sMAPE: 17.00%  |  MAE: 4.084\n",
            "2016-03-02 - sMAPE: 17.21%  |  MAE: 4.094\n",
            "2016-03-03 - sMAPE: 17.23%  |  MAE: 4.094\n",
            "2016-03-04 - sMAPE: 17.22%  |  MAE: 4.090\n",
            "2016-03-05 - sMAPE: 17.20%  |  MAE: 4.087\n",
            "2016-03-06 - sMAPE: 17.17%  |  MAE: 4.082\n",
            "2016-03-07 - sMAPE: 17.16%  |  MAE: 4.077\n",
            "2016-03-08 - sMAPE: 17.35%  |  MAE: 4.079\n",
            "2016-03-09 - sMAPE: 17.53%  |  MAE: 4.093\n",
            "2016-03-10 - sMAPE: 17.53%  |  MAE: 4.096\n",
            "2016-03-11 - sMAPE: 17.50%  |  MAE: 4.093\n",
            "2016-03-12 - sMAPE: 17.48%  |  MAE: 4.090\n",
            "2016-03-13 - sMAPE: 17.45%  |  MAE: 4.087\n",
            "2016-03-14 - sMAPE: 17.42%  |  MAE: 4.081\n",
            "2016-03-15 - sMAPE: 17.40%  |  MAE: 4.075\n",
            "2016-03-16 - sMAPE: 17.50%  |  MAE: 4.078\n",
            "2016-03-17 - sMAPE: 17.48%  |  MAE: 4.076\n",
            "2016-03-18 - sMAPE: 17.52%  |  MAE: 4.080\n",
            "2016-03-19 - sMAPE: 17.55%  |  MAE: 4.075\n",
            "2016-03-20 - sMAPE: 17.72%  |  MAE: 4.084\n",
            "2016-03-21 - sMAPE: 17.81%  |  MAE: 4.089\n",
            "2016-03-22 - sMAPE: 17.80%  |  MAE: 4.087\n",
            "2016-03-23 - sMAPE: 17.91%  |  MAE: 4.091\n",
            "2016-03-24 - sMAPE: 17.91%  |  MAE: 4.097\n",
            "2016-03-24 - sMAPE: 17.91%  |  MAE: 4.097\n"
          ]
        }
      ],
      "source": [
        "    \n",
        "evaluate_lear_in_test_dataset(path_recalibration_folder=path_recalibration_folder, \n",
        "                             path_datasets_folder=path_datasets_folder, dataset=dataset, years_test=years_test, \n",
        "                             calibration_window=calibration_window, begin_test_date=begin_test_date, \n",
        "                             end_test_date=end_test_date)\n"
      ]
    },
    {
      "cell_type": "code",
      "execution_count": null,
      "metadata": {
        "colab": {
          "base_uri": "https://localhost:8080/",
          "height": 405
        },
        "id": "MieNtnse9zrz",
        "outputId": "cf38b758-ac52-487d-e2a8-bf31cebbc141"
      },
      "outputs": [
        {
          "output_type": "execute_result",
          "data": {
            "text/plain": [
              "            index         h0         h1         h2         h3         h4  \\\n",
              "Date                                                                       \n",
              "2015-01-05      0  46.568490  42.995123  40.284090  41.281372  42.769975   \n",
              "2015-01-06      1  49.232449  45.891539  42.221738  39.319878  39.635293   \n",
              "2015-01-07      2  10.318326   8.978287   8.983570  10.914104  13.664986   \n",
              "2015-01-08      3  46.276746  46.118965  40.293061  39.335919  40.410901   \n",
              "2015-01-09      4  24.809524  23.955762  23.313370  25.723276  25.426540   \n",
              "\n",
              "                   h5         h6         h7         h8  ...        h14  \\\n",
              "Date                                                    ...              \n",
              "2015-01-05  48.631243  59.738275  68.982391  70.665136  ...  65.956961   \n",
              "2015-01-06  40.613125  46.673612  52.619035  54.346655  ...  37.060859   \n",
              "2015-01-07  11.588890  19.540403  24.801572  27.033876  ...  32.183776   \n",
              "2015-01-08  44.632480  58.655376  67.716193  75.410262  ...  67.183412   \n",
              "2015-01-09  27.976011  30.580189  32.744905  31.537329  ...  28.952147   \n",
              "\n",
              "                  h15        h16        h17        h18        h19        h20  \\\n",
              "Date                                                                           \n",
              "2015-01-05  68.530264  70.262717  64.592610  68.015008  62.081806  53.893415   \n",
              "2015-01-06  39.751742  44.693803  44.058805  42.892432  39.110551  35.908827   \n",
              "2015-01-07  37.500603  46.487046  49.063200  47.820410  43.998154  40.302034   \n",
              "2015-01-08  62.647594  61.068341  56.340652  49.242477  44.968372  39.227561   \n",
              "2015-01-09  34.815087  42.122917  45.336609  42.670484  38.020318  35.055658   \n",
              "\n",
              "                  h21        h22        h23  \n",
              "Date                                         \n",
              "2015-01-05  54.354808  45.187559  40.988686  \n",
              "2015-01-06  34.322179  27.511253  25.160083  \n",
              "2015-01-07  40.694414  34.887822  32.419050  \n",
              "2015-01-08  37.784033  34.687685  30.667673  \n",
              "2015-01-09  31.582450  25.311587  22.315885  \n",
              "\n",
              "[5 rows x 25 columns]"
            ],
            "text/html": [
              "\n",
              "  <div id=\"df-705a341a-9247-479c-9ead-32837a696749\">\n",
              "    <div class=\"colab-df-container\">\n",
              "      <div>\n",
              "<style scoped>\n",
              "    .dataframe tbody tr th:only-of-type {\n",
              "        vertical-align: middle;\n",
              "    }\n",
              "\n",
              "    .dataframe tbody tr th {\n",
              "        vertical-align: top;\n",
              "    }\n",
              "\n",
              "    .dataframe thead th {\n",
              "        text-align: right;\n",
              "    }\n",
              "</style>\n",
              "<table border=\"1\" class=\"dataframe\">\n",
              "  <thead>\n",
              "    <tr style=\"text-align: right;\">\n",
              "      <th></th>\n",
              "      <th>index</th>\n",
              "      <th>h0</th>\n",
              "      <th>h1</th>\n",
              "      <th>h2</th>\n",
              "      <th>h3</th>\n",
              "      <th>h4</th>\n",
              "      <th>h5</th>\n",
              "      <th>h6</th>\n",
              "      <th>h7</th>\n",
              "      <th>h8</th>\n",
              "      <th>...</th>\n",
              "      <th>h14</th>\n",
              "      <th>h15</th>\n",
              "      <th>h16</th>\n",
              "      <th>h17</th>\n",
              "      <th>h18</th>\n",
              "      <th>h19</th>\n",
              "      <th>h20</th>\n",
              "      <th>h21</th>\n",
              "      <th>h22</th>\n",
              "      <th>h23</th>\n",
              "    </tr>\n",
              "    <tr>\n",
              "      <th>Date</th>\n",
              "      <th></th>\n",
              "      <th></th>\n",
              "      <th></th>\n",
              "      <th></th>\n",
              "      <th></th>\n",
              "      <th></th>\n",
              "      <th></th>\n",
              "      <th></th>\n",
              "      <th></th>\n",
              "      <th></th>\n",
              "      <th></th>\n",
              "      <th></th>\n",
              "      <th></th>\n",
              "      <th></th>\n",
              "      <th></th>\n",
              "      <th></th>\n",
              "      <th></th>\n",
              "      <th></th>\n",
              "      <th></th>\n",
              "      <th></th>\n",
              "      <th></th>\n",
              "    </tr>\n",
              "  </thead>\n",
              "  <tbody>\n",
              "    <tr>\n",
              "      <th>2015-01-05</th>\n",
              "      <td>0</td>\n",
              "      <td>46.568490</td>\n",
              "      <td>42.995123</td>\n",
              "      <td>40.284090</td>\n",
              "      <td>41.281372</td>\n",
              "      <td>42.769975</td>\n",
              "      <td>48.631243</td>\n",
              "      <td>59.738275</td>\n",
              "      <td>68.982391</td>\n",
              "      <td>70.665136</td>\n",
              "      <td>...</td>\n",
              "      <td>65.956961</td>\n",
              "      <td>68.530264</td>\n",
              "      <td>70.262717</td>\n",
              "      <td>64.592610</td>\n",
              "      <td>68.015008</td>\n",
              "      <td>62.081806</td>\n",
              "      <td>53.893415</td>\n",
              "      <td>54.354808</td>\n",
              "      <td>45.187559</td>\n",
              "      <td>40.988686</td>\n",
              "    </tr>\n",
              "    <tr>\n",
              "      <th>2015-01-06</th>\n",
              "      <td>1</td>\n",
              "      <td>49.232449</td>\n",
              "      <td>45.891539</td>\n",
              "      <td>42.221738</td>\n",
              "      <td>39.319878</td>\n",
              "      <td>39.635293</td>\n",
              "      <td>40.613125</td>\n",
              "      <td>46.673612</td>\n",
              "      <td>52.619035</td>\n",
              "      <td>54.346655</td>\n",
              "      <td>...</td>\n",
              "      <td>37.060859</td>\n",
              "      <td>39.751742</td>\n",
              "      <td>44.693803</td>\n",
              "      <td>44.058805</td>\n",
              "      <td>42.892432</td>\n",
              "      <td>39.110551</td>\n",
              "      <td>35.908827</td>\n",
              "      <td>34.322179</td>\n",
              "      <td>27.511253</td>\n",
              "      <td>25.160083</td>\n",
              "    </tr>\n",
              "    <tr>\n",
              "      <th>2015-01-07</th>\n",
              "      <td>2</td>\n",
              "      <td>10.318326</td>\n",
              "      <td>8.978287</td>\n",
              "      <td>8.983570</td>\n",
              "      <td>10.914104</td>\n",
              "      <td>13.664986</td>\n",
              "      <td>11.588890</td>\n",
              "      <td>19.540403</td>\n",
              "      <td>24.801572</td>\n",
              "      <td>27.033876</td>\n",
              "      <td>...</td>\n",
              "      <td>32.183776</td>\n",
              "      <td>37.500603</td>\n",
              "      <td>46.487046</td>\n",
              "      <td>49.063200</td>\n",
              "      <td>47.820410</td>\n",
              "      <td>43.998154</td>\n",
              "      <td>40.302034</td>\n",
              "      <td>40.694414</td>\n",
              "      <td>34.887822</td>\n",
              "      <td>32.419050</td>\n",
              "    </tr>\n",
              "    <tr>\n",
              "      <th>2015-01-08</th>\n",
              "      <td>3</td>\n",
              "      <td>46.276746</td>\n",
              "      <td>46.118965</td>\n",
              "      <td>40.293061</td>\n",
              "      <td>39.335919</td>\n",
              "      <td>40.410901</td>\n",
              "      <td>44.632480</td>\n",
              "      <td>58.655376</td>\n",
              "      <td>67.716193</td>\n",
              "      <td>75.410262</td>\n",
              "      <td>...</td>\n",
              "      <td>67.183412</td>\n",
              "      <td>62.647594</td>\n",
              "      <td>61.068341</td>\n",
              "      <td>56.340652</td>\n",
              "      <td>49.242477</td>\n",
              "      <td>44.968372</td>\n",
              "      <td>39.227561</td>\n",
              "      <td>37.784033</td>\n",
              "      <td>34.687685</td>\n",
              "      <td>30.667673</td>\n",
              "    </tr>\n",
              "    <tr>\n",
              "      <th>2015-01-09</th>\n",
              "      <td>4</td>\n",
              "      <td>24.809524</td>\n",
              "      <td>23.955762</td>\n",
              "      <td>23.313370</td>\n",
              "      <td>25.723276</td>\n",
              "      <td>25.426540</td>\n",
              "      <td>27.976011</td>\n",
              "      <td>30.580189</td>\n",
              "      <td>32.744905</td>\n",
              "      <td>31.537329</td>\n",
              "      <td>...</td>\n",
              "      <td>28.952147</td>\n",
              "      <td>34.815087</td>\n",
              "      <td>42.122917</td>\n",
              "      <td>45.336609</td>\n",
              "      <td>42.670484</td>\n",
              "      <td>38.020318</td>\n",
              "      <td>35.055658</td>\n",
              "      <td>31.582450</td>\n",
              "      <td>25.311587</td>\n",
              "      <td>22.315885</td>\n",
              "    </tr>\n",
              "  </tbody>\n",
              "</table>\n",
              "<p>5 rows × 25 columns</p>\n",
              "</div>\n",
              "      <button class=\"colab-df-convert\" onclick=\"convertToInteractive('df-705a341a-9247-479c-9ead-32837a696749')\"\n",
              "              title=\"Convert this dataframe to an interactive table.\"\n",
              "              style=\"display:none;\">\n",
              "        \n",
              "  <svg xmlns=\"http://www.w3.org/2000/svg\" height=\"24px\"viewBox=\"0 0 24 24\"\n",
              "       width=\"24px\">\n",
              "    <path d=\"M0 0h24v24H0V0z\" fill=\"none\"/>\n",
              "    <path d=\"M18.56 5.44l.94 2.06.94-2.06 2.06-.94-2.06-.94-.94-2.06-.94 2.06-2.06.94zm-11 1L8.5 8.5l.94-2.06 2.06-.94-2.06-.94L8.5 2.5l-.94 2.06-2.06.94zm10 10l.94 2.06.94-2.06 2.06-.94-2.06-.94-.94-2.06-.94 2.06-2.06.94z\"/><path d=\"M17.41 7.96l-1.37-1.37c-.4-.4-.92-.59-1.43-.59-.52 0-1.04.2-1.43.59L10.3 9.45l-7.72 7.72c-.78.78-.78 2.05 0 2.83L4 21.41c.39.39.9.59 1.41.59.51 0 1.02-.2 1.41-.59l7.78-7.78 2.81-2.81c.8-.78.8-2.07 0-2.86zM5.41 20L4 18.59l7.72-7.72 1.47 1.35L5.41 20z\"/>\n",
              "  </svg>\n",
              "      </button>\n",
              "      \n",
              "  <style>\n",
              "    .colab-df-container {\n",
              "      display:flex;\n",
              "      flex-wrap:wrap;\n",
              "      gap: 12px;\n",
              "    }\n",
              "\n",
              "    .colab-df-convert {\n",
              "      background-color: #E8F0FE;\n",
              "      border: none;\n",
              "      border-radius: 50%;\n",
              "      cursor: pointer;\n",
              "      display: none;\n",
              "      fill: #1967D2;\n",
              "      height: 32px;\n",
              "      padding: 0 0 0 0;\n",
              "      width: 32px;\n",
              "    }\n",
              "\n",
              "    .colab-df-convert:hover {\n",
              "      background-color: #E2EBFA;\n",
              "      box-shadow: 0px 1px 2px rgba(60, 64, 67, 0.3), 0px 1px 3px 1px rgba(60, 64, 67, 0.15);\n",
              "      fill: #174EA6;\n",
              "    }\n",
              "\n",
              "    [theme=dark] .colab-df-convert {\n",
              "      background-color: #3B4455;\n",
              "      fill: #D2E3FC;\n",
              "    }\n",
              "\n",
              "    [theme=dark] .colab-df-convert:hover {\n",
              "      background-color: #434B5C;\n",
              "      box-shadow: 0px 1px 3px 1px rgba(0, 0, 0, 0.15);\n",
              "      filter: drop-shadow(0px 1px 2px rgba(0, 0, 0, 0.3));\n",
              "      fill: #FFFFFF;\n",
              "    }\n",
              "  </style>\n",
              "\n",
              "      <script>\n",
              "        const buttonEl =\n",
              "          document.querySelector('#df-705a341a-9247-479c-9ead-32837a696749 button.colab-df-convert');\n",
              "        buttonEl.style.display =\n",
              "          google.colab.kernel.accessAllowed ? 'block' : 'none';\n",
              "\n",
              "        async function convertToInteractive(key) {\n",
              "          const element = document.querySelector('#df-705a341a-9247-479c-9ead-32837a696749');\n",
              "          const dataTable =\n",
              "            await google.colab.kernel.invokeFunction('convertToInteractive',\n",
              "                                                     [key], {});\n",
              "          if (!dataTable) return;\n",
              "\n",
              "          const docLinkHtml = 'Like what you see? Visit the ' +\n",
              "            '<a target=\"_blank\" href=https://colab.research.google.com/notebooks/data_table.ipynb>data table notebook</a>'\n",
              "            + ' to learn more about interactive tables.';\n",
              "          element.innerHTML = '';\n",
              "          dataTable['output_type'] = 'display_data';\n",
              "          await google.colab.output.renderOutput(dataTable, element);\n",
              "          const docLink = document.createElement('div');\n",
              "          docLink.innerHTML = docLinkHtml;\n",
              "          element.appendChild(docLink);\n",
              "        }\n",
              "      </script>\n",
              "    </div>\n",
              "  </div>\n",
              "  "
            ]
          },
          "metadata": {},
          "execution_count": 67
        }
      ],
      "source": [
        "#Download available forecast\n",
        "import pandas as pd\n",
        "import numpy as np\n",
        "forecast = pd.read_csv('/content/epftoolbox/experimental_files/LEAR_forecast_datEPF_YT2.0195_CW1456.csv')\n",
        "forecast.reset_index(inplace=True)\n",
        "forecast['Date'] = pd.to_datetime(forecast['Date'])\n",
        "forecast = forecast.set_index('Date')\n",
        "forecast.head()"
      ]
    },
    {
      "cell_type": "code",
      "execution_count": null,
      "metadata": {
        "colab": {
          "base_uri": "https://localhost:8080/"
        },
        "id": "ggGuqXfE9cjg",
        "outputId": "61e67cbb-7f61-4c86-d398-de1273493bdc"
      },
      "outputs": [
        {
          "output_type": "stream",
          "name": "stdout",
          "text": [
            "Date           \n",
            "2015-01-05  h1     42.995123\n",
            "            h2     40.284090\n",
            "            h3     41.281372\n",
            "            h4     42.769975\n",
            "            h5     48.631243\n",
            "                     ...    \n",
            "2017-01-08  h19    54.935606\n",
            "            h20    52.303738\n",
            "            h21    54.075753\n",
            "            h22    51.737942\n",
            "            h23    47.410246\n",
            "Length: 16905, dtype: float64\n"
          ]
        }
      ],
      "source": [
        "forecast=forecast.iloc[:, 2:] \n",
        "df=forecast.stack()\n",
        "df.to_excel(\"forecast_LEAR_2.xlsx\", header=True)\n",
        "print(df)"
      ]
    },
    {
      "cell_type": "code",
      "execution_count": null,
      "metadata": {
        "id": "XUmBT0_M-MpM"
      },
      "outputs": [],
      "source": [
        "df=forecast.stack()"
      ]
    },
    {
      "cell_type": "code",
      "execution_count": null,
      "metadata": {
        "colab": {
          "base_uri": "https://localhost:8080/"
        },
        "id": "CrDU-DEm-QHW",
        "outputId": "b8979f59-b3b8-4d7c-bd5b-61cf2db6bdc5"
      },
      "outputs": [
        {
          "output_type": "execute_result",
          "data": {
            "text/plain": [
              "Date           \n",
              "2015-01-05  h1     42.995123\n",
              "            h2     40.284090\n",
              "            h3     41.281372\n",
              "            h4     42.769975\n",
              "            h5     48.631243\n",
              "                     ...    \n",
              "2017-01-08  h19    54.935606\n",
              "            h20    52.303738\n",
              "            h21    54.075753\n",
              "            h22    51.737942\n",
              "            h23    47.410246\n",
              "Length: 16905, dtype: float64"
            ]
          },
          "metadata": {},
          "execution_count": 70
        }
      ],
      "source": [
        "df"
      ]
    },
    {
      "cell_type": "code",
      "execution_count": null,
      "metadata": {
        "id": "v63Rjcho-UtE"
      },
      "outputs": [],
      "source": [
        "\n",
        "df.to_excel(\"forecast_LEAR_2.xlsx\", header=True)"
      ]
    }
  ],
  "metadata": {
    "colab": {
      "provenance": [],
      "authorship_tag": "ABX9TyME5EM/jz8dnISbB9rzc+ak",
      "include_colab_link": true
    },
    "kernelspec": {
      "display_name": "Python 3",
      "name": "python3"
    },
    "language_info": {
      "name": "python"
    }
  },
  "nbformat": 4,
  "nbformat_minor": 0
}