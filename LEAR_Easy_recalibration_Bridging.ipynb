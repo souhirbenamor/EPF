{
  "cells": [
    {
      "cell_type": "markdown",
      "metadata": {
        "id": "view-in-github",
        "colab_type": "text"
      },
      "source": [
        "<a href=\"https://colab.research.google.com/github/souhirbenamor/EPF/blob/main/LEAR_Easy_recalibration_Bridging.ipynb\" target=\"_parent\"><img src=\"https://colab.research.google.com/assets/colab-badge.svg\" alt=\"Open In Colab\"/></a>"
      ]
    },
    {
      "cell_type": "code",
      "execution_count": null,
      "metadata": {
        "id": "QE_wGMpGrNPS"
      },
      "outputs": [],
      "source": [
        "import numpy as np\n",
        "import matplotlib.pyplot as plt\n",
        "import pandas as pd"
      ]
    },
    {
      "cell_type": "code",
      "execution_count": null,
      "metadata": {
        "colab": {
          "base_uri": "https://localhost:8080/"
        },
        "id": "xFuqSx89rsUU",
        "outputId": "708f6858-bc29-490d-ca50-314464c8715f"
      },
      "outputs": [
        {
          "name": "stdout",
          "output_type": "stream",
          "text": [
            "Looking in indexes: https://pypi.org/simple, https://us-python.pkg.dev/colab-wheels/public/simple/\n",
            "Collecting gitpython\n",
            "  Downloading GitPython-3.1.29-py3-none-any.whl (182 kB)\n",
            "\u001b[K     |████████████████████████████████| 182 kB 5.1 MB/s \n",
            "\u001b[?25hRequirement already satisfied: typing-extensions>=3.7.4.3 in /usr/local/lib/python3.7/dist-packages (from gitpython) (4.1.1)\n",
            "Collecting gitdb<5,>=4.0.1\n",
            "  Downloading gitdb-4.0.9-py3-none-any.whl (63 kB)\n",
            "\u001b[K     |████████████████████████████████| 63 kB 1.7 MB/s \n",
            "\u001b[?25hCollecting smmap<6,>=3.0.1\n",
            "  Downloading smmap-5.0.0-py3-none-any.whl (24 kB)\n",
            "Installing collected packages: smmap, gitdb, gitpython\n",
            "Successfully installed gitdb-4.0.9 gitpython-3.1.29 smmap-5.0.0\n"
          ]
        }
      ],
      "source": [
        "!pip install gitpython"
      ]
    },
    {
      "cell_type": "code",
      "execution_count": null,
      "metadata": {
        "colab": {
          "base_uri": "https://localhost:8080/"
        },
        "id": "tMYGqP7erTVy",
        "outputId": "280286e4-92f7-46fc-b213-81abb0bfce23"
      },
      "outputs": [
        {
          "data": {
            "text/plain": [
              "<git.repo.base.Repo '/content/epftoolbox/.git'>"
            ]
          },
          "execution_count": 3,
          "metadata": {},
          "output_type": "execute_result"
        }
      ],
      "source": [
        "import os\n",
        "from git.repo.base import Repo\n",
        "Repo.clone_from(\"https://github.com/jeslago/epftoolbox\", \"epftoolbox\")"
      ]
    },
    {
      "cell_type": "code",
      "execution_count": null,
      "metadata": {
        "colab": {
          "base_uri": "https://localhost:8080/"
        },
        "id": "pXaBf9fFrgCE",
        "outputId": "f6b5b1bb-c189-4feb-bb6e-c8bfccf141b9"
      },
      "outputs": [
        {
          "name": "stdout",
          "output_type": "stream",
          "text": [
            "/content/epftoolbox\n"
          ]
        }
      ],
      "source": [
        "cd epftoolbox"
      ]
    },
    {
      "cell_type": "code",
      "execution_count": null,
      "metadata": {
        "id": "hRIDy0HMr_VD"
      },
      "outputs": [],
      "source": [
        "#from epftoolbox.data import read_data\n",
        "#df_train, df_test = read_data(path='.', dataset='EPF_data', begin_test_date='28-12-2015',end_test_date='31-12-2016')"
      ]
    },
    {
      "cell_type": "code",
      "execution_count": null,
      "metadata": {
        "colab": {
          "base_uri": "https://localhost:8080/",
          "height": 455
        },
        "id": "NeO7OlCl3jlP",
        "outputId": "9a4869b4-8974-40c1-d0c6-5099ac1c266c"
      },
      "outputs": [
        {
          "data": {
            "text/html": [
              "\n",
              "  <div id=\"df-5af690be-bb59-4299-a808-cbdec1622df4\">\n",
              "    <div class=\"colab-df-container\">\n",
              "      <div>\n",
              "<style scoped>\n",
              "    .dataframe tbody tr th:only-of-type {\n",
              "        vertical-align: middle;\n",
              "    }\n",
              "\n",
              "    .dataframe tbody tr th {\n",
              "        vertical-align: top;\n",
              "    }\n",
              "\n",
              "    .dataframe thead th {\n",
              "        text-align: right;\n",
              "    }\n",
              "</style>\n",
              "<table border=\"1\" class=\"dataframe\">\n",
              "  <thead>\n",
              "    <tr style=\"text-align: right;\">\n",
              "      <th></th>\n",
              "      <th>Price</th>\n",
              "      <th>Exogenous 1</th>\n",
              "      <th>Exogenous 2</th>\n",
              "    </tr>\n",
              "    <tr>\n",
              "      <th>Date</th>\n",
              "      <th></th>\n",
              "      <th></th>\n",
              "      <th></th>\n",
              "    </tr>\n",
              "  </thead>\n",
              "  <tbody>\n",
              "    <tr>\n",
              "      <th>2011-01-09 00:00:00</th>\n",
              "      <td>18.29</td>\n",
              "      <td>40242</td>\n",
              "      <td>8280.0</td>\n",
              "    </tr>\n",
              "    <tr>\n",
              "      <th>2011-01-09 01:00:00</th>\n",
              "      <td>16.04</td>\n",
              "      <td>39159</td>\n",
              "      <td>8413.0</td>\n",
              "    </tr>\n",
              "    <tr>\n",
              "      <th>2011-01-09 02:00:00</th>\n",
              "      <td>14.60</td>\n",
              "      <td>38825</td>\n",
              "      <td>8502.0</td>\n",
              "    </tr>\n",
              "    <tr>\n",
              "      <th>2011-01-09 03:00:00</th>\n",
              "      <td>14.95</td>\n",
              "      <td>38969</td>\n",
              "      <td>8669.0</td>\n",
              "    </tr>\n",
              "    <tr>\n",
              "      <th>2011-01-09 04:00:00</th>\n",
              "      <td>14.50</td>\n",
              "      <td>39093</td>\n",
              "      <td>8849.0</td>\n",
              "    </tr>\n",
              "    <tr>\n",
              "      <th>...</th>\n",
              "      <td>...</td>\n",
              "      <td>...</td>\n",
              "      <td>...</td>\n",
              "    </tr>\n",
              "    <tr>\n",
              "      <th>2015-12-27 19:00:00</th>\n",
              "      <td>35.69</td>\n",
              "      <td>65864</td>\n",
              "      <td>23686.0</td>\n",
              "    </tr>\n",
              "    <tr>\n",
              "      <th>2015-12-27 20:00:00</th>\n",
              "      <td>35.09</td>\n",
              "      <td>62098</td>\n",
              "      <td>23236.0</td>\n",
              "    </tr>\n",
              "    <tr>\n",
              "      <th>2015-12-27 21:00:00</th>\n",
              "      <td>32.95</td>\n",
              "      <td>59293</td>\n",
              "      <td>22718.0</td>\n",
              "    </tr>\n",
              "    <tr>\n",
              "      <th>2015-12-27 22:00:00</th>\n",
              "      <td>27.22</td>\n",
              "      <td>55256</td>\n",
              "      <td>22390.0</td>\n",
              "    </tr>\n",
              "    <tr>\n",
              "      <th>2015-12-27 23:00:00</th>\n",
              "      <td>26.56</td>\n",
              "      <td>50849</td>\n",
              "      <td>22086.0</td>\n",
              "    </tr>\n",
              "  </tbody>\n",
              "</table>\n",
              "<p>43536 rows × 3 columns</p>\n",
              "</div>\n",
              "      <button class=\"colab-df-convert\" onclick=\"convertToInteractive('df-5af690be-bb59-4299-a808-cbdec1622df4')\"\n",
              "              title=\"Convert this dataframe to an interactive table.\"\n",
              "              style=\"display:none;\">\n",
              "        \n",
              "  <svg xmlns=\"http://www.w3.org/2000/svg\" height=\"24px\"viewBox=\"0 0 24 24\"\n",
              "       width=\"24px\">\n",
              "    <path d=\"M0 0h24v24H0V0z\" fill=\"none\"/>\n",
              "    <path d=\"M18.56 5.44l.94 2.06.94-2.06 2.06-.94-2.06-.94-.94-2.06-.94 2.06-2.06.94zm-11 1L8.5 8.5l.94-2.06 2.06-.94-2.06-.94L8.5 2.5l-.94 2.06-2.06.94zm10 10l.94 2.06.94-2.06 2.06-.94-2.06-.94-.94-2.06-.94 2.06-2.06.94z\"/><path d=\"M17.41 7.96l-1.37-1.37c-.4-.4-.92-.59-1.43-.59-.52 0-1.04.2-1.43.59L10.3 9.45l-7.72 7.72c-.78.78-.78 2.05 0 2.83L4 21.41c.39.39.9.59 1.41.59.51 0 1.02-.2 1.41-.59l7.78-7.78 2.81-2.81c.8-.78.8-2.07 0-2.86zM5.41 20L4 18.59l7.72-7.72 1.47 1.35L5.41 20z\"/>\n",
              "  </svg>\n",
              "      </button>\n",
              "      \n",
              "  <style>\n",
              "    .colab-df-container {\n",
              "      display:flex;\n",
              "      flex-wrap:wrap;\n",
              "      gap: 12px;\n",
              "    }\n",
              "\n",
              "    .colab-df-convert {\n",
              "      background-color: #E8F0FE;\n",
              "      border: none;\n",
              "      border-radius: 50%;\n",
              "      cursor: pointer;\n",
              "      display: none;\n",
              "      fill: #1967D2;\n",
              "      height: 32px;\n",
              "      padding: 0 0 0 0;\n",
              "      width: 32px;\n",
              "    }\n",
              "\n",
              "    .colab-df-convert:hover {\n",
              "      background-color: #E2EBFA;\n",
              "      box-shadow: 0px 1px 2px rgba(60, 64, 67, 0.3), 0px 1px 3px 1px rgba(60, 64, 67, 0.15);\n",
              "      fill: #174EA6;\n",
              "    }\n",
              "\n",
              "    [theme=dark] .colab-df-convert {\n",
              "      background-color: #3B4455;\n",
              "      fill: #D2E3FC;\n",
              "    }\n",
              "\n",
              "    [theme=dark] .colab-df-convert:hover {\n",
              "      background-color: #434B5C;\n",
              "      box-shadow: 0px 1px 3px 1px rgba(0, 0, 0, 0.15);\n",
              "      filter: drop-shadow(0px 1px 2px rgba(0, 0, 0, 0.3));\n",
              "      fill: #FFFFFF;\n",
              "    }\n",
              "  </style>\n",
              "\n",
              "      <script>\n",
              "        const buttonEl =\n",
              "          document.querySelector('#df-5af690be-bb59-4299-a808-cbdec1622df4 button.colab-df-convert');\n",
              "        buttonEl.style.display =\n",
              "          google.colab.kernel.accessAllowed ? 'block' : 'none';\n",
              "\n",
              "        async function convertToInteractive(key) {\n",
              "          const element = document.querySelector('#df-5af690be-bb59-4299-a808-cbdec1622df4');\n",
              "          const dataTable =\n",
              "            await google.colab.kernel.invokeFunction('convertToInteractive',\n",
              "                                                     [key], {});\n",
              "          if (!dataTable) return;\n",
              "\n",
              "          const docLinkHtml = 'Like what you see? Visit the ' +\n",
              "            '<a target=\"_blank\" href=https://colab.research.google.com/notebooks/data_table.ipynb>data table notebook</a>'\n",
              "            + ' to learn more about interactive tables.';\n",
              "          element.innerHTML = '';\n",
              "          dataTable['output_type'] = 'display_data';\n",
              "          await google.colab.output.renderOutput(dataTable, element);\n",
              "          const docLink = document.createElement('div');\n",
              "          docLink.innerHTML = docLinkHtml;\n",
              "          element.appendChild(docLink);\n",
              "        }\n",
              "      </script>\n",
              "    </div>\n",
              "  </div>\n",
              "  "
            ],
            "text/plain": [
              "                     Price  Exogenous 1  Exogenous 2\n",
              "Date                                                \n",
              "2011-01-09 00:00:00  18.29        40242       8280.0\n",
              "2011-01-09 01:00:00  16.04        39159       8413.0\n",
              "2011-01-09 02:00:00  14.60        38825       8502.0\n",
              "2011-01-09 03:00:00  14.95        38969       8669.0\n",
              "2011-01-09 04:00:00  14.50        39093       8849.0\n",
              "...                    ...          ...          ...\n",
              "2015-12-27 19:00:00  35.69        65864      23686.0\n",
              "2015-12-27 20:00:00  35.09        62098      23236.0\n",
              "2015-12-27 21:00:00  32.95        59293      22718.0\n",
              "2015-12-27 22:00:00  27.22        55256      22390.0\n",
              "2015-12-27 23:00:00  26.56        50849      22086.0\n",
              "\n",
              "[43536 rows x 3 columns]"
            ]
          },
          "execution_count": 8,
          "metadata": {},
          "output_type": "execute_result"
        }
      ],
      "source": [
        "#df_train"
      ]
    },
    {
      "cell_type": "code",
      "execution_count": null,
      "metadata": {
        "colab": {
          "base_uri": "https://localhost:8080/",
          "height": 455
        },
        "id": "GqlPm2Wx3ryO",
        "outputId": "7f30852e-5a02-4b3e-9d7f-41631ac41c84"
      },
      "outputs": [
        {
          "data": {
            "text/html": [
              "\n",
              "  <div id=\"df-7c4064b2-a356-4f98-a7f7-8dedb4d44c00\">\n",
              "    <div class=\"colab-df-container\">\n",
              "      <div>\n",
              "<style scoped>\n",
              "    .dataframe tbody tr th:only-of-type {\n",
              "        vertical-align: middle;\n",
              "    }\n",
              "\n",
              "    .dataframe tbody tr th {\n",
              "        vertical-align: top;\n",
              "    }\n",
              "\n",
              "    .dataframe thead th {\n",
              "        text-align: right;\n",
              "    }\n",
              "</style>\n",
              "<table border=\"1\" class=\"dataframe\">\n",
              "  <thead>\n",
              "    <tr style=\"text-align: right;\">\n",
              "      <th></th>\n",
              "      <th>Price</th>\n",
              "      <th>Exogenous 1</th>\n",
              "      <th>Exogenous 2</th>\n",
              "    </tr>\n",
              "    <tr>\n",
              "      <th>Date</th>\n",
              "      <th></th>\n",
              "      <th></th>\n",
              "      <th></th>\n",
              "    </tr>\n",
              "  </thead>\n",
              "  <tbody>\n",
              "    <tr>\n",
              "      <th>2015-12-28 00:00:00</th>\n",
              "      <td>25.95</td>\n",
              "      <td>47965</td>\n",
              "      <td>21729.00</td>\n",
              "    </tr>\n",
              "    <tr>\n",
              "      <th>2015-12-28 01:00:00</th>\n",
              "      <td>23.30</td>\n",
              "      <td>47262</td>\n",
              "      <td>21491.00</td>\n",
              "    </tr>\n",
              "    <tr>\n",
              "      <th>2015-12-28 02:00:00</th>\n",
              "      <td>19.01</td>\n",
              "      <td>47679</td>\n",
              "      <td>21549.00</td>\n",
              "    </tr>\n",
              "    <tr>\n",
              "      <th>2015-12-28 03:00:00</th>\n",
              "      <td>24.59</td>\n",
              "      <td>48870</td>\n",
              "      <td>22197.00</td>\n",
              "    </tr>\n",
              "    <tr>\n",
              "      <th>2015-12-28 04:00:00</th>\n",
              "      <td>25.03</td>\n",
              "      <td>52302</td>\n",
              "      <td>23355.00</td>\n",
              "    </tr>\n",
              "    <tr>\n",
              "      <th>...</th>\n",
              "      <td>...</td>\n",
              "      <td>...</td>\n",
              "      <td>...</td>\n",
              "    </tr>\n",
              "    <tr>\n",
              "      <th>2016-12-31 19:00:00</th>\n",
              "      <td>40.25</td>\n",
              "      <td>59627</td>\n",
              "      <td>19911.50</td>\n",
              "    </tr>\n",
              "    <tr>\n",
              "      <th>2016-12-31 20:00:00</th>\n",
              "      <td>33.15</td>\n",
              "      <td>56876</td>\n",
              "      <td>20879.50</td>\n",
              "    </tr>\n",
              "    <tr>\n",
              "      <th>2016-12-31 21:00:00</th>\n",
              "      <td>30.39</td>\n",
              "      <td>54637</td>\n",
              "      <td>21307.75</td>\n",
              "    </tr>\n",
              "    <tr>\n",
              "      <th>2016-12-31 22:00:00</th>\n",
              "      <td>25.85</td>\n",
              "      <td>50930</td>\n",
              "      <td>21778.25</td>\n",
              "    </tr>\n",
              "    <tr>\n",
              "      <th>2016-12-31 23:00:00</th>\n",
              "      <td>1.59</td>\n",
              "      <td>45437</td>\n",
              "      <td>27305.00</td>\n",
              "    </tr>\n",
              "  </tbody>\n",
              "</table>\n",
              "<p>8880 rows × 3 columns</p>\n",
              "</div>\n",
              "      <button class=\"colab-df-convert\" onclick=\"convertToInteractive('df-7c4064b2-a356-4f98-a7f7-8dedb4d44c00')\"\n",
              "              title=\"Convert this dataframe to an interactive table.\"\n",
              "              style=\"display:none;\">\n",
              "        \n",
              "  <svg xmlns=\"http://www.w3.org/2000/svg\" height=\"24px\"viewBox=\"0 0 24 24\"\n",
              "       width=\"24px\">\n",
              "    <path d=\"M0 0h24v24H0V0z\" fill=\"none\"/>\n",
              "    <path d=\"M18.56 5.44l.94 2.06.94-2.06 2.06-.94-2.06-.94-.94-2.06-.94 2.06-2.06.94zm-11 1L8.5 8.5l.94-2.06 2.06-.94-2.06-.94L8.5 2.5l-.94 2.06-2.06.94zm10 10l.94 2.06.94-2.06 2.06-.94-2.06-.94-.94-2.06-.94 2.06-2.06.94z\"/><path d=\"M17.41 7.96l-1.37-1.37c-.4-.4-.92-.59-1.43-.59-.52 0-1.04.2-1.43.59L10.3 9.45l-7.72 7.72c-.78.78-.78 2.05 0 2.83L4 21.41c.39.39.9.59 1.41.59.51 0 1.02-.2 1.41-.59l7.78-7.78 2.81-2.81c.8-.78.8-2.07 0-2.86zM5.41 20L4 18.59l7.72-7.72 1.47 1.35L5.41 20z\"/>\n",
              "  </svg>\n",
              "      </button>\n",
              "      \n",
              "  <style>\n",
              "    .colab-df-container {\n",
              "      display:flex;\n",
              "      flex-wrap:wrap;\n",
              "      gap: 12px;\n",
              "    }\n",
              "\n",
              "    .colab-df-convert {\n",
              "      background-color: #E8F0FE;\n",
              "      border: none;\n",
              "      border-radius: 50%;\n",
              "      cursor: pointer;\n",
              "      display: none;\n",
              "      fill: #1967D2;\n",
              "      height: 32px;\n",
              "      padding: 0 0 0 0;\n",
              "      width: 32px;\n",
              "    }\n",
              "\n",
              "    .colab-df-convert:hover {\n",
              "      background-color: #E2EBFA;\n",
              "      box-shadow: 0px 1px 2px rgba(60, 64, 67, 0.3), 0px 1px 3px 1px rgba(60, 64, 67, 0.15);\n",
              "      fill: #174EA6;\n",
              "    }\n",
              "\n",
              "    [theme=dark] .colab-df-convert {\n",
              "      background-color: #3B4455;\n",
              "      fill: #D2E3FC;\n",
              "    }\n",
              "\n",
              "    [theme=dark] .colab-df-convert:hover {\n",
              "      background-color: #434B5C;\n",
              "      box-shadow: 0px 1px 3px 1px rgba(0, 0, 0, 0.15);\n",
              "      filter: drop-shadow(0px 1px 2px rgba(0, 0, 0, 0.3));\n",
              "      fill: #FFFFFF;\n",
              "    }\n",
              "  </style>\n",
              "\n",
              "      <script>\n",
              "        const buttonEl =\n",
              "          document.querySelector('#df-7c4064b2-a356-4f98-a7f7-8dedb4d44c00 button.colab-df-convert');\n",
              "        buttonEl.style.display =\n",
              "          google.colab.kernel.accessAllowed ? 'block' : 'none';\n",
              "\n",
              "        async function convertToInteractive(key) {\n",
              "          const element = document.querySelector('#df-7c4064b2-a356-4f98-a7f7-8dedb4d44c00');\n",
              "          const dataTable =\n",
              "            await google.colab.kernel.invokeFunction('convertToInteractive',\n",
              "                                                     [key], {});\n",
              "          if (!dataTable) return;\n",
              "\n",
              "          const docLinkHtml = 'Like what you see? Visit the ' +\n",
              "            '<a target=\"_blank\" href=https://colab.research.google.com/notebooks/data_table.ipynb>data table notebook</a>'\n",
              "            + ' to learn more about interactive tables.';\n",
              "          element.innerHTML = '';\n",
              "          dataTable['output_type'] = 'display_data';\n",
              "          await google.colab.output.renderOutput(dataTable, element);\n",
              "          const docLink = document.createElement('div');\n",
              "          docLink.innerHTML = docLinkHtml;\n",
              "          element.appendChild(docLink);\n",
              "        }\n",
              "      </script>\n",
              "    </div>\n",
              "  </div>\n",
              "  "
            ],
            "text/plain": [
              "                     Price  Exogenous 1  Exogenous 2\n",
              "Date                                                \n",
              "2015-12-28 00:00:00  25.95        47965     21729.00\n",
              "2015-12-28 01:00:00  23.30        47262     21491.00\n",
              "2015-12-28 02:00:00  19.01        47679     21549.00\n",
              "2015-12-28 03:00:00  24.59        48870     22197.00\n",
              "2015-12-28 04:00:00  25.03        52302     23355.00\n",
              "...                    ...          ...          ...\n",
              "2016-12-31 19:00:00  40.25        59627     19911.50\n",
              "2016-12-31 20:00:00  33.15        56876     20879.50\n",
              "2016-12-31 21:00:00  30.39        54637     21307.75\n",
              "2016-12-31 22:00:00  25.85        50930     21778.25\n",
              "2016-12-31 23:00:00   1.59        45437     27305.00\n",
              "\n",
              "[8880 rows x 3 columns]"
            ]
          },
          "execution_count": 9,
          "metadata": {},
          "output_type": "execute_result"
        }
      ],
      "source": [
        "#df_test"
      ]
    },
    {
      "cell_type": "code",
      "execution_count": null,
      "metadata": {
        "colab": {
          "base_uri": "https://localhost:8080/"
        },
        "id": "YqK5ZL0a3vcE",
        "outputId": "b8dbd6f0-f223-4d66-a917-ed93374bc1a1"
      },
      "outputs": [
        {
          "data": {
            "text/plain": [
              "array([[1.8290e+01, 4.0242e+04, 8.2800e+03],\n",
              "       [1.6040e+01, 3.9159e+04, 8.4130e+03],\n",
              "       [1.4600e+01, 3.8825e+04, 8.5020e+03]])"
            ]
          },
          "execution_count": 10,
          "metadata": {},
          "output_type": "execute_result"
        }
      ],
      "source": [
        "#from epftoolbox.data import DataScaler\n",
        "#Xtrain = df_train.values\n",
        "#Xtest = df_train.values\n",
        "#scaler = DataScaler('Norm')\n",
        "#Xtrain_scaled = scaler.fit_transform(Xtrain)\n",
        "#Xtest_scaled = scaler.transform(Xtest)\n",
        "#Xtrain_inverse = scaler.inverse_transform(Xtrain_scaled)\n",
        "#Xtest_inverse = scaler.inverse_transform(Xtest_scaled)\n",
        "#Xtrain[:3,:]"
      ]
    },
    {
      "cell_type": "code",
      "execution_count": null,
      "metadata": {
        "colab": {
          "base_uri": "https://localhost:8080/"
        },
        "id": "xsL94r8s7VT_",
        "outputId": "340d06a3-e06b-4480-e224-71af0cefeafc"
      },
      "outputs": [
        {
          "data": {
            "text/plain": [
              "array([[0.50536426, 0.22711934, 0.13419524],\n",
              "       [0.49770103, 0.20483539, 0.13649405],\n",
              "       [0.49279657, 0.19796296, 0.13803236]])"
            ]
          },
          "execution_count": 11,
          "metadata": {},
          "output_type": "execute_result"
        }
      ],
      "source": [
        "#Xtrain_scaled[:3,:]"
      ]
    },
    {
      "cell_type": "code",
      "execution_count": null,
      "metadata": {
        "colab": {
          "base_uri": "https://localhost:8080/"
        },
        "id": "pTTD4kTE7Wow",
        "outputId": "54c6d794-fa1a-41fe-b271-9d921ecc259b"
      },
      "outputs": [
        {
          "data": {
            "text/plain": [
              "array([[1.8290e+01, 4.0242e+04, 8.2800e+03],\n",
              "       [1.6040e+01, 3.9159e+04, 8.4130e+03],\n",
              "       [1.4600e+01, 3.8825e+04, 8.5020e+03]])"
            ]
          },
          "execution_count": 12,
          "metadata": {},
          "output_type": "execute_result"
        }
      ],
      "source": [
        "#Xtrain_inverse[:3,:]"
      ]
    },
    {
      "cell_type": "code",
      "execution_count": null,
      "metadata": {
        "colab": {
          "base_uri": "https://localhost:8080/"
        },
        "id": "9ZrE8Bp07Zgk",
        "outputId": "ec346a47-14a2-407d-d273-b6563b1bf824"
      },
      "outputs": [
        {
          "data": {
            "text/plain": [
              "array([[1.8290e+01, 4.0242e+04, 8.2800e+03],\n",
              "       [1.6040e+01, 3.9159e+04, 8.4130e+03],\n",
              "       [1.4600e+01, 3.8825e+04, 8.5020e+03]])"
            ]
          },
          "execution_count": 13,
          "metadata": {},
          "output_type": "execute_result"
        }
      ],
      "source": [
        " #Xtest[:3,:]"
      ]
    },
    {
      "cell_type": "code",
      "execution_count": null,
      "metadata": {
        "colab": {
          "base_uri": "https://localhost:8080/"
        },
        "id": "qmTKy45-7cl_",
        "outputId": "31035d22-c09e-4a7a-dbda-5649fff516d6"
      },
      "outputs": [
        {
          "data": {
            "text/plain": [
              "array([[0.50536426, 0.22711934, 0.13419524],\n",
              "       [0.49770103, 0.20483539, 0.13649405],\n",
              "       [0.49279657, 0.19796296, 0.13803236]])"
            ]
          },
          "execution_count": 14,
          "metadata": {},
          "output_type": "execute_result"
        }
      ],
      "source": [
        "#Xtest_scaled[:3,:]"
      ]
    },
    {
      "cell_type": "code",
      "execution_count": null,
      "metadata": {
        "colab": {
          "base_uri": "https://localhost:8080/"
        },
        "id": "sKrf1XrR7iko",
        "outputId": "0d34bc9d-060c-4aba-ec32-e17f417ff6b3"
      },
      "outputs": [
        {
          "data": {
            "text/plain": [
              "array([[1.8290e+01, 4.0242e+04, 8.2800e+03],\n",
              "       [1.6040e+01, 3.9159e+04, 8.4130e+03],\n",
              "       [1.4600e+01, 3.8825e+04, 8.5020e+03]])"
            ]
          },
          "execution_count": 15,
          "metadata": {},
          "output_type": "execute_result"
        }
      ],
      "source": [
        "#Xtest_inverse[:3,:]"
      ]
    },
    {
      "cell_type": "code",
      "execution_count": null,
      "metadata": {
        "colab": {
          "base_uri": "https://localhost:8080/"
        },
        "id": "nvtyOWKe-Fcu",
        "outputId": "f622656e-4daa-4166-f824-511172fbf938"
      },
      "outputs": [
        {
          "data": {
            "text/plain": [
              "array([[1.8290e+01, 4.0242e+04, 8.2800e+03],\n",
              "       [1.6040e+01, 3.9159e+04, 8.4130e+03],\n",
              "       [1.4600e+01, 3.8825e+04, 8.5020e+03]])"
            ]
          },
          "execution_count": 16,
          "metadata": {},
          "output_type": "execute_result"
        }
      ],
      "source": [
        "#from epftoolbox.data import scaling\n",
        "#Xtrain = df_train.values\n",
        "#Xtest = df_train.values\n",
        "#[Xtrain_scaled, Xtest_scaled], scaler = scaling([Xtrain,Xtest],'Norm')\n",
        "#Xtrain[:3,:]\n"
      ]
    },
    {
      "cell_type": "code",
      "execution_count": null,
      "metadata": {
        "colab": {
          "base_uri": "https://localhost:8080/"
        },
        "id": "t3Y-gq_w-Pt9",
        "outputId": "37b60e49-199d-4e3d-d541-2dde201a5adc"
      },
      "outputs": [
        {
          "data": {
            "text/plain": [
              "array([[0.50536426, 0.22711934, 0.13419524],\n",
              "       [0.49770103, 0.20483539, 0.13649405],\n",
              "       [0.49279657, 0.19796296, 0.13803236]])"
            ]
          },
          "execution_count": 17,
          "metadata": {},
          "output_type": "execute_result"
        }
      ],
      "source": [
        "#Xtrain_scaled[:3,:]"
      ]
    },
    {
      "cell_type": "code",
      "execution_count": null,
      "metadata": {
        "colab": {
          "base_uri": "https://localhost:8080/"
        },
        "id": "Uq932-DW-Rfy",
        "outputId": "5c48158c-00cf-4bd1-f930-8c6c01d030ac"
      },
      "outputs": [
        {
          "data": {
            "text/plain": [
              "array([[1.8290e+01, 4.0242e+04, 8.2800e+03],\n",
              "       [1.6040e+01, 3.9159e+04, 8.4130e+03],\n",
              "       [1.4600e+01, 3.8825e+04, 8.5020e+03]])"
            ]
          },
          "execution_count": 18,
          "metadata": {},
          "output_type": "execute_result"
        }
      ],
      "source": [
        "#Xtest[:3,:]"
      ]
    },
    {
      "cell_type": "code",
      "execution_count": null,
      "metadata": {
        "colab": {
          "base_uri": "https://localhost:8080/"
        },
        "id": "Kb5rLt6M-S4s",
        "outputId": "27c7a31c-9091-437e-e6c9-566ddcc7436d"
      },
      "outputs": [
        {
          "data": {
            "text/plain": [
              "array([[0.50536426, 0.22711934, 0.13419524],\n",
              "       [0.49770103, 0.20483539, 0.13649405],\n",
              "       [0.49279657, 0.19796296, 0.13803236]])"
            ]
          },
          "execution_count": 19,
          "metadata": {},
          "output_type": "execute_result"
        }
      ],
      "source": [
        "#Xtest_scaled[:3,:]"
      ]
    },
    {
      "cell_type": "code",
      "execution_count": null,
      "metadata": {
        "colab": {
          "base_uri": "https://localhost:8080/"
        },
        "id": "g5ogmbpc-Uar",
        "outputId": "3209aeb7-8387-4df0-811b-68ab02dca786"
      },
      "outputs": [
        {
          "data": {
            "text/plain": [
              "epftoolbox.data._wrangling.DataScaler"
            ]
          },
          "execution_count": 20,
          "metadata": {},
          "output_type": "execute_result"
        }
      ],
      "source": [
        "#type(scaler)"
      ]
    },
    {
      "cell_type": "code",
      "execution_count": null,
      "metadata": {
        "id": "Mtej_t8P-Xi0"
      },
      "outputs": [],
      "source": [
        "import pandas as pd\n",
        "import numpy as np\n",
        "import argparse\n",
        "import os\n",
        "\n",
        "from epftoolbox.data import read_data\n",
        "from epftoolbox.evaluation import MAE, sMAPE\n",
        "from epftoolbox.models import LEAR"
      ]
    },
    {
      "cell_type": "code",
      "execution_count": null,
      "metadata": {
        "id": "zHLgPxICB_KJ"
      },
      "outputs": [],
      "source": [
        "from epftoolbox.models import evaluate_lear_in_test_dataset\n",
        "import os\n",
        "\n",
        "# Market under study. If it not one of the standard ones, the file name\n",
        "# has to be provided, where the file has to be a csv file\n",
        "dataset = 'EPF_data_FUND'\n",
        "\n"
      ]
    },
    {
      "cell_type": "code",
      "execution_count": null,
      "metadata": {
        "id": "XWdDTXmACQPw"
      },
      "outputs": [],
      "source": [
        "# Number of years (a year is 364 days) in the test dataset.\n",
        "years_test = 2.0195\n",
        "\n",
        "# Number of days used in the training dataset for recalibration\n",
        "calibration_window = 364 * 4\n",
        "\n",
        "# Optional parameters for selecting the test dataset, if either of them is not provided, \n",
        "# the test dataset is built using the years_test parameter. They should either be one of\n",
        "# the date formats existing in python or a string with the following format\n",
        "# \"%d/%m/%Y %H:%M\"\n",
        "begin_test_date = '05/01/2015'\n",
        "end_test_date = '08/01/2017'\n",
        "\n"
      ]
    },
    {
      "cell_type": "code",
      "execution_count": null,
      "metadata": {
        "id": "v98OwllXCTcF"
      },
      "outputs": [],
      "source": [
        "path_datasets_folder = os.path.join('.', 'datasets')\n",
        "path_recalibration_folder = os.path.join('.', 'experimental_files')\n"
      ]
    },
    {
      "cell_type": "code",
      "execution_count": null,
      "metadata": {
        "colab": {
          "base_uri": "https://localhost:8080/",
          "height": 34
        },
        "id": "DCyh0uP9HgJm",
        "outputId": "524dba22-1036-4b01-af2e-6100f086729d"
      },
      "outputs": [
        {
          "data": {
            "application/vnd.google.colaboratory.intrinsic+json": {
              "type": "string"
            },
            "text/plain": [
              "'EPF_data_FUND'"
            ]
          },
          "execution_count": 9,
          "metadata": {},
          "output_type": "execute_result"
        }
      ],
      "source": [
        "dataset"
      ]
    },
    {
      "cell_type": "code",
      "execution_count": null,
      "metadata": {
        "id": "YlDiZ-IjJjMC"
      },
      "outputs": [],
      "source": [
        "EPF_1=pd.read_excel('/content/EPF_data_FUND.xlsx')\n",
        "EPF_1.reset_index(inplace=True)\n",
        "EPF_1[\"Date\"] = pd.to_datetime(EPF_1[\"Date\"])\n",
        "EPF_1 = EPF_1.set_index('Date')\n",
        "del EPF_1['index']\n",
        "EPF_1.head()\n",
        "print(EPF_1)\n"
      ]
    },
    {
      "cell_type": "code",
      "execution_count": null,
      "metadata": {
        "id": "BkPwmZTIKqlU"
      },
      "outputs": [],
      "source": [
        "EPF_1.to_csv('/content/EPF_data_FUND.csv')"
      ]
    },
    {
      "cell_type": "code",
      "execution_count": null,
      "metadata": {
        "colab": {
          "base_uri": "https://localhost:8080/"
        },
        "id": "k5GSi2JFCVOZ",
        "outputId": "2173af4b-30d7-41d4-ef4d-9c8d4888f46f"
      },
      "outputs": [
        {
          "output_type": "stream",
          "name": "stdout",
          "text": [
            "Test datasets: 2015-01-05 00:00:00 - 2017-01-08 23:00:00\n",
            "2015-01-05 - sMAPE: 8.71%  |  MAE: 4.604\n",
            "2015-01-06 - sMAPE: 15.83%  |  MAE: 5.926\n",
            "2015-01-07 - sMAPE: 33.31%  |  MAE: 8.077\n",
            "2015-01-08 - sMAPE: 29.00%  |  MAE: 8.461\n",
            "2015-01-09 - sMAPE: 61.19%  |  MAE: 13.208\n",
            "2015-01-10 - sMAPE: 59.56%  |  MAE: 13.717\n",
            "2015-01-11 - sMAPE: 52.84%  |  MAE: 12.684\n",
            "2015-01-12 - sMAPE: 49.35%  |  MAE: 12.462\n",
            "2015-01-13 - sMAPE: 45.93%  |  MAE: 11.952\n",
            "2015-01-14 - sMAPE: 42.49%  |  MAE: 11.404\n",
            "2015-01-15 - sMAPE: 40.27%  |  MAE: 10.913\n",
            "2015-01-16 - sMAPE: 38.07%  |  MAE: 10.360\n",
            "2015-01-17 - sMAPE: 36.89%  |  MAE: 10.066\n",
            "2015-01-18 - sMAPE: 34.74%  |  MAE: 9.714\n",
            "2015-01-19 - sMAPE: 33.29%  |  MAE: 9.459\n",
            "2015-01-20 - sMAPE: 31.78%  |  MAE: 9.088\n",
            "2015-01-21 - sMAPE: 34.58%  |  MAE: 9.192\n",
            "2015-01-22 - sMAPE: 34.33%  |  MAE: 9.114\n",
            "2015-01-23 - sMAPE: 33.09%  |  MAE: 8.881\n",
            "2015-01-24 - sMAPE: 32.18%  |  MAE: 8.757\n",
            "2015-01-25 - sMAPE: 31.23%  |  MAE: 8.592\n",
            "2015-01-26 - sMAPE: 30.55%  |  MAE: 8.739\n",
            "2015-01-27 - sMAPE: 29.64%  |  MAE: 8.582\n",
            "2015-01-28 - sMAPE: 28.68%  |  MAE: 8.371\n",
            "2015-01-29 - sMAPE: 27.93%  |  MAE: 8.289\n",
            "2015-01-30 - sMAPE: 27.16%  |  MAE: 8.149\n",
            "2015-01-31 - sMAPE: 26.36%  |  MAE: 8.010\n",
            "2015-02-01 - sMAPE: 25.73%  |  MAE: 7.987\n",
            "2015-02-02 - sMAPE: 25.31%  |  MAE: 8.026\n",
            "2015-02-03 - sMAPE: 24.74%  |  MAE: 7.904\n",
            "2015-02-04 - sMAPE: 24.60%  |  MAE: 7.819\n",
            "2015-02-05 - sMAPE: 24.19%  |  MAE: 7.764\n",
            "2015-02-06 - sMAPE: 23.72%  |  MAE: 7.689\n",
            "2015-02-07 - sMAPE: 23.23%  |  MAE: 7.564\n",
            "2015-02-08 - sMAPE: 22.97%  |  MAE: 7.620\n",
            "2015-02-09 - sMAPE: 22.55%  |  MAE: 7.526\n",
            "2015-02-10 - sMAPE: 22.14%  |  MAE: 7.427\n",
            "2015-02-11 - sMAPE: 21.78%  |  MAE: 7.331\n",
            "2015-02-12 - sMAPE: 21.50%  |  MAE: 7.277\n",
            "2015-02-13 - sMAPE: 21.10%  |  MAE: 7.161\n",
            "2015-02-14 - sMAPE: 20.70%  |  MAE: 7.043\n",
            "2015-02-15 - sMAPE: 20.35%  |  MAE: 6.940\n",
            "2015-02-16 - sMAPE: 20.27%  |  MAE: 6.887\n",
            "2015-02-17 - sMAPE: 22.17%  |  MAE: 6.853\n",
            "2015-02-18 - sMAPE: 22.30%  |  MAE: 6.823\n",
            "2015-02-19 - sMAPE: 22.81%  |  MAE: 6.826\n",
            "2015-02-20 - sMAPE: 22.56%  |  MAE: 6.804\n",
            "2015-02-21 - sMAPE: 22.23%  |  MAE: 6.720\n",
            "2015-02-22 - sMAPE: 21.96%  |  MAE: 6.685\n",
            "2015-02-23 - sMAPE: 21.65%  |  MAE: 6.607\n",
            "2015-02-24 - sMAPE: 21.50%  |  MAE: 6.574\n",
            "2015-02-25 - sMAPE: 21.28%  |  MAE: 6.520\n",
            "2015-02-26 - sMAPE: 20.99%  |  MAE: 6.448\n",
            "2015-02-27 - sMAPE: 20.69%  |  MAE: 6.368\n",
            "2015-02-28 - sMAPE: 20.39%  |  MAE: 6.288\n",
            "2015-03-01 - sMAPE: 20.12%  |  MAE: 6.216\n",
            "2015-03-02 - sMAPE: 19.97%  |  MAE: 6.208\n",
            "2015-03-03 - sMAPE: 19.80%  |  MAE: 6.167\n",
            "2015-03-04 - sMAPE: 19.61%  |  MAE: 6.121\n",
            "2015-03-05 - sMAPE: 19.39%  |  MAE: 6.069\n",
            "2015-03-06 - sMAPE: 19.25%  |  MAE: 6.068\n",
            "2015-03-07 - sMAPE: 19.05%  |  MAE: 6.015\n",
            "2015-03-08 - sMAPE: 18.82%  |  MAE: 5.950\n",
            "2015-03-09 - sMAPE: 18.64%  |  MAE: 5.911\n",
            "2015-03-10 - sMAPE: 18.41%  |  MAE: 5.841\n",
            "2015-03-11 - sMAPE: 19.84%  |  MAE: 5.879\n",
            "2015-03-12 - sMAPE: 20.57%  |  MAE: 5.877\n",
            "2015-03-13 - sMAPE: 20.74%  |  MAE: 5.894\n",
            "2015-03-14 - sMAPE: 20.64%  |  MAE: 5.881\n",
            "2015-03-15 - sMAPE: 20.70%  |  MAE: 5.880\n",
            "2015-03-16 - sMAPE: 20.96%  |  MAE: 5.847\n",
            "2015-03-17 - sMAPE: 22.38%  |  MAE: 5.943\n",
            "2015-03-18 - sMAPE: 22.46%  |  MAE: 5.913\n",
            "2015-03-19 - sMAPE: 22.47%  |  MAE: 5.950\n",
            "2015-03-20 - sMAPE: 22.43%  |  MAE: 5.922\n",
            "2015-03-21 - sMAPE: 22.91%  |  MAE: 5.926\n",
            "2015-03-22 - sMAPE: 22.78%  |  MAE: 5.900\n",
            "2015-03-23 - sMAPE: 22.97%  |  MAE: 5.888\n",
            "2015-03-24 - sMAPE: 23.93%  |  MAE: 5.957\n",
            "2015-03-25 - sMAPE: 24.46%  |  MAE: 5.982\n",
            "2015-03-26 - sMAPE: 24.47%  |  MAE: 5.998\n",
            "2015-03-27 - sMAPE: 24.28%  |  MAE: 5.970\n",
            "2015-03-28 - sMAPE: 24.08%  |  MAE: 5.935\n",
            "2015-03-29 - sMAPE: 23.86%  |  MAE: 5.892\n",
            "2015-03-30 - sMAPE: 23.65%  |  MAE: 5.853\n",
            "2015-03-31 - sMAPE: 23.43%  |  MAE: 5.802\n",
            "2015-04-01 - sMAPE: 23.22%  |  MAE: 5.758\n",
            "2015-04-02 - sMAPE: 23.03%  |  MAE: 5.714\n",
            "2015-04-03 - sMAPE: 22.80%  |  MAE: 5.662\n",
            "2015-04-04 - sMAPE: 22.58%  |  MAE: 5.615\n",
            "2015-04-05 - sMAPE: 22.38%  |  MAE: 5.575\n",
            "2015-04-06 - sMAPE: 22.21%  |  MAE: 5.541\n",
            "2015-04-07 - sMAPE: 22.06%  |  MAE: 5.512\n",
            "2015-04-08 - sMAPE: 22.07%  |  MAE: 5.486\n",
            "2015-04-09 - sMAPE: 21.91%  |  MAE: 5.454\n",
            "2015-04-10 - sMAPE: 21.74%  |  MAE: 5.417\n",
            "2015-04-11 - sMAPE: 21.58%  |  MAE: 5.392\n",
            "2015-04-12 - sMAPE: 21.40%  |  MAE: 5.352\n",
            "2015-04-13 - sMAPE: 21.26%  |  MAE: 5.332\n",
            "2015-04-14 - sMAPE: 21.16%  |  MAE: 5.319\n",
            "2015-04-15 - sMAPE: 21.02%  |  MAE: 5.291\n",
            "2015-04-16 - sMAPE: 20.87%  |  MAE: 5.264\n",
            "2015-04-17 - sMAPE: 20.69%  |  MAE: 5.224\n",
            "2015-04-18 - sMAPE: 20.52%  |  MAE: 5.186\n",
            "2015-04-19 - sMAPE: 20.39%  |  MAE: 5.167\n",
            "2015-04-20 - sMAPE: 20.26%  |  MAE: 5.145\n",
            "2015-04-21 - sMAPE: 20.14%  |  MAE: 5.125\n",
            "2015-04-22 - sMAPE: 20.02%  |  MAE: 5.099\n",
            "2015-04-23 - sMAPE: 19.90%  |  MAE: 5.087\n",
            "2015-04-24 - sMAPE: 19.77%  |  MAE: 5.061\n",
            "2015-04-25 - sMAPE: 19.64%  |  MAE: 5.033\n",
            "2015-04-26 - sMAPE: 19.51%  |  MAE: 5.006\n",
            "2015-04-27 - sMAPE: 19.54%  |  MAE: 5.013\n",
            "2015-04-28 - sMAPE: 19.46%  |  MAE: 5.000\n",
            "2015-04-29 - sMAPE: 19.45%  |  MAE: 4.990\n",
            "2015-04-30 - sMAPE: 20.37%  |  MAE: 5.167\n",
            "2015-05-01 - sMAPE: 20.87%  |  MAE: 5.210\n",
            "2015-05-02 - sMAPE: 20.74%  |  MAE: 5.181\n",
            "2015-05-03 - sMAPE: 20.65%  |  MAE: 5.172\n",
            "2015-05-04 - sMAPE: 20.51%  |  MAE: 5.145\n",
            "2015-05-05 - sMAPE: 20.39%  |  MAE: 5.117\n",
            "2015-05-06 - sMAPE: 20.25%  |  MAE: 5.086\n",
            "2015-05-07 - sMAPE: 20.18%  |  MAE: 5.084\n",
            "2015-05-08 - sMAPE: 20.05%  |  MAE: 5.056\n",
            "2015-05-09 - sMAPE: 20.18%  |  MAE: 5.061\n",
            "2015-05-10 - sMAPE: 20.30%  |  MAE: 5.105\n",
            "2015-05-11 - sMAPE: 20.16%  |  MAE: 5.075\n",
            "2015-05-12 - sMAPE: 20.04%  |  MAE: 5.049\n",
            "2015-05-13 - sMAPE: 19.94%  |  MAE: 5.027\n",
            "2015-05-14 - sMAPE: 19.83%  |  MAE: 5.006\n",
            "2015-05-15 - sMAPE: 19.74%  |  MAE: 5.002\n",
            "2015-05-16 - sMAPE: 19.65%  |  MAE: 4.985\n",
            "2015-05-17 - sMAPE: 19.54%  |  MAE: 4.966\n",
            "2015-05-18 - sMAPE: 19.46%  |  MAE: 4.958\n",
            "2015-05-19 - sMAPE: 19.39%  |  MAE: 4.946\n",
            "2015-05-20 - sMAPE: 19.68%  |  MAE: 4.984\n",
            "2015-05-21 - sMAPE: 19.59%  |  MAE: 4.970\n",
            "2015-05-22 - sMAPE: 19.47%  |  MAE: 4.947\n",
            "2015-05-23 - sMAPE: 19.37%  |  MAE: 4.927\n",
            "2015-05-24 - sMAPE: 19.27%  |  MAE: 4.907\n",
            "2015-05-25 - sMAPE: 19.17%  |  MAE: 4.888\n",
            "2015-05-26 - sMAPE: 19.09%  |  MAE: 4.870\n",
            "2015-05-27 - sMAPE: 19.00%  |  MAE: 4.851\n",
            "2015-05-28 - sMAPE: 18.90%  |  MAE: 4.834\n",
            "2015-05-29 - sMAPE: 18.82%  |  MAE: 4.821\n",
            "2015-05-30 - sMAPE: 18.72%  |  MAE: 4.800\n",
            "2015-05-31 - sMAPE: 18.63%  |  MAE: 4.783\n",
            "2015-06-01 - sMAPE: 18.57%  |  MAE: 4.775\n",
            "2015-06-02 - sMAPE: 18.47%  |  MAE: 4.752\n",
            "2015-06-03 - sMAPE: 18.66%  |  MAE: 4.762\n",
            "2015-06-04 - sMAPE: 18.63%  |  MAE: 4.761\n",
            "2015-06-05 - sMAPE: 18.54%  |  MAE: 4.745\n",
            "2015-06-06 - sMAPE: 18.45%  |  MAE: 4.726\n",
            "2015-06-07 - sMAPE: 18.82%  |  MAE: 4.744\n",
            "2015-06-08 - sMAPE: 18.74%  |  MAE: 4.729\n",
            "2015-06-09 - sMAPE: 18.69%  |  MAE: 4.717\n",
            "2015-06-10 - sMAPE: 18.79%  |  MAE: 4.718\n",
            "2015-06-11 - sMAPE: 18.71%  |  MAE: 4.702\n",
            "2015-06-12 - sMAPE: 18.61%  |  MAE: 4.681\n",
            "2015-06-13 - sMAPE: 18.55%  |  MAE: 4.671\n",
            "2015-06-14 - sMAPE: 18.47%  |  MAE: 4.659\n",
            "2015-06-15 - sMAPE: 18.51%  |  MAE: 4.669\n",
            "2015-06-16 - sMAPE: 18.80%  |  MAE: 4.802\n",
            "2015-06-17 - sMAPE: 18.83%  |  MAE: 4.797\n",
            "2015-06-18 - sMAPE: 18.76%  |  MAE: 4.782\n",
            "2015-06-19 - sMAPE: 18.68%  |  MAE: 4.768\n",
            "2015-06-20 - sMAPE: 18.61%  |  MAE: 4.756\n",
            "2015-06-21 - sMAPE: 18.55%  |  MAE: 4.749\n",
            "2015-06-22 - sMAPE: 18.49%  |  MAE: 4.745\n",
            "2015-06-23 - sMAPE: 18.42%  |  MAE: 4.729\n",
            "2015-06-24 - sMAPE: 18.39%  |  MAE: 4.729\n",
            "2015-06-25 - sMAPE: 18.35%  |  MAE: 4.727\n",
            "2015-06-26 - sMAPE: 18.27%  |  MAE: 4.714\n",
            "2015-06-27 - sMAPE: 18.20%  |  MAE: 4.700\n",
            "2015-06-28 - sMAPE: 18.12%  |  MAE: 4.683\n",
            "2015-06-29 - sMAPE: 18.05%  |  MAE: 4.669\n",
            "2015-06-30 - sMAPE: 17.98%  |  MAE: 4.651\n",
            "2015-07-01 - sMAPE: 18.09%  |  MAE: 4.646\n",
            "2015-07-02 - sMAPE: 18.03%  |  MAE: 4.635\n",
            "2015-07-03 - sMAPE: 17.98%  |  MAE: 4.631\n",
            "2015-07-04 - sMAPE: 17.91%  |  MAE: 4.616\n",
            "2015-07-05 - sMAPE: 17.86%  |  MAE: 4.609\n",
            "2015-07-06 - sMAPE: 17.81%  |  MAE: 4.603\n",
            "2015-07-07 - sMAPE: 17.76%  |  MAE: 4.594\n",
            "2015-07-08 - sMAPE: 17.94%  |  MAE: 4.603\n",
            "2015-07-09 - sMAPE: 17.89%  |  MAE: 4.597\n",
            "2015-07-10 - sMAPE: 17.83%  |  MAE: 4.585\n",
            "2015-07-11 - sMAPE: 17.82%  |  MAE: 4.590\n",
            "2015-07-12 - sMAPE: 17.75%  |  MAE: 4.574\n",
            "2015-07-13 - sMAPE: 17.68%  |  MAE: 4.561\n",
            "2015-07-14 - sMAPE: 17.73%  |  MAE: 4.568\n",
            "2015-07-15 - sMAPE: 17.76%  |  MAE: 4.569\n",
            "2015-07-16 - sMAPE: 17.73%  |  MAE: 4.573\n",
            "2015-07-17 - sMAPE: 17.65%  |  MAE: 4.554\n",
            "2015-07-18 - sMAPE: 17.58%  |  MAE: 4.537\n",
            "2015-07-19 - sMAPE: 17.51%  |  MAE: 4.524\n",
            "2015-07-20 - sMAPE: 17.45%  |  MAE: 4.512\n",
            "2015-07-21 - sMAPE: 17.40%  |  MAE: 4.502\n",
            "2015-07-22 - sMAPE: 17.33%  |  MAE: 4.487\n",
            "2015-07-23 - sMAPE: 17.27%  |  MAE: 4.476\n",
            "2015-07-24 - sMAPE: 17.21%  |  MAE: 4.465\n",
            "2015-07-25 - sMAPE: 17.15%  |  MAE: 4.453\n",
            "2015-07-26 - sMAPE: 17.09%  |  MAE: 4.442\n",
            "2015-07-27 - sMAPE: 17.02%  |  MAE: 4.429\n",
            "2015-07-28 - sMAPE: 17.00%  |  MAE: 4.426\n",
            "2015-07-29 - sMAPE: 17.01%  |  MAE: 4.431\n",
            "2015-07-30 - sMAPE: 16.94%  |  MAE: 4.415\n",
            "2015-07-31 - sMAPE: 16.89%  |  MAE: 4.405\n",
            "2015-08-01 - sMAPE: 16.86%  |  MAE: 4.411\n",
            "2015-08-02 - sMAPE: 16.82%  |  MAE: 4.409\n",
            "2015-08-03 - sMAPE: 16.79%  |  MAE: 4.408\n",
            "2015-08-04 - sMAPE: 16.74%  |  MAE: 4.400\n",
            "2015-08-05 - sMAPE: 16.74%  |  MAE: 4.407\n",
            "2015-08-06 - sMAPE: 16.70%  |  MAE: 4.407\n",
            "2015-08-07 - sMAPE: 16.64%  |  MAE: 4.394\n",
            "2015-08-08 - sMAPE: 16.60%  |  MAE: 4.393\n",
            "2015-08-09 - sMAPE: 16.55%  |  MAE: 4.386\n",
            "2015-08-10 - sMAPE: 16.51%  |  MAE: 4.380\n",
            "2015-08-11 - sMAPE: 16.47%  |  MAE: 4.374\n",
            "2015-08-12 - sMAPE: 16.43%  |  MAE: 4.365\n",
            "2015-08-13 - sMAPE: 16.38%  |  MAE: 4.359\n",
            "2015-08-14 - sMAPE: 16.34%  |  MAE: 4.352\n",
            "2015-08-15 - sMAPE: 16.29%  |  MAE: 4.342\n",
            "2015-08-16 - sMAPE: 16.25%  |  MAE: 4.333\n",
            "2015-08-17 - sMAPE: 16.20%  |  MAE: 4.322\n",
            "2015-08-18 - sMAPE: 16.43%  |  MAE: 4.353\n",
            "2015-08-19 - sMAPE: 16.62%  |  MAE: 4.365\n",
            "2015-08-20 - sMAPE: 16.59%  |  MAE: 4.367\n",
            "2015-08-21 - sMAPE: 16.55%  |  MAE: 4.358\n",
            "2015-08-22 - sMAPE: 16.51%  |  MAE: 4.353\n",
            "2015-08-23 - sMAPE: 16.47%  |  MAE: 4.345\n",
            "2015-08-24 - sMAPE: 16.44%  |  MAE: 4.342\n",
            "2015-08-25 - sMAPE: 16.43%  |  MAE: 4.336\n",
            "2015-08-26 - sMAPE: 16.43%  |  MAE: 4.332\n",
            "2015-08-27 - sMAPE: 16.39%  |  MAE: 4.324\n",
            "2015-08-28 - sMAPE: 16.34%  |  MAE: 4.312\n",
            "2015-08-29 - sMAPE: 16.29%  |  MAE: 4.306\n",
            "2015-08-30 - sMAPE: 16.24%  |  MAE: 4.296\n",
            "2015-08-31 - sMAPE: 16.21%  |  MAE: 4.289\n",
            "2015-09-01 - sMAPE: 16.16%  |  MAE: 4.279\n",
            "2015-09-02 - sMAPE: 16.13%  |  MAE: 4.273\n",
            "2015-09-03 - sMAPE: 16.09%  |  MAE: 4.269\n",
            "2015-09-04 - sMAPE: 16.07%  |  MAE: 4.272\n",
            "2015-09-05 - sMAPE: 16.04%  |  MAE: 4.270\n",
            "2015-09-06 - sMAPE: 16.00%  |  MAE: 4.263\n",
            "2015-09-07 - sMAPE: 15.96%  |  MAE: 4.257\n",
            "2015-09-08 - sMAPE: 15.92%  |  MAE: 4.249\n",
            "2015-09-09 - sMAPE: 15.90%  |  MAE: 4.244\n",
            "2015-09-10 - sMAPE: 15.87%  |  MAE: 4.241\n",
            "2015-09-11 - sMAPE: 15.83%  |  MAE: 4.231\n",
            "2015-09-12 - sMAPE: 15.78%  |  MAE: 4.221\n",
            "2015-09-13 - sMAPE: 15.75%  |  MAE: 4.214\n",
            "2015-09-14 - sMAPE: 15.72%  |  MAE: 4.206\n",
            "2015-09-15 - sMAPE: 15.67%  |  MAE: 4.196\n",
            "2015-09-16 - sMAPE: 15.63%  |  MAE: 4.187\n",
            "2015-09-17 - sMAPE: 15.60%  |  MAE: 4.184\n",
            "2015-09-18 - sMAPE: 15.56%  |  MAE: 4.178\n",
            "2015-09-19 - sMAPE: 15.51%  |  MAE: 4.166\n",
            "2015-09-20 - sMAPE: 15.47%  |  MAE: 4.157\n",
            "2015-09-21 - sMAPE: 15.45%  |  MAE: 4.155\n",
            "2015-09-22 - sMAPE: 15.42%  |  MAE: 4.147\n",
            "2015-09-23 - sMAPE: 15.50%  |  MAE: 4.151\n",
            "2015-09-24 - sMAPE: 15.47%  |  MAE: 4.147\n",
            "2015-09-25 - sMAPE: 15.44%  |  MAE: 4.139\n",
            "2015-09-26 - sMAPE: 15.41%  |  MAE: 4.135\n",
            "2015-09-27 - sMAPE: 15.37%  |  MAE: 4.131\n",
            "2015-09-28 - sMAPE: 15.34%  |  MAE: 4.124\n",
            "2015-09-29 - sMAPE: 15.33%  |  MAE: 4.123\n",
            "2015-09-30 - sMAPE: 15.31%  |  MAE: 4.119\n",
            "2015-10-01 - sMAPE: 15.27%  |  MAE: 4.114\n",
            "2015-10-02 - sMAPE: 15.23%  |  MAE: 4.107\n",
            "2015-10-03 - sMAPE: 15.20%  |  MAE: 4.104\n",
            "2015-10-04 - sMAPE: 15.17%  |  MAE: 4.097\n",
            "2015-10-05 - sMAPE: 15.13%  |  MAE: 4.089\n",
            "2015-10-06 - sMAPE: 15.34%  |  MAE: 4.109\n",
            "2015-10-07 - sMAPE: 15.57%  |  MAE: 4.117\n",
            "2015-10-08 - sMAPE: 15.69%  |  MAE: 4.140\n",
            "2015-10-09 - sMAPE: 15.68%  |  MAE: 4.142\n",
            "2015-10-10 - sMAPE: 15.66%  |  MAE: 4.141\n",
            "2015-10-11 - sMAPE: 15.64%  |  MAE: 4.140\n",
            "2015-10-12 - sMAPE: 15.60%  |  MAE: 4.134\n",
            "2015-10-13 - sMAPE: 15.56%  |  MAE: 4.125\n",
            "2015-10-14 - sMAPE: 15.53%  |  MAE: 4.117\n",
            "2015-10-15 - sMAPE: 15.50%  |  MAE: 4.118\n",
            "2015-10-16 - sMAPE: 15.46%  |  MAE: 4.109\n",
            "2015-10-17 - sMAPE: 15.43%  |  MAE: 4.101\n",
            "2015-10-18 - sMAPE: 15.41%  |  MAE: 4.097\n",
            "2015-10-19 - sMAPE: 15.44%  |  MAE: 4.092\n",
            "2015-10-20 - sMAPE: 15.58%  |  MAE: 4.096\n",
            "2015-10-21 - sMAPE: 15.64%  |  MAE: 4.098\n",
            "2015-10-22 - sMAPE: 15.64%  |  MAE: 4.101\n",
            "2015-10-23 - sMAPE: 15.61%  |  MAE: 4.097\n",
            "2015-10-24 - sMAPE: 15.59%  |  MAE: 4.093\n",
            "2015-10-25 - sMAPE: 15.55%  |  MAE: 4.089\n",
            "2015-10-26 - sMAPE: 15.52%  |  MAE: 4.082\n",
            "2015-10-27 - sMAPE: 15.48%  |  MAE: 4.072\n",
            "2015-10-28 - sMAPE: 15.45%  |  MAE: 4.064\n",
            "2015-10-29 - sMAPE: 15.41%  |  MAE: 4.056\n",
            "2015-10-30 - sMAPE: 15.37%  |  MAE: 4.051\n",
            "2015-10-31 - sMAPE: 15.34%  |  MAE: 4.044\n",
            "2015-11-01 - sMAPE: 15.31%  |  MAE: 4.040\n",
            "2015-11-02 - sMAPE: 15.27%  |  MAE: 4.031\n",
            "2015-11-03 - sMAPE: 15.38%  |  MAE: 4.041\n",
            "2015-11-04 - sMAPE: 15.53%  |  MAE: 4.061\n",
            "2015-11-05 - sMAPE: 15.51%  |  MAE: 4.063\n",
            "2015-11-06 - sMAPE: 15.48%  |  MAE: 4.060\n",
            "2015-11-07 - sMAPE: 15.45%  |  MAE: 4.054\n",
            "2015-11-08 - sMAPE: 15.41%  |  MAE: 4.047\n",
            "2015-11-09 - sMAPE: 15.40%  |  MAE: 4.045\n",
            "2015-11-10 - sMAPE: 15.40%  |  MAE: 4.048\n",
            "2015-11-11 - sMAPE: 15.42%  |  MAE: 4.045\n",
            "2015-11-12 - sMAPE: 15.40%  |  MAE: 4.045\n",
            "2015-11-13 - sMAPE: 15.36%  |  MAE: 4.037\n",
            "2015-11-14 - sMAPE: 15.33%  |  MAE: 4.031\n",
            "2015-11-15 - sMAPE: 15.30%  |  MAE: 4.026\n",
            "2015-11-16 - sMAPE: 15.27%  |  MAE: 4.027\n",
            "2015-11-17 - sMAPE: 15.24%  |  MAE: 4.022\n",
            "2015-11-18 - sMAPE: 15.21%  |  MAE: 4.014\n",
            "2015-11-19 - sMAPE: 15.19%  |  MAE: 4.011\n",
            "2015-11-20 - sMAPE: 15.16%  |  MAE: 4.007\n",
            "2015-11-21 - sMAPE: 15.14%  |  MAE: 4.010\n",
            "2015-11-22 - sMAPE: 15.11%  |  MAE: 4.005\n",
            "2015-11-23 - sMAPE: 15.08%  |  MAE: 4.001\n",
            "2015-11-24 - sMAPE: 15.06%  |  MAE: 3.996\n",
            "2015-11-25 - sMAPE: 15.03%  |  MAE: 3.990\n",
            "2015-11-26 - sMAPE: 15.00%  |  MAE: 3.985\n",
            "2015-11-27 - sMAPE: 14.97%  |  MAE: 3.982\n",
            "2015-11-28 - sMAPE: 14.94%  |  MAE: 3.979\n",
            "2015-11-29 - sMAPE: 14.91%  |  MAE: 3.972\n",
            "2015-11-30 - sMAPE: 14.89%  |  MAE: 3.971\n",
            "2015-12-01 - sMAPE: 14.88%  |  MAE: 3.969\n",
            "2015-12-02 - sMAPE: 14.89%  |  MAE: 3.973\n",
            "2015-12-03 - sMAPE: 14.86%  |  MAE: 3.972\n",
            "2015-12-04 - sMAPE: 14.84%  |  MAE: 3.972\n",
            "2015-12-05 - sMAPE: 14.81%  |  MAE: 3.963\n",
            "2015-12-06 - sMAPE: 14.82%  |  MAE: 3.962\n",
            "2015-12-07 - sMAPE: 14.80%  |  MAE: 3.960\n",
            "2015-12-08 - sMAPE: 14.77%  |  MAE: 3.952\n",
            "2015-12-09 - sMAPE: 14.74%  |  MAE: 3.947\n",
            "2015-12-10 - sMAPE: 14.71%  |  MAE: 3.941\n",
            "2015-12-11 - sMAPE: 14.69%  |  MAE: 3.938\n",
            "2015-12-12 - sMAPE: 14.66%  |  MAE: 3.935\n",
            "2015-12-13 - sMAPE: 14.63%  |  MAE: 3.927\n",
            "2015-12-14 - sMAPE: 14.62%  |  MAE: 3.926\n",
            "2015-12-15 - sMAPE: 14.72%  |  MAE: 3.925\n",
            "2015-12-16 - sMAPE: 15.00%  |  MAE: 3.956\n",
            "2015-12-17 - sMAPE: 15.03%  |  MAE: 3.963\n",
            "2015-12-18 - sMAPE: 15.01%  |  MAE: 3.956\n",
            "2015-12-19 - sMAPE: 15.04%  |  MAE: 3.954\n",
            "2015-12-20 - sMAPE: 15.02%  |  MAE: 3.954\n",
            "2015-12-21 - sMAPE: 15.00%  |  MAE: 3.952\n",
            "2015-12-22 - sMAPE: 15.05%  |  MAE: 3.957\n",
            "2015-12-23 - sMAPE: 15.25%  |  MAE: 3.964\n",
            "2015-12-24 - sMAPE: 15.24%  |  MAE: 3.968\n",
            "2015-12-25 - sMAPE: 15.22%  |  MAE: 3.965\n",
            "2015-12-26 - sMAPE: 15.22%  |  MAE: 3.969\n",
            "2015-12-27 - sMAPE: 15.20%  |  MAE: 3.966\n",
            "2015-12-28 - sMAPE: 15.18%  |  MAE: 3.962\n",
            "2015-12-29 - sMAPE: 15.19%  |  MAE: 3.961\n",
            "2015-12-30 - sMAPE: 15.22%  |  MAE: 3.962\n",
            "2015-12-31 - sMAPE: 15.26%  |  MAE: 3.960\n",
            "2016-01-01 - sMAPE: 15.31%  |  MAE: 3.959\n",
            "2016-01-02 - sMAPE: 15.30%  |  MAE: 3.956\n",
            "2016-01-03 - sMAPE: 15.28%  |  MAE: 3.953\n",
            "2016-01-04 - sMAPE: 15.25%  |  MAE: 3.948\n",
            "2016-01-05 - sMAPE: 15.23%  |  MAE: 3.945\n",
            "2016-01-06 - sMAPE: 15.22%  |  MAE: 3.942\n",
            "2016-01-07 - sMAPE: 15.22%  |  MAE: 3.941\n",
            "2016-01-08 - sMAPE: 15.23%  |  MAE: 3.943\n",
            "2016-01-09 - sMAPE: 15.23%  |  MAE: 3.946\n",
            "2016-01-10 - sMAPE: 15.21%  |  MAE: 3.942\n",
            "2016-01-11 - sMAPE: 15.27%  |  MAE: 3.950\n",
            "2016-01-12 - sMAPE: 15.36%  |  MAE: 3.958\n",
            "2016-01-13 - sMAPE: 15.33%  |  MAE: 3.953\n",
            "2016-01-14 - sMAPE: 15.30%  |  MAE: 3.946\n",
            "2016-01-15 - sMAPE: 15.28%  |  MAE: 3.945\n",
            "2016-01-16 - sMAPE: 15.33%  |  MAE: 3.948\n",
            "2016-01-17 - sMAPE: 15.31%  |  MAE: 3.946\n",
            "2016-01-18 - sMAPE: 15.29%  |  MAE: 3.941\n",
            "2016-01-19 - sMAPE: 15.28%  |  MAE: 3.939\n",
            "2016-01-20 - sMAPE: 15.29%  |  MAE: 3.943\n",
            "2016-01-21 - sMAPE: 15.28%  |  MAE: 3.940\n",
            "2016-01-22 - sMAPE: 15.31%  |  MAE: 3.942\n",
            "2016-01-23 - sMAPE: 15.35%  |  MAE: 3.944\n",
            "2016-01-24 - sMAPE: 15.32%  |  MAE: 3.937\n",
            "2016-01-25 - sMAPE: 15.30%  |  MAE: 3.934\n",
            "2016-01-26 - sMAPE: 15.28%  |  MAE: 3.931\n",
            "2016-01-27 - sMAPE: 15.26%  |  MAE: 3.927\n",
            "2016-01-28 - sMAPE: 15.24%  |  MAE: 3.926\n",
            "2016-01-29 - sMAPE: 15.21%  |  MAE: 3.919\n",
            "2016-01-30 - sMAPE: 15.18%  |  MAE: 3.914\n",
            "2016-01-31 - sMAPE: 15.18%  |  MAE: 3.919\n",
            "2016-02-01 - sMAPE: 15.16%  |  MAE: 3.922\n",
            "2016-02-02 - sMAPE: 15.14%  |  MAE: 3.919\n",
            "2016-02-03 - sMAPE: 15.12%  |  MAE: 3.914\n",
            "2016-02-04 - sMAPE: 15.09%  |  MAE: 3.910\n",
            "2016-02-05 - sMAPE: 15.08%  |  MAE: 3.907\n",
            "2016-02-06 - sMAPE: 15.08%  |  MAE: 3.906\n",
            "2016-02-07 - sMAPE: 15.09%  |  MAE: 3.909\n",
            "2016-02-08 - sMAPE: 15.15%  |  MAE: 3.912\n",
            "2016-02-09 - sMAPE: 15.36%  |  MAE: 3.920\n",
            "2016-02-10 - sMAPE: 15.40%  |  MAE: 3.921\n",
            "2016-02-11 - sMAPE: 15.39%  |  MAE: 3.918\n",
            "2016-02-12 - sMAPE: 15.38%  |  MAE: 3.914\n",
            "2016-02-13 - sMAPE: 15.35%  |  MAE: 3.910\n",
            "2016-02-14 - sMAPE: 15.34%  |  MAE: 3.908\n",
            "2016-02-15 - sMAPE: 15.32%  |  MAE: 3.907\n",
            "2016-02-16 - sMAPE: 15.30%  |  MAE: 3.901\n",
            "2016-02-17 - sMAPE: 15.55%  |  MAE: 3.922\n",
            "2016-02-18 - sMAPE: 15.66%  |  MAE: 3.935\n",
            "2016-02-19 - sMAPE: 15.77%  |  MAE: 3.940\n",
            "2016-02-20 - sMAPE: 15.82%  |  MAE: 3.938\n",
            "2016-02-21 - sMAPE: 15.81%  |  MAE: 3.938\n",
            "2016-02-22 - sMAPE: 15.79%  |  MAE: 3.935\n",
            "2016-02-23 - sMAPE: 15.89%  |  MAE: 3.942\n",
            "2016-02-24 - sMAPE: 16.11%  |  MAE: 3.964\n",
            "2016-02-25 - sMAPE: 16.14%  |  MAE: 3.964\n",
            "2016-02-26 - sMAPE: 16.15%  |  MAE: 3.963\n",
            "2016-02-27 - sMAPE: 16.13%  |  MAE: 3.960\n",
            "2016-02-28 - sMAPE: 16.13%  |  MAE: 3.959\n",
            "2016-02-29 - sMAPE: 16.19%  |  MAE: 3.962\n",
            "2016-03-01 - sMAPE: 16.53%  |  MAE: 3.972\n",
            "2016-03-02 - sMAPE: 16.63%  |  MAE: 3.972\n",
            "2016-03-03 - sMAPE: 16.73%  |  MAE: 3.978\n",
            "2016-03-04 - sMAPE: 16.75%  |  MAE: 3.979\n",
            "2016-03-05 - sMAPE: 16.73%  |  MAE: 3.975\n",
            "2016-03-06 - sMAPE: 16.70%  |  MAE: 3.971\n",
            "2016-03-07 - sMAPE: 16.70%  |  MAE: 3.967\n",
            "2016-03-08 - sMAPE: 16.83%  |  MAE: 3.970\n",
            "2016-03-09 - sMAPE: 16.98%  |  MAE: 3.977\n",
            "2016-03-10 - sMAPE: 16.97%  |  MAE: 3.979\n",
            "2016-03-11 - sMAPE: 16.95%  |  MAE: 3.977\n",
            "2016-03-12 - sMAPE: 16.92%  |  MAE: 3.974\n",
            "2016-03-13 - sMAPE: 16.91%  |  MAE: 3.971\n",
            "2016-03-14 - sMAPE: 16.89%  |  MAE: 3.972\n",
            "2016-03-15 - sMAPE: 16.87%  |  MAE: 3.967\n",
            "2016-03-16 - sMAPE: 16.99%  |  MAE: 3.972\n",
            "2016-03-17 - sMAPE: 16.97%  |  MAE: 3.970\n",
            "2016-03-18 - sMAPE: 17.00%  |  MAE: 3.972\n",
            "2016-03-19 - sMAPE: 17.04%  |  MAE: 3.972\n",
            "2016-03-20 - sMAPE: 17.22%  |  MAE: 3.982\n",
            "2016-03-21 - sMAPE: 17.30%  |  MAE: 3.983\n",
            "2016-03-22 - sMAPE: 17.28%  |  MAE: 3.981\n",
            "2016-03-23 - sMAPE: 17.39%  |  MAE: 3.984\n",
            "2016-03-24 - sMAPE: 17.38%  |  MAE: 3.985\n",
            "2016-03-25 - sMAPE: 17.36%  |  MAE: 3.982\n",
            "2016-03-26 - sMAPE: 17.36%  |  MAE: 3.984\n",
            "2016-03-27 - sMAPE: 17.36%  |  MAE: 3.987\n",
            "2016-03-28 - sMAPE: 17.34%  |  MAE: 3.983\n",
            "2016-03-29 - sMAPE: 17.47%  |  MAE: 3.986\n",
            "2016-03-30 - sMAPE: 17.61%  |  MAE: 3.996\n",
            "2016-03-31 - sMAPE: 17.63%  |  MAE: 4.000\n",
            "2016-04-01 - sMAPE: 17.63%  |  MAE: 4.000\n",
            "2016-04-02 - sMAPE: 17.62%  |  MAE: 3.997\n",
            "2016-04-03 - sMAPE: 17.60%  |  MAE: 3.993\n",
            "2016-04-04 - sMAPE: 17.60%  |  MAE: 3.991\n",
            "2016-04-05 - sMAPE: 17.68%  |  MAE: 3.990\n",
            "2016-04-06 - sMAPE: 17.87%  |  MAE: 4.003\n",
            "2016-04-07 - sMAPE: 17.86%  |  MAE: 4.001\n",
            "2016-04-08 - sMAPE: 17.85%  |  MAE: 3.999\n",
            "2016-04-09 - sMAPE: 17.85%  |  MAE: 3.999\n",
            "2016-04-10 - sMAPE: 17.91%  |  MAE: 4.005\n",
            "2016-04-11 - sMAPE: 17.92%  |  MAE: 4.009\n",
            "2016-04-12 - sMAPE: 17.92%  |  MAE: 4.007\n",
            "2016-04-13 - sMAPE: 18.09%  |  MAE: 4.017\n",
            "2016-04-14 - sMAPE: 18.11%  |  MAE: 4.018\n",
            "2016-04-15 - sMAPE: 18.11%  |  MAE: 4.020\n",
            "2016-04-16 - sMAPE: 18.10%  |  MAE: 4.018\n",
            "2016-04-17 - sMAPE: 18.08%  |  MAE: 4.015\n",
            "2016-04-18 - sMAPE: 18.06%  |  MAE: 4.009\n",
            "2016-04-19 - sMAPE: 18.04%  |  MAE: 4.005\n",
            "2016-04-20 - sMAPE: 18.16%  |  MAE: 4.008\n",
            "2016-04-21 - sMAPE: 18.32%  |  MAE: 4.027\n",
            "2016-04-22 - sMAPE: 18.33%  |  MAE: 4.026\n",
            "2016-04-23 - sMAPE: 18.38%  |  MAE: 4.026\n",
            "2016-04-24 - sMAPE: 18.36%  |  MAE: 4.025\n",
            "2016-04-25 - sMAPE: 18.34%  |  MAE: 4.022\n",
            "2016-04-26 - sMAPE: 18.34%  |  MAE: 4.019\n",
            "2016-04-27 - sMAPE: 18.40%  |  MAE: 4.021\n",
            "2016-04-28 - sMAPE: 18.52%  |  MAE: 4.026\n",
            "2016-04-29 - sMAPE: 18.67%  |  MAE: 4.063\n",
            "2016-04-30 - sMAPE: 18.74%  |  MAE: 4.065\n",
            "2016-05-01 - sMAPE: 18.74%  |  MAE: 4.067\n",
            "2016-05-02 - sMAPE: 18.86%  |  MAE: 4.075\n",
            "2016-05-03 - sMAPE: 18.88%  |  MAE: 4.079\n",
            "2016-05-04 - sMAPE: 18.91%  |  MAE: 4.079\n",
            "2016-05-05 - sMAPE: 18.90%  |  MAE: 4.078\n",
            "2016-05-06 - sMAPE: 18.87%  |  MAE: 4.073\n",
            "2016-05-07 - sMAPE: 18.86%  |  MAE: 4.070\n",
            "2016-05-08 - sMAPE: 18.86%  |  MAE: 4.068\n",
            "2016-05-09 - sMAPE: 18.99%  |  MAE: 4.065\n",
            "2016-05-10 - sMAPE: 19.05%  |  MAE: 4.064\n",
            "2016-05-11 - sMAPE: 19.13%  |  MAE: 4.063\n",
            "2016-05-12 - sMAPE: 19.13%  |  MAE: 4.064\n",
            "2016-05-13 - sMAPE: 19.13%  |  MAE: 4.063\n",
            "2016-05-14 - sMAPE: 19.14%  |  MAE: 4.064\n",
            "2016-05-15 - sMAPE: 19.14%  |  MAE: 4.063\n",
            "2016-05-16 - sMAPE: 19.11%  |  MAE: 4.059\n",
            "2016-05-17 - sMAPE: 19.09%  |  MAE: 4.054\n",
            "2016-05-18 - sMAPE: 19.22%  |  MAE: 4.056\n",
            "2016-05-19 - sMAPE: 19.32%  |  MAE: 4.057\n",
            "2016-05-20 - sMAPE: 19.32%  |  MAE: 4.058\n",
            "2016-05-21 - sMAPE: 19.31%  |  MAE: 4.058\n",
            "2016-05-22 - sMAPE: 19.29%  |  MAE: 4.056\n",
            "2016-05-23 - sMAPE: 19.28%  |  MAE: 4.053\n",
            "2016-05-24 - sMAPE: 19.30%  |  MAE: 4.051\n",
            "2016-05-25 - sMAPE: 19.39%  |  MAE: 4.051\n",
            "2016-05-26 - sMAPE: 19.38%  |  MAE: 4.048\n",
            "2016-05-27 - sMAPE: 19.36%  |  MAE: 4.045\n",
            "2016-05-28 - sMAPE: 19.35%  |  MAE: 4.047\n",
            "2016-05-29 - sMAPE: 19.45%  |  MAE: 4.055\n",
            "2016-05-30 - sMAPE: 19.45%  |  MAE: 4.056\n",
            "2016-05-31 - sMAPE: 19.61%  |  MAE: 4.062\n",
            "2016-06-01 - sMAPE: 19.67%  |  MAE: 4.084\n",
            "2016-06-02 - sMAPE: 19.70%  |  MAE: 4.086\n",
            "2016-06-03 - sMAPE: 19.67%  |  MAE: 4.081\n",
            "2016-06-04 - sMAPE: 19.70%  |  MAE: 4.086\n",
            "2016-06-05 - sMAPE: 19.70%  |  MAE: 4.084\n",
            "2016-06-06 - sMAPE: 19.68%  |  MAE: 4.079\n",
            "2016-06-07 - sMAPE: 19.71%  |  MAE: 4.078\n",
            "2016-06-08 - sMAPE: 19.85%  |  MAE: 4.086\n",
            "2016-06-09 - sMAPE: 19.91%  |  MAE: 4.086\n",
            "2016-06-10 - sMAPE: 19.90%  |  MAE: 4.086\n",
            "2016-06-11 - sMAPE: 19.87%  |  MAE: 4.083\n",
            "2016-06-12 - sMAPE: 19.85%  |  MAE: 4.078\n",
            "2016-06-13 - sMAPE: 19.88%  |  MAE: 4.080\n",
            "2016-06-14 - sMAPE: 20.02%  |  MAE: 4.082\n",
            "2016-06-15 - sMAPE: 20.07%  |  MAE: 4.085\n",
            "2016-06-16 - sMAPE: 20.06%  |  MAE: 4.084\n",
            "2016-06-17 - sMAPE: 20.04%  |  MAE: 4.084\n",
            "2016-06-18 - sMAPE: 20.02%  |  MAE: 4.081\n",
            "2016-06-19 - sMAPE: 20.00%  |  MAE: 4.077\n",
            "2016-06-20 - sMAPE: 19.99%  |  MAE: 4.076\n",
            "2016-06-21 - sMAPE: 19.97%  |  MAE: 4.071\n",
            "2016-06-22 - sMAPE: 19.97%  |  MAE: 4.069\n",
            "2016-06-23 - sMAPE: 19.94%  |  MAE: 4.064\n",
            "2016-06-24 - sMAPE: 19.91%  |  MAE: 4.062\n",
            "2016-06-25 - sMAPE: 19.89%  |  MAE: 4.060\n",
            "2016-06-26 - sMAPE: 19.86%  |  MAE: 4.055\n",
            "2016-06-27 - sMAPE: 19.84%  |  MAE: 4.051\n",
            "2016-06-28 - sMAPE: 19.82%  |  MAE: 4.048\n",
            "2016-06-29 - sMAPE: 19.82%  |  MAE: 4.046\n",
            "2016-06-30 - sMAPE: 19.83%  |  MAE: 4.049\n",
            "2016-07-01 - sMAPE: 19.81%  |  MAE: 4.048\n",
            "2016-07-02 - sMAPE: 19.79%  |  MAE: 4.045\n",
            "2016-07-03 - sMAPE: 19.77%  |  MAE: 4.043\n",
            "2016-07-04 - sMAPE: 19.75%  |  MAE: 4.039\n",
            "2016-07-05 - sMAPE: 19.75%  |  MAE: 4.042\n",
            "2016-07-06 - sMAPE: 19.77%  |  MAE: 4.039\n",
            "2016-07-07 - sMAPE: 19.79%  |  MAE: 4.044\n",
            "2016-07-08 - sMAPE: 19.86%  |  MAE: 4.045\n",
            "2016-07-09 - sMAPE: 19.84%  |  MAE: 4.042\n",
            "2016-07-10 - sMAPE: 19.81%  |  MAE: 4.038\n",
            "2016-07-11 - sMAPE: 19.78%  |  MAE: 4.033\n",
            "2016-07-12 - sMAPE: 19.86%  |  MAE: 4.034\n",
            "2016-07-13 - sMAPE: 19.99%  |  MAE: 4.053\n",
            "2016-07-14 - sMAPE: 20.07%  |  MAE: 4.055\n",
            "2016-07-15 - sMAPE: 20.05%  |  MAE: 4.054\n",
            "2016-07-16 - sMAPE: 20.02%  |  MAE: 4.050\n",
            "2016-07-17 - sMAPE: 19.99%  |  MAE: 4.046\n",
            "2016-07-18 - sMAPE: 19.97%  |  MAE: 4.044\n",
            "2016-07-19 - sMAPE: 19.95%  |  MAE: 4.042\n",
            "2016-07-20 - sMAPE: 19.93%  |  MAE: 4.037\n",
            "2016-07-21 - sMAPE: 19.90%  |  MAE: 4.034\n",
            "2016-07-22 - sMAPE: 19.88%  |  MAE: 4.031\n",
            "2016-07-23 - sMAPE: 19.85%  |  MAE: 4.028\n",
            "2016-07-24 - sMAPE: 19.83%  |  MAE: 4.027\n",
            "2016-07-25 - sMAPE: 19.80%  |  MAE: 4.023\n",
            "2016-07-26 - sMAPE: 19.78%  |  MAE: 4.018\n",
            "2016-07-27 - sMAPE: 19.75%  |  MAE: 4.014\n",
            "2016-07-28 - sMAPE: 19.73%  |  MAE: 4.010\n",
            "2016-07-29 - sMAPE: 19.71%  |  MAE: 4.007\n",
            "2016-07-30 - sMAPE: 19.69%  |  MAE: 4.005\n",
            "2016-07-31 - sMAPE: 19.66%  |  MAE: 4.001\n",
            "2016-08-01 - sMAPE: 19.63%  |  MAE: 3.997\n",
            "2016-08-02 - sMAPE: 19.63%  |  MAE: 3.997\n",
            "2016-08-03 - sMAPE: 19.67%  |  MAE: 3.999\n",
            "2016-08-04 - sMAPE: 19.64%  |  MAE: 3.996\n",
            "2016-08-05 - sMAPE: 19.65%  |  MAE: 3.994\n",
            "2016-08-06 - sMAPE: 19.71%  |  MAE: 3.995\n",
            "2016-08-07 - sMAPE: 19.69%  |  MAE: 3.993\n",
            "2016-08-08 - sMAPE: 19.67%  |  MAE: 3.992\n",
            "2016-08-09 - sMAPE: 19.66%  |  MAE: 3.991\n",
            "2016-08-10 - sMAPE: 19.64%  |  MAE: 3.987\n",
            "2016-08-11 - sMAPE: 19.61%  |  MAE: 3.984\n",
            "2016-08-12 - sMAPE: 19.59%  |  MAE: 3.980\n",
            "2016-08-13 - sMAPE: 19.58%  |  MAE: 3.979\n",
            "2016-08-14 - sMAPE: 19.57%  |  MAE: 3.979\n",
            "2016-08-15 - sMAPE: 19.54%  |  MAE: 3.976\n",
            "2016-08-16 - sMAPE: 19.52%  |  MAE: 3.973\n",
            "2016-08-17 - sMAPE: 19.49%  |  MAE: 3.969\n",
            "2016-08-18 - sMAPE: 19.47%  |  MAE: 3.967\n",
            "2016-08-19 - sMAPE: 19.45%  |  MAE: 3.963\n",
            "2016-08-20 - sMAPE: 19.43%  |  MAE: 3.959\n",
            "2016-08-21 - sMAPE: 19.41%  |  MAE: 3.959\n",
            "2016-08-22 - sMAPE: 19.39%  |  MAE: 3.959\n",
            "2016-08-23 - sMAPE: 19.37%  |  MAE: 3.957\n",
            "2016-08-24 - sMAPE: 19.37%  |  MAE: 3.957\n",
            "2016-08-25 - sMAPE: 19.35%  |  MAE: 3.956\n",
            "2016-08-26 - sMAPE: 19.33%  |  MAE: 3.953\n",
            "2016-08-27 - sMAPE: 19.31%  |  MAE: 3.951\n",
            "2016-08-28 - sMAPE: 19.29%  |  MAE: 3.949\n",
            "2016-08-29 - sMAPE: 19.27%  |  MAE: 3.946\n",
            "2016-08-30 - sMAPE: 19.26%  |  MAE: 3.944\n",
            "2016-08-31 - sMAPE: 19.29%  |  MAE: 3.941\n",
            "2016-09-01 - sMAPE: 19.28%  |  MAE: 3.947\n",
            "2016-09-02 - sMAPE: 19.27%  |  MAE: 3.946\n",
            "2016-09-03 - sMAPE: 19.35%  |  MAE: 3.954\n",
            "2016-09-04 - sMAPE: 19.36%  |  MAE: 3.964\n",
            "2016-09-05 - sMAPE: 19.34%  |  MAE: 3.963\n",
            "2016-09-06 - sMAPE: 19.32%  |  MAE: 3.961\n",
            "2016-09-07 - sMAPE: 19.30%  |  MAE: 3.958\n",
            "2016-09-08 - sMAPE: 19.30%  |  MAE: 3.971\n",
            "2016-09-09 - sMAPE: 19.27%  |  MAE: 3.967\n",
            "2016-09-10 - sMAPE: 19.25%  |  MAE: 3.964\n",
            "2016-09-11 - sMAPE: 19.23%  |  MAE: 3.962\n",
            "2016-09-12 - sMAPE: 19.20%  |  MAE: 3.958\n",
            "2016-09-13 - sMAPE: 19.19%  |  MAE: 3.956\n",
            "2016-09-14 - sMAPE: 19.17%  |  MAE: 3.953\n",
            "2016-09-15 - sMAPE: 19.15%  |  MAE: 3.952\n",
            "2016-09-16 - sMAPE: 19.13%  |  MAE: 3.951\n",
            "2016-09-17 - sMAPE: 19.11%  |  MAE: 3.949\n",
            "2016-09-18 - sMAPE: 19.09%  |  MAE: 3.947\n",
            "2016-09-19 - sMAPE: 19.07%  |  MAE: 3.947\n",
            "2016-09-20 - sMAPE: 19.09%  |  MAE: 3.948\n",
            "2016-09-21 - sMAPE: 19.13%  |  MAE: 3.954\n",
            "2016-09-22 - sMAPE: 19.13%  |  MAE: 3.961\n",
            "2016-09-23 - sMAPE: 19.13%  |  MAE: 3.984\n",
            "2016-09-24 - sMAPE: 19.11%  |  MAE: 3.981\n",
            "2016-09-25 - sMAPE: 19.09%  |  MAE: 3.979\n",
            "2016-09-26 - sMAPE: 19.07%  |  MAE: 3.979\n",
            "2016-09-27 - sMAPE: 19.05%  |  MAE: 3.977\n",
            "2016-09-28 - sMAPE: 19.03%  |  MAE: 3.973\n",
            "2016-09-29 - sMAPE: 19.02%  |  MAE: 3.987\n",
            "2016-09-30 - sMAPE: 19.00%  |  MAE: 3.986\n",
            "2016-10-01 - sMAPE: 18.99%  |  MAE: 3.988\n",
            "2016-10-02 - sMAPE: 18.97%  |  MAE: 3.987\n",
            "2016-10-03 - sMAPE: 18.95%  |  MAE: 3.985\n",
            "2016-10-04 - sMAPE: 18.95%  |  MAE: 3.986\n",
            "2016-10-05 - sMAPE: 18.95%  |  MAE: 3.988\n",
            "2016-10-06 - sMAPE: 18.93%  |  MAE: 3.986\n",
            "2016-10-07 - sMAPE: 18.92%  |  MAE: 3.992\n",
            "2016-10-08 - sMAPE: 18.90%  |  MAE: 3.990\n",
            "2016-10-09 - sMAPE: 18.88%  |  MAE: 3.990\n",
            "2016-10-10 - sMAPE: 18.91%  |  MAE: 3.991\n",
            "2016-10-11 - sMAPE: 18.96%  |  MAE: 3.990\n",
            "2016-10-12 - sMAPE: 19.04%  |  MAE: 3.995\n",
            "2016-10-13 - sMAPE: 19.03%  |  MAE: 3.993\n",
            "2016-10-14 - sMAPE: 19.02%  |  MAE: 3.991\n",
            "2016-10-15 - sMAPE: 19.00%  |  MAE: 3.989\n",
            "2016-10-16 - sMAPE: 19.00%  |  MAE: 3.988\n",
            "2016-10-17 - sMAPE: 18.98%  |  MAE: 3.986\n",
            "2016-10-18 - sMAPE: 18.97%  |  MAE: 3.987\n",
            "2016-10-19 - sMAPE: 18.95%  |  MAE: 3.983\n",
            "2016-10-20 - sMAPE: 18.93%  |  MAE: 3.983\n",
            "2016-10-21 - sMAPE: 18.91%  |  MAE: 3.980\n",
            "2016-10-22 - sMAPE: 18.89%  |  MAE: 3.978\n",
            "2016-10-23 - sMAPE: 18.87%  |  MAE: 3.975\n",
            "2016-10-24 - sMAPE: 18.85%  |  MAE: 3.972\n",
            "2016-10-25 - sMAPE: 18.83%  |  MAE: 3.969\n",
            "2016-10-26 - sMAPE: 18.81%  |  MAE: 3.966\n",
            "2016-10-27 - sMAPE: 18.79%  |  MAE: 3.964\n",
            "2016-10-28 - sMAPE: 18.77%  |  MAE: 3.962\n",
            "2016-10-29 - sMAPE: 18.81%  |  MAE: 3.964\n",
            "2016-10-30 - sMAPE: 18.81%  |  MAE: 3.964\n",
            "2016-10-31 - sMAPE: 18.80%  |  MAE: 3.962\n",
            "2016-11-01 - sMAPE: 18.81%  |  MAE: 3.962\n",
            "2016-11-02 - sMAPE: 18.91%  |  MAE: 3.967\n",
            "2016-11-03 - sMAPE: 18.90%  |  MAE: 3.966\n",
            "2016-11-04 - sMAPE: 18.88%  |  MAE: 3.963\n",
            "2016-11-05 - sMAPE: 18.90%  |  MAE: 3.964\n",
            "2016-11-06 - sMAPE: 18.90%  |  MAE: 3.965\n",
            "2016-11-07 - sMAPE: 18.89%  |  MAE: 3.964\n",
            "2016-11-08 - sMAPE: 18.89%  |  MAE: 3.965\n",
            "2016-11-09 - sMAPE: 18.93%  |  MAE: 3.971\n",
            "2016-11-10 - sMAPE: 18.96%  |  MAE: 3.970\n",
            "2016-11-11 - sMAPE: 18.94%  |  MAE: 3.969\n",
            "2016-11-12 - sMAPE: 18.92%  |  MAE: 3.966\n",
            "2016-11-13 - sMAPE: 18.90%  |  MAE: 3.963\n",
            "2016-11-14 - sMAPE: 18.89%  |  MAE: 3.964\n",
            "2016-11-15 - sMAPE: 18.87%  |  MAE: 3.961\n",
            "2016-11-16 - sMAPE: 18.85%  |  MAE: 3.958\n",
            "2016-11-17 - sMAPE: 18.83%  |  MAE: 3.958\n",
            "2016-11-18 - sMAPE: 18.81%  |  MAE: 3.956\n",
            "2016-11-19 - sMAPE: 18.80%  |  MAE: 3.960\n",
            "2016-11-20 - sMAPE: 18.78%  |  MAE: 3.957\n",
            "2016-11-21 - sMAPE: 18.77%  |  MAE: 3.955\n",
            "2016-11-22 - sMAPE: 18.76%  |  MAE: 3.954\n",
            "2016-11-23 - sMAPE: 18.86%  |  MAE: 3.958\n",
            "2016-11-24 - sMAPE: 18.88%  |  MAE: 3.958\n",
            "2016-11-25 - sMAPE: 18.86%  |  MAE: 3.956\n",
            "2016-11-26 - sMAPE: 18.86%  |  MAE: 3.954\n",
            "2016-11-27 - sMAPE: 18.90%  |  MAE: 3.954\n",
            "2016-11-28 - sMAPE: 18.88%  |  MAE: 3.952\n",
            "2016-11-29 - sMAPE: 18.87%  |  MAE: 3.951\n",
            "2016-11-30 - sMAPE: 18.90%  |  MAE: 3.955\n",
            "2016-12-01 - sMAPE: 18.88%  |  MAE: 3.955\n",
            "2016-12-02 - sMAPE: 18.87%  |  MAE: 3.955\n",
            "2016-12-03 - sMAPE: 18.85%  |  MAE: 3.951\n",
            "2016-12-04 - sMAPE: 18.83%  |  MAE: 3.953\n",
            "2016-12-05 - sMAPE: 18.82%  |  MAE: 3.961\n",
            "2016-12-06 - sMAPE: 18.81%  |  MAE: 3.961\n",
            "2016-12-07 - sMAPE: 18.79%  |  MAE: 3.957\n",
            "2016-12-08 - sMAPE: 18.77%  |  MAE: 3.956\n",
            "2016-12-09 - sMAPE: 18.75%  |  MAE: 3.955\n",
            "2016-12-10 - sMAPE: 18.75%  |  MAE: 3.968\n",
            "2016-12-11 - sMAPE: 18.74%  |  MAE: 3.972\n",
            "2016-12-12 - sMAPE: 18.73%  |  MAE: 3.974\n",
            "2016-12-13 - sMAPE: 18.71%  |  MAE: 3.973\n",
            "2016-12-14 - sMAPE: 18.70%  |  MAE: 3.972\n",
            "2016-12-15 - sMAPE: 18.69%  |  MAE: 3.973\n",
            "2016-12-16 - sMAPE: 18.67%  |  MAE: 3.975\n",
            "2016-12-17 - sMAPE: 18.67%  |  MAE: 3.992\n",
            "2016-12-18 - sMAPE: 18.66%  |  MAE: 3.998\n",
            "2016-12-19 - sMAPE: 18.64%  |  MAE: 3.996\n",
            "2016-12-20 - sMAPE: 18.63%  |  MAE: 3.996\n",
            "2016-12-21 - sMAPE: 18.61%  |  MAE: 3.993\n",
            "2016-12-22 - sMAPE: 18.59%  |  MAE: 3.993\n",
            "2016-12-23 - sMAPE: 18.58%  |  MAE: 3.992\n",
            "2016-12-24 - sMAPE: 18.57%  |  MAE: 3.997\n",
            "2016-12-25 - sMAPE: 18.56%  |  MAE: 3.997\n",
            "2016-12-26 - sMAPE: 18.55%  |  MAE: 3.999\n",
            "2016-12-27 - sMAPE: 18.54%  |  MAE: 3.998\n",
            "2016-12-28 - sMAPE: 18.52%  |  MAE: 3.997\n",
            "2016-12-29 - sMAPE: 18.52%  |  MAE: 3.994\n",
            "2016-12-30 - sMAPE: 18.56%  |  MAE: 3.996\n",
            "2016-12-31 - sMAPE: 18.55%  |  MAE: 3.996\n",
            "2017-01-01 - sMAPE: 18.59%  |  MAE: 3.997\n",
            "2017-01-02 - sMAPE: 18.59%  |  MAE: 3.999\n",
            "2017-01-03 - sMAPE: 18.66%  |  MAE: 4.011\n",
            "2017-01-04 - sMAPE: 18.84%  |  MAE: 4.043\n",
            "2017-01-05 - sMAPE: 18.86%  |  MAE: 4.048\n",
            "2017-01-06 - sMAPE: 18.85%  |  MAE: 4.051\n",
            "2017-01-07 - sMAPE: 18.84%  |  MAE: 4.050\n"
          ]
        }
      ],
      "source": [
        "    \n",
        "evaluate_lear_in_test_dataset(path_recalibration_folder=path_recalibration_folder, \n",
        "                             path_datasets_folder=path_datasets_folder, dataset=dataset, years_test=years_test, \n",
        "                             calibration_window=calibration_window, begin_test_date=begin_test_date, \n",
        "                             end_test_date=end_test_date)\n"
      ]
    },
    {
      "cell_type": "code",
      "execution_count": null,
      "metadata": {
        "colab": {
          "base_uri": "https://localhost:8080/"
        },
        "id": "MieNtnse9zrz",
        "outputId": "ec848c63-ccb3-4e5c-831f-c5e43f9a25eb"
      },
      "outputs": [
        {
          "name": "stdout",
          "output_type": "stream",
          "text": [
            "            index         h0         h1         h2         h3         h4  \\\n",
            "Date                                                                       \n",
            "2015-01-05      0  51.465088  51.125839  50.888016  50.548141  51.177063   \n",
            "2015-01-06      1  47.233803  46.335350  44.912575  44.852081  46.775047   \n",
            "2015-01-07      2   3.061676   2.166248  -0.065741   0.792267  -3.932011   \n",
            "2015-01-08      3  43.318512  41.074856  40.320946  40.603546  41.145702   \n",
            "2015-01-09      4  18.564064  16.300333  11.418878  10.201815   4.284416   \n",
            "...           ...        ...        ...        ...        ...        ...   \n",
            "2017-01-04    730 -25.733772 -28.228739 -27.849907 -26.055752 -20.752888   \n",
            "2017-01-05    731   6.886381   6.129295   7.185358   9.229809  19.593575   \n",
            "2017-01-06    732  38.416862  37.317528  35.642723  35.277199  37.911041   \n",
            "2017-01-07    733  35.417385  35.635826  34.380829  34.429054  36.965607   \n",
            "2017-01-08    734  36.474545  36.181095  35.175919  35.388645  36.699722   \n",
            "\n",
            "                   h5         h6         h7         h8  ...        h14  \\\n",
            "Date                                                    ...              \n",
            "2015-01-05  59.760208  70.147507  75.048737  75.978180  ...  75.334625   \n",
            "2015-01-06  50.578949  58.213425  61.203888  64.548981  ...  51.162518   \n",
            "2015-01-07  -7.056686  -0.313198   8.372540  15.082882  ...  33.119427   \n",
            "2015-01-08  43.579811  53.447685  58.638039  65.833534  ...  59.400169   \n",
            "2015-01-09  -2.925102   0.369812   4.869774  12.081799  ...  12.786577   \n",
            "...               ...        ...        ...        ...  ...        ...   \n",
            "2017-01-04 -17.604012  -6.807858  -4.775341  -1.896374  ...  12.596611   \n",
            "2017-01-05  36.393608  46.833885  46.592400  47.098259  ...  55.212402   \n",
            "2017-01-06  43.831692  52.485867  59.415825  59.539314  ...  56.062057   \n",
            "2017-01-07  42.730560  51.356632  54.039906  54.087601  ...  55.729774   \n",
            "2017-01-08  38.825813  44.503666  49.447662  50.917816  ...  56.427689   \n",
            "\n",
            "                  h15        h16        h17        h18        h19        h20  \\\n",
            "Date                                                                           \n",
            "2015-01-05  76.368668  80.306801  79.312729  76.164764  68.538162  60.756348   \n",
            "2015-01-06  52.522774  56.036186  51.102863  48.011723  43.682068  40.556316   \n",
            "2015-01-07  39.405319  52.956459  58.055260  54.138443  46.177788  43.899670   \n",
            "2015-01-08  57.828655  64.234970  62.951466  58.891800  54.098602  46.209167   \n",
            "2015-01-09  17.618229  25.270174  25.981020  20.167231  15.023497  11.549915   \n",
            "...               ...        ...        ...        ...        ...        ...   \n",
            "2017-01-04  22.697584  38.901039  42.877575  46.832275  42.623047  47.284634   \n",
            "2017-01-05  57.660568  65.315750  67.113022  60.861496  53.184113  45.512104   \n",
            "2017-01-06  57.939148  60.691399  57.224953  54.508297  48.423306  43.190079   \n",
            "2017-01-07  57.295563  62.219166  62.396133  58.784550  52.767368  47.308289   \n",
            "2017-01-08  58.564384  64.000473  64.079369  62.463104  55.626308  50.832794   \n",
            "\n",
            "                  h21        h22        h23  \n",
            "Date                                         \n",
            "2015-01-05  57.756866  52.188126  51.930874  \n",
            "2015-01-06  39.509789  34.428242  32.200993  \n",
            "2015-01-07  45.861355  40.271980  39.759605  \n",
            "2015-01-08  46.377956  38.432499  36.632744  \n",
            "2015-01-09  12.444992   6.483023   3.799603  \n",
            "...               ...        ...        ...  \n",
            "2017-01-04  47.717644  44.704205  42.448666  \n",
            "2017-01-05  41.626892  36.611034  37.956085  \n",
            "2017-01-06  41.428596  36.070038  34.617992  \n",
            "2017-01-07  45.069717  41.721462  40.332718  \n",
            "2017-01-08  47.794525  44.460091  43.684372  \n",
            "\n",
            "[735 rows x 25 columns]\n"
          ]
        }
      ],
      "source": [
        "#Download available forecast\n",
        "import pandas as pd\n",
        "import numpy as np\n",
        "forecast = pd.read_csv('/content/DNN_forecast_nl2_datEPF_data S3_YT2_SFH1_CW4_1.csv')\n",
        "forecast.reset_index(inplace=True)\n",
        "forecast['Date'] = pd.to_datetime(forecast['Date'])\n",
        "forecast = forecast.set_index('Date')\n",
        "print(forecast)"
      ]
    },
    {
      "cell_type": "code",
      "execution_count": null,
      "metadata": {
        "colab": {
          "base_uri": "https://localhost:8080/"
        },
        "id": "ggGuqXfE9cjg",
        "outputId": "413b059b-b07a-43c4-99f1-4c0194febd7f"
      },
      "outputs": [
        {
          "name": "stdout",
          "output_type": "stream",
          "text": [
            "Date           \n",
            "2015-01-05  h0     51.465088\n",
            "            h1     51.125839\n",
            "            h2     50.888016\n",
            "            h3     50.548141\n",
            "            h4     51.177063\n",
            "                     ...    \n",
            "2017-01-08  h19    55.626308\n",
            "            h20    50.832794\n",
            "            h21    47.794525\n",
            "            h22    44.460091\n",
            "            h23    43.684372\n",
            "Length: 17640, dtype: float64\n"
          ]
        }
      ],
      "source": [
        "forecast=forecast.iloc[:, 1:] \n",
        "df=forecast.stack()\n",
        "df.to_excel(\"forecast_LEAR_2.xlsx\", header=True)\n",
        "print(df)"
      ]
    },
    {
      "cell_type": "code",
      "execution_count": null,
      "metadata": {
        "colab": {
          "base_uri": "https://localhost:8080/"
        },
        "id": "CrDU-DEm-QHW",
        "outputId": "3c624bc0-12e2-4f51-b069-7b16066de6a7"
      },
      "outputs": [
        {
          "data": {
            "text/plain": [
              "Date           \n",
              "2015-01-05  h0     51.465088\n",
              "            h1     51.125839\n",
              "            h2     50.888016\n",
              "            h3     50.548141\n",
              "            h4     51.177063\n",
              "                     ...    \n",
              "2017-01-08  h19    55.626308\n",
              "            h20    50.832794\n",
              "            h21    47.794525\n",
              "            h22    44.460091\n",
              "            h23    43.684372\n",
              "Length: 17640, dtype: float64"
            ]
          },
          "execution_count": 25,
          "metadata": {},
          "output_type": "execute_result"
        }
      ],
      "source": [
        "df"
      ]
    },
    {
      "cell_type": "code",
      "execution_count": null,
      "metadata": {
        "id": "v63Rjcho-UtE"
      },
      "outputs": [],
      "source": [
        "\n",
        "df.to_excel(\"forecast_LEAR_2.xlsx\", header=True)"
      ]
    }
  ],
  "metadata": {
    "colab": {
      "provenance": [],
      "authorship_tag": "ABX9TyN0d40eqN2+YH3o6T5XqWln",
      "include_colab_link": true
    },
    "kernelspec": {
      "display_name": "Python 3",
      "name": "python3"
    },
    "language_info": {
      "name": "python"
    }
  },
  "nbformat": 4,
  "nbformat_minor": 0
}