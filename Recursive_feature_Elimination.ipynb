{
  "cells": [
    {
      "cell_type": "markdown",
      "metadata": {
        "id": "view-in-github",
        "colab_type": "text"
      },
      "source": [
        "<a href=\"https://colab.research.google.com/github/souhirbenamor/EPF/blob/main/Recursive_feature_Elimination.ipynb\" target=\"_parent\"><img src=\"https://colab.research.google.com/assets/colab-badge.svg\" alt=\"Open In Colab\"/></a>"
      ]
    },
    {
      "cell_type": "markdown",
      "source": [
        "https://github.com/MachineLearnia/Python-Machine-Learning/blob/master/23%20-%20Sklearn%20Feature%20Selection.**ipynb**"
      ],
      "metadata": {
        "id": "F3zExDxdgRGT"
      }
    },
    {
      "cell_type": "code",
      "execution_count": 180,
      "metadata": {
        "id": "wwSsHFrW8Go5"
      },
      "outputs": [],
      "source": [
        "import pandas as pd\n",
        "import numpy as np\n",
        "from sklearn.feature_selection import SelectKBest\n",
        "from sklearn.feature_selection import chi2"
      ]
    },
    {
      "cell_type": "code",
      "execution_count": 181,
      "metadata": {
        "colab": {
          "base_uri": "https://localhost:8080/"
        },
        "id": "PDp2k7OM8MI3",
        "outputId": "b10c37f2-9934-4fdc-be17-dfe62c2c5a31"
      },
      "outputs": [
        {
          "output_type": "execute_result",
          "data": {
            "text/plain": [
              "(52416, 7)"
            ]
          },
          "metadata": {},
          "execution_count": 181
        }
      ],
      "source": [
        "df = pd.read_csv('/content/NP_exo-2.csv')\n",
        "\n",
        "#df = df.set_index(\"Date\") # define Date  as index\n",
        "\n",
        "df.shape"
      ]
    },
    {
      "cell_type": "code",
      "source": [
        "X=df.iloc[:, 1:7]\n",
        "y=df.iloc[:, 0]"
      ],
      "metadata": {
        "id": "jHVSZtn7ULYF"
      },
      "execution_count": 189,
      "outputs": []
    },
    {
      "cell_type": "code",
      "source": [
        "feature_names = list(X.columns.values)"
      ],
      "metadata": {
        "id": "QnsnAVbUVuvy"
      },
      "execution_count": 191,
      "outputs": []
    },
    {
      "cell_type": "markdown",
      "source": [
        "# 1. Variance Threshold"
      ],
      "metadata": {
        "id": "tIFWO98cXCrL"
      }
    },
    {
      "cell_type": "code",
      "source": [
        "from sklearn.feature_selection import VarianceThreshold"
      ],
      "metadata": {
        "id": "ewW9rLEqXBVs"
      },
      "execution_count": 192,
      "outputs": []
    },
    {
      "cell_type": "code",
      "source": [
        "X.var(axis=0)"
      ],
      "metadata": {
        "colab": {
          "base_uri": "https://localhost:8080/"
        },
        "id": "gRiwG6FkXLDi",
        "outputId": "287c0d72-bf1a-42fd-e465-587ac2bf5052"
      },
      "execution_count": 193,
      "outputs": [
        {
          "output_type": "execute_result",
          "data": {
            "text/plain": [
              " Grid load forecast         7.550860e+07\n",
              " Wind power forecast        1.291355e+06\n",
              "NP Consumption              7.457011e+07\n",
              "NP Consumption prognosis    7.578419e+07\n",
              "NP Production               8.516992e+07\n",
              "NP Production prognosis     8.288054e+07\n",
              "dtype: float64"
            ]
          },
          "metadata": {},
          "execution_count": 193
        }
      ]
    },
    {
      "cell_type": "code",
      "source": [
        "selector = VarianceThreshold(threshold=0.2)\n",
        "selector.fit(X)"
      ],
      "metadata": {
        "colab": {
          "base_uri": "https://localhost:8080/"
        },
        "id": "AYNxUiTEXSOM",
        "outputId": "58c7b50d-4f62-46dc-fad4-898ea570d4d1"
      },
      "execution_count": 194,
      "outputs": [
        {
          "output_type": "execute_result",
          "data": {
            "text/plain": [
              "VarianceThreshold(threshold=0.2)"
            ]
          },
          "metadata": {},
          "execution_count": 194
        }
      ]
    },
    {
      "cell_type": "code",
      "source": [
        "selector.get_support()"
      ],
      "metadata": {
        "colab": {
          "base_uri": "https://localhost:8080/"
        },
        "id": "qMpgtj6TXVGo",
        "outputId": "066eea11-e5f4-4374-8db3-33c1c0571b4e"
      },
      "execution_count": 195,
      "outputs": [
        {
          "output_type": "execute_result",
          "data": {
            "text/plain": [
              "array([ True,  True,  True,  True,  True,  True])"
            ]
          },
          "metadata": {},
          "execution_count": 195
        }
      ]
    },
    {
      "cell_type": "code",
      "source": [
        "np.array(feature_names)[selector.get_support()]"
      ],
      "metadata": {
        "colab": {
          "base_uri": "https://localhost:8080/"
        },
        "id": "EsVwAPN0XYKt",
        "outputId": "e52808fb-001e-4700-abe5-a27d6c694f55"
      },
      "execution_count": 196,
      "outputs": [
        {
          "output_type": "execute_result",
          "data": {
            "text/plain": [
              "array([' Grid load forecast', ' Wind power forecast', 'NP Consumption',\n",
              "       'NP Consumption prognosis', 'NP Production',\n",
              "       'NP Production prognosis'], dtype='<U24')"
            ]
          },
          "metadata": {},
          "execution_count": 196
        }
      ]
    },
    {
      "cell_type": "code",
      "source": [
        "selector.variances_"
      ],
      "metadata": {
        "colab": {
          "base_uri": "https://localhost:8080/"
        },
        "id": "134UcCudXcyB",
        "outputId": "19d49de3-9683-4a71-e3a2-86ec0b88c51d"
      },
      "execution_count": 197,
      "outputs": [
        {
          "output_type": "execute_result",
          "data": {
            "text/plain": [
              "array([75507159.01411188,  1291330.5030808 , 74568689.60528776,\n",
              "       75782744.20445755, 85168297.58204749, 82878960.11765087])"
            ]
          },
          "metadata": {},
          "execution_count": 197
        }
      ]
    },
    {
      "cell_type": "markdown",
      "source": [
        "# 2. SelectKBest"
      ],
      "metadata": {
        "id": "OqioBrb-Xkiw"
      }
    },
    {
      "cell_type": "code",
      "source": [
        "from sklearn.feature_selection import SelectKBest, chi2, f_classif"
      ],
      "metadata": {
        "id": "HjORJlX7XgY-"
      },
      "execution_count": 198,
      "outputs": []
    },
    {
      "cell_type": "code",
      "source": [
        "y=y.astype('int')"
      ],
      "metadata": {
        "id": "_X_cIzjUZzts"
      },
      "execution_count": 200,
      "outputs": []
    },
    {
      "cell_type": "code",
      "source": [
        "chi2(X, y)"
      ],
      "metadata": {
        "colab": {
          "base_uri": "https://localhost:8080/"
        },
        "id": "oWJYu1fLXpXn",
        "outputId": "6aab5464-6cf5-42c5-a0c6-4e4fe8f62097"
      },
      "execution_count": 201,
      "outputs": [
        {
          "output_type": "execute_result",
          "data": {
            "text/plain": [
              "(array([13658634.91708614,  1612385.44463438, 10541824.11032791,\n",
              "        10386210.4616281 ,  8173717.62366025,  8357949.32045664]),\n",
              " array([0., 0., 0., 0., 0., 0.]))"
            ]
          },
          "metadata": {},
          "execution_count": 201
        }
      ]
    },
    {
      "cell_type": "code",
      "source": [
        "selector = SelectKBest(f_classif, k=2)\n",
        "selector.fit(X, y)\n",
        "selector.scores_"
      ],
      "metadata": {
        "colab": {
          "base_uri": "https://localhost:8080/"
        },
        "id": "x77fGjqmZ2Y_",
        "outputId": "6e5068fc-09cb-4ee2-a55a-ff40acd76e12"
      },
      "execution_count": 203,
      "outputs": [
        {
          "output_type": "execute_result",
          "data": {
            "text/plain": [
              "array([89.69392727, 18.53645475, 67.25220705, 65.12056606, 44.76303966,\n",
              "       46.40652263])"
            ]
          },
          "metadata": {},
          "execution_count": 203
        }
      ]
    },
    {
      "cell_type": "code",
      "source": [
        "np.array(feature_names)[selector.get_support()]"
      ],
      "metadata": {
        "colab": {
          "base_uri": "https://localhost:8080/"
        },
        "id": "snJM3KZ2Z50f",
        "outputId": "f18a51a6-27b2-41d6-9057-7a1fd30db27c"
      },
      "execution_count": 205,
      "outputs": [
        {
          "output_type": "execute_result",
          "data": {
            "text/plain": [
              "array([' Grid load forecast', 'NP Consumption'], dtype='<U24')"
            ]
          },
          "metadata": {},
          "execution_count": 205
        }
      ]
    },
    {
      "cell_type": "markdown",
      "source": [
        "# 3. Recursive feature Elimination"
      ],
      "metadata": {
        "id": "KVwbXkvKaB4f"
      }
    },
    {
      "cell_type": "code",
      "source": [
        "from sklearn.feature_selection import RFECV\n",
        "from sklearn.linear_model import SGDClassifier"
      ],
      "metadata": {
        "id": "xWMsYrFnURje"
      },
      "execution_count": 206,
      "outputs": []
    },
    {
      "cell_type": "code",
      "source": [
        "selector = RFECV(SGDClassifier(random_state=0), step=1, min_features_to_select=2, cv=5)\n",
        "selector.fit(X, y)\n",
        "print(selector.ranking_)\n",
        "print(selector.grid_scores_)"
      ],
      "metadata": {
        "colab": {
          "base_uri": "https://localhost:8080/"
        },
        "id": "3g35puQ2UUZV",
        "outputId": "03657155-6dca-49c2-9ae3-3a1cb0bba8b8"
      },
      "execution_count": 207,
      "outputs": [
        {
          "output_type": "stream",
          "name": "stderr",
          "text": [
            "/usr/local/lib/python3.7/dist-packages/sklearn/model_selection/_split.py:680: UserWarning: The least populated class in y has only 1 members, which is less than n_splits=5.\n",
            "  UserWarning,\n"
          ]
        },
        {
          "output_type": "stream",
          "name": "stdout",
          "text": [
            "[1 1 1 3 1 2]\n",
            "[[0.01735979 0.02012783 0.02995326 0.00524659 0.05141658]\n",
            " [0.04912247 0.02699609 0.02022322 0.04922255 0.03348278]\n",
            " [0.04912247 0.00953925 0.02871315 0.05170276 0.05141658]\n",
            " [0.01182755 0.01631212 0.0281408  0.05418296 0.03500906]\n",
            " [0.04807325 0.01631212 0.02356196 0.02365735 0.05122579]]\n"
          ]
        },
        {
          "output_type": "stream",
          "name": "stderr",
          "text": [
            "/usr/local/lib/python3.7/dist-packages/sklearn/utils/deprecation.py:103: FutureWarning: The `grid_scores_` attribute is deprecated in version 1.0 in favor of `cv_results_` and will be removed in version 1.2.\n",
            "  warnings.warn(msg, category=FutureWarning)\n"
          ]
        }
      ]
    },
    {
      "cell_type": "code",
      "source": [
        "np.array(feature_names)[selector.get_support()]"
      ],
      "metadata": {
        "colab": {
          "base_uri": "https://localhost:8080/"
        },
        "id": "09HQmSWMfNju",
        "outputId": "2f4b5e2a-6f5c-4662-9b5a-842c8dbfb9cd"
      },
      "execution_count": 208,
      "outputs": [
        {
          "output_type": "execute_result",
          "data": {
            "text/plain": [
              "array([' Grid load forecast', ' Wind power forecast', 'NP Consumption',\n",
              "       'NP Production'], dtype='<U24')"
            ]
          },
          "metadata": {},
          "execution_count": 208
        }
      ]
    },
    {
      "cell_type": "markdown",
      "source": [
        "# 4. SelectFromModel"
      ],
      "metadata": {
        "id": "wKJ_meVifZ7Y"
      }
    },
    {
      "cell_type": "code",
      "source": [
        "from sklearn.feature_selection import SelectFromModel"
      ],
      "metadata": {
        "id": "WiFDlvgTfTLu"
      },
      "execution_count": 209,
      "outputs": []
    },
    {
      "cell_type": "code",
      "source": [
        "selector = SelectFromModel(SGDClassifier(random_state=0), threshold='mean')\n",
        "selector.fit(X, y)\n",
        "selector.estimator_.coef_"
      ],
      "metadata": {
        "colab": {
          "base_uri": "https://localhost:8080/"
        },
        "id": "evPcmHbAfd6q",
        "outputId": "917ca01d-7b9e-40c8-a878-ad3c32a1e414"
      },
      "execution_count": 210,
      "outputs": [
        {
          "output_type": "execute_result",
          "data": {
            "text/plain": [
              "array([[-6.41577226e+02,  3.23241364e+03,  4.61244528e+02,\n",
              "         5.51824663e+02, -7.30866619e+02, -5.42373978e+02],\n",
              "       [-1.18657984e+03,  4.87010408e+03, -1.70420374e+02,\n",
              "         3.02871271e+02,  8.12744749e+02, -6.71632589e+02],\n",
              "       [-7.29733186e+02,  3.97889658e+03, -7.36732457e+02,\n",
              "        -2.25153242e+02,  7.53590138e+02,  1.67251646e+00],\n",
              "       [-6.05361585e+02,  3.68191691e+03, -1.56851166e+03,\n",
              "        -5.51464969e+02,  1.13595217e+03,  1.05917579e+03],\n",
              "       [-3.80206441e+02,  2.38120129e+03, -1.85502300e+03,\n",
              "        -5.80423628e+02,  1.19477551e+03,  9.09869068e+02],\n",
              "       [-5.01081438e+02,  2.24963742e+03, -2.26804218e+03,\n",
              "        -5.24005743e+02,  1.12484165e+03,  1.28314964e+03],\n",
              "       [-2.42838532e+02,  1.49309485e+03, -1.42391703e+03,\n",
              "        -4.11503283e+02,  8.58305354e+02,  7.02131426e+02],\n",
              "       [-2.15320183e+02,  9.69158291e+02, -1.11973295e+03,\n",
              "        -3.09611596e+02,  7.98979464e+02,  4.99555046e+02],\n",
              "       [-2.00065536e+02,  9.83870253e+02, -1.23153070e+03,\n",
              "        -2.76639547e+02,  7.02475351e+02,  6.25575901e+02],\n",
              "       [-9.43671745e+01,  1.09096884e+03, -1.02033949e+03,\n",
              "        -2.84675121e+02,  5.02650574e+02,  6.93851627e+02],\n",
              "       [-1.84950095e+02,  1.33429783e+03, -1.34280870e+03,\n",
              "        -3.41903798e+02,  8.58579466e+02,  8.45066500e+02],\n",
              "       [-1.33200900e+02,  7.13770923e+02, -7.18647986e+02,\n",
              "        -2.25411087e+02,  3.08517986e+02,  5.09314596e+02],\n",
              "       [-1.62176502e+02,  1.24284608e+03, -9.98692273e+02,\n",
              "        -3.17163147e+02,  2.95533484e+02,  8.44269945e+02],\n",
              "       [-1.44687841e+02,  1.21710240e+03, -4.96987874e+02,\n",
              "        -2.52079723e+02, -1.75523143e+02,  8.00829651e+02],\n",
              "       [-8.38054457e+01,  9.55663887e+02, -2.88221804e+02,\n",
              "        -1.81636455e+02, -1.93320999e+02,  6.12468615e+02],\n",
              "       [-1.41270634e+02,  1.12530718e+03, -3.75875166e+02,\n",
              "        -1.67074470e+02, -4.03990866e+02,  8.19772045e+02],\n",
              "       [-1.45516207e+02,  1.25584325e+03, -2.14597947e+02,\n",
              "        -2.53721054e+02, -3.33545570e+02,  7.08202311e+02],\n",
              "       [-5.63767277e+01,  7.71519116e+02, -4.45091697e+02,\n",
              "         6.85434120e+01, -3.89678351e+02,  5.83431423e+02],\n",
              "       [-1.11720580e+02,  3.71988640e+02, -2.09130317e+02,\n",
              "        -2.71291967e+01, -1.93233485e+02,  4.40670498e+02],\n",
              "       [-1.11276359e+02,  2.18519117e+02, -2.75985196e+02,\n",
              "         1.15467183e+02, -2.48783440e+02,  4.09016852e+02],\n",
              "       [-9.26738604e+01,  4.81135887e+02, -2.11717241e+02,\n",
              "        -1.07907406e+02, -2.50022224e+02,  5.18827133e+02],\n",
              "       [-7.69109697e+01,  2.11462137e+02, -2.37648419e+02,\n",
              "         3.60071440e+01, -8.20983765e+01,  2.53976758e+02],\n",
              "       [-5.96902634e+01,  2.10913766e+02, -1.64953352e+02,\n",
              "         1.02550053e+02, -4.53074529e+00,  9.36820162e+01],\n",
              "       [-5.76669614e+01,  2.72759343e+02, -1.89511257e+02,\n",
              "        -2.58422381e+01,  8.80912682e+01,  8.93999425e+01],\n",
              "       [-5.52745512e+01,  2.29675624e+02, -1.41283164e+02,\n",
              "         2.87717666e+01,  1.08155517e+02,  1.00505997e+01],\n",
              "       [-3.80037603e+01,  1.61555198e+02, -1.46857987e+02,\n",
              "         3.02316103e+01,  1.79948642e+02, -1.11173155e+02],\n",
              "       [-2.02989568e+00,  7.27082593e+01, -1.04060906e+02,\n",
              "         9.61967682e+01,  1.63234983e+02, -1.00988835e+02],\n",
              "       [-5.55321242e+01,  3.57872760e+01, -9.45006523e+01,\n",
              "         8.31985532e+01,  1.74285902e+02, -2.08413233e+02],\n",
              "       [-4.85503701e+01, -7.22407074e+01, -2.75810108e+02,\n",
              "         2.42049147e+02,  3.75625682e+02, -4.20653014e+02],\n",
              "       [-8.20147158e+01, -7.95438583e+01, -1.27615908e+02,\n",
              "         1.51287268e+02,  3.35844281e+02, -3.88582571e+02],\n",
              "       [ 2.63040543e+01, -2.43943884e+02, -1.42005916e+02,\n",
              "         1.30840132e+02,  2.50343197e+02, -3.09085485e+02],\n",
              "       [ 2.60899427e+01, -2.24656008e+02, -1.77731634e+02,\n",
              "         2.07300895e+02,  1.70221323e+02, -3.16664389e+02],\n",
              "       [-9.22676822e+00, -5.25980300e+02, -7.81683662e+01,\n",
              "         1.56233897e+02,  1.78053645e+02, -3.22117188e+02],\n",
              "       [ 3.33212589e+01, -4.22097419e+02, -3.44821024e+00,\n",
              "         1.17685556e+02, -5.05942583e+01, -1.28804245e+02],\n",
              "       [ 2.05465979e+01, -3.31391152e+02,  6.98901462e+01,\n",
              "         7.42618094e+01, -7.36794050e+01, -1.15455227e+02],\n",
              "       [-2.81088158e+01, -3.00519621e+02,  1.64951007e+02,\n",
              "         9.31072475e+01, -1.58452653e+02, -9.79053103e+01],\n",
              "       [-8.75893520e+01, -3.92163764e+02,  8.42105921e+01,\n",
              "         1.86322959e+02, -2.75132338e+02, -2.80712938e+01],\n",
              "       [-4.06507389e+01, -4.56814944e+02,  1.40028443e+02,\n",
              "         7.06959121e+01, -3.36703175e+02,  5.29456830e+01],\n",
              "       [-4.04462536e+01, -2.76043099e+02,  3.79773259e+01,\n",
              "         1.40600922e+02, -2.42564994e+02,  5.09119189e+01],\n",
              "       [-1.29227760e+01, -3.32371396e+02,  7.51948595e+01,\n",
              "        -1.31417711e+01, -1.95039284e+02,  6.28088438e+01],\n",
              "       [-3.29455006e+01, -5.18332765e+02,  1.84345206e+02,\n",
              "        -3.78880977e+01, -1.88846026e+02,  6.82658586e+01],\n",
              "       [-4.62989362e+01, -6.25000040e+02,  1.23770028e+02,\n",
              "        -3.25926286e+01, -2.04848865e+01, -2.77238389e+01],\n",
              "       [-6.70429393e+01, -3.90124140e+02,  2.20489504e+02,\n",
              "        -8.41218146e+01, -1.95767142e+02, -2.69595746e+01],\n",
              "       [-8.07678631e+00, -8.85390911e+02,  1.86609340e+02,\n",
              "        -6.67985604e+01, -2.43160719e+02, -8.87426994e+01],\n",
              "       [ 6.27740150e+01, -3.94666286e+02,  5.18155779e+01,\n",
              "        -5.16901583e+01, -7.91411845e+01, -3.21881374e+01],\n",
              "       [-1.89499806e+00, -3.66484747e+02,  1.70458182e+02,\n",
              "        -7.01478478e+01, -1.74957955e+02, -1.58535764e+01],\n",
              "       [-2.64598524e+01, -2.81945344e+02,  7.68413311e+01,\n",
              "        -2.31635127e+01, -6.37538673e+01, -3.81991832e+01],\n",
              "       [ 2.81787744e+00, -4.86903391e+02,  3.86183794e+01,\n",
              "         5.60541135e+00,  1.01831972e+01, -8.16251053e+01],\n",
              "       [ 2.84088621e+01, -5.33991505e+02,  5.82748155e+01,\n",
              "         1.03376870e+01, -6.53031497e+01, -6.16647163e+01],\n",
              "       [-6.31135338e+00, -5.35773500e+02,  2.75259277e+02,\n",
              "        -1.42640768e+02, -2.23739651e+02,  4.29536988e+01],\n",
              "       [ 4.12392864e+01, -1.95845721e+02,  1.23458350e+02,\n",
              "        -9.55543548e+01, -1.67671523e+02,  5.09539006e+01],\n",
              "       [ 2.87168430e+01, -3.03799377e+02,  2.45965905e+02,\n",
              "        -1.72353839e+02, -2.82099111e+02,  1.06822826e+02],\n",
              "       [ 4.60841836e+01, -1.08868283e+03, -1.09089579e+02,\n",
              "         5.95038613e+01, -2.33717805e+02,  8.36694431e+01],\n",
              "       [ 8.35926563e+01, -8.97642651e+02,  1.19502620e+02,\n",
              "        -1.13552777e+02, -2.63369072e+02,  1.05438999e+02],\n",
              "       [ 1.34334859e+02, -9.42246835e+02, -1.74307497e+02,\n",
              "         4.25108544e+01, -2.75511881e+02,  1.68913579e+02],\n",
              "       [ 2.66737064e+02, -1.90526084e+03, -6.65830408e+02,\n",
              "         3.28600126e+02, -1.66843277e+02, -9.79262149e+01],\n",
              "       [ 2.13882819e+02, -8.97319586e+02, -5.58138110e+02,\n",
              "         1.68616178e+02, -1.52126655e+02,  1.43280999e+02],\n",
              "       [ 3.60558168e+02, -2.85493377e+03, -2.17969920e+02,\n",
              "        -3.91247493e+02, -4.33812129e+02,  3.26890720e+02],\n",
              "       [ 1.89302257e+02, -3.45704446e+03, -7.72401820e+01,\n",
              "        -3.20676766e+01, -2.79426339e+02, -6.18446854e+01],\n",
              "       [ 3.34764789e+02, -2.65394450e+03, -6.88066095e+02,\n",
              "         2.91766390e+02, -5.81616471e+02,  4.47706231e+02],\n",
              "       [ 2.61586680e+02, -3.59437573e+03, -2.02925886e+02,\n",
              "        -1.50132588e+02, -1.46647877e+02, -4.84106569e+01],\n",
              "       [ 2.56076735e+02, -3.25055939e+03, -4.98008893e+02,\n",
              "         3.87871479e+01, -2.48696248e+02, -2.38064589e-11],\n",
              "       [ 2.83107779e+02, -2.56350507e+03, -5.13416359e+02,\n",
              "         2.05153848e+02, -1.93027554e+02,  1.60952668e+01],\n",
              "       [ 4.30900642e+02, -3.63407057e+03, -9.68490467e+02,\n",
              "         2.03442478e+02, -4.39461974e+02,  1.83515665e+02],\n",
              "       [ 8.97846070e+02, -2.07007835e+03, -1.24478441e+03,\n",
              "        -3.38830766e+02, -9.16057402e+02,  1.25743127e+03],\n",
              "       [ 9.74044955e+02, -2.29659684e+03, -1.06996541e+03,\n",
              "        -4.69248550e+02, -4.00183199e+02,  6.01318251e+02],\n",
              "       [ 6.81458298e+02, -1.58546328e+03, -6.05858546e+02,\n",
              "        -5.51071083e+02, -2.97151763e+02,  3.83140793e+02],\n",
              "       [ 4.51877731e+01, -1.50823958e+03, -2.02658102e+02,\n",
              "        -9.30946451e+01, -1.25575703e+02,  3.58271733e+01],\n",
              "       [ 4.33929323e+02, -3.01855095e+03, -1.32533756e+02,\n",
              "        -2.74182581e+02, -5.14755881e+02,  3.10931001e+01],\n",
              "       [ 1.02701307e+03, -2.82662184e+03, -7.19407406e+02,\n",
              "        -6.50361615e+02, -3.84193235e+02,  3.74926524e+02],\n",
              "       [ 6.31123771e+01, -1.08235316e+03,  2.38366079e+02,\n",
              "        -6.42442497e+01, -4.30899702e+02,  1.21020236e+02],\n",
              "       [ 3.68136426e+02, -1.41910944e+03, -1.27055638e+02,\n",
              "        -4.45368589e+02, -3.46197735e+02,  2.96503563e+02],\n",
              "       [ 1.37683097e+03, -1.66828588e+03, -1.41995011e+03,\n",
              "        -5.22080179e+02, -3.62417944e+02,  6.90375779e+01],\n",
              "       [ 5.22699435e+02, -2.69658991e+03, -3.90512625e+02,\n",
              "        -3.15023676e+02, -3.63645689e+02,  2.69517101e+01],\n",
              "       [ 1.29169715e+02, -2.50991714e+03, -4.24694695e+01,\n",
              "        -9.47712477e+01, -6.25992994e+02,  2.44649202e+02],\n",
              "       [ 6.29538601e+02, -1.41306562e+03, -1.28443803e+03,\n",
              "        -1.12574791e+02,  1.47804263e+02,  3.85229688e+02],\n",
              "       [ 1.12333713e+03, -2.04868380e+03, -1.11133929e+03,\n",
              "        -7.23367373e+02, -3.63563607e+02,  4.95931097e+01],\n",
              "       [ 1.66996805e+02, -2.19066175e+03, -3.64559986e+02,\n",
              "        -8.81261813e+01,  7.27478894e+01, -1.14602943e+02],\n",
              "       [ 1.00898477e+03, -2.10542814e+02, -5.34419093e+02,\n",
              "        -1.69348298e+02, -6.83343511e+02, -1.11700248e+02],\n",
              "       [ 3.25299396e+01, -2.06474062e+02,  1.11811166e+02,\n",
              "        -1.19506542e+01, -3.37304547e+02,  6.25257866e+01],\n",
              "       [ 2.98162495e+02, -1.17791767e+03, -3.62930676e+02,\n",
              "        -3.20629138e+02, -2.50736324e+02,  2.46398780e+02],\n",
              "       [ 4.80429829e+02, -5.87312518e+02, -4.80086054e+02,\n",
              "        -9.47197409e+01, -2.39189137e+02, -8.20156251e+01],\n",
              "       [ 1.36566110e+02, -6.15607833e+02, -1.21412816e+02,\n",
              "        -3.02116982e+02, -3.12895840e+02,  2.19070951e+02],\n",
              "       [-6.47777793e+01, -6.86076476e+02,  2.42024958e+02,\n",
              "        -2.36095031e+01, -3.76291820e+02, -3.72559654e+01],\n",
              "       [ 1.08228507e+03,  2.56568482e+02, -5.80963953e+02,\n",
              "        -3.68012980e+02, -8.27473079e+02, -2.10339355e+02],\n",
              "       [ 1.03333769e+03, -1.21340638e+02, -5.08599228e+02,\n",
              "        -3.55212291e+02, -8.39662788e+02,  4.34386964e+01],\n",
              "       [ 6.38833592e+02,  2.50049034e+02, -5.35997479e+02,\n",
              "        -2.98730013e+01, -4.86479578e+02, -7.35352935e+01],\n",
              "       [ 6.12351304e+02, -2.29059642e+02, -5.02370083e+02,\n",
              "        -3.25665940e+02, -5.39773060e+02,  7.51483442e+01],\n",
              "       [ 2.68266749e+02, -6.98883403e+02, -4.31572641e+01,\n",
              "        -3.84529385e+02, -4.91783689e+02,  2.18141816e+02],\n",
              "       [-2.71690849e+02, -5.36113661e+02,  7.80329397e+00,\n",
              "        -1.11794694e+02, -1.46034652e+02,  4.53392664e+02],\n",
              "       [ 7.98914040e+01, -5.86178346e+02,  1.52581992e+02,\n",
              "        -1.70579921e+02, -4.87851603e+02,  2.48743064e+02],\n",
              "       [ 3.48805929e+02, -1.37633995e+03,  2.40327751e+01,\n",
              "         6.69898898e+00, -1.22047383e+03,  2.57758918e+02],\n",
              "       [-5.69275517e+01,  1.61755352e+02, -2.18401846e+02,\n",
              "        -4.07165497e+01, -5.61449401e+02, -2.63826111e+01],\n",
              "       [ 1.92805892e+02, -6.84780896e+02,  1.07979985e+01,\n",
              "         2.19651242e+02, -7.36065520e+02, -1.42788859e+02],\n",
              "       [-1.38354101e+02, -3.25466719e+02, -2.55144786e+02,\n",
              "        -2.46347129e+02,  1.49899204e+02,  2.19390529e+02],\n",
              "       [ 1.19164307e+03,  2.82131046e+02, -4.46671972e+02,\n",
              "        -2.01111184e+02, -9.26947530e+02, -1.82296092e+02],\n",
              "       [-1.04653708e+02, -3.22184447e+02, -8.94686294e+01,\n",
              "        -1.13537922e+02, -1.82069675e+02,  2.26248108e+02],\n",
              "       [ 4.33838569e+02, -4.19888615e+02, -4.18427100e+01,\n",
              "         1.56510809e+02, -9.93410310e+02, -2.51866888e+02],\n",
              "       [-1.27424908e+02, -2.87299264e+02, -3.07985708e+02,\n",
              "        -3.75231610e+02, -5.08223909e+01,  1.62627163e+01],\n",
              "       [ 1.08444376e+02, -3.93002811e+02, -1.09594865e+02,\n",
              "         2.93251704e+01, -5.34912887e+02, -2.22979576e+02],\n",
              "       [ 5.32958785e+01, -4.09780889e+02, -3.12115435e+01,\n",
              "         7.41391776e+01, -4.05065969e+02, -1.44389946e+02],\n",
              "       [ 9.70037750e+02, -6.45232156e+02, -4.78784991e+02,\n",
              "         5.41327374e+00, -1.04325815e+03, -4.29519066e+02],\n",
              "       [ 3.32182219e+02, -3.88025104e+02, -9.77745249e+01,\n",
              "         5.83329465e+01, -5.79079807e+02, -1.89604566e+02],\n",
              "       [ 1.25003908e+03,  2.53378262e+02, -6.56909148e+02,\n",
              "        -2.70810028e+02, -1.20610127e+03, -4.43167945e+02],\n",
              "       [ 6.82561545e+02, -7.11456315e+02, -9.92816100e+01,\n",
              "         8.62421098e+01, -6.99402995e+02, -2.79180447e+02]])"
            ]
          },
          "metadata": {},
          "execution_count": 210
        }
      ]
    },
    {
      "cell_type": "code",
      "source": [
        "np.array(feature_names)[selector.get_support()]"
      ],
      "metadata": {
        "colab": {
          "base_uri": "https://localhost:8080/"
        },
        "id": "qzJ8Ia2Vf6NY",
        "outputId": "58bfe421-243b-4176-8c6d-634e4fdce276"
      },
      "execution_count": 211,
      "outputs": [
        {
          "output_type": "execute_result",
          "data": {
            "text/plain": [
              "array([' Wind power forecast'], dtype='<U24')"
            ]
          },
          "metadata": {},
          "execution_count": 211
        }
      ]
    }
  ],
  "metadata": {
    "colab": {
      "name": "Recursive feature Elimination.ipynb",
      "provenance": [],
      "authorship_tag": "ABX9TyMspZamiucuLmJf1k6TwYFC",
      "include_colab_link": true
    },
    "kernelspec": {
      "display_name": "Python 3",
      "name": "python3"
    },
    "language_info": {
      "name": "python"
    }
  },
  "nbformat": 4,
  "nbformat_minor": 0
}