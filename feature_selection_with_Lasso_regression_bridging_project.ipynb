{
  "nbformat": 4,
  "nbformat_minor": 0,
  "metadata": {
    "colab": {
      "name": "feature selection with Lasso regression_bridging project.ipynb",
      "provenance": [],
      "authorship_tag": "ABX9TyMr5rFunt5ZfENMSmQFZuKw",
      "include_colab_link": true
    },
    "kernelspec": {
      "name": "python3",
      "display_name": "Python 3"
    },
    "language_info": {
      "name": "python"
    }
  },
  "cells": [
    {
      "cell_type": "markdown",
      "metadata": {
        "id": "view-in-github",
        "colab_type": "text"
      },
      "source": [
        "<a href=\"https://colab.research.google.com/github/souhirbenamor/EPF/blob/main/feature_selection_with_Lasso_regression_bridging_project.ipynb\" target=\"_parent\"><img src=\"https://colab.research.google.com/assets/colab-badge.svg\" alt=\"Open In Colab\"/></a>"
      ]
    },
    {
      "cell_type": "code",
      "execution_count": 1,
      "metadata": {
        "id": "4e8Ab1WRaXNm"
      },
      "outputs": [],
      "source": [
        "import numpy as np\n",
        "from sklearn.preprocessing import StandardScaler\n",
        "from sklearn.pipeline import Pipeline\n",
        "from sklearn.model_selection import train_test_split, GridSearchCV\n",
        "from sklearn.linear_model import Lasso"
      ]
    },
    {
      "cell_type": "code",
      "source": [
        "import pandas as pd\n",
        "import numpy as np\n",
        "df = pd.read_excel('electricty_fund_data.xlsx')\n",
        "\n",
        "df = df.set_index(\"Date\") # define Date  as index\n",
        "\n",
        "df.shape"
      ],
      "metadata": {
        "colab": {
          "base_uri": "https://localhost:8080/"
        },
        "id": "k6Iyoy8EagBf",
        "outputId": "50e6615a-213e-4527-8efc-c862532c1078"
      },
      "execution_count": 2,
      "outputs": [
        {
          "output_type": "execute_result",
          "data": {
            "text/plain": [
              "(52608, 11)"
            ]
          },
          "metadata": {},
          "execution_count": 2
        }
      ]
    },
    {
      "cell_type": "code",
      "source": [
        "X=df.iloc[:, 1:11]\n",
        "y=df.iloc[:, 0]"
      ],
      "metadata": {
        "id": "Ftyl2YmuamqX"
      },
      "execution_count": 3,
      "outputs": []
    },
    {
      "cell_type": "code",
      "source": [
        "X_train = X[:-17472]; X_test = X[-17472:]\n",
        "y_train = y[:-17472]; y_test = y[-17472:]\n",
        "\n",
        "X_train.shape, y_train.shape, X_test.shape, y_test.shape"
      ],
      "metadata": {
        "colab": {
          "base_uri": "https://localhost:8080/"
        },
        "id": "HLWQhfAraqjP",
        "outputId": "5f85f937-081e-48ba-bc5e-bb67da5b1509"
      },
      "execution_count": 4,
      "outputs": [
        {
          "output_type": "execute_result",
          "data": {
            "text/plain": [
              "((35136, 10), (35136,), (17472, 10), (17472,))"
            ]
          },
          "metadata": {},
          "execution_count": 4
        }
      ]
    },
    {
      "cell_type": "code",
      "source": [
        "features = list(X.columns.values)"
      ],
      "metadata": {
        "id": "xydeusENatai"
      },
      "execution_count": 5,
      "outputs": []
    },
    {
      "cell_type": "code",
      "source": [
        "pipeline = Pipeline([\n",
        "                     ('scaler',StandardScaler()),\n",
        "                     ('model',Lasso())\n",
        "])"
      ],
      "metadata": {
        "id": "16JtJX-ga78R"
      },
      "execution_count": 6,
      "outputs": []
    },
    {
      "cell_type": "code",
      "source": [
        "search = GridSearchCV(pipeline,\n",
        "                      {'model__alpha':np.arange(0.1,10,0.1)},\n",
        "                      cv = 5, scoring=\"neg_mean_squared_error\",verbose=3\n",
        "                      )"
      ],
      "metadata": {
        "id": "Fp_XoHBva-1g"
      },
      "execution_count": 7,
      "outputs": []
    },
    {
      "cell_type": "code",
      "source": [
        "search.fit(X_train,y_train)"
      ],
      "metadata": {
        "colab": {
          "base_uri": "https://localhost:8080/"
        },
        "id": "7Z7uNRa3bBQG",
        "outputId": "e2c35a29-7312-41a3-e269-4020e2483a1e"
      },
      "execution_count": 8,
      "outputs": [
        {
          "output_type": "stream",
          "name": "stdout",
          "text": [
            "Fitting 5 folds for each of 99 candidates, totalling 495 fits\n",
            "[CV 1/5] END ................model__alpha=0.1;, score=-32.801 total time=   0.2s\n",
            "[CV 2/5] END ................model__alpha=0.1;, score=-26.790 total time=   0.3s\n",
            "[CV 3/5] END ................model__alpha=0.1;, score=-25.574 total time=   0.3s\n",
            "[CV 4/5] END ................model__alpha=0.1;, score=-34.139 total time=   0.2s\n",
            "[CV 5/5] END ................model__alpha=0.1;, score=-47.350 total time=   0.4s\n",
            "[CV 1/5] END ................model__alpha=0.2;, score=-33.819 total time=   0.1s\n",
            "[CV 2/5] END ................model__alpha=0.2;, score=-24.490 total time=   0.1s\n",
            "[CV 3/5] END ................model__alpha=0.2;, score=-25.739 total time=   0.1s\n",
            "[CV 4/5] END ................model__alpha=0.2;, score=-34.425 total time=   0.1s\n",
            "[CV 5/5] END ................model__alpha=0.2;, score=-53.646 total time=   0.1s\n",
            "[CV 1/5] END model__alpha=0.30000000000000004;, score=-35.810 total time=   0.1s\n",
            "[CV 2/5] END model__alpha=0.30000000000000004;, score=-22.871 total time=   0.1s\n",
            "[CV 3/5] END model__alpha=0.30000000000000004;, score=-26.132 total time=   0.1s\n",
            "[CV 4/5] END model__alpha=0.30000000000000004;, score=-35.178 total time=   0.1s\n",
            "[CV 5/5] END model__alpha=0.30000000000000004;, score=-69.745 total time=   0.1s\n",
            "[CV 1/5] END ................model__alpha=0.4;, score=-38.668 total time=   0.1s\n",
            "[CV 2/5] END ................model__alpha=0.4;, score=-21.953 total time=   0.3s\n",
            "[CV 3/5] END ................model__alpha=0.4;, score=-26.583 total time=   0.0s\n",
            "[CV 4/5] END ................model__alpha=0.4;, score=-36.224 total time=   0.1s\n",
            "[CV 5/5] END ................model__alpha=0.4;, score=-83.543 total time=   0.1s\n",
            "[CV 1/5] END ................model__alpha=0.5;, score=-41.730 total time=   0.1s\n",
            "[CV 2/5] END ................model__alpha=0.5;, score=-21.289 total time=   0.1s\n",
            "[CV 3/5] END ................model__alpha=0.5;, score=-26.926 total time=   0.1s\n",
            "[CV 4/5] END ................model__alpha=0.5;, score=-37.025 total time=   0.1s\n",
            "[CV 5/5] END ................model__alpha=0.5;, score=-98.711 total time=   0.1s\n",
            "[CV 1/5] END ................model__alpha=0.6;, score=-44.643 total time=   0.1s\n",
            "[CV 2/5] END ................model__alpha=0.6;, score=-20.869 total time=   0.1s\n",
            "[CV 3/5] END ................model__alpha=0.6;, score=-27.423 total time=   0.1s\n",
            "[CV 4/5] END ................model__alpha=0.6;, score=-37.969 total time=   0.1s\n",
            "[CV 5/5] END ...............model__alpha=0.6;, score=-116.295 total time=   0.1s\n",
            "[CV 1/5] END .model__alpha=0.7000000000000001;, score=-47.670 total time=   0.1s\n",
            "[CV 2/5] END .model__alpha=0.7000000000000001;, score=-20.629 total time=   0.1s\n",
            "[CV 3/5] END .model__alpha=0.7000000000000001;, score=-28.067 total time=   0.1s\n",
            "[CV 4/5] END .model__alpha=0.7000000000000001;, score=-39.057 total time=   0.1s\n",
            "[CV 5/5] END model__alpha=0.7000000000000001;, score=-136.299 total time=   0.1s\n",
            "[CV 1/5] END ................model__alpha=0.8;, score=-51.039 total time=   0.1s\n",
            "[CV 2/5] END ................model__alpha=0.8;, score=-20.569 total time=   0.1s\n",
            "[CV 3/5] END ................model__alpha=0.8;, score=-28.859 total time=   0.1s\n",
            "[CV 4/5] END ................model__alpha=0.8;, score=-40.289 total time=   0.1s\n",
            "[CV 5/5] END ...............model__alpha=0.8;, score=-148.659 total time=   0.1s\n",
            "[CV 1/5] END ................model__alpha=0.9;, score=-54.749 total time=   0.1s\n",
            "[CV 2/5] END ................model__alpha=0.9;, score=-20.695 total time=   0.1s\n",
            "[CV 3/5] END ................model__alpha=0.9;, score=-29.797 total time=   0.1s\n",
            "[CV 4/5] END ................model__alpha=0.9;, score=-41.664 total time=   0.1s\n",
            "[CV 5/5] END ...............model__alpha=0.9;, score=-154.741 total time=   0.1s\n",
            "[CV 1/5] END ................model__alpha=1.0;, score=-58.806 total time=   0.1s\n",
            "[CV 2/5] END ................model__alpha=1.0;, score=-21.003 total time=   0.1s\n",
            "[CV 3/5] END ................model__alpha=1.0;, score=-30.884 total time=   0.1s\n",
            "[CV 4/5] END ................model__alpha=1.0;, score=-43.183 total time=   0.1s\n",
            "[CV 5/5] END ...............model__alpha=1.0;, score=-160.995 total time=   0.1s\n",
            "[CV 1/5] END ................model__alpha=1.1;, score=-63.197 total time=   0.1s\n",
            "[CV 2/5] END ................model__alpha=1.1;, score=-21.494 total time=   0.1s\n",
            "[CV 3/5] END ................model__alpha=1.1;, score=-32.117 total time=   0.1s\n",
            "[CV 4/5] END ................model__alpha=1.1;, score=-44.845 total time=   0.1s\n",
            "[CV 5/5] END ...............model__alpha=1.1;, score=-167.423 total time=   0.1s\n",
            "[CV 1/5] END .model__alpha=1.2000000000000002;, score=-67.939 total time=   0.1s\n",
            "[CV 2/5] END .model__alpha=1.2000000000000002;, score=-22.166 total time=   0.1s\n",
            "[CV 3/5] END .model__alpha=1.2000000000000002;, score=-33.498 total time=   0.1s\n",
            "[CV 4/5] END .model__alpha=1.2000000000000002;, score=-46.651 total time=   0.1s\n",
            "[CV 5/5] END model__alpha=1.2000000000000002;, score=-174.022 total time=   0.1s\n",
            "[CV 1/5] END .model__alpha=1.3000000000000003;, score=-73.023 total time=   0.1s\n",
            "[CV 2/5] END .model__alpha=1.3000000000000003;, score=-23.022 total time=   0.0s\n",
            "[CV 3/5] END .model__alpha=1.3000000000000003;, score=-35.026 total time=   0.0s\n",
            "[CV 4/5] END .model__alpha=1.3000000000000003;, score=-48.601 total time=   0.1s\n",
            "[CV 5/5] END model__alpha=1.3000000000000003;, score=-180.794 total time=   0.0s\n",
            "[CV 1/5] END .model__alpha=1.4000000000000001;, score=-78.340 total time=   0.0s\n",
            "[CV 2/5] END .model__alpha=1.4000000000000001;, score=-24.059 total time=   0.0s\n",
            "[CV 3/5] END .model__alpha=1.4000000000000001;, score=-36.702 total time=   0.0s\n",
            "[CV 4/5] END .model__alpha=1.4000000000000001;, score=-50.693 total time=   0.0s\n",
            "[CV 5/5] END model__alpha=1.4000000000000001;, score=-187.739 total time=   0.0s\n",
            "[CV 1/5] END .model__alpha=1.5000000000000002;, score=-78.986 total time=   0.0s\n",
            "[CV 2/5] END .model__alpha=1.5000000000000002;, score=-25.280 total time=   0.0s\n",
            "[CV 3/5] END .model__alpha=1.5000000000000002;, score=-38.525 total time=   0.1s\n",
            "[CV 4/5] END .model__alpha=1.5000000000000002;, score=-52.930 total time=   0.1s\n",
            "[CV 5/5] END model__alpha=1.5000000000000002;, score=-194.856 total time=   0.1s\n",
            "[CV 1/5] END ................model__alpha=1.6;, score=-79.706 total time=   0.0s\n",
            "[CV 2/5] END ................model__alpha=1.6;, score=-26.682 total time=   0.1s\n",
            "[CV 3/5] END ................model__alpha=1.6;, score=-40.495 total time=   0.1s\n",
            "[CV 4/5] END ................model__alpha=1.6;, score=-55.310 total time=   0.0s\n",
            "[CV 5/5] END ...............model__alpha=1.6;, score=-202.147 total time=   0.0s\n",
            "[CV 1/5] END .model__alpha=1.7000000000000002;, score=-80.511 total time=   0.1s\n",
            "[CV 2/5] END .model__alpha=1.7000000000000002;, score=-28.267 total time=   0.1s\n",
            "[CV 3/5] END .model__alpha=1.7000000000000002;, score=-42.613 total time=   0.1s\n",
            "[CV 4/5] END .model__alpha=1.7000000000000002;, score=-57.833 total time=   0.0s\n",
            "[CV 5/5] END model__alpha=1.7000000000000002;, score=-209.609 total time=   0.0s\n",
            "[CV 1/5] END .model__alpha=1.8000000000000003;, score=-80.602 total time=   0.0s\n",
            "[CV 2/5] END .model__alpha=1.8000000000000003;, score=-30.035 total time=   0.1s\n",
            "[CV 3/5] END .model__alpha=1.8000000000000003;, score=-44.577 total time=   0.1s\n",
            "[CV 4/5] END .model__alpha=1.8000000000000003;, score=-60.500 total time=   0.0s\n",
            "[CV 5/5] END model__alpha=1.8000000000000003;, score=-217.290 total time=   0.0s\n",
            "[CV 1/5] END .model__alpha=1.9000000000000001;, score=-80.290 total time=   0.1s\n",
            "[CV 2/5] END .model__alpha=1.9000000000000001;, score=-31.985 total time=   0.1s\n",
            "[CV 3/5] END .model__alpha=1.9000000000000001;, score=-45.701 total time=   0.0s\n",
            "[CV 4/5] END .model__alpha=1.9000000000000001;, score=-62.374 total time=   0.0s\n",
            "[CV 5/5] END model__alpha=1.9000000000000001;, score=-225.282 total time=   0.1s\n",
            "[CV 1/5] END ................model__alpha=2.0;, score=-79.995 total time=   0.1s\n",
            "[CV 2/5] END ................model__alpha=2.0;, score=-34.118 total time=   0.1s\n",
            "[CV 3/5] END ................model__alpha=2.0;, score=-46.881 total time=   0.1s\n",
            "[CV 4/5] END ................model__alpha=2.0;, score=-64.085 total time=   0.0s\n",
            "[CV 5/5] END ...............model__alpha=2.0;, score=-233.474 total time=   0.1s\n",
            "[CV 1/5] END ................model__alpha=2.1;, score=-79.755 total time=   0.0s\n",
            "[CV 2/5] END ................model__alpha=2.1;, score=-36.437 total time=   0.0s\n",
            "[CV 3/5] END ................model__alpha=2.1;, score=-48.115 total time=   0.0s\n",
            "[CV 4/5] END ................model__alpha=2.1;, score=-65.860 total time=   0.1s\n",
            "[CV 5/5] END ...............model__alpha=2.1;, score=-241.869 total time=   0.1s\n",
            "[CV 1/5] END ................model__alpha=2.2;, score=-79.008 total time=   0.1s\n",
            "[CV 2/5] END ................model__alpha=2.2;, score=-39.321 total time=   0.0s\n",
            "[CV 3/5] END ................model__alpha=2.2;, score=-49.404 total time=   0.0s\n",
            "[CV 4/5] END ................model__alpha=2.2;, score=-67.699 total time=   0.1s\n",
            "[CV 5/5] END ...............model__alpha=2.2;, score=-250.204 total time=   0.1s\n",
            "[CV 1/5] END .model__alpha=2.3000000000000003;, score=-77.947 total time=   0.1s\n",
            "[CV 2/5] END .model__alpha=2.3000000000000003;, score=-42.424 total time=   0.1s\n",
            "[CV 3/5] END .model__alpha=2.3000000000000003;, score=-50.749 total time=   0.0s\n",
            "[CV 4/5] END .model__alpha=2.3000000000000003;, score=-69.603 total time=   0.1s\n",
            "[CV 5/5] END model__alpha=2.3000000000000003;, score=-255.724 total time=   0.1s\n",
            "[CV 1/5] END .model__alpha=2.4000000000000004;, score=-76.941 total time=   0.0s\n",
            "[CV 2/5] END .model__alpha=2.4000000000000004;, score=-45.747 total time=   0.1s\n",
            "[CV 3/5] END .model__alpha=2.4000000000000004;, score=-52.149 total time=   0.1s\n",
            "[CV 4/5] END .model__alpha=2.4000000000000004;, score=-71.571 total time=   0.0s\n",
            "[CV 5/5] END model__alpha=2.4000000000000004;, score=-261.344 total time=   0.0s\n",
            "[CV 1/5] END .model__alpha=2.5000000000000004;, score=-75.990 total time=   0.0s\n",
            "[CV 2/5] END .model__alpha=2.5000000000000004;, score=-49.291 total time=   0.0s\n",
            "[CV 3/5] END .model__alpha=2.5000000000000004;, score=-53.603 total time=   0.0s\n",
            "[CV 4/5] END .model__alpha=2.5000000000000004;, score=-73.603 total time=   0.1s\n",
            "[CV 5/5] END model__alpha=2.5000000000000004;, score=-267.064 total time=   0.1s\n",
            "[CV 1/5] END ................model__alpha=2.6;, score=-75.095 total time=   0.1s\n",
            "[CV 2/5] END ................model__alpha=2.6;, score=-53.055 total time=   0.0s\n",
            "[CV 3/5] END ................model__alpha=2.6;, score=-55.113 total time=   0.1s\n",
            "[CV 4/5] END ................model__alpha=2.6;, score=-75.700 total time=   0.1s\n",
            "[CV 5/5] END ...............model__alpha=2.6;, score=-271.082 total time=   0.1s\n",
            "[CV 1/5] END ................model__alpha=2.7;, score=-74.255 total time=   0.1s\n",
            "[CV 2/5] END ................model__alpha=2.7;, score=-57.039 total time=   0.1s\n",
            "[CV 3/5] END ................model__alpha=2.7;, score=-56.678 total time=   0.1s\n",
            "[CV 4/5] END ................model__alpha=2.7;, score=-77.861 total time=   0.1s\n",
            "[CV 5/5] END ...............model__alpha=2.7;, score=-275.026 total time=   0.0s\n",
            "[CV 1/5] END .model__alpha=2.8000000000000003;, score=-73.470 total time=   0.0s\n",
            "[CV 2/5] END .model__alpha=2.8000000000000003;, score=-61.243 total time=   0.1s\n",
            "[CV 3/5] END .model__alpha=2.8000000000000003;, score=-58.298 total time=   0.1s\n",
            "[CV 4/5] END .model__alpha=2.8000000000000003;, score=-79.066 total time=   0.1s\n",
            "[CV 5/5] END model__alpha=2.8000000000000003;, score=-277.839 total time=   0.0s\n",
            "[CV 1/5] END .model__alpha=2.9000000000000004;, score=-72.741 total time=   0.1s\n",
            "[CV 2/5] END .model__alpha=2.9000000000000004;, score=-64.915 total time=   0.0s\n",
            "[CV 3/5] END .model__alpha=2.9000000000000004;, score=-59.973 total time=   0.0s\n",
            "[CV 4/5] END .model__alpha=2.9000000000000004;, score=-79.728 total time=   0.0s\n",
            "[CV 5/5] END model__alpha=2.9000000000000004;, score=-278.688 total time=   0.1s\n",
            "[CV 1/5] END .model__alpha=3.0000000000000004;, score=-72.068 total time=   0.1s\n",
            "[CV 2/5] END .model__alpha=3.0000000000000004;, score=-68.493 total time=   0.1s\n",
            "[CV 3/5] END .model__alpha=3.0000000000000004;, score=-61.703 total time=   0.1s\n",
            "[CV 4/5] END .model__alpha=3.0000000000000004;, score=-80.414 total time=   0.1s\n",
            "[CV 5/5] END model__alpha=3.0000000000000004;, score=-279.557 total time=   0.1s\n",
            "[CV 1/5] END ................model__alpha=3.1;, score=-71.450 total time=   0.1s\n",
            "[CV 2/5] END ................model__alpha=3.1;, score=-72.217 total time=   0.1s\n",
            "[CV 3/5] END ................model__alpha=3.1;, score=-63.474 total time=   0.0s\n",
            "[CV 4/5] END ................model__alpha=3.1;, score=-81.126 total time=   0.0s\n",
            "[CV 5/5] END ...............model__alpha=3.1;, score=-280.444 total time=   0.0s\n",
            "[CV 1/5] END ................model__alpha=3.2;, score=-70.887 total time=   0.1s\n",
            "[CV 2/5] END ................model__alpha=3.2;, score=-76.087 total time=   0.1s\n",
            "[CV 3/5] END ................model__alpha=3.2;, score=-64.472 total time=   0.0s\n",
            "[CV 4/5] END ................model__alpha=3.2;, score=-81.862 total time=   0.0s\n",
            "[CV 5/5] END ...............model__alpha=3.2;, score=-281.350 total time=   0.1s\n",
            "[CV 1/5] END .model__alpha=3.3000000000000003;, score=-70.380 total time=   0.0s\n",
            "[CV 2/5] END .model__alpha=3.3000000000000003;, score=-77.310 total time=   0.0s\n",
            "[CV 3/5] END .model__alpha=3.3000000000000003;, score=-65.501 total time=   0.1s\n",
            "[CV 4/5] END .model__alpha=3.3000000000000003;, score=-82.624 total time=   0.0s\n",
            "[CV 5/5] END model__alpha=3.3000000000000003;, score=-282.274 total time=   0.0s\n",
            "[CV 1/5] END .model__alpha=3.4000000000000004;, score=-69.928 total time=   0.0s\n",
            "[CV 2/5] END .model__alpha=3.4000000000000004;, score=-78.487 total time=   0.0s\n",
            "[CV 3/5] END .model__alpha=3.4000000000000004;, score=-66.561 total time=   0.1s\n",
            "[CV 4/5] END .model__alpha=3.4000000000000004;, score=-83.410 total time=   0.1s\n",
            "[CV 5/5] END model__alpha=3.4000000000000004;, score=-283.217 total time=   0.1s\n",
            "[CV 1/5] END .model__alpha=3.5000000000000004;, score=-69.532 total time=   0.0s\n",
            "[CV 2/5] END .model__alpha=3.5000000000000004;, score=-79.692 total time=   0.0s\n",
            "[CV 3/5] END .model__alpha=3.5000000000000004;, score=-67.651 total time=   0.0s\n",
            "[CV 4/5] END .model__alpha=3.5000000000000004;, score=-84.221 total time=   0.0s\n",
            "[CV 5/5] END model__alpha=3.5000000000000004;, score=-284.179 total time=   0.1s\n",
            "[CV 1/5] END ................model__alpha=3.6;, score=-69.191 total time=   0.0s\n",
            "[CV 2/5] END ................model__alpha=3.6;, score=-80.925 total time=   0.0s\n",
            "[CV 3/5] END ................model__alpha=3.6;, score=-68.771 total time=   0.1s\n",
            "[CV 4/5] END ................model__alpha=3.6;, score=-85.057 total time=   0.0s\n",
            "[CV 5/5] END ...............model__alpha=3.6;, score=-285.159 total time=   0.1s\n",
            "[CV 1/5] END ................model__alpha=3.7;, score=-69.053 total time=   0.0s\n",
            "[CV 2/5] END ................model__alpha=3.7;, score=-82.188 total time=   0.1s\n",
            "[CV 3/5] END ................model__alpha=3.7;, score=-69.922 total time=   0.0s\n",
            "[CV 4/5] END ................model__alpha=3.7;, score=-85.918 total time=   0.0s\n",
            "[CV 5/5] END ...............model__alpha=3.7;, score=-286.158 total time=   0.0s\n",
            "[CV 1/5] END .model__alpha=3.8000000000000003;, score=-69.142 total time=   0.0s\n",
            "[CV 2/5] END .model__alpha=3.8000000000000003;, score=-83.479 total time=   0.1s\n",
            "[CV 3/5] END .model__alpha=3.8000000000000003;, score=-71.103 total time=   0.1s\n",
            "[CV 4/5] END .model__alpha=3.8000000000000003;, score=-86.804 total time=   0.0s\n",
            "[CV 5/5] END model__alpha=3.8000000000000003;, score=-287.175 total time=   0.0s\n",
            "[CV 1/5] END .model__alpha=3.9000000000000004;, score=-69.251 total time=   0.0s\n",
            "[CV 2/5] END .model__alpha=3.9000000000000004;, score=-84.799 total time=   0.1s\n",
            "[CV 3/5] END .model__alpha=3.9000000000000004;, score=-72.315 total time=   0.1s\n",
            "[CV 4/5] END .model__alpha=3.9000000000000004;, score=-87.714 total time=   0.1s\n",
            "[CV 5/5] END model__alpha=3.9000000000000004;, score=-288.211 total time=   0.0s\n",
            "[CV 1/5] END ................model__alpha=4.0;, score=-69.379 total time=   0.0s\n",
            "[CV 2/5] END ................model__alpha=4.0;, score=-86.148 total time=   0.0s\n",
            "[CV 3/5] END ................model__alpha=4.0;, score=-73.557 total time=   0.0s\n",
            "[CV 4/5] END ................model__alpha=4.0;, score=-88.650 total time=   0.0s\n",
            "[CV 5/5] END ...............model__alpha=4.0;, score=-289.266 total time=   0.0s\n",
            "[CV 1/5] END ................model__alpha=4.1;, score=-69.528 total time=   0.0s\n",
            "[CV 2/5] END ................model__alpha=4.1;, score=-87.525 total time=   0.1s\n",
            "[CV 3/5] END ................model__alpha=4.1;, score=-74.829 total time=   0.0s\n",
            "[CV 4/5] END ................model__alpha=4.1;, score=-89.610 total time=   0.0s\n",
            "[CV 5/5] END ...............model__alpha=4.1;, score=-290.339 total time=   0.0s\n",
            "[CV 1/5] END ................model__alpha=4.2;, score=-69.697 total time=   0.1s\n",
            "[CV 2/5] END ................model__alpha=4.2;, score=-88.932 total time=   0.0s\n",
            "[CV 3/5] END ................model__alpha=4.2;, score=-76.132 total time=   0.0s\n",
            "[CV 4/5] END ................model__alpha=4.2;, score=-90.595 total time=   0.1s\n",
            "[CV 5/5] END ...............model__alpha=4.2;, score=-291.431 total time=   0.1s\n",
            "[CV 1/5] END ................model__alpha=4.3;, score=-69.885 total time=   0.0s\n",
            "[CV 2/5] END ................model__alpha=4.3;, score=-90.367 total time=   0.1s\n",
            "[CV 3/5] END ................model__alpha=4.3;, score=-77.466 total time=   0.1s\n",
            "[CV 4/5] END ................model__alpha=4.3;, score=-91.605 total time=   0.0s\n",
            "[CV 5/5] END ...............model__alpha=4.3;, score=-292.541 total time=   0.0s\n",
            "[CV 1/5] END .model__alpha=4.3999999999999995;, score=-70.094 total time=   0.0s\n",
            "[CV 2/5] END .model__alpha=4.3999999999999995;, score=-91.830 total time=   0.0s\n",
            "[CV 3/5] END .model__alpha=4.3999999999999995;, score=-78.830 total time=   0.1s\n",
            "[CV 4/5] END .model__alpha=4.3999999999999995;, score=-92.640 total time=   0.1s\n",
            "[CV 5/5] END model__alpha=4.3999999999999995;, score=-293.670 total time=   0.1s\n",
            "[CV 1/5] END ................model__alpha=4.5;, score=-70.322 total time=   0.1s\n",
            "[CV 2/5] END ................model__alpha=4.5;, score=-93.323 total time=   0.1s\n",
            "[CV 3/5] END ................model__alpha=4.5;, score=-80.224 total time=   0.1s\n",
            "[CV 4/5] END ................model__alpha=4.5;, score=-93.700 total time=   0.0s\n",
            "[CV 5/5] END ...............model__alpha=4.5;, score=-294.818 total time=   0.1s\n",
            "[CV 1/5] END ................model__alpha=4.6;, score=-70.571 total time=   0.1s\n",
            "[CV 2/5] END ................model__alpha=4.6;, score=-94.844 total time=   0.1s\n",
            "[CV 3/5] END ................model__alpha=4.6;, score=-81.645 total time=   0.1s\n",
            "[CV 4/5] END ................model__alpha=4.6;, score=-94.785 total time=   0.1s\n",
            "[CV 5/5] END ...............model__alpha=4.6;, score=-295.984 total time=   0.1s\n",
            "[CV 1/5] END ................model__alpha=4.7;, score=-70.839 total time=   0.1s\n",
            "[CV 2/5] END ................model__alpha=4.7;, score=-96.393 total time=   0.1s\n",
            "[CV 3/5] END ................model__alpha=4.7;, score=-82.955 total time=   0.1s\n",
            "[CV 4/5] END ................model__alpha=4.7;, score=-95.894 total time=   0.0s\n",
            "[CV 5/5] END ...............model__alpha=4.7;, score=-297.169 total time=   0.0s\n",
            "[CV 1/5] END ................model__alpha=4.8;, score=-71.127 total time=   0.0s\n",
            "[CV 2/5] END ................model__alpha=4.8;, score=-97.972 total time=   0.0s\n",
            "[CV 3/5] END ................model__alpha=4.8;, score=-84.290 total time=   0.0s\n",
            "[CV 4/5] END ................model__alpha=4.8;, score=-97.029 total time=   0.1s\n",
            "[CV 5/5] END ...............model__alpha=4.8;, score=-298.373 total time=   0.1s\n",
            "[CV 1/5] END ................model__alpha=4.9;, score=-71.435 total time=   0.1s\n",
            "[CV 2/5] END ................model__alpha=4.9;, score=-99.579 total time=   0.1s\n",
            "[CV 3/5] END ................model__alpha=4.9;, score=-85.651 total time=   0.1s\n",
            "[CV 4/5] END ................model__alpha=4.9;, score=-98.188 total time=   0.1s\n",
            "[CV 5/5] END ...............model__alpha=4.9;, score=-299.595 total time=   0.0s\n",
            "[CV 1/5] END ................model__alpha=5.0;, score=-71.764 total time=   0.1s\n",
            "[CV 2/5] END ...............model__alpha=5.0;, score=-101.215 total time=   0.1s\n",
            "[CV 3/5] END ................model__alpha=5.0;, score=-87.037 total time=   0.1s\n",
            "[CV 4/5] END ................model__alpha=5.0;, score=-99.372 total time=   0.1s\n",
            "[CV 5/5] END ...............model__alpha=5.0;, score=-300.835 total time=   0.1s\n",
            "[CV 1/5] END ................model__alpha=5.1;, score=-72.112 total time=   0.1s\n",
            "[CV 2/5] END ...............model__alpha=5.1;, score=-102.232 total time=   0.0s\n",
            "[CV 3/5] END ................model__alpha=5.1;, score=-88.448 total time=   0.1s\n",
            "[CV 4/5] END ...............model__alpha=5.1;, score=-100.581 total time=   0.0s\n",
            "[CV 5/5] END ...............model__alpha=5.1;, score=-302.095 total time=   0.0s\n",
            "[CV 1/5] END ................model__alpha=5.2;, score=-72.480 total time=   0.0s\n",
            "[CV 2/5] END ...............model__alpha=5.2;, score=-102.885 total time=   0.0s\n",
            "[CV 3/5] END ................model__alpha=5.2;, score=-89.885 total time=   0.0s\n",
            "[CV 4/5] END ...............model__alpha=5.2;, score=-101.815 total time=   0.0s\n",
            "[CV 5/5] END ...............model__alpha=5.2;, score=-303.373 total time=   0.0s\n",
            "[CV 1/5] END ................model__alpha=5.3;, score=-72.867 total time=   0.0s\n",
            "[CV 2/5] END ...............model__alpha=5.3;, score=-103.558 total time=   0.0s\n",
            "[CV 3/5] END ................model__alpha=5.3;, score=-91.346 total time=   0.1s\n",
            "[CV 4/5] END ...............model__alpha=5.3;, score=-103.074 total time=   0.1s\n",
            "[CV 5/5] END ...............model__alpha=5.3;, score=-304.669 total time=   0.0s\n",
            "[CV 1/5] END ................model__alpha=5.4;, score=-73.275 total time=   0.0s\n",
            "[CV 2/5] END ...............model__alpha=5.4;, score=-104.249 total time=   0.1s\n",
            "[CV 3/5] END ................model__alpha=5.4;, score=-92.833 total time=   0.1s\n",
            "[CV 4/5] END ...............model__alpha=5.4;, score=-104.380 total time=   0.1s\n",
            "[CV 5/5] END ...............model__alpha=5.4;, score=-305.984 total time=   0.0s\n",
            "[CV 1/5] END ................model__alpha=5.5;, score=-73.703 total time=   0.1s\n",
            "[CV 2/5] END ...............model__alpha=5.5;, score=-104.960 total time=   0.1s\n",
            "[CV 3/5] END ................model__alpha=5.5;, score=-94.346 total time=   0.1s\n",
            "[CV 4/5] END ...............model__alpha=5.5;, score=-105.716 total time=   0.1s\n",
            "[CV 5/5] END ...............model__alpha=5.5;, score=-307.318 total time=   0.1s\n",
            "[CV 1/5] END ................model__alpha=5.6;, score=-74.151 total time=   0.0s\n",
            "[CV 2/5] END ...............model__alpha=5.6;, score=-105.689 total time=   0.0s\n",
            "[CV 3/5] END ................model__alpha=5.6;, score=-95.884 total time=   0.0s\n",
            "[CV 4/5] END ...............model__alpha=5.6;, score=-107.080 total time=   0.0s\n",
            "[CV 5/5] END ...............model__alpha=5.6;, score=-308.671 total time=   0.0s\n",
            "[CV 1/5] END ................model__alpha=5.7;, score=-74.618 total time=   0.1s\n",
            "[CV 2/5] END ...............model__alpha=5.7;, score=-106.438 total time=   0.0s\n",
            "[CV 3/5] END ................model__alpha=5.7;, score=-97.447 total time=   0.0s\n",
            "[CV 4/5] END ...............model__alpha=5.7;, score=-108.471 total time=   0.0s\n",
            "[CV 5/5] END ...............model__alpha=5.7;, score=-309.938 total time=   0.0s\n",
            "[CV 1/5] END ................model__alpha=5.8;, score=-75.106 total time=   0.1s\n",
            "[CV 2/5] END ...............model__alpha=5.8;, score=-107.205 total time=   0.1s\n",
            "[CV 3/5] END ................model__alpha=5.8;, score=-98.931 total time=   0.1s\n",
            "[CV 4/5] END ...............model__alpha=5.8;, score=-109.485 total time=   0.1s\n",
            "[CV 5/5] END ...............model__alpha=5.8;, score=-309.938 total time=   0.0s\n",
            "[CV 1/5] END ................model__alpha=5.9;, score=-75.613 total time=   0.1s\n",
            "[CV 2/5] END ...............model__alpha=5.9;, score=-107.992 total time=   0.0s\n",
            "[CV 3/5] END ................model__alpha=5.9;, score=-99.178 total time=   0.1s\n",
            "[CV 4/5] END ...............model__alpha=5.9;, score=-109.666 total time=   0.0s\n",
            "[CV 5/5] END ...............model__alpha=5.9;, score=-309.938 total time=   0.0s\n",
            "[CV 1/5] END ................model__alpha=6.0;, score=-76.140 total time=   0.1s\n",
            "[CV 2/5] END ...............model__alpha=6.0;, score=-108.797 total time=   0.0s\n",
            "[CV 3/5] END ................model__alpha=6.0;, score=-99.441 total time=   0.0s\n",
            "[CV 4/5] END ...............model__alpha=6.0;, score=-109.758 total time=   0.0s\n",
            "[CV 5/5] END ...............model__alpha=6.0;, score=-309.938 total time=   0.0s\n",
            "[CV 1/5] END ................model__alpha=6.1;, score=-75.982 total time=   0.1s\n",
            "[CV 2/5] END ...............model__alpha=6.1;, score=-109.621 total time=   0.1s\n",
            "[CV 3/5] END ................model__alpha=6.1;, score=-99.625 total time=   0.0s\n",
            "[CV 4/5] END ...............model__alpha=6.1;, score=-109.845 total time=   0.1s\n",
            "[CV 5/5] END ...............model__alpha=6.1;, score=-309.938 total time=   0.1s\n",
            "[CV 1/5] END ................model__alpha=6.2;, score=-75.501 total time=   0.0s\n",
            "[CV 2/5] END ...............model__alpha=6.2;, score=-110.465 total time=   0.1s\n",
            "[CV 3/5] END ................model__alpha=6.2;, score=-99.625 total time=   0.1s\n",
            "[CV 4/5] END ...............model__alpha=6.2;, score=-109.937 total time=   0.1s\n",
            "[CV 5/5] END ...............model__alpha=6.2;, score=-309.938 total time=   0.1s\n",
            "[CV 1/5] END ................model__alpha=6.3;, score=-75.029 total time=   0.0s\n",
            "[CV 2/5] END ...............model__alpha=6.3;, score=-111.327 total time=   0.0s\n",
            "[CV 3/5] END ................model__alpha=6.3;, score=-99.625 total time=   0.1s\n",
            "[CV 4/5] END ...............model__alpha=6.3;, score=-109.951 total time=   0.1s\n",
            "[CV 5/5] END ...............model__alpha=6.3;, score=-309.938 total time=   0.1s\n",
            "[CV 1/5] END ................model__alpha=6.4;, score=-74.568 total time=   0.1s\n",
            "[CV 2/5] END ...............model__alpha=6.4;, score=-111.737 total time=   0.1s\n",
            "[CV 3/5] END ................model__alpha=6.4;, score=-99.625 total time=   0.0s\n",
            "[CV 4/5] END ...............model__alpha=6.4;, score=-109.951 total time=   0.0s\n",
            "[CV 5/5] END ...............model__alpha=6.4;, score=-309.938 total time=   0.0s\n",
            "[CV 1/5] END ................model__alpha=6.5;, score=-74.116 total time=   0.1s\n",
            "[CV 2/5] END ...............model__alpha=6.5;, score=-111.737 total time=   0.1s\n",
            "[CV 3/5] END ................model__alpha=6.5;, score=-99.625 total time=   0.1s\n",
            "[CV 4/5] END ...............model__alpha=6.5;, score=-109.951 total time=   0.0s\n",
            "[CV 5/5] END ...............model__alpha=6.5;, score=-309.938 total time=   0.0s\n",
            "[CV 1/5] END ................model__alpha=6.6;, score=-73.674 total time=   0.0s\n",
            "[CV 2/5] END ...............model__alpha=6.6;, score=-111.737 total time=   0.1s\n",
            "[CV 3/5] END ................model__alpha=6.6;, score=-99.625 total time=   0.1s\n",
            "[CV 4/5] END ...............model__alpha=6.6;, score=-109.951 total time=   0.1s\n",
            "[CV 5/5] END ...............model__alpha=6.6;, score=-309.938 total time=   0.1s\n",
            "[CV 1/5] END ................model__alpha=6.7;, score=-73.241 total time=   0.1s\n",
            "[CV 2/5] END ...............model__alpha=6.7;, score=-111.737 total time=   0.0s\n",
            "[CV 3/5] END ................model__alpha=6.7;, score=-99.625 total time=   0.1s\n",
            "[CV 4/5] END ...............model__alpha=6.7;, score=-109.951 total time=   0.1s\n",
            "[CV 5/5] END ...............model__alpha=6.7;, score=-309.938 total time=   0.0s\n",
            "[CV 1/5] END ................model__alpha=6.8;, score=-72.819 total time=   0.1s\n",
            "[CV 2/5] END ...............model__alpha=6.8;, score=-111.737 total time=   0.0s\n",
            "[CV 3/5] END ................model__alpha=6.8;, score=-99.625 total time=   0.0s\n",
            "[CV 4/5] END ...............model__alpha=6.8;, score=-109.951 total time=   0.0s\n",
            "[CV 5/5] END ...............model__alpha=6.8;, score=-309.938 total time=   0.0s\n",
            "[CV 1/5] END ................model__alpha=6.9;, score=-72.572 total time=   0.1s\n",
            "[CV 2/5] END ...............model__alpha=6.9;, score=-111.737 total time=   0.0s\n",
            "[CV 3/5] END ................model__alpha=6.9;, score=-99.625 total time=   0.0s\n",
            "[CV 4/5] END ...............model__alpha=6.9;, score=-109.951 total time=   0.1s\n",
            "[CV 5/5] END ...............model__alpha=6.9;, score=-309.938 total time=   0.1s\n",
            "[CV 1/5] END ................model__alpha=7.0;, score=-72.572 total time=   0.0s\n",
            "[CV 2/5] END ...............model__alpha=7.0;, score=-111.737 total time=   0.0s\n",
            "[CV 3/5] END ................model__alpha=7.0;, score=-99.625 total time=   0.0s\n",
            "[CV 4/5] END ...............model__alpha=7.0;, score=-109.951 total time=   0.0s\n",
            "[CV 5/5] END ...............model__alpha=7.0;, score=-309.938 total time=   0.0s\n",
            "[CV 1/5] END ................model__alpha=7.1;, score=-72.572 total time=   0.1s\n",
            "[CV 2/5] END ...............model__alpha=7.1;, score=-111.737 total time=   0.1s\n",
            "[CV 3/5] END ................model__alpha=7.1;, score=-99.625 total time=   0.0s\n",
            "[CV 4/5] END ...............model__alpha=7.1;, score=-109.951 total time=   0.0s\n",
            "[CV 5/5] END ...............model__alpha=7.1;, score=-309.938 total time=   0.0s\n",
            "[CV 1/5] END ................model__alpha=7.2;, score=-72.572 total time=   0.1s\n",
            "[CV 2/5] END ...............model__alpha=7.2;, score=-111.737 total time=   0.1s\n",
            "[CV 3/5] END ................model__alpha=7.2;, score=-99.625 total time=   0.1s\n",
            "[CV 4/5] END ...............model__alpha=7.2;, score=-109.951 total time=   0.1s\n",
            "[CV 5/5] END ...............model__alpha=7.2;, score=-309.938 total time=   0.1s\n",
            "[CV 1/5] END ................model__alpha=7.3;, score=-72.572 total time=   0.1s\n",
            "[CV 2/5] END ...............model__alpha=7.3;, score=-111.737 total time=   0.1s\n",
            "[CV 3/5] END ................model__alpha=7.3;, score=-99.625 total time=   0.1s\n",
            "[CV 4/5] END ...............model__alpha=7.3;, score=-109.951 total time=   0.1s\n",
            "[CV 5/5] END ...............model__alpha=7.3;, score=-309.938 total time=   0.0s\n",
            "[CV 1/5] END ................model__alpha=7.4;, score=-72.572 total time=   0.0s\n",
            "[CV 2/5] END ...............model__alpha=7.4;, score=-111.737 total time=   0.0s\n",
            "[CV 3/5] END ................model__alpha=7.4;, score=-99.625 total time=   0.0s\n",
            "[CV 4/5] END ...............model__alpha=7.4;, score=-109.951 total time=   0.1s\n",
            "[CV 5/5] END ...............model__alpha=7.4;, score=-309.938 total time=   0.1s\n",
            "[CV 1/5] END ................model__alpha=7.5;, score=-72.572 total time=   0.1s\n",
            "[CV 2/5] END ...............model__alpha=7.5;, score=-111.737 total time=   0.1s\n",
            "[CV 3/5] END ................model__alpha=7.5;, score=-99.625 total time=   0.1s\n",
            "[CV 4/5] END ...............model__alpha=7.5;, score=-109.951 total time=   0.1s\n",
            "[CV 5/5] END ...............model__alpha=7.5;, score=-309.938 total time=   0.0s\n",
            "[CV 1/5] END ................model__alpha=7.6;, score=-72.572 total time=   0.0s\n",
            "[CV 2/5] END ...............model__alpha=7.6;, score=-111.737 total time=   0.0s\n",
            "[CV 3/5] END ................model__alpha=7.6;, score=-99.625 total time=   0.1s\n",
            "[CV 4/5] END ...............model__alpha=7.6;, score=-109.951 total time=   0.0s\n",
            "[CV 5/5] END ...............model__alpha=7.6;, score=-309.938 total time=   0.0s\n",
            "[CV 1/5] END ................model__alpha=7.7;, score=-72.572 total time=   0.0s\n",
            "[CV 2/5] END ...............model__alpha=7.7;, score=-111.737 total time=   0.1s\n",
            "[CV 3/5] END ................model__alpha=7.7;, score=-99.625 total time=   0.0s\n",
            "[CV 4/5] END ...............model__alpha=7.7;, score=-109.951 total time=   0.0s\n",
            "[CV 5/5] END ...............model__alpha=7.7;, score=-309.938 total time=   0.0s\n",
            "[CV 1/5] END ................model__alpha=7.8;, score=-72.572 total time=   0.0s\n",
            "[CV 2/5] END ...............model__alpha=7.8;, score=-111.737 total time=   0.0s\n",
            "[CV 3/5] END ................model__alpha=7.8;, score=-99.625 total time=   0.1s\n",
            "[CV 4/5] END ...............model__alpha=7.8;, score=-109.951 total time=   0.1s\n",
            "[CV 5/5] END ...............model__alpha=7.8;, score=-309.938 total time=   0.1s\n",
            "[CV 1/5] END ................model__alpha=7.9;, score=-72.572 total time=   0.1s\n",
            "[CV 2/5] END ...............model__alpha=7.9;, score=-111.737 total time=   0.0s\n",
            "[CV 3/5] END ................model__alpha=7.9;, score=-99.625 total time=   0.1s\n",
            "[CV 4/5] END ...............model__alpha=7.9;, score=-109.951 total time=   0.1s\n",
            "[CV 5/5] END ...............model__alpha=7.9;, score=-309.938 total time=   0.1s\n",
            "[CV 1/5] END ................model__alpha=8.0;, score=-72.572 total time=   0.1s\n",
            "[CV 2/5] END ...............model__alpha=8.0;, score=-111.737 total time=   0.0s\n",
            "[CV 3/5] END ................model__alpha=8.0;, score=-99.625 total time=   0.0s\n",
            "[CV 4/5] END ...............model__alpha=8.0;, score=-109.951 total time=   0.1s\n",
            "[CV 5/5] END ...............model__alpha=8.0;, score=-309.938 total time=   0.0s\n",
            "[CV 1/5] END ................model__alpha=8.1;, score=-72.572 total time=   0.0s\n",
            "[CV 2/5] END ...............model__alpha=8.1;, score=-111.737 total time=   0.0s\n",
            "[CV 3/5] END ................model__alpha=8.1;, score=-99.625 total time=   0.1s\n",
            "[CV 4/5] END ...............model__alpha=8.1;, score=-109.951 total time=   0.0s\n",
            "[CV 5/5] END ...............model__alpha=8.1;, score=-309.938 total time=   0.0s\n",
            "[CV 1/5] END ................model__alpha=8.2;, score=-72.572 total time=   0.0s\n",
            "[CV 2/5] END ...............model__alpha=8.2;, score=-111.737 total time=   0.0s\n",
            "[CV 3/5] END ................model__alpha=8.2;, score=-99.625 total time=   0.0s\n",
            "[CV 4/5] END ...............model__alpha=8.2;, score=-109.951 total time=   0.1s\n",
            "[CV 5/5] END ...............model__alpha=8.2;, score=-309.938 total time=   0.1s\n",
            "[CV 1/5] END ................model__alpha=8.3;, score=-72.572 total time=   0.1s\n",
            "[CV 2/5] END ...............model__alpha=8.3;, score=-111.737 total time=   0.1s\n",
            "[CV 3/5] END ................model__alpha=8.3;, score=-99.625 total time=   0.1s\n",
            "[CV 4/5] END ...............model__alpha=8.3;, score=-109.951 total time=   0.1s\n",
            "[CV 5/5] END ...............model__alpha=8.3;, score=-309.938 total time=   0.1s\n",
            "[CV 1/5] END ................model__alpha=8.4;, score=-72.572 total time=   0.1s\n",
            "[CV 2/5] END ...............model__alpha=8.4;, score=-111.737 total time=   0.0s\n",
            "[CV 3/5] END ................model__alpha=8.4;, score=-99.625 total time=   0.1s\n",
            "[CV 4/5] END ...............model__alpha=8.4;, score=-109.951 total time=   0.1s\n",
            "[CV 5/5] END ...............model__alpha=8.4;, score=-309.938 total time=   0.0s\n",
            "[CV 1/5] END ................model__alpha=8.5;, score=-72.572 total time=   0.0s\n",
            "[CV 2/5] END ...............model__alpha=8.5;, score=-111.737 total time=   0.0s\n",
            "[CV 3/5] END ................model__alpha=8.5;, score=-99.625 total time=   0.0s\n",
            "[CV 4/5] END ...............model__alpha=8.5;, score=-109.951 total time=   0.0s\n",
            "[CV 5/5] END ...............model__alpha=8.5;, score=-309.938 total time=   0.1s\n",
            "[CV 1/5] END ................model__alpha=8.6;, score=-72.572 total time=   0.1s\n",
            "[CV 2/5] END ...............model__alpha=8.6;, score=-111.737 total time=   0.1s\n",
            "[CV 3/5] END ................model__alpha=8.6;, score=-99.625 total time=   0.1s\n",
            "[CV 4/5] END ...............model__alpha=8.6;, score=-109.951 total time=   0.1s\n",
            "[CV 5/5] END ...............model__alpha=8.6;, score=-309.938 total time=   0.1s\n",
            "[CV 1/5] END ................model__alpha=8.7;, score=-72.572 total time=   0.1s\n",
            "[CV 2/5] END ...............model__alpha=8.7;, score=-111.737 total time=   0.1s\n",
            "[CV 3/5] END ................model__alpha=8.7;, score=-99.625 total time=   0.1s\n",
            "[CV 4/5] END ...............model__alpha=8.7;, score=-109.951 total time=   0.1s\n",
            "[CV 5/5] END ...............model__alpha=8.7;, score=-309.938 total time=   0.1s\n",
            "[CV 1/5] END ................model__alpha=8.8;, score=-72.572 total time=   0.1s\n",
            "[CV 2/5] END ...............model__alpha=8.8;, score=-111.737 total time=   0.0s\n",
            "[CV 3/5] END ................model__alpha=8.8;, score=-99.625 total time=   0.0s\n",
            "[CV 4/5] END ...............model__alpha=8.8;, score=-109.951 total time=   0.0s\n",
            "[CV 5/5] END ...............model__alpha=8.8;, score=-309.938 total time=   0.1s\n",
            "[CV 1/5] END ................model__alpha=8.9;, score=-72.572 total time=   0.1s\n",
            "[CV 2/5] END ...............model__alpha=8.9;, score=-111.737 total time=   0.1s\n",
            "[CV 3/5] END ................model__alpha=8.9;, score=-99.625 total time=   0.0s\n",
            "[CV 4/5] END ...............model__alpha=8.9;, score=-109.951 total time=   0.1s\n",
            "[CV 5/5] END ...............model__alpha=8.9;, score=-309.938 total time=   0.1s\n",
            "[CV 1/5] END ................model__alpha=9.0;, score=-72.572 total time=   0.1s\n",
            "[CV 2/5] END ...............model__alpha=9.0;, score=-111.737 total time=   0.0s\n",
            "[CV 3/5] END ................model__alpha=9.0;, score=-99.625 total time=   0.0s\n",
            "[CV 4/5] END ...............model__alpha=9.0;, score=-109.951 total time=   0.0s\n",
            "[CV 5/5] END ...............model__alpha=9.0;, score=-309.938 total time=   0.0s\n",
            "[CV 1/5] END ................model__alpha=9.1;, score=-72.572 total time=   0.1s\n",
            "[CV 2/5] END ...............model__alpha=9.1;, score=-111.737 total time=   0.1s\n",
            "[CV 3/5] END ................model__alpha=9.1;, score=-99.625 total time=   0.1s\n",
            "[CV 4/5] END ...............model__alpha=9.1;, score=-109.951 total time=   0.1s\n",
            "[CV 5/5] END ...............model__alpha=9.1;, score=-309.938 total time=   0.1s\n",
            "[CV 1/5] END ................model__alpha=9.2;, score=-72.572 total time=   0.1s\n",
            "[CV 2/5] END ...............model__alpha=9.2;, score=-111.737 total time=   0.0s\n",
            "[CV 3/5] END ................model__alpha=9.2;, score=-99.625 total time=   0.0s\n",
            "[CV 4/5] END ...............model__alpha=9.2;, score=-109.951 total time=   0.1s\n",
            "[CV 5/5] END ...............model__alpha=9.2;, score=-309.938 total time=   0.0s\n",
            "[CV 1/5] END ................model__alpha=9.3;, score=-72.572 total time=   0.0s\n",
            "[CV 2/5] END ...............model__alpha=9.3;, score=-111.737 total time=   0.0s\n",
            "[CV 3/5] END ................model__alpha=9.3;, score=-99.625 total time=   0.0s\n",
            "[CV 4/5] END ...............model__alpha=9.3;, score=-109.951 total time=   0.1s\n",
            "[CV 5/5] END ...............model__alpha=9.3;, score=-309.938 total time=   0.1s\n",
            "[CV 1/5] END ................model__alpha=9.4;, score=-72.572 total time=   0.1s\n",
            "[CV 2/5] END ...............model__alpha=9.4;, score=-111.737 total time=   0.0s\n",
            "[CV 3/5] END ................model__alpha=9.4;, score=-99.625 total time=   0.0s\n",
            "[CV 4/5] END ...............model__alpha=9.4;, score=-109.951 total time=   0.0s\n",
            "[CV 5/5] END ...............model__alpha=9.4;, score=-309.938 total time=   0.0s\n",
            "[CV 1/5] END ................model__alpha=9.5;, score=-72.572 total time=   0.0s\n",
            "[CV 2/5] END ...............model__alpha=9.5;, score=-111.737 total time=   0.0s\n",
            "[CV 3/5] END ................model__alpha=9.5;, score=-99.625 total time=   0.0s\n",
            "[CV 4/5] END ...............model__alpha=9.5;, score=-109.951 total time=   0.1s\n",
            "[CV 5/5] END ...............model__alpha=9.5;, score=-309.938 total time=   0.1s\n",
            "[CV 1/5] END ................model__alpha=9.6;, score=-72.572 total time=   0.1s\n",
            "[CV 2/5] END ...............model__alpha=9.6;, score=-111.737 total time=   0.1s\n",
            "[CV 3/5] END ................model__alpha=9.6;, score=-99.625 total time=   0.1s\n",
            "[CV 4/5] END ...............model__alpha=9.6;, score=-109.951 total time=   0.0s\n",
            "[CV 5/5] END ...............model__alpha=9.6;, score=-309.938 total time=   0.0s\n",
            "[CV 1/5] END ..model__alpha=9.700000000000001;, score=-72.572 total time=   0.0s\n",
            "[CV 2/5] END .model__alpha=9.700000000000001;, score=-111.737 total time=   0.1s\n",
            "[CV 3/5] END ..model__alpha=9.700000000000001;, score=-99.625 total time=   0.1s\n",
            "[CV 4/5] END .model__alpha=9.700000000000001;, score=-109.951 total time=   0.1s\n",
            "[CV 5/5] END .model__alpha=9.700000000000001;, score=-309.938 total time=   0.1s\n",
            "[CV 1/5] END ................model__alpha=9.8;, score=-72.572 total time=   0.1s\n",
            "[CV 2/5] END ...............model__alpha=9.8;, score=-111.737 total time=   0.0s\n",
            "[CV 3/5] END ................model__alpha=9.8;, score=-99.625 total time=   0.1s\n",
            "[CV 4/5] END ...............model__alpha=9.8;, score=-109.951 total time=   0.1s\n",
            "[CV 5/5] END ...............model__alpha=9.8;, score=-309.938 total time=   0.1s\n",
            "[CV 1/5] END ................model__alpha=9.9;, score=-72.572 total time=   0.1s\n",
            "[CV 2/5] END ...............model__alpha=9.9;, score=-111.737 total time=   0.1s\n",
            "[CV 3/5] END ................model__alpha=9.9;, score=-99.625 total time=   0.1s\n",
            "[CV 4/5] END ...............model__alpha=9.9;, score=-109.951 total time=   0.0s\n",
            "[CV 5/5] END ...............model__alpha=9.9;, score=-309.938 total time=   0.1s\n"
          ]
        },
        {
          "output_type": "execute_result",
          "data": {
            "text/plain": [
              "GridSearchCV(cv=5,\n",
              "             estimator=Pipeline(steps=[('scaler', StandardScaler()),\n",
              "                                       ('model', Lasso())]),\n",
              "             param_grid={'model__alpha': array([0.1, 0.2, 0.3, 0.4, 0.5, 0.6, 0.7, 0.8, 0.9, 1. , 1.1, 1.2, 1.3,\n",
              "       1.4, 1.5, 1.6, 1.7, 1.8, 1.9, 2. , 2.1, 2.2, 2.3, 2.4, 2.5, 2.6,\n",
              "       2.7, 2.8, 2.9, 3. , 3.1, 3.2, 3.3, 3.4, 3.5, 3.6, 3.7, 3.8, 3.9,\n",
              "       4. , 4.1, 4.2, 4.3, 4.4, 4.5, 4.6, 4.7, 4.8, 4.9, 5. , 5.1, 5.2,\n",
              "       5.3, 5.4, 5.5, 5.6, 5.7, 5.8, 5.9, 6. , 6.1, 6.2, 6.3, 6.4, 6.5,\n",
              "       6.6, 6.7, 6.8, 6.9, 7. , 7.1, 7.2, 7.3, 7.4, 7.5, 7.6, 7.7, 7.8,\n",
              "       7.9, 8. , 8.1, 8.2, 8.3, 8.4, 8.5, 8.6, 8.7, 8.8, 8.9, 9. , 9.1,\n",
              "       9.2, 9.3, 9.4, 9.5, 9.6, 9.7, 9.8, 9.9])},\n",
              "             scoring='neg_mean_squared_error', verbose=3)"
            ]
          },
          "metadata": {},
          "execution_count": 8
        }
      ]
    },
    {
      "cell_type": "code",
      "source": [
        "search.best_params_"
      ],
      "metadata": {
        "colab": {
          "base_uri": "https://localhost:8080/"
        },
        "id": "L-kywtVrcOQF",
        "outputId": "abf402aa-09ed-4989-eb8d-12c3c818c656"
      },
      "execution_count": 9,
      "outputs": [
        {
          "output_type": "execute_result",
          "data": {
            "text/plain": [
              "{'model__alpha': 0.1}"
            ]
          },
          "metadata": {},
          "execution_count": 9
        }
      ]
    },
    {
      "cell_type": "code",
      "source": [
        "coefficients = search.best_estimator_.named_steps['model'].coef_"
      ],
      "metadata": {
        "id": "iOtF6RlCcSU6"
      },
      "execution_count": 10,
      "outputs": []
    },
    {
      "cell_type": "code",
      "source": [
        "importance = np.abs(coefficients)"
      ],
      "metadata": {
        "id": "HEuJJkvOcVkX"
      },
      "execution_count": 11,
      "outputs": []
    },
    {
      "cell_type": "code",
      "source": [
        "np.array(features)[importance > 0]"
      ],
      "metadata": {
        "colab": {
          "base_uri": "https://localhost:8080/"
        },
        "id": "sAv7AqemcYGL",
        "outputId": "8148000e-ad84-4a3d-f2fb-74295ae65a4a"
      },
      "execution_count": 12,
      "outputs": [
        {
          "output_type": "execute_result",
          "data": {
            "text/plain": [
              "array(['Lignite', 'Natural Gas', 'Nuclear', 'Demand DE', 'Wind', 'PV',\n",
              "       'Gas', 'Coal', 'CO2'], dtype='<U11')"
            ]
          },
          "metadata": {},
          "execution_count": 12
        }
      ]
    },
    {
      "cell_type": "code",
      "source": [
        "np.array(features)[importance == 0]"
      ],
      "metadata": {
        "colab": {
          "base_uri": "https://localhost:8080/"
        },
        "id": "feFyVBfZccao",
        "outputId": "a88ff30a-dfdf-40ee-d2ae-19f74cacc7f2"
      },
      "execution_count": 13,
      "outputs": [
        {
          "output_type": "execute_result",
          "data": {
            "text/plain": [
              "array(['Hard Coal'], dtype='<U11')"
            ]
          },
          "metadata": {},
          "execution_count": 13
        }
      ]
    },
    {
      "cell_type": "code",
      "source": [
        "coef = pd.Series(importance ,list(X.columns))\n",
        "coef.plot(kind='bar', title='Model Coefficients')"
      ],
      "metadata": {
        "colab": {
          "base_uri": "https://localhost:8080/",
          "height": 348
        },
        "id": "5PTGYq0ucf0P",
        "outputId": "3a07d5a3-8c91-42e6-ec41-f8fc3bde0db1"
      },
      "execution_count": 14,
      "outputs": [
        {
          "output_type": "execute_result",
          "data": {
            "text/plain": [
              "<matplotlib.axes._subplots.AxesSubplot at 0x7fe5f124aa10>"
            ]
          },
          "metadata": {},
          "execution_count": 14
        },
        {
          "output_type": "display_data",
          "data": {
            "text/plain": [
              "<Figure size 432x288 with 1 Axes>"
            ],
            "image/png": "[encoded data removed]"
          },
          "metadata": {
            "needs_background": "light"
          }
        }
      ]
    },
    {
      "cell_type": "code",
      "source": [
        "importance\n"
      ],
      "metadata": {
        "colab": {
          "base_uri": "https://localhost:8080/"
        },
        "id": "mUsJzHJ7f2k7",
        "outputId": "0cd41230-b284-4f8a-9a4f-bcd04bcde935"
      },
      "execution_count": 16,
      "outputs": [
        {
          "output_type": "execute_result",
          "data": {
            "text/plain": [
              "array([0.7445849 , 0.37634984, 0.        , 0.13552572, 7.16584888,\n",
              "       4.59484922, 3.51835525, 2.32644975, 2.17536736, 2.89163956])"
            ]
          },
          "metadata": {},
          "execution_count": 16
        }
      ]
    }
  ]
}