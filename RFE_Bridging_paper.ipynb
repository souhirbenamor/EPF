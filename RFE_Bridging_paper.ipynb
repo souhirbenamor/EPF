{
  "nbformat": 4,
  "nbformat_minor": 0,
  "metadata": {
    "colab": {
      "provenance": [],
      "authorship_tag": "ABX9TyNLfp4Owi1k8lRWtaBI+FJU",
      "include_colab_link": true
    },
    "kernelspec": {
      "name": "python3",
      "display_name": "Python 3"
    },
    "language_info": {
      "name": "python"
    }
  },
  "cells": [
    {
      "cell_type": "markdown",
      "metadata": {
        "id": "view-in-github",
        "colab_type": "text"
      },
      "source": [
        "<a href=\"https://colab.research.google.com/github/souhirbenamor/EPF/blob/main/RFE_Bridging_paper.ipynb\" target=\"_parent\"><img src=\"https://colab.research.google.com/assets/colab-badge.svg\" alt=\"Open In Colab\"/></a>"
      ]
    },
    {
      "cell_type": "code",
      "source": [
        "import pandas as pd\n",
        "import numpy as np\n",
        "from sklearn.feature_selection import SelectKBest\n",
        "from sklearn.feature_selection import chi2"
      ],
      "metadata": {
        "id": "hZcPq1s2ggCQ"
      },
      "execution_count": 3,
      "outputs": []
    },
    {
      "cell_type": "code",
      "source": [
        "import pandas as pd\n",
        "import numpy as np\n",
        "df = pd.read_excel('/content/electricty_real_selected_data .xlsx')\n",
        "\n",
        "df = df.set_index(\"Date\") # define Date  as index\n",
        "\n",
        "df.shape"
      ],
      "metadata": {
        "colab": {
          "base_uri": "https://localhost:8080/"
        },
        "id": "MgXWNnr3gmuI",
        "outputId": "3a22148f-38bd-4351-9531-2aeb85a5fd39"
      },
      "execution_count": 4,
      "outputs": [
        {
          "output_type": "execute_result",
          "data": {
            "text/plain": [
              "(52608, 7)"
            ]
          },
          "metadata": {},
          "execution_count": 4
        }
      ]
    },
    {
      "cell_type": "code",
      "source": [
        "X=df.iloc[:, 1:]\n",
        "y=df.iloc[:, 0]"
      ],
      "metadata": {
        "id": "zM8fS6INgpVE"
      },
      "execution_count": 5,
      "outputs": []
    },
    {
      "cell_type": "code",
      "source": [
        "feature_names = list(X.columns.values)"
      ],
      "metadata": {
        "id": "ETDg2jfvlzSo"
      },
      "execution_count": 6,
      "outputs": []
    },
    {
      "cell_type": "code",
      "source": [
        "print(X)"
      ],
      "metadata": {
        "colab": {
          "base_uri": "https://localhost:8080/"
        },
        "id": "twKw_rrkgz2J",
        "outputId": "67c5f38e-9c5b-4072-9cfa-27473be84a4d"
      },
      "execution_count": 7,
      "outputs": [
        {
          "output_type": "stream",
          "name": "stdout",
          "text": [
            "                         Demand DE     Wind   PV    Gas   Coal    CO2\n",
            "Date                                                                 \n",
            "2014-12-31 23:59:59.991   40242.25  8280.00  0.0  21.30  55.17   7.27\n",
            "2015-01-01 00:59:59.991   39158.50  8412.75  0.0  21.30  55.17   7.27\n",
            "2015-01-01 01:59:59.991   38824.50  8502.25  0.0  21.30  55.17   7.27\n",
            "2015-01-01 02:59:59.991   38969.25  8668.50  0.0  21.30  55.17   7.27\n",
            "2015-01-01 03:59:59.991   39092.75  8849.25  0.0  21.30  55.17   7.27\n",
            "...                            ...      ...  ...    ...    ...    ...\n",
            "2020-12-31 18:59:59.980   49516.00  8053.50  0.0  19.12  56.49  32.59\n",
            "2020-12-31 19:59:59.980   47747.50  7456.50  0.0  19.12  56.49  32.59\n",
            "2020-12-31 20:59:59.980   47761.75  6902.50  0.0  19.12  56.49  32.59\n",
            "2020-12-31 21:59:59.980   46222.50  6395.00  0.0  19.12  56.49  32.59\n",
            "2020-12-31 22:59:59.980   43520.50  4633.50  0.0  19.12  56.67  32.59\n",
            "\n",
            "[52608 rows x 6 columns]\n"
          ]
        }
      ]
    },
    {
      "cell_type": "code",
      "source": [
        "from sklearn.preprocessing import LabelEncoder\n",
        "\n",
        "label_encoder = LabelEncoder()\n",
        "y = label_encoder.fit_transform(y)"
      ],
      "metadata": {
        "id": "YZiikDFP83gT"
      },
      "execution_count": 8,
      "outputs": []
    },
    {
      "cell_type": "code",
      "execution_count": null,
      "metadata": {
        "colab": {
          "base_uri": "https://localhost:8080/"
        },
        "id": "ykKfTQqLga4K",
        "outputId": "eb54bdb0-233a-4ac3-ccc5-b93d4cc8576a"
      },
      "outputs": [
        {
          "output_type": "stream",
          "name": "stderr",
          "text": [
            "/usr/local/lib/python3.7/dist-packages/sklearn/model_selection/_split.py:680: UserWarning: The least populated class in y has only 1 members, which is less than n_splits=5.\n",
            "  UserWarning,\n"
          ]
        }
      ],
      "source": [
        "from sklearn.ensemble import RandomForestClassifier\n",
        "from sklearn.model_selection import StratifiedKFold\n",
        "\n",
        "from yellowbrick.model_selection import rfecv\n",
        "from yellowbrick.datasets import load_credit\n",
        "\n",
        "# Load classification dataset\n",
        "\n",
        "\n",
        "cv = StratifiedKFold(5)\n",
        "visualizer = rfecv(RandomForestClassifier(), X=X, y=y, cv=cv, scoring='f1_weighted')"
      ]
    },
    {
      "cell_type": "code",
      "source": [],
      "metadata": {
        "id": "Ed6-ZbOP82kU"
      },
      "execution_count": null,
      "outputs": []
    },
    {
      "cell_type": "markdown",
      "source": [
        "**https://www.blog.trainindata.com/recursive-feature-elimination-with-python/**\n"
      ],
      "metadata": {
        "id": "OhOigof5zLSK"
      }
    },
    {
      "cell_type": "code",
      "source": [
        "!pip install feature-engine"
      ],
      "metadata": {
        "colab": {
          "base_uri": "https://localhost:8080/"
        },
        "id": "zSRMalJEwRjp",
        "outputId": "bddc2156-3e6d-4392-a1ee-6ce6273614c8"
      },
      "execution_count": 75,
      "outputs": [
        {
          "output_type": "stream",
          "name": "stdout",
          "text": [
            "Looking in indexes: https://pypi.org/simple, https://us-python.pkg.dev/colab-wheels/public/simple/\n",
            "Collecting feature-engine\n",
            "  Downloading feature_engine-1.4.0-py2.py3-none-any.whl (276 kB)\n",
            "\u001b[K     |████████████████████████████████| 276 kB 18.8 MB/s \n",
            "\u001b[?25hRequirement already satisfied: pandas>=1.0.3 in /usr/local/lib/python3.7/dist-packages (from feature-engine) (1.3.5)\n",
            "Requirement already satisfied: statsmodels>=0.11.1 in /usr/local/lib/python3.7/dist-packages (from feature-engine) (0.12.2)\n",
            "Requirement already satisfied: scipy>=1.4.1 in /usr/local/lib/python3.7/dist-packages (from feature-engine) (1.7.3)\n",
            "Requirement already satisfied: numpy>=1.18.2 in /usr/local/lib/python3.7/dist-packages (from feature-engine) (1.21.6)\n",
            "Requirement already satisfied: scikit-learn>=1.0.0 in /usr/local/lib/python3.7/dist-packages (from feature-engine) (1.0.2)\n",
            "Requirement already satisfied: python-dateutil>=2.7.3 in /usr/local/lib/python3.7/dist-packages (from pandas>=1.0.3->feature-engine) (2.8.2)\n",
            "Requirement already satisfied: pytz>=2017.3 in /usr/local/lib/python3.7/dist-packages (from pandas>=1.0.3->feature-engine) (2022.6)\n",
            "Requirement already satisfied: six>=1.5 in /usr/local/lib/python3.7/dist-packages (from python-dateutil>=2.7.3->pandas>=1.0.3->feature-engine) (1.15.0)\n",
            "Requirement already satisfied: threadpoolctl>=2.0.0 in /usr/local/lib/python3.7/dist-packages (from scikit-learn>=1.0.0->feature-engine) (3.1.0)\n",
            "Requirement already satisfied: joblib>=0.11 in /usr/local/lib/python3.7/dist-packages (from scikit-learn>=1.0.0->feature-engine) (1.2.0)\n",
            "Requirement already satisfied: patsy>=0.5 in /usr/local/lib/python3.7/dist-packages (from statsmodels>=0.11.1->feature-engine) (0.5.3)\n",
            "Installing collected packages: feature-engine\n",
            "Successfully installed feature-engine-1.4.0\n"
          ]
        }
      ]
    },
    {
      "cell_type": "code",
      "source": [
        "import pandas as pd\n",
        "import matplotlib.pyplot as plt\n",
        "from sklearn.datasets import fetch_california_housing\n",
        "from sklearn.ensemble import GradientBoostingRegressor\n",
        "from sklearn.model_selection import train_test_split\n",
        "from feature_engine.selection import RecursiveFeatureElimination"
      ],
      "metadata": {
        "id": "uLZ9hKsDwGje"
      },
      "execution_count": 76,
      "outputs": []
    },
    {
      "cell_type": "code",
      "source": [
        "model = GradientBoostingRegressor(\n",
        "    n_estimators=5,\n",
        "    random_state=10,\n",
        ")"
      ],
      "metadata": {
        "id": "Q5gXrVJvwBF7"
      },
      "execution_count": 77,
      "outputs": []
    },
    {
      "cell_type": "code",
      "source": [
        "X=df.iloc[:, 1:]\n",
        "y=df.iloc[:, 0]\n",
        "X_train = X[:-17640]; X_test = X[-17640:]\n",
        "y_train = y[:-17640]; y_test = y[-17640:]\n",
        "\n",
        "X_train.shape, y_train.shape, X_test.shape, y_test.shape\n"
      ],
      "metadata": {
        "colab": {
          "base_uri": "https://localhost:8080/"
        },
        "id": "u7E9JxkEwhzU",
        "outputId": "d1b096ae-b615-4a99-c331-66cf1f070635"
      },
      "execution_count": 104,
      "outputs": [
        {
          "output_type": "execute_result",
          "data": {
            "text/plain": [
              "((34968, 6), (34968,), (17640, 6), (17640,))"
            ]
          },
          "metadata": {},
          "execution_count": 104
        }
      ]
    },
    {
      "cell_type": "code",
      "source": [
        "y"
      ],
      "metadata": {
        "colab": {
          "base_uri": "https://localhost:8080/"
        },
        "id": "4mEkId4W08it",
        "outputId": "7f380aa1-00cd-4e66-cff5-426623325515"
      },
      "execution_count": 106,
      "outputs": [
        {
          "output_type": "execute_result",
          "data": {
            "text/plain": [
              "Date\n",
              "2014-12-31 23:59:59.991    18.29\n",
              "2015-01-01 00:59:59.991    16.04\n",
              "2015-01-01 01:59:59.991    14.60\n",
              "2015-01-01 02:59:59.991    14.95\n",
              "2015-01-01 03:59:59.991    14.50\n",
              "                           ...  \n",
              "2020-12-31 18:59:59.980    56.70\n",
              "2020-12-31 19:59:59.980    52.44\n",
              "2020-12-31 20:59:59.980    51.86\n",
              "2020-12-31 21:59:59.980    52.26\n",
              "2020-12-31 22:59:59.980    50.87\n",
              "Name: price day ahead real, Length: 52608, dtype: float64"
            ]
          },
          "metadata": {},
          "execution_count": 106
        }
      ]
    },
    {
      "cell_type": "code",
      "source": [
        "RFE_model = RecursiveFeatureElimination(\n",
        "    estimator = model, # the ML model\n",
        "    scoring = 'r2', \n",
        "    threshold = 0.001, \n",
        "    cv=2,\n",
        ")\n",
        "\n",
        "RFE_model.fit(X_train, y_train)"
      ],
      "metadata": {
        "colab": {
          "base_uri": "https://localhost:8080/"
        },
        "id": "bFcSpWsywaKX",
        "outputId": "19c4d59f-3ef2-4161-bd5b-707aeae5ddf2"
      },
      "execution_count": 79,
      "outputs": [
        {
          "output_type": "execute_result",
          "data": {
            "text/plain": [
              "RecursiveFeatureElimination(cv=2,\n",
              "                            estimator=GradientBoostingRegressor(n_estimators=5,\n",
              "                                                                random_state=10),\n",
              "                            scoring='r2', threshold=0.001)"
            ]
          },
          "metadata": {},
          "execution_count": 79
        }
      ]
    },
    {
      "cell_type": "code",
      "source": [
        "Importances = RFE_model.feature_importances_\n",
        "print(Importances)"
      ],
      "metadata": {
        "colab": {
          "base_uri": "https://localhost:8080/"
        },
        "id": "rq3O419bwmQt",
        "outputId": "024d9347-f91e-4aab-e7ce-9286b5a235d9"
      },
      "execution_count": 87,
      "outputs": [
        {
          "output_type": "stream",
          "name": "stdout",
          "text": [
            "Coal         0.000000\n",
            "PV           0.030799\n",
            "Gas          0.110139\n",
            "CO2          0.114959\n",
            "Wind         0.322940\n",
            "Demand DE    0.421163\n",
            "dtype: float64\n"
          ]
        }
      ]
    },
    {
      "cell_type": "code",
      "source": [
        "RFE_model.initial_model_performance_,"
      ],
      "metadata": {
        "colab": {
          "base_uri": "https://localhost:8080/"
        },
        "id": "7StEivU4xw46",
        "outputId": "c2c508a4-7ac2-40a9-f1cb-91b61a2d57ae"
      },
      "execution_count": 91,
      "outputs": [
        {
          "output_type": "execute_result",
          "data": {
            "text/plain": [
              "(-0.034686029123249806,)"
            ]
          },
          "metadata": {},
          "execution_count": 91
        }
      ]
    },
    {
      "cell_type": "code",
      "source": [
        "RFE_model.features_to_drop_"
      ],
      "metadata": {
        "colab": {
          "base_uri": "https://localhost:8080/"
        },
        "id": "ZbXSMT3OyXwF",
        "outputId": "78cdcbd6-906b-4b61-b66e-48b4d66c0f7f"
      },
      "execution_count": 93,
      "outputs": [
        {
          "output_type": "execute_result",
          "data": {
            "text/plain": [
              "['PV', 'Coal']"
            ]
          },
          "metadata": {},
          "execution_count": 93
        }
      ]
    },
    {
      "cell_type": "code",
      "source": [
        "RFE_model.feature_importances_.plot.bar(figsize=(10, 5))\n",
        "plt.ylabel('Feature importance')\n",
        "plt.title('Feature importance derived from the GBM')\n",
        "plt.show()"
      ],
      "metadata": {
        "colab": {
          "base_uri": "https://localhost:8080/",
          "height": 377
        },
        "id": "It5lVpvyq2tH",
        "outputId": "35d5b325-aa0a-48de-ddb1-e39cda738f73"
      },
      "execution_count": 81,
      "outputs": [
        {
          "output_type": "display_data",
          "data": {
            "text/plain": [
              "<Figure size 720x360 with 1 Axes>"
            ],
            "image/png": "[encoded data removed]"
          },
          "metadata": {}
        }
      ]
    },
    {
      "cell_type": "code",
      "source": [
        "pd.Series(RFE_model.performance_drifts_).plot.bar(figsize=(10, 5))\n",
        "plt.title('Performance change after removing features recursively')\n",
        "plt.ylabel('R2 change when feature was removed')\n",
        "plt.show()"
      ],
      "metadata": {
        "colab": {
          "base_uri": "https://localhost:8080/",
          "height": 377
        },
        "id": "FrraCxUOw5tI",
        "outputId": "6b25a452-e890-4518-9b9d-521ed6d352fb"
      },
      "execution_count": 82,
      "outputs": [
        {
          "output_type": "display_data",
          "data": {
            "text/plain": [
              "<Figure size 720x360 with 1 Axes>"
            ],
            "image/png": "[encoded data removed]"
          },
          "metadata": {}
        }
      ]
    },
    {
      "cell_type": "code",
      "source": [
        "X_train_t = RFE_model.transform(X_train)\n",
        "X_test_t = RFE_model.transform(X_test)"
      ],
      "metadata": {
        "id": "R7z9cFEmxKc3"
      },
      "execution_count": 84,
      "outputs": []
    },
    {
      "cell_type": "code",
      "source": [
        "X_train_t"
      ],
      "metadata": {
        "colab": {
          "base_uri": "https://localhost:8080/",
          "height": 442
        },
        "id": "dGUImd74xOZ0",
        "outputId": "892a38c8-ce23-4f43-8433-6d9a00ca82b6"
      },
      "execution_count": 85,
      "outputs": [
        {
          "output_type": "execute_result",
          "data": {
            "text/plain": [
              "                            Demand DE      Wind    Gas    CO2\n",
              "Date                                                         \n",
              "2014-12-31 23:59:59.991  40242.250000   8280.00  21.30   7.27\n",
              "2015-01-01 00:59:59.991  39158.500000   8412.75  21.30   7.27\n",
              "2015-01-01 01:59:59.991  38824.500000   8502.25  21.30   7.27\n",
              "2015-01-01 02:59:59.991  38969.250000   8668.50  21.30   7.27\n",
              "2015-01-01 03:59:59.991  39092.750000   8849.25  21.30   7.27\n",
              "...                               ...       ...    ...    ...\n",
              "2018-12-27 18:59:59.983  56407.161008  10002.75  23.32  24.73\n",
              "2018-12-27 19:59:59.983  53666.412449   9914.25  23.32  24.73\n",
              "2018-12-27 20:59:59.983  51393.678092   9851.25  23.32  24.73\n",
              "2018-12-27 21:59:59.983  47355.835381   9921.00  23.32  24.73\n",
              "2018-12-27 22:59:59.983  46245.934188  10088.75  22.81  24.70\n",
              "\n",
              "[34968 rows x 4 columns]"
            ],
            "text/html": [
              "\n",
              "  <div id=\"df-ae2a615e-d953-4202-a83c-56e81a14fc9a\">\n",
              "    <div class=\"colab-df-container\">\n",
              "      <div>\n",
              "<style scoped>\n",
              "    .dataframe tbody tr th:only-of-type {\n",
              "        vertical-align: middle;\n",
              "    }\n",
              "\n",
              "    .dataframe tbody tr th {\n",
              "        vertical-align: top;\n",
              "    }\n",
              "\n",
              "    .dataframe thead th {\n",
              "        text-align: right;\n",
              "    }\n",
              "</style>\n",
              "<table border=\"1\" class=\"dataframe\">\n",
              "  <thead>\n",
              "    <tr style=\"text-align: right;\">\n",
              "      <th></th>\n",
              "      <th>Demand DE</th>\n",
              "      <th>Wind</th>\n",
              "      <th>Gas</th>\n",
              "      <th>CO2</th>\n",
              "    </tr>\n",
              "    <tr>\n",
              "      <th>Date</th>\n",
              "      <th></th>\n",
              "      <th></th>\n",
              "      <th></th>\n",
              "      <th></th>\n",
              "    </tr>\n",
              "  </thead>\n",
              "  <tbody>\n",
              "    <tr>\n",
              "      <th>2014-12-31 23:59:59.991</th>\n",
              "      <td>40242.250000</td>\n",
              "      <td>8280.00</td>\n",
              "      <td>21.30</td>\n",
              "      <td>7.27</td>\n",
              "    </tr>\n",
              "    <tr>\n",
              "      <th>2015-01-01 00:59:59.991</th>\n",
              "      <td>39158.500000</td>\n",
              "      <td>8412.75</td>\n",
              "      <td>21.30</td>\n",
              "      <td>7.27</td>\n",
              "    </tr>\n",
              "    <tr>\n",
              "      <th>2015-01-01 01:59:59.991</th>\n",
              "      <td>38824.500000</td>\n",
              "      <td>8502.25</td>\n",
              "      <td>21.30</td>\n",
              "      <td>7.27</td>\n",
              "    </tr>\n",
              "    <tr>\n",
              "      <th>2015-01-01 02:59:59.991</th>\n",
              "      <td>38969.250000</td>\n",
              "      <td>8668.50</td>\n",
              "      <td>21.30</td>\n",
              "      <td>7.27</td>\n",
              "    </tr>\n",
              "    <tr>\n",
              "      <th>2015-01-01 03:59:59.991</th>\n",
              "      <td>39092.750000</td>\n",
              "      <td>8849.25</td>\n",
              "      <td>21.30</td>\n",
              "      <td>7.27</td>\n",
              "    </tr>\n",
              "    <tr>\n",
              "      <th>...</th>\n",
              "      <td>...</td>\n",
              "      <td>...</td>\n",
              "      <td>...</td>\n",
              "      <td>...</td>\n",
              "    </tr>\n",
              "    <tr>\n",
              "      <th>2018-12-27 18:59:59.983</th>\n",
              "      <td>56407.161008</td>\n",
              "      <td>10002.75</td>\n",
              "      <td>23.32</td>\n",
              "      <td>24.73</td>\n",
              "    </tr>\n",
              "    <tr>\n",
              "      <th>2018-12-27 19:59:59.983</th>\n",
              "      <td>53666.412449</td>\n",
              "      <td>9914.25</td>\n",
              "      <td>23.32</td>\n",
              "      <td>24.73</td>\n",
              "    </tr>\n",
              "    <tr>\n",
              "      <th>2018-12-27 20:59:59.983</th>\n",
              "      <td>51393.678092</td>\n",
              "      <td>9851.25</td>\n",
              "      <td>23.32</td>\n",
              "      <td>24.73</td>\n",
              "    </tr>\n",
              "    <tr>\n",
              "      <th>2018-12-27 21:59:59.983</th>\n",
              "      <td>47355.835381</td>\n",
              "      <td>9921.00</td>\n",
              "      <td>23.32</td>\n",
              "      <td>24.73</td>\n",
              "    </tr>\n",
              "    <tr>\n",
              "      <th>2018-12-27 22:59:59.983</th>\n",
              "      <td>46245.934188</td>\n",
              "      <td>10088.75</td>\n",
              "      <td>22.81</td>\n",
              "      <td>24.70</td>\n",
              "    </tr>\n",
              "  </tbody>\n",
              "</table>\n",
              "<p>34968 rows × 4 columns</p>\n",
              "</div>\n",
              "      <button class=\"colab-df-convert\" onclick=\"convertToInteractive('df-ae2a615e-d953-4202-a83c-56e81a14fc9a')\"\n",
              "              title=\"Convert this dataframe to an interactive table.\"\n",
              "              style=\"display:none;\">\n",
              "        \n",
              "  <svg xmlns=\"http://www.w3.org/2000/svg\" height=\"24px\"viewBox=\"0 0 24 24\"\n",
              "       width=\"24px\">\n",
              "    <path d=\"M0 0h24v24H0V0z\" fill=\"none\"/>\n",
              "    <path d=\"M18.56 5.44l.94 2.06.94-2.06 2.06-.94-2.06-.94-.94-2.06-.94 2.06-2.06.94zm-11 1L8.5 8.5l.94-2.06 2.06-.94-2.06-.94L8.5 2.5l-.94 2.06-2.06.94zm10 10l.94 2.06.94-2.06 2.06-.94-2.06-.94-.94-2.06-.94 2.06-2.06.94z\"/><path d=\"M17.41 7.96l-1.37-1.37c-.4-.4-.92-.59-1.43-.59-.52 0-1.04.2-1.43.59L10.3 9.45l-7.72 7.72c-.78.78-.78 2.05 0 2.83L4 21.41c.39.39.9.59 1.41.59.51 0 1.02-.2 1.41-.59l7.78-7.78 2.81-2.81c.8-.78.8-2.07 0-2.86zM5.41 20L4 18.59l7.72-7.72 1.47 1.35L5.41 20z\"/>\n",
              "  </svg>\n",
              "      </button>\n",
              "      \n",
              "  <style>\n",
              "    .colab-df-container {\n",
              "      display:flex;\n",
              "      flex-wrap:wrap;\n",
              "      gap: 12px;\n",
              "    }\n",
              "\n",
              "    .colab-df-convert {\n",
              "      background-color: #E8F0FE;\n",
              "      border: none;\n",
              "      border-radius: 50%;\n",
              "      cursor: pointer;\n",
              "      display: none;\n",
              "      fill: #1967D2;\n",
              "      height: 32px;\n",
              "      padding: 0 0 0 0;\n",
              "      width: 32px;\n",
              "    }\n",
              "\n",
              "    .colab-df-convert:hover {\n",
              "      background-color: #E2EBFA;\n",
              "      box-shadow: 0px 1px 2px rgba(60, 64, 67, 0.3), 0px 1px 3px 1px rgba(60, 64, 67, 0.15);\n",
              "      fill: #174EA6;\n",
              "    }\n",
              "\n",
              "    [theme=dark] .colab-df-convert {\n",
              "      background-color: #3B4455;\n",
              "      fill: #D2E3FC;\n",
              "    }\n",
              "\n",
              "    [theme=dark] .colab-df-convert:hover {\n",
              "      background-color: #434B5C;\n",
              "      box-shadow: 0px 1px 3px 1px rgba(0, 0, 0, 0.15);\n",
              "      filter: drop-shadow(0px 1px 2px rgba(0, 0, 0, 0.3));\n",
              "      fill: #FFFFFF;\n",
              "    }\n",
              "  </style>\n",
              "\n",
              "      <script>\n",
              "        const buttonEl =\n",
              "          document.querySelector('#df-ae2a615e-d953-4202-a83c-56e81a14fc9a button.colab-df-convert');\n",
              "        buttonEl.style.display =\n",
              "          google.colab.kernel.accessAllowed ? 'block' : 'none';\n",
              "\n",
              "        async function convertToInteractive(key) {\n",
              "          const element = document.querySelector('#df-ae2a615e-d953-4202-a83c-56e81a14fc9a');\n",
              "          const dataTable =\n",
              "            await google.colab.kernel.invokeFunction('convertToInteractive',\n",
              "                                                     [key], {});\n",
              "          if (!dataTable) return;\n",
              "\n",
              "          const docLinkHtml = 'Like what you see? Visit the ' +\n",
              "            '<a target=\"_blank\" href=https://colab.research.google.com/notebooks/data_table.ipynb>data table notebook</a>'\n",
              "            + ' to learn more about interactive tables.';\n",
              "          element.innerHTML = '';\n",
              "          dataTable['output_type'] = 'display_data';\n",
              "          await google.colab.output.renderOutput(dataTable, element);\n",
              "          const docLink = document.createElement('div');\n",
              "          docLink.innerHTML = docLinkHtml;\n",
              "          element.appendChild(docLink);\n",
              "        }\n",
              "      </script>\n",
              "    </div>\n",
              "  </div>\n",
              "  "
            ]
          },
          "metadata": {},
          "execution_count": 85
        }
      ]
    },
    {
      "cell_type": "markdown",
      "source": [
        "**https://towardsdatascience.com/powerful-feature-selection-with-recursive-feature-elimination-rfe-of-sklearn-23efb2cdb54e**"
      ],
      "metadata": {
        "id": "LONAfwGy0bK_"
      }
    },
    {
      "cell_type": "code",
      "source": [
        "from sklearn.ensemble import RandomForestRegressor\n",
        "from sklearn.model_selection import train_test_split\n",
        "from sklearn.preprocessing import StandardScaler\n",
        "\n",
        "# Feature, target arrays\n",
        "X, y = df.iloc[:, 1:], df.iloc[:, 0]\n",
        "\n",
        "# Train/test set generation\n",
        "X_train, X_test, y_train, y_test = train_test_split(\n",
        "    X, y, test_size=0.3, random_state=1121218\n",
        ")\n",
        "\n",
        "# Scale train and test sets with StandardScaler\n",
        "X_train_std = StandardScaler().fit_transform(X_train)\n",
        "X_test_std = StandardScaler().fit_transform(X_test)\n",
        "\n",
        "# Fix the dimensions of the target array\n",
        "y_train = y_train.values.reshape(-1, 1)\n",
        "y_test = y_test.values.reshape(-1, 1)\n",
        "\n",
        "# Init, fit, test Lasso Regressor\n",
        "forest = RandomForestRegressor()\n",
        "_ = forest.fit(X_train_std, y_train)\n",
        "forest.score(X_test_std, y_test)\n"
      ],
      "metadata": {
        "colab": {
          "base_uri": "https://localhost:8080/"
        },
        "id": "4-u_Iqtg0bi8",
        "outputId": "8d956875-4b9b-4344-df1a-ca5b1ec90ca0"
      },
      "execution_count": 120,
      "outputs": [
        {
          "output_type": "stream",
          "name": "stderr",
          "text": [
            "/usr/local/lib/python3.7/dist-packages/ipykernel_launcher.py:23: DataConversionWarning: A column-vector y was passed when a 1d array was expected. Please change the shape of y to (n_samples,), for example using ravel().\n"
          ]
        },
        {
          "output_type": "execute_result",
          "data": {
            "text/plain": [
              "0.9148072655312411"
            ]
          },
          "metadata": {},
          "execution_count": 120
        }
      ]
    },
    {
      "cell_type": "code",
      "source": [
        "y"
      ],
      "metadata": {
        "colab": {
          "base_uri": "https://localhost:8080/"
        },
        "id": "IpYgWmAI0tib",
        "outputId": "b9594462-f1f9-4adc-caa1-5dedf2d32bc6"
      },
      "execution_count": 121,
      "outputs": [
        {
          "output_type": "execute_result",
          "data": {
            "text/plain": [
              "Date\n",
              "2014-12-31 23:59:59.991    18.29\n",
              "2015-01-01 00:59:59.991    16.04\n",
              "2015-01-01 01:59:59.991    14.60\n",
              "2015-01-01 02:59:59.991    14.95\n",
              "2015-01-01 03:59:59.991    14.50\n",
              "                           ...  \n",
              "2020-12-31 18:59:59.980    56.70\n",
              "2020-12-31 19:59:59.980    52.44\n",
              "2020-12-31 20:59:59.980    51.86\n",
              "2020-12-31 21:59:59.980    52.26\n",
              "2020-12-31 22:59:59.980    50.87\n",
              "Name: price day ahead real, Length: 52608, dtype: float64"
            ]
          },
          "metadata": {},
          "execution_count": 121
        }
      ]
    },
    {
      "cell_type": "code",
      "source": [
        "pd.DataFrame(\n",
        "    zip(X_train.columns, abs(forest.feature_importances_)),\n",
        "    columns=[\"feature\", \"weight\"],\n",
        ").sort_values(\"weight\").reset_index(drop=True)"
      ],
      "metadata": {
        "colab": {
          "base_uri": "https://localhost:8080/",
          "height": 231
        },
        "id": "Enae1B8S0ltV",
        "outputId": "4f40450f-f05a-49d3-ec3c-b35c3b0d1ac6"
      },
      "execution_count": 122,
      "outputs": [
        {
          "output_type": "execute_result",
          "data": {
            "text/plain": [
              "     feature    weight\n",
              "0       Coal  0.092584\n",
              "1        CO2  0.104895\n",
              "2         PV  0.110173\n",
              "3        Gas  0.111114\n",
              "4       Wind  0.261197\n",
              "5  Demand DE  0.320037"
            ],
            "text/html": [
              "\n",
              "  <div id=\"df-049b7c9a-bcaf-4abc-b9c9-eba6347d9a5e\">\n",
              "    <div class=\"colab-df-container\">\n",
              "      <div>\n",
              "<style scoped>\n",
              "    .dataframe tbody tr th:only-of-type {\n",
              "        vertical-align: middle;\n",
              "    }\n",
              "\n",
              "    .dataframe tbody tr th {\n",
              "        vertical-align: top;\n",
              "    }\n",
              "\n",
              "    .dataframe thead th {\n",
              "        text-align: right;\n",
              "    }\n",
              "</style>\n",
              "<table border=\"1\" class=\"dataframe\">\n",
              "  <thead>\n",
              "    <tr style=\"text-align: right;\">\n",
              "      <th></th>\n",
              "      <th>feature</th>\n",
              "      <th>weight</th>\n",
              "    </tr>\n",
              "  </thead>\n",
              "  <tbody>\n",
              "    <tr>\n",
              "      <th>0</th>\n",
              "      <td>Coal</td>\n",
              "      <td>0.092584</td>\n",
              "    </tr>\n",
              "    <tr>\n",
              "      <th>1</th>\n",
              "      <td>CO2</td>\n",
              "      <td>0.104895</td>\n",
              "    </tr>\n",
              "    <tr>\n",
              "      <th>2</th>\n",
              "      <td>PV</td>\n",
              "      <td>0.110173</td>\n",
              "    </tr>\n",
              "    <tr>\n",
              "      <th>3</th>\n",
              "      <td>Gas</td>\n",
              "      <td>0.111114</td>\n",
              "    </tr>\n",
              "    <tr>\n",
              "      <th>4</th>\n",
              "      <td>Wind</td>\n",
              "      <td>0.261197</td>\n",
              "    </tr>\n",
              "    <tr>\n",
              "      <th>5</th>\n",
              "      <td>Demand DE</td>\n",
              "      <td>0.320037</td>\n",
              "    </tr>\n",
              "  </tbody>\n",
              "</table>\n",
              "</div>\n",
              "      <button class=\"colab-df-convert\" onclick=\"convertToInteractive('df-049b7c9a-bcaf-4abc-b9c9-eba6347d9a5e')\"\n",
              "              title=\"Convert this dataframe to an interactive table.\"\n",
              "              style=\"display:none;\">\n",
              "        \n",
              "  <svg xmlns=\"http://www.w3.org/2000/svg\" height=\"24px\"viewBox=\"0 0 24 24\"\n",
              "       width=\"24px\">\n",
              "    <path d=\"M0 0h24v24H0V0z\" fill=\"none\"/>\n",
              "    <path d=\"M18.56 5.44l.94 2.06.94-2.06 2.06-.94-2.06-.94-.94-2.06-.94 2.06-2.06.94zm-11 1L8.5 8.5l.94-2.06 2.06-.94-2.06-.94L8.5 2.5l-.94 2.06-2.06.94zm10 10l.94 2.06.94-2.06 2.06-.94-2.06-.94-.94-2.06-.94 2.06-2.06.94z\"/><path d=\"M17.41 7.96l-1.37-1.37c-.4-.4-.92-.59-1.43-.59-.52 0-1.04.2-1.43.59L10.3 9.45l-7.72 7.72c-.78.78-.78 2.05 0 2.83L4 21.41c.39.39.9.59 1.41.59.51 0 1.02-.2 1.41-.59l7.78-7.78 2.81-2.81c.8-.78.8-2.07 0-2.86zM5.41 20L4 18.59l7.72-7.72 1.47 1.35L5.41 20z\"/>\n",
              "  </svg>\n",
              "      </button>\n",
              "      \n",
              "  <style>\n",
              "    .colab-df-container {\n",
              "      display:flex;\n",
              "      flex-wrap:wrap;\n",
              "      gap: 12px;\n",
              "    }\n",
              "\n",
              "    .colab-df-convert {\n",
              "      background-color: #E8F0FE;\n",
              "      border: none;\n",
              "      border-radius: 50%;\n",
              "      cursor: pointer;\n",
              "      display: none;\n",
              "      fill: #1967D2;\n",
              "      height: 32px;\n",
              "      padding: 0 0 0 0;\n",
              "      width: 32px;\n",
              "    }\n",
              "\n",
              "    .colab-df-convert:hover {\n",
              "      background-color: #E2EBFA;\n",
              "      box-shadow: 0px 1px 2px rgba(60, 64, 67, 0.3), 0px 1px 3px 1px rgba(60, 64, 67, 0.15);\n",
              "      fill: #174EA6;\n",
              "    }\n",
              "\n",
              "    [theme=dark] .colab-df-convert {\n",
              "      background-color: #3B4455;\n",
              "      fill: #D2E3FC;\n",
              "    }\n",
              "\n",
              "    [theme=dark] .colab-df-convert:hover {\n",
              "      background-color: #434B5C;\n",
              "      box-shadow: 0px 1px 3px 1px rgba(0, 0, 0, 0.15);\n",
              "      filter: drop-shadow(0px 1px 2px rgba(0, 0, 0, 0.3));\n",
              "      fill: #FFFFFF;\n",
              "    }\n",
              "  </style>\n",
              "\n",
              "      <script>\n",
              "        const buttonEl =\n",
              "          document.querySelector('#df-049b7c9a-bcaf-4abc-b9c9-eba6347d9a5e button.colab-df-convert');\n",
              "        buttonEl.style.display =\n",
              "          google.colab.kernel.accessAllowed ? 'block' : 'none';\n",
              "\n",
              "        async function convertToInteractive(key) {\n",
              "          const element = document.querySelector('#df-049b7c9a-bcaf-4abc-b9c9-eba6347d9a5e');\n",
              "          const dataTable =\n",
              "            await google.colab.kernel.invokeFunction('convertToInteractive',\n",
              "                                                     [key], {});\n",
              "          if (!dataTable) return;\n",
              "\n",
              "          const docLinkHtml = 'Like what you see? Visit the ' +\n",
              "            '<a target=\"_blank\" href=https://colab.research.google.com/notebooks/data_table.ipynb>data table notebook</a>'\n",
              "            + ' to learn more about interactive tables.';\n",
              "          element.innerHTML = '';\n",
              "          dataTable['output_type'] = 'display_data';\n",
              "          await google.colab.output.renderOutput(dataTable, element);\n",
              "          const docLink = document.createElement('div');\n",
              "          docLink.innerHTML = docLinkHtml;\n",
              "          element.appendChild(docLink);\n",
              "        }\n",
              "      </script>\n",
              "    </div>\n",
              "  </div>\n",
              "  "
            ]
          },
          "metadata": {},
          "execution_count": 122
        }
      ]
    },
    {
      "cell_type": "code",
      "source": [
        "pd.DataFrame(forest.feature_importances_).plot.bar(figsize=(10, 5))\n",
        "plt.ylabel('Feature importance')\n",
        "plt.title('Feature importance derived from the GBM')\n",
        "plt.show()"
      ],
      "metadata": {
        "colab": {
          "base_uri": "https://localhost:8080/",
          "height": 329
        },
        "id": "SGXy2KS21QS8",
        "outputId": "81519826-5100-463e-cda6-28aededc6e8e"
      },
      "execution_count": 115,
      "outputs": [
        {
          "output_type": "display_data",
          "data": {
            "text/plain": [
              "<Figure size 720x360 with 1 Axes>"
            ],
            "image/png": "[encoded data removed]"
          },
          "metadata": {}
        }
      ]
    }
  ]
}