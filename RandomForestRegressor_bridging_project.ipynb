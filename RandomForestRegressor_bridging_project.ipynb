{
  "nbformat": 4,
  "nbformat_minor": 0,
  "metadata": {
    "colab": {
      "name": " RandomForestRegressor bridging project.ipynb",
      "provenance": [],
      "authorship_tag": "ABX9TyOdQiuL5yQoZPOtj+Bvt+4+",
      "include_colab_link": true
    },
    "kernelspec": {
      "name": "python3",
      "display_name": "Python 3"
    },
    "language_info": {
      "name": "python"
    }
  },
  "cells": [
    {
      "cell_type": "markdown",
      "metadata": {
        "id": "view-in-github",
        "colab_type": "text"
      },
      "source": [
        "<a href=\"https://colab.research.google.com/github/souhirbenamor/EPF/blob/main/RandomForestRegressor_bridging_project.ipynb\" target=\"_parent\"><img src=\"https://colab.research.google.com/assets/colab-badge.svg\" alt=\"Open In Colab\"/></a>"
      ]
    },
    {
      "cell_type": "code",
      "source": [
        "import numpy as np\n",
        "from sklearn.datasets import load_boston\n",
        "from sklearn.ensemble import RandomForestRegressor\n",
        "from sklearn.model_selection import train_test_split\n",
        "from sklearn.feature_selection import RFECV\n",
        "import matplotlib.pyplot as plt"
      ],
      "metadata": {
        "id": "uL44eRjP67F-"
      },
      "execution_count": 41,
      "outputs": []
    },
    {
      "cell_type": "code",
      "source": [
        "import pandas as pd\n",
        "import numpy as np\n",
        "df = pd.read_excel('electricty_fund_data.xlsx')\n",
        "df = df.set_index(\"Date\") # define Date  as index\n",
        "df.shape"
      ],
      "metadata": {
        "colab": {
          "base_uri": "https://localhost:8080/"
        },
        "id": "keLYk2YC1zhU",
        "outputId": "5c0bd9b4-6994-44f5-8643-190811343a76"
      },
      "execution_count": 47,
      "outputs": [
        {
          "output_type": "execute_result",
          "data": {
            "text/plain": [
              "(52608, 11)"
            ]
          },
          "metadata": {},
          "execution_count": 47
        }
      ]
    },
    {
      "cell_type": "code",
      "source": [
        "X=df.iloc[:, 1:11]\n",
        "y=df.iloc[:, 0]"
      ],
      "metadata": {
        "id": "i2M1RWna3ADN"
      },
      "execution_count": 48,
      "outputs": []
    },
    {
      "cell_type": "code",
      "source": [
        "X_train = X[:-17472]; X_test = X[-17472:]\n",
        "y_train = y[:-17472]; y_test = y[-17472:]\n",
        "\n",
        "X_train.shape, y_train.shape, X_test.shape, y_test.shape"
      ],
      "metadata": {
        "colab": {
          "base_uri": "https://localhost:8080/"
        },
        "id": "MIft9h5F2BUy",
        "outputId": "4d20b114-a388-40e1-f4c6-c1b6edcbc4d8"
      },
      "execution_count": 49,
      "outputs": [
        {
          "output_type": "execute_result",
          "data": {
            "text/plain": [
              "((35136, 10), (35136,), (17472, 10), (17472,))"
            ]
          },
          "metadata": {},
          "execution_count": 49
        }
      ]
    },
    {
      "cell_type": "code",
      "source": [
        "X_train "
      ],
      "metadata": {
        "colab": {
          "base_uri": "https://localhost:8080/",
          "height": 450
        },
        "id": "4HOCPHk_RMgj",
        "outputId": "8d2f972b-359a-4b81-a26e-f200f5ae27f4"
      },
      "execution_count": 50,
      "outputs": [
        {
          "output_type": "execute_result",
          "data": {
            "text/plain": [
              "                             Lignite  Natural Gas    Hard Coal  Nuclear  \\\n",
              "Date                                                                      \n",
              "2014-12-31 23:59:59.991   389.000000   234.685058   188.576064      0.0   \n",
              "2015-01-01 00:59:59.991   389.000000   234.685058   188.576064      0.0   \n",
              "2015-01-01 01:59:59.991   389.000000   234.685058   188.576064      0.0   \n",
              "2015-01-01 02:59:59.991   389.000000   234.685058   188.576064      0.0   \n",
              "2015-01-01 03:59:59.991   389.000000   234.685058   188.576064      0.0   \n",
              "...                              ...          ...          ...      ...   \n",
              "2019-01-03 18:59:59.983  2213.700662  5099.816981  4246.165676      0.0   \n",
              "2019-01-03 19:59:59.983  2213.700662  5099.816981  4246.165676      0.0   \n",
              "2019-01-03 20:59:59.983  2513.700662  5099.816981  4246.165676      0.0   \n",
              "2019-01-03 21:59:59.983  2513.700662  5099.816981  4246.165676      0.0   \n",
              "2019-01-03 22:59:59.983  2185.700662  5099.816981  4246.165676      0.0   \n",
              "\n",
              "                            Demand DE      Wind   PV    Gas   Coal    CO2  \n",
              "Date                                                                       \n",
              "2014-12-31 23:59:59.991  40242.250000   8280.00  0.0  21.30  55.17   7.27  \n",
              "2015-01-01 00:59:59.991  39158.500000   8412.75  0.0  21.30  55.17   7.27  \n",
              "2015-01-01 01:59:59.991  38824.500000   8502.25  0.0  21.30  55.17   7.27  \n",
              "2015-01-01 02:59:59.991  38969.250000   8668.50  0.0  21.30  55.17   7.27  \n",
              "2015-01-01 03:59:59.991  39092.750000   8849.25  0.0  21.30  55.17   7.27  \n",
              "...                               ...       ...  ...    ...    ...    ...  \n",
              "2019-01-03 18:59:59.983  61481.958956  11130.50  0.0  22.26  74.00  23.08  \n",
              "2019-01-03 19:59:59.983  58441.991930  10600.25  0.0  22.26  74.00  23.08  \n",
              "2019-01-03 20:59:59.983  55837.775503  10068.75  0.0  22.26  74.00  23.08  \n",
              "2019-01-03 21:59:59.983  52184.328272   9884.00  0.0  22.26  74.00  23.08  \n",
              "2019-01-03 22:59:59.983  47040.697796   9011.75  0.0  22.93  73.26  23.54  \n",
              "\n",
              "[35136 rows x 10 columns]"
            ],
            "text/html": [
              "\n",
              "  <div id=\"df-13a0901b-87d9-45b2-a3dd-633a63ed31d0\">\n",
              "    <div class=\"colab-df-container\">\n",
              "      <div>\n",
              "<style scoped>\n",
              "    .dataframe tbody tr th:only-of-type {\n",
              "        vertical-align: middle;\n",
              "    }\n",
              "\n",
              "    .dataframe tbody tr th {\n",
              "        vertical-align: top;\n",
              "    }\n",
              "\n",
              "    .dataframe thead th {\n",
              "        text-align: right;\n",
              "    }\n",
              "</style>\n",
              "<table border=\"1\" class=\"dataframe\">\n",
              "  <thead>\n",
              "    <tr style=\"text-align: right;\">\n",
              "      <th></th>\n",
              "      <th>Lignite</th>\n",
              "      <th>Natural Gas</th>\n",
              "      <th>Hard Coal</th>\n",
              "      <th>Nuclear</th>\n",
              "      <th>Demand DE</th>\n",
              "      <th>Wind</th>\n",
              "      <th>PV</th>\n",
              "      <th>Gas</th>\n",
              "      <th>Coal</th>\n",
              "      <th>CO2</th>\n",
              "    </tr>\n",
              "    <tr>\n",
              "      <th>Date</th>\n",
              "      <th></th>\n",
              "      <th></th>\n",
              "      <th></th>\n",
              "      <th></th>\n",
              "      <th></th>\n",
              "      <th></th>\n",
              "      <th></th>\n",
              "      <th></th>\n",
              "      <th></th>\n",
              "      <th></th>\n",
              "    </tr>\n",
              "  </thead>\n",
              "  <tbody>\n",
              "    <tr>\n",
              "      <th>2014-12-31 23:59:59.991</th>\n",
              "      <td>389.000000</td>\n",
              "      <td>234.685058</td>\n",
              "      <td>188.576064</td>\n",
              "      <td>0.0</td>\n",
              "      <td>40242.250000</td>\n",
              "      <td>8280.00</td>\n",
              "      <td>0.0</td>\n",
              "      <td>21.30</td>\n",
              "      <td>55.17</td>\n",
              "      <td>7.27</td>\n",
              "    </tr>\n",
              "    <tr>\n",
              "      <th>2015-01-01 00:59:59.991</th>\n",
              "      <td>389.000000</td>\n",
              "      <td>234.685058</td>\n",
              "      <td>188.576064</td>\n",
              "      <td>0.0</td>\n",
              "      <td>39158.500000</td>\n",
              "      <td>8412.75</td>\n",
              "      <td>0.0</td>\n",
              "      <td>21.30</td>\n",
              "      <td>55.17</td>\n",
              "      <td>7.27</td>\n",
              "    </tr>\n",
              "    <tr>\n",
              "      <th>2015-01-01 01:59:59.991</th>\n",
              "      <td>389.000000</td>\n",
              "      <td>234.685058</td>\n",
              "      <td>188.576064</td>\n",
              "      <td>0.0</td>\n",
              "      <td>38824.500000</td>\n",
              "      <td>8502.25</td>\n",
              "      <td>0.0</td>\n",
              "      <td>21.30</td>\n",
              "      <td>55.17</td>\n",
              "      <td>7.27</td>\n",
              "    </tr>\n",
              "    <tr>\n",
              "      <th>2015-01-01 02:59:59.991</th>\n",
              "      <td>389.000000</td>\n",
              "      <td>234.685058</td>\n",
              "      <td>188.576064</td>\n",
              "      <td>0.0</td>\n",
              "      <td>38969.250000</td>\n",
              "      <td>8668.50</td>\n",
              "      <td>0.0</td>\n",
              "      <td>21.30</td>\n",
              "      <td>55.17</td>\n",
              "      <td>7.27</td>\n",
              "    </tr>\n",
              "    <tr>\n",
              "      <th>2015-01-01 03:59:59.991</th>\n",
              "      <td>389.000000</td>\n",
              "      <td>234.685058</td>\n",
              "      <td>188.576064</td>\n",
              "      <td>0.0</td>\n",
              "      <td>39092.750000</td>\n",
              "      <td>8849.25</td>\n",
              "      <td>0.0</td>\n",
              "      <td>21.30</td>\n",
              "      <td>55.17</td>\n",
              "      <td>7.27</td>\n",
              "    </tr>\n",
              "    <tr>\n",
              "      <th>...</th>\n",
              "      <td>...</td>\n",
              "      <td>...</td>\n",
              "      <td>...</td>\n",
              "      <td>...</td>\n",
              "      <td>...</td>\n",
              "      <td>...</td>\n",
              "      <td>...</td>\n",
              "      <td>...</td>\n",
              "      <td>...</td>\n",
              "      <td>...</td>\n",
              "    </tr>\n",
              "    <tr>\n",
              "      <th>2019-01-03 18:59:59.983</th>\n",
              "      <td>2213.700662</td>\n",
              "      <td>5099.816981</td>\n",
              "      <td>4246.165676</td>\n",
              "      <td>0.0</td>\n",
              "      <td>61481.958956</td>\n",
              "      <td>11130.50</td>\n",
              "      <td>0.0</td>\n",
              "      <td>22.26</td>\n",
              "      <td>74.00</td>\n",
              "      <td>23.08</td>\n",
              "    </tr>\n",
              "    <tr>\n",
              "      <th>2019-01-03 19:59:59.983</th>\n",
              "      <td>2213.700662</td>\n",
              "      <td>5099.816981</td>\n",
              "      <td>4246.165676</td>\n",
              "      <td>0.0</td>\n",
              "      <td>58441.991930</td>\n",
              "      <td>10600.25</td>\n",
              "      <td>0.0</td>\n",
              "      <td>22.26</td>\n",
              "      <td>74.00</td>\n",
              "      <td>23.08</td>\n",
              "    </tr>\n",
              "    <tr>\n",
              "      <th>2019-01-03 20:59:59.983</th>\n",
              "      <td>2513.700662</td>\n",
              "      <td>5099.816981</td>\n",
              "      <td>4246.165676</td>\n",
              "      <td>0.0</td>\n",
              "      <td>55837.775503</td>\n",
              "      <td>10068.75</td>\n",
              "      <td>0.0</td>\n",
              "      <td>22.26</td>\n",
              "      <td>74.00</td>\n",
              "      <td>23.08</td>\n",
              "    </tr>\n",
              "    <tr>\n",
              "      <th>2019-01-03 21:59:59.983</th>\n",
              "      <td>2513.700662</td>\n",
              "      <td>5099.816981</td>\n",
              "      <td>4246.165676</td>\n",
              "      <td>0.0</td>\n",
              "      <td>52184.328272</td>\n",
              "      <td>9884.00</td>\n",
              "      <td>0.0</td>\n",
              "      <td>22.26</td>\n",
              "      <td>74.00</td>\n",
              "      <td>23.08</td>\n",
              "    </tr>\n",
              "    <tr>\n",
              "      <th>2019-01-03 22:59:59.983</th>\n",
              "      <td>2185.700662</td>\n",
              "      <td>5099.816981</td>\n",
              "      <td>4246.165676</td>\n",
              "      <td>0.0</td>\n",
              "      <td>47040.697796</td>\n",
              "      <td>9011.75</td>\n",
              "      <td>0.0</td>\n",
              "      <td>22.93</td>\n",
              "      <td>73.26</td>\n",
              "      <td>23.54</td>\n",
              "    </tr>\n",
              "  </tbody>\n",
              "</table>\n",
              "<p>35136 rows × 10 columns</p>\n",
              "</div>\n",
              "      <button class=\"colab-df-convert\" onclick=\"convertToInteractive('df-13a0901b-87d9-45b2-a3dd-633a63ed31d0')\"\n",
              "              title=\"Convert this dataframe to an interactive table.\"\n",
              "              style=\"display:none;\">\n",
              "        \n",
              "  <svg xmlns=\"http://www.w3.org/2000/svg\" height=\"24px\"viewBox=\"0 0 24 24\"\n",
              "       width=\"24px\">\n",
              "    <path d=\"M0 0h24v24H0V0z\" fill=\"none\"/>\n",
              "    <path d=\"M18.56 5.44l.94 2.06.94-2.06 2.06-.94-2.06-.94-.94-2.06-.94 2.06-2.06.94zm-11 1L8.5 8.5l.94-2.06 2.06-.94-2.06-.94L8.5 2.5l-.94 2.06-2.06.94zm10 10l.94 2.06.94-2.06 2.06-.94-2.06-.94-.94-2.06-.94 2.06-2.06.94z\"/><path d=\"M17.41 7.96l-1.37-1.37c-.4-.4-.92-.59-1.43-.59-.52 0-1.04.2-1.43.59L10.3 9.45l-7.72 7.72c-.78.78-.78 2.05 0 2.83L4 21.41c.39.39.9.59 1.41.59.51 0 1.02-.2 1.41-.59l7.78-7.78 2.81-2.81c.8-.78.8-2.07 0-2.86zM5.41 20L4 18.59l7.72-7.72 1.47 1.35L5.41 20z\"/>\n",
              "  </svg>\n",
              "      </button>\n",
              "      \n",
              "  <style>\n",
              "    .colab-df-container {\n",
              "      display:flex;\n",
              "      flex-wrap:wrap;\n",
              "      gap: 12px;\n",
              "    }\n",
              "\n",
              "    .colab-df-convert {\n",
              "      background-color: #E8F0FE;\n",
              "      border: none;\n",
              "      border-radius: 50%;\n",
              "      cursor: pointer;\n",
              "      display: none;\n",
              "      fill: #1967D2;\n",
              "      height: 32px;\n",
              "      padding: 0 0 0 0;\n",
              "      width: 32px;\n",
              "    }\n",
              "\n",
              "    .colab-df-convert:hover {\n",
              "      background-color: #E2EBFA;\n",
              "      box-shadow: 0px 1px 2px rgba(60, 64, 67, 0.3), 0px 1px 3px 1px rgba(60, 64, 67, 0.15);\n",
              "      fill: #174EA6;\n",
              "    }\n",
              "\n",
              "    [theme=dark] .colab-df-convert {\n",
              "      background-color: #3B4455;\n",
              "      fill: #D2E3FC;\n",
              "    }\n",
              "\n",
              "    [theme=dark] .colab-df-convert:hover {\n",
              "      background-color: #434B5C;\n",
              "      box-shadow: 0px 1px 3px 1px rgba(0, 0, 0, 0.15);\n",
              "      filter: drop-shadow(0px 1px 2px rgba(0, 0, 0, 0.3));\n",
              "      fill: #FFFFFF;\n",
              "    }\n",
              "  </style>\n",
              "\n",
              "      <script>\n",
              "        const buttonEl =\n",
              "          document.querySelector('#df-13a0901b-87d9-45b2-a3dd-633a63ed31d0 button.colab-df-convert');\n",
              "        buttonEl.style.display =\n",
              "          google.colab.kernel.accessAllowed ? 'block' : 'none';\n",
              "\n",
              "        async function convertToInteractive(key) {\n",
              "          const element = document.querySelector('#df-13a0901b-87d9-45b2-a3dd-633a63ed31d0');\n",
              "          const dataTable =\n",
              "            await google.colab.kernel.invokeFunction('convertToInteractive',\n",
              "                                                     [key], {});\n",
              "          if (!dataTable) return;\n",
              "\n",
              "          const docLinkHtml = 'Like what you see? Visit the ' +\n",
              "            '<a target=\"_blank\" href=https://colab.research.google.com/notebooks/data_table.ipynb>data table notebook</a>'\n",
              "            + ' to learn more about interactive tables.';\n",
              "          element.innerHTML = '';\n",
              "          dataTable['output_type'] = 'display_data';\n",
              "          await google.colab.output.renderOutput(dataTable, element);\n",
              "          const docLink = document.createElement('div');\n",
              "          docLink.innerHTML = docLinkHtml;\n",
              "          element.appendChild(docLink);\n",
              "        }\n",
              "      </script>\n",
              "    </div>\n",
              "  </div>\n",
              "  "
            ]
          },
          "metadata": {},
          "execution_count": 50
        }
      ]
    },
    {
      "cell_type": "code",
      "source": [
        "rf = RandomForestRegressor(random_state=0)\n",
        "\n",
        "rf.fit(X_train,y_train)"
      ],
      "metadata": {
        "id": "ml6oH38hM1tS",
        "colab": {
          "base_uri": "https://localhost:8080/"
        },
        "outputId": "d80bf52f-1eec-4ae4-e44b-6e28a47ccdcd"
      },
      "execution_count": 51,
      "outputs": [
        {
          "output_type": "execute_result",
          "data": {
            "text/plain": [
              "RandomForestRegressor(random_state=0)"
            ]
          },
          "metadata": {},
          "execution_count": 51
        }
      ]
    },
    {
      "cell_type": "code",
      "source": [
        "features = list(X.columns.values)"
      ],
      "metadata": {
        "id": "OZ67FvEYU8jL"
      },
      "execution_count": 54,
      "outputs": []
    },
    {
      "cell_type": "code",
      "source": [
        "rf.feature_importances_"
      ],
      "metadata": {
        "colab": {
          "base_uri": "https://localhost:8080/"
        },
        "id": "0UNPJ4eYVAFK",
        "outputId": "08045b04-0dd8-4950-f257-a4ba6c05b622"
      },
      "execution_count": 55,
      "outputs": [
        {
          "output_type": "execute_result",
          "data": {
            "text/plain": [
              "array([0.0176882 , 0.02001233, 0.01686244, 0.01582354, 0.32569492,\n",
              "       0.14177677, 0.07301498, 0.07721744, 0.05354004, 0.25836934])"
            ]
          },
          "metadata": {},
          "execution_count": 55
        }
      ]
    },
    {
      "cell_type": "code",
      "source": [
        "f_i = list(zip(features,rf.feature_importances_))\n",
        "f_i.sort(key = lambda x : x[1])\n",
        "plt.barh([x[0] for x in f_i],[x[1] for x in f_i])\n",
        "\n",
        "plt.show()"
      ],
      "metadata": {
        "colab": {
          "base_uri": "https://localhost:8080/",
          "height": 265
        },
        "id": "iXarlGoeVC3F",
        "outputId": "18d53a8b-68a6-4da5-e67f-991d4c14806d"
      },
      "execution_count": 56,
      "outputs": [
        {
          "output_type": "display_data",
          "data": {
            "text/plain": [
              "<Figure size 432x288 with 1 Axes>"
            ],
            "image/png": "[encoded data removed]"
          },
          "metadata": {
            "needs_background": "light"
          }
        }
      ]
    },
    {
      "cell_type": "code",
      "source": [
        "rfe = RFECV(rf,cv=5,scoring=\"neg_mean_squared_error\")\n",
        "\n",
        "rfe.fit(X_train,y_train)"
      ],
      "metadata": {
        "colab": {
          "base_uri": "https://localhost:8080/"
        },
        "id": "6ZnA3wKWVMsm",
        "outputId": "3d56a0b1-23f1-43d0-8b6b-dc2cc0ef6330"
      },
      "execution_count": 57,
      "outputs": [
        {
          "output_type": "execute_result",
          "data": {
            "text/plain": [
              "RFECV(cv=5, estimator=RandomForestRegressor(random_state=0),\n",
              "      scoring='neg_mean_squared_error')"
            ]
          },
          "metadata": {},
          "execution_count": 57
        }
      ]
    },
    {
      "cell_type": "code",
      "source": [
        "selected_features = np.array(features)[rfe.get_support()]"
      ],
      "metadata": {
        "id": "5EnhXA9-VRzi"
      },
      "execution_count": 58,
      "outputs": []
    },
    {
      "cell_type": "code",
      "source": [
        "rfe.get_support()"
      ],
      "metadata": {
        "colab": {
          "base_uri": "https://localhost:8080/"
        },
        "id": "jf1L9NPrVSwV",
        "outputId": "410329ad-c6f6-4f2e-f6ea-b533ba09f182"
      },
      "execution_count": 59,
      "outputs": [
        {
          "output_type": "execute_result",
          "data": {
            "text/plain": [
              "array([ True,  True,  True,  True,  True,  True,  True,  True,  True,\n",
              "        True])"
            ]
          },
          "metadata": {},
          "execution_count": 59
        }
      ]
    }
  ]
}