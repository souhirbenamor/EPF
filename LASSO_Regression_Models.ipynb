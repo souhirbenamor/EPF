{
  "nbformat": 4,
  "nbformat_minor": 0,
  "metadata": {
    "colab": {
      "name": "LASSO Regression Models.ipynb",
      "provenance": [],
      "collapsed_sections": [],
      "authorship_tag": "ABX9TyNImLuR/aGaLqwYCAhPxloP",
      "include_colab_link": true
    },
    "kernelspec": {
      "name": "python3",
      "display_name": "Python 3"
    },
    "language_info": {
      "name": "python"
    }
  },
  "cells": [
    {
      "cell_type": "markdown",
      "metadata": {
        "id": "view-in-github",
        "colab_type": "text"
      },
      "source": [
        "<a href=\"https://colab.research.google.com/github/souhirbenamor/EPF/blob/main/LASSO_Regression_Models.ipynb\" target=\"_parent\"><img src=\"https://colab.research.google.com/assets/colab-badge.svg\" alt=\"Open In Colab\"/></a>"
      ]
    },
    {
      "cell_type": "markdown",
      "source": [
        "LASSO Regression Models\n",
        "https://machinelearningmastery.com/lasso-regression-with-python/\n",
        "https://www.askpython.com/python/examples/lasso-regression "
      ],
      "metadata": {
        "id": "nLe-WXSJH_Jf"
      }
    },
    {
      "cell_type": "code",
      "execution_count": 286,
      "metadata": {
        "id": "C3JPW357GP6r",
        "colab": {
          "base_uri": "https://localhost:8080/"
        },
        "outputId": "ba4e8d65-65dc-477c-ed30-f393e9e3686e"
      },
      "outputs": [
        {
          "output_type": "stream",
          "name": "stdout",
          "text": [
            "                      Date  ...   System load forecast\n",
            "0      2011-01-09 00:00:00  ...                63000.0\n",
            "1      2011-01-09 01:00:00  ...                58800.0\n",
            "2      2011-01-09 02:00:00  ...                58500.0\n",
            "3      2011-01-09 03:00:00  ...                54300.0\n",
            "4      2011-01-09 04:00:00  ...                51900.0\n",
            "...                    ...  ...                    ...\n",
            "52411  2016-12-31 19:00:00  ...                73957.0\n",
            "52412  2016-12-31 20:00:00  ...                72544.0\n",
            "52413  2016-12-31 21:00:00  ...                69451.0\n",
            "52414  2016-12-31 22:00:00  ...                67823.0\n",
            "52415  2016-12-31 23:00:00  ...                72876.0\n",
            "\n",
            "[52416 rows x 4 columns]\n"
          ]
        }
      ],
      "source": [
        "# load and summarize the housing dataset\n",
        "from pandas import read_csv\n",
        "from matplotlib import pyplot\n",
        "# load dataset\n",
        "data = read_csv('/content/BE.csv')\n",
        "print(data)\n"
      ]
    },
    {
      "cell_type": "code",
      "source": [
        "from sklearn import linear_model\n",
        "from sklearn.linear_model import Lasso\n",
        "from sklearn.preprocessing import MinMaxScaler, RobustScaler \n",
        "from sklearn.model_selection import train_test_split"
      ],
      "metadata": {
        "id": "Av76-e74uL1p"
      },
      "execution_count": 287,
      "outputs": []
    },
    {
      "cell_type": "code",
      "source": [
        "!pip install sklearn"
      ],
      "metadata": {
        "colab": {
          "base_uri": "https://localhost:8080/"
        },
        "id": "OafIe0znG2D5",
        "outputId": "b7c85c9a-173a-418b-986d-4934db662919"
      },
      "execution_count": 288,
      "outputs": [
        {
          "output_type": "stream",
          "name": "stdout",
          "text": [
            "Requirement already satisfied: sklearn in /usr/local/lib/python3.7/dist-packages (0.0)\n",
            "Requirement already satisfied: scikit-learn in /usr/local/lib/python3.7/dist-packages (from sklearn) (1.0.2)\n",
            "Requirement already satisfied: threadpoolctl>=2.0.0 in /usr/local/lib/python3.7/dist-packages (from scikit-learn->sklearn) (3.1.0)\n",
            "Requirement already satisfied: joblib>=0.11 in /usr/local/lib/python3.7/dist-packages (from scikit-learn->sklearn) (1.1.0)\n",
            "Requirement already satisfied: numpy>=1.14.6 in /usr/local/lib/python3.7/dist-packages (from scikit-learn->sklearn) (1.19.5)\n",
            "Requirement already satisfied: scipy>=1.1.0 in /usr/local/lib/python3.7/dist-packages (from scikit-learn->sklearn) (1.4.1)\n"
          ]
        }
      ]
    },
    {
      "cell_type": "code",
      "source": [
        "...\n",
        "# define model\n",
        "model = Lasso(alpha=1.0)"
      ],
      "metadata": {
        "id": "voNOW3dVGULV"
      },
      "execution_count": 289,
      "outputs": []
    },
    {
      "cell_type": "code",
      "source": [
        "# Define Features X and exogenious y\n",
        "X = data.iloc[:, 2:4]\n",
        "y= data.iloc[:, 1]\n",
        "print(X)\n",
        "print(y)"
      ],
      "metadata": {
        "id": "Q3IqTuCXa9VN",
        "colab": {
          "base_uri": "https://localhost:8080/"
        },
        "outputId": "bd2418ca-dcc1-4ccb-b25e-5bd110f35a04"
      },
      "execution_count": 290,
      "outputs": [
        {
          "output_type": "stream",
          "name": "stdout",
          "text": [
            "        Generation forecast   System load forecast\n",
            "0                   63065.0                63000.0\n",
            "1                   62715.0                58800.0\n",
            "2                   61952.0                58500.0\n",
            "3                   59262.0                54300.0\n",
            "4                   56883.0                51900.0\n",
            "...                     ...                    ...\n",
            "52411               70329.0                73957.0\n",
            "52412               69121.0                72544.0\n",
            "52413               66647.0                69451.0\n",
            "52414               65886.0                67823.0\n",
            "52415               66846.0                72876.0\n",
            "\n",
            "[52416 rows x 2 columns]\n",
            "0        32.54\n",
            "1        21.55\n",
            "2        15.71\n",
            "3        10.58\n",
            "4        10.32\n",
            "         ...  \n",
            "52411    40.84\n",
            "52412    40.10\n",
            "52413    36.00\n",
            "52414    35.00\n",
            "52415    34.94\n",
            "Name:  Prices, Length: 52416, dtype: float64\n"
          ]
        }
      ]
    },
    {
      "cell_type": "code",
      "source": [
        "# Train and Test datasets\n",
        "\n",
        "X_train = X[:-17472]; X_test = X[-17472:]\n",
        "y_train = y[:-17472]; y_test = y[-17472:]\n",
        "print(X_train)\n",
        "print(X_test)\n",
        "print(y_train)\n",
        "print(y_test)\n"
      ],
      "metadata": {
        "id": "VnMiiFwhc47E"
      },
      "execution_count": null,
      "outputs": []
    },
    {
      "cell_type": "markdown",
      "source": [
        "# Scaling data **in case we don't use the decomposition data** since the decomposition cose inclide the scaling cade( see EEMD)"
      ],
      "metadata": {
        "id": "E7e99pAA2HjU"
      }
    },
    {
      "cell_type": "code",
      "source": [
        "\n",
        "import numpy as np\n",
        "import matplotlib.pyplot as plt\n",
        "import pandas as pd\n"
      ],
      "metadata": {
        "id": "V9ePBHrAysJ2"
      },
      "execution_count": 292,
      "outputs": []
    },
    {
      "cell_type": "code",
      "source": [
        "#Scaling data\n",
        "#Scaling X_train\n",
        "import numpy as np\n",
        "import pandas as pd\n",
        "import csv\n",
        "scaler = MinMaxScaler(feature_range = (-1,1)) \n",
        "X_train = pd.DataFrame(X_train)\n",
        "X_train[X_train.columns] = scaler.fit_transform(X_train[X_train.columns].values.reshape(-1,2))\n",
        "X_train  = pd.DataFrame(X_train)\n",
        "X_train.to_csv(\"X_train.csv\", header=False, quoting=csv.QUOTE_NONE, escapechar=' ')\n",
        "print(X_train)\n",
        "#Scaling X_test\n",
        "X_test = pd.DataFrame(X_test)\n",
        "X_test[X_test.columns] = scaler.fit_transform(X_test[X_test.columns].values.reshape(-1,2))\n",
        "X_test  = pd.DataFrame(X_test)\n",
        "X_test.to_csv(\"X_test.csv\", header=False, quoting=csv.QUOTE_NONE, escapechar=' ')\n",
        "print(X_test)\n",
        "#Scaling y_train\n",
        "y_train = pd.DataFrame(y_train)\n",
        "y_train = scaler.fit_transform(y_train.values.reshape(-1,1))\n",
        "y_train  = pd.DataFrame(y_train)\n",
        "y_train.to_csv(\"y_train.csv\", header=False, quoting=csv.QUOTE_NONE, escapechar=' ')\n",
        "print(y_train)\n",
        "#Scaling y_test\n",
        "y_test = pd.DataFrame(y_test)\n",
        "y_test = scaler.fit_transform(y_test.values.reshape(-1,1))\n",
        "y_test  = pd.DataFrame(y_test)\n",
        "y_test.to_csv(\"y_test.csv\", header=False, quoting=csv.QUOTE_NONE, escapechar=' ')\n",
        "print(y_test)"
      ],
      "metadata": {
        "colab": {
          "base_uri": "https://localhost:8080/"
        },
        "id": "RzN9v-5h3NQt",
        "outputId": "d398911e-dc6e-4066-dd2f-fa7f0e193696"
      },
      "execution_count": 295,
      "outputs": [
        {
          "output_type": "stream",
          "name": "stdout",
          "text": [
            "        Generation forecast   System load forecast\n",
            "0                 -0.024699              -0.036517\n",
            "1                 -0.036476              -0.154494\n",
            "2                 -0.062151              -0.162921\n",
            "3                 -0.152668              -0.280899\n",
            "4                 -0.232721              -0.348315\n",
            "...                     ...                    ...\n",
            "34939              0.461303               0.124691\n",
            "34940              0.393936               0.068371\n",
            "34941              0.305673               0.006039\n",
            "34942              0.307120              -0.049045\n",
            "34943              0.311966               0.085449\n",
            "\n",
            "[34944 rows x 2 columns]\n",
            "        Generation forecast   System load forecast\n",
            "34944              0.196176               0.179012\n",
            "34945              0.109443               0.018254\n",
            "34946              0.086817               0.014970\n",
            "34947             -0.019339              -0.108792\n",
            "34948             -0.063390              -0.197705\n",
            "...                     ...                    ...\n",
            "52411              0.240627               0.437168\n",
            "52412              0.200314               0.391232\n",
            "52413              0.117752               0.290681\n",
            "52414              0.092356               0.237756\n",
            "52415              0.124393               0.402025\n",
            "\n",
            "[17472 rows x 2 columns]\n",
            "              0\n",
            "0     -0.854617\n",
            "1     -0.861488\n",
            "2     -0.865139\n",
            "3     -0.868346\n",
            "4     -0.868509\n",
            "...         ...\n",
            "34939 -0.845189\n",
            "34940 -0.847584\n",
            "34941 -0.848428\n",
            "34942 -0.848684\n",
            "34943 -0.849384\n",
            "\n",
            "[34944 rows x 1 columns]\n",
            "              0\n",
            "0     -0.882286\n",
            "1     -0.893641\n",
            "2     -0.906907\n",
            "3     -0.908619\n",
            "4     -0.908590\n",
            "...         ...\n",
            "17467 -0.869219\n",
            "17468 -0.871330\n",
            "17469 -0.883028\n",
            "17470 -0.885881\n",
            "17471 -0.886052\n",
            "\n",
            "[17472 rows x 1 columns]\n"
          ]
        }
      ]
    },
    {
      "cell_type": "code",
      "source": [
        "import os\n",
        "import pandas\n",
        "import numpy as np\n",
        "def MAPE(Y_actual,Y_Predicted):\n",
        "    mape = np.mean(np.abs((Y_actual - Y_Predicted)/Y_actual))*100\n",
        "    return mape\n",
        "from sklearn.linear_model import Lasso\n",
        "lasso_model = Lasso(alpha=1.0)\n",
        "lasso=lasso_model.fit(X_train , y_train)\n",
        "\n",
        "lasso_predict = lasso.predict(X_test)\n",
        "# Reshap only if we use the scaler code \n",
        "lasso_predict=lasso_predict.reshape(-1,1)\n",
        "#######\n",
        "Lasso_MAPE = MAPE(y_test,lasso_predict) \n",
        "print(\"MAPE value: \",Lasso_MAPE)\n",
        "Accuracy = 100 - Lasso_MAPE\n",
        "print(\"Accuracy of Lasso Regression: \",Accuracy)\n",
        "#print('Accuracy of Lasso Regression: {:0.2f}%.'.format(Accuracy))\n"
      ],
      "metadata": {
        "colab": {
          "base_uri": "https://localhost:8080/"
        },
        "id": "mDsWxqRFowmI",
        "outputId": "405e59bc-b560-453a-87d0-4ce3169e78cc"
      },
      "execution_count": 324,
      "outputs": [
        {
          "output_type": "stream",
          "name": "stdout",
          "text": [
            "MAPE value:  0    6.533428\n",
            "dtype: float64\n",
            "Accuracy of Lasso Regression:  0    93.466572\n",
            "dtype: float64\n"
          ]
        }
      ]
    },
    {
      "cell_type": "code",
      "source": [
        "import pandas as pd\n",
        "from pandas import read_csv\n",
        "import csv\n",
        "#save decomposed data\n",
        "\n",
        "lasso_predict  = pd.DataFrame(lasso_predict )\n",
        "\n",
        "lasso_predict.to_csv(\"lasso_predict.csv\", header=False, quoting=csv.QUOTE_NONE, escapechar=' ')\n",
        "\n",
        "print(lasso_predict )"
      ],
      "metadata": {
        "id": "RsXA1Fg2p4bK"
      },
      "execution_count": null,
      "outputs": []
    },
    {
      "cell_type": "code",
      "source": [
        "#Plot Prediction and Actual series\n",
        "\n",
        "fig, ax = plt.subplots(figsize = (28,9))\n",
        "ax.set_xlabel('Date', fontsize=20)\n",
        "ax.set_ylabel('Euro/mWh', fontsize=20)\n",
        "ax.plot(y_test, label = 'actual', color = 'r')\n",
        "ax.plot(lasso_predict, label = 'prediction', color = 'g')\n",
        "ax.tick_params(axis='y', labelsize = 20)\n",
        "ax.legend(prop={'size': 20})"
      ],
      "metadata": {
        "id": "JMTdB304IsY8"
      },
      "execution_count": null,
      "outputs": []
    }
  ]
}