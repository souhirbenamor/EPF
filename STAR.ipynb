{
  "nbformat": 4,
  "nbformat_minor": 0,
  "metadata": {
    "colab": {
      "provenance": [],
      "authorship_tag": "ABX9TyN2Ytf0Yt2QVqshzjdiIv4H",
      "include_colab_link": true
    },
    "kernelspec": {
      "name": "python3",
      "display_name": "Python 3"
    },
    "language_info": {
      "name": "python"
    }
  },
  "cells": [
    {
      "cell_type": "markdown",
      "metadata": {
        "id": "view-in-github",
        "colab_type": "text"
      },
      "source": [
        "<a href=\"https://colab.research.google.com/github/souhirbenamor/EPF/blob/main/STAR.ipynb\" target=\"_parent\"><img src=\"https://colab.research.google.com/assets/colab-badge.svg\" alt=\"Open In Colab\"/></a>"
      ]
    },
    {
      "cell_type": "code",
      "source": [
        "import numpy as np\n",
        "import datetime as dt\n",
        "import pandas as pd\n",
        "import importlib\n",
        "import matplotlib.pyplot as plt"
      ],
      "metadata": {
        "id": "0mDs0Se_p2vt"
      },
      "execution_count": 1,
      "outputs": []
    },
    {
      "cell_type": "code",
      "execution_count": 2,
      "metadata": {
        "colab": {
          "base_uri": "https://localhost:8080/",
          "height": 231
        },
        "id": "GMKJtZiCnEhJ",
        "outputId": "8bffc5ff-57b6-4f34-fdf1-ee7d9cb7a642"
      },
      "outputs": [
        {
          "output_type": "execute_result",
          "data": {
            "text/plain": [
              "                         Generation without Renewbles     Emission  \\\n",
              "Date                                                                 \n",
              "2019-12-31 18:59:59.982                  39770.082481  9108.529801   \n",
              "2019-12-31 19:59:59.982                  37786.380986  8674.740229   \n",
              "2019-12-31 20:59:59.982                  37386.850362  7923.937366   \n",
              "2019-12-31 21:59:59.982                  34511.549048  7470.995505   \n",
              "2019-12-31 22:59:59.982                  31848.634781  7470.995505   \n",
              "\n",
              "                         Electricity price   \n",
              "Date                                         \n",
              "2019-12-31 18:59:59.982           41.866862  \n",
              "2019-12-31 19:59:59.982           40.663287  \n",
              "2019-12-31 20:59:59.982           40.663287  \n",
              "2019-12-31 21:59:59.982           40.663287  \n",
              "2019-12-31 22:59:59.982           38.162235  "
            ],
            "text/html": [
              "\n",
              "  <div id=\"df-a93a6219-5911-43fe-90f7-596b683db49f\">\n",
              "    <div class=\"colab-df-container\">\n",
              "      <div>\n",
              "<style scoped>\n",
              "    .dataframe tbody tr th:only-of-type {\n",
              "        vertical-align: middle;\n",
              "    }\n",
              "\n",
              "    .dataframe tbody tr th {\n",
              "        vertical-align: top;\n",
              "    }\n",
              "\n",
              "    .dataframe thead th {\n",
              "        text-align: right;\n",
              "    }\n",
              "</style>\n",
              "<table border=\"1\" class=\"dataframe\">\n",
              "  <thead>\n",
              "    <tr style=\"text-align: right;\">\n",
              "      <th></th>\n",
              "      <th>Generation without Renewbles</th>\n",
              "      <th>Emission</th>\n",
              "      <th>Electricity price</th>\n",
              "    </tr>\n",
              "    <tr>\n",
              "      <th>Date</th>\n",
              "      <th></th>\n",
              "      <th></th>\n",
              "      <th></th>\n",
              "    </tr>\n",
              "  </thead>\n",
              "  <tbody>\n",
              "    <tr>\n",
              "      <th>2019-12-31 18:59:59.982</th>\n",
              "      <td>39770.082481</td>\n",
              "      <td>9108.529801</td>\n",
              "      <td>41.866862</td>\n",
              "    </tr>\n",
              "    <tr>\n",
              "      <th>2019-12-31 19:59:59.982</th>\n",
              "      <td>37786.380986</td>\n",
              "      <td>8674.740229</td>\n",
              "      <td>40.663287</td>\n",
              "    </tr>\n",
              "    <tr>\n",
              "      <th>2019-12-31 20:59:59.982</th>\n",
              "      <td>37386.850362</td>\n",
              "      <td>7923.937366</td>\n",
              "      <td>40.663287</td>\n",
              "    </tr>\n",
              "    <tr>\n",
              "      <th>2019-12-31 21:59:59.982</th>\n",
              "      <td>34511.549048</td>\n",
              "      <td>7470.995505</td>\n",
              "      <td>40.663287</td>\n",
              "    </tr>\n",
              "    <tr>\n",
              "      <th>2019-12-31 22:59:59.982</th>\n",
              "      <td>31848.634781</td>\n",
              "      <td>7470.995505</td>\n",
              "      <td>38.162235</td>\n",
              "    </tr>\n",
              "  </tbody>\n",
              "</table>\n",
              "</div>\n",
              "      <button class=\"colab-df-convert\" onclick=\"convertToInteractive('df-a93a6219-5911-43fe-90f7-596b683db49f')\"\n",
              "              title=\"Convert this dataframe to an interactive table.\"\n",
              "              style=\"display:none;\">\n",
              "        \n",
              "  <svg xmlns=\"http://www.w3.org/2000/svg\" height=\"24px\"viewBox=\"0 0 24 24\"\n",
              "       width=\"24px\">\n",
              "    <path d=\"M0 0h24v24H0V0z\" fill=\"none\"/>\n",
              "    <path d=\"M18.56 5.44l.94 2.06.94-2.06 2.06-.94-2.06-.94-.94-2.06-.94 2.06-2.06.94zm-11 1L8.5 8.5l.94-2.06 2.06-.94-2.06-.94L8.5 2.5l-.94 2.06-2.06.94zm10 10l.94 2.06.94-2.06 2.06-.94-2.06-.94-.94-2.06-.94 2.06-2.06.94z\"/><path d=\"M17.41 7.96l-1.37-1.37c-.4-.4-.92-.59-1.43-.59-.52 0-1.04.2-1.43.59L10.3 9.45l-7.72 7.72c-.78.78-.78 2.05 0 2.83L4 21.41c.39.39.9.59 1.41.59.51 0 1.02-.2 1.41-.59l7.78-7.78 2.81-2.81c.8-.78.8-2.07 0-2.86zM5.41 20L4 18.59l7.72-7.72 1.47 1.35L5.41 20z\"/>\n",
              "  </svg>\n",
              "      </button>\n",
              "      \n",
              "  <style>\n",
              "    .colab-df-container {\n",
              "      display:flex;\n",
              "      flex-wrap:wrap;\n",
              "      gap: 12px;\n",
              "    }\n",
              "\n",
              "    .colab-df-convert {\n",
              "      background-color: #E8F0FE;\n",
              "      border: none;\n",
              "      border-radius: 50%;\n",
              "      cursor: pointer;\n",
              "      display: none;\n",
              "      fill: #1967D2;\n",
              "      height: 32px;\n",
              "      padding: 0 0 0 0;\n",
              "      width: 32px;\n",
              "    }\n",
              "\n",
              "    .colab-df-convert:hover {\n",
              "      background-color: #E2EBFA;\n",
              "      box-shadow: 0px 1px 2px rgba(60, 64, 67, 0.3), 0px 1px 3px 1px rgba(60, 64, 67, 0.15);\n",
              "      fill: #174EA6;\n",
              "    }\n",
              "\n",
              "    [theme=dark] .colab-df-convert {\n",
              "      background-color: #3B4455;\n",
              "      fill: #D2E3FC;\n",
              "    }\n",
              "\n",
              "    [theme=dark] .colab-df-convert:hover {\n",
              "      background-color: #434B5C;\n",
              "      box-shadow: 0px 1px 3px 1px rgba(0, 0, 0, 0.15);\n",
              "      filter: drop-shadow(0px 1px 2px rgba(0, 0, 0, 0.3));\n",
              "      fill: #FFFFFF;\n",
              "    }\n",
              "  </style>\n",
              "\n",
              "      <script>\n",
              "        const buttonEl =\n",
              "          document.querySelector('#df-a93a6219-5911-43fe-90f7-596b683db49f button.colab-df-convert');\n",
              "        buttonEl.style.display =\n",
              "          google.colab.kernel.accessAllowed ? 'block' : 'none';\n",
              "\n",
              "        async function convertToInteractive(key) {\n",
              "          const element = document.querySelector('#df-a93a6219-5911-43fe-90f7-596b683db49f');\n",
              "          const dataTable =\n",
              "            await google.colab.kernel.invokeFunction('convertToInteractive',\n",
              "                                                     [key], {});\n",
              "          if (!dataTable) return;\n",
              "\n",
              "          const docLinkHtml = 'Like what you see? Visit the ' +\n",
              "            '<a target=\"_blank\" href=https://colab.research.google.com/notebooks/data_table.ipynb>data table notebook</a>'\n",
              "            + ' to learn more about interactive tables.';\n",
              "          element.innerHTML = '';\n",
              "          dataTable['output_type'] = 'display_data';\n",
              "          await google.colab.output.renderOutput(dataTable, element);\n",
              "          const docLink = document.createElement('div');\n",
              "          docLink.innerHTML = docLinkHtml;\n",
              "          element.appendChild(docLink);\n",
              "        }\n",
              "      </script>\n",
              "    </div>\n",
              "  </div>\n",
              "  "
            ]
          },
          "metadata": {},
          "execution_count": 2
        }
      ],
      "source": [
        "data = pd.read_excel('/content/MEF-DATA.xlsx')\n",
        "data.drop(data.loc[data['Date'].duplicated()].index, inplace = True)\n",
        "#df['datetime'] = pd.to_datetime(df['Date'])\n",
        "\n",
        "# df = df.sort_values(df['datetime'], ascending=[True])\n",
        "\n",
        "data.set_index(data['Date'], inplace = True)\n",
        "data.drop(columns = ['Date'], inplace = True)\n",
        "data.tail()"
      ]
    },
    {
      "cell_type": "markdown",
      "source": [
        " there are several Python packages that you can use to estimate time-varying smooth transition regression (TV-STR) models. Here are three popular ones:\n",
        "\n",
        "statsmodels: This is a Python package that provides a wide range of statistical models, including TV-STR models. You can use the markov_regression function in the statsmodels.tsa.regime_switching module to estimate TV-STR models. Here's an example:"
      ],
      "metadata": {
        "id": "cI3ZKtU0fek5"
      }
    },
    {
      "cell_type": "code",
      "source": [
        " #take first diff time series\n",
        "ret = data-data.shift()[1:]\n",
        "#eliminate this if not first diff time series\n",
        "ret = ret[1:]\n",
        "print(ret)"
      ],
      "metadata": {
        "colab": {
          "base_uri": "https://localhost:8080/"
        },
        "id": "z48FhyePzsUM",
        "outputId": "14d405b2-5f05-4793-cfd8-3e26a1475505"
      },
      "execution_count": 3,
      "outputs": [
        {
          "output_type": "stream",
          "name": "stdout",
          "text": [
            "                         Generation without Renewbles     Emission  \\\n",
            "Date                                                                 \n",
            "2019-01-01 00:59:59.983                  -1045.247696    19.616814   \n",
            "2019-01-01 01:59:59.983                    250.171245   118.240055   \n",
            "2019-01-01 02:59:59.983                  -1223.486013   306.957799   \n",
            "2019-01-01 03:59:59.983                    -28.220236  1284.841991   \n",
            "2019-01-01 04:59:59.983                   2019.905311  1455.265215   \n",
            "...                                               ...          ...   \n",
            "2019-12-31 18:59:59.982                   -544.773296  -570.296398   \n",
            "2019-12-31 19:59:59.982                  -1983.701495  -433.789573   \n",
            "2019-12-31 20:59:59.982                   -399.530624  -750.802862   \n",
            "2019-12-31 21:59:59.982                  -2875.301315  -452.941861   \n",
            "2019-12-31 22:59:59.982                  -2662.914267     0.000000   \n",
            "\n",
            "                         Electricity price   \n",
            "Date                                         \n",
            "2019-01-01 00:59:59.983           -0.588909  \n",
            "2019-01-01 01:59:59.983           -0.739308  \n",
            "2019-01-01 02:59:59.983            0.000000  \n",
            "2019-01-01 03:59:59.983            0.000000  \n",
            "2019-01-01 04:59:59.983          -33.762692  \n",
            "...                                     ...  \n",
            "2019-12-31 18:59:59.982           -3.572581  \n",
            "2019-12-31 19:59:59.982           -1.203575  \n",
            "2019-12-31 20:59:59.982            0.000000  \n",
            "2019-12-31 21:59:59.982            0.000000  \n",
            "2019-12-31 22:59:59.982           -2.501053  \n",
            "\n",
            "[8759 rows x 3 columns]\n"
          ]
        }
      ]
    },
    {
      "cell_type": "code",
      "source": [
        "ret.iloc[:,0]"
      ],
      "metadata": {
        "colab": {
          "base_uri": "https://localhost:8080/"
        },
        "id": "Afvnvwcaogvf",
        "outputId": "573b9058-0336-4a73-f959-99ad3878f68a"
      },
      "execution_count": null,
      "outputs": [
        {
          "output_type": "execute_result",
          "data": {
            "text/plain": [
              "Date\n",
              "2019-01-01 00:59:59.983   -1045.247696\n",
              "2019-01-01 01:59:59.983     250.171245\n",
              "2019-01-01 02:59:59.983   -1223.486013\n",
              "2019-01-01 03:59:59.983     -28.220236\n",
              "2019-01-01 04:59:59.983    2019.905311\n",
              "                              ...     \n",
              "2019-12-31 18:59:59.982    -544.773296\n",
              "2019-12-31 19:59:59.982   -1983.701495\n",
              "2019-12-31 20:59:59.982    -399.530624\n",
              "2019-12-31 21:59:59.982   -2875.301315\n",
              "2019-12-31 22:59:59.982   -2662.914267\n",
              "Name: Generation without Renewbles, Length: 8759, dtype: float64"
            ]
          },
          "metadata": {},
          "execution_count": 112
        }
      ]
    },
    {
      "cell_type": "code",
      "source": [
        "ret"
      ],
      "metadata": {
        "colab": {
          "base_uri": "https://localhost:8080/",
          "height": 442
        },
        "id": "Am6gueZm3YU8",
        "outputId": "96166974-468b-458b-c6f0-7eaf030dd8ca"
      },
      "execution_count": null,
      "outputs": [
        {
          "output_type": "execute_result",
          "data": {
            "text/plain": [
              "                         Generation without Renewbles     Emission  \\\n",
              "Date                                                                 \n",
              "2019-01-01 00:59:59.983                  -1045.247696    19.616814   \n",
              "2019-01-01 01:59:59.983                    250.171245   118.240055   \n",
              "2019-01-01 02:59:59.983                  -1223.486013   306.957799   \n",
              "2019-01-01 03:59:59.983                    -28.220236  1284.841991   \n",
              "2019-01-01 04:59:59.983                   2019.905311  1455.265215   \n",
              "...                                               ...          ...   \n",
              "2019-12-31 18:59:59.982                   -544.773296  -570.296398   \n",
              "2019-12-31 19:59:59.982                  -1983.701495  -433.789573   \n",
              "2019-12-31 20:59:59.982                   -399.530624  -750.802862   \n",
              "2019-12-31 21:59:59.982                  -2875.301315  -452.941861   \n",
              "2019-12-31 22:59:59.982                  -2662.914267     0.000000   \n",
              "\n",
              "                         Electricity price   \n",
              "Date                                         \n",
              "2019-01-01 00:59:59.983           -0.588909  \n",
              "2019-01-01 01:59:59.983           -0.739308  \n",
              "2019-01-01 02:59:59.983            0.000000  \n",
              "2019-01-01 03:59:59.983            0.000000  \n",
              "2019-01-01 04:59:59.983          -33.762692  \n",
              "...                                     ...  \n",
              "2019-12-31 18:59:59.982           -3.572581  \n",
              "2019-12-31 19:59:59.982           -1.203575  \n",
              "2019-12-31 20:59:59.982            0.000000  \n",
              "2019-12-31 21:59:59.982            0.000000  \n",
              "2019-12-31 22:59:59.982           -2.501053  \n",
              "\n",
              "[8759 rows x 3 columns]"
            ],
            "text/html": [
              "\n",
              "  <div id=\"df-228d99a2-399f-4b88-b096-d20a9162fda3\">\n",
              "    <div class=\"colab-df-container\">\n",
              "      <div>\n",
              "<style scoped>\n",
              "    .dataframe tbody tr th:only-of-type {\n",
              "        vertical-align: middle;\n",
              "    }\n",
              "\n",
              "    .dataframe tbody tr th {\n",
              "        vertical-align: top;\n",
              "    }\n",
              "\n",
              "    .dataframe thead th {\n",
              "        text-align: right;\n",
              "    }\n",
              "</style>\n",
              "<table border=\"1\" class=\"dataframe\">\n",
              "  <thead>\n",
              "    <tr style=\"text-align: right;\">\n",
              "      <th></th>\n",
              "      <th>Generation without Renewbles</th>\n",
              "      <th>Emission</th>\n",
              "      <th>Electricity price</th>\n",
              "    </tr>\n",
              "    <tr>\n",
              "      <th>Date</th>\n",
              "      <th></th>\n",
              "      <th></th>\n",
              "      <th></th>\n",
              "    </tr>\n",
              "  </thead>\n",
              "  <tbody>\n",
              "    <tr>\n",
              "      <th>2019-01-01 00:59:59.983</th>\n",
              "      <td>-1045.247696</td>\n",
              "      <td>19.616814</td>\n",
              "      <td>-0.588909</td>\n",
              "    </tr>\n",
              "    <tr>\n",
              "      <th>2019-01-01 01:59:59.983</th>\n",
              "      <td>250.171245</td>\n",
              "      <td>118.240055</td>\n",
              "      <td>-0.739308</td>\n",
              "    </tr>\n",
              "    <tr>\n",
              "      <th>2019-01-01 02:59:59.983</th>\n",
              "      <td>-1223.486013</td>\n",
              "      <td>306.957799</td>\n",
              "      <td>0.000000</td>\n",
              "    </tr>\n",
              "    <tr>\n",
              "      <th>2019-01-01 03:59:59.983</th>\n",
              "      <td>-28.220236</td>\n",
              "      <td>1284.841991</td>\n",
              "      <td>0.000000</td>\n",
              "    </tr>\n",
              "    <tr>\n",
              "      <th>2019-01-01 04:59:59.983</th>\n",
              "      <td>2019.905311</td>\n",
              "      <td>1455.265215</td>\n",
              "      <td>-33.762692</td>\n",
              "    </tr>\n",
              "    <tr>\n",
              "      <th>...</th>\n",
              "      <td>...</td>\n",
              "      <td>...</td>\n",
              "      <td>...</td>\n",
              "    </tr>\n",
              "    <tr>\n",
              "      <th>2019-12-31 18:59:59.982</th>\n",
              "      <td>-544.773296</td>\n",
              "      <td>-570.296398</td>\n",
              "      <td>-3.572581</td>\n",
              "    </tr>\n",
              "    <tr>\n",
              "      <th>2019-12-31 19:59:59.982</th>\n",
              "      <td>-1983.701495</td>\n",
              "      <td>-433.789573</td>\n",
              "      <td>-1.203575</td>\n",
              "    </tr>\n",
              "    <tr>\n",
              "      <th>2019-12-31 20:59:59.982</th>\n",
              "      <td>-399.530624</td>\n",
              "      <td>-750.802862</td>\n",
              "      <td>0.000000</td>\n",
              "    </tr>\n",
              "    <tr>\n",
              "      <th>2019-12-31 21:59:59.982</th>\n",
              "      <td>-2875.301315</td>\n",
              "      <td>-452.941861</td>\n",
              "      <td>0.000000</td>\n",
              "    </tr>\n",
              "    <tr>\n",
              "      <th>2019-12-31 22:59:59.982</th>\n",
              "      <td>-2662.914267</td>\n",
              "      <td>0.000000</td>\n",
              "      <td>-2.501053</td>\n",
              "    </tr>\n",
              "  </tbody>\n",
              "</table>\n",
              "<p>8759 rows × 3 columns</p>\n",
              "</div>\n",
              "      <button class=\"colab-df-convert\" onclick=\"convertToInteractive('df-228d99a2-399f-4b88-b096-d20a9162fda3')\"\n",
              "              title=\"Convert this dataframe to an interactive table.\"\n",
              "              style=\"display:none;\">\n",
              "        \n",
              "  <svg xmlns=\"http://www.w3.org/2000/svg\" height=\"24px\"viewBox=\"0 0 24 24\"\n",
              "       width=\"24px\">\n",
              "    <path d=\"M0 0h24v24H0V0z\" fill=\"none\"/>\n",
              "    <path d=\"M18.56 5.44l.94 2.06.94-2.06 2.06-.94-2.06-.94-.94-2.06-.94 2.06-2.06.94zm-11 1L8.5 8.5l.94-2.06 2.06-.94-2.06-.94L8.5 2.5l-.94 2.06-2.06.94zm10 10l.94 2.06.94-2.06 2.06-.94-2.06-.94-.94-2.06-.94 2.06-2.06.94z\"/><path d=\"M17.41 7.96l-1.37-1.37c-.4-.4-.92-.59-1.43-.59-.52 0-1.04.2-1.43.59L10.3 9.45l-7.72 7.72c-.78.78-.78 2.05 0 2.83L4 21.41c.39.39.9.59 1.41.59.51 0 1.02-.2 1.41-.59l7.78-7.78 2.81-2.81c.8-.78.8-2.07 0-2.86zM5.41 20L4 18.59l7.72-7.72 1.47 1.35L5.41 20z\"/>\n",
              "  </svg>\n",
              "      </button>\n",
              "      \n",
              "  <style>\n",
              "    .colab-df-container {\n",
              "      display:flex;\n",
              "      flex-wrap:wrap;\n",
              "      gap: 12px;\n",
              "    }\n",
              "\n",
              "    .colab-df-convert {\n",
              "      background-color: #E8F0FE;\n",
              "      border: none;\n",
              "      border-radius: 50%;\n",
              "      cursor: pointer;\n",
              "      display: none;\n",
              "      fill: #1967D2;\n",
              "      height: 32px;\n",
              "      padding: 0 0 0 0;\n",
              "      width: 32px;\n",
              "    }\n",
              "\n",
              "    .colab-df-convert:hover {\n",
              "      background-color: #E2EBFA;\n",
              "      box-shadow: 0px 1px 2px rgba(60, 64, 67, 0.3), 0px 1px 3px 1px rgba(60, 64, 67, 0.15);\n",
              "      fill: #174EA6;\n",
              "    }\n",
              "\n",
              "    [theme=dark] .colab-df-convert {\n",
              "      background-color: #3B4455;\n",
              "      fill: #D2E3FC;\n",
              "    }\n",
              "\n",
              "    [theme=dark] .colab-df-convert:hover {\n",
              "      background-color: #434B5C;\n",
              "      box-shadow: 0px 1px 3px 1px rgba(0, 0, 0, 0.15);\n",
              "      filter: drop-shadow(0px 1px 2px rgba(0, 0, 0, 0.3));\n",
              "      fill: #FFFFFF;\n",
              "    }\n",
              "  </style>\n",
              "\n",
              "      <script>\n",
              "        const buttonEl =\n",
              "          document.querySelector('#df-228d99a2-399f-4b88-b096-d20a9162fda3 button.colab-df-convert');\n",
              "        buttonEl.style.display =\n",
              "          google.colab.kernel.accessAllowed ? 'block' : 'none';\n",
              "\n",
              "        async function convertToInteractive(key) {\n",
              "          const element = document.querySelector('#df-228d99a2-399f-4b88-b096-d20a9162fda3');\n",
              "          const dataTable =\n",
              "            await google.colab.kernel.invokeFunction('convertToInteractive',\n",
              "                                                     [key], {});\n",
              "          if (!dataTable) return;\n",
              "\n",
              "          const docLinkHtml = 'Like what you see? Visit the ' +\n",
              "            '<a target=\"_blank\" href=https://colab.research.google.com/notebooks/data_table.ipynb>data table notebook</a>'\n",
              "            + ' to learn more about interactive tables.';\n",
              "          element.innerHTML = '';\n",
              "          dataTable['output_type'] = 'display_data';\n",
              "          await google.colab.output.renderOutput(dataTable, element);\n",
              "          const docLink = document.createElement('div');\n",
              "          docLink.innerHTML = docLinkHtml;\n",
              "          element.appendChild(docLink);\n",
              "        }\n",
              "      </script>\n",
              "    </div>\n",
              "  </div>\n",
              "  "
            ]
          },
          "metadata": {},
          "execution_count": 16
        }
      ]
    },
    {
      "cell_type": "code",
      "source": [
        "import pandas as pd\n",
        "import numpy as np\n",
        "import statsmodels.api as sm\n",
        "\n",
        "# Load the data and remove missing values\n",
        "ret = ret.dropna()\n",
        "y = ret['Generation without Renewbles']\n",
        "x1 = ret['Emission']\n",
        "x2 = ret['Electricity price ']\n",
        "\n",
        "# Estimate a TV-STR model and let the number of regimes be determined automatically\n",
        "exog = np.column_stack((x1, x2))\n",
        "model = sm.tsa.MarkovRegression(y, k_regimes=2, exog=exog)\n",
        "result = model.fit(method='ncg', maxiter=10000, ftol=1e-6)\n",
        "print(result.summary())\n"
      ],
      "metadata": {
        "colab": {
          "base_uri": "https://localhost:8080/"
        },
        "id": "eLHN63-F3HKI",
        "outputId": "d6aecd09-f831-4901-f70a-c556131b1414"
      },
      "execution_count": null,
      "outputs": [
        {
          "output_type": "stream",
          "name": "stderr",
          "text": [
            "/usr/local/lib/python3.8/dist-packages/statsmodels/tsa/base/tsa_model.py:581: ValueWarning: A date index has been provided, but it has no associated frequency information and so will be ignored when e.g. forecasting.\n",
            "  warnings.warn('A date index has been provided, but it has no'\n",
            "/usr/local/lib/python3.8/dist-packages/numpy/core/fromnumeric.py:86: RuntimeWarning: invalid value encountered in reduce\n",
            "  return ufunc.reduce(obj, axis, dtype, out, **passkwargs)\n",
            "/usr/local/lib/python3.8/dist-packages/statsmodels/base/model.py:566: ConvergenceWarning: Maximum Likelihood optimization failed to converge. Check mle_retvals\n",
            "  warnings.warn(\"Maximum Likelihood optimization failed to \"\n"
          ]
        },
        {
          "output_type": "stream",
          "name": "stdout",
          "text": [
            "                             Markov Switching Model Results                             \n",
            "========================================================================================\n",
            "Dep. Variable:     Generation without Renewbles   No. Observations:                 8759\n",
            "Model:                         MarkovRegression   Log Likelihood              -76069.900\n",
            "Date:                          Mon, 20 Feb 2023   AIC                         152157.800\n",
            "Time:                                  08:54:33   BIC                         152221.500\n",
            "Sample:                                       0   HQIC                        152179.505\n",
            "                                         - 8759                                         \n",
            "Covariance Type:                         approx                                         \n",
            "                             Regime 0 parameters                              \n",
            "==============================================================================\n",
            "                 coef    std err          z      P>|z|      [0.025      0.975]\n",
            "------------------------------------------------------------------------------\n",
            "const       -174.5077     40.290     -4.331      0.000    -253.475     -95.540\n",
            "x1             0.7637      0.042     18.161      0.000       0.681       0.846\n",
            "x2            47.3062      4.342     10.896      0.000      38.796      55.816\n",
            "                             Regime 1 parameters                              \n",
            "==============================================================================\n",
            "                 coef    std err          z      P>|z|      [0.025      0.975]\n",
            "------------------------------------------------------------------------------\n",
            "const         83.2083     27.598      3.015      0.003      29.118     137.299\n",
            "x1             1.1767      0.027     44.260      0.000       1.125       1.229\n",
            "x2           242.4996     12.538     19.341      0.000     217.925     267.074\n",
            "                           Non-switching parameters                           \n",
            "==============================================================================\n",
            "                 coef    std err          z      P>|z|      [0.025      0.975]\n",
            "------------------------------------------------------------------------------\n",
            "sigma2      1.793e+06   3.16e+04     56.724      0.000    1.73e+06    1.85e+06\n",
            "                         Regime transition parameters                         \n",
            "==============================================================================\n",
            "                 coef    std err          z      P>|z|      [0.025      0.975]\n",
            "------------------------------------------------------------------------------\n",
            "p[0->0]        0.4401      0.034     12.802      0.000       0.373       0.508\n",
            "p[1->0]        0.4010      0.061      6.528      0.000       0.281       0.521\n",
            "==============================================================================\n",
            "\n",
            "Warnings:\n",
            "[1] Covariance matrix calculated using numerical (complex-step) differentiation.\n"
          ]
        }
      ]
    },
    {
      "cell_type": "code",
      "source": [
        "print(result.params)"
      ],
      "metadata": {
        "colab": {
          "base_uri": "https://localhost:8080/"
        },
        "id": "lqq5nsAn_QwX",
        "outputId": "5291985a-6f9f-4ff4-fb45-4219405db670"
      },
      "execution_count": null,
      "outputs": [
        {
          "output_type": "stream",
          "name": "stdout",
          "text": [
            "p[0->0]     4.401362e-01\n",
            "p[1->0]     4.009684e-01\n",
            "const[0]   -1.745077e+02\n",
            "const[1]    8.320825e+01\n",
            "x1[0]       7.636989e-01\n",
            "x1[1]       1.176660e+00\n",
            "x2[0]       4.730621e+01\n",
            "x2[1]       2.424996e+02\n",
            "sigma2      1.792685e+06\n",
            "dtype: float64\n"
          ]
        }
      ]
    },
    {
      "cell_type": "code",
      "source": [
        "const_coeffs = result.params[['const[0]', 'const[1]']].values\n",
        "x1_coeffs = result.params[['x1[0]', 'x1[1]']].values\n",
        "x2_coeffs = result.params[['x2[0]', 'x2[1]']].values\n",
        "print(const_coeffs)\n",
        "print(x1_coeffs)\n",
        "print(x2_coeffs)"
      ],
      "metadata": {
        "colab": {
          "base_uri": "https://localhost:8080/"
        },
        "id": "E1AzlMHFEX1j",
        "outputId": "e6db7ce4-8d32-4a48-bf82-ec54b253432d"
      },
      "execution_count": null,
      "outputs": [
        {
          "output_type": "stream",
          "name": "stdout",
          "text": [
            "[-174.5076779    83.20825363]\n",
            "[0.76369887 1.17665958]\n",
            "[ 47.30621126 242.49958372]\n"
          ]
        }
      ]
    },
    {
      "cell_type": "code",
      "source": [
        "coeffs = np.array([    [result.params['const[0]'], result.params['const[1]'], result.params['x1[0]'], result.params['x1[1]'], result.params['x2[0]'], result.params['x2[1]']]\n",
        "])"
      ],
      "metadata": {
        "id": "8YUmrKmL8DQG"
      },
      "execution_count": null,
      "outputs": []
    },
    {
      "cell_type": "code",
      "source": [
        "coeffs = np.array([[result.params['const[0]'], result.params['const[1]'], result.params['x1[0]'], result.params['x1[1]'], result.params['x2[0]'], result.params['x2[1]']]\n",
        "])\n",
        "\n",
        "probs = result.smoothed_marginal_probabilities[0]\n",
        "probs_arr = probs.values.reshape(-1, 1)\n",
        "\n",
        "weighted_coefs = probs_arr * coeffs\n"
      ],
      "metadata": {
        "id": "4D4CRlT1Eqh6"
      },
      "execution_count": null,
      "outputs": []
    },
    {
      "cell_type": "code",
      "source": [
        "import pandas as pd\n",
        "\n",
        "# Create a DataFrame from the weighted_coefs matrix\n",
        "df = pd.DataFrame(weighted_coefs, columns=['index','Constant', 'x1[0]', 'x1[1]', 'x2[0]', 'x2[1]'])\n",
        "\n",
        "# Save the DataFrame to an Excel file\n",
        "df.to_excel('weighted_coefs.xlsx', index=False)"
      ],
      "metadata": {
        "id": "IH6ZyvagHs6s"
      },
      "execution_count": null,
      "outputs": []
    },
    {
      "cell_type": "code",
      "source": [
        "# Plot for x1[0]\n",
        "plt.figure(figsize=(10,6))\n",
        "plt.plot(weighted_coefs[:, 2])\n",
        "plt.title('Time-varying coefficient for x1[0]')\n",
        "plt.xlabel('Time')\n",
        "plt.ylabel('Coefficient value')\n",
        "plt.show()\n",
        "\n",
        "# Plot for x1[1]\n",
        "plt.figure(figsize=(10,6))\n",
        "plt.plot(weighted_coefs[:, 3])\n",
        "plt.title('Time-varying coefficient for x1[1]')\n",
        "plt.xlabel('Time')\n",
        "plt.ylabel('Coefficient value')\n",
        "plt.show()\n",
        "\n"
      ],
      "metadata": {
        "colab": {
          "base_uri": "https://localhost:8080/",
          "height": 788
        },
        "id": "Ue5XZgYSJ6jR",
        "outputId": "218bc1c3-3ab9-4d61-da53-7474360e884f"
      },
      "execution_count": null,
      "outputs": [
        {
          "output_type": "display_data",
          "data": {
            "text/plain": [
              "<Figure size 720x432 with 1 Axes>"
            ],
            "image/png": "[encoded data removed]"
          },
          "metadata": {
            "needs_background": "light"
          }
        },
        {
          "output_type": "display_data",
          "data": {
            "text/plain": [
              "<Figure size 720x432 with 1 Axes>"
            ],
            "image/png": "[encoded data removed]"
          },
          "metadata": {
            "needs_background": "light"
          }
        }
      ]
    },
    {
      "cell_type": "code",
      "source": [
        "print(result.params)"
      ],
      "metadata": {
        "colab": {
          "base_uri": "https://localhost:8080/"
        },
        "id": "nrbqpT1drGSm",
        "outputId": "a14f8be5-616b-4c6c-c9a7-c864f270e232"
      },
      "execution_count": null,
      "outputs": [
        {
          "output_type": "stream",
          "name": "stdout",
          "text": [
            "p[0->0]     4.401362e-01\n",
            "p[1->0]     4.009684e-01\n",
            "const[0]   -1.745077e+02\n",
            "const[1]    8.320825e+01\n",
            "x1[0]       7.636989e-01\n",
            "x1[1]       1.176660e+00\n",
            "x2[0]       4.730621e+01\n",
            "x2[1]       2.424996e+02\n",
            "sigma2      1.792685e+06\n",
            "dtype: float64\n"
          ]
        }
      ]
    },
    {
      "cell_type": "code",
      "source": [
        "result.smoothed_marginal_probabilities[1].plot(\n",
        "    title=\"Probability of being in the high regime\", figsize=(12, 3))"
      ],
      "metadata": {
        "colab": {
          "base_uri": "https://localhost:8080/",
          "height": 258
        },
        "id": "eJYbi8fAtAEe",
        "outputId": "252316dc-fae2-4a01-92de-0bae6df704e6"
      },
      "execution_count": null,
      "outputs": [
        {
          "output_type": "execute_result",
          "data": {
            "text/plain": [
              "<matplotlib.axes._subplots.AxesSubplot at 0x7f7598480a60>"
            ]
          },
          "metadata": {},
          "execution_count": 71
        },
        {
          "output_type": "display_data",
          "data": {
            "text/plain": [
              "<Figure size 864x216 with 1 Axes>"
            ],
            "image/png": "[encoded data removed]"
          },
          "metadata": {
            "needs_background": "light"
          }
        }
      ]
    },
    {
      "cell_type": "code",
      "source": [
        "print(result.expected_durations)"
      ],
      "metadata": {
        "colab": {
          "base_uri": "https://localhost:8080/"
        },
        "id": "FFrxsKjrta8f",
        "outputId": "9e533857-7e6f-4d4d-821d-2e0ce3e359ce"
      },
      "execution_count": null,
      "outputs": [
        {
          "output_type": "stream",
          "name": "stdout",
          "text": [
            "[1.78614857 2.49396217]\n"
          ]
        }
      ]
    },
    {
      "cell_type": "code",
      "source": [
        "fig, axes = plt.subplots(3, figsize=(10, 7))\n",
        "\n",
        "ax = axes[0]\n",
        "ax.plot(result.smoothed_marginal_probabilities[0])\n",
        "ax.set(title=\"Smoothed probability of a low-interest rate regime\")\n",
        "\n",
        "ax = axes[1]\n",
        "ax.plot(result.smoothed_marginal_probabilities[1])\n",
        "ax.set(title=\"Smoothed probability of a medium-interest rate regime\")\n",
        "\n",
        "\n",
        "fig.tight_layout()"
      ],
      "metadata": {
        "colab": {
          "base_uri": "https://localhost:8080/",
          "height": 511
        },
        "id": "ZdGbGWULtiVu",
        "outputId": "42bbf45f-3b62-447f-b24d-c7e0405b2065"
      },
      "execution_count": null,
      "outputs": [
        {
          "output_type": "display_data",
          "data": {
            "text/plain": [
              "<Figure size 720x504 with 3 Axes>"
            ],
            "image/png": "[encoded data removed]"
          },
          "metadata": {
            "needs_background": "light"
          }
        }
      ]
    },
    {
      "cell_type": "markdown",
      "source": [
        "lstar"
      ],
      "metadata": {
        "id": "_PHaIst8Se6r"
      }
    },
    {
      "cell_type": "code",
      "source": [
        "import numpy as np\n",
        "\n",
        "def G1(gamma, c, s_t):\n",
        "    return 1 / (1 + np.exp(-gamma * (s_t - c)))\n",
        "\n",
        "def lstr1_model(phi, theta, gamma, c, u, x, s):\n",
        "    T = len(u)\n",
        "    y = np.zeros(T)\n",
        "    for t in range(T):\n",
        "        y[t] = np.dot(x[t], phi) + np.dot(x[t], theta) * G1(gamma, c, s[t]) + u[t]\n",
        "    return y\n"
      ],
      "metadata": {
        "id": "FErrM52Svnx5"
      },
      "execution_count": 121,
      "outputs": []
    },
    {
      "cell_type": "code",
      "source": [
        "import numpy as np\n",
        "\n",
        "def G1(gamma, c, s_t):\n",
        "    return 1 / (1 + np.exp(-gamma * (s_t - c)))\n",
        "\n",
        "def lstr1_model(phi, theta, gamma, c, u, x, s):\n",
        "    T = len(u)\n",
        "    y = np.zeros(T)\n",
        "    for t in range(T):\n",
        "        x_t = np.array([1, x[t], s[t]])\n",
        "        y[t] = np.dot(x_t, phi) + np.dot(x_t, theta) * G1(gamma, c, s[t]) + u[t]\n",
        "    return y\n",
        "\n",
        "# example usage\n",
        "y = ret['Generation without Renewbles']\n",
        "x = ret['Emission']\n",
        "s = ret['Electricity price ']\n",
        "T = len(y)\n",
        "u = np.random.normal(0, 1, T)\n",
        "phi = np.array([0.1, 0.2, 0.3])\n",
        "theta = np.array([0.4, 0.5, 0.6])\n",
        "gamma = 1.5\n",
        "c = 0.5\n",
        "\n",
        "y_pred = lstr1_model(phi, theta, gamma, c, u, x, s)\n",
        "\n",
        "# compute the root mean squared error\n",
        "rmse = np.sqrt(np.mean((y - y_pred) ** 2))\n",
        "print(\"RMSE:\", rmse)\n"
      ],
      "metadata": {
        "colab": {
          "base_uri": "https://localhost:8080/"
        },
        "id": "2GPChwJ9yeqs",
        "outputId": "8ab3a6ed-52e4-4d07-aeda-88a29bca0b46"
      },
      "execution_count": 122,
      "outputs": [
        {
          "output_type": "stream",
          "name": "stdout",
          "text": [
            "RMSE: 1851.3191624305377\n"
          ]
        }
      ]
    },
    {
      "cell_type": "code",
      "source": [
        "import statsmodels.api as sm\n",
        "\n",
        "def lstr1_model(phi, theta, gamma, c, sigma, y, x, s):\n",
        "    # construct explanatory variables matrix\n",
        "    X = sm.add_constant(np.column_stack((x, s, (x * theta[1] + s * theta[2]) * (1 / (1 + np.exp(-gamma * (s - c)))))))\n",
        "    # fit the model\n",
        "    model = sm.OLS(y, X).fit()\n",
        "    # calculate R-squared\n",
        "    r_squared = model.rsquared\n",
        "    # obtain summary of the estimation results\n",
        "    summary = model.summary()\n",
        "    return model.params, model.resid, r_squared, summary\n",
        "\n",
        "# apply the model\n",
        "phi = np.array([1, 1, 1])\n",
        "theta = np.array([1, 1, 1])\n",
        "gamma = 0.5\n",
        "c = 0.5\n",
        "sigma = 1\n",
        "\n",
        "y = ret['Generation without Renewbles']\n",
        "x = ret['Emission']\n",
        "s = ret['Electricity price ']\n",
        "\n",
        "params, resid, r_squared, summary = lstr1_model(phi, theta, gamma, c, sigma, y, x, s)\n",
        "\n",
        "# print the results\n",
        "print(\"Parameters:\")\n",
        "print(params)\n",
        "print(\"Residuals:\")\n",
        "print(resid)\n",
        "print(\"R-squared:\")\n",
        "print(r_squared)\n",
        "print(\"Summary:\")\n",
        "print(summary)\n"
      ],
      "metadata": {
        "colab": {
          "base_uri": "https://localhost:8080/"
        },
        "id": "whsize_MzBIp",
        "outputId": "9d4c0b98-86be-487e-8748-24141833df81"
      },
      "execution_count": 134,
      "outputs": [
        {
          "output_type": "stream",
          "name": "stdout",
          "text": [
            "Parameters:\n",
            "const    -19.934681\n",
            "x1         0.983898\n",
            "x2       110.434017\n",
            "x3         0.157242\n",
            "dtype: float64\n",
            "Residuals:\n",
            "Date\n",
            "2019-01-01 00:59:59.983    -980.676864\n",
            "2019-01-01 01:59:59.983     228.950577\n",
            "2019-01-01 02:59:59.983   -1526.698579\n",
            "2019-01-01 03:59:59.983   -1360.892178\n",
            "2019-01-01 04:59:59.983    4336.557803\n",
            "                              ...     \n",
            "2019-12-31 18:59:59.982     441.226370\n",
            "2019-12-31 19:59:59.982   -1383.591433\n",
            "2019-12-31 20:59:59.982     410.805469\n",
            "2019-12-31 21:59:59.982   -2378.535890\n",
            "2019-12-31 22:59:59.982   -2366.706573\n",
            "Length: 8759, dtype: float64\n",
            "R-squared:\n",
            "0.5054108901362997\n",
            "Summary:\n",
            "                                 OLS Regression Results                                 \n",
            "========================================================================================\n",
            "Dep. Variable:     Generation without Renewbles   R-squared:                       0.505\n",
            "Model:                                      OLS   Adj. R-squared:                  0.505\n",
            "Method:                           Least Squares   F-statistic:                     2982.\n",
            "Date:                          Mon, 20 Feb 2023   Prob (F-statistic):               0.00\n",
            "Time:                                  12:39:09   Log-Likelihood:                -76425.\n",
            "No. Observations:                          8759   AIC:                         1.529e+05\n",
            "Df Residuals:                              8755   BIC:                         1.529e+05\n",
            "Df Model:                                     3                                         \n",
            "Covariance Type:                      nonrobust                                         \n",
            "==============================================================================\n",
            "                 coef    std err          t      P>|t|      [0.025      0.975]\n",
            "------------------------------------------------------------------------------\n",
            "const        -19.9347     17.044     -1.170      0.242     -53.345      13.476\n",
            "x1             0.9839      0.027     36.681      0.000       0.931       1.036\n",
            "x2           110.4340      2.851     38.741      0.000     104.846     116.022\n",
            "x3             0.1572      0.047      3.335      0.001       0.065       0.250\n",
            "==============================================================================\n",
            "Omnibus:                      574.863   Durbin-Watson:                   2.180\n",
            "Prob(Omnibus):                  0.000   Jarque-Bera (JB):             2246.838\n",
            "Skew:                           0.219   Prob(JB):                         0.00\n",
            "Kurtosis:                       5.442   Cond. No.                     1.34e+03\n",
            "==============================================================================\n",
            "\n",
            "Notes:\n",
            "[1] Standard Errors assume that the covariance matrix of the errors is correctly specified.\n",
            "[2] The condition number is large, 1.34e+03. This might indicate that there are\n",
            "strong multicollinearity or other numerical problems.\n"
          ]
        }
      ]
    },
    {
      "cell_type": "code",
      "source": [
        " x_t = x.iloc[:, 0]\n",
        " x_t"
      ],
      "metadata": {
        "colab": {
          "base_uri": "https://localhost:8080/"
        },
        "id": "LxcUwnxF7j97",
        "outputId": "830b2440-48fa-4923-9ec7-81547910f7d0"
      },
      "execution_count": 154,
      "outputs": [
        {
          "output_type": "execute_result",
          "data": {
            "text/plain": [
              "Date\n",
              "2019-01-01 00:59:59.983      19.616814\n",
              "2019-01-01 01:59:59.983     118.240055\n",
              "2019-01-01 02:59:59.983     306.957799\n",
              "2019-01-01 03:59:59.983    1284.841991\n",
              "2019-01-01 04:59:59.983    1455.265215\n",
              "                              ...     \n",
              "2019-12-31 18:59:59.982    -570.296398\n",
              "2019-12-31 19:59:59.982    -433.789573\n",
              "2019-12-31 20:59:59.982    -750.802862\n",
              "2019-12-31 21:59:59.982    -452.941861\n",
              "2019-12-31 22:59:59.982       0.000000\n",
              "Name: Emission, Length: 8759, dtype: float64"
            ]
          },
          "metadata": {},
          "execution_count": 154
        }
      ]
    },
    {
      "cell_type": "code",
      "source": [
        "import numpy as np\n",
        "from scipy.optimize import curve_fit\n",
        "\n",
        "def transition_function(s_t, gamma, c):\n",
        "    return 1 / (1 + np.exp(-gamma * (s_t - c)))\n",
        "\n",
        "def STR(x, phi0, phi1, phi2, theta0, theta1, theta2, gamma, c):\n",
        "    x_t = x.iloc[:, 0]\n",
        "    s_t = x.iloc[:, 1]\n",
        "    G = transition_function(s_t, gamma, c)\n",
        "    y_hat = phi0 + phi1 * x_t + phi2 * s_t + (theta0 + theta1 * x_t + theta2 * s_t) * G\n",
        "    return y_hat\n",
        "\n",
        "# x is a 2D array containing the values of x and s\n",
        "# y is a 1D array containing the values of y\n",
        "y = ret['Generation without Renewbles']\n",
        "x = ret[['Emission', 'Electricity price ']]\n",
        "#s = ret['Electricity price ']\n",
        "# initial guesses for the parameters\n",
        "phi0_0, phi1_0, phi2_0 = 0, 0, 0\n",
        "theta0_0, theta1_0, theta2_0 = 0, 0, 0\n",
        "gamma_0, c_0 = 1, 0\n",
        "\n",
        "# estimate the parameters using nonlinear least squares\n",
        "p0 = [phi0_0, phi1_0, phi2_0, theta0_0, theta1_0, theta2_0, gamma_0, c_0]\n",
        "popt, pcov = curve_fit(STR, x, y, p0)\n",
        "\n",
        "# print the estimated parameters\n",
        "print(popt)\n"
      ],
      "metadata": {
        "colab": {
          "base_uri": "https://localhost:8080/"
        },
        "id": "wESgvNbT6lVr",
        "outputId": "ddfb14cc-e72b-412f-be06-c25fc8c5a95e"
      },
      "execution_count": 155,
      "outputs": [
        {
          "output_type": "stream",
          "name": "stdout",
          "text": [
            "[-7.05185509e+02  1.69044553e+00 -8.46261605e+00  6.56211575e+02\n",
            " -6.89616307e-01  1.57126214e+02  1.45067093e+00 -1.14807326e+01]\n"
          ]
        }
      ]
    },
    {
      "cell_type": "code",
      "source": [
        "from sklearn.metrics import r2_score\n",
        "\n",
        "# calculate R-squared value\n",
        "y_pred = STR(x, *popt)\n",
        "r2 = r2_score(y, y_pred)\n",
        "print(\"R-squared value: \", r2)\n"
      ],
      "metadata": {
        "colab": {
          "base_uri": "https://localhost:8080/"
        },
        "id": "I5JKhu618-mw",
        "outputId": "8c4810a1-e586-4dce-db53-1c9720488fbb"
      },
      "execution_count": 156,
      "outputs": [
        {
          "output_type": "stream",
          "name": "stdout",
          "text": [
            "R-squared value:  0.5280156646560685\n"
          ]
        }
      ]
    },
    {
      "cell_type": "code",
      "source": [
        "import numpy as np\n",
        "from scipy.optimize import curve_fit\n",
        "\n",
        "def transition_function(s_t, gamma, c):\n",
        "    return 1 / (1 + np.exp(-gamma * (s_t - c)))\n",
        "\n",
        "def STR(x, phi0, phi1, phi2, theta0, theta1, theta2, gamma, c):\n",
        "    x_t = x.iloc[:, 0]\n",
        "    s_t = x.iloc[:, 1]\n",
        "    G = transition_function(s_t, gamma, c)\n",
        "    y_hat = phi0 + phi1 * x_t + phi2 * s_t + (theta0 + theta1 * x_t + theta2 * s_t) * G\n",
        "    return y_hat\n",
        "\n",
        "# y is a 1D array containing the values of y\n",
        "y = ret['Generation without Renewbles']\n",
        "x = ret[['Emission', 'Electricity price ']]\n",
        "#s = ret['Electricity price ']\n",
        "\n",
        "# specify the window size\n",
        "window_size = 24\n",
        "\n",
        "# loop over the data, fitting the model to a rolling window of size window_size\n",
        "coefficients = []\n",
        "for i in range(window_size, len(y)):\n",
        "    y_window = y[i-window_size:i]\n",
        "    x_window = x.iloc[i-window_size:i, :]\n",
        "    \n",
        "    # initial guesses for the parameters\n",
        "    phi0_0, phi1_0, phi2_0 = -237.00540, 0.5416, 447.98395\n",
        "    theta0_0, theta1_0, theta2_0 = 601.20749, 0.91319, -422.49485\n",
        "    gamma_0, c_0 = 0.50000, -6.41804\n",
        "\n",
        "    # estimate the parameters using nonlinear least squares\n",
        "    p0 = [phi0_0, phi1_0, phi2_0, theta0_0, theta1_0, theta2_0, gamma_0, c_0]\n",
        "    popt, pcov = curve_fit(STR, x_window, y_window, p0, maxfev=5000000)\n",
        "    \n",
        "    # save the coefficients\n",
        "    coefficients.append(popt)\n",
        "\n",
        "# convert the coefficients to a numpy array\n",
        "coefficients = np.array(coefficients)\n",
        "\n",
        "# extract the time-varying coefficients\n",
        "phi0_t = coefficients[:, 0]\n",
        "phi1_t = coefficients[:, 1]\n",
        "phi2_t = coefficients[:, 2]\n",
        "theta0_t = coefficients[:, 3]\n",
        "theta1_t = coefficients[:, 4]\n",
        "theta2_t = coefficients[:, 5]\n"
      ],
      "metadata": {
        "id": "KOcnDiup9moN"
      },
      "execution_count": null,
      "outputs": []
    }
  ]
}