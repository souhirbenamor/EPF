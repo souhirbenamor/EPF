{
  "cells": [
    {
      "cell_type": "markdown",
      "metadata": {
        "id": "view-in-github",
        "colab_type": "text"
      },
      "source": [
        "<a href=\"https://colab.research.google.com/github/souhirbenamor/EPF/blob/main/Multivariate_Random_Forest.ipynb\" target=\"_parent\"><img src=\"https://colab.research.google.com/assets/colab-badge.svg\" alt=\"Open In Colab\"/></a>"
      ]
    },
    {
      "cell_type": "markdown",
      "source": [
        "Multivariate Random Forest\n",
        "\n",
        "https://github.com/souhirbenamor/Electricity_Price_Forecating/blob/main/Collected%20codes/ARIMA%2BMultivariate%20RF%2B%20Multivariate%20LSTM%2B%20Naive%20model%2B%20Python/Random_Forest%20(1).ipynb\n"
      ],
      "metadata": {
        "id": "eMzLox_cdYqK"
      }
    },
    {
      "cell_type": "code",
      "execution_count": null,
      "metadata": {
        "id": "mF5F6wrHNrlm"
      },
      "outputs": [],
      "source": [
        "import pandas as pd\n",
        "import matplotlib.pyplot as plt\n",
        "import numpy as np\n",
        "\n",
        "from keras import Sequential\n",
        "from keras.layers import Dense, LSTM\n",
        "import tensorflow as tf\n",
        "import keras\n",
        "\n",
        "from sklearn.preprocessing import MinMaxScaler\n",
        "from sklearn.preprocessing import LabelEncoder\n",
        "from sklearn.metrics import mean_squared_error\n",
        "\n",
        "from sklearn.ensemble import RandomForestRegressor\n",
        "\n",
        "\n",
        "\n",
        "from keras.models import Sequential\n",
        "from keras.layers import Dense\n",
        "from keras.layers import LSTM\n",
        "from keras.layers import Conv1D, Conv2D, MaxPooling1D, Flatten\n",
        "from keras.layers import GRU\n",
        "\n",
        "import numpy as np"
      ]
    },
    {
      "cell_type": "code",
      "execution_count": null,
      "metadata": {
        "colab": {
          "base_uri": "https://localhost:8080/",
          "height": 628
        },
        "id": "8LebSIy8NwE7",
        "outputId": "2acc184f-1b6f-445e-ae05-57720059527e"
      },
      "outputs": [
        {
          "output_type": "execute_result",
          "data": {
            "text/html": [
              "\n",
              "  <div id=\"df-1df04eca-ec4c-4341-8c1a-3c38a2d12117\">\n",
              "    <div class=\"colab-df-container\">\n",
              "      <div>\n",
              "<style scoped>\n",
              "    .dataframe tbody tr th:only-of-type {\n",
              "        vertical-align: middle;\n",
              "    }\n",
              "\n",
              "    .dataframe tbody tr th {\n",
              "        vertical-align: top;\n",
              "    }\n",
              "\n",
              "    .dataframe thead th {\n",
              "        text-align: right;\n",
              "    }\n",
              "</style>\n",
              "<table border=\"1\" class=\"dataframe\">\n",
              "  <thead>\n",
              "    <tr style=\"text-align: right;\">\n",
              "      <th></th>\n",
              "      <th>Prices</th>\n",
              "      <th>Generation forecast</th>\n",
              "      <th>System load forecast</th>\n",
              "    </tr>\n",
              "    <tr>\n",
              "      <th>Date</th>\n",
              "      <th></th>\n",
              "      <th></th>\n",
              "      <th></th>\n",
              "    </tr>\n",
              "  </thead>\n",
              "  <tbody>\n",
              "    <tr>\n",
              "      <th>2011-01-09 00:00:00</th>\n",
              "      <td>32.54</td>\n",
              "      <td>63065.0</td>\n",
              "      <td>63000.0</td>\n",
              "    </tr>\n",
              "    <tr>\n",
              "      <th>2011-01-09 01:00:00</th>\n",
              "      <td>21.55</td>\n",
              "      <td>62715.0</td>\n",
              "      <td>58800.0</td>\n",
              "    </tr>\n",
              "    <tr>\n",
              "      <th>2011-01-09 02:00:00</th>\n",
              "      <td>15.71</td>\n",
              "      <td>61952.0</td>\n",
              "      <td>58500.0</td>\n",
              "    </tr>\n",
              "    <tr>\n",
              "      <th>2011-01-09 03:00:00</th>\n",
              "      <td>10.58</td>\n",
              "      <td>59262.0</td>\n",
              "      <td>54300.0</td>\n",
              "    </tr>\n",
              "    <tr>\n",
              "      <th>2011-01-09 04:00:00</th>\n",
              "      <td>10.32</td>\n",
              "      <td>56883.0</td>\n",
              "      <td>51900.0</td>\n",
              "    </tr>\n",
              "    <tr>\n",
              "      <th>...</th>\n",
              "      <td>...</td>\n",
              "      <td>...</td>\n",
              "      <td>...</td>\n",
              "    </tr>\n",
              "    <tr>\n",
              "      <th>2016-12-31 19:00:00</th>\n",
              "      <td>40.84</td>\n",
              "      <td>70329.0</td>\n",
              "      <td>73957.0</td>\n",
              "    </tr>\n",
              "    <tr>\n",
              "      <th>2016-12-31 20:00:00</th>\n",
              "      <td>40.10</td>\n",
              "      <td>69121.0</td>\n",
              "      <td>72544.0</td>\n",
              "    </tr>\n",
              "    <tr>\n",
              "      <th>2016-12-31 21:00:00</th>\n",
              "      <td>36.00</td>\n",
              "      <td>66647.0</td>\n",
              "      <td>69451.0</td>\n",
              "    </tr>\n",
              "    <tr>\n",
              "      <th>2016-12-31 22:00:00</th>\n",
              "      <td>35.00</td>\n",
              "      <td>65886.0</td>\n",
              "      <td>67823.0</td>\n",
              "    </tr>\n",
              "    <tr>\n",
              "      <th>2016-12-31 23:00:00</th>\n",
              "      <td>34.94</td>\n",
              "      <td>66846.0</td>\n",
              "      <td>72876.0</td>\n",
              "    </tr>\n",
              "  </tbody>\n",
              "</table>\n",
              "<p>52416 rows × 3 columns</p>\n",
              "</div>\n",
              "      <button class=\"colab-df-convert\" onclick=\"convertToInteractive('df-1df04eca-ec4c-4341-8c1a-3c38a2d12117')\"\n",
              "              title=\"Convert this dataframe to an interactive table.\"\n",
              "              style=\"display:none;\">\n",
              "        \n",
              "  <svg xmlns=\"http://www.w3.org/2000/svg\" height=\"24px\"viewBox=\"0 0 24 24\"\n",
              "       width=\"24px\">\n",
              "    <path d=\"M0 0h24v24H0V0z\" fill=\"none\"/>\n",
              "    <path d=\"M18.56 5.44l.94 2.06.94-2.06 2.06-.94-2.06-.94-.94-2.06-.94 2.06-2.06.94zm-11 1L8.5 8.5l.94-2.06 2.06-.94-2.06-.94L8.5 2.5l-.94 2.06-2.06.94zm10 10l.94 2.06.94-2.06 2.06-.94-2.06-.94-.94-2.06-.94 2.06-2.06.94z\"/><path d=\"M17.41 7.96l-1.37-1.37c-.4-.4-.92-.59-1.43-.59-.52 0-1.04.2-1.43.59L10.3 9.45l-7.72 7.72c-.78.78-.78 2.05 0 2.83L4 21.41c.39.39.9.59 1.41.59.51 0 1.02-.2 1.41-.59l7.78-7.78 2.81-2.81c.8-.78.8-2.07 0-2.86zM5.41 20L4 18.59l7.72-7.72 1.47 1.35L5.41 20z\"/>\n",
              "  </svg>\n",
              "      </button>\n",
              "      \n",
              "  <style>\n",
              "    .colab-df-container {\n",
              "      display:flex;\n",
              "      flex-wrap:wrap;\n",
              "      gap: 12px;\n",
              "    }\n",
              "\n",
              "    .colab-df-convert {\n",
              "      background-color: #E8F0FE;\n",
              "      border: none;\n",
              "      border-radius: 50%;\n",
              "      cursor: pointer;\n",
              "      display: none;\n",
              "      fill: #1967D2;\n",
              "      height: 32px;\n",
              "      padding: 0 0 0 0;\n",
              "      width: 32px;\n",
              "    }\n",
              "\n",
              "    .colab-df-convert:hover {\n",
              "      background-color: #E2EBFA;\n",
              "      box-shadow: 0px 1px 2px rgba(60, 64, 67, 0.3), 0px 1px 3px 1px rgba(60, 64, 67, 0.15);\n",
              "      fill: #174EA6;\n",
              "    }\n",
              "\n",
              "    [theme=dark] .colab-df-convert {\n",
              "      background-color: #3B4455;\n",
              "      fill: #D2E3FC;\n",
              "    }\n",
              "\n",
              "    [theme=dark] .colab-df-convert:hover {\n",
              "      background-color: #434B5C;\n",
              "      box-shadow: 0px 1px 3px 1px rgba(0, 0, 0, 0.15);\n",
              "      filter: drop-shadow(0px 1px 2px rgba(0, 0, 0, 0.3));\n",
              "      fill: #FFFFFF;\n",
              "    }\n",
              "  </style>\n",
              "\n",
              "      <script>\n",
              "        const buttonEl =\n",
              "          document.querySelector('#df-1df04eca-ec4c-4341-8c1a-3c38a2d12117 button.colab-df-convert');\n",
              "        buttonEl.style.display =\n",
              "          google.colab.kernel.accessAllowed ? 'block' : 'none';\n",
              "\n",
              "        async function convertToInteractive(key) {\n",
              "          const element = document.querySelector('#df-1df04eca-ec4c-4341-8c1a-3c38a2d12117');\n",
              "          const dataTable =\n",
              "            await google.colab.kernel.invokeFunction('convertToInteractive',\n",
              "                                                     [key], {});\n",
              "          if (!dataTable) return;\n",
              "\n",
              "          const docLinkHtml = 'Like what you see? Visit the ' +\n",
              "            '<a target=\"_blank\" href=https://colab.research.google.com/notebooks/data_table.ipynb>data table notebook</a>'\n",
              "            + ' to learn more about interactive tables.';\n",
              "          element.innerHTML = '';\n",
              "          dataTable['output_type'] = 'display_data';\n",
              "          await google.colab.output.renderOutput(dataTable, element);\n",
              "          const docLink = document.createElement('div');\n",
              "          docLink.innerHTML = docLinkHtml;\n",
              "          element.appendChild(docLink);\n",
              "        }\n",
              "      </script>\n",
              "    </div>\n",
              "  </div>\n",
              "  "
            ],
            "text/plain": [
              "                      Prices   Generation forecast   System load forecast\n",
              "Date                                                                     \n",
              "2011-01-09 00:00:00    32.54               63065.0                63000.0\n",
              "2011-01-09 01:00:00    21.55               62715.0                58800.0\n",
              "2011-01-09 02:00:00    15.71               61952.0                58500.0\n",
              "2011-01-09 03:00:00    10.58               59262.0                54300.0\n",
              "2011-01-09 04:00:00    10.32               56883.0                51900.0\n",
              "...                      ...                   ...                    ...\n",
              "2016-12-31 19:00:00    40.84               70329.0                73957.0\n",
              "2016-12-31 20:00:00    40.10               69121.0                72544.0\n",
              "2016-12-31 21:00:00    36.00               66647.0                69451.0\n",
              "2016-12-31 22:00:00    35.00               65886.0                67823.0\n",
              "2016-12-31 23:00:00    34.94               66846.0                72876.0\n",
              "\n",
              "[52416 rows x 3 columns]"
            ]
          },
          "metadata": {},
          "execution_count": 2
        }
      ],
      "source": [
        "df = pd.read_csv('/content/BE.csv')\n",
        "df.drop(df.loc[df['Date'].duplicated()].index, inplace = True)\n",
        "df['Date'] = pd.to_datetime(df['Date'])\n",
        "\n",
        "# df = df.sort_values(df['datetime'], ascending=[True])\n",
        "df.set_index(df['Date'], inplace = True)\n",
        "df.drop(columns = [ 'Date'], inplace = True)\n",
        "df\n"
      ]
    },
    {
      "cell_type": "code",
      "execution_count": null,
      "metadata": {
        "id": "nCGlT6QBOjQv"
      },
      "outputs": [],
      "source": [
        "def table2lags(table, max_lag, min_lag=0, separator='_'):\n",
        "    \"\"\" Given a dataframe, return a dataframe with different lags of all its columns \"\"\"\n",
        "    values=[]\n",
        "    for i in range(min_lag, max_lag + 1):\n",
        "        values.append(table.shift(i).copy())\n",
        "        values[-1].columns = [c + separator + str(i) for c in table.columns]\n",
        "    return pd.concat(values, axis=1)"
      ]
    },
    {
      "cell_type": "code",
      "execution_count": null,
      "metadata": {
        "colab": {
          "base_uri": "https://localhost:8080/",
          "height": 326
        },
        "id": "XhNPVvV0O1_y",
        "outputId": "d11f723b-8a93-4ca8-b630-78bdb188baf6"
      },
      "outputs": [
        {
          "output_type": "execute_result",
          "data": {
            "text/html": [
              "\n",
              "  <div id=\"df-62a22cf9-659a-4d79-9698-22e603522c06\">\n",
              "    <div class=\"colab-df-container\">\n",
              "      <div>\n",
              "<style scoped>\n",
              "    .dataframe tbody tr th:only-of-type {\n",
              "        vertical-align: middle;\n",
              "    }\n",
              "\n",
              "    .dataframe tbody tr th {\n",
              "        vertical-align: top;\n",
              "    }\n",
              "\n",
              "    .dataframe thead th {\n",
              "        text-align: right;\n",
              "    }\n",
              "</style>\n",
              "<table border=\"1\" class=\"dataframe\">\n",
              "  <thead>\n",
              "    <tr style=\"text-align: right;\">\n",
              "      <th></th>\n",
              "      <th>Prices</th>\n",
              "      <th>Generation forecast</th>\n",
              "      <th>System load forecast</th>\n",
              "    </tr>\n",
              "    <tr>\n",
              "      <th>Date</th>\n",
              "      <th></th>\n",
              "      <th></th>\n",
              "      <th></th>\n",
              "    </tr>\n",
              "  </thead>\n",
              "  <tbody>\n",
              "    <tr>\n",
              "      <th>2011-01-09 00:00:00</th>\n",
              "      <td>32.54</td>\n",
              "      <td>63065.0</td>\n",
              "      <td>63000.0</td>\n",
              "    </tr>\n",
              "    <tr>\n",
              "      <th>2011-01-09 01:00:00</th>\n",
              "      <td>21.55</td>\n",
              "      <td>62715.0</td>\n",
              "      <td>58800.0</td>\n",
              "    </tr>\n",
              "    <tr>\n",
              "      <th>2011-01-09 02:00:00</th>\n",
              "      <td>15.71</td>\n",
              "      <td>61952.0</td>\n",
              "      <td>58500.0</td>\n",
              "    </tr>\n",
              "    <tr>\n",
              "      <th>2011-01-09 03:00:00</th>\n",
              "      <td>10.58</td>\n",
              "      <td>59262.0</td>\n",
              "      <td>54300.0</td>\n",
              "    </tr>\n",
              "    <tr>\n",
              "      <th>2011-01-09 04:00:00</th>\n",
              "      <td>10.32</td>\n",
              "      <td>56883.0</td>\n",
              "      <td>51900.0</td>\n",
              "    </tr>\n",
              "  </tbody>\n",
              "</table>\n",
              "</div>\n",
              "      <button class=\"colab-df-convert\" onclick=\"convertToInteractive('df-62a22cf9-659a-4d79-9698-22e603522c06')\"\n",
              "              title=\"Convert this dataframe to an interactive table.\"\n",
              "              style=\"display:none;\">\n",
              "        \n",
              "  <svg xmlns=\"http://www.w3.org/2000/svg\" height=\"24px\"viewBox=\"0 0 24 24\"\n",
              "       width=\"24px\">\n",
              "    <path d=\"M0 0h24v24H0V0z\" fill=\"none\"/>\n",
              "    <path d=\"M18.56 5.44l.94 2.06.94-2.06 2.06-.94-2.06-.94-.94-2.06-.94 2.06-2.06.94zm-11 1L8.5 8.5l.94-2.06 2.06-.94-2.06-.94L8.5 2.5l-.94 2.06-2.06.94zm10 10l.94 2.06.94-2.06 2.06-.94-2.06-.94-.94-2.06-.94 2.06-2.06.94z\"/><path d=\"M17.41 7.96l-1.37-1.37c-.4-.4-.92-.59-1.43-.59-.52 0-1.04.2-1.43.59L10.3 9.45l-7.72 7.72c-.78.78-.78 2.05 0 2.83L4 21.41c.39.39.9.59 1.41.59.51 0 1.02-.2 1.41-.59l7.78-7.78 2.81-2.81c.8-.78.8-2.07 0-2.86zM5.41 20L4 18.59l7.72-7.72 1.47 1.35L5.41 20z\"/>\n",
              "  </svg>\n",
              "      </button>\n",
              "      \n",
              "  <style>\n",
              "    .colab-df-container {\n",
              "      display:flex;\n",
              "      flex-wrap:wrap;\n",
              "      gap: 12px;\n",
              "    }\n",
              "\n",
              "    .colab-df-convert {\n",
              "      background-color: #E8F0FE;\n",
              "      border: none;\n",
              "      border-radius: 50%;\n",
              "      cursor: pointer;\n",
              "      display: none;\n",
              "      fill: #1967D2;\n",
              "      height: 32px;\n",
              "      padding: 0 0 0 0;\n",
              "      width: 32px;\n",
              "    }\n",
              "\n",
              "    .colab-df-convert:hover {\n",
              "      background-color: #E2EBFA;\n",
              "      box-shadow: 0px 1px 2px rgba(60, 64, 67, 0.3), 0px 1px 3px 1px rgba(60, 64, 67, 0.15);\n",
              "      fill: #174EA6;\n",
              "    }\n",
              "\n",
              "    [theme=dark] .colab-df-convert {\n",
              "      background-color: #3B4455;\n",
              "      fill: #D2E3FC;\n",
              "    }\n",
              "\n",
              "    [theme=dark] .colab-df-convert:hover {\n",
              "      background-color: #434B5C;\n",
              "      box-shadow: 0px 1px 3px 1px rgba(0, 0, 0, 0.15);\n",
              "      filter: drop-shadow(0px 1px 2px rgba(0, 0, 0, 0.3));\n",
              "      fill: #FFFFFF;\n",
              "    }\n",
              "  </style>\n",
              "\n",
              "      <script>\n",
              "        const buttonEl =\n",
              "          document.querySelector('#df-62a22cf9-659a-4d79-9698-22e603522c06 button.colab-df-convert');\n",
              "        buttonEl.style.display =\n",
              "          google.colab.kernel.accessAllowed ? 'block' : 'none';\n",
              "\n",
              "        async function convertToInteractive(key) {\n",
              "          const element = document.querySelector('#df-62a22cf9-659a-4d79-9698-22e603522c06');\n",
              "          const dataTable =\n",
              "            await google.colab.kernel.invokeFunction('convertToInteractive',\n",
              "                                                     [key], {});\n",
              "          if (!dataTable) return;\n",
              "\n",
              "          const docLinkHtml = 'Like what you see? Visit the ' +\n",
              "            '<a target=\"_blank\" href=https://colab.research.google.com/notebooks/data_table.ipynb>data table notebook</a>'\n",
              "            + ' to learn more about interactive tables.';\n",
              "          element.innerHTML = '';\n",
              "          dataTable['output_type'] = 'display_data';\n",
              "          await google.colab.output.renderOutput(dataTable, element);\n",
              "          const docLink = document.createElement('div');\n",
              "          docLink.innerHTML = docLinkHtml;\n",
              "          element.appendChild(docLink);\n",
              "        }\n",
              "      </script>\n",
              "    </div>\n",
              "  </div>\n",
              "  "
            ],
            "text/plain": [
              "                      Prices   Generation forecast   System load forecast\n",
              "Date                                                                     \n",
              "2011-01-09 00:00:00    32.54               63065.0                63000.0\n",
              "2011-01-09 01:00:00    21.55               62715.0                58800.0\n",
              "2011-01-09 02:00:00    15.71               61952.0                58500.0\n",
              "2011-01-09 03:00:00    10.58               59262.0                54300.0\n",
              "2011-01-09 04:00:00    10.32               56883.0                51900.0"
            ]
          },
          "metadata": {},
          "execution_count": 4
        }
      ],
      "source": [
        "df.head()"
      ]
    },
    {
      "cell_type": "code",
      "execution_count": null,
      "metadata": {
        "id": "1ZT8hm0AO9Fv"
      },
      "outputs": [],
      "source": [
        "df_lagged = table2lags(df, 168, 24)"
      ]
    },
    {
      "cell_type": "code",
      "execution_count": null,
      "metadata": {
        "colab": {
          "base_uri": "https://localhost:8080/"
        },
        "id": "ze_jJeNzPDSq",
        "outputId": "414b02f1-98a1-4f16-d7fd-ea968406a04c"
      },
      "outputs": [
        {
          "output_type": "execute_result",
          "data": {
            "text/plain": [
              "Index([' Prices_24', ' Generation forecast_24', ' System load forecast_24',\n",
              "       ' Prices_25', ' Generation forecast_25', ' System load forecast_25',\n",
              "       ' Prices_26', ' Generation forecast_26', ' System load forecast_26',\n",
              "       ' Prices_27',\n",
              "       ...\n",
              "       ' System load forecast_165', ' Prices_166', ' Generation forecast_166',\n",
              "       ' System load forecast_166', ' Prices_167', ' Generation forecast_167',\n",
              "       ' System load forecast_167', ' Prices_168', ' Generation forecast_168',\n",
              "       ' System load forecast_168'],\n",
              "      dtype='object', length=435)"
            ]
          },
          "metadata": {},
          "execution_count": 6
        }
      ],
      "source": [
        "df_lagged.columns"
      ]
    },
    {
      "cell_type": "code",
      "execution_count": null,
      "metadata": {
        "colab": {
          "base_uri": "https://localhost:8080/"
        },
        "id": "WTHQNVVYPI0a",
        "outputId": "7ac429c2-3e67-4e0b-a54e-a83038cd59fd"
      },
      "outputs": [
        {
          "output_type": "execute_result",
          "data": {
            "text/plain": [
              "(52416, 435)"
            ]
          },
          "metadata": {},
          "execution_count": 7
        }
      ],
      "source": [
        "df_lagged.shape"
      ]
    },
    {
      "cell_type": "code",
      "execution_count": null,
      "metadata": {
        "id": "9iODFwbCPRTa"
      },
      "outputs": [],
      "source": [
        "x_train = df_lagged[168:25000]\n",
        "x_valid = df_lagged[25000:34944]\n",
        "x_test = df_lagged[34944:]"
      ]
    },
    {
      "cell_type": "code",
      "execution_count": null,
      "metadata": {
        "id": "AGNsJd89PUhi"
      },
      "outputs": [],
      "source": [
        "y_train = df[' Prices'][168:25000]\n",
        "y_valid = df[' Prices'][25000:34944]\n",
        "y_test = df[' Prices'][34944:]"
      ]
    },
    {
      "cell_type": "code",
      "execution_count": null,
      "metadata": {
        "colab": {
          "base_uri": "https://localhost:8080/",
          "height": 690
        },
        "id": "w3iuEml-PYk0",
        "outputId": "39db0f41-22c4-494f-ab6f-ffc69f34de0d"
      },
      "outputs": [
        {
          "output_type": "execute_result",
          "data": {
            "text/html": [
              "\n",
              "  <div id=\"df-4139ebd3-ed24-4c3a-b007-e51f6527c276\">\n",
              "    <div class=\"colab-df-container\">\n",
              "      <div>\n",
              "<style scoped>\n",
              "    .dataframe tbody tr th:only-of-type {\n",
              "        vertical-align: middle;\n",
              "    }\n",
              "\n",
              "    .dataframe tbody tr th {\n",
              "        vertical-align: top;\n",
              "    }\n",
              "\n",
              "    .dataframe thead th {\n",
              "        text-align: right;\n",
              "    }\n",
              "</style>\n",
              "<table border=\"1\" class=\"dataframe\">\n",
              "  <thead>\n",
              "    <tr style=\"text-align: right;\">\n",
              "      <th></th>\n",
              "      <th>Prices_24</th>\n",
              "      <th>Generation forecast_24</th>\n",
              "      <th>System load forecast_24</th>\n",
              "      <th>Prices_25</th>\n",
              "      <th>Generation forecast_25</th>\n",
              "      <th>System load forecast_25</th>\n",
              "      <th>Prices_26</th>\n",
              "      <th>Generation forecast_26</th>\n",
              "      <th>System load forecast_26</th>\n",
              "      <th>Prices_27</th>\n",
              "      <th>Generation forecast_27</th>\n",
              "      <th>System load forecast_27</th>\n",
              "      <th>Prices_28</th>\n",
              "      <th>Generation forecast_28</th>\n",
              "      <th>System load forecast_28</th>\n",
              "      <th>Prices_29</th>\n",
              "      <th>Generation forecast_29</th>\n",
              "      <th>System load forecast_29</th>\n",
              "      <th>Prices_30</th>\n",
              "      <th>Generation forecast_30</th>\n",
              "      <th>System load forecast_30</th>\n",
              "      <th>Prices_31</th>\n",
              "      <th>Generation forecast_31</th>\n",
              "      <th>System load forecast_31</th>\n",
              "      <th>Prices_32</th>\n",
              "      <th>Generation forecast_32</th>\n",
              "      <th>System load forecast_32</th>\n",
              "      <th>Prices_33</th>\n",
              "      <th>Generation forecast_33</th>\n",
              "      <th>System load forecast_33</th>\n",
              "      <th>Prices_34</th>\n",
              "      <th>Generation forecast_34</th>\n",
              "      <th>System load forecast_34</th>\n",
              "      <th>Prices_35</th>\n",
              "      <th>Generation forecast_35</th>\n",
              "      <th>System load forecast_35</th>\n",
              "      <th>Prices_36</th>\n",
              "      <th>Generation forecast_36</th>\n",
              "      <th>System load forecast_36</th>\n",
              "      <th>Prices_37</th>\n",
              "      <th>...</th>\n",
              "      <th>System load forecast_155</th>\n",
              "      <th>Prices_156</th>\n",
              "      <th>Generation forecast_156</th>\n",
              "      <th>System load forecast_156</th>\n",
              "      <th>Prices_157</th>\n",
              "      <th>Generation forecast_157</th>\n",
              "      <th>System load forecast_157</th>\n",
              "      <th>Prices_158</th>\n",
              "      <th>Generation forecast_158</th>\n",
              "      <th>System load forecast_158</th>\n",
              "      <th>Prices_159</th>\n",
              "      <th>Generation forecast_159</th>\n",
              "      <th>System load forecast_159</th>\n",
              "      <th>Prices_160</th>\n",
              "      <th>Generation forecast_160</th>\n",
              "      <th>System load forecast_160</th>\n",
              "      <th>Prices_161</th>\n",
              "      <th>Generation forecast_161</th>\n",
              "      <th>System load forecast_161</th>\n",
              "      <th>Prices_162</th>\n",
              "      <th>Generation forecast_162</th>\n",
              "      <th>System load forecast_162</th>\n",
              "      <th>Prices_163</th>\n",
              "      <th>Generation forecast_163</th>\n",
              "      <th>System load forecast_163</th>\n",
              "      <th>Prices_164</th>\n",
              "      <th>Generation forecast_164</th>\n",
              "      <th>System load forecast_164</th>\n",
              "      <th>Prices_165</th>\n",
              "      <th>Generation forecast_165</th>\n",
              "      <th>System load forecast_165</th>\n",
              "      <th>Prices_166</th>\n",
              "      <th>Generation forecast_166</th>\n",
              "      <th>System load forecast_166</th>\n",
              "      <th>Prices_167</th>\n",
              "      <th>Generation forecast_167</th>\n",
              "      <th>System load forecast_167</th>\n",
              "      <th>Prices_168</th>\n",
              "      <th>Generation forecast_168</th>\n",
              "      <th>System load forecast_168</th>\n",
              "    </tr>\n",
              "    <tr>\n",
              "      <th>Date</th>\n",
              "      <th></th>\n",
              "      <th></th>\n",
              "      <th></th>\n",
              "      <th></th>\n",
              "      <th></th>\n",
              "      <th></th>\n",
              "      <th></th>\n",
              "      <th></th>\n",
              "      <th></th>\n",
              "      <th></th>\n",
              "      <th></th>\n",
              "      <th></th>\n",
              "      <th></th>\n",
              "      <th></th>\n",
              "      <th></th>\n",
              "      <th></th>\n",
              "      <th></th>\n",
              "      <th></th>\n",
              "      <th></th>\n",
              "      <th></th>\n",
              "      <th></th>\n",
              "      <th></th>\n",
              "      <th></th>\n",
              "      <th></th>\n",
              "      <th></th>\n",
              "      <th></th>\n",
              "      <th></th>\n",
              "      <th></th>\n",
              "      <th></th>\n",
              "      <th></th>\n",
              "      <th></th>\n",
              "      <th></th>\n",
              "      <th></th>\n",
              "      <th></th>\n",
              "      <th></th>\n",
              "      <th></th>\n",
              "      <th></th>\n",
              "      <th></th>\n",
              "      <th></th>\n",
              "      <th></th>\n",
              "      <th></th>\n",
              "      <th></th>\n",
              "      <th></th>\n",
              "      <th></th>\n",
              "      <th></th>\n",
              "      <th></th>\n",
              "      <th></th>\n",
              "      <th></th>\n",
              "      <th></th>\n",
              "      <th></th>\n",
              "      <th></th>\n",
              "      <th></th>\n",
              "      <th></th>\n",
              "      <th></th>\n",
              "      <th></th>\n",
              "      <th></th>\n",
              "      <th></th>\n",
              "      <th></th>\n",
              "      <th></th>\n",
              "      <th></th>\n",
              "      <th></th>\n",
              "      <th></th>\n",
              "      <th></th>\n",
              "      <th></th>\n",
              "      <th></th>\n",
              "      <th></th>\n",
              "      <th></th>\n",
              "      <th></th>\n",
              "      <th></th>\n",
              "      <th></th>\n",
              "      <th></th>\n",
              "      <th></th>\n",
              "      <th></th>\n",
              "      <th></th>\n",
              "      <th></th>\n",
              "      <th></th>\n",
              "      <th></th>\n",
              "      <th></th>\n",
              "      <th></th>\n",
              "      <th></th>\n",
              "      <th></th>\n",
              "    </tr>\n",
              "  </thead>\n",
              "  <tbody>\n",
              "    <tr>\n",
              "      <th>2015-01-04 00:00:00</th>\n",
              "      <td>46.97</td>\n",
              "      <td>73980.0</td>\n",
              "      <td>69805.0</td>\n",
              "      <td>48.45</td>\n",
              "      <td>75410.0</td>\n",
              "      <td>71699.0</td>\n",
              "      <td>48.76</td>\n",
              "      <td>75008.0</td>\n",
              "      <td>67372.0</td>\n",
              "      <td>42.99</td>\n",
              "      <td>75958.0</td>\n",
              "      <td>69294.0</td>\n",
              "      <td>48.81</td>\n",
              "      <td>78528.0</td>\n",
              "      <td>72777.0</td>\n",
              "      <td>53.13</td>\n",
              "      <td>80550.0</td>\n",
              "      <td>74786.0</td>\n",
              "      <td>54.10</td>\n",
              "      <td>78940.0</td>\n",
              "      <td>72133.0</td>\n",
              "      <td>50.24</td>\n",
              "      <td>76272.0</td>\n",
              "      <td>67610.0</td>\n",
              "      <td>39.73</td>\n",
              "      <td>73693.0</td>\n",
              "      <td>65172.0</td>\n",
              "      <td>39.78</td>\n",
              "      <td>74355.0</td>\n",
              "      <td>66287.0</td>\n",
              "      <td>41.00</td>\n",
              "      <td>76170.0</td>\n",
              "      <td>68957.0</td>\n",
              "      <td>44.87</td>\n",
              "      <td>78259.0</td>\n",
              "      <td>72639.0</td>\n",
              "      <td>48.64</td>\n",
              "      <td>79458.0</td>\n",
              "      <td>70865.0</td>\n",
              "      <td>45.30</td>\n",
              "      <td>...</td>\n",
              "      <td>69697.0</td>\n",
              "      <td>40.11</td>\n",
              "      <td>76681.0</td>\n",
              "      <td>67637.0</td>\n",
              "      <td>39.94</td>\n",
              "      <td>75636.0</td>\n",
              "      <td>65600.0</td>\n",
              "      <td>34.09</td>\n",
              "      <td>73645.0</td>\n",
              "      <td>63959.0</td>\n",
              "      <td>32.83</td>\n",
              "      <td>69418.0</td>\n",
              "      <td>60756.0</td>\n",
              "      <td>27.51</td>\n",
              "      <td>65661.0</td>\n",
              "      <td>59630.0</td>\n",
              "      <td>29.99</td>\n",
              "      <td>63990.0</td>\n",
              "      <td>57286.0</td>\n",
              "      <td>29.87</td>\n",
              "      <td>63237.0</td>\n",
              "      <td>55774.0</td>\n",
              "      <td>29.84</td>\n",
              "      <td>62926.0</td>\n",
              "      <td>54542.0</td>\n",
              "      <td>29.54</td>\n",
              "      <td>62178.0</td>\n",
              "      <td>55707.0</td>\n",
              "      <td>27.44</td>\n",
              "      <td>62329.0</td>\n",
              "      <td>58179.0</td>\n",
              "      <td>20.73</td>\n",
              "      <td>65607.0</td>\n",
              "      <td>61516.0</td>\n",
              "      <td>28.75</td>\n",
              "      <td>67052.0</td>\n",
              "      <td>61648.0</td>\n",
              "      <td>29.99</td>\n",
              "      <td>69498.0</td>\n",
              "      <td>65967.0</td>\n",
              "    </tr>\n",
              "    <tr>\n",
              "      <th>2015-01-04 01:00:00</th>\n",
              "      <td>43.27</td>\n",
              "      <td>71309.0</td>\n",
              "      <td>65463.0</td>\n",
              "      <td>46.97</td>\n",
              "      <td>73980.0</td>\n",
              "      <td>69805.0</td>\n",
              "      <td>48.45</td>\n",
              "      <td>75410.0</td>\n",
              "      <td>71699.0</td>\n",
              "      <td>48.76</td>\n",
              "      <td>75008.0</td>\n",
              "      <td>67372.0</td>\n",
              "      <td>42.99</td>\n",
              "      <td>75958.0</td>\n",
              "      <td>69294.0</td>\n",
              "      <td>48.81</td>\n",
              "      <td>78528.0</td>\n",
              "      <td>72777.0</td>\n",
              "      <td>53.13</td>\n",
              "      <td>80550.0</td>\n",
              "      <td>74786.0</td>\n",
              "      <td>54.10</td>\n",
              "      <td>78940.0</td>\n",
              "      <td>72133.0</td>\n",
              "      <td>50.24</td>\n",
              "      <td>76272.0</td>\n",
              "      <td>67610.0</td>\n",
              "      <td>39.73</td>\n",
              "      <td>73693.0</td>\n",
              "      <td>65172.0</td>\n",
              "      <td>39.78</td>\n",
              "      <td>74355.0</td>\n",
              "      <td>66287.0</td>\n",
              "      <td>41.00</td>\n",
              "      <td>76170.0</td>\n",
              "      <td>68957.0</td>\n",
              "      <td>44.87</td>\n",
              "      <td>78259.0</td>\n",
              "      <td>72639.0</td>\n",
              "      <td>48.64</td>\n",
              "      <td>...</td>\n",
              "      <td>64760.0</td>\n",
              "      <td>41.54</td>\n",
              "      <td>76073.0</td>\n",
              "      <td>69697.0</td>\n",
              "      <td>40.11</td>\n",
              "      <td>76681.0</td>\n",
              "      <td>67637.0</td>\n",
              "      <td>39.94</td>\n",
              "      <td>75636.0</td>\n",
              "      <td>65600.0</td>\n",
              "      <td>34.09</td>\n",
              "      <td>73645.0</td>\n",
              "      <td>63959.0</td>\n",
              "      <td>32.83</td>\n",
              "      <td>69418.0</td>\n",
              "      <td>60756.0</td>\n",
              "      <td>27.51</td>\n",
              "      <td>65661.0</td>\n",
              "      <td>59630.0</td>\n",
              "      <td>29.99</td>\n",
              "      <td>63990.0</td>\n",
              "      <td>57286.0</td>\n",
              "      <td>29.87</td>\n",
              "      <td>63237.0</td>\n",
              "      <td>55774.0</td>\n",
              "      <td>29.84</td>\n",
              "      <td>62926.0</td>\n",
              "      <td>54542.0</td>\n",
              "      <td>29.54</td>\n",
              "      <td>62178.0</td>\n",
              "      <td>55707.0</td>\n",
              "      <td>27.44</td>\n",
              "      <td>62329.0</td>\n",
              "      <td>58179.0</td>\n",
              "      <td>20.73</td>\n",
              "      <td>65607.0</td>\n",
              "      <td>61516.0</td>\n",
              "      <td>28.75</td>\n",
              "      <td>67052.0</td>\n",
              "      <td>61648.0</td>\n",
              "    </tr>\n",
              "    <tr>\n",
              "      <th>2015-01-04 02:00:00</th>\n",
              "      <td>41.76</td>\n",
              "      <td>70103.0</td>\n",
              "      <td>66061.0</td>\n",
              "      <td>43.27</td>\n",
              "      <td>71309.0</td>\n",
              "      <td>65463.0</td>\n",
              "      <td>46.97</td>\n",
              "      <td>73980.0</td>\n",
              "      <td>69805.0</td>\n",
              "      <td>48.45</td>\n",
              "      <td>75410.0</td>\n",
              "      <td>71699.0</td>\n",
              "      <td>48.76</td>\n",
              "      <td>75008.0</td>\n",
              "      <td>67372.0</td>\n",
              "      <td>42.99</td>\n",
              "      <td>75958.0</td>\n",
              "      <td>69294.0</td>\n",
              "      <td>48.81</td>\n",
              "      <td>78528.0</td>\n",
              "      <td>72777.0</td>\n",
              "      <td>53.13</td>\n",
              "      <td>80550.0</td>\n",
              "      <td>74786.0</td>\n",
              "      <td>54.10</td>\n",
              "      <td>78940.0</td>\n",
              "      <td>72133.0</td>\n",
              "      <td>50.24</td>\n",
              "      <td>76272.0</td>\n",
              "      <td>67610.0</td>\n",
              "      <td>39.73</td>\n",
              "      <td>73693.0</td>\n",
              "      <td>65172.0</td>\n",
              "      <td>39.78</td>\n",
              "      <td>74355.0</td>\n",
              "      <td>66287.0</td>\n",
              "      <td>41.00</td>\n",
              "      <td>76170.0</td>\n",
              "      <td>68957.0</td>\n",
              "      <td>44.87</td>\n",
              "      <td>...</td>\n",
              "      <td>62429.0</td>\n",
              "      <td>42.23</td>\n",
              "      <td>73630.0</td>\n",
              "      <td>64760.0</td>\n",
              "      <td>41.54</td>\n",
              "      <td>76073.0</td>\n",
              "      <td>69697.0</td>\n",
              "      <td>40.11</td>\n",
              "      <td>76681.0</td>\n",
              "      <td>67637.0</td>\n",
              "      <td>39.94</td>\n",
              "      <td>75636.0</td>\n",
              "      <td>65600.0</td>\n",
              "      <td>34.09</td>\n",
              "      <td>73645.0</td>\n",
              "      <td>63959.0</td>\n",
              "      <td>32.83</td>\n",
              "      <td>69418.0</td>\n",
              "      <td>60756.0</td>\n",
              "      <td>27.51</td>\n",
              "      <td>65661.0</td>\n",
              "      <td>59630.0</td>\n",
              "      <td>29.99</td>\n",
              "      <td>63990.0</td>\n",
              "      <td>57286.0</td>\n",
              "      <td>29.87</td>\n",
              "      <td>63237.0</td>\n",
              "      <td>55774.0</td>\n",
              "      <td>29.84</td>\n",
              "      <td>62926.0</td>\n",
              "      <td>54542.0</td>\n",
              "      <td>29.54</td>\n",
              "      <td>62178.0</td>\n",
              "      <td>55707.0</td>\n",
              "      <td>27.44</td>\n",
              "      <td>62329.0</td>\n",
              "      <td>58179.0</td>\n",
              "      <td>20.73</td>\n",
              "      <td>65607.0</td>\n",
              "      <td>61516.0</td>\n",
              "    </tr>\n",
              "    <tr>\n",
              "      <th>2015-01-04 03:00:00</th>\n",
              "      <td>37.54</td>\n",
              "      <td>67577.0</td>\n",
              "      <td>62638.0</td>\n",
              "      <td>41.76</td>\n",
              "      <td>70103.0</td>\n",
              "      <td>66061.0</td>\n",
              "      <td>43.27</td>\n",
              "      <td>71309.0</td>\n",
              "      <td>65463.0</td>\n",
              "      <td>46.97</td>\n",
              "      <td>73980.0</td>\n",
              "      <td>69805.0</td>\n",
              "      <td>48.45</td>\n",
              "      <td>75410.0</td>\n",
              "      <td>71699.0</td>\n",
              "      <td>48.76</td>\n",
              "      <td>75008.0</td>\n",
              "      <td>67372.0</td>\n",
              "      <td>42.99</td>\n",
              "      <td>75958.0</td>\n",
              "      <td>69294.0</td>\n",
              "      <td>48.81</td>\n",
              "      <td>78528.0</td>\n",
              "      <td>72777.0</td>\n",
              "      <td>53.13</td>\n",
              "      <td>80550.0</td>\n",
              "      <td>74786.0</td>\n",
              "      <td>54.10</td>\n",
              "      <td>78940.0</td>\n",
              "      <td>72133.0</td>\n",
              "      <td>50.24</td>\n",
              "      <td>76272.0</td>\n",
              "      <td>67610.0</td>\n",
              "      <td>39.73</td>\n",
              "      <td>73693.0</td>\n",
              "      <td>65172.0</td>\n",
              "      <td>39.78</td>\n",
              "      <td>74355.0</td>\n",
              "      <td>66287.0</td>\n",
              "      <td>41.00</td>\n",
              "      <td>...</td>\n",
              "      <td>61830.0</td>\n",
              "      <td>45.12</td>\n",
              "      <td>72087.0</td>\n",
              "      <td>62429.0</td>\n",
              "      <td>42.23</td>\n",
              "      <td>73630.0</td>\n",
              "      <td>64760.0</td>\n",
              "      <td>41.54</td>\n",
              "      <td>76073.0</td>\n",
              "      <td>69697.0</td>\n",
              "      <td>40.11</td>\n",
              "      <td>76681.0</td>\n",
              "      <td>67637.0</td>\n",
              "      <td>39.94</td>\n",
              "      <td>75636.0</td>\n",
              "      <td>65600.0</td>\n",
              "      <td>34.09</td>\n",
              "      <td>73645.0</td>\n",
              "      <td>63959.0</td>\n",
              "      <td>32.83</td>\n",
              "      <td>69418.0</td>\n",
              "      <td>60756.0</td>\n",
              "      <td>27.51</td>\n",
              "      <td>65661.0</td>\n",
              "      <td>59630.0</td>\n",
              "      <td>29.99</td>\n",
              "      <td>63990.0</td>\n",
              "      <td>57286.0</td>\n",
              "      <td>29.87</td>\n",
              "      <td>63237.0</td>\n",
              "      <td>55774.0</td>\n",
              "      <td>29.84</td>\n",
              "      <td>62926.0</td>\n",
              "      <td>54542.0</td>\n",
              "      <td>29.54</td>\n",
              "      <td>62178.0</td>\n",
              "      <td>55707.0</td>\n",
              "      <td>27.44</td>\n",
              "      <td>62329.0</td>\n",
              "      <td>58179.0</td>\n",
              "    </tr>\n",
              "    <tr>\n",
              "      <th>2015-01-04 04:00:00</th>\n",
              "      <td>32.99</td>\n",
              "      <td>66894.0</td>\n",
              "      <td>60446.0</td>\n",
              "      <td>37.54</td>\n",
              "      <td>67577.0</td>\n",
              "      <td>62638.0</td>\n",
              "      <td>41.76</td>\n",
              "      <td>70103.0</td>\n",
              "      <td>66061.0</td>\n",
              "      <td>43.27</td>\n",
              "      <td>71309.0</td>\n",
              "      <td>65463.0</td>\n",
              "      <td>46.97</td>\n",
              "      <td>73980.0</td>\n",
              "      <td>69805.0</td>\n",
              "      <td>48.45</td>\n",
              "      <td>75410.0</td>\n",
              "      <td>71699.0</td>\n",
              "      <td>48.76</td>\n",
              "      <td>75008.0</td>\n",
              "      <td>67372.0</td>\n",
              "      <td>42.99</td>\n",
              "      <td>75958.0</td>\n",
              "      <td>69294.0</td>\n",
              "      <td>48.81</td>\n",
              "      <td>78528.0</td>\n",
              "      <td>72777.0</td>\n",
              "      <td>53.13</td>\n",
              "      <td>80550.0</td>\n",
              "      <td>74786.0</td>\n",
              "      <td>54.10</td>\n",
              "      <td>78940.0</td>\n",
              "      <td>72133.0</td>\n",
              "      <td>50.24</td>\n",
              "      <td>76272.0</td>\n",
              "      <td>67610.0</td>\n",
              "      <td>39.73</td>\n",
              "      <td>73693.0</td>\n",
              "      <td>65172.0</td>\n",
              "      <td>39.78</td>\n",
              "      <td>...</td>\n",
              "      <td>64209.0</td>\n",
              "      <td>49.94</td>\n",
              "      <td>72165.0</td>\n",
              "      <td>61830.0</td>\n",
              "      <td>45.12</td>\n",
              "      <td>72087.0</td>\n",
              "      <td>62429.0</td>\n",
              "      <td>42.23</td>\n",
              "      <td>73630.0</td>\n",
              "      <td>64760.0</td>\n",
              "      <td>41.54</td>\n",
              "      <td>76073.0</td>\n",
              "      <td>69697.0</td>\n",
              "      <td>40.11</td>\n",
              "      <td>76681.0</td>\n",
              "      <td>67637.0</td>\n",
              "      <td>39.94</td>\n",
              "      <td>75636.0</td>\n",
              "      <td>65600.0</td>\n",
              "      <td>34.09</td>\n",
              "      <td>73645.0</td>\n",
              "      <td>63959.0</td>\n",
              "      <td>32.83</td>\n",
              "      <td>69418.0</td>\n",
              "      <td>60756.0</td>\n",
              "      <td>27.51</td>\n",
              "      <td>65661.0</td>\n",
              "      <td>59630.0</td>\n",
              "      <td>29.99</td>\n",
              "      <td>63990.0</td>\n",
              "      <td>57286.0</td>\n",
              "      <td>29.87</td>\n",
              "      <td>63237.0</td>\n",
              "      <td>55774.0</td>\n",
              "      <td>29.84</td>\n",
              "      <td>62926.0</td>\n",
              "      <td>54542.0</td>\n",
              "      <td>29.54</td>\n",
              "      <td>62178.0</td>\n",
              "      <td>55707.0</td>\n",
              "    </tr>\n",
              "  </tbody>\n",
              "</table>\n",
              "<p>5 rows × 435 columns</p>\n",
              "</div>\n",
              "      <button class=\"colab-df-convert\" onclick=\"convertToInteractive('df-4139ebd3-ed24-4c3a-b007-e51f6527c276')\"\n",
              "              title=\"Convert this dataframe to an interactive table.\"\n",
              "              style=\"display:none;\">\n",
              "        \n",
              "  <svg xmlns=\"http://www.w3.org/2000/svg\" height=\"24px\"viewBox=\"0 0 24 24\"\n",
              "       width=\"24px\">\n",
              "    <path d=\"M0 0h24v24H0V0z\" fill=\"none\"/>\n",
              "    <path d=\"M18.56 5.44l.94 2.06.94-2.06 2.06-.94-2.06-.94-.94-2.06-.94 2.06-2.06.94zm-11 1L8.5 8.5l.94-2.06 2.06-.94-2.06-.94L8.5 2.5l-.94 2.06-2.06.94zm10 10l.94 2.06.94-2.06 2.06-.94-2.06-.94-.94-2.06-.94 2.06-2.06.94z\"/><path d=\"M17.41 7.96l-1.37-1.37c-.4-.4-.92-.59-1.43-.59-.52 0-1.04.2-1.43.59L10.3 9.45l-7.72 7.72c-.78.78-.78 2.05 0 2.83L4 21.41c.39.39.9.59 1.41.59.51 0 1.02-.2 1.41-.59l7.78-7.78 2.81-2.81c.8-.78.8-2.07 0-2.86zM5.41 20L4 18.59l7.72-7.72 1.47 1.35L5.41 20z\"/>\n",
              "  </svg>\n",
              "      </button>\n",
              "      \n",
              "  <style>\n",
              "    .colab-df-container {\n",
              "      display:flex;\n",
              "      flex-wrap:wrap;\n",
              "      gap: 12px;\n",
              "    }\n",
              "\n",
              "    .colab-df-convert {\n",
              "      background-color: #E8F0FE;\n",
              "      border: none;\n",
              "      border-radius: 50%;\n",
              "      cursor: pointer;\n",
              "      display: none;\n",
              "      fill: #1967D2;\n",
              "      height: 32px;\n",
              "      padding: 0 0 0 0;\n",
              "      width: 32px;\n",
              "    }\n",
              "\n",
              "    .colab-df-convert:hover {\n",
              "      background-color: #E2EBFA;\n",
              "      box-shadow: 0px 1px 2px rgba(60, 64, 67, 0.3), 0px 1px 3px 1px rgba(60, 64, 67, 0.15);\n",
              "      fill: #174EA6;\n",
              "    }\n",
              "\n",
              "    [theme=dark] .colab-df-convert {\n",
              "      background-color: #3B4455;\n",
              "      fill: #D2E3FC;\n",
              "    }\n",
              "\n",
              "    [theme=dark] .colab-df-convert:hover {\n",
              "      background-color: #434B5C;\n",
              "      box-shadow: 0px 1px 3px 1px rgba(0, 0, 0, 0.15);\n",
              "      filter: drop-shadow(0px 1px 2px rgba(0, 0, 0, 0.3));\n",
              "      fill: #FFFFFF;\n",
              "    }\n",
              "  </style>\n",
              "\n",
              "      <script>\n",
              "        const buttonEl =\n",
              "          document.querySelector('#df-4139ebd3-ed24-4c3a-b007-e51f6527c276 button.colab-df-convert');\n",
              "        buttonEl.style.display =\n",
              "          google.colab.kernel.accessAllowed ? 'block' : 'none';\n",
              "\n",
              "        async function convertToInteractive(key) {\n",
              "          const element = document.querySelector('#df-4139ebd3-ed24-4c3a-b007-e51f6527c276');\n",
              "          const dataTable =\n",
              "            await google.colab.kernel.invokeFunction('convertToInteractive',\n",
              "                                                     [key], {});\n",
              "          if (!dataTable) return;\n",
              "\n",
              "          const docLinkHtml = 'Like what you see? Visit the ' +\n",
              "            '<a target=\"_blank\" href=https://colab.research.google.com/notebooks/data_table.ipynb>data table notebook</a>'\n",
              "            + ' to learn more about interactive tables.';\n",
              "          element.innerHTML = '';\n",
              "          dataTable['output_type'] = 'display_data';\n",
              "          await google.colab.output.renderOutput(dataTable, element);\n",
              "          const docLink = document.createElement('div');\n",
              "          docLink.innerHTML = docLinkHtml;\n",
              "          element.appendChild(docLink);\n",
              "        }\n",
              "      </script>\n",
              "    </div>\n",
              "  </div>\n",
              "  "
            ],
            "text/plain": [
              "                      Prices_24  ...   System load forecast_168\n",
              "Date                             ...                           \n",
              "2015-01-04 00:00:00       46.97  ...                    65967.0\n",
              "2015-01-04 01:00:00       43.27  ...                    61648.0\n",
              "2015-01-04 02:00:00       41.76  ...                    61516.0\n",
              "2015-01-04 03:00:00       37.54  ...                    58179.0\n",
              "2015-01-04 04:00:00       32.99  ...                    55707.0\n",
              "\n",
              "[5 rows x 435 columns]"
            ]
          },
          "metadata": {},
          "execution_count": 10
        }
      ],
      "source": [
        "x_test.head()"
      ]
    },
    {
      "cell_type": "code",
      "execution_count": null,
      "metadata": {
        "colab": {
          "base_uri": "https://localhost:8080/"
        },
        "id": "VyJfsXh8PdTH",
        "outputId": "bb8c2afe-3b1c-48f9-c856-39ee7ddd9b51"
      },
      "outputs": [
        {
          "output_type": "stream",
          "name": "stderr",
          "text": [
            "/usr/local/lib/python3.7/dist-packages/sklearn/ensemble/_forest.py:407: FutureWarning: Criterion 'mae' was deprecated in v1.0 and will be removed in version 1.2. Use `criterion='absolute_error'` which is equivalent.\n",
            "  FutureWarning,\n"
          ]
        },
        {
          "output_type": "execute_result",
          "data": {
            "text/plain": [
              "RandomForestRegressor(criterion='mae', max_depth=1, max_features=2,\n",
              "                      n_estimators=10)"
            ]
          },
          "metadata": {},
          "execution_count": 11
        }
      ],
      "source": [
        "rf = RandomForestRegressor(n_estimators=10, max_features=2,\n",
        "    criterion='mae',\n",
        "    max_depth=1)\n",
        "\n",
        "    \n",
        "rf.fit(x_train, y_train)"
      ]
    },
    {
      "cell_type": "code",
      "execution_count": null,
      "metadata": {
        "id": "AkIIGI1hQncU"
      },
      "outputs": [],
      "source": [
        "y_test = pd.DataFrame(y_test)"
      ]
    },
    {
      "cell_type": "code",
      "execution_count": null,
      "metadata": {
        "id": "xE65TizBQqjI"
      },
      "outputs": [],
      "source": [
        "y_pred = rf.predict(x_test)"
      ]
    },
    {
      "cell_type": "code",
      "execution_count": null,
      "metadata": {
        "id": "UeYrK7xWQtJT"
      },
      "outputs": [],
      "source": [
        "y_test['predictions'] = y_pred"
      ]
    },
    {
      "cell_type": "code",
      "execution_count": null,
      "metadata": {
        "colab": {
          "base_uri": "https://localhost:8080/"
        },
        "id": "6HRdncWdQxBl",
        "outputId": "2994d6dc-fc26-4363-a898-eb282af6c799"
      },
      "outputs": [
        {
          "output_type": "execute_result",
          "data": {
            "text/plain": [
              "104.4506021837986"
            ]
          },
          "metadata": {},
          "execution_count": 15
        }
      ],
      "source": [
        "y_test['difference'] = np.abs(y_test[' Prices'] - y_test['predictions'])\n",
        "y_test['% error'] = (y_test['difference']/y_test[' Prices'])*100\n",
        "np.mean(y_test['% error'])"
      ]
    },
    {
      "cell_type": "code",
      "execution_count": null,
      "metadata": {
        "id": "fpg7sFUEQ0j8"
      },
      "outputs": [],
      "source": [
        "y_test['% error'] = (y_test['difference']/y_test[' Prices'])*100"
      ]
    },
    {
      "cell_type": "code",
      "execution_count": null,
      "metadata": {
        "colab": {
          "base_uri": "https://localhost:8080/",
          "height": 628
        },
        "id": "7HnBiGgYQ313",
        "outputId": "5555ddf1-6fa2-4be3-c551-58b2e84d40eb"
      },
      "outputs": [
        {
          "output_type": "execute_result",
          "data": {
            "text/html": [
              "\n",
              "  <div id=\"df-6ec821de-5213-4b92-8925-c91189aa34a3\">\n",
              "    <div class=\"colab-df-container\">\n",
              "      <div>\n",
              "<style scoped>\n",
              "    .dataframe tbody tr th:only-of-type {\n",
              "        vertical-align: middle;\n",
              "    }\n",
              "\n",
              "    .dataframe tbody tr th {\n",
              "        vertical-align: top;\n",
              "    }\n",
              "\n",
              "    .dataframe thead th {\n",
              "        text-align: right;\n",
              "    }\n",
              "</style>\n",
              "<table border=\"1\" class=\"dataframe\">\n",
              "  <thead>\n",
              "    <tr style=\"text-align: right;\">\n",
              "      <th></th>\n",
              "      <th>Prices</th>\n",
              "      <th>predictions</th>\n",
              "      <th>difference</th>\n",
              "      <th>% error</th>\n",
              "    </tr>\n",
              "    <tr>\n",
              "      <th>Date</th>\n",
              "      <th></th>\n",
              "      <th></th>\n",
              "      <th></th>\n",
              "      <th></th>\n",
              "    </tr>\n",
              "  </thead>\n",
              "  <tbody>\n",
              "    <tr>\n",
              "      <th>2015-01-04 00:00:00</th>\n",
              "      <td>36.26</td>\n",
              "      <td>50.9330</td>\n",
              "      <td>14.6730</td>\n",
              "      <td>40.466078</td>\n",
              "    </tr>\n",
              "    <tr>\n",
              "      <th>2015-01-04 01:00:00</th>\n",
              "      <td>32.28</td>\n",
              "      <td>50.9330</td>\n",
              "      <td>18.6530</td>\n",
              "      <td>57.785006</td>\n",
              "    </tr>\n",
              "    <tr>\n",
              "      <th>2015-01-04 02:00:00</th>\n",
              "      <td>27.63</td>\n",
              "      <td>49.3935</td>\n",
              "      <td>21.7635</td>\n",
              "      <td>78.767644</td>\n",
              "    </tr>\n",
              "    <tr>\n",
              "      <th>2015-01-04 03:00:00</th>\n",
              "      <td>27.03</td>\n",
              "      <td>48.0585</td>\n",
              "      <td>21.0285</td>\n",
              "      <td>77.796892</td>\n",
              "    </tr>\n",
              "    <tr>\n",
              "      <th>2015-01-04 04:00:00</th>\n",
              "      <td>27.04</td>\n",
              "      <td>48.0585</td>\n",
              "      <td>21.0185</td>\n",
              "      <td>77.731139</td>\n",
              "    </tr>\n",
              "    <tr>\n",
              "      <th>...</th>\n",
              "      <td>...</td>\n",
              "      <td>...</td>\n",
              "      <td>...</td>\n",
              "      <td>...</td>\n",
              "    </tr>\n",
              "    <tr>\n",
              "      <th>2016-12-31 19:00:00</th>\n",
              "      <td>40.84</td>\n",
              "      <td>47.8085</td>\n",
              "      <td>6.9685</td>\n",
              "      <td>17.062929</td>\n",
              "    </tr>\n",
              "    <tr>\n",
              "      <th>2016-12-31 20:00:00</th>\n",
              "      <td>40.10</td>\n",
              "      <td>47.1995</td>\n",
              "      <td>7.0995</td>\n",
              "      <td>17.704489</td>\n",
              "    </tr>\n",
              "    <tr>\n",
              "      <th>2016-12-31 21:00:00</th>\n",
              "      <td>36.00</td>\n",
              "      <td>47.1995</td>\n",
              "      <td>11.1995</td>\n",
              "      <td>31.109722</td>\n",
              "    </tr>\n",
              "    <tr>\n",
              "      <th>2016-12-31 22:00:00</th>\n",
              "      <td>35.00</td>\n",
              "      <td>47.1995</td>\n",
              "      <td>12.1995</td>\n",
              "      <td>34.855714</td>\n",
              "    </tr>\n",
              "    <tr>\n",
              "      <th>2016-12-31 23:00:00</th>\n",
              "      <td>34.94</td>\n",
              "      <td>48.0585</td>\n",
              "      <td>13.1185</td>\n",
              "      <td>37.545793</td>\n",
              "    </tr>\n",
              "  </tbody>\n",
              "</table>\n",
              "<p>17472 rows × 4 columns</p>\n",
              "</div>\n",
              "      <button class=\"colab-df-convert\" onclick=\"convertToInteractive('df-6ec821de-5213-4b92-8925-c91189aa34a3')\"\n",
              "              title=\"Convert this dataframe to an interactive table.\"\n",
              "              style=\"display:none;\">\n",
              "        \n",
              "  <svg xmlns=\"http://www.w3.org/2000/svg\" height=\"24px\"viewBox=\"0 0 24 24\"\n",
              "       width=\"24px\">\n",
              "    <path d=\"M0 0h24v24H0V0z\" fill=\"none\"/>\n",
              "    <path d=\"M18.56 5.44l.94 2.06.94-2.06 2.06-.94-2.06-.94-.94-2.06-.94 2.06-2.06.94zm-11 1L8.5 8.5l.94-2.06 2.06-.94-2.06-.94L8.5 2.5l-.94 2.06-2.06.94zm10 10l.94 2.06.94-2.06 2.06-.94-2.06-.94-.94-2.06-.94 2.06-2.06.94z\"/><path d=\"M17.41 7.96l-1.37-1.37c-.4-.4-.92-.59-1.43-.59-.52 0-1.04.2-1.43.59L10.3 9.45l-7.72 7.72c-.78.78-.78 2.05 0 2.83L4 21.41c.39.39.9.59 1.41.59.51 0 1.02-.2 1.41-.59l7.78-7.78 2.81-2.81c.8-.78.8-2.07 0-2.86zM5.41 20L4 18.59l7.72-7.72 1.47 1.35L5.41 20z\"/>\n",
              "  </svg>\n",
              "      </button>\n",
              "      \n",
              "  <style>\n",
              "    .colab-df-container {\n",
              "      display:flex;\n",
              "      flex-wrap:wrap;\n",
              "      gap: 12px;\n",
              "    }\n",
              "\n",
              "    .colab-df-convert {\n",
              "      background-color: #E8F0FE;\n",
              "      border: none;\n",
              "      border-radius: 50%;\n",
              "      cursor: pointer;\n",
              "      display: none;\n",
              "      fill: #1967D2;\n",
              "      height: 32px;\n",
              "      padding: 0 0 0 0;\n",
              "      width: 32px;\n",
              "    }\n",
              "\n",
              "    .colab-df-convert:hover {\n",
              "      background-color: #E2EBFA;\n",
              "      box-shadow: 0px 1px 2px rgba(60, 64, 67, 0.3), 0px 1px 3px 1px rgba(60, 64, 67, 0.15);\n",
              "      fill: #174EA6;\n",
              "    }\n",
              "\n",
              "    [theme=dark] .colab-df-convert {\n",
              "      background-color: #3B4455;\n",
              "      fill: #D2E3FC;\n",
              "    }\n",
              "\n",
              "    [theme=dark] .colab-df-convert:hover {\n",
              "      background-color: #434B5C;\n",
              "      box-shadow: 0px 1px 3px 1px rgba(0, 0, 0, 0.15);\n",
              "      filter: drop-shadow(0px 1px 2px rgba(0, 0, 0, 0.3));\n",
              "      fill: #FFFFFF;\n",
              "    }\n",
              "  </style>\n",
              "\n",
              "      <script>\n",
              "        const buttonEl =\n",
              "          document.querySelector('#df-6ec821de-5213-4b92-8925-c91189aa34a3 button.colab-df-convert');\n",
              "        buttonEl.style.display =\n",
              "          google.colab.kernel.accessAllowed ? 'block' : 'none';\n",
              "\n",
              "        async function convertToInteractive(key) {\n",
              "          const element = document.querySelector('#df-6ec821de-5213-4b92-8925-c91189aa34a3');\n",
              "          const dataTable =\n",
              "            await google.colab.kernel.invokeFunction('convertToInteractive',\n",
              "                                                     [key], {});\n",
              "          if (!dataTable) return;\n",
              "\n",
              "          const docLinkHtml = 'Like what you see? Visit the ' +\n",
              "            '<a target=\"_blank\" href=https://colab.research.google.com/notebooks/data_table.ipynb>data table notebook</a>'\n",
              "            + ' to learn more about interactive tables.';\n",
              "          element.innerHTML = '';\n",
              "          dataTable['output_type'] = 'display_data';\n",
              "          await google.colab.output.renderOutput(dataTable, element);\n",
              "          const docLink = document.createElement('div');\n",
              "          docLink.innerHTML = docLinkHtml;\n",
              "          element.appendChild(docLink);\n",
              "        }\n",
              "      </script>\n",
              "    </div>\n",
              "  </div>\n",
              "  "
            ],
            "text/plain": [
              "                      Prices  predictions  difference    % error\n",
              "Date                                                            \n",
              "2015-01-04 00:00:00    36.26      50.9330     14.6730  40.466078\n",
              "2015-01-04 01:00:00    32.28      50.9330     18.6530  57.785006\n",
              "2015-01-04 02:00:00    27.63      49.3935     21.7635  78.767644\n",
              "2015-01-04 03:00:00    27.03      48.0585     21.0285  77.796892\n",
              "2015-01-04 04:00:00    27.04      48.0585     21.0185  77.731139\n",
              "...                      ...          ...         ...        ...\n",
              "2016-12-31 19:00:00    40.84      47.8085      6.9685  17.062929\n",
              "2016-12-31 20:00:00    40.10      47.1995      7.0995  17.704489\n",
              "2016-12-31 21:00:00    36.00      47.1995     11.1995  31.109722\n",
              "2016-12-31 22:00:00    35.00      47.1995     12.1995  34.855714\n",
              "2016-12-31 23:00:00    34.94      48.0585     13.1185  37.545793\n",
              "\n",
              "[17472 rows x 4 columns]"
            ]
          },
          "metadata": {},
          "execution_count": 17
        }
      ],
      "source": [
        "y_test"
      ]
    },
    {
      "cell_type": "code",
      "execution_count": null,
      "metadata": {
        "colab": {
          "base_uri": "https://localhost:8080/"
        },
        "id": "a08tUAbqQ75N",
        "outputId": "a73171c9-b8e9-4b7c-c05b-21163a495cab"
      },
      "outputs": [
        {
          "output_type": "execute_result",
          "data": {
            "text/plain": [
              "104.4506021837986"
            ]
          },
          "metadata": {},
          "execution_count": 18
        }
      ],
      "source": [
        "np.mean(y_test['% error'])"
      ]
    },
    {
      "cell_type": "code",
      "execution_count": null,
      "metadata": {
        "id": "aEebIT4BRGGJ"
      },
      "outputs": [],
      "source": [
        "y_test.drop(y_test.loc[y_test['% error'] > 2000].index, inplace = True)"
      ]
    },
    {
      "cell_type": "code",
      "execution_count": null,
      "metadata": {
        "colab": {
          "base_uri": "https://localhost:8080/"
        },
        "id": "B5u09oqiRKPL",
        "outputId": "97c6b6be-ebf3-4a10-a7aa-31985e9f1642"
      },
      "outputs": [
        {
          "output_type": "execute_result",
          "data": {
            "text/plain": [
              "1469.0974377326313"
            ]
          },
          "metadata": {},
          "execution_count": 20
        }
      ],
      "source": [
        "np.mean(np.abs(y_test[' Prices'] - y_test['predictions']) * 100)"
      ]
    },
    {
      "cell_type": "code",
      "execution_count": null,
      "metadata": {
        "colab": {
          "base_uri": "https://localhost:8080/",
          "height": 290
        },
        "id": "y6K1n6pZROJd",
        "outputId": "90eefc83-6fec-4f67-fb4d-d9e1b62a8881"
      },
      "outputs": [
        {
          "output_type": "execute_result",
          "data": {
            "text/plain": [
              "<matplotlib.axes._subplots.AxesSubplot at 0x7fbadd5c2ad0>"
            ]
          },
          "metadata": {},
          "execution_count": 21
        },
        {
          "output_type": "display_data",
          "data": {
            "image/png": "[encoded data removed]",
            "text/plain": [
              "<Figure size 432x288 with 1 Axes>"
            ]
          },
          "metadata": {
            "needs_background": "light"
          }
        }
      ],
      "source": [
        "feat_importances = pd.Series(rf.feature_importances_, index=df_lagged.columns)\n",
        "feat_importances.nlargest(10).plot(kind='barh')"
      ]
    },
    {
      "cell_type": "code",
      "execution_count": null,
      "metadata": {
        "id": "N-TpMbZwRa09"
      },
      "outputs": [],
      "source": [
        "from sklearn.model_selection import GridSearchCV\n",
        "# Number of trees in random forest\n",
        "# n_estimators = [int(x) for x in np.linspace(start = 200, stop = 2000, num = 10)]\n",
        "# Number of features to consider at every split\n",
        "# max_features = ['auto', 'sqrt']\n",
        "# Maximum number of levels in tree\n",
        "# max_depth = [int(x) for x in np.linspace(10, 110, num = 11)]\n",
        "# max_depth.append(None)\n",
        "# Minimum number of samples required to split a node\n",
        "# min_samples_split = [2, 5, 10]\n",
        "# Minimum number of samples required at each leaf node\n",
        "# min_samples_leaf = [1, 2, 4]\n",
        "# Method of selecting samples for training each tree\n",
        "# bootstrap = [True, False]\n",
        "# Create the random grid\n",
        "gridsearch = {'bootstrap': [True],\n",
        "     'max_depth': [10, 250],\n",
        "     'min_samples_leaf': [2, 5],\n",
        "     'n_estimators': [100, 200]}\n",
        "# print(gridsearch)\n",
        "# {'bootstrap': [True],\n",
        "#  'max_depth': [10, 50, 250,1000],\n",
        "#  'max_features': [2, 'sqrt'],\n",
        "#  'min_samples_leaf': [1, 4],\n",
        "#  'min_samples_split': [2, 5, 10],\n",
        "#  'n_estimators': [200, 1000, 2000]}"
      ]
    },
    {
      "cell_type": "code",
      "execution_count": null,
      "metadata": {
        "id": "rdIEoAdJSK_G"
      },
      "outputs": [],
      "source": [
        "rf = RandomForestRegressor()\n",
        "# Random search of parameters, using 3 fold cross validation, \n",
        "# search across 100 different combinations, and use all available cores\n",
        "rf_GridSearch = GridSearchCV(\n",
        " estimator = rf, \n",
        " param_grid = gridsearch, \n",
        " cv = 2,\n",
        " verbose=2, \n",
        " n_jobs = 1)"
      ]
    },
    {
      "cell_type": "code",
      "execution_count": null,
      "metadata": {
        "colab": {
          "base_uri": "https://localhost:8080/"
        },
        "id": "LXDBxZvVSRCg",
        "outputId": "93c0421e-9f41-46f1-d2f1-5bfed64d9e84"
      },
      "outputs": [
        {
          "output_type": "stream",
          "name": "stdout",
          "text": [
            "Fitting 2 folds for each of 8 candidates, totalling 16 fits\n",
            "[CV] END bootstrap=True, max_depth=10, min_samples_leaf=2, n_estimators=100; total time= 4.9min\n",
            "[CV] END bootstrap=True, max_depth=10, min_samples_leaf=2, n_estimators=100; total time= 5.0min\n",
            "[CV] END bootstrap=True, max_depth=10, min_samples_leaf=2, n_estimators=200; total time= 9.8min\n",
            "[CV] END bootstrap=True, max_depth=10, min_samples_leaf=2, n_estimators=200; total time=10.1min\n",
            "[CV] END bootstrap=True, max_depth=10, min_samples_leaf=5, n_estimators=100; total time= 4.9min\n",
            "[CV] END bootstrap=True, max_depth=10, min_samples_leaf=5, n_estimators=100; total time= 5.0min\n",
            "[CV] END bootstrap=True, max_depth=10, min_samples_leaf=5, n_estimators=200; total time= 9.8min\n",
            "[CV] END bootstrap=True, max_depth=10, min_samples_leaf=5, n_estimators=200; total time=10.0min\n",
            "[CV] END bootstrap=True, max_depth=250, min_samples_leaf=2, n_estimators=100; total time= 7.7min\n",
            "[CV] END bootstrap=True, max_depth=250, min_samples_leaf=2, n_estimators=100; total time= 7.7min\n",
            "[CV] END bootstrap=True, max_depth=250, min_samples_leaf=2, n_estimators=200; total time=15.2min\n",
            "[CV] END bootstrap=True, max_depth=250, min_samples_leaf=2, n_estimators=200; total time=15.1min\n",
            "[CV] END bootstrap=True, max_depth=250, min_samples_leaf=5, n_estimators=100; total time= 6.5min\n",
            "[CV] END bootstrap=True, max_depth=250, min_samples_leaf=5, n_estimators=100; total time= 6.7min\n",
            "[CV] END bootstrap=True, max_depth=250, min_samples_leaf=5, n_estimators=200; total time=13.0min\n",
            "[CV] END bootstrap=True, max_depth=250, min_samples_leaf=5, n_estimators=200; total time=13.3min\n"
          ]
        },
        {
          "output_type": "execute_result",
          "data": {
            "text/plain": [
              "GridSearchCV(cv=2, estimator=RandomForestRegressor(), n_jobs=1,\n",
              "             param_grid={'bootstrap': [True], 'max_depth': [10, 250],\n",
              "                         'min_samples_leaf': [2, 5],\n",
              "                         'n_estimators': [100, 200]},\n",
              "             verbose=2)"
            ]
          },
          "metadata": {},
          "execution_count": 24
        }
      ],
      "source": [
        "rf_GridSearch.fit(x_train, y_train)"
      ]
    },
    {
      "cell_type": "code",
      "execution_count": null,
      "metadata": {
        "colab": {
          "base_uri": "https://localhost:8080/"
        },
        "id": "M24wX33tSbQ7",
        "outputId": "614e20a3-8977-4631-a114-f4b897b34af9"
      },
      "outputs": [
        {
          "output_type": "stream",
          "name": "stdout",
          "text": [
            "0.32065850849704525\n",
            "{'bootstrap': True, 'max_depth': 10, 'min_samples_leaf': 5, 'n_estimators': 100}\n"
          ]
        }
      ],
      "source": [
        "print(rf_GridSearch.best_score_)\n",
        "print(rf_GridSearch.best_params_)"
      ]
    },
    {
      "cell_type": "code",
      "execution_count": null,
      "metadata": {
        "colab": {
          "base_uri": "https://localhost:8080/"
        },
        "id": "JOUgPISPScti",
        "outputId": "542724de-16da-48cc-8a26-0ebfa43b9f20"
      },
      "outputs": [
        {
          "output_type": "stream",
          "name": "stderr",
          "text": [
            "/usr/local/lib/python3.7/dist-packages/sklearn/ensemble/_forest.py:407: FutureWarning: Criterion 'mae' was deprecated in v1.0 and will be removed in version 1.2. Use `criterion='absolute_error'` which is equivalent.\n",
            "  FutureWarning,\n"
          ]
        },
        {
          "output_type": "execute_result",
          "data": {
            "text/plain": [
              "RandomForestRegressor(criterion='mae', max_depth=15, max_features=5,\n",
              "                      n_estimators=250)"
            ]
          },
          "metadata": {},
          "execution_count": 26
        }
      ],
      "source": [
        "rf = RandomForestRegressor(n_estimators=250, max_features=5,\n",
        "    criterion='mae',\n",
        "    max_depth=15)\n",
        "\n",
        "    \n",
        "rf.fit(x_train, y_train)"
      ]
    },
    {
      "cell_type": "code",
      "execution_count": 27,
      "metadata": {
        "id": "IAaLKNptSgiw"
      },
      "outputs": [],
      "source": [
        "prediciton = rf.predict(x_test)"
      ]
    },
    {
      "cell_type": "code",
      "execution_count": 28,
      "metadata": {
        "id": "O22rGRKeSlDN"
      },
      "outputs": [],
      "source": [
        "prediciton = pd.DataFrame(prediciton)\n",
        "\n",
        "prediciton.to_csv('randomforestprediction')"
      ]
    },
    {
      "cell_type": "code",
      "execution_count": 29,
      "metadata": {
        "colab": {
          "base_uri": "https://localhost:8080/"
        },
        "id": "_vN5PfCYSnrB",
        "outputId": "c47a4fd2-c43e-47b9-a9a2-bdbbe42f501c"
      },
      "outputs": [
        {
          "output_type": "execute_result",
          "data": {
            "text/plain": [
              "17472"
            ]
          },
          "metadata": {},
          "execution_count": 29
        }
      ],
      "source": [
        "len(prediciton)"
      ]
    },
    {
      "cell_type": "code",
      "execution_count": 30,
      "metadata": {
        "colab": {
          "base_uri": "https://localhost:8080/"
        },
        "id": "W3yFInBPSrNL",
        "outputId": "41cecf8e-9142-45d6-a2ef-f80c3971d449"
      },
      "outputs": [
        {
          "output_type": "execute_result",
          "data": {
            "text/plain": [
              "17472"
            ]
          },
          "metadata": {},
          "execution_count": 30
        }
      ],
      "source": [
        "len(x_test)"
      ]
    },
    {
      "cell_type": "code",
      "execution_count": 31,
      "metadata": {
        "colab": {
          "base_uri": "https://localhost:8080/"
        },
        "id": "1WP8_u_yStwB",
        "outputId": "8978bd4d-cf19-43ad-fc30-97aa53877375"
      },
      "outputs": [
        {
          "output_type": "execute_result",
          "data": {
            "text/plain": [
              " Prices_24                   0\n",
              " Generation forecast_24      0\n",
              " System load forecast_24     0\n",
              " Prices_25                   0\n",
              " Generation forecast_25      0\n",
              "                            ..\n",
              " Generation forecast_167     0\n",
              " System load forecast_167    0\n",
              " Prices_168                  0\n",
              " Generation forecast_168     0\n",
              " System load forecast_168    0\n",
              "Length: 435, dtype: int64"
            ]
          },
          "metadata": {},
          "execution_count": 31
        }
      ],
      "source": [
        "x_test.isna().sum()"
      ]
    },
    {
      "cell_type": "code",
      "source": [
        "y_test"
      ],
      "metadata": {
        "colab": {
          "base_uri": "https://localhost:8080/",
          "height": 628
        },
        "id": "JX7PedyFFC4J",
        "outputId": "faaaa708-737b-4f3b-b6b5-f6340304b76b"
      },
      "execution_count": 32,
      "outputs": [
        {
          "output_type": "execute_result",
          "data": {
            "text/html": [
              "\n",
              "  <div id=\"df-1ff0eb98-5883-4462-a6ed-d8335b203207\">\n",
              "    <div class=\"colab-df-container\">\n",
              "      <div>\n",
              "<style scoped>\n",
              "    .dataframe tbody tr th:only-of-type {\n",
              "        vertical-align: middle;\n",
              "    }\n",
              "\n",
              "    .dataframe tbody tr th {\n",
              "        vertical-align: top;\n",
              "    }\n",
              "\n",
              "    .dataframe thead th {\n",
              "        text-align: right;\n",
              "    }\n",
              "</style>\n",
              "<table border=\"1\" class=\"dataframe\">\n",
              "  <thead>\n",
              "    <tr style=\"text-align: right;\">\n",
              "      <th></th>\n",
              "      <th>Prices</th>\n",
              "      <th>predictions</th>\n",
              "      <th>difference</th>\n",
              "      <th>% error</th>\n",
              "    </tr>\n",
              "    <tr>\n",
              "      <th>Date</th>\n",
              "      <th></th>\n",
              "      <th></th>\n",
              "      <th></th>\n",
              "      <th></th>\n",
              "    </tr>\n",
              "  </thead>\n",
              "  <tbody>\n",
              "    <tr>\n",
              "      <th>2015-01-04 00:00:00</th>\n",
              "      <td>36.26</td>\n",
              "      <td>50.9330</td>\n",
              "      <td>14.6730</td>\n",
              "      <td>40.466078</td>\n",
              "    </tr>\n",
              "    <tr>\n",
              "      <th>2015-01-04 01:00:00</th>\n",
              "      <td>32.28</td>\n",
              "      <td>50.9330</td>\n",
              "      <td>18.6530</td>\n",
              "      <td>57.785006</td>\n",
              "    </tr>\n",
              "    <tr>\n",
              "      <th>2015-01-04 02:00:00</th>\n",
              "      <td>27.63</td>\n",
              "      <td>49.3935</td>\n",
              "      <td>21.7635</td>\n",
              "      <td>78.767644</td>\n",
              "    </tr>\n",
              "    <tr>\n",
              "      <th>2015-01-04 03:00:00</th>\n",
              "      <td>27.03</td>\n",
              "      <td>48.0585</td>\n",
              "      <td>21.0285</td>\n",
              "      <td>77.796892</td>\n",
              "    </tr>\n",
              "    <tr>\n",
              "      <th>2015-01-04 04:00:00</th>\n",
              "      <td>27.04</td>\n",
              "      <td>48.0585</td>\n",
              "      <td>21.0185</td>\n",
              "      <td>77.731139</td>\n",
              "    </tr>\n",
              "    <tr>\n",
              "      <th>...</th>\n",
              "      <td>...</td>\n",
              "      <td>...</td>\n",
              "      <td>...</td>\n",
              "      <td>...</td>\n",
              "    </tr>\n",
              "    <tr>\n",
              "      <th>2016-12-31 19:00:00</th>\n",
              "      <td>40.84</td>\n",
              "      <td>47.8085</td>\n",
              "      <td>6.9685</td>\n",
              "      <td>17.062929</td>\n",
              "    </tr>\n",
              "    <tr>\n",
              "      <th>2016-12-31 20:00:00</th>\n",
              "      <td>40.10</td>\n",
              "      <td>47.1995</td>\n",
              "      <td>7.0995</td>\n",
              "      <td>17.704489</td>\n",
              "    </tr>\n",
              "    <tr>\n",
              "      <th>2016-12-31 21:00:00</th>\n",
              "      <td>36.00</td>\n",
              "      <td>47.1995</td>\n",
              "      <td>11.1995</td>\n",
              "      <td>31.109722</td>\n",
              "    </tr>\n",
              "    <tr>\n",
              "      <th>2016-12-31 22:00:00</th>\n",
              "      <td>35.00</td>\n",
              "      <td>47.1995</td>\n",
              "      <td>12.1995</td>\n",
              "      <td>34.855714</td>\n",
              "    </tr>\n",
              "    <tr>\n",
              "      <th>2016-12-31 23:00:00</th>\n",
              "      <td>34.94</td>\n",
              "      <td>48.0585</td>\n",
              "      <td>13.1185</td>\n",
              "      <td>37.545793</td>\n",
              "    </tr>\n",
              "  </tbody>\n",
              "</table>\n",
              "<p>17465 rows × 4 columns</p>\n",
              "</div>\n",
              "      <button class=\"colab-df-convert\" onclick=\"convertToInteractive('df-1ff0eb98-5883-4462-a6ed-d8335b203207')\"\n",
              "              title=\"Convert this dataframe to an interactive table.\"\n",
              "              style=\"display:none;\">\n",
              "        \n",
              "  <svg xmlns=\"http://www.w3.org/2000/svg\" height=\"24px\"viewBox=\"0 0 24 24\"\n",
              "       width=\"24px\">\n",
              "    <path d=\"M0 0h24v24H0V0z\" fill=\"none\"/>\n",
              "    <path d=\"M18.56 5.44l.94 2.06.94-2.06 2.06-.94-2.06-.94-.94-2.06-.94 2.06-2.06.94zm-11 1L8.5 8.5l.94-2.06 2.06-.94-2.06-.94L8.5 2.5l-.94 2.06-2.06.94zm10 10l.94 2.06.94-2.06 2.06-.94-2.06-.94-.94-2.06-.94 2.06-2.06.94z\"/><path d=\"M17.41 7.96l-1.37-1.37c-.4-.4-.92-.59-1.43-.59-.52 0-1.04.2-1.43.59L10.3 9.45l-7.72 7.72c-.78.78-.78 2.05 0 2.83L4 21.41c.39.39.9.59 1.41.59.51 0 1.02-.2 1.41-.59l7.78-7.78 2.81-2.81c.8-.78.8-2.07 0-2.86zM5.41 20L4 18.59l7.72-7.72 1.47 1.35L5.41 20z\"/>\n",
              "  </svg>\n",
              "      </button>\n",
              "      \n",
              "  <style>\n",
              "    .colab-df-container {\n",
              "      display:flex;\n",
              "      flex-wrap:wrap;\n",
              "      gap: 12px;\n",
              "    }\n",
              "\n",
              "    .colab-df-convert {\n",
              "      background-color: #E8F0FE;\n",
              "      border: none;\n",
              "      border-radius: 50%;\n",
              "      cursor: pointer;\n",
              "      display: none;\n",
              "      fill: #1967D2;\n",
              "      height: 32px;\n",
              "      padding: 0 0 0 0;\n",
              "      width: 32px;\n",
              "    }\n",
              "\n",
              "    .colab-df-convert:hover {\n",
              "      background-color: #E2EBFA;\n",
              "      box-shadow: 0px 1px 2px rgba(60, 64, 67, 0.3), 0px 1px 3px 1px rgba(60, 64, 67, 0.15);\n",
              "      fill: #174EA6;\n",
              "    }\n",
              "\n",
              "    [theme=dark] .colab-df-convert {\n",
              "      background-color: #3B4455;\n",
              "      fill: #D2E3FC;\n",
              "    }\n",
              "\n",
              "    [theme=dark] .colab-df-convert:hover {\n",
              "      background-color: #434B5C;\n",
              "      box-shadow: 0px 1px 3px 1px rgba(0, 0, 0, 0.15);\n",
              "      filter: drop-shadow(0px 1px 2px rgba(0, 0, 0, 0.3));\n",
              "      fill: #FFFFFF;\n",
              "    }\n",
              "  </style>\n",
              "\n",
              "      <script>\n",
              "        const buttonEl =\n",
              "          document.querySelector('#df-1ff0eb98-5883-4462-a6ed-d8335b203207 button.colab-df-convert');\n",
              "        buttonEl.style.display =\n",
              "          google.colab.kernel.accessAllowed ? 'block' : 'none';\n",
              "\n",
              "        async function convertToInteractive(key) {\n",
              "          const element = document.querySelector('#df-1ff0eb98-5883-4462-a6ed-d8335b203207');\n",
              "          const dataTable =\n",
              "            await google.colab.kernel.invokeFunction('convertToInteractive',\n",
              "                                                     [key], {});\n",
              "          if (!dataTable) return;\n",
              "\n",
              "          const docLinkHtml = 'Like what you see? Visit the ' +\n",
              "            '<a target=\"_blank\" href=https://colab.research.google.com/notebooks/data_table.ipynb>data table notebook</a>'\n",
              "            + ' to learn more about interactive tables.';\n",
              "          element.innerHTML = '';\n",
              "          dataTable['output_type'] = 'display_data';\n",
              "          await google.colab.output.renderOutput(dataTable, element);\n",
              "          const docLink = document.createElement('div');\n",
              "          docLink.innerHTML = docLinkHtml;\n",
              "          element.appendChild(docLink);\n",
              "        }\n",
              "      </script>\n",
              "    </div>\n",
              "  </div>\n",
              "  "
            ],
            "text/plain": [
              "                      Prices  predictions  difference    % error\n",
              "Date                                                            \n",
              "2015-01-04 00:00:00    36.26      50.9330     14.6730  40.466078\n",
              "2015-01-04 01:00:00    32.28      50.9330     18.6530  57.785006\n",
              "2015-01-04 02:00:00    27.63      49.3935     21.7635  78.767644\n",
              "2015-01-04 03:00:00    27.03      48.0585     21.0285  77.796892\n",
              "2015-01-04 04:00:00    27.04      48.0585     21.0185  77.731139\n",
              "...                      ...          ...         ...        ...\n",
              "2016-12-31 19:00:00    40.84      47.8085      6.9685  17.062929\n",
              "2016-12-31 20:00:00    40.10      47.1995      7.0995  17.704489\n",
              "2016-12-31 21:00:00    36.00      47.1995     11.1995  31.109722\n",
              "2016-12-31 22:00:00    35.00      47.1995     12.1995  34.855714\n",
              "2016-12-31 23:00:00    34.94      48.0585     13.1185  37.545793\n",
              "\n",
              "[17465 rows x 4 columns]"
            ]
          },
          "metadata": {},
          "execution_count": 32
        }
      ]
    },
    {
      "cell_type": "code",
      "execution_count": 47,
      "metadata": {
        "id": "JWkyYptSSv7E"
      },
      "outputs": [],
      "source": [
        "prediciton = y_test.iloc[:,:2]"
      ]
    },
    {
      "cell_type": "code",
      "execution_count": 48,
      "metadata": {
        "colab": {
          "base_uri": "https://localhost:8080/",
          "height": 628
        },
        "id": "Xl0vYdNsS0jx",
        "outputId": "e531aaf5-e2b1-4afc-df69-f2bf4837355d"
      },
      "outputs": [
        {
          "output_type": "execute_result",
          "data": {
            "text/html": [
              "\n",
              "  <div id=\"df-40c11900-30be-443a-af41-4a5657c24187\">\n",
              "    <div class=\"colab-df-container\">\n",
              "      <div>\n",
              "<style scoped>\n",
              "    .dataframe tbody tr th:only-of-type {\n",
              "        vertical-align: middle;\n",
              "    }\n",
              "\n",
              "    .dataframe tbody tr th {\n",
              "        vertical-align: top;\n",
              "    }\n",
              "\n",
              "    .dataframe thead th {\n",
              "        text-align: right;\n",
              "    }\n",
              "</style>\n",
              "<table border=\"1\" class=\"dataframe\">\n",
              "  <thead>\n",
              "    <tr style=\"text-align: right;\">\n",
              "      <th></th>\n",
              "      <th>Prices</th>\n",
              "      <th>predictions</th>\n",
              "    </tr>\n",
              "    <tr>\n",
              "      <th>Date</th>\n",
              "      <th></th>\n",
              "      <th></th>\n",
              "    </tr>\n",
              "  </thead>\n",
              "  <tbody>\n",
              "    <tr>\n",
              "      <th>2015-01-04 00:00:00</th>\n",
              "      <td>36.26</td>\n",
              "      <td>50.9330</td>\n",
              "    </tr>\n",
              "    <tr>\n",
              "      <th>2015-01-04 01:00:00</th>\n",
              "      <td>32.28</td>\n",
              "      <td>50.9330</td>\n",
              "    </tr>\n",
              "    <tr>\n",
              "      <th>2015-01-04 02:00:00</th>\n",
              "      <td>27.63</td>\n",
              "      <td>49.3935</td>\n",
              "    </tr>\n",
              "    <tr>\n",
              "      <th>2015-01-04 03:00:00</th>\n",
              "      <td>27.03</td>\n",
              "      <td>48.0585</td>\n",
              "    </tr>\n",
              "    <tr>\n",
              "      <th>2015-01-04 04:00:00</th>\n",
              "      <td>27.04</td>\n",
              "      <td>48.0585</td>\n",
              "    </tr>\n",
              "    <tr>\n",
              "      <th>...</th>\n",
              "      <td>...</td>\n",
              "      <td>...</td>\n",
              "    </tr>\n",
              "    <tr>\n",
              "      <th>2016-12-31 19:00:00</th>\n",
              "      <td>40.84</td>\n",
              "      <td>47.8085</td>\n",
              "    </tr>\n",
              "    <tr>\n",
              "      <th>2016-12-31 20:00:00</th>\n",
              "      <td>40.10</td>\n",
              "      <td>47.1995</td>\n",
              "    </tr>\n",
              "    <tr>\n",
              "      <th>2016-12-31 21:00:00</th>\n",
              "      <td>36.00</td>\n",
              "      <td>47.1995</td>\n",
              "    </tr>\n",
              "    <tr>\n",
              "      <th>2016-12-31 22:00:00</th>\n",
              "      <td>35.00</td>\n",
              "      <td>47.1995</td>\n",
              "    </tr>\n",
              "    <tr>\n",
              "      <th>2016-12-31 23:00:00</th>\n",
              "      <td>34.94</td>\n",
              "      <td>48.0585</td>\n",
              "    </tr>\n",
              "  </tbody>\n",
              "</table>\n",
              "<p>17465 rows × 2 columns</p>\n",
              "</div>\n",
              "      <button class=\"colab-df-convert\" onclick=\"convertToInteractive('df-40c11900-30be-443a-af41-4a5657c24187')\"\n",
              "              title=\"Convert this dataframe to an interactive table.\"\n",
              "              style=\"display:none;\">\n",
              "        \n",
              "  <svg xmlns=\"http://www.w3.org/2000/svg\" height=\"24px\"viewBox=\"0 0 24 24\"\n",
              "       width=\"24px\">\n",
              "    <path d=\"M0 0h24v24H0V0z\" fill=\"none\"/>\n",
              "    <path d=\"M18.56 5.44l.94 2.06.94-2.06 2.06-.94-2.06-.94-.94-2.06-.94 2.06-2.06.94zm-11 1L8.5 8.5l.94-2.06 2.06-.94-2.06-.94L8.5 2.5l-.94 2.06-2.06.94zm10 10l.94 2.06.94-2.06 2.06-.94-2.06-.94-.94-2.06-.94 2.06-2.06.94z\"/><path d=\"M17.41 7.96l-1.37-1.37c-.4-.4-.92-.59-1.43-.59-.52 0-1.04.2-1.43.59L10.3 9.45l-7.72 7.72c-.78.78-.78 2.05 0 2.83L4 21.41c.39.39.9.59 1.41.59.51 0 1.02-.2 1.41-.59l7.78-7.78 2.81-2.81c.8-.78.8-2.07 0-2.86zM5.41 20L4 18.59l7.72-7.72 1.47 1.35L5.41 20z\"/>\n",
              "  </svg>\n",
              "      </button>\n",
              "      \n",
              "  <style>\n",
              "    .colab-df-container {\n",
              "      display:flex;\n",
              "      flex-wrap:wrap;\n",
              "      gap: 12px;\n",
              "    }\n",
              "\n",
              "    .colab-df-convert {\n",
              "      background-color: #E8F0FE;\n",
              "      border: none;\n",
              "      border-radius: 50%;\n",
              "      cursor: pointer;\n",
              "      display: none;\n",
              "      fill: #1967D2;\n",
              "      height: 32px;\n",
              "      padding: 0 0 0 0;\n",
              "      width: 32px;\n",
              "    }\n",
              "\n",
              "    .colab-df-convert:hover {\n",
              "      background-color: #E2EBFA;\n",
              "      box-shadow: 0px 1px 2px rgba(60, 64, 67, 0.3), 0px 1px 3px 1px rgba(60, 64, 67, 0.15);\n",
              "      fill: #174EA6;\n",
              "    }\n",
              "\n",
              "    [theme=dark] .colab-df-convert {\n",
              "      background-color: #3B4455;\n",
              "      fill: #D2E3FC;\n",
              "    }\n",
              "\n",
              "    [theme=dark] .colab-df-convert:hover {\n",
              "      background-color: #434B5C;\n",
              "      box-shadow: 0px 1px 3px 1px rgba(0, 0, 0, 0.15);\n",
              "      filter: drop-shadow(0px 1px 2px rgba(0, 0, 0, 0.3));\n",
              "      fill: #FFFFFF;\n",
              "    }\n",
              "  </style>\n",
              "\n",
              "      <script>\n",
              "        const buttonEl =\n",
              "          document.querySelector('#df-40c11900-30be-443a-af41-4a5657c24187 button.colab-df-convert');\n",
              "        buttonEl.style.display =\n",
              "          google.colab.kernel.accessAllowed ? 'block' : 'none';\n",
              "\n",
              "        async function convertToInteractive(key) {\n",
              "          const element = document.querySelector('#df-40c11900-30be-443a-af41-4a5657c24187');\n",
              "          const dataTable =\n",
              "            await google.colab.kernel.invokeFunction('convertToInteractive',\n",
              "                                                     [key], {});\n",
              "          if (!dataTable) return;\n",
              "\n",
              "          const docLinkHtml = 'Like what you see? Visit the ' +\n",
              "            '<a target=\"_blank\" href=https://colab.research.google.com/notebooks/data_table.ipynb>data table notebook</a>'\n",
              "            + ' to learn more about interactive tables.';\n",
              "          element.innerHTML = '';\n",
              "          dataTable['output_type'] = 'display_data';\n",
              "          await google.colab.output.renderOutput(dataTable, element);\n",
              "          const docLink = document.createElement('div');\n",
              "          docLink.innerHTML = docLinkHtml;\n",
              "          element.appendChild(docLink);\n",
              "        }\n",
              "      </script>\n",
              "    </div>\n",
              "  </div>\n",
              "  "
            ],
            "text/plain": [
              "                      Prices  predictions\n",
              "Date                                     \n",
              "2015-01-04 00:00:00    36.26      50.9330\n",
              "2015-01-04 01:00:00    32.28      50.9330\n",
              "2015-01-04 02:00:00    27.63      49.3935\n",
              "2015-01-04 03:00:00    27.03      48.0585\n",
              "2015-01-04 04:00:00    27.04      48.0585\n",
              "...                      ...          ...\n",
              "2016-12-31 19:00:00    40.84      47.8085\n",
              "2016-12-31 20:00:00    40.10      47.1995\n",
              "2016-12-31 21:00:00    36.00      47.1995\n",
              "2016-12-31 22:00:00    35.00      47.1995\n",
              "2016-12-31 23:00:00    34.94      48.0585\n",
              "\n",
              "[17465 rows x 2 columns]"
            ]
          },
          "metadata": {},
          "execution_count": 48
        }
      ],
      "source": [
        "prediciton"
      ]
    },
    {
      "cell_type": "code",
      "execution_count": 49,
      "metadata": {
        "id": "7NCJBZvKS3Nf",
        "colab": {
          "base_uri": "https://localhost:8080/"
        },
        "outputId": "df0e4a09-21bc-4604-eb89-99d0301ffd3b"
      },
      "outputs": [
        {
          "output_type": "stream",
          "name": "stderr",
          "text": [
            "/usr/local/lib/python3.7/dist-packages/pandas/core/frame.py:5047: SettingWithCopyWarning: \n",
            "A value is trying to be set on a copy of a slice from a DataFrame\n",
            "\n",
            "See the caveats in the documentation: https://pandas.pydata.org/pandas-docs/stable/user_guide/indexing.html#returning-a-view-versus-a-copy\n",
            "  errors=errors,\n"
          ]
        }
      ],
      "source": [
        "prediciton.rename(columns = {0:'prediction'}, inplace = True)"
      ]
    },
    {
      "cell_type": "code",
      "execution_count": 51,
      "metadata": {
        "id": "-ORUx0BgS6XR",
        "colab": {
          "base_uri": "https://localhost:8080/"
        },
        "outputId": "2fb3940d-6209-407b-c165-ef145f055550"
      },
      "outputs": [
        {
          "output_type": "stream",
          "name": "stderr",
          "text": [
            "/usr/local/lib/python3.7/dist-packages/ipykernel_launcher.py:1: SettingWithCopyWarning: \n",
            "A value is trying to be set on a copy of a slice from a DataFrame.\n",
            "Try using .loc[row_indexer,col_indexer] = value instead\n",
            "\n",
            "See the caveats in the documentation: https://pandas.pydata.org/pandas-docs/stable/user_guide/indexing.html#returning-a-view-versus-a-copy\n",
            "  \"\"\"Entry point for launching an IPython kernel.\n"
          ]
        }
      ],
      "source": [
        "prediciton['difference'] = np.abs(prediciton[' Prices'] - prediciton['predictions'])\n",
        "prediciton['% error'] = ((prediciton['difference'] + 0.5) /(prediciton[' Prices'] + 0.5))*100\n",
        "# np.mean(prediciton['% error'])"
      ]
    },
    {
      "cell_type": "code",
      "execution_count": 52,
      "metadata": {
        "colab": {
          "base_uri": "https://localhost:8080/"
        },
        "id": "UbyF_SejS9_R",
        "outputId": "7ec05b60-31cd-4b8b-f5e2-057d5cdee99e"
      },
      "outputs": [
        {
          "output_type": "execute_result",
          "data": {
            "text/plain": [
              "49.45276163361783"
            ]
          },
          "metadata": {},
          "execution_count": 52
        }
      ],
      "source": [
        "prediciton['% error'].mean()"
      ]
    },
    {
      "cell_type": "code",
      "execution_count": 53,
      "metadata": {
        "id": "S8M-KAliTADj"
      },
      "outputs": [],
      "source": [
        "from numpy import inf"
      ]
    },
    {
      "cell_type": "code",
      "execution_count": 54,
      "metadata": {
        "id": "iUraqwp-TCFD",
        "colab": {
          "base_uri": "https://localhost:8080/",
          "height": 105
        },
        "outputId": "1e54cf70-3429-4cfc-8816-b350cf6d1488"
      },
      "outputs": [
        {
          "output_type": "execute_result",
          "data": {
            "text/html": [
              "\n",
              "  <div id=\"df-55aedaea-fa9e-41c6-bf19-75fa416d54b2\">\n",
              "    <div class=\"colab-df-container\">\n",
              "      <div>\n",
              "<style scoped>\n",
              "    .dataframe tbody tr th:only-of-type {\n",
              "        vertical-align: middle;\n",
              "    }\n",
              "\n",
              "    .dataframe tbody tr th {\n",
              "        vertical-align: top;\n",
              "    }\n",
              "\n",
              "    .dataframe thead th {\n",
              "        text-align: right;\n",
              "    }\n",
              "</style>\n",
              "<table border=\"1\" class=\"dataframe\">\n",
              "  <thead>\n",
              "    <tr style=\"text-align: right;\">\n",
              "      <th></th>\n",
              "      <th>Prices</th>\n",
              "      <th>predictions</th>\n",
              "      <th>difference</th>\n",
              "      <th>% error</th>\n",
              "    </tr>\n",
              "    <tr>\n",
              "      <th>Date</th>\n",
              "      <th></th>\n",
              "      <th></th>\n",
              "      <th></th>\n",
              "      <th></th>\n",
              "    </tr>\n",
              "  </thead>\n",
              "  <tbody>\n",
              "  </tbody>\n",
              "</table>\n",
              "</div>\n",
              "      <button class=\"colab-df-convert\" onclick=\"convertToInteractive('df-55aedaea-fa9e-41c6-bf19-75fa416d54b2')\"\n",
              "              title=\"Convert this dataframe to an interactive table.\"\n",
              "              style=\"display:none;\">\n",
              "        \n",
              "  <svg xmlns=\"http://www.w3.org/2000/svg\" height=\"24px\"viewBox=\"0 0 24 24\"\n",
              "       width=\"24px\">\n",
              "    <path d=\"M0 0h24v24H0V0z\" fill=\"none\"/>\n",
              "    <path d=\"M18.56 5.44l.94 2.06.94-2.06 2.06-.94-2.06-.94-.94-2.06-.94 2.06-2.06.94zm-11 1L8.5 8.5l.94-2.06 2.06-.94-2.06-.94L8.5 2.5l-.94 2.06-2.06.94zm10 10l.94 2.06.94-2.06 2.06-.94-2.06-.94-.94-2.06-.94 2.06-2.06.94z\"/><path d=\"M17.41 7.96l-1.37-1.37c-.4-.4-.92-.59-1.43-.59-.52 0-1.04.2-1.43.59L10.3 9.45l-7.72 7.72c-.78.78-.78 2.05 0 2.83L4 21.41c.39.39.9.59 1.41.59.51 0 1.02-.2 1.41-.59l7.78-7.78 2.81-2.81c.8-.78.8-2.07 0-2.86zM5.41 20L4 18.59l7.72-7.72 1.47 1.35L5.41 20z\"/>\n",
              "  </svg>\n",
              "      </button>\n",
              "      \n",
              "  <style>\n",
              "    .colab-df-container {\n",
              "      display:flex;\n",
              "      flex-wrap:wrap;\n",
              "      gap: 12px;\n",
              "    }\n",
              "\n",
              "    .colab-df-convert {\n",
              "      background-color: #E8F0FE;\n",
              "      border: none;\n",
              "      border-radius: 50%;\n",
              "      cursor: pointer;\n",
              "      display: none;\n",
              "      fill: #1967D2;\n",
              "      height: 32px;\n",
              "      padding: 0 0 0 0;\n",
              "      width: 32px;\n",
              "    }\n",
              "\n",
              "    .colab-df-convert:hover {\n",
              "      background-color: #E2EBFA;\n",
              "      box-shadow: 0px 1px 2px rgba(60, 64, 67, 0.3), 0px 1px 3px 1px rgba(60, 64, 67, 0.15);\n",
              "      fill: #174EA6;\n",
              "    }\n",
              "\n",
              "    [theme=dark] .colab-df-convert {\n",
              "      background-color: #3B4455;\n",
              "      fill: #D2E3FC;\n",
              "    }\n",
              "\n",
              "    [theme=dark] .colab-df-convert:hover {\n",
              "      background-color: #434B5C;\n",
              "      box-shadow: 0px 1px 3px 1px rgba(0, 0, 0, 0.15);\n",
              "      filter: drop-shadow(0px 1px 2px rgba(0, 0, 0, 0.3));\n",
              "      fill: #FFFFFF;\n",
              "    }\n",
              "  </style>\n",
              "\n",
              "      <script>\n",
              "        const buttonEl =\n",
              "          document.querySelector('#df-55aedaea-fa9e-41c6-bf19-75fa416d54b2 button.colab-df-convert');\n",
              "        buttonEl.style.display =\n",
              "          google.colab.kernel.accessAllowed ? 'block' : 'none';\n",
              "\n",
              "        async function convertToInteractive(key) {\n",
              "          const element = document.querySelector('#df-55aedaea-fa9e-41c6-bf19-75fa416d54b2');\n",
              "          const dataTable =\n",
              "            await google.colab.kernel.invokeFunction('convertToInteractive',\n",
              "                                                     [key], {});\n",
              "          if (!dataTable) return;\n",
              "\n",
              "          const docLinkHtml = 'Like what you see? Visit the ' +\n",
              "            '<a target=\"_blank\" href=https://colab.research.google.com/notebooks/data_table.ipynb>data table notebook</a>'\n",
              "            + ' to learn more about interactive tables.';\n",
              "          element.innerHTML = '';\n",
              "          dataTable['output_type'] = 'display_data';\n",
              "          await google.colab.output.renderOutput(dataTable, element);\n",
              "          const docLink = document.createElement('div');\n",
              "          docLink.innerHTML = docLinkHtml;\n",
              "          element.appendChild(docLink);\n",
              "        }\n",
              "      </script>\n",
              "    </div>\n",
              "  </div>\n",
              "  "
            ],
            "text/plain": [
              "Empty DataFrame\n",
              "Columns: [ Prices, predictions, difference, % error]\n",
              "Index: []"
            ]
          },
          "metadata": {},
          "execution_count": 54
        }
      ],
      "source": [
        "prediciton.loc[prediciton['% error'] == 36798.27999999999]"
      ]
    },
    {
      "cell_type": "code",
      "execution_count": 56,
      "metadata": {
        "id": "9OhTkFC6TEaV",
        "colab": {
          "base_uri": "https://localhost:8080/"
        },
        "outputId": "42bad6fe-0433-41ed-a421-a7631d9522be"
      },
      "outputs": [
        {
          "output_type": "execute_result",
          "data": {
            "text/plain": [
              "51.985218332512105"
            ]
          },
          "metadata": {},
          "execution_count": 56
        }
      ],
      "source": [
        "mape = 100 * (prediciton['difference'] / prediciton[' Prices'])\n",
        "accuracy = 100 - np.mean(mape[np.isfinite(mape)])\n",
        "100 - accuracy"
      ]
    },
    {
      "cell_type": "code",
      "execution_count": 57,
      "metadata": {
        "id": "9u8lOSt3THHb"
      },
      "outputs": [],
      "source": [
        "prediciton['% error'] = mape"
      ]
    },
    {
      "cell_type": "code",
      "execution_count": 58,
      "metadata": {
        "id": "Ofc02iY9TJxl",
        "colab": {
          "base_uri": "https://localhost:8080/"
        },
        "outputId": "a18864e5-2a7f-44ec-effe-3acf80202854"
      },
      "outputs": [
        {
          "output_type": "execute_result",
          "data": {
            "text/plain": [
              "51.985218332512105"
            ]
          },
          "metadata": {},
          "execution_count": 58
        }
      ],
      "source": [
        "np.mean(mape[np.isfinite(mape)])"
      ]
    },
    {
      "cell_type": "code",
      "execution_count": 59,
      "metadata": {
        "id": "rVKYz2tPTMBq",
        "colab": {
          "base_uri": "https://localhost:8080/"
        },
        "outputId": "0a79eb0f-69de-4d2a-cb61-1b98d4031d3b"
      },
      "outputs": [
        {
          "output_type": "execute_result",
          "data": {
            "text/plain": [
              "Date\n",
              "2015-01-04 00:00:00    40.466078\n",
              "2015-01-04 01:00:00    57.785006\n",
              "2015-01-04 02:00:00    78.767644\n",
              "2015-01-04 03:00:00    77.796892\n",
              "2015-01-04 04:00:00    77.731139\n",
              "                         ...    \n",
              "2016-12-31 19:00:00    17.062929\n",
              "2016-12-31 20:00:00    17.704489\n",
              "2016-12-31 21:00:00    31.109722\n",
              "2016-12-31 22:00:00    34.855714\n",
              "2016-12-31 23:00:00    37.545793\n",
              "Length: 17465, dtype: float64"
            ]
          },
          "metadata": {},
          "execution_count": 59
        }
      ],
      "source": [
        "mape"
      ]
    },
    {
      "cell_type": "code",
      "execution_count": 60,
      "metadata": {
        "id": "IArsB7dwTPPf",
        "colab": {
          "base_uri": "https://localhost:8080/"
        },
        "outputId": "627999be-3d48-4b17-92d8-b6b3919f2a0e"
      },
      "outputs": [
        {
          "output_type": "execute_result",
          "data": {
            "text/plain": [
              "51.985218332512105"
            ]
          },
          "metadata": {},
          "execution_count": 60
        }
      ],
      "source": [
        "mape[np.isfinite(mape)].mean()"
      ]
    },
    {
      "cell_type": "code",
      "execution_count": 64,
      "metadata": {
        "colab": {
          "base_uri": "https://localhost:8080/"
        },
        "id": "8HwhOSDLUQ3_",
        "outputId": "9eb2b5fb-95be-45d4-98ff-87f1a3e66a45"
      },
      "outputs": [
        {
          "output_type": "stream",
          "name": "stdout",
          "text": [
            "                      Prices  predictions  difference    % error\n",
            "Date                                                            \n",
            "2015-01-04 00:00:00    36.26      50.9330     14.6730  40.466078\n",
            "2015-01-04 01:00:00    32.28      50.9330     18.6530  57.785006\n",
            "2015-01-04 02:00:00    27.63      49.3935     21.7635  78.767644\n",
            "2015-01-04 03:00:00    27.03      48.0585     21.0285  77.796892\n",
            "2015-01-04 04:00:00    27.04      48.0585     21.0185  77.731139\n",
            "...                      ...          ...         ...        ...\n",
            "2016-12-31 19:00:00    40.84      47.8085      6.9685  17.062929\n",
            "2016-12-31 20:00:00    40.10      47.1995      7.0995  17.704489\n",
            "2016-12-31 21:00:00    36.00      47.1995     11.1995  31.109722\n",
            "2016-12-31 22:00:00    35.00      47.1995     12.1995  34.855714\n",
            "2016-12-31 23:00:00    34.94      48.0585     13.1185  37.545793\n",
            "\n",
            "[17465 rows x 4 columns]\n"
          ]
        }
      ],
      "source": [
        "# Save prediction as CSV\n",
        "import pandas as pd\n",
        "from pandas import read_csv\n",
        "import csv\n",
        "y_pred=prediciton\n",
        "y_pred=pd.DataFrame(y_pred)\n",
        "print(y_pred)\n",
        "y_pred.to_csv(\"y_pred.csv\", header=True, quoting=csv.QUOTE_NONE, escapechar=' ')"
      ]
    },
    {
      "cell_type": "markdown",
      "source": [
        ""
      ],
      "metadata": {
        "id": "_azgfWLzdVl_"
      }
    }
  ],
  "metadata": {
    "colab": {
      "name": "Multivariate Random Forest.ipynb",
      "provenance": [],
      "collapsed_sections": [],
      "authorship_tag": "ABX9TyNaEk2XF1CIgQKS0t7H9swT",
      "include_colab_link": true
    },
    "kernelspec": {
      "display_name": "Python 3",
      "name": "python3"
    },
    "language_info": {
      "name": "python"
    }
  },
  "nbformat": 4,
  "nbformat_minor": 0
}