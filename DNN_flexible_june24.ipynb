{
  "nbformat": 4,
  "nbformat_minor": 0,
  "metadata": {
    "colab": {
      "provenance": [],
      "authorship_tag": "ABX9TyPrWUy+6i9EubPrP2f8QvgH",
      "include_colab_link": true
    },
    "kernelspec": {
      "name": "python3",
      "display_name": "Python 3"
    },
    "language_info": {
      "name": "python"
    }
  },
  "cells": [
    {
      "cell_type": "markdown",
      "metadata": {
        "id": "view-in-github",
        "colab_type": "text"
      },
      "source": [
        "<a href=\"https://colab.research.google.com/github/souhirbenamor/EPF/blob/main/DNN_flexible_june24.ipynb\" target=\"_parent\"><img src=\"https://colab.research.google.com/assets/colab-badge.svg\" alt=\"Open In Colab\"/></a>"
      ]
    },
    {
      "cell_type": "code",
      "execution_count": 1,
      "metadata": {
        "id": "Jk23XatszSxZ"
      },
      "outputs": [],
      "source": [
        "import numpy as np\n",
        "import matplotlib.pyplot as plt\n",
        "import pandas as pd"
      ]
    },
    {
      "cell_type": "code",
      "source": [
        "!pip install gitpython"
      ],
      "metadata": {
        "id": "2wMn0RGKz2vC",
        "colab": {
          "base_uri": "https://localhost:8080/"
        },
        "outputId": "badac42d-5467-47ef-c919-6e44f1ab137c"
      },
      "execution_count": 2,
      "outputs": [
        {
          "output_type": "stream",
          "name": "stdout",
          "text": [
            "Collecting gitpython\n",
            "  Downloading GitPython-3.1.43-py3-none-any.whl (207 kB)\n",
            "\u001b[2K     \u001b[90m━━━━━━━━━━━━━━━━━━━━━━━━━━━━━━━━━━━━━━━━\u001b[0m \u001b[32m207.3/207.3 kB\u001b[0m \u001b[31m3.9 MB/s\u001b[0m eta \u001b[36m0:00:00\u001b[0m\n",
            "\u001b[?25hCollecting gitdb<5,>=4.0.1 (from gitpython)\n",
            "  Downloading gitdb-4.0.11-py3-none-any.whl (62 kB)\n",
            "\u001b[2K     \u001b[90m━━━━━━━━━━━━━━━━━━━━━━━━━━━━━━━━━━━━━━━━\u001b[0m \u001b[32m62.7/62.7 kB\u001b[0m \u001b[31m6.8 MB/s\u001b[0m eta \u001b[36m0:00:00\u001b[0m\n",
            "\u001b[?25hCollecting smmap<6,>=3.0.1 (from gitdb<5,>=4.0.1->gitpython)\n",
            "  Downloading smmap-5.0.1-py3-none-any.whl (24 kB)\n",
            "Installing collected packages: smmap, gitdb, gitpython\n",
            "Successfully installed gitdb-4.0.11 gitpython-3.1.43 smmap-5.0.1\n"
          ]
        }
      ]
    },
    {
      "cell_type": "code",
      "source": [
        "import os\n",
        "from git.repo.base import Repo\n",
        "Repo.clone_from(\"https://github.com/jeslago/epftoolbox\", \"epftoolbox\")"
      ],
      "metadata": {
        "id": "DlEKbw9uz49j",
        "colab": {
          "base_uri": "https://localhost:8080/"
        },
        "outputId": "ca8c2919-42f8-414d-c7fb-aad2e0ef7985"
      },
      "execution_count": 3,
      "outputs": [
        {
          "output_type": "execute_result",
          "data": {
            "text/plain": [
              "<git.repo.base.Repo '/content/epftoolbox/.git'>"
            ]
          },
          "metadata": {},
          "execution_count": 3
        }
      ]
    },
    {
      "cell_type": "code",
      "source": [
        "cd epftoolbox"
      ],
      "metadata": {
        "id": "BG493eBVz8er",
        "colab": {
          "base_uri": "https://localhost:8080/"
        },
        "outputId": "c4cbf52f-4c16-4647-f74c-409f3ec75943"
      },
      "execution_count": 4,
      "outputs": [
        {
          "output_type": "stream",
          "name": "stdout",
          "text": [
            "/content/epftoolbox\n"
          ]
        }
      ]
    },
    {
      "cell_type": "code",
      "source": [
        "EPF_1=pd.read_excel('/content/EPF_data_FUND.xlsx')\n",
        "EPF_1.reset_index(inplace=True)\n",
        "EPF_1[\"Date\"] = pd.to_datetime(EPF_1[\"Date\"])\n",
        "EPF_1 = EPF_1.set_index('Date')\n",
        "del EPF_1['index']\n",
        "EPF_1.head()\n",
        "print(EPF_1)"
      ],
      "metadata": {
        "id": "1vioZBZ6z-zW",
        "colab": {
          "base_uri": "https://localhost:8080/"
        },
        "outputId": "dacc534e-720a-40a5-8fd8-545bbecc80fe"
      },
      "execution_count": 5,
      "outputs": [
        {
          "output_type": "stream",
          "name": "stdout",
          "text": [
            "                     Price  Exogenous 1  Exogenous 2  Exogenous 3  \\\n",
            "Date                                                                \n",
            "2011-01-09 00:00:00  18.29     40242.25      8280.00          0.0   \n",
            "2011-01-09 01:00:00  16.04     39158.50      8412.75          0.0   \n",
            "2011-01-09 02:00:00  14.60     38824.50      8502.25          0.0   \n",
            "2011-01-09 03:00:00  14.95     38969.25      8668.50          0.0   \n",
            "2011-01-09 04:00:00  14.50     39092.75      8849.25          0.0   \n",
            "...                    ...          ...          ...          ...   \n",
            "2017-01-08 19:00:00  56.70     49516.00      8053.50          0.0   \n",
            "2017-01-08 20:00:00  52.44     47747.50      7456.50          0.0   \n",
            "2017-01-08 21:00:00  51.86     47761.75      6902.50          0.0   \n",
            "2017-01-08 22:00:00  52.26     46222.50      6395.00          0.0   \n",
            "2017-01-08 23:00:00  50.87     43520.50      4633.50          0.0   \n",
            "\n",
            "                     Exogenous 4  Exogenous 5  Exogenous 6  \n",
            "Date                                                        \n",
            "2011-01-09 00:00:00        21.30        55.17         7.27  \n",
            "2011-01-09 01:00:00        21.30        55.17         7.27  \n",
            "2011-01-09 02:00:00        21.30        55.17         7.27  \n",
            "2011-01-09 03:00:00        21.30        55.17         7.27  \n",
            "2011-01-09 04:00:00        21.30        55.17         7.27  \n",
            "...                          ...          ...          ...  \n",
            "2017-01-08 19:00:00        19.12        56.49        32.59  \n",
            "2017-01-08 20:00:00        19.12        56.49        32.59  \n",
            "2017-01-08 21:00:00        19.12        56.49        32.59  \n",
            "2017-01-08 22:00:00        19.12        56.49        32.59  \n",
            "2017-01-08 23:00:00        19.12        56.67        32.59  \n",
            "\n",
            "[52608 rows x 7 columns]\n"
          ]
        }
      ]
    },
    {
      "cell_type": "code",
      "source": [
        "EPF_1.to_csv('/content/EPF_data_FUND.csv')"
      ],
      "metadata": {
        "id": "zqt3TehW0Lve"
      },
      "execution_count": 6,
      "outputs": []
    },
    {
      "cell_type": "code",
      "source": [
        "dataset = 'EPF_data_FUND'"
      ],
      "metadata": {
        "id": "qRJmftJU91Ll"
      },
      "execution_count": 7,
      "outputs": []
    },
    {
      "cell_type": "code",
      "source": [
        "EPF_1"
      ],
      "metadata": {
        "colab": {
          "base_uri": "https://localhost:8080/",
          "height": 450
        },
        "id": "SZ3Bi5YAAhG3",
        "outputId": "73f29e6d-1b9a-47b1-9200-44485e022edb"
      },
      "execution_count": 14,
      "outputs": [
        {
          "output_type": "execute_result",
          "data": {
            "text/plain": [
              "                     Price  Exogenous 1  Exogenous 2  Exogenous 3  \\\n",
              "Date                                                                \n",
              "2011-01-09 00:00:00  18.29     40242.25      8280.00          0.0   \n",
              "2011-01-09 01:00:00  16.04     39158.50      8412.75          0.0   \n",
              "2011-01-09 02:00:00  14.60     38824.50      8502.25          0.0   \n",
              "2011-01-09 03:00:00  14.95     38969.25      8668.50          0.0   \n",
              "2011-01-09 04:00:00  14.50     39092.75      8849.25          0.0   \n",
              "...                    ...          ...          ...          ...   \n",
              "2017-01-08 19:00:00  56.70     49516.00      8053.50          0.0   \n",
              "2017-01-08 20:00:00  52.44     47747.50      7456.50          0.0   \n",
              "2017-01-08 21:00:00  51.86     47761.75      6902.50          0.0   \n",
              "2017-01-08 22:00:00  52.26     46222.50      6395.00          0.0   \n",
              "2017-01-08 23:00:00  50.87     43520.50      4633.50          0.0   \n",
              "\n",
              "                     Exogenous 4  Exogenous 5  Exogenous 6  \n",
              "Date                                                        \n",
              "2011-01-09 00:00:00        21.30        55.17         7.27  \n",
              "2011-01-09 01:00:00        21.30        55.17         7.27  \n",
              "2011-01-09 02:00:00        21.30        55.17         7.27  \n",
              "2011-01-09 03:00:00        21.30        55.17         7.27  \n",
              "2011-01-09 04:00:00        21.30        55.17         7.27  \n",
              "...                          ...          ...          ...  \n",
              "2017-01-08 19:00:00        19.12        56.49        32.59  \n",
              "2017-01-08 20:00:00        19.12        56.49        32.59  \n",
              "2017-01-08 21:00:00        19.12        56.49        32.59  \n",
              "2017-01-08 22:00:00        19.12        56.49        32.59  \n",
              "2017-01-08 23:00:00        19.12        56.67        32.59  \n",
              "\n",
              "[52608 rows x 7 columns]"
            ],
            "text/html": [
              "\n",
              "  <div id=\"df-3a192ba1-2af3-47ca-90ea-76a9de2f8851\" class=\"colab-df-container\">\n",
              "    <div>\n",
              "<style scoped>\n",
              "    .dataframe tbody tr th:only-of-type {\n",
              "        vertical-align: middle;\n",
              "    }\n",
              "\n",
              "    .dataframe tbody tr th {\n",
              "        vertical-align: top;\n",
              "    }\n",
              "\n",
              "    .dataframe thead th {\n",
              "        text-align: right;\n",
              "    }\n",
              "</style>\n",
              "<table border=\"1\" class=\"dataframe\">\n",
              "  <thead>\n",
              "    <tr style=\"text-align: right;\">\n",
              "      <th></th>\n",
              "      <th>Price</th>\n",
              "      <th>Exogenous 1</th>\n",
              "      <th>Exogenous 2</th>\n",
              "      <th>Exogenous 3</th>\n",
              "      <th>Exogenous 4</th>\n",
              "      <th>Exogenous 5</th>\n",
              "      <th>Exogenous 6</th>\n",
              "    </tr>\n",
              "    <tr>\n",
              "      <th>Date</th>\n",
              "      <th></th>\n",
              "      <th></th>\n",
              "      <th></th>\n",
              "      <th></th>\n",
              "      <th></th>\n",
              "      <th></th>\n",
              "      <th></th>\n",
              "    </tr>\n",
              "  </thead>\n",
              "  <tbody>\n",
              "    <tr>\n",
              "      <th>2011-01-09 00:00:00</th>\n",
              "      <td>18.29</td>\n",
              "      <td>40242.25</td>\n",
              "      <td>8280.00</td>\n",
              "      <td>0.0</td>\n",
              "      <td>21.30</td>\n",
              "      <td>55.17</td>\n",
              "      <td>7.27</td>\n",
              "    </tr>\n",
              "    <tr>\n",
              "      <th>2011-01-09 01:00:00</th>\n",
              "      <td>16.04</td>\n",
              "      <td>39158.50</td>\n",
              "      <td>8412.75</td>\n",
              "      <td>0.0</td>\n",
              "      <td>21.30</td>\n",
              "      <td>55.17</td>\n",
              "      <td>7.27</td>\n",
              "    </tr>\n",
              "    <tr>\n",
              "      <th>2011-01-09 02:00:00</th>\n",
              "      <td>14.60</td>\n",
              "      <td>38824.50</td>\n",
              "      <td>8502.25</td>\n",
              "      <td>0.0</td>\n",
              "      <td>21.30</td>\n",
              "      <td>55.17</td>\n",
              "      <td>7.27</td>\n",
              "    </tr>\n",
              "    <tr>\n",
              "      <th>2011-01-09 03:00:00</th>\n",
              "      <td>14.95</td>\n",
              "      <td>38969.25</td>\n",
              "      <td>8668.50</td>\n",
              "      <td>0.0</td>\n",
              "      <td>21.30</td>\n",
              "      <td>55.17</td>\n",
              "      <td>7.27</td>\n",
              "    </tr>\n",
              "    <tr>\n",
              "      <th>2011-01-09 04:00:00</th>\n",
              "      <td>14.50</td>\n",
              "      <td>39092.75</td>\n",
              "      <td>8849.25</td>\n",
              "      <td>0.0</td>\n",
              "      <td>21.30</td>\n",
              "      <td>55.17</td>\n",
              "      <td>7.27</td>\n",
              "    </tr>\n",
              "    <tr>\n",
              "      <th>...</th>\n",
              "      <td>...</td>\n",
              "      <td>...</td>\n",
              "      <td>...</td>\n",
              "      <td>...</td>\n",
              "      <td>...</td>\n",
              "      <td>...</td>\n",
              "      <td>...</td>\n",
              "    </tr>\n",
              "    <tr>\n",
              "      <th>2017-01-08 19:00:00</th>\n",
              "      <td>56.70</td>\n",
              "      <td>49516.00</td>\n",
              "      <td>8053.50</td>\n",
              "      <td>0.0</td>\n",
              "      <td>19.12</td>\n",
              "      <td>56.49</td>\n",
              "      <td>32.59</td>\n",
              "    </tr>\n",
              "    <tr>\n",
              "      <th>2017-01-08 20:00:00</th>\n",
              "      <td>52.44</td>\n",
              "      <td>47747.50</td>\n",
              "      <td>7456.50</td>\n",
              "      <td>0.0</td>\n",
              "      <td>19.12</td>\n",
              "      <td>56.49</td>\n",
              "      <td>32.59</td>\n",
              "    </tr>\n",
              "    <tr>\n",
              "      <th>2017-01-08 21:00:00</th>\n",
              "      <td>51.86</td>\n",
              "      <td>47761.75</td>\n",
              "      <td>6902.50</td>\n",
              "      <td>0.0</td>\n",
              "      <td>19.12</td>\n",
              "      <td>56.49</td>\n",
              "      <td>32.59</td>\n",
              "    </tr>\n",
              "    <tr>\n",
              "      <th>2017-01-08 22:00:00</th>\n",
              "      <td>52.26</td>\n",
              "      <td>46222.50</td>\n",
              "      <td>6395.00</td>\n",
              "      <td>0.0</td>\n",
              "      <td>19.12</td>\n",
              "      <td>56.49</td>\n",
              "      <td>32.59</td>\n",
              "    </tr>\n",
              "    <tr>\n",
              "      <th>2017-01-08 23:00:00</th>\n",
              "      <td>50.87</td>\n",
              "      <td>43520.50</td>\n",
              "      <td>4633.50</td>\n",
              "      <td>0.0</td>\n",
              "      <td>19.12</td>\n",
              "      <td>56.67</td>\n",
              "      <td>32.59</td>\n",
              "    </tr>\n",
              "  </tbody>\n",
              "</table>\n",
              "<p>52608 rows × 7 columns</p>\n",
              "</div>\n",
              "    <div class=\"colab-df-buttons\">\n",
              "\n",
              "  <div class=\"colab-df-container\">\n",
              "    <button class=\"colab-df-convert\" onclick=\"convertToInteractive('df-3a192ba1-2af3-47ca-90ea-76a9de2f8851')\"\n",
              "            title=\"Convert this dataframe to an interactive table.\"\n",
              "            style=\"display:none;\">\n",
              "\n",
              "  <svg xmlns=\"http://www.w3.org/2000/svg\" height=\"24px\" viewBox=\"0 -960 960 960\">\n",
              "    <path d=\"M120-120v-720h720v720H120Zm60-500h600v-160H180v160Zm220 220h160v-160H400v160Zm0 220h160v-160H400v160ZM180-400h160v-160H180v160Zm440 0h160v-160H620v160ZM180-180h160v-160H180v160Zm440 0h160v-160H620v160Z\"/>\n",
              "  </svg>\n",
              "    </button>\n",
              "\n",
              "  <style>\n",
              "    .colab-df-container {\n",
              "      display:flex;\n",
              "      gap: 12px;\n",
              "    }\n",
              "\n",
              "    .colab-df-convert {\n",
              "      background-color: #E8F0FE;\n",
              "      border: none;\n",
              "      border-radius: 50%;\n",
              "      cursor: pointer;\n",
              "      display: none;\n",
              "      fill: #1967D2;\n",
              "      height: 32px;\n",
              "      padding: 0 0 0 0;\n",
              "      width: 32px;\n",
              "    }\n",
              "\n",
              "    .colab-df-convert:hover {\n",
              "      background-color: #E2EBFA;\n",
              "      box-shadow: 0px 1px 2px rgba(60, 64, 67, 0.3), 0px 1px 3px 1px rgba(60, 64, 67, 0.15);\n",
              "      fill: #174EA6;\n",
              "    }\n",
              "\n",
              "    .colab-df-buttons div {\n",
              "      margin-bottom: 4px;\n",
              "    }\n",
              "\n",
              "    [theme=dark] .colab-df-convert {\n",
              "      background-color: #3B4455;\n",
              "      fill: #D2E3FC;\n",
              "    }\n",
              "\n",
              "    [theme=dark] .colab-df-convert:hover {\n",
              "      background-color: #434B5C;\n",
              "      box-shadow: 0px 1px 3px 1px rgba(0, 0, 0, 0.15);\n",
              "      filter: drop-shadow(0px 1px 2px rgba(0, 0, 0, 0.3));\n",
              "      fill: #FFFFFF;\n",
              "    }\n",
              "  </style>\n",
              "\n",
              "    <script>\n",
              "      const buttonEl =\n",
              "        document.querySelector('#df-3a192ba1-2af3-47ca-90ea-76a9de2f8851 button.colab-df-convert');\n",
              "      buttonEl.style.display =\n",
              "        google.colab.kernel.accessAllowed ? 'block' : 'none';\n",
              "\n",
              "      async function convertToInteractive(key) {\n",
              "        const element = document.querySelector('#df-3a192ba1-2af3-47ca-90ea-76a9de2f8851');\n",
              "        const dataTable =\n",
              "          await google.colab.kernel.invokeFunction('convertToInteractive',\n",
              "                                                    [key], {});\n",
              "        if (!dataTable) return;\n",
              "\n",
              "        const docLinkHtml = 'Like what you see? Visit the ' +\n",
              "          '<a target=\"_blank\" href=https://colab.research.google.com/notebooks/data_table.ipynb>data table notebook</a>'\n",
              "          + ' to learn more about interactive tables.';\n",
              "        element.innerHTML = '';\n",
              "        dataTable['output_type'] = 'display_data';\n",
              "        await google.colab.output.renderOutput(dataTable, element);\n",
              "        const docLink = document.createElement('div');\n",
              "        docLink.innerHTML = docLinkHtml;\n",
              "        element.appendChild(docLink);\n",
              "      }\n",
              "    </script>\n",
              "  </div>\n",
              "\n",
              "\n",
              "<div id=\"df-09e91896-aa31-442f-8431-6dc2ef93be97\">\n",
              "  <button class=\"colab-df-quickchart\" onclick=\"quickchart('df-09e91896-aa31-442f-8431-6dc2ef93be97')\"\n",
              "            title=\"Suggest charts\"\n",
              "            style=\"display:none;\">\n",
              "\n",
              "<svg xmlns=\"http://www.w3.org/2000/svg\" height=\"24px\"viewBox=\"0 0 24 24\"\n",
              "     width=\"24px\">\n",
              "    <g>\n",
              "        <path d=\"M19 3H5c-1.1 0-2 .9-2 2v14c0 1.1.9 2 2 2h14c1.1 0 2-.9 2-2V5c0-1.1-.9-2-2-2zM9 17H7v-7h2v7zm4 0h-2V7h2v10zm4 0h-2v-4h2v4z\"/>\n",
              "    </g>\n",
              "</svg>\n",
              "  </button>\n",
              "\n",
              "<style>\n",
              "  .colab-df-quickchart {\n",
              "      --bg-color: #E8F0FE;\n",
              "      --fill-color: #1967D2;\n",
              "      --hover-bg-color: #E2EBFA;\n",
              "      --hover-fill-color: #174EA6;\n",
              "      --disabled-fill-color: #AAA;\n",
              "      --disabled-bg-color: #DDD;\n",
              "  }\n",
              "\n",
              "  [theme=dark] .colab-df-quickchart {\n",
              "      --bg-color: #3B4455;\n",
              "      --fill-color: #D2E3FC;\n",
              "      --hover-bg-color: #434B5C;\n",
              "      --hover-fill-color: #FFFFFF;\n",
              "      --disabled-bg-color: #3B4455;\n",
              "      --disabled-fill-color: #666;\n",
              "  }\n",
              "\n",
              "  .colab-df-quickchart {\n",
              "    background-color: var(--bg-color);\n",
              "    border: none;\n",
              "    border-radius: 50%;\n",
              "    cursor: pointer;\n",
              "    display: none;\n",
              "    fill: var(--fill-color);\n",
              "    height: 32px;\n",
              "    padding: 0;\n",
              "    width: 32px;\n",
              "  }\n",
              "\n",
              "  .colab-df-quickchart:hover {\n",
              "    background-color: var(--hover-bg-color);\n",
              "    box-shadow: 0 1px 2px rgba(60, 64, 67, 0.3), 0 1px 3px 1px rgba(60, 64, 67, 0.15);\n",
              "    fill: var(--button-hover-fill-color);\n",
              "  }\n",
              "\n",
              "  .colab-df-quickchart-complete:disabled,\n",
              "  .colab-df-quickchart-complete:disabled:hover {\n",
              "    background-color: var(--disabled-bg-color);\n",
              "    fill: var(--disabled-fill-color);\n",
              "    box-shadow: none;\n",
              "  }\n",
              "\n",
              "  .colab-df-spinner {\n",
              "    border: 2px solid var(--fill-color);\n",
              "    border-color: transparent;\n",
              "    border-bottom-color: var(--fill-color);\n",
              "    animation:\n",
              "      spin 1s steps(1) infinite;\n",
              "  }\n",
              "\n",
              "  @keyframes spin {\n",
              "    0% {\n",
              "      border-color: transparent;\n",
              "      border-bottom-color: var(--fill-color);\n",
              "      border-left-color: var(--fill-color);\n",
              "    }\n",
              "    20% {\n",
              "      border-color: transparent;\n",
              "      border-left-color: var(--fill-color);\n",
              "      border-top-color: var(--fill-color);\n",
              "    }\n",
              "    30% {\n",
              "      border-color: transparent;\n",
              "      border-left-color: var(--fill-color);\n",
              "      border-top-color: var(--fill-color);\n",
              "      border-right-color: var(--fill-color);\n",
              "    }\n",
              "    40% {\n",
              "      border-color: transparent;\n",
              "      border-right-color: var(--fill-color);\n",
              "      border-top-color: var(--fill-color);\n",
              "    }\n",
              "    60% {\n",
              "      border-color: transparent;\n",
              "      border-right-color: var(--fill-color);\n",
              "    }\n",
              "    80% {\n",
              "      border-color: transparent;\n",
              "      border-right-color: var(--fill-color);\n",
              "      border-bottom-color: var(--fill-color);\n",
              "    }\n",
              "    90% {\n",
              "      border-color: transparent;\n",
              "      border-bottom-color: var(--fill-color);\n",
              "    }\n",
              "  }\n",
              "</style>\n",
              "\n",
              "  <script>\n",
              "    async function quickchart(key) {\n",
              "      const quickchartButtonEl =\n",
              "        document.querySelector('#' + key + ' button');\n",
              "      quickchartButtonEl.disabled = true;  // To prevent multiple clicks.\n",
              "      quickchartButtonEl.classList.add('colab-df-spinner');\n",
              "      try {\n",
              "        const charts = await google.colab.kernel.invokeFunction(\n",
              "            'suggestCharts', [key], {});\n",
              "      } catch (error) {\n",
              "        console.error('Error during call to suggestCharts:', error);\n",
              "      }\n",
              "      quickchartButtonEl.classList.remove('colab-df-spinner');\n",
              "      quickchartButtonEl.classList.add('colab-df-quickchart-complete');\n",
              "    }\n",
              "    (() => {\n",
              "      let quickchartButtonEl =\n",
              "        document.querySelector('#df-09e91896-aa31-442f-8431-6dc2ef93be97 button');\n",
              "      quickchartButtonEl.style.display =\n",
              "        google.colab.kernel.accessAllowed ? 'block' : 'none';\n",
              "    })();\n",
              "  </script>\n",
              "</div>\n",
              "\n",
              "  <div id=\"id_db4cb9d8-1fa8-425f-800c-3abd1f47abbd\">\n",
              "    <style>\n",
              "      .colab-df-generate {\n",
              "        background-color: #E8F0FE;\n",
              "        border: none;\n",
              "        border-radius: 50%;\n",
              "        cursor: pointer;\n",
              "        display: none;\n",
              "        fill: #1967D2;\n",
              "        height: 32px;\n",
              "        padding: 0 0 0 0;\n",
              "        width: 32px;\n",
              "      }\n",
              "\n",
              "      .colab-df-generate:hover {\n",
              "        background-color: #E2EBFA;\n",
              "        box-shadow: 0px 1px 2px rgba(60, 64, 67, 0.3), 0px 1px 3px 1px rgba(60, 64, 67, 0.15);\n",
              "        fill: #174EA6;\n",
              "      }\n",
              "\n",
              "      [theme=dark] .colab-df-generate {\n",
              "        background-color: #3B4455;\n",
              "        fill: #D2E3FC;\n",
              "      }\n",
              "\n",
              "      [theme=dark] .colab-df-generate:hover {\n",
              "        background-color: #434B5C;\n",
              "        box-shadow: 0px 1px 3px 1px rgba(0, 0, 0, 0.15);\n",
              "        filter: drop-shadow(0px 1px 2px rgba(0, 0, 0, 0.3));\n",
              "        fill: #FFFFFF;\n",
              "      }\n",
              "    </style>\n",
              "    <button class=\"colab-df-generate\" onclick=\"generateWithVariable('EPF_1')\"\n",
              "            title=\"Generate code using this dataframe.\"\n",
              "            style=\"display:none;\">\n",
              "\n",
              "  <svg xmlns=\"http://www.w3.org/2000/svg\" height=\"24px\"viewBox=\"0 0 24 24\"\n",
              "       width=\"24px\">\n",
              "    <path d=\"M7,19H8.4L18.45,9,17,7.55,7,17.6ZM5,21V16.75L18.45,3.32a2,2,0,0,1,2.83,0l1.4,1.43a1.91,1.91,0,0,1,.58,1.4,1.91,1.91,0,0,1-.58,1.4L9.25,21ZM18.45,9,17,7.55Zm-12,3A5.31,5.31,0,0,0,4.9,8.1,5.31,5.31,0,0,0,1,6.5,5.31,5.31,0,0,0,4.9,4.9,5.31,5.31,0,0,0,6.5,1,5.31,5.31,0,0,0,8.1,4.9,5.31,5.31,0,0,0,12,6.5,5.46,5.46,0,0,0,6.5,12Z\"/>\n",
              "  </svg>\n",
              "    </button>\n",
              "    <script>\n",
              "      (() => {\n",
              "      const buttonEl =\n",
              "        document.querySelector('#id_db4cb9d8-1fa8-425f-800c-3abd1f47abbd button.colab-df-generate');\n",
              "      buttonEl.style.display =\n",
              "        google.colab.kernel.accessAllowed ? 'block' : 'none';\n",
              "\n",
              "      buttonEl.onclick = () => {\n",
              "        google.colab.notebook.generateWithVariable('EPF_1');\n",
              "      }\n",
              "      })();\n",
              "    </script>\n",
              "  </div>\n",
              "\n",
              "    </div>\n",
              "  </div>\n"
            ],
            "application/vnd.google.colaboratory.intrinsic+json": {
              "type": "dataframe",
              "variable_name": "EPF_1",
              "summary": "{\n  \"name\": \"EPF_1\",\n  \"rows\": 52608,\n  \"fields\": [\n    {\n      \"column\": \"Date\",\n      \"properties\": {\n        \"dtype\": \"date\",\n        \"min\": \"2011-01-09 00:00:00\",\n        \"max\": \"2017-01-08 23:00:00\",\n        \"num_unique_values\": 52608,\n        \"samples\": [\n          \"2016-05-05 05:00:00\",\n          \"2014-02-27 13:00:00\",\n          \"2013-04-30 14:00:00\"\n        ],\n        \"semantic_type\": \"\",\n        \"description\": \"\"\n      }\n    },\n    {\n      \"column\": \"Price\",\n      \"properties\": {\n        \"dtype\": \"number\",\n        \"std\": 16.60854415826792,\n        \"min\": -130.09,\n        \"max\": 200.04,\n        \"num_unique_values\": 7964,\n        \"samples\": [\n          34.68,\n          17.19,\n          11.64\n        ],\n        \"semantic_type\": \"\",\n        \"description\": \"\"\n      }\n    },\n    {\n      \"column\": \"Exogenous 1\",\n      \"properties\": {\n        \"dtype\": \"number\",\n        \"std\": 9994.98390753469,\n        \"min\": 29203.5,\n        \"max\": 77804.4045954824,\n        \"num_unique_values\": 52240,\n        \"samples\": [\n          52198.3998975957,\n          67069.37276967682,\n          43496.309080877254\n        ],\n        \"semantic_type\": \"\",\n        \"description\": \"\"\n      }\n    },\n    {\n      \"column\": \"Exogenous 2\",\n      \"properties\": {\n        \"dtype\": \"number\",\n        \"std\": 9053.45723482938,\n        \"min\": 313.5,\n        \"max\": 47230.75,\n        \"num_unique_values\": 40735,\n        \"samples\": [\n          11215.0,\n          1601.0,\n          12166.25\n        ],\n        \"semantic_type\": \"\",\n        \"description\": \"\"\n      }\n    },\n    {\n      \"column\": \"Exogenous 3\",\n      \"properties\": {\n        \"dtype\": \"number\",\n        \"std\": 6851.51720627975,\n        \"min\": 0.0,\n        \"max\": 32478.5,\n        \"num_unique_values\": 22749,\n        \"samples\": [\n          15291.5,\n          11273.0,\n          761.0\n        ],\n        \"semantic_type\": \"\",\n        \"description\": \"\"\n      }\n    },\n    {\n      \"column\": \"Exogenous 4\",\n      \"properties\": {\n        \"dtype\": \"number\",\n        \"std\": 4.941556373095085,\n        \"min\": 3.51,\n        \"max\": 29.24,\n        \"num_unique_values\": 1021,\n        \"samples\": [\n          18.13,\n          21.68,\n          17.57\n        ],\n        \"semantic_type\": \"\",\n        \"description\": \"\"\n      }\n    },\n    {\n      \"column\": \"Exogenous 5\",\n      \"properties\": {\n        \"dtype\": \"number\",\n        \"std\": 14.928373932532686,\n        \"min\": 34.67,\n        \"max\": 88.08,\n        \"num_unique_values\": 1283,\n        \"samples\": [\n          48.2,\n          48.27,\n          40.55\n        ],\n        \"semantic_type\": \"\",\n        \"description\": \"\"\n      }\n    },\n    {\n      \"column\": \"Exogenous 6\",\n      \"properties\": {\n        \"dtype\": \"number\",\n        \"std\": 8.751931269114882,\n        \"min\": 3.93,\n        \"max\": 33.29,\n        \"num_unique_values\": 948,\n        \"samples\": [\n          23.24,\n          30.9,\n          8.51\n        ],\n        \"semantic_type\": \"\",\n        \"description\": \"\"\n      }\n    }\n  ]\n}"
            }
          },
          "metadata": {},
          "execution_count": 14
        }
      ]
    },
    {
      "cell_type": "code",
      "source": [
        "# Import necessary modules\n",
        "from epftoolbox.data import read_data, DataScaler\n",
        "import pandas as pd\n",
        "\n",
        "# Read original data\n",
        "df_train, df_test = read_data(path='.', dataset='EPF_data_FUND', begin_test_date='05/01/2015', end_test_date='08/01/2017')\n",
        "\n",
        "# Extract values from original dataframes\n",
        "Xtrain_orig = df_train.values\n",
        "Xtest_orig = df_test.values\n",
        "\n",
        "# Initialize the scaler\n",
        "scaler = DataScaler('Norm')  # Replace 'Norm' with the desired scaling method\n",
        "\n",
        "# Fit and transform the training data\n",
        "Xtrain_scaled = scaler.fit_transform(Xtrain_orig)\n",
        "\n",
        "# Transform the test data\n",
        "Xtest_scaled = scaler.transform(Xtest_orig)\n",
        "\n",
        "# Combine scaled training and test data into single DataFrames\n",
        "df_combined_scaled = pd.concat([pd.DataFrame(Xtrain_scaled, index=df_train.index, columns=df_train.columns),\n",
        "                               pd.DataFrame(Xtest_scaled, index=df_test.index, columns=df_test.columns)])\n",
        "\n",
        "# Save combined scaled dataframe to CSV\n",
        "df_combined_scaled.to_csv('EPF_exo_scaled.csv', index=True)\n",
        "\n",
        "# Now, the combined scaled training and test data is saved into the CSV file 'EPF_data_FUND_combined_scaled.csv'\n"
      ],
      "metadata": {
        "colab": {
          "base_uri": "https://localhost:8080/"
        },
        "id": "9tOoQSS9Jwhx",
        "outputId": "e26677fe-bdc2-4e19-f2c8-2cb484c180b9"
      },
      "execution_count": 20,
      "outputs": [
        {
          "output_type": "stream",
          "name": "stdout",
          "text": [
            "Test datasets: 2015-01-05 00:00:00 - 2017-01-08 23:00:00\n"
          ]
        }
      ]
    },
    {
      "cell_type": "markdown",
      "source": [
        "Hyper"
      ],
      "metadata": {
        "id": "YWMGJcr10VJx"
      }
    },
    {
      "cell_type": "code",
      "source": [
        "from epftoolbox.models import hyperparameter_optimizer\n",
        "\n",
        "# Number of layers in DNN\n",
        "nlayers = 2\n",
        "\n",
        "# Market under study. If it not one of the standard ones, the file name\n",
        "# has to be provided, where the file has to be a csv file\n",
        "dataset = 'EPF_exo_scaled'\n",
        "\n",
        "# Number of years (a year is 364 days) in the test dataset.\n",
        "years_test = 2\n",
        "\n",
        "# Optional parameters for selecting the test dataset, if either of them is not provided,\n",
        "# the test dataset is built using the years_test parameter. They should either be one of\n",
        "# the date formats existing in python or a string with the following format\n",
        "# \"%d/%m/%Y %H:%M\"\n",
        "begin_test_date = '05/01/2015'\n",
        "end_test_date = '08/01/2017'\n",
        "# Boolean that selects whether the validation and training datasets are shuffled\n",
        "shuffle_train = 1\n",
        "\n",
        "# Boolean that selects whether a data augmentation technique for DNNs is used\n",
        "data_augmentation = 0\n",
        "\n",
        "# Boolean that selects whether we start a new hyperparameter optimization or we restart an existing one\n",
        "new_hyperopt = 1\n",
        "\n",
        "# Number of years used in the training dataset for recalibration\n",
        "calibration_window = 4\n",
        "\n",
        "# Unique identifier to read the trials file of hyperparameter optimization\n",
        "experiment_id = 1\n",
        "\n",
        "# Number of iterations for hyperparameter optimization\n",
        "max_evals = 1500\n",
        "\n",
        "path_datasets_folder = \"./datasets/\"\n",
        "path_hyperparameters_folder = \"./experimental_files/\""
      ],
      "metadata": {
        "id": "070ZaOBq0O09"
      },
      "execution_count": 21,
      "outputs": []
    },
    {
      "cell_type": "code",
      "source": [
        "# Check documentation of the hyperparameter_optimizer for each of the function parameters\n",
        "# In this example, we optimize a model for the PJM market.\n",
        "# We consider two directories, one for storing the datasets and the other one for the experimental files.\n",
        "# We start a hyperparameter optimization from scratch. We employ 1500 iterations in hyperopt,\n",
        "# 2 years of test data, a DNN with 2 hidden layers, a calibration window of 4 years,\n",
        "# we avoid data augmentation,  and we provide an experiment_id equal to 1\n",
        "hyperparameter_optimizer(path_datasets_folder=path_datasets_folder,\n",
        "                         path_hyperparameters_folder=path_hyperparameters_folder,\n",
        "                         new_hyperopt=new_hyperopt, max_evals=max_evals, nlayers=nlayers, dataset=dataset,\n",
        "                         years_test=years_test, calibration_window=calibration_window,\n",
        "                         shuffle_train=shuffle_train, data_augmentation=0, experiment_id=experiment_id,\n",
        "                         begin_test_date=begin_test_date, end_test_date=end_test_date)"
      ],
      "metadata": {
        "colab": {
          "base_uri": "https://localhost:8080/"
        },
        "id": "PewBq6P503u_",
        "outputId": "52fa41b4-e94e-4764-a610-568a85a8e211"
      },
      "execution_count": null,
      "outputs": [
        {
          "output_type": "stream",
          "name": "stdout",
          "text": [
            "Test datasets: 2015-01-05 00:00:00 - 2017-01-08 23:00:00\n"
          ]
        },
        {
          "output_type": "stream",
          "name": "stderr",
          "text": [
            "WARNING:absl:`lr` is deprecated in Keras optimizer, please use `learning_rate` or use the legacy optimizer, e.g.,tf.keras.optimizers.legacy.Adam.\n"
          ]
        },
        {
          "output_type": "stream",
          "name": "stdout",
          "text": [
            "\n",
            "\n",
            "Tested 1/1500 iterations.\n",
            "Best MAE - Validation Dataset\n",
            "  MAE: 0.0 | sMAPE: 2.41 %\n",
            "\n",
            "Best MAE - Test Dataset\n",
            "  MAE: 0.0 | sMAPE: 4.06 %\n"
          ]
        },
        {
          "output_type": "stream",
          "name": "stderr",
          "text": [
            "WARNING:absl:`lr` is deprecated in Keras optimizer, please use `learning_rate` or use the legacy optimizer, e.g.,tf.keras.optimizers.legacy.Adam.\n"
          ]
        },
        {
          "output_type": "stream",
          "name": "stdout",
          "text": [
            "\n",
            "\n",
            "Tested 2/1500 iterations.\n",
            "Best MAE - Validation Dataset\n",
            "  MAE: 0.0 | sMAPE: 2.41 %\n",
            "\n",
            "Best MAE - Test Dataset\n",
            "  MAE: 0.0 | sMAPE: 4.06 %\n"
          ]
        },
        {
          "output_type": "stream",
          "name": "stderr",
          "text": [
            "WARNING:absl:`lr` is deprecated in Keras optimizer, please use `learning_rate` or use the legacy optimizer, e.g.,tf.keras.optimizers.legacy.Adam.\n"
          ]
        }
      ]
    }
  ]
}