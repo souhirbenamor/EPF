{
  "nbformat": 4,
  "nbformat_minor": 0,
  "metadata": {
    "colab": {
      "provenance": [],
      "authorship_tag": "ABX9TyOXkEB69GtnG1tNeY/cUeMj",
      "include_colab_link": true
    },
    "kernelspec": {
      "name": "python3",
      "display_name": "Python 3"
    },
    "language_info": {
      "name": "python"
    }
  },
  "cells": [
    {
      "cell_type": "markdown",
      "metadata": {
        "id": "view-in-github",
        "colab_type": "text"
      },
      "source": [
        "<a href=\"https://colab.research.google.com/github/souhirbenamor/EPF/blob/main/Hyperparameters_DNN_Bridging.ipynb\" target=\"_parent\"><img src=\"https://colab.research.google.com/assets/colab-badge.svg\" alt=\"Open In Colab\"/></a>"
      ]
    },
    {
      "cell_type": "code",
      "execution_count": null,
      "metadata": {
        "id": "cE61-ee7QJcj"
      },
      "outputs": [],
      "source": [
        "import numpy as np\n",
        "import matplotlib.pyplot as plt\n",
        "import pandas as pd"
      ]
    },
    {
      "cell_type": "code",
      "source": [
        "!pip install gitpython"
      ],
      "metadata": {
        "colab": {
          "base_uri": "https://localhost:8080/"
        },
        "id": "zFtRgnjMQXCM",
        "outputId": "5f1f2090-4e39-43d0-9756-785bdebc21da"
      },
      "execution_count": null,
      "outputs": [
        {
          "output_type": "stream",
          "name": "stdout",
          "text": [
            "Looking in indexes: https://pypi.org/simple, https://us-python.pkg.dev/colab-wheels/public/simple/\n",
            "Collecting gitpython\n",
            "  Downloading GitPython-3.1.27-py3-none-any.whl (181 kB)\n",
            "\u001b[K     |████████████████████████████████| 181 kB 5.2 MB/s \n",
            "\u001b[?25hRequirement already satisfied: typing-extensions>=3.7.4.3 in /usr/local/lib/python3.7/dist-packages (from gitpython) (4.1.1)\n",
            "Collecting gitdb<5,>=4.0.1\n",
            "  Downloading gitdb-4.0.9-py3-none-any.whl (63 kB)\n",
            "\u001b[K     |████████████████████████████████| 63 kB 1.6 MB/s \n",
            "\u001b[?25hCollecting smmap<6,>=3.0.1\n",
            "  Downloading smmap-5.0.0-py3-none-any.whl (24 kB)\n",
            "Installing collected packages: smmap, gitdb, gitpython\n",
            "Successfully installed gitdb-4.0.9 gitpython-3.1.27 smmap-5.0.0\n"
          ]
        }
      ]
    },
    {
      "cell_type": "code",
      "source": [
        "import os\n",
        "from git.repo.base import Repo\n",
        "Repo.clone_from(\"https://github.com/jeslago/epftoolbox\", \"epftoolbox\")"
      ],
      "metadata": {
        "colab": {
          "base_uri": "https://localhost:8080/"
        },
        "id": "GYaZNWUbQLSd",
        "outputId": "c841584d-ee90-4158-e27c-fa3691d87e45"
      },
      "execution_count": null,
      "outputs": [
        {
          "output_type": "execute_result",
          "data": {
            "text/plain": [
              "<git.repo.base.Repo '/content/epftoolbox/.git'>"
            ]
          },
          "metadata": {},
          "execution_count": 3
        }
      ]
    },
    {
      "cell_type": "code",
      "source": [
        "cd epftoolbox"
      ],
      "metadata": {
        "colab": {
          "base_uri": "https://localhost:8080/"
        },
        "id": "ebS4Dt1AQObN",
        "outputId": "ca2d7ec3-825d-4119-ed53-e1ebf747df9c"
      },
      "execution_count": null,
      "outputs": [
        {
          "output_type": "stream",
          "name": "stdout",
          "text": [
            "/content/epftoolbox\n"
          ]
        }
      ]
    },
    {
      "cell_type": "code",
      "source": [
        "\"\"\"\n",
        "Example for optimizing the hyperparameter and features of the DNN model\n",
        "\"\"\"\n",
        "\n",
        "# Author: Jesus Lago\n",
        "\n",
        "# License: AGPL-3.0 License\n",
        "\n",
        "\n",
        "from epftoolbox.models import hyperparameter_optimizer\n",
        "\n",
        "# Number of layers in DNN\n",
        "nlayers = 2\n",
        "\n",
        "# Market under study. If it not one of the standard ones, the file name\n",
        "# has to be provided, where the file has to be a csv file\n",
        "dataset = 'EPF_data'\n",
        "\n",
        "# Number of years (a year is 364 days) in the test dataset.\n",
        "years_test = 2\n",
        "\n",
        "# Optional parameters for selecting the test dataset, if either of them is not provided, \n",
        "# the test dataset is built using the years_test parameter. They should either be one of\n",
        "# the date formats existing in python or a string with the following format\n",
        "# \"%d/%m/%Y %H:%M\"\n",
        "begin_test_date = None\n",
        "end_test_date = None\n",
        "\n",
        "# Boolean that selects whether the validation and training datasets are shuffled\n",
        "shuffle_train = 1\n",
        "\n",
        "# Boolean that selects whether a data augmentation technique for DNNs is used\n",
        "data_augmentation = 0\n",
        "\n",
        "# Boolean that selects whether we start a new hyperparameter optimization or we restart an existing one\n",
        "new_hyperopt = 1\n",
        "\n",
        "# Number of years used in the training dataset for recalibration\n",
        "calibration_window = 4\n",
        "\n",
        "# Unique identifier to read the trials file of hyperparameter optimization\n",
        "experiment_id = 1\n",
        "\n",
        "# Number of iterations for hyperparameter optimization\n",
        "max_evals = 1500\n",
        "\n",
        "path_datasets_folder = \"./datasets/\"\n",
        "path_hyperparameters_folder = \"./experimental_files/\"\n",
        "\n",
        "# Check documentation of the hyperparameter_optimizer for each of the function parameters\n",
        "# In this example, we optimize a model for the PJM market.\n",
        "# We consider two directories, one for storing the datasets and the other one for the experimental files.\n",
        "# We start a hyperparameter optimization from scratch. We employ 1500 iterations in hyperopt,\n",
        "# 2 years of test data, a DNN with 2 hidden layers, a calibration window of 4 years,\n",
        "# we avoid data augmentation,  and we provide an experiment_id equal to 1\n",
        "hyperparameter_optimizer(path_datasets_folder=path_datasets_folder, \n",
        "                         path_hyperparameters_folder=path_hyperparameters_folder, \n",
        "                         new_hyperopt=new_hyperopt, max_evals=max_evals, nlayers=nlayers, dataset=dataset, \n",
        "                         years_test=years_test, calibration_window=calibration_window, \n",
        "                         shuffle_train=shuffle_train, data_augmentation=0, experiment_id=experiment_id,\n",
        "                         begin_test_date=begin_test_date, end_test_date=end_test_date)\n",
        "\n"
      ],
      "metadata": {
        "id": "ABW2kSESN29I",
        "outputId": "ba7f4dfc-a3a6-40a1-8220-98ed3bed6860",
        "colab": {
          "base_uri": "https://localhost:8080/"
        }
      },
      "execution_count": null,
      "outputs": [
        {
          "output_type": "stream",
          "name": "stdout",
          "text": [
            "\r  0%|          | 0/1500 [00:00<?, ?it/s, best loss: ?]"
          ]
        },
        {
          "output_type": "stream",
          "name": "stderr",
          "text": [
            "/usr/local/lib/python3.7/dist-packages/keras/optimizer_v2/adam.py:105: UserWarning: The `lr` argument is deprecated, use `learning_rate` instead.\n",
            "  super(Adam, self).__init__(name, **kwargs)\n",
            "\n"
          ]
        },
        {
          "output_type": "stream",
          "name": "stdout",
          "text": [
            "\n",
            "\n",
            "Tested 1/1500 iterations.\n",
            "Best MAE - Validation Dataset\n",
            "  MAE: 6.7 | sMAPE: 22.60 %\n",
            "\n",
            "Best MAE - Test Dataset\n",
            "  MAE: 8.5 | sMAPE: 31.18 %\n",
            "  0%|          | 1/1500 [00:36<15:03:33, 36.17s/it, best loss: 6.686118085314117]"
          ]
        },
        {
          "output_type": "stream",
          "name": "stderr",
          "text": [
            "/usr/local/lib/python3.7/dist-packages/keras/optimizer_v2/adam.py:105: UserWarning: The `lr` argument is deprecated, use `learning_rate` instead.\n",
            "  super(Adam, self).__init__(name, **kwargs)\n",
            "\n"
          ]
        },
        {
          "output_type": "stream",
          "name": "stdout",
          "text": [
            "\n",
            "\n",
            "Tested 2/1500 iterations.\n",
            "Best MAE - Validation Dataset\n",
            "  MAE: 6.7 | sMAPE: 22.60 %\n",
            "\n",
            "Best MAE - Test Dataset\n",
            "  MAE: 8.5 | sMAPE: 31.18 %\n",
            "  0%|          | 2/1500 [01:06<13:38:37, 32.79s/it, best loss: 6.686118085314117]"
          ]
        },
        {
          "output_type": "stream",
          "name": "stderr",
          "text": [
            "/usr/local/lib/python3.7/dist-packages/keras/optimizer_v2/adam.py:105: UserWarning: The `lr` argument is deprecated, use `learning_rate` instead.\n",
            "  super(Adam, self).__init__(name, **kwargs)\n",
            "\n"
          ]
        },
        {
          "output_type": "stream",
          "name": "stdout",
          "text": [
            "\n",
            "\n",
            "Tested 3/1500 iterations.\n",
            "Best MAE - Validation Dataset\n",
            "  MAE: 6.4 | sMAPE: 21.62 %\n",
            "\n",
            "Best MAE - Test Dataset\n",
            "  MAE: 7.3 | sMAPE: 27.79 %\n",
            "  0%|          | 3/1500 [01:47<15:07:51, 36.39s/it, best loss: 6.417223723966004]"
          ]
        },
        {
          "output_type": "stream",
          "name": "stderr",
          "text": [
            "/usr/local/lib/python3.7/dist-packages/keras/optimizer_v2/adam.py:105: UserWarning: The `lr` argument is deprecated, use `learning_rate` instead.\n",
            "  super(Adam, self).__init__(name, **kwargs)\n",
            "\n"
          ]
        },
        {
          "output_type": "stream",
          "name": "stdout",
          "text": [
            "\n",
            "\n",
            "Tested 4/1500 iterations.\n",
            "Best MAE - Validation Dataset\n",
            "  MAE: 6.4 | sMAPE: 21.62 %\n",
            "\n",
            "Best MAE - Test Dataset\n",
            "  MAE: 7.3 | sMAPE: 27.79 %\n",
            "  0%|          | 4/1500 [02:58<20:53:58, 50.29s/it, best loss: 6.417223723966004]"
          ]
        },
        {
          "output_type": "stream",
          "name": "stderr",
          "text": [
            "/usr/local/lib/python3.7/dist-packages/keras/optimizer_v2/adam.py:105: UserWarning: The `lr` argument is deprecated, use `learning_rate` instead.\n",
            "  super(Adam, self).__init__(name, **kwargs)\n",
            "\n"
          ]
        },
        {
          "output_type": "stream",
          "name": "stdout",
          "text": [
            "\n",
            "\n",
            "Tested 5/1500 iterations.\n",
            "Best MAE - Validation Dataset\n",
            "  MAE: 5.2 | sMAPE: 17.98 %\n",
            "\n",
            "Best MAE - Test Dataset\n",
            "  MAE: 6.1 | sMAPE: 24.30 %\n",
            "  0%|          | 5/1500 [04:52<30:20:02, 73.04s/it, best loss: 5.209015471702287]"
          ]
        },
        {
          "output_type": "stream",
          "name": "stderr",
          "text": [
            "/usr/local/lib/python3.7/dist-packages/keras/optimizer_v2/adam.py:105: UserWarning: The `lr` argument is deprecated, use `learning_rate` instead.\n",
            "  super(Adam, self).__init__(name, **kwargs)\n",
            "\n"
          ]
        },
        {
          "output_type": "stream",
          "name": "stdout",
          "text": [
            "\n",
            "\n",
            "Tested 6/1500 iterations.\n",
            "Best MAE - Validation Dataset\n",
            "  MAE: 5.2 | sMAPE: 17.98 %\n",
            "\n",
            "Best MAE - Test Dataset\n",
            "  MAE: 6.1 | sMAPE: 24.30 %\n",
            "  0%|          | 6/1500 [05:19<23:49:27, 57.41s/it, best loss: 5.209015471702287]"
          ]
        },
        {
          "output_type": "stream",
          "name": "stderr",
          "text": [
            "/usr/local/lib/python3.7/dist-packages/keras/optimizer_v2/adam.py:105: UserWarning: The `lr` argument is deprecated, use `learning_rate` instead.\n",
            "  super(Adam, self).__init__(name, **kwargs)\n",
            "\n"
          ]
        },
        {
          "output_type": "stream",
          "name": "stdout",
          "text": [
            "\n",
            "\n",
            "Tested 7/1500 iterations.\n",
            "Best MAE - Validation Dataset\n",
            "  MAE: 5.2 | sMAPE: 17.98 %\n",
            "\n",
            "Best MAE - Test Dataset\n",
            "  MAE: 6.1 | sMAPE: 24.30 %\n",
            "  0%|          | 7/1500 [05:55<20:54:08, 50.40s/it, best loss: 5.209015471702287]"
          ]
        },
        {
          "output_type": "stream",
          "name": "stderr",
          "text": [
            "/usr/local/lib/python3.7/dist-packages/keras/optimizer_v2/adam.py:105: UserWarning: The `lr` argument is deprecated, use `learning_rate` instead.\n",
            "  super(Adam, self).__init__(name, **kwargs)\n",
            "\n"
          ]
        },
        {
          "output_type": "stream",
          "name": "stdout",
          "text": [
            "\n",
            "\n",
            "Tested 8/1500 iterations.\n",
            "Best MAE - Validation Dataset\n",
            "  MAE: 5.2 | sMAPE: 17.98 %\n",
            "\n",
            "Best MAE - Test Dataset\n",
            "  MAE: 6.1 | sMAPE: 24.30 %\n",
            "  1%|          | 8/1500 [06:03<15:17:35, 36.90s/it, best loss: 5.209015471702287]"
          ]
        },
        {
          "output_type": "stream",
          "name": "stderr",
          "text": [
            "/usr/local/lib/python3.7/dist-packages/keras/optimizer_v2/adam.py:105: UserWarning: The `lr` argument is deprecated, use `learning_rate` instead.\n",
            "  super(Adam, self).__init__(name, **kwargs)\n",
            "\n"
          ]
        },
        {
          "output_type": "stream",
          "name": "stdout",
          "text": [
            "\n",
            "\n",
            "Tested 9/1500 iterations.\n",
            "Best MAE - Validation Dataset\n",
            "  MAE: 5.2 | sMAPE: 17.98 %\n",
            "\n",
            "Best MAE - Test Dataset\n",
            "  MAE: 6.1 | sMAPE: 24.30 %\n",
            "  1%|          | 9/1500 [06:17<12:17:24, 29.67s/it, best loss: 5.209015471702287]"
          ]
        },
        {
          "output_type": "stream",
          "name": "stderr",
          "text": [
            "/usr/local/lib/python3.7/dist-packages/keras/optimizer_v2/adam.py:105: UserWarning: The `lr` argument is deprecated, use `learning_rate` instead.\n",
            "  super(Adam, self).__init__(name, **kwargs)\n",
            "\n"
          ]
        },
        {
          "output_type": "stream",
          "name": "stdout",
          "text": [
            "\n",
            "\n",
            "Tested 10/1500 iterations.\n",
            "Best MAE - Validation Dataset\n",
            "  MAE: 5.1 | sMAPE: 18.01 %\n",
            "\n",
            "Best MAE - Test Dataset\n",
            "  MAE: 6.6 | sMAPE: 28.04 %\n",
            "  1%|          | 10/1500 [06:38<11:10:28, 27.00s/it, best loss: 5.07056070090143]"
          ]
        },
        {
          "output_type": "stream",
          "name": "stderr",
          "text": [
            "/usr/local/lib/python3.7/dist-packages/keras/optimizer_v2/adam.py:105: UserWarning: The `lr` argument is deprecated, use `learning_rate` instead.\n",
            "  super(Adam, self).__init__(name, **kwargs)\n",
            "\n"
          ]
        },
        {
          "output_type": "stream",
          "name": "stdout",
          "text": [
            "\n",
            "\n",
            "Tested 11/1500 iterations.\n",
            "Best MAE - Validation Dataset\n",
            "  MAE: 4.8 | sMAPE: 17.51 %\n",
            "\n",
            "Best MAE - Test Dataset\n",
            "  MAE: 6.0 | sMAPE: 25.38 %\n",
            "  1%|          | 11/1500 [06:48<9:05:38, 21.99s/it, best loss: 4.815667928908634]"
          ]
        },
        {
          "output_type": "stream",
          "name": "stderr",
          "text": [
            "/usr/local/lib/python3.7/dist-packages/keras/optimizer_v2/adam.py:105: UserWarning: The `lr` argument is deprecated, use `learning_rate` instead.\n",
            "  super(Adam, self).__init__(name, **kwargs)\n",
            "\n"
          ]
        },
        {
          "output_type": "stream",
          "name": "stdout",
          "text": [
            "\n",
            "\n",
            "Tested 12/1500 iterations.\n",
            "Best MAE - Validation Dataset\n",
            "  MAE: 4.8 | sMAPE: 17.51 %\n",
            "\n",
            "Best MAE - Test Dataset\n",
            "  MAE: 6.0 | sMAPE: 25.38 %\n",
            "  1%|          | 12/1500 [07:21<10:26:11, 25.25s/it, best loss: 4.815667928908634]"
          ]
        },
        {
          "output_type": "stream",
          "name": "stderr",
          "text": [
            "/usr/local/lib/python3.7/dist-packages/keras/optimizer_v2/adam.py:105: UserWarning: The `lr` argument is deprecated, use `learning_rate` instead.\n",
            "  super(Adam, self).__init__(name, **kwargs)\n",
            "\n"
          ]
        },
        {
          "output_type": "stream",
          "name": "stdout",
          "text": [
            "\n",
            "\n",
            "Tested 13/1500 iterations.\n",
            "Best MAE - Validation Dataset\n",
            "  MAE: 4.8 | sMAPE: 17.51 %\n",
            "\n",
            "Best MAE - Test Dataset\n",
            "  MAE: 6.0 | sMAPE: 25.38 %\n",
            "\n",
            "\n",
            "Tested 14/1500 iterations.\n",
            "Best MAE - Validation Dataset\n",
            "  MAE: 4.8 | sMAPE: 17.51 %\n",
            "\n",
            "Best MAE - Test Dataset\n",
            "  MAE: 6.0 | sMAPE: 25.38 %\n",
            "  1%|          | 14/1500 [08:36<12:51:50, 31.16s/it, best loss: 4.815667928908634]"
          ]
        },
        {
          "output_type": "stream",
          "name": "stderr",
          "text": [
            "/usr/local/lib/python3.7/dist-packages/keras/optimizer_v2/adam.py:105: UserWarning: The `lr` argument is deprecated, use `learning_rate` instead.\n",
            "  super(Adam, self).__init__(name, **kwargs)\n",
            "\n"
          ]
        },
        {
          "output_type": "stream",
          "name": "stdout",
          "text": [
            "\n",
            "\n",
            "Tested 15/1500 iterations.\n",
            "Best MAE - Validation Dataset\n",
            "  MAE: 4.8 | sMAPE: 17.51 %\n",
            "\n",
            "Best MAE - Test Dataset\n",
            "  MAE: 6.0 | sMAPE: 25.38 %\n",
            "  1%|          | 15/1500 [08:50<10:45:47, 26.09s/it, best loss: 4.815667928908634]"
          ]
        },
        {
          "output_type": "stream",
          "name": "stderr",
          "text": [
            "/usr/local/lib/python3.7/dist-packages/keras/optimizer_v2/adam.py:105: UserWarning: The `lr` argument is deprecated, use `learning_rate` instead.\n",
            "  super(Adam, self).__init__(name, **kwargs)\n",
            "\n"
          ]
        },
        {
          "output_type": "stream",
          "name": "stdout",
          "text": [
            "\n",
            "\n",
            "Tested 16/1500 iterations.\n",
            "Best MAE - Validation Dataset\n",
            "  MAE: 4.8 | sMAPE: 17.51 %\n",
            "\n",
            "Best MAE - Test Dataset\n",
            "  MAE: 6.0 | sMAPE: 25.38 %\n",
            "  1%|          | 16/1500 [09:11<10:06:10, 24.51s/it, best loss: 4.815667928908634]"
          ]
        },
        {
          "output_type": "stream",
          "name": "stderr",
          "text": [
            "/usr/local/lib/python3.7/dist-packages/keras/optimizer_v2/adam.py:105: UserWarning: The `lr` argument is deprecated, use `learning_rate` instead.\n",
            "  super(Adam, self).__init__(name, **kwargs)\n",
            "\n"
          ]
        },
        {
          "output_type": "stream",
          "name": "stdout",
          "text": [
            "\n",
            "\n",
            "Tested 17/1500 iterations.\n",
            "Best MAE - Validation Dataset\n",
            "  MAE: 4.8 | sMAPE: 17.51 %\n",
            "\n",
            "Best MAE - Test Dataset\n",
            "  MAE: 6.0 | sMAPE: 25.38 %\n",
            "  1%|          | 17/1500 [09:18<7:57:40, 19.33s/it, best loss: 4.815667928908634]"
          ]
        },
        {
          "output_type": "stream",
          "name": "stderr",
          "text": [
            "/usr/local/lib/python3.7/dist-packages/keras/optimizer_v2/adam.py:105: UserWarning: The `lr` argument is deprecated, use `learning_rate` instead.\n",
            "  super(Adam, self).__init__(name, **kwargs)\n",
            "\n"
          ]
        },
        {
          "output_type": "stream",
          "name": "stdout",
          "text": [
            "\n",
            "\n",
            "Tested 18/1500 iterations.\n",
            "Best MAE - Validation Dataset\n",
            "  MAE: 4.8 | sMAPE: 17.51 %\n",
            "\n",
            "Best MAE - Test Dataset\n",
            "  MAE: 6.0 | sMAPE: 25.38 %\n",
            "\n",
            "\n",
            "Tested 19/1500 iterations.\n",
            "Best MAE - Validation Dataset\n",
            "  MAE: 4.8 | sMAPE: 17.51 %\n",
            "\n",
            "Best MAE - Test Dataset\n",
            "  MAE: 6.0 | sMAPE: 25.38 %\n",
            "  1%|▏         | 19/1500 [10:31<10:33:05, 25.65s/it, best loss: 4.815667928908634]"
          ]
        },
        {
          "output_type": "stream",
          "name": "stderr",
          "text": [
            "/usr/local/lib/python3.7/dist-packages/keras/optimizer_v2/adam.py:105: UserWarning: The `lr` argument is deprecated, use `learning_rate` instead.\n",
            "  super(Adam, self).__init__(name, **kwargs)\n",
            "\n"
          ]
        },
        {
          "output_type": "stream",
          "name": "stdout",
          "text": [
            "\n",
            "\n",
            "Tested 20/1500 iterations.\n",
            "Best MAE - Validation Dataset\n",
            "  MAE: 4.8 | sMAPE: 17.51 %\n",
            "\n",
            "Best MAE - Test Dataset\n",
            "  MAE: 6.0 | sMAPE: 25.38 %\n",
            "  1%|▏         | 20/1500 [10:49<9:33:22, 23.24s/it, best loss: 4.815667928908634]"
          ]
        },
        {
          "output_type": "stream",
          "name": "stderr",
          "text": [
            "/usr/local/lib/python3.7/dist-packages/keras/optimizer_v2/adam.py:105: UserWarning: The `lr` argument is deprecated, use `learning_rate` instead.\n",
            "  super(Adam, self).__init__(name, **kwargs)\n",
            "\n"
          ]
        },
        {
          "output_type": "stream",
          "name": "stdout",
          "text": [
            "\n",
            "\n",
            "Tested 21/1500 iterations.\n",
            "Best MAE - Validation Dataset\n",
            "  MAE: 4.8 | sMAPE: 17.51 %\n",
            "\n",
            "Best MAE - Test Dataset\n",
            "  MAE: 6.0 | sMAPE: 25.38 %\n",
            "  1%|▏         | 21/1500 [10:58<7:47:10, 18.95s/it, best loss: 4.815667928908634]"
          ]
        },
        {
          "output_type": "stream",
          "name": "stderr",
          "text": [
            "/usr/local/lib/python3.7/dist-packages/keras/optimizer_v2/adam.py:105: UserWarning: The `lr` argument is deprecated, use `learning_rate` instead.\n",
            "  super(Adam, self).__init__(name, **kwargs)\n",
            "\n"
          ]
        },
        {
          "output_type": "stream",
          "name": "stdout",
          "text": [
            "\n",
            "\n",
            "Tested 22/1500 iterations.\n",
            "Best MAE - Validation Dataset\n",
            "  MAE: 4.8 | sMAPE: 17.51 %\n",
            "\n",
            "Best MAE - Test Dataset\n",
            "  MAE: 6.0 | sMAPE: 25.38 %\n",
            "\n",
            "\n",
            "Tested 23/1500 iterations.\n",
            "Best MAE - Validation Dataset\n",
            "  MAE: 4.8 | sMAPE: 17.51 %\n",
            "\n",
            "Best MAE - Test Dataset\n",
            "  MAE: 6.0 | sMAPE: 25.38 %\n",
            "  2%|▏         | 23/1500 [11:36<7:38:18, 18.62s/it, best loss: 4.815667928908634]"
          ]
        },
        {
          "output_type": "stream",
          "name": "stderr",
          "text": [
            "/usr/local/lib/python3.7/dist-packages/keras/optimizer_v2/adam.py:105: UserWarning: The `lr` argument is deprecated, use `learning_rate` instead.\n",
            "  super(Adam, self).__init__(name, **kwargs)\n",
            "\n"
          ]
        },
        {
          "output_type": "stream",
          "name": "stdout",
          "text": [
            "\n",
            "\n",
            "Tested 24/1500 iterations.\n",
            "Best MAE - Validation Dataset\n",
            "  MAE: 4.8 | sMAPE: 17.51 %\n",
            "\n",
            "Best MAE - Test Dataset\n",
            "  MAE: 6.0 | sMAPE: 25.38 %\n",
            "  2%|▏         | 24/1500 [12:01<8:18:51, 20.28s/it, best loss: 4.815667928908634]"
          ]
        },
        {
          "output_type": "stream",
          "name": "stderr",
          "text": [
            "/usr/local/lib/python3.7/dist-packages/keras/optimizer_v2/adam.py:105: UserWarning: The `lr` argument is deprecated, use `learning_rate` instead.\n",
            "  super(Adam, self).__init__(name, **kwargs)\n",
            "\n"
          ]
        },
        {
          "output_type": "stream",
          "name": "stdout",
          "text": [
            "\n",
            "\n",
            "Tested 25/1500 iterations.\n",
            "Best MAE - Validation Dataset\n",
            "  MAE: 4.2 | sMAPE: 15.84 %\n",
            "\n",
            "Best MAE - Test Dataset\n",
            "  MAE: 5.2 | sMAPE: 22.47 %\n",
            "  2%|▏         | 25/1500 [12:24<8:43:50, 21.31s/it, best loss: 4.233796934525018]"
          ]
        },
        {
          "output_type": "stream",
          "name": "stderr",
          "text": [
            "/usr/local/lib/python3.7/dist-packages/keras/optimizer_v2/adam.py:105: UserWarning: The `lr` argument is deprecated, use `learning_rate` instead.\n",
            "  super(Adam, self).__init__(name, **kwargs)\n",
            "\n"
          ]
        },
        {
          "output_type": "stream",
          "name": "stdout",
          "text": [
            "\n",
            "\n",
            "Tested 26/1500 iterations.\n",
            "Best MAE - Validation Dataset\n",
            "  MAE: 4.2 | sMAPE: 15.84 %\n",
            "\n",
            "Best MAE - Test Dataset\n",
            "  MAE: 5.2 | sMAPE: 22.47 %\n",
            "  2%|▏         | 26/1500 [12:37<7:39:57, 18.72s/it, best loss: 4.233796934525018]"
          ]
        },
        {
          "output_type": "stream",
          "name": "stderr",
          "text": [
            "/usr/local/lib/python3.7/dist-packages/keras/optimizer_v2/adam.py:105: UserWarning: The `lr` argument is deprecated, use `learning_rate` instead.\n",
            "  super(Adam, self).__init__(name, **kwargs)\n",
            "\n"
          ]
        },
        {
          "output_type": "stream",
          "name": "stdout",
          "text": [
            "\n",
            "\n",
            "Tested 27/1500 iterations.\n",
            "Best MAE - Validation Dataset\n",
            "  MAE: 4.0 | sMAPE: 15.01 %\n",
            "\n",
            "Best MAE - Test Dataset\n",
            "  MAE: 5.1 | sMAPE: 21.95 %\n",
            "  2%|▏         | 27/1500 [12:49<6:47:08, 16.58s/it, best loss: 4.042922676770706]"
          ]
        },
        {
          "output_type": "stream",
          "name": "stderr",
          "text": [
            "/usr/local/lib/python3.7/dist-packages/keras/optimizer_v2/adam.py:105: UserWarning: The `lr` argument is deprecated, use `learning_rate` instead.\n",
            "  super(Adam, self).__init__(name, **kwargs)\n",
            "\n"
          ]
        },
        {
          "output_type": "stream",
          "name": "stdout",
          "text": [
            "\n",
            "\n",
            "Tested 28/1500 iterations.\n",
            "Best MAE - Validation Dataset\n",
            "  MAE: 4.0 | sMAPE: 15.01 %\n",
            "\n",
            "Best MAE - Test Dataset\n",
            "  MAE: 5.1 | sMAPE: 21.95 %\n",
            "  2%|▏         | 28/1500 [12:59<6:00:39, 14.70s/it, best loss: 4.042922676770706]"
          ]
        },
        {
          "output_type": "stream",
          "name": "stderr",
          "text": [
            "/usr/local/lib/python3.7/dist-packages/keras/optimizer_v2/adam.py:105: UserWarning: The `lr` argument is deprecated, use `learning_rate` instead.\n",
            "  super(Adam, self).__init__(name, **kwargs)\n",
            "\n"
          ]
        },
        {
          "output_type": "stream",
          "name": "stdout",
          "text": [
            "\n",
            "\n",
            "Tested 29/1500 iterations.\n",
            "Best MAE - Validation Dataset\n",
            "  MAE: 4.0 | sMAPE: 15.01 %\n",
            "\n",
            "Best MAE - Test Dataset\n",
            "  MAE: 5.1 | sMAPE: 21.95 %\n",
            "  2%|▏         | 29/1500 [13:10<5:35:35, 13.69s/it, best loss: 4.042922676770706]"
          ]
        },
        {
          "output_type": "stream",
          "name": "stderr",
          "text": [
            "/usr/local/lib/python3.7/dist-packages/keras/optimizer_v2/adam.py:105: UserWarning: The `lr` argument is deprecated, use `learning_rate` instead.\n",
            "  super(Adam, self).__init__(name, **kwargs)\n",
            "\n"
          ]
        },
        {
          "output_type": "stream",
          "name": "stdout",
          "text": [
            "\n",
            "\n",
            "Tested 30/1500 iterations.\n",
            "Best MAE - Validation Dataset\n",
            "  MAE: 4.0 | sMAPE: 15.01 %\n",
            "\n",
            "Best MAE - Test Dataset\n",
            "  MAE: 5.1 | sMAPE: 21.95 %\n",
            "  2%|▏         | 30/1500 [13:39<7:28:03, 18.29s/it, best loss: 4.042922676770706]"
          ]
        },
        {
          "output_type": "stream",
          "name": "stderr",
          "text": [
            "/usr/local/lib/python3.7/dist-packages/keras/optimizer_v2/adam.py:105: UserWarning: The `lr` argument is deprecated, use `learning_rate` instead.\n",
            "  super(Adam, self).__init__(name, **kwargs)\n",
            "\n"
          ]
        },
        {
          "output_type": "stream",
          "name": "stdout",
          "text": [
            "\n",
            "\n",
            "Tested 31/1500 iterations.\n",
            "Best MAE - Validation Dataset\n",
            "  MAE: 4.0 | sMAPE: 15.01 %\n",
            "\n",
            "Best MAE - Test Dataset\n",
            "  MAE: 5.1 | sMAPE: 21.95 %\n",
            "  2%|▏         | 31/1500 [14:05<8:21:02, 20.46s/it, best loss: 4.042922676770706]"
          ]
        },
        {
          "output_type": "stream",
          "name": "stderr",
          "text": [
            "/usr/local/lib/python3.7/dist-packages/keras/optimizer_v2/adam.py:105: UserWarning: The `lr` argument is deprecated, use `learning_rate` instead.\n",
            "  super(Adam, self).__init__(name, **kwargs)\n",
            "\n"
          ]
        },
        {
          "output_type": "stream",
          "name": "stdout",
          "text": [
            "\n",
            "\n",
            "Tested 32/1500 iterations.\n",
            "Best MAE - Validation Dataset\n",
            "  MAE: 3.9 | sMAPE: 14.22 %\n",
            "\n",
            "Best MAE - Test Dataset\n",
            "  MAE: 4.9 | sMAPE: 21.45 %\n",
            "  2%|▏         | 32/1500 [14:17<7:21:20, 18.04s/it, best loss: 3.907299452511591]"
          ]
        },
        {
          "output_type": "stream",
          "name": "stderr",
          "text": [
            "/usr/local/lib/python3.7/dist-packages/keras/optimizer_v2/adam.py:105: UserWarning: The `lr` argument is deprecated, use `learning_rate` instead.\n",
            "  super(Adam, self).__init__(name, **kwargs)\n",
            "\n"
          ]
        },
        {
          "output_type": "stream",
          "name": "stdout",
          "text": [
            "\n",
            "\n",
            "Tested 33/1500 iterations.\n",
            "Best MAE - Validation Dataset\n",
            "  MAE: 3.9 | sMAPE: 14.22 %\n",
            "\n",
            "Best MAE - Test Dataset\n",
            "  MAE: 4.9 | sMAPE: 21.45 %\n",
            "  2%|▏         | 33/1500 [14:38<7:45:19, 19.03s/it, best loss: 3.907299452511591]"
          ]
        },
        {
          "output_type": "stream",
          "name": "stderr",
          "text": [
            "/usr/local/lib/python3.7/dist-packages/keras/optimizer_v2/adam.py:105: UserWarning: The `lr` argument is deprecated, use `learning_rate` instead.\n",
            "  super(Adam, self).__init__(name, **kwargs)\n",
            "\n"
          ]
        },
        {
          "output_type": "stream",
          "name": "stdout",
          "text": [
            "\n",
            "\n",
            "Tested 34/1500 iterations.\n",
            "Best MAE - Validation Dataset\n",
            "  MAE: 3.9 | sMAPE: 14.22 %\n",
            "\n",
            "Best MAE - Test Dataset\n",
            "  MAE: 4.9 | sMAPE: 21.45 %\n",
            "  2%|▏         | 34/1500 [15:10<9:18:50, 22.87s/it, best loss: 3.907299452511591]"
          ]
        },
        {
          "output_type": "stream",
          "name": "stderr",
          "text": [
            "/usr/local/lib/python3.7/dist-packages/keras/optimizer_v2/adam.py:105: UserWarning: The `lr` argument is deprecated, use `learning_rate` instead.\n",
            "  super(Adam, self).__init__(name, **kwargs)\n",
            "\n"
          ]
        },
        {
          "output_type": "stream",
          "name": "stdout",
          "text": [
            "\n",
            "\n",
            "Tested 35/1500 iterations.\n",
            "Best MAE - Validation Dataset\n",
            "  MAE: 3.9 | sMAPE: 14.22 %\n",
            "\n",
            "Best MAE - Test Dataset\n",
            "  MAE: 4.9 | sMAPE: 21.45 %\n",
            "  2%|▏         | 35/1500 [15:30<8:55:18, 21.92s/it, best loss: 3.907299452511591]"
          ]
        },
        {
          "output_type": "stream",
          "name": "stderr",
          "text": [
            "/usr/local/lib/python3.7/dist-packages/keras/optimizer_v2/adam.py:105: UserWarning: The `lr` argument is deprecated, use `learning_rate` instead.\n",
            "  super(Adam, self).__init__(name, **kwargs)\n",
            "\n"
          ]
        },
        {
          "output_type": "stream",
          "name": "stdout",
          "text": [
            "\n",
            "\n",
            "Tested 36/1500 iterations.\n",
            "Best MAE - Validation Dataset\n",
            "  MAE: 3.9 | sMAPE: 14.22 %\n",
            "\n",
            "Best MAE - Test Dataset\n",
            "  MAE: 4.9 | sMAPE: 21.45 %\n",
            "  2%|▏         | 36/1500 [16:20<12:17:01, 30.21s/it, best loss: 3.907299452511591]"
          ]
        },
        {
          "output_type": "stream",
          "name": "stderr",
          "text": [
            "/usr/local/lib/python3.7/dist-packages/keras/optimizer_v2/adam.py:105: UserWarning: The `lr` argument is deprecated, use `learning_rate` instead.\n",
            "  super(Adam, self).__init__(name, **kwargs)\n",
            "\n"
          ]
        },
        {
          "output_type": "stream",
          "name": "stdout",
          "text": [
            "\n",
            "\n",
            "Tested 37/1500 iterations.\n",
            "Best MAE - Validation Dataset\n",
            "  MAE: 3.9 | sMAPE: 14.22 %\n",
            "\n",
            "Best MAE - Test Dataset\n",
            "  MAE: 4.9 | sMAPE: 21.45 %\n",
            "  2%|▏         | 37/1500 [17:43<18:44:00, 46.10s/it, best loss: 3.907299452511591]"
          ]
        },
        {
          "output_type": "stream",
          "name": "stderr",
          "text": [
            "/usr/local/lib/python3.7/dist-packages/keras/optimizer_v2/adam.py:105: UserWarning: The `lr` argument is deprecated, use `learning_rate` instead.\n",
            "  super(Adam, self).__init__(name, **kwargs)\n",
            "\n"
          ]
        },
        {
          "output_type": "stream",
          "name": "stdout",
          "text": [
            "\n",
            "\n",
            "Tested 38/1500 iterations.\n",
            "Best MAE - Validation Dataset\n",
            "  MAE: 3.9 | sMAPE: 14.22 %\n",
            "\n",
            "Best MAE - Test Dataset\n",
            "  MAE: 4.9 | sMAPE: 21.45 %\n",
            "  3%|▎         | 38/1500 [18:46<20:45:37, 51.12s/it, best loss: 3.907299452511591]"
          ]
        },
        {
          "output_type": "stream",
          "name": "stderr",
          "text": [
            "/usr/local/lib/python3.7/dist-packages/keras/optimizer_v2/adam.py:105: UserWarning: The `lr` argument is deprecated, use `learning_rate` instead.\n",
            "  super(Adam, self).__init__(name, **kwargs)\n",
            "\n"
          ]
        },
        {
          "output_type": "stream",
          "name": "stdout",
          "text": [
            "\n",
            "\n",
            "Tested 39/1500 iterations.\n",
            "Best MAE - Validation Dataset\n",
            "  MAE: 3.9 | sMAPE: 14.22 %\n",
            "\n",
            "Best MAE - Test Dataset\n",
            "  MAE: 4.9 | sMAPE: 21.45 %\n",
            "  3%|▎         | 39/1500 [18:53<15:23:27, 37.92s/it, best loss: 3.907299452511591]"
          ]
        },
        {
          "output_type": "stream",
          "name": "stderr",
          "text": [
            "/usr/local/lib/python3.7/dist-packages/keras/optimizer_v2/adam.py:105: UserWarning: The `lr` argument is deprecated, use `learning_rate` instead.\n",
            "  super(Adam, self).__init__(name, **kwargs)\n",
            "\n"
          ]
        },
        {
          "output_type": "stream",
          "name": "stdout",
          "text": [
            "\n",
            "\n",
            "Tested 40/1500 iterations.\n",
            "Best MAE - Validation Dataset\n",
            "  MAE: 3.9 | sMAPE: 14.22 %\n",
            "\n",
            "Best MAE - Test Dataset\n",
            "  MAE: 4.9 | sMAPE: 21.45 %\n",
            "  3%|▎         | 40/1500 [19:47<17:22:24, 42.84s/it, best loss: 3.907299452511591]"
          ]
        },
        {
          "output_type": "stream",
          "name": "stderr",
          "text": [
            "/usr/local/lib/python3.7/dist-packages/keras/optimizer_v2/adam.py:105: UserWarning: The `lr` argument is deprecated, use `learning_rate` instead.\n",
            "  super(Adam, self).__init__(name, **kwargs)\n",
            "\n"
          ]
        },
        {
          "output_type": "stream",
          "name": "stdout",
          "text": [
            "\n",
            "\n",
            "Tested 41/1500 iterations.\n",
            "Best MAE - Validation Dataset\n",
            "  MAE: 3.9 | sMAPE: 14.22 %\n",
            "\n",
            "Best MAE - Test Dataset\n",
            "  MAE: 4.9 | sMAPE: 21.45 %\n",
            "  3%|▎         | 41/1500 [20:10<14:54:28, 36.78s/it, best loss: 3.907299452511591]"
          ]
        },
        {
          "output_type": "stream",
          "name": "stderr",
          "text": [
            "/usr/local/lib/python3.7/dist-packages/keras/optimizer_v2/adam.py:105: UserWarning: The `lr` argument is deprecated, use `learning_rate` instead.\n",
            "  super(Adam, self).__init__(name, **kwargs)\n",
            "\n"
          ]
        },
        {
          "output_type": "stream",
          "name": "stdout",
          "text": [
            "\n",
            "\n",
            "Tested 42/1500 iterations.\n",
            "Best MAE - Validation Dataset\n",
            "  MAE: 3.9 | sMAPE: 14.22 %\n",
            "\n",
            "Best MAE - Test Dataset\n",
            "  MAE: 4.9 | sMAPE: 21.45 %\n",
            "  3%|▎         | 42/1500 [20:49<15:14:41, 37.64s/it, best loss: 3.907299452511591]"
          ]
        },
        {
          "output_type": "stream",
          "name": "stderr",
          "text": [
            "/usr/local/lib/python3.7/dist-packages/keras/optimizer_v2/adam.py:105: UserWarning: The `lr` argument is deprecated, use `learning_rate` instead.\n",
            "  super(Adam, self).__init__(name, **kwargs)\n",
            "\n"
          ]
        },
        {
          "output_type": "stream",
          "name": "stdout",
          "text": [
            "\n",
            "\n",
            "Tested 43/1500 iterations.\n",
            "Best MAE - Validation Dataset\n",
            "  MAE: 3.9 | sMAPE: 14.22 %\n",
            "\n",
            "Best MAE - Test Dataset\n",
            "  MAE: 4.9 | sMAPE: 21.45 %\n",
            "  3%|▎         | 43/1500 [22:06<20:01:16, 49.47s/it, best loss: 3.907299452511591]"
          ]
        },
        {
          "output_type": "stream",
          "name": "stderr",
          "text": [
            "/usr/local/lib/python3.7/dist-packages/keras/optimizer_v2/adam.py:105: UserWarning: The `lr` argument is deprecated, use `learning_rate` instead.\n",
            "  super(Adam, self).__init__(name, **kwargs)\n",
            "\n"
          ]
        },
        {
          "output_type": "stream",
          "name": "stdout",
          "text": [
            "\n",
            "\n",
            "Tested 44/1500 iterations.\n",
            "Best MAE - Validation Dataset\n",
            "  MAE: 3.9 | sMAPE: 14.22 %\n",
            "\n",
            "Best MAE - Test Dataset\n",
            "  MAE: 4.9 | sMAPE: 21.45 %\n",
            "  3%|▎         | 44/1500 [23:06<21:14:57, 52.54s/it, best loss: 3.907299452511591]"
          ]
        },
        {
          "output_type": "stream",
          "name": "stderr",
          "text": [
            "/usr/local/lib/python3.7/dist-packages/keras/optimizer_v2/adam.py:105: UserWarning: The `lr` argument is deprecated, use `learning_rate` instead.\n",
            "  super(Adam, self).__init__(name, **kwargs)\n",
            "\n"
          ]
        },
        {
          "output_type": "stream",
          "name": "stdout",
          "text": [
            "\n",
            "\n",
            "Tested 45/1500 iterations.\n",
            "Best MAE - Validation Dataset\n",
            "  MAE: 3.9 | sMAPE: 14.22 %\n",
            "\n",
            "Best MAE - Test Dataset\n",
            "  MAE: 4.9 | sMAPE: 21.45 %\n",
            "  3%|▎         | 45/1500 [23:37<18:38:34, 46.13s/it, best loss: 3.907299452511591]"
          ]
        },
        {
          "output_type": "stream",
          "name": "stderr",
          "text": [
            "/usr/local/lib/python3.7/dist-packages/keras/optimizer_v2/adam.py:105: UserWarning: The `lr` argument is deprecated, use `learning_rate` instead.\n",
            "  super(Adam, self).__init__(name, **kwargs)\n",
            "\n"
          ]
        },
        {
          "output_type": "stream",
          "name": "stdout",
          "text": [
            "\n",
            "\n",
            "Tested 46/1500 iterations.\n",
            "Best MAE - Validation Dataset\n",
            "  MAE: 3.9 | sMAPE: 14.22 %\n",
            "\n",
            "Best MAE - Test Dataset\n",
            "  MAE: 4.9 | sMAPE: 21.45 %\n",
            "  3%|▎         | 46/1500 [24:03<16:10:41, 40.06s/it, best loss: 3.907299452511591]"
          ]
        },
        {
          "output_type": "stream",
          "name": "stderr",
          "text": [
            "/usr/local/lib/python3.7/dist-packages/keras/optimizer_v2/adam.py:105: UserWarning: The `lr` argument is deprecated, use `learning_rate` instead.\n",
            "  super(Adam, self).__init__(name, **kwargs)\n",
            "\n"
          ]
        },
        {
          "output_type": "stream",
          "name": "stdout",
          "text": [
            "\n",
            "\n",
            "Tested 47/1500 iterations.\n",
            "Best MAE - Validation Dataset\n",
            "  MAE: 3.9 | sMAPE: 14.22 %\n",
            "\n",
            "Best MAE - Test Dataset\n",
            "  MAE: 4.9 | sMAPE: 21.45 %\n",
            "  3%|▎         | 47/1500 [24:34<15:02:41, 37.28s/it, best loss: 3.907299452511591]"
          ]
        },
        {
          "output_type": "stream",
          "name": "stderr",
          "text": [
            "/usr/local/lib/python3.7/dist-packages/keras/optimizer_v2/adam.py:105: UserWarning: The `lr` argument is deprecated, use `learning_rate` instead.\n",
            "  super(Adam, self).__init__(name, **kwargs)\n",
            "\n"
          ]
        },
        {
          "output_type": "stream",
          "name": "stdout",
          "text": [
            "\n",
            "\n",
            "Tested 48/1500 iterations.\n",
            "Best MAE - Validation Dataset\n",
            "  MAE: 3.9 | sMAPE: 14.22 %\n",
            "\n",
            "Best MAE - Test Dataset\n",
            "  MAE: 4.9 | sMAPE: 21.45 %\n",
            "\n",
            "\n",
            "Tested 49/1500 iterations.\n",
            "Best MAE - Validation Dataset\n",
            "  MAE: 3.9 | sMAPE: 14.22 %\n",
            "\n",
            "Best MAE - Test Dataset\n",
            "  MAE: 4.9 | sMAPE: 21.45 %\n",
            "  3%|▎         | 49/1500 [26:25<18:44:39, 46.51s/it, best loss: 3.907299452511591]"
          ]
        },
        {
          "output_type": "stream",
          "name": "stderr",
          "text": [
            "/usr/local/lib/python3.7/dist-packages/keras/optimizer_v2/adam.py:105: UserWarning: The `lr` argument is deprecated, use `learning_rate` instead.\n",
            "  super(Adam, self).__init__(name, **kwargs)\n",
            "\n"
          ]
        },
        {
          "output_type": "stream",
          "name": "stdout",
          "text": [
            "\n",
            "\n",
            "Tested 50/1500 iterations.\n",
            "Best MAE - Validation Dataset\n",
            "  MAE: 3.9 | sMAPE: 14.22 %\n",
            "\n",
            "Best MAE - Test Dataset\n",
            "  MAE: 4.9 | sMAPE: 21.45 %\n",
            "  3%|▎         | 50/1500 [26:54<16:33:16, 41.10s/it, best loss: 3.907299452511591]"
          ]
        },
        {
          "output_type": "stream",
          "name": "stderr",
          "text": [
            "/usr/local/lib/python3.7/dist-packages/keras/optimizer_v2/adam.py:105: UserWarning: The `lr` argument is deprecated, use `learning_rate` instead.\n",
            "  super(Adam, self).__init__(name, **kwargs)\n",
            "\n"
          ]
        },
        {
          "output_type": "stream",
          "name": "stdout",
          "text": [
            "\n",
            "\n",
            "Tested 51/1500 iterations.\n",
            "Best MAE - Validation Dataset\n",
            "  MAE: 3.9 | sMAPE: 14.22 %\n",
            "\n",
            "Best MAE - Test Dataset\n",
            "  MAE: 4.9 | sMAPE: 21.45 %\n",
            "  3%|▎         | 51/1500 [27:01<12:23:12, 30.77s/it, best loss: 3.907299452511591]"
          ]
        },
        {
          "output_type": "stream",
          "name": "stderr",
          "text": [
            "/usr/local/lib/python3.7/dist-packages/keras/optimizer_v2/adam.py:105: UserWarning: The `lr` argument is deprecated, use `learning_rate` instead.\n",
            "  super(Adam, self).__init__(name, **kwargs)\n",
            "\n"
          ]
        },
        {
          "output_type": "stream",
          "name": "stdout",
          "text": [
            "\n",
            "\n",
            "Tested 52/1500 iterations.\n",
            "Best MAE - Validation Dataset\n",
            "  MAE: 3.9 | sMAPE: 14.22 %\n",
            "\n",
            "Best MAE - Test Dataset\n",
            "  MAE: 4.9 | sMAPE: 21.45 %\n",
            "  3%|▎         | 52/1500 [27:35<12:50:10, 31.91s/it, best loss: 3.907299452511591]"
          ]
        },
        {
          "output_type": "stream",
          "name": "stderr",
          "text": [
            "/usr/local/lib/python3.7/dist-packages/keras/optimizer_v2/adam.py:105: UserWarning: The `lr` argument is deprecated, use `learning_rate` instead.\n",
            "  super(Adam, self).__init__(name, **kwargs)\n",
            "\n"
          ]
        },
        {
          "output_type": "stream",
          "name": "stdout",
          "text": [
            "\n",
            "\n",
            "Tested 53/1500 iterations.\n",
            "Best MAE - Validation Dataset\n",
            "  MAE: 3.9 | sMAPE: 14.22 %\n",
            "\n",
            "Best MAE - Test Dataset\n",
            "  MAE: 4.9 | sMAPE: 21.45 %\n",
            "  4%|▎         | 53/1500 [28:13<13:30:21, 33.60s/it, best loss: 3.907299452511591]"
          ]
        },
        {
          "output_type": "stream",
          "name": "stderr",
          "text": [
            "/usr/local/lib/python3.7/dist-packages/keras/optimizer_v2/adam.py:105: UserWarning: The `lr` argument is deprecated, use `learning_rate` instead.\n",
            "  super(Adam, self).__init__(name, **kwargs)\n",
            "\n"
          ]
        },
        {
          "output_type": "stream",
          "name": "stdout",
          "text": [
            "\n",
            "\n",
            "Tested 54/1500 iterations.\n",
            "Best MAE - Validation Dataset\n",
            "  MAE: 3.7 | sMAPE: 13.27 %\n",
            "\n",
            "Best MAE - Test Dataset\n",
            "  MAE: 4.7 | sMAPE: 20.99 %\n",
            "  4%|▎         | 54/1500 [28:57<14:47:45, 36.84s/it, best loss: 3.671184846301654]"
          ]
        },
        {
          "output_type": "stream",
          "name": "stderr",
          "text": [
            "/usr/local/lib/python3.7/dist-packages/keras/optimizer_v2/adam.py:105: UserWarning: The `lr` argument is deprecated, use `learning_rate` instead.\n",
            "  super(Adam, self).__init__(name, **kwargs)\n",
            "\n"
          ]
        },
        {
          "output_type": "stream",
          "name": "stdout",
          "text": [
            "\n",
            "\n",
            "Tested 55/1500 iterations.\n",
            "Best MAE - Validation Dataset\n",
            "  MAE: 3.7 | sMAPE: 13.27 %\n",
            "\n",
            "Best MAE - Test Dataset\n",
            "  MAE: 4.7 | sMAPE: 20.99 %\n",
            "  4%|▎         | 55/1500 [29:10<11:55:13, 29.70s/it, best loss: 3.671184846301654]"
          ]
        },
        {
          "output_type": "stream",
          "name": "stderr",
          "text": [
            "/usr/local/lib/python3.7/dist-packages/keras/optimizer_v2/adam.py:105: UserWarning: The `lr` argument is deprecated, use `learning_rate` instead.\n",
            "  super(Adam, self).__init__(name, **kwargs)\n",
            "\n"
          ]
        },
        {
          "output_type": "stream",
          "name": "stdout",
          "text": [
            "\n",
            "\n",
            "Tested 56/1500 iterations.\n",
            "Best MAE - Validation Dataset\n",
            "  MAE: 3.7 | sMAPE: 13.27 %\n",
            "\n",
            "Best MAE - Test Dataset\n",
            "  MAE: 4.7 | sMAPE: 20.99 %\n",
            "  4%|▎         | 56/1500 [29:19<9:27:56, 23.60s/it, best loss: 3.671184846301654]"
          ]
        },
        {
          "output_type": "stream",
          "name": "stderr",
          "text": [
            "/usr/local/lib/python3.7/dist-packages/keras/optimizer_v2/adam.py:105: UserWarning: The `lr` argument is deprecated, use `learning_rate` instead.\n",
            "  super(Adam, self).__init__(name, **kwargs)\n",
            "\n"
          ]
        },
        {
          "output_type": "stream",
          "name": "stdout",
          "text": [
            "\n",
            "\n",
            "Tested 57/1500 iterations.\n",
            "Best MAE - Validation Dataset\n",
            "  MAE: 3.7 | sMAPE: 13.27 %\n",
            "\n",
            "Best MAE - Test Dataset\n",
            "  MAE: 4.7 | sMAPE: 20.99 %\n",
            "  4%|▍         | 57/1500 [29:57<11:09:20, 27.83s/it, best loss: 3.671184846301654]"
          ]
        },
        {
          "output_type": "stream",
          "name": "stderr",
          "text": [
            "/usr/local/lib/python3.7/dist-packages/keras/optimizer_v2/adam.py:105: UserWarning: The `lr` argument is deprecated, use `learning_rate` instead.\n",
            "  super(Adam, self).__init__(name, **kwargs)\n",
            "\n"
          ]
        },
        {
          "output_type": "stream",
          "name": "stdout",
          "text": [
            "\n",
            "\n",
            "Tested 58/1500 iterations.\n",
            "Best MAE - Validation Dataset\n",
            "  MAE: 3.7 | sMAPE: 13.27 %\n",
            "\n",
            "Best MAE - Test Dataset\n",
            "  MAE: 4.7 | sMAPE: 20.99 %\n",
            "  4%|▍         | 58/1500 [31:53<21:44:04, 54.26s/it, best loss: 3.671184846301654]"
          ]
        },
        {
          "output_type": "stream",
          "name": "stderr",
          "text": [
            "/usr/local/lib/python3.7/dist-packages/keras/optimizer_v2/adam.py:105: UserWarning: The `lr` argument is deprecated, use `learning_rate` instead.\n",
            "  super(Adam, self).__init__(name, **kwargs)\n",
            "\n"
          ]
        },
        {
          "output_type": "stream",
          "name": "stdout",
          "text": [
            "\n",
            "\n",
            "Tested 59/1500 iterations.\n",
            "Best MAE - Validation Dataset\n",
            "  MAE: 3.7 | sMAPE: 13.27 %\n",
            "\n",
            "Best MAE - Test Dataset\n",
            "  MAE: 4.7 | sMAPE: 20.99 %\n",
            "  4%|▍         | 59/1500 [32:27<19:19:12, 48.27s/it, best loss: 3.671184846301654]"
          ]
        },
        {
          "output_type": "stream",
          "name": "stderr",
          "text": [
            "/usr/local/lib/python3.7/dist-packages/keras/optimizer_v2/adam.py:105: UserWarning: The `lr` argument is deprecated, use `learning_rate` instead.\n",
            "  super(Adam, self).__init__(name, **kwargs)\n",
            "\n"
          ]
        },
        {
          "output_type": "stream",
          "name": "stdout",
          "text": [
            "\n",
            "\n",
            "Tested 60/1500 iterations.\n",
            "Best MAE - Validation Dataset\n",
            "  MAE: 3.7 | sMAPE: 13.27 %\n",
            "\n",
            "Best MAE - Test Dataset\n",
            "  MAE: 4.7 | sMAPE: 20.99 %\n",
            "  4%|▍         | 60/1500 [32:44<15:30:03, 38.75s/it, best loss: 3.671184846301654]"
          ]
        },
        {
          "output_type": "stream",
          "name": "stderr",
          "text": [
            "/usr/local/lib/python3.7/dist-packages/keras/optimizer_v2/adam.py:105: UserWarning: The `lr` argument is deprecated, use `learning_rate` instead.\n",
            "  super(Adam, self).__init__(name, **kwargs)\n",
            "\n"
          ]
        },
        {
          "output_type": "stream",
          "name": "stdout",
          "text": [
            "\n",
            "\n",
            "Tested 61/1500 iterations.\n",
            "Best MAE - Validation Dataset\n",
            "  MAE: 3.7 | sMAPE: 13.27 %\n",
            "\n",
            "Best MAE - Test Dataset\n",
            "  MAE: 4.7 | sMAPE: 20.99 %\n",
            "  4%|▍         | 61/1500 [33:13<14:22:27, 35.96s/it, best loss: 3.671184846301654]"
          ]
        },
        {
          "output_type": "stream",
          "name": "stderr",
          "text": [
            "/usr/local/lib/python3.7/dist-packages/keras/optimizer_v2/adam.py:105: UserWarning: The `lr` argument is deprecated, use `learning_rate` instead.\n",
            "  super(Adam, self).__init__(name, **kwargs)\n",
            "\n"
          ]
        },
        {
          "output_type": "stream",
          "name": "stdout",
          "text": [
            "\n",
            "\n",
            "Tested 62/1500 iterations.\n",
            "Best MAE - Validation Dataset\n",
            "  MAE: 3.7 | sMAPE: 13.27 %\n",
            "\n",
            "Best MAE - Test Dataset\n",
            "  MAE: 4.7 | sMAPE: 20.99 %\n",
            "  4%|▍         | 62/1500 [33:36<12:43:39, 31.86s/it, best loss: 3.671184846301654]"
          ]
        },
        {
          "output_type": "stream",
          "name": "stderr",
          "text": [
            "/usr/local/lib/python3.7/dist-packages/keras/optimizer_v2/adam.py:105: UserWarning: The `lr` argument is deprecated, use `learning_rate` instead.\n",
            "  super(Adam, self).__init__(name, **kwargs)\n",
            "\n"
          ]
        },
        {
          "output_type": "stream",
          "name": "stdout",
          "text": [
            "\n",
            "\n",
            "Tested 63/1500 iterations.\n",
            "Best MAE - Validation Dataset\n",
            "  MAE: 3.7 | sMAPE: 13.27 %\n",
            "\n",
            "Best MAE - Test Dataset\n",
            "  MAE: 4.7 | sMAPE: 20.99 %\n",
            "  4%|▍         | 63/1500 [34:07<12:40:12, 31.74s/it, best loss: 3.671184846301654]"
          ]
        },
        {
          "output_type": "stream",
          "name": "stderr",
          "text": [
            "/usr/local/lib/python3.7/dist-packages/keras/optimizer_v2/adam.py:105: UserWarning: The `lr` argument is deprecated, use `learning_rate` instead.\n",
            "  super(Adam, self).__init__(name, **kwargs)\n",
            "\n"
          ]
        },
        {
          "output_type": "stream",
          "name": "stdout",
          "text": [
            "\n",
            "\n",
            "Tested 64/1500 iterations.\n",
            "Best MAE - Validation Dataset\n",
            "  MAE: 3.5 | sMAPE: 13.19 %\n",
            "\n",
            "Best MAE - Test Dataset\n",
            "  MAE: 4.9 | sMAPE: 21.36 %\n",
            "  4%|▍         | 64/1500 [34:42<12:59:06, 32.55s/it, best loss: 3.5298096492786373]"
          ]
        },
        {
          "output_type": "stream",
          "name": "stderr",
          "text": [
            "/usr/local/lib/python3.7/dist-packages/keras/optimizer_v2/adam.py:105: UserWarning: The `lr` argument is deprecated, use `learning_rate` instead.\n",
            "  super(Adam, self).__init__(name, **kwargs)\n",
            "\n"
          ]
        },
        {
          "output_type": "stream",
          "name": "stdout",
          "text": [
            "\n",
            "\n",
            "Tested 65/1500 iterations.\n",
            "Best MAE - Validation Dataset\n",
            "  MAE: 3.4 | sMAPE: 13.08 %\n",
            "\n",
            "Best MAE - Test Dataset\n",
            "  MAE: 4.4 | sMAPE: 21.74 %\n",
            "  4%|▍         | 65/1500 [35:21<13:50:26, 34.72s/it, best loss: 3.4345340483440823]"
          ]
        },
        {
          "output_type": "stream",
          "name": "stderr",
          "text": [
            "/usr/local/lib/python3.7/dist-packages/keras/optimizer_v2/adam.py:105: UserWarning: The `lr` argument is deprecated, use `learning_rate` instead.\n",
            "  super(Adam, self).__init__(name, **kwargs)\n",
            "\n"
          ]
        },
        {
          "output_type": "stream",
          "name": "stdout",
          "text": [
            "\n",
            "\n",
            "Tested 66/1500 iterations.\n",
            "Best MAE - Validation Dataset\n",
            "  MAE: 3.3 | sMAPE: 12.55 %\n",
            "\n",
            "Best MAE - Test Dataset\n",
            "  MAE: 4.3 | sMAPE: 20.82 %\n",
            "  4%|▍         | 66/1500 [36:19<16:36:11, 41.68s/it, best loss: 3.312944481654803]"
          ]
        },
        {
          "output_type": "stream",
          "name": "stderr",
          "text": [
            "/usr/local/lib/python3.7/dist-packages/keras/optimizer_v2/adam.py:105: UserWarning: The `lr` argument is deprecated, use `learning_rate` instead.\n",
            "  super(Adam, self).__init__(name, **kwargs)\n",
            "\n"
          ]
        },
        {
          "output_type": "stream",
          "name": "stdout",
          "text": [
            "\n",
            "\n",
            "Tested 67/1500 iterations.\n",
            "Best MAE - Validation Dataset\n",
            "  MAE: 3.3 | sMAPE: 12.55 %\n",
            "\n",
            "Best MAE - Test Dataset\n",
            "  MAE: 4.3 | sMAPE: 20.82 %\n",
            "  4%|▍         | 67/1500 [37:50<22:30:40, 56.55s/it, best loss: 3.312944481654803]"
          ]
        },
        {
          "output_type": "stream",
          "name": "stderr",
          "text": [
            "/usr/local/lib/python3.7/dist-packages/keras/optimizer_v2/adam.py:105: UserWarning: The `lr` argument is deprecated, use `learning_rate` instead.\n",
            "  super(Adam, self).__init__(name, **kwargs)\n",
            "\n"
          ]
        },
        {
          "output_type": "stream",
          "name": "stdout",
          "text": [
            "\n",
            "\n",
            "Tested 68/1500 iterations.\n",
            "Best MAE - Validation Dataset\n",
            "  MAE: 3.3 | sMAPE: 12.55 %\n",
            "\n",
            "Best MAE - Test Dataset\n",
            "  MAE: 4.3 | sMAPE: 20.82 %\n",
            "  5%|▍         | 68/1500 [38:57<23:41:01, 59.54s/it, best loss: 3.312944481654803]"
          ]
        },
        {
          "output_type": "stream",
          "name": "stderr",
          "text": [
            "/usr/local/lib/python3.7/dist-packages/keras/optimizer_v2/adam.py:105: UserWarning: The `lr` argument is deprecated, use `learning_rate` instead.\n",
            "  super(Adam, self).__init__(name, **kwargs)\n",
            "\n"
          ]
        },
        {
          "output_type": "stream",
          "name": "stdout",
          "text": [
            "\n",
            "\n",
            "Tested 69/1500 iterations.\n",
            "Best MAE - Validation Dataset\n",
            "  MAE: 3.3 | sMAPE: 12.55 %\n",
            "\n",
            "Best MAE - Test Dataset\n",
            "  MAE: 4.3 | sMAPE: 20.82 %\n",
            "  5%|▍         | 69/1500 [39:55<23:30:47, 59.15s/it, best loss: 3.312944481654803]"
          ]
        },
        {
          "output_type": "stream",
          "name": "stderr",
          "text": [
            "/usr/local/lib/python3.7/dist-packages/keras/optimizer_v2/adam.py:105: UserWarning: The `lr` argument is deprecated, use `learning_rate` instead.\n",
            "  super(Adam, self).__init__(name, **kwargs)\n",
            "\n"
          ]
        },
        {
          "output_type": "stream",
          "name": "stdout",
          "text": [
            "\n",
            "\n",
            "Tested 70/1500 iterations.\n",
            "Best MAE - Validation Dataset\n",
            "  MAE: 3.3 | sMAPE: 12.55 %\n",
            "\n",
            "Best MAE - Test Dataset\n",
            "  MAE: 4.3 | sMAPE: 20.82 %\n",
            "  5%|▍         | 70/1500 [41:00<24:12:18, 60.94s/it, best loss: 3.312944481654803]"
          ]
        },
        {
          "output_type": "stream",
          "name": "stderr",
          "text": [
            "/usr/local/lib/python3.7/dist-packages/keras/optimizer_v2/adam.py:105: UserWarning: The `lr` argument is deprecated, use `learning_rate` instead.\n",
            "  super(Adam, self).__init__(name, **kwargs)\n",
            "\n"
          ]
        },
        {
          "output_type": "stream",
          "name": "stdout",
          "text": [
            "\n",
            "\n",
            "Tested 71/1500 iterations.\n",
            "Best MAE - Validation Dataset\n",
            "  MAE: 3.3 | sMAPE: 12.55 %\n",
            "\n",
            "Best MAE - Test Dataset\n",
            "  MAE: 4.3 | sMAPE: 20.82 %\n",
            "  5%|▍         | 71/1500 [42:05<24:39:34, 62.12s/it, best loss: 3.312944481654803]"
          ]
        },
        {
          "output_type": "stream",
          "name": "stderr",
          "text": [
            "/usr/local/lib/python3.7/dist-packages/keras/optimizer_v2/adam.py:105: UserWarning: The `lr` argument is deprecated, use `learning_rate` instead.\n",
            "  super(Adam, self).__init__(name, **kwargs)\n",
            "\n"
          ]
        },
        {
          "output_type": "stream",
          "name": "stdout",
          "text": [
            "\n",
            "\n",
            "Tested 72/1500 iterations.\n",
            "Best MAE - Validation Dataset\n",
            "  MAE: 3.3 | sMAPE: 12.55 %\n",
            "\n",
            "Best MAE - Test Dataset\n",
            "  MAE: 4.3 | sMAPE: 20.82 %\n",
            "  5%|▍         | 72/1500 [42:49<22:25:22, 56.53s/it, best loss: 3.312944481654803]"
          ]
        },
        {
          "output_type": "stream",
          "name": "stderr",
          "text": [
            "/usr/local/lib/python3.7/dist-packages/keras/optimizer_v2/adam.py:105: UserWarning: The `lr` argument is deprecated, use `learning_rate` instead.\n",
            "  super(Adam, self).__init__(name, **kwargs)\n",
            "\n"
          ]
        },
        {
          "output_type": "stream",
          "name": "stdout",
          "text": [
            "\n",
            "\n",
            "Tested 73/1500 iterations.\n",
            "Best MAE - Validation Dataset\n",
            "  MAE: 3.3 | sMAPE: 12.55 %\n",
            "\n",
            "Best MAE - Test Dataset\n",
            "  MAE: 4.3 | sMAPE: 20.82 %\n",
            "  5%|▍         | 73/1500 [43:52<23:15:01, 58.66s/it, best loss: 3.312944481654803]"
          ]
        },
        {
          "output_type": "stream",
          "name": "stderr",
          "text": [
            "/usr/local/lib/python3.7/dist-packages/keras/optimizer_v2/adam.py:105: UserWarning: The `lr` argument is deprecated, use `learning_rate` instead.\n",
            "  super(Adam, self).__init__(name, **kwargs)\n",
            "\n"
          ]
        },
        {
          "output_type": "stream",
          "name": "stdout",
          "text": [
            "\n",
            "\n",
            "Tested 74/1500 iterations.\n",
            "Best MAE - Validation Dataset\n",
            "  MAE: 3.3 | sMAPE: 12.55 %\n",
            "\n",
            "Best MAE - Test Dataset\n",
            "  MAE: 4.3 | sMAPE: 20.82 %\n",
            "  5%|▍         | 74/1500 [44:50<23:03:03, 58.19s/it, best loss: 3.312944481654803]"
          ]
        },
        {
          "output_type": "stream",
          "name": "stderr",
          "text": [
            "/usr/local/lib/python3.7/dist-packages/keras/optimizer_v2/adam.py:105: UserWarning: The `lr` argument is deprecated, use `learning_rate` instead.\n",
            "  super(Adam, self).__init__(name, **kwargs)\n",
            "\n"
          ]
        },
        {
          "output_type": "stream",
          "name": "stdout",
          "text": [
            "\n",
            "\n",
            "Tested 75/1500 iterations.\n",
            "Best MAE - Validation Dataset\n",
            "  MAE: 3.3 | sMAPE: 12.59 %\n",
            "\n",
            "Best MAE - Test Dataset\n",
            "  MAE: 4.2 | sMAPE: 20.44 %\n",
            "  5%|▌         | 75/1500 [46:04<25:00:53, 63.20s/it, best loss: 3.3115307298453582]"
          ]
        },
        {
          "output_type": "stream",
          "name": "stderr",
          "text": [
            "/usr/local/lib/python3.7/dist-packages/keras/optimizer_v2/adam.py:105: UserWarning: The `lr` argument is deprecated, use `learning_rate` instead.\n",
            "  super(Adam, self).__init__(name, **kwargs)\n",
            "\n"
          ]
        },
        {
          "output_type": "stream",
          "name": "stdout",
          "text": [
            "\n",
            "\n",
            "Tested 76/1500 iterations.\n",
            "Best MAE - Validation Dataset\n",
            "  MAE: 3.3 | sMAPE: 12.59 %\n",
            "\n",
            "Best MAE - Test Dataset\n",
            "  MAE: 4.2 | sMAPE: 20.44 %\n",
            "  5%|▌         | 76/1500 [46:42<22:00:01, 55.62s/it, best loss: 3.3115307298453582]"
          ]
        },
        {
          "output_type": "stream",
          "name": "stderr",
          "text": [
            "/usr/local/lib/python3.7/dist-packages/keras/optimizer_v2/adam.py:105: UserWarning: The `lr` argument is deprecated, use `learning_rate` instead.\n",
            "  super(Adam, self).__init__(name, **kwargs)\n",
            "\n"
          ]
        },
        {
          "output_type": "stream",
          "name": "stdout",
          "text": [
            "\n",
            "\n",
            "Tested 77/1500 iterations.\n",
            "Best MAE - Validation Dataset\n",
            "  MAE: 3.3 | sMAPE: 12.59 %\n",
            "\n",
            "Best MAE - Test Dataset\n",
            "  MAE: 4.2 | sMAPE: 20.44 %\n",
            "\n",
            "\n",
            "Tested 78/1500 iterations.\n",
            "Best MAE - Validation Dataset\n",
            "  MAE: 3.3 | sMAPE: 12.59 %\n",
            "\n",
            "Best MAE - Test Dataset\n",
            "  MAE: 4.2 | sMAPE: 20.44 %\n",
            "  5%|▌         | 78/1500 [47:44<16:23:26, 41.50s/it, best loss: 3.3115307298453582]"
          ]
        },
        {
          "output_type": "stream",
          "name": "stderr",
          "text": [
            "/usr/local/lib/python3.7/dist-packages/keras/optimizer_v2/adam.py:105: UserWarning: The `lr` argument is deprecated, use `learning_rate` instead.\n",
            "  super(Adam, self).__init__(name, **kwargs)\n",
            "\n"
          ]
        },
        {
          "output_type": "stream",
          "name": "stdout",
          "text": [
            "\n",
            "\n",
            "Tested 79/1500 iterations.\n",
            "Best MAE - Validation Dataset\n",
            "  MAE: 3.3 | sMAPE: 12.59 %\n",
            "\n",
            "Best MAE - Test Dataset\n",
            "  MAE: 4.2 | sMAPE: 20.44 %\n",
            "  5%|▌         | 79/1500 [49:39<25:08:05, 63.68s/it, best loss: 3.3115307298453582]"
          ]
        },
        {
          "output_type": "stream",
          "name": "stderr",
          "text": [
            "/usr/local/lib/python3.7/dist-packages/keras/optimizer_v2/adam.py:105: UserWarning: The `lr` argument is deprecated, use `learning_rate` instead.\n",
            "  super(Adam, self).__init__(name, **kwargs)\n",
            "\n"
          ]
        },
        {
          "output_type": "stream",
          "name": "stdout",
          "text": [
            "\n",
            "\n",
            "Tested 80/1500 iterations.\n",
            "Best MAE - Validation Dataset\n",
            "  MAE: 3.3 | sMAPE: 12.59 %\n",
            "\n",
            "Best MAE - Test Dataset\n",
            "  MAE: 4.2 | sMAPE: 20.44 %\n",
            "  5%|▌         | 80/1500 [50:35<24:12:01, 61.35s/it, best loss: 3.3115307298453582]"
          ]
        },
        {
          "output_type": "stream",
          "name": "stderr",
          "text": [
            "/usr/local/lib/python3.7/dist-packages/keras/optimizer_v2/adam.py:105: UserWarning: The `lr` argument is deprecated, use `learning_rate` instead.\n",
            "  super(Adam, self).__init__(name, **kwargs)\n",
            "\n"
          ]
        },
        {
          "output_type": "stream",
          "name": "stdout",
          "text": [
            "\n",
            "\n",
            "Tested 81/1500 iterations.\n",
            "Best MAE - Validation Dataset\n",
            "  MAE: 3.3 | sMAPE: 12.59 %\n",
            "\n",
            "Best MAE - Test Dataset\n",
            "  MAE: 4.2 | sMAPE: 20.44 %\n",
            "  5%|▌         | 81/1500 [51:03<20:11:15, 51.22s/it, best loss: 3.3115307298453582]"
          ]
        },
        {
          "output_type": "stream",
          "name": "stderr",
          "text": [
            "/usr/local/lib/python3.7/dist-packages/keras/optimizer_v2/adam.py:105: UserWarning: The `lr` argument is deprecated, use `learning_rate` instead.\n",
            "  super(Adam, self).__init__(name, **kwargs)\n",
            "\n"
          ]
        },
        {
          "output_type": "stream",
          "name": "stdout",
          "text": [
            "\n",
            "\n",
            "Tested 82/1500 iterations.\n",
            "Best MAE - Validation Dataset\n",
            "  MAE: 3.3 | sMAPE: 12.59 %\n",
            "\n",
            "Best MAE - Test Dataset\n",
            "  MAE: 4.2 | sMAPE: 20.44 %\n",
            "  5%|▌         | 82/1500 [51:54<20:07:39, 51.10s/it, best loss: 3.3115307298453582]"
          ]
        },
        {
          "output_type": "stream",
          "name": "stderr",
          "text": [
            "/usr/local/lib/python3.7/dist-packages/keras/optimizer_v2/adam.py:105: UserWarning: The `lr` argument is deprecated, use `learning_rate` instead.\n",
            "  super(Adam, self).__init__(name, **kwargs)\n",
            "\n"
          ]
        },
        {
          "output_type": "stream",
          "name": "stdout",
          "text": [
            "\n",
            "\n",
            "Tested 83/1500 iterations.\n",
            "Best MAE - Validation Dataset\n",
            "  MAE: 3.3 | sMAPE: 12.59 %\n",
            "\n",
            "Best MAE - Test Dataset\n",
            "  MAE: 4.2 | sMAPE: 20.44 %\n",
            "  6%|▌         | 83/1500 [52:50<20:43:49, 52.67s/it, best loss: 3.3115307298453582]"
          ]
        },
        {
          "output_type": "stream",
          "name": "stderr",
          "text": [
            "/usr/local/lib/python3.7/dist-packages/keras/optimizer_v2/adam.py:105: UserWarning: The `lr` argument is deprecated, use `learning_rate` instead.\n",
            "  super(Adam, self).__init__(name, **kwargs)\n",
            "\n"
          ]
        },
        {
          "output_type": "stream",
          "name": "stdout",
          "text": [
            "\n",
            "\n",
            "Tested 84/1500 iterations.\n",
            "Best MAE - Validation Dataset\n",
            "  MAE: 3.3 | sMAPE: 12.59 %\n",
            "\n",
            "Best MAE - Test Dataset\n",
            "  MAE: 4.2 | sMAPE: 20.44 %\n",
            "\n",
            "\n",
            "Tested 85/1500 iterations.\n",
            "Best MAE - Validation Dataset\n",
            "  MAE: 3.3 | sMAPE: 12.59 %\n",
            "\n",
            "Best MAE - Test Dataset\n",
            "  MAE: 4.2 | sMAPE: 20.44 %\n",
            "  6%|▌         | 85/1500 [58:35<39:41:20, 100.98s/it, best loss: 3.3115307298453582]"
          ]
        },
        {
          "output_type": "stream",
          "name": "stderr",
          "text": [
            "/usr/local/lib/python3.7/dist-packages/keras/optimizer_v2/adam.py:105: UserWarning: The `lr` argument is deprecated, use `learning_rate` instead.\n",
            "  super(Adam, self).__init__(name, **kwargs)\n",
            "\n"
          ]
        },
        {
          "output_type": "stream",
          "name": "stdout",
          "text": [
            "\n",
            "\n",
            "Tested 86/1500 iterations.\n",
            "Best MAE - Validation Dataset\n",
            "  MAE: 3.3 | sMAPE: 12.59 %\n",
            "\n",
            "Best MAE - Test Dataset\n",
            "  MAE: 4.2 | sMAPE: 20.44 %\n",
            "  6%|▌         | 86/1500 [59:05<31:22:51, 79.90s/it, best loss: 3.3115307298453582]"
          ]
        },
        {
          "output_type": "stream",
          "name": "stderr",
          "text": [
            "/usr/local/lib/python3.7/dist-packages/keras/optimizer_v2/adam.py:105: UserWarning: The `lr` argument is deprecated, use `learning_rate` instead.\n",
            "  super(Adam, self).__init__(name, **kwargs)\n",
            "\n"
          ]
        },
        {
          "output_type": "stream",
          "name": "stdout",
          "text": [
            "\n",
            "\n",
            "Tested 87/1500 iterations.\n",
            "Best MAE - Validation Dataset\n",
            "  MAE: 3.3 | sMAPE: 12.59 %\n",
            "\n",
            "Best MAE - Test Dataset\n",
            "  MAE: 4.2 | sMAPE: 20.44 %\n",
            "  6%|▌         | 87/1500 [59:43<26:23:51, 67.26s/it, best loss: 3.3115307298453582]"
          ]
        },
        {
          "output_type": "stream",
          "name": "stderr",
          "text": [
            "/usr/local/lib/python3.7/dist-packages/keras/optimizer_v2/adam.py:105: UserWarning: The `lr` argument is deprecated, use `learning_rate` instead.\n",
            "  super(Adam, self).__init__(name, **kwargs)\n",
            "\n"
          ]
        },
        {
          "output_type": "stream",
          "name": "stdout",
          "text": [
            "\n",
            "\n",
            "Tested 88/1500 iterations.\n",
            "Best MAE - Validation Dataset\n",
            "  MAE: 3.3 | sMAPE: 12.59 %\n",
            "\n",
            "Best MAE - Test Dataset\n",
            "  MAE: 4.2 | sMAPE: 20.44 %\n",
            "  6%|▌         | 88/1500 [1:00:16<22:20:03, 56.94s/it, best loss: 3.3115307298453582]"
          ]
        },
        {
          "output_type": "stream",
          "name": "stderr",
          "text": [
            "/usr/local/lib/python3.7/dist-packages/keras/optimizer_v2/adam.py:105: UserWarning: The `lr` argument is deprecated, use `learning_rate` instead.\n",
            "  super(Adam, self).__init__(name, **kwargs)\n",
            "\n"
          ]
        },
        {
          "output_type": "stream",
          "name": "stdout",
          "text": [
            "\n",
            "\n",
            "Tested 89/1500 iterations.\n",
            "Best MAE - Validation Dataset\n",
            "  MAE: 3.3 | sMAPE: 12.59 %\n",
            "\n",
            "Best MAE - Test Dataset\n",
            "  MAE: 4.2 | sMAPE: 20.44 %\n",
            "  6%|▌         | 89/1500 [1:00:47<19:14:23, 49.09s/it, best loss: 3.3115307298453582]"
          ]
        },
        {
          "output_type": "stream",
          "name": "stderr",
          "text": [
            "/usr/local/lib/python3.7/dist-packages/keras/optimizer_v2/adam.py:105: UserWarning: The `lr` argument is deprecated, use `learning_rate` instead.\n",
            "  super(Adam, self).__init__(name, **kwargs)\n",
            "\n"
          ]
        },
        {
          "output_type": "stream",
          "name": "stdout",
          "text": [
            "\n",
            "\n",
            "Tested 90/1500 iterations.\n",
            "Best MAE - Validation Dataset\n",
            "  MAE: 3.3 | sMAPE: 12.59 %\n",
            "\n",
            "Best MAE - Test Dataset\n",
            "  MAE: 4.2 | sMAPE: 20.44 %\n",
            "  6%|▌         | 90/1500 [1:01:21<17:30:09, 44.69s/it, best loss: 3.3115307298453582]"
          ]
        },
        {
          "output_type": "stream",
          "name": "stderr",
          "text": [
            "/usr/local/lib/python3.7/dist-packages/keras/optimizer_v2/adam.py:105: UserWarning: The `lr` argument is deprecated, use `learning_rate` instead.\n",
            "  super(Adam, self).__init__(name, **kwargs)\n",
            "\n"
          ]
        },
        {
          "output_type": "stream",
          "name": "stdout",
          "text": [
            "\n",
            "\n",
            "Tested 91/1500 iterations.\n",
            "Best MAE - Validation Dataset\n",
            "  MAE: 3.3 | sMAPE: 12.25 %\n",
            "\n",
            "Best MAE - Test Dataset\n",
            "  MAE: 4.1 | sMAPE: 19.32 %\n",
            "\n",
            "\n",
            "Tested 92/1500 iterations.\n",
            "Best MAE - Validation Dataset\n",
            "  MAE: 3.3 | sMAPE: 12.25 %\n",
            "\n",
            "Best MAE - Test Dataset\n",
            "  MAE: 4.1 | sMAPE: 19.32 %\n",
            "\n",
            "\n",
            "Tested 93/1500 iterations.\n",
            "Best MAE - Validation Dataset\n",
            "  MAE: 3.3 | sMAPE: 12.25 %\n",
            "\n",
            "Best MAE - Test Dataset\n",
            "  MAE: 4.1 | sMAPE: 19.32 %\n",
            "\n",
            "\n",
            "Tested 94/1500 iterations.\n",
            "Best MAE - Validation Dataset\n",
            "  MAE: 3.3 | sMAPE: 12.25 %\n",
            "\n",
            "Best MAE - Test Dataset\n",
            "  MAE: 4.1 | sMAPE: 19.32 %\n",
            "\n",
            "\n",
            "Tested 95/1500 iterations.\n",
            "Best MAE - Validation Dataset\n",
            "  MAE: 3.3 | sMAPE: 12.25 %\n",
            "\n",
            "Best MAE - Test Dataset\n",
            "  MAE: 4.1 | sMAPE: 19.32 %\n",
            "\n",
            "\n",
            "Tested 96/1500 iterations.\n",
            "Best MAE - Validation Dataset\n",
            "  MAE: 3.3 | sMAPE: 12.25 %\n",
            "\n",
            "Best MAE - Test Dataset\n",
            "  MAE: 4.1 | sMAPE: 19.32 %\n",
            "\n",
            "\n",
            "Tested 97/1500 iterations.\n",
            "Best MAE - Validation Dataset\n",
            "  MAE: 3.3 | sMAPE: 12.25 %\n",
            "\n",
            "Best MAE - Test Dataset\n",
            "  MAE: 4.1 | sMAPE: 19.32 %\n",
            "\n",
            "\n",
            "Tested 98/1500 iterations.\n",
            "Best MAE - Validation Dataset\n",
            "  MAE: 3.3 | sMAPE: 12.25 %\n",
            "\n",
            "Best MAE - Test Dataset\n",
            "  MAE: 4.1 | sMAPE: 19.32 %\n",
            "\n",
            "\n",
            "Tested 99/1500 iterations.\n",
            "Best MAE - Validation Dataset\n",
            "  MAE: 3.3 | sMAPE: 12.25 %\n",
            "\n",
            "Best MAE - Test Dataset\n",
            "  MAE: 4.1 | sMAPE: 19.32 %\n",
            "\n",
            "\n",
            "Tested 100/1500 iterations.\n",
            "Best MAE - Validation Dataset\n",
            "  MAE: 3.3 | sMAPE: 12.25 %\n",
            "\n",
            "Best MAE - Test Dataset\n",
            "  MAE: 4.1 | sMAPE: 19.32 %\n",
            "\n",
            "\n",
            "Tested 101/1500 iterations.\n",
            "Best MAE - Validation Dataset\n",
            "  MAE: 3.3 | sMAPE: 12.25 %\n",
            "\n",
            "Best MAE - Test Dataset\n",
            "  MAE: 4.1 | sMAPE: 19.32 %\n",
            "\n",
            "\n",
            "Tested 102/1500 iterations.\n",
            "Best MAE - Validation Dataset\n",
            "  MAE: 3.3 | sMAPE: 12.25 %\n",
            "\n",
            "Best MAE - Test Dataset\n",
            "  MAE: 4.1 | sMAPE: 19.32 %\n",
            "\n",
            "\n",
            "Tested 103/1500 iterations.\n",
            "Best MAE - Validation Dataset\n",
            "  MAE: 3.3 | sMAPE: 12.25 %\n",
            "\n",
            "Best MAE - Test Dataset\n",
            "  MAE: 4.1 | sMAPE: 19.32 %\n",
            "\n",
            "\n",
            "Tested 104/1500 iterations.\n",
            "Best MAE - Validation Dataset\n",
            "  MAE: 3.3 | sMAPE: 12.25 %\n",
            "\n",
            "Best MAE - Test Dataset\n",
            "  MAE: 4.1 | sMAPE: 19.32 %\n",
            "\n",
            "\n",
            "Tested 105/1500 iterations.\n",
            "Best MAE - Validation Dataset\n",
            "  MAE: 3.3 | sMAPE: 12.25 %\n",
            "\n",
            "Best MAE - Test Dataset\n",
            "  MAE: 4.1 | sMAPE: 19.32 %\n",
            "\n",
            "\n",
            "Tested 106/1500 iterations.\n",
            "Best MAE - Validation Dataset\n",
            "  MAE: 3.3 | sMAPE: 12.25 %\n",
            "\n",
            "Best MAE - Test Dataset\n",
            "  MAE: 4.1 | sMAPE: 19.32 %\n",
            "\n",
            "\n",
            "Tested 107/1500 iterations.\n",
            "Best MAE - Validation Dataset\n",
            "  MAE: 3.3 | sMAPE: 12.21 %\n",
            "\n",
            "Best MAE - Test Dataset\n",
            "  MAE: 3.9 | sMAPE: 18.63 %\n",
            "\n",
            "\n",
            "Tested 108/1500 iterations.\n",
            "Best MAE - Validation Dataset\n",
            "  MAE: 3.3 | sMAPE: 12.21 %\n",
            "\n",
            "Best MAE - Test Dataset\n",
            "  MAE: 3.9 | sMAPE: 18.63 %\n",
            "\n",
            "\n",
            "Tested 109/1500 iterations.\n",
            "Best MAE - Validation Dataset\n",
            "  MAE: 3.3 | sMAPE: 12.21 %\n",
            "\n",
            "Best MAE - Test Dataset\n",
            "  MAE: 3.9 | sMAPE: 18.63 %\n",
            "\n",
            "\n",
            "Tested 110/1500 iterations.\n",
            "Best MAE - Validation Dataset\n",
            "  MAE: 3.3 | sMAPE: 12.21 %\n",
            "\n",
            "Best MAE - Test Dataset\n",
            "  MAE: 3.9 | sMAPE: 18.63 %\n",
            "\n",
            "\n",
            "Tested 111/1500 iterations.\n",
            "Best MAE - Validation Dataset\n",
            "  MAE: 3.3 | sMAPE: 12.21 %\n",
            "\n",
            "Best MAE - Test Dataset\n",
            "  MAE: 3.9 | sMAPE: 18.63 %\n",
            "\n",
            "\n",
            "Tested 112/1500 iterations.\n",
            "Best MAE - Validation Dataset\n",
            "  MAE: 3.3 | sMAPE: 12.21 %\n",
            "\n",
            "Best MAE - Test Dataset\n",
            "  MAE: 3.9 | sMAPE: 18.63 %\n",
            "  7%|▋         | 112/1500 [1:17:30<17:22:05, 45.05s/it, best loss: 3.2571324386517646]"
          ]
        },
        {
          "output_type": "stream",
          "name": "stderr",
          "text": [
            "/usr/local/lib/python3.7/dist-packages/keras/optimizer_v2/adam.py:105: UserWarning: The `lr` argument is deprecated, use `learning_rate` instead.\n",
            "  super(Adam, self).__init__(name, **kwargs)\n",
            "\n"
          ]
        },
        {
          "output_type": "stream",
          "name": "stdout",
          "text": [
            "\n",
            "\n",
            "Tested 113/1500 iterations.\n",
            "Best MAE - Validation Dataset\n",
            "  MAE: 3.3 | sMAPE: 12.21 %\n",
            "\n",
            "Best MAE - Test Dataset\n",
            "  MAE: 3.9 | sMAPE: 18.63 %\n",
            "  8%|▊         | 113/1500 [1:18:06<16:23:11, 42.53s/it, best loss: 3.2571324386517646]"
          ]
        },
        {
          "output_type": "stream",
          "name": "stderr",
          "text": [
            "/usr/local/lib/python3.7/dist-packages/keras/optimizer_v2/adam.py:105: UserWarning: The `lr` argument is deprecated, use `learning_rate` instead.\n",
            "  super(Adam, self).__init__(name, **kwargs)\n",
            "\n"
          ]
        },
        {
          "output_type": "stream",
          "name": "stdout",
          "text": [
            "\n",
            "\n",
            "Tested 114/1500 iterations.\n",
            "Best MAE - Validation Dataset\n",
            "  MAE: 3.3 | sMAPE: 12.21 %\n",
            "\n",
            "Best MAE - Test Dataset\n",
            "  MAE: 3.9 | sMAPE: 18.63 %\n",
            "\n",
            "\n",
            "Tested 115/1500 iterations.\n",
            "Best MAE - Validation Dataset\n",
            "  MAE: 3.3 | sMAPE: 12.21 %\n",
            "\n",
            "Best MAE - Test Dataset\n",
            "  MAE: 3.9 | sMAPE: 18.63 %\n",
            "  8%|▊         | 115/1500 [1:19:26<15:30:26, 40.31s/it, best loss: 3.2571324386517646]"
          ]
        },
        {
          "output_type": "stream",
          "name": "stderr",
          "text": [
            "/usr/local/lib/python3.7/dist-packages/keras/optimizer_v2/adam.py:105: UserWarning: The `lr` argument is deprecated, use `learning_rate` instead.\n",
            "  super(Adam, self).__init__(name, **kwargs)\n",
            "\n"
          ]
        },
        {
          "output_type": "stream",
          "name": "stdout",
          "text": [
            "\n",
            "\n",
            "Tested 116/1500 iterations.\n",
            "Best MAE - Validation Dataset\n",
            "  MAE: 3.3 | sMAPE: 12.21 %\n",
            "\n",
            "Best MAE - Test Dataset\n",
            "  MAE: 3.9 | sMAPE: 18.63 %\n",
            "  8%|▊         | 116/1500 [1:20:57<21:21:35, 55.56s/it, best loss: 3.2571324386517646]"
          ]
        },
        {
          "output_type": "stream",
          "name": "stderr",
          "text": [
            "/content/epftoolbox/epftoolbox/data/_wrangling.py:95: RuntimeWarning: overflow encountered in sinh\n",
            "  transformed_data = np.sinh(data)\n",
            "\n",
            "/content/epftoolbox/epftoolbox/data/_wrangling.py:67: RuntimeWarning: overflow encountered in multiply\n",
            "  transformed_data[:, i] = data[:, i] * self.mad[i] + self.median[i]\n",
            "\n"
          ]
        },
        {
          "output_type": "stream",
          "name": "stdout",
          "text": [
            "\n",
            "\n",
            "Tested 117/1500 iterations.\n",
            "Best MAE - Validation Dataset\n",
            "  MAE: 3.3 | sMAPE: 12.21 %\n",
            "\n",
            "Best MAE - Test Dataset\n",
            "  MAE: 3.9 | sMAPE: 18.63 %\n",
            "  8%|▊         | 117/1500 [1:21:21<17:42:08, 46.08s/it, best loss: 3.2571324386517646]"
          ]
        },
        {
          "output_type": "stream",
          "name": "stderr",
          "text": [
            "/usr/local/lib/python3.7/dist-packages/keras/optimizer_v2/adam.py:105: UserWarning: The `lr` argument is deprecated, use `learning_rate` instead.\n",
            "  super(Adam, self).__init__(name, **kwargs)\n",
            "\n"
          ]
        },
        {
          "output_type": "stream",
          "name": "stdout",
          "text": [
            "\n",
            "\n",
            "Tested 118/1500 iterations.\n",
            "Best MAE - Validation Dataset\n",
            "  MAE: 3.3 | sMAPE: 12.21 %\n",
            "\n",
            "Best MAE - Test Dataset\n",
            "  MAE: 3.9 | sMAPE: 18.63 %\n",
            "  8%|▊         | 118/1500 [1:22:32<20:32:34, 53.51s/it, best loss: 3.2571324386517646]"
          ]
        },
        {
          "output_type": "stream",
          "name": "stderr",
          "text": [
            "/usr/local/lib/python3.7/dist-packages/keras/optimizer_v2/adam.py:105: UserWarning: The `lr` argument is deprecated, use `learning_rate` instead.\n",
            "  super(Adam, self).__init__(name, **kwargs)\n",
            "\n"
          ]
        },
        {
          "output_type": "stream",
          "name": "stdout",
          "text": [
            "\n",
            "\n",
            "Tested 119/1500 iterations.\n",
            "Best MAE - Validation Dataset\n",
            "  MAE: 3.3 | sMAPE: 12.21 %\n",
            "\n",
            "Best MAE - Test Dataset\n",
            "  MAE: 3.9 | sMAPE: 18.63 %\n",
            "  8%|▊         | 119/1500 [1:24:46<29:46:10, 77.60s/it, best loss: 3.2571324386517646]"
          ]
        },
        {
          "output_type": "stream",
          "name": "stderr",
          "text": [
            "/usr/local/lib/python3.7/dist-packages/keras/optimizer_v2/adam.py:105: UserWarning: The `lr` argument is deprecated, use `learning_rate` instead.\n",
            "  super(Adam, self).__init__(name, **kwargs)\n",
            "\n"
          ]
        },
        {
          "output_type": "stream",
          "name": "stdout",
          "text": [
            "\n",
            "\n",
            "Tested 120/1500 iterations.\n",
            "Best MAE - Validation Dataset\n",
            "  MAE: 3.3 | sMAPE: 12.21 %\n",
            "\n",
            "Best MAE - Test Dataset\n",
            "  MAE: 3.9 | sMAPE: 18.63 %\n",
            "\n",
            "\n",
            "Tested 121/1500 iterations.\n",
            "Best MAE - Validation Dataset\n",
            "  MAE: 3.3 | sMAPE: 12.21 %\n",
            "\n",
            "Best MAE - Test Dataset\n",
            "  MAE: 3.9 | sMAPE: 18.63 %\n",
            "  8%|▊         | 121/1500 [1:26:25<23:28:49, 61.30s/it, best loss: 3.2571324386517646]"
          ]
        },
        {
          "output_type": "stream",
          "name": "stderr",
          "text": [
            "/usr/local/lib/python3.7/dist-packages/keras/optimizer_v2/adam.py:105: UserWarning: The `lr` argument is deprecated, use `learning_rate` instead.\n",
            "  super(Adam, self).__init__(name, **kwargs)\n",
            "\n"
          ]
        },
        {
          "output_type": "stream",
          "name": "stdout",
          "text": [
            "\n",
            "\n",
            "Tested 122/1500 iterations.\n",
            "Best MAE - Validation Dataset\n",
            "  MAE: 3.3 | sMAPE: 12.21 %\n",
            "\n",
            "Best MAE - Test Dataset\n",
            "  MAE: 3.9 | sMAPE: 18.63 %\n",
            "  8%|▊         | 122/1500 [1:26:58<20:08:09, 52.60s/it, best loss: 3.2571324386517646]"
          ]
        },
        {
          "output_type": "stream",
          "name": "stderr",
          "text": [
            "/usr/local/lib/python3.7/dist-packages/keras/optimizer_v2/adam.py:105: UserWarning: The `lr` argument is deprecated, use `learning_rate` instead.\n",
            "  super(Adam, self).__init__(name, **kwargs)\n",
            "\n"
          ]
        },
        {
          "output_type": "stream",
          "name": "stdout",
          "text": [
            "\n",
            "\n",
            "Tested 123/1500 iterations.\n",
            "Best MAE - Validation Dataset\n",
            "  MAE: 3.3 | sMAPE: 12.21 %\n",
            "\n",
            "Best MAE - Test Dataset\n",
            "  MAE: 3.9 | sMAPE: 18.63 %\n",
            "  8%|▊         | 123/1500 [1:27:41<19:04:40, 49.88s/it, best loss: 3.2571324386517646]"
          ]
        },
        {
          "output_type": "stream",
          "name": "stderr",
          "text": [
            "/usr/local/lib/python3.7/dist-packages/keras/optimizer_v2/adam.py:105: UserWarning: The `lr` argument is deprecated, use `learning_rate` instead.\n",
            "  super(Adam, self).__init__(name, **kwargs)\n",
            "\n"
          ]
        },
        {
          "output_type": "stream",
          "name": "stdout",
          "text": [
            "\n",
            "\n",
            "Tested 124/1500 iterations.\n",
            "Best MAE - Validation Dataset\n",
            "  MAE: 3.3 | sMAPE: 12.21 %\n",
            "\n",
            "Best MAE - Test Dataset\n",
            "  MAE: 3.9 | sMAPE: 18.63 %\n",
            "  8%|▊         | 124/1500 [1:28:50<21:16:33, 55.66s/it, best loss: 3.2571324386517646]"
          ]
        },
        {
          "output_type": "stream",
          "name": "stderr",
          "text": [
            "/usr/local/lib/python3.7/dist-packages/keras/optimizer_v2/adam.py:105: UserWarning: The `lr` argument is deprecated, use `learning_rate` instead.\n",
            "  super(Adam, self).__init__(name, **kwargs)\n",
            "\n"
          ]
        },
        {
          "output_type": "stream",
          "name": "stdout",
          "text": [
            "\n",
            "\n",
            "Tested 125/1500 iterations.\n",
            "Best MAE - Validation Dataset\n",
            "  MAE: 3.3 | sMAPE: 12.21 %\n",
            "\n",
            "Best MAE - Test Dataset\n",
            "  MAE: 3.9 | sMAPE: 18.63 %\n",
            "  8%|▊         | 125/1500 [1:30:23<25:28:56, 66.72s/it, best loss: 3.2571324386517646]"
          ]
        },
        {
          "output_type": "stream",
          "name": "stderr",
          "text": [
            "/usr/local/lib/python3.7/dist-packages/keras/optimizer_v2/adam.py:105: UserWarning: The `lr` argument is deprecated, use `learning_rate` instead.\n",
            "  super(Adam, self).__init__(name, **kwargs)\n",
            "\n"
          ]
        },
        {
          "output_type": "stream",
          "name": "stdout",
          "text": [
            "\n",
            "\n",
            "Tested 126/1500 iterations.\n",
            "Best MAE - Validation Dataset\n",
            "  MAE: 3.3 | sMAPE: 12.21 %\n",
            "\n",
            "Best MAE - Test Dataset\n",
            "  MAE: 3.9 | sMAPE: 18.63 %\n",
            "  8%|▊         | 126/1500 [1:30:49<20:51:45, 54.66s/it, best loss: 3.2571324386517646]"
          ]
        },
        {
          "output_type": "stream",
          "name": "stderr",
          "text": [
            "/usr/local/lib/python3.7/dist-packages/keras/optimizer_v2/adam.py:105: UserWarning: The `lr` argument is deprecated, use `learning_rate` instead.\n",
            "  super(Adam, self).__init__(name, **kwargs)\n",
            "\n"
          ]
        },
        {
          "output_type": "stream",
          "name": "stdout",
          "text": [
            "\n",
            "\n",
            "Tested 127/1500 iterations.\n",
            "Best MAE - Validation Dataset\n",
            "  MAE: 3.3 | sMAPE: 12.21 %\n",
            "\n",
            "Best MAE - Test Dataset\n",
            "  MAE: 3.9 | sMAPE: 18.63 %\n",
            "  8%|▊         | 127/1500 [1:31:02<16:01:11, 42.00s/it, best loss: 3.2571324386517646]"
          ]
        },
        {
          "output_type": "stream",
          "name": "stderr",
          "text": [
            "/usr/local/lib/python3.7/dist-packages/keras/optimizer_v2/adam.py:105: UserWarning: The `lr` argument is deprecated, use `learning_rate` instead.\n",
            "  super(Adam, self).__init__(name, **kwargs)\n",
            "\n"
          ]
        },
        {
          "output_type": "stream",
          "name": "stdout",
          "text": [
            "\n",
            "\n",
            "Tested 128/1500 iterations.\n",
            "Best MAE - Validation Dataset\n",
            "  MAE: 3.3 | sMAPE: 12.21 %\n",
            "\n",
            "Best MAE - Test Dataset\n",
            "  MAE: 3.9 | sMAPE: 18.63 %\n",
            "  9%|▊         | 128/1500 [1:31:42<15:50:58, 41.59s/it, best loss: 3.2571324386517646]"
          ]
        },
        {
          "output_type": "stream",
          "name": "stderr",
          "text": [
            "/usr/local/lib/python3.7/dist-packages/keras/optimizer_v2/adam.py:105: UserWarning: The `lr` argument is deprecated, use `learning_rate` instead.\n",
            "  super(Adam, self).__init__(name, **kwargs)\n",
            "\n"
          ]
        },
        {
          "output_type": "stream",
          "name": "stdout",
          "text": [
            "\n",
            "\n",
            "Tested 129/1500 iterations.\n",
            "Best MAE - Validation Dataset\n",
            "  MAE: 3.3 | sMAPE: 12.21 %\n",
            "\n",
            "Best MAE - Test Dataset\n",
            "  MAE: 3.9 | sMAPE: 18.63 %\n",
            "  9%|▊         | 129/1500 [1:32:19<15:17:03, 40.13s/it, best loss: 3.2571324386517646]"
          ]
        },
        {
          "output_type": "stream",
          "name": "stderr",
          "text": [
            "/usr/local/lib/python3.7/dist-packages/keras/optimizer_v2/adam.py:105: UserWarning: The `lr` argument is deprecated, use `learning_rate` instead.\n",
            "  super(Adam, self).__init__(name, **kwargs)\n",
            "\n"
          ]
        },
        {
          "output_type": "stream",
          "name": "stdout",
          "text": [
            "\n",
            "\n",
            "Tested 130/1500 iterations.\n",
            "Best MAE - Validation Dataset\n",
            "  MAE: 3.3 | sMAPE: 12.21 %\n",
            "\n",
            "Best MAE - Test Dataset\n",
            "  MAE: 3.9 | sMAPE: 18.63 %\n",
            "  9%|▊         | 130/1500 [1:33:38<19:36:55, 51.54s/it, best loss: 3.2571324386517646]"
          ]
        },
        {
          "output_type": "stream",
          "name": "stderr",
          "text": [
            "/usr/local/lib/python3.7/dist-packages/keras/optimizer_v2/adam.py:105: UserWarning: The `lr` argument is deprecated, use `learning_rate` instead.\n",
            "  super(Adam, self).__init__(name, **kwargs)\n",
            "\n"
          ]
        },
        {
          "output_type": "stream",
          "name": "stdout",
          "text": [
            "\n",
            "\n",
            "Tested 131/1500 iterations.\n",
            "Best MAE - Validation Dataset\n",
            "  MAE: 3.3 | sMAPE: 12.21 %\n",
            "\n",
            "Best MAE - Test Dataset\n",
            "  MAE: 3.9 | sMAPE: 18.63 %\n",
            "  9%|▊         | 131/1500 [1:34:25<19:07:52, 50.31s/it, best loss: 3.2571324386517646]"
          ]
        },
        {
          "output_type": "stream",
          "name": "stderr",
          "text": [
            "/usr/local/lib/python3.7/dist-packages/keras/optimizer_v2/adam.py:105: UserWarning: The `lr` argument is deprecated, use `learning_rate` instead.\n",
            "  super(Adam, self).__init__(name, **kwargs)\n",
            "\n"
          ]
        },
        {
          "output_type": "stream",
          "name": "stdout",
          "text": [
            "\n",
            "\n",
            "Tested 132/1500 iterations.\n",
            "Best MAE - Validation Dataset\n",
            "  MAE: 3.3 | sMAPE: 12.21 %\n",
            "\n",
            "Best MAE - Test Dataset\n",
            "  MAE: 3.9 | sMAPE: 18.63 %\n",
            "  9%|▉         | 132/1500 [1:34:49<16:09:03, 42.50s/it, best loss: 3.2571324386517646]"
          ]
        },
        {
          "output_type": "stream",
          "name": "stderr",
          "text": [
            "/usr/local/lib/python3.7/dist-packages/keras/optimizer_v2/adam.py:105: UserWarning: The `lr` argument is deprecated, use `learning_rate` instead.\n",
            "  super(Adam, self).__init__(name, **kwargs)\n",
            "\n"
          ]
        },
        {
          "output_type": "stream",
          "name": "stdout",
          "text": [
            "\n",
            "\n",
            "Tested 133/1500 iterations.\n",
            "Best MAE - Validation Dataset\n",
            "  MAE: 3.3 | sMAPE: 12.21 %\n",
            "\n",
            "Best MAE - Test Dataset\n",
            "  MAE: 3.9 | sMAPE: 18.63 %\n",
            "  9%|▉         | 133/1500 [1:35:05<13:09:29, 34.65s/it, best loss: 3.2571324386517646]"
          ]
        },
        {
          "output_type": "stream",
          "name": "stderr",
          "text": [
            "/usr/local/lib/python3.7/dist-packages/keras/optimizer_v2/adam.py:105: UserWarning: The `lr` argument is deprecated, use `learning_rate` instead.\n",
            "  super(Adam, self).__init__(name, **kwargs)\n",
            "\n"
          ]
        },
        {
          "output_type": "stream",
          "name": "stdout",
          "text": [
            "\n",
            "\n",
            "Tested 134/1500 iterations.\n",
            "Best MAE - Validation Dataset\n",
            "  MAE: 3.3 | sMAPE: 12.21 %\n",
            "\n",
            "Best MAE - Test Dataset\n",
            "  MAE: 3.9 | sMAPE: 18.63 %\n",
            "  9%|▉         | 134/1500 [1:36:19<17:33:47, 46.29s/it, best loss: 3.2571324386517646]"
          ]
        },
        {
          "output_type": "stream",
          "name": "stderr",
          "text": [
            "/usr/local/lib/python3.7/dist-packages/keras/optimizer_v2/adam.py:105: UserWarning: The `lr` argument is deprecated, use `learning_rate` instead.\n",
            "  super(Adam, self).__init__(name, **kwargs)\n",
            "\n"
          ]
        },
        {
          "output_type": "stream",
          "name": "stdout",
          "text": [
            "\n",
            "\n",
            "Tested 135/1500 iterations.\n",
            "Best MAE - Validation Dataset\n",
            "  MAE: 3.3 | sMAPE: 12.21 %\n",
            "\n",
            "Best MAE - Test Dataset\n",
            "  MAE: 3.9 | sMAPE: 18.63 %\n",
            "\n",
            "\n",
            "Tested 136/1500 iterations.\n",
            "Best MAE - Validation Dataset\n",
            "  MAE: 3.3 | sMAPE: 12.21 %\n",
            "\n",
            "Best MAE - Test Dataset\n",
            "  MAE: 3.9 | sMAPE: 18.63 %\n",
            "  9%|▉         | 136/1500 [1:38:35<21:09:35, 55.85s/it, best loss: 3.2571324386517646]"
          ]
        },
        {
          "output_type": "stream",
          "name": "stderr",
          "text": [
            "/usr/local/lib/python3.7/dist-packages/keras/optimizer_v2/adam.py:105: UserWarning: The `lr` argument is deprecated, use `learning_rate` instead.\n",
            "  super(Adam, self).__init__(name, **kwargs)\n",
            "\n"
          ]
        },
        {
          "output_type": "stream",
          "name": "stdout",
          "text": [
            "\n",
            "\n",
            "Tested 137/1500 iterations.\n",
            "Best MAE - Validation Dataset\n",
            "  MAE: 3.3 | sMAPE: 12.21 %\n",
            "\n",
            "Best MAE - Test Dataset\n",
            "  MAE: 3.9 | sMAPE: 18.63 %\n",
            "  9%|▉         | 137/1500 [1:39:22<20:05:16, 53.06s/it, best loss: 3.2571324386517646]"
          ]
        },
        {
          "output_type": "stream",
          "name": "stderr",
          "text": [
            "/usr/local/lib/python3.7/dist-packages/keras/optimizer_v2/adam.py:105: UserWarning: The `lr` argument is deprecated, use `learning_rate` instead.\n",
            "  super(Adam, self).__init__(name, **kwargs)\n",
            "\n"
          ]
        },
        {
          "output_type": "stream",
          "name": "stdout",
          "text": [
            "\n",
            "\n",
            "Tested 138/1500 iterations.\n",
            "Best MAE - Validation Dataset\n",
            "  MAE: 3.3 | sMAPE: 12.21 %\n",
            "\n",
            "Best MAE - Test Dataset\n",
            "  MAE: 3.9 | sMAPE: 18.63 %\n",
            "\n",
            "\n",
            "Tested 139/1500 iterations.\n",
            "Best MAE - Validation Dataset\n",
            "  MAE: 3.3 | sMAPE: 12.21 %\n",
            "\n",
            "Best MAE - Test Dataset\n",
            "  MAE: 3.9 | sMAPE: 18.63 %\n",
            "\n",
            "\n",
            "Tested 140/1500 iterations.\n",
            "Best MAE - Validation Dataset\n",
            "  MAE: 3.3 | sMAPE: 12.21 %\n",
            "\n",
            "Best MAE - Test Dataset\n",
            "  MAE: 3.9 | sMAPE: 18.63 %\n",
            "  9%|▉         | 140/1500 [1:44:24<31:55:14, 84.50s/it, best loss: 3.2571324386517646]"
          ]
        },
        {
          "output_type": "stream",
          "name": "stderr",
          "text": [
            "/usr/local/lib/python3.7/dist-packages/keras/optimizer_v2/adam.py:105: UserWarning: The `lr` argument is deprecated, use `learning_rate` instead.\n",
            "  super(Adam, self).__init__(name, **kwargs)\n",
            "\n"
          ]
        },
        {
          "output_type": "stream",
          "name": "stdout",
          "text": [
            "\n",
            "\n",
            "Tested 141/1500 iterations.\n",
            "Best MAE - Validation Dataset\n",
            "  MAE: 3.3 | sMAPE: 12.21 %\n",
            "\n",
            "Best MAE - Test Dataset\n",
            "  MAE: 3.9 | sMAPE: 18.63 %\n",
            "  9%|▉         | 141/1500 [1:45:30<29:47:18, 78.91s/it, best loss: 3.2571324386517646]"
          ]
        },
        {
          "output_type": "stream",
          "name": "stderr",
          "text": [
            "/usr/local/lib/python3.7/dist-packages/keras/optimizer_v2/adam.py:105: UserWarning: The `lr` argument is deprecated, use `learning_rate` instead.\n",
            "  super(Adam, self).__init__(name, **kwargs)\n",
            "\n"
          ]
        },
        {
          "output_type": "stream",
          "name": "stdout",
          "text": [
            "\n",
            "\n",
            "Tested 142/1500 iterations.\n",
            "Best MAE - Validation Dataset\n",
            "  MAE: 3.3 | sMAPE: 12.21 %\n",
            "\n",
            "Best MAE - Test Dataset\n",
            "  MAE: 3.9 | sMAPE: 18.63 %\n",
            "  9%|▉         | 142/1500 [1:46:25<27:04:36, 71.78s/it, best loss: 3.2571324386517646]"
          ]
        },
        {
          "output_type": "stream",
          "name": "stderr",
          "text": [
            "/usr/local/lib/python3.7/dist-packages/keras/optimizer_v2/adam.py:105: UserWarning: The `lr` argument is deprecated, use `learning_rate` instead.\n",
            "  super(Adam, self).__init__(name, **kwargs)\n",
            "\n"
          ]
        },
        {
          "output_type": "stream",
          "name": "stdout",
          "text": [
            "\n",
            "\n",
            "Tested 143/1500 iterations.\n",
            "Best MAE - Validation Dataset\n",
            "  MAE: 3.3 | sMAPE: 12.21 %\n",
            "\n",
            "Best MAE - Test Dataset\n",
            "  MAE: 3.9 | sMAPE: 18.63 %\n",
            "\n",
            "\n",
            "Tested 144/1500 iterations.\n",
            "Best MAE - Validation Dataset\n",
            "  MAE: 3.3 | sMAPE: 12.21 %\n",
            "\n",
            "Best MAE - Test Dataset\n",
            "  MAE: 3.9 | sMAPE: 18.63 %\n",
            " 10%|▉         | 144/1500 [1:48:13<24:11:31, 64.23s/it, best loss: 3.2571324386517646]"
          ]
        },
        {
          "output_type": "stream",
          "name": "stderr",
          "text": [
            "/usr/local/lib/python3.7/dist-packages/keras/optimizer_v2/adam.py:105: UserWarning: The `lr` argument is deprecated, use `learning_rate` instead.\n",
            "  super(Adam, self).__init__(name, **kwargs)\n",
            "\n"
          ]
        },
        {
          "output_type": "stream",
          "name": "stdout",
          "text": [
            "\n",
            "\n",
            "Tested 145/1500 iterations.\n",
            "Best MAE - Validation Dataset\n",
            "  MAE: 3.3 | sMAPE: 12.21 %\n",
            "\n",
            "Best MAE - Test Dataset\n",
            "  MAE: 3.9 | sMAPE: 18.63 %\n",
            " 10%|▉         | 145/1500 [1:48:44<20:24:02, 54.20s/it, best loss: 3.2571324386517646]"
          ]
        },
        {
          "output_type": "stream",
          "name": "stderr",
          "text": [
            "/usr/local/lib/python3.7/dist-packages/keras/optimizer_v2/adam.py:105: UserWarning: The `lr` argument is deprecated, use `learning_rate` instead.\n",
            "  super(Adam, self).__init__(name, **kwargs)\n",
            "\n"
          ]
        },
        {
          "output_type": "stream",
          "name": "stdout",
          "text": [
            "\n",
            "\n",
            "Tested 146/1500 iterations.\n",
            "Best MAE - Validation Dataset\n",
            "  MAE: 3.2 | sMAPE: 12.25 %\n",
            "\n",
            "Best MAE - Test Dataset\n",
            "  MAE: 4.1 | sMAPE: 19.32 %\n",
            "\n",
            "\n",
            "Tested 147/1500 iterations.\n",
            "Best MAE - Validation Dataset\n",
            "  MAE: 3.2 | sMAPE: 12.25 %\n",
            "\n",
            "Best MAE - Test Dataset\n",
            "  MAE: 4.1 | sMAPE: 19.32 %\n",
            "\n",
            "\n",
            "Tested 148/1500 iterations.\n",
            "Best MAE - Validation Dataset\n",
            "  MAE: 3.2 | sMAPE: 12.25 %\n",
            "\n",
            "Best MAE - Test Dataset\n",
            "  MAE: 4.1 | sMAPE: 19.32 %\n",
            "\n",
            "\n",
            "Tested 149/1500 iterations.\n",
            "Best MAE - Validation Dataset\n",
            "  MAE: 3.2 | sMAPE: 12.25 %\n",
            "\n",
            "Best MAE - Test Dataset\n",
            "  MAE: 4.1 | sMAPE: 19.32 %\n",
            "\n",
            "\n",
            "Tested 150/1500 iterations.\n",
            "Best MAE - Validation Dataset\n",
            "  MAE: 3.2 | sMAPE: 12.25 %\n",
            "\n",
            "Best MAE - Test Dataset\n",
            "  MAE: 4.1 | sMAPE: 19.32 %\n",
            "\n",
            "\n",
            "Tested 151/1500 iterations.\n",
            "Best MAE - Validation Dataset\n",
            "  MAE: 3.2 | sMAPE: 12.25 %\n",
            "\n",
            "Best MAE - Test Dataset\n",
            "  MAE: 4.1 | sMAPE: 19.32 %\n",
            "\n",
            "\n",
            "Tested 152/1500 iterations.\n",
            "Best MAE - Validation Dataset\n",
            "  MAE: 3.2 | sMAPE: 12.25 %\n",
            "\n",
            "Best MAE - Test Dataset\n",
            "  MAE: 4.1 | sMAPE: 19.32 %\n",
            "\n",
            "\n",
            "Tested 153/1500 iterations.\n",
            "Best MAE - Validation Dataset\n",
            "  MAE: 3.2 | sMAPE: 12.25 %\n",
            "\n",
            "Best MAE - Test Dataset\n",
            "  MAE: 4.1 | sMAPE: 19.32 %\n",
            "\n",
            "\n",
            "Tested 154/1500 iterations.\n",
            "Best MAE - Validation Dataset\n",
            "  MAE: 3.2 | sMAPE: 12.25 %\n",
            "\n",
            "Best MAE - Test Dataset\n",
            "  MAE: 4.1 | sMAPE: 19.32 %\n",
            "\n",
            "\n",
            "Tested 155/1500 iterations.\n",
            "Best MAE - Validation Dataset\n",
            "  MAE: 3.2 | sMAPE: 12.02 %\n",
            "\n",
            "Best MAE - Test Dataset\n",
            "  MAE: 4.1 | sMAPE: 19.33 %\n",
            "\n",
            "\n",
            "Tested 156/1500 iterations.\n",
            "Best MAE - Validation Dataset\n",
            "  MAE: 3.2 | sMAPE: 12.02 %\n",
            "\n",
            "Best MAE - Test Dataset\n",
            "  MAE: 4.1 | sMAPE: 19.33 %\n",
            "\n",
            "\n",
            "Tested 157/1500 iterations.\n",
            "Best MAE - Validation Dataset\n",
            "  MAE: 3.2 | sMAPE: 12.02 %\n",
            "\n",
            "Best MAE - Test Dataset\n",
            "  MAE: 4.1 | sMAPE: 19.33 %\n",
            "\n",
            "\n",
            "Tested 158/1500 iterations.\n",
            "Best MAE - Validation Dataset\n",
            "  MAE: 3.2 | sMAPE: 12.02 %\n",
            "\n",
            "Best MAE - Test Dataset\n",
            "  MAE: 4.1 | sMAPE: 19.33 %\n",
            " 11%|█         | 158/1500 [1:56:39<18:28:39, 49.57s/it, best loss: 3.1962398697965493]"
          ]
        },
        {
          "output_type": "stream",
          "name": "stderr",
          "text": [
            "/usr/local/lib/python3.7/dist-packages/keras/optimizer_v2/adam.py:105: UserWarning: The `lr` argument is deprecated, use `learning_rate` instead.\n",
            "  super(Adam, self).__init__(name, **kwargs)\n",
            "\n"
          ]
        },
        {
          "output_type": "stream",
          "name": "stdout",
          "text": [
            "\n",
            "\n",
            "Tested 159/1500 iterations.\n",
            "Best MAE - Validation Dataset\n",
            "  MAE: 3.2 | sMAPE: 12.02 %\n",
            "\n",
            "Best MAE - Test Dataset\n",
            "  MAE: 4.1 | sMAPE: 19.33 %\n",
            " 11%|█         | 159/1500 [1:56:57<14:53:42, 39.99s/it, best loss: 3.1962398697965493]"
          ]
        },
        {
          "output_type": "stream",
          "name": "stderr",
          "text": [
            "/usr/local/lib/python3.7/dist-packages/keras/optimizer_v2/adam.py:105: UserWarning: The `lr` argument is deprecated, use `learning_rate` instead.\n",
            "  super(Adam, self).__init__(name, **kwargs)\n",
            "\n"
          ]
        },
        {
          "output_type": "stream",
          "name": "stdout",
          "text": [
            "\n",
            "\n",
            "Tested 160/1500 iterations.\n",
            "Best MAE - Validation Dataset\n",
            "  MAE: 3.2 | sMAPE: 12.02 %\n",
            "\n",
            "Best MAE - Test Dataset\n",
            "  MAE: 4.1 | sMAPE: 19.33 %\n",
            " 11%|█         | 160/1500 [1:57:55<16:53:57, 45.40s/it, best loss: 3.1962398697965493]"
          ]
        },
        {
          "output_type": "stream",
          "name": "stderr",
          "text": [
            "/usr/local/lib/python3.7/dist-packages/keras/optimizer_v2/adam.py:105: UserWarning: The `lr` argument is deprecated, use `learning_rate` instead.\n",
            "  super(Adam, self).__init__(name, **kwargs)\n",
            "\n"
          ]
        },
        {
          "output_type": "stream",
          "name": "stdout",
          "text": [
            "\n",
            "\n",
            "Tested 161/1500 iterations.\n",
            "Best MAE - Validation Dataset\n",
            "  MAE: 3.2 | sMAPE: 12.02 %\n",
            "\n",
            "Best MAE - Test Dataset\n",
            "  MAE: 4.1 | sMAPE: 19.33 %\n",
            " 11%|█         | 161/1500 [1:58:36<16:25:49, 44.17s/it, best loss: 3.1962398697965493]"
          ]
        },
        {
          "output_type": "stream",
          "name": "stderr",
          "text": [
            "/usr/local/lib/python3.7/dist-packages/keras/optimizer_v2/adam.py:105: UserWarning: The `lr` argument is deprecated, use `learning_rate` instead.\n",
            "  super(Adam, self).__init__(name, **kwargs)\n",
            "\n"
          ]
        },
        {
          "output_type": "stream",
          "name": "stdout",
          "text": [
            "\n",
            "\n",
            "Tested 162/1500 iterations.\n",
            "Best MAE - Validation Dataset\n",
            "  MAE: 3.2 | sMAPE: 12.02 %\n",
            "\n",
            "Best MAE - Test Dataset\n",
            "  MAE: 4.1 | sMAPE: 19.33 %\n",
            " 11%|█         | 162/1500 [1:59:10<15:13:26, 40.96s/it, best loss: 3.1962398697965493]"
          ]
        },
        {
          "output_type": "stream",
          "name": "stderr",
          "text": [
            "/usr/local/lib/python3.7/dist-packages/keras/optimizer_v2/adam.py:105: UserWarning: The `lr` argument is deprecated, use `learning_rate` instead.\n",
            "  super(Adam, self).__init__(name, **kwargs)\n",
            "\n"
          ]
        },
        {
          "output_type": "stream",
          "name": "stdout",
          "text": [
            "\n",
            "\n",
            "Tested 163/1500 iterations.\n",
            "Best MAE - Validation Dataset\n",
            "  MAE: 3.2 | sMAPE: 12.02 %\n",
            "\n",
            "Best MAE - Test Dataset\n",
            "  MAE: 4.1 | sMAPE: 19.33 %\n",
            " 11%|█         | 163/1500 [1:59:35<13:29:06, 36.31s/it, best loss: 3.1962398697965493]"
          ]
        },
        {
          "output_type": "stream",
          "name": "stderr",
          "text": [
            "/usr/local/lib/python3.7/dist-packages/keras/optimizer_v2/adam.py:105: UserWarning: The `lr` argument is deprecated, use `learning_rate` instead.\n",
            "  super(Adam, self).__init__(name, **kwargs)\n",
            "\n"
          ]
        },
        {
          "output_type": "stream",
          "name": "stdout",
          "text": [
            "\n",
            "\n",
            "Tested 164/1500 iterations.\n",
            "Best MAE - Validation Dataset\n",
            "  MAE: 3.1 | sMAPE: 11.63 %\n",
            "\n",
            "Best MAE - Test Dataset\n",
            "  MAE: 4.2 | sMAPE: 20.58 %\n",
            " 11%|█         | 164/1500 [2:00:37<16:19:47, 44.00s/it, best loss: 3.0607783264658908]"
          ]
        },
        {
          "output_type": "stream",
          "name": "stderr",
          "text": [
            "/usr/local/lib/python3.7/dist-packages/keras/optimizer_v2/adam.py:105: UserWarning: The `lr` argument is deprecated, use `learning_rate` instead.\n",
            "  super(Adam, self).__init__(name, **kwargs)\n",
            "\n"
          ]
        },
        {
          "output_type": "stream",
          "name": "stdout",
          "text": [
            "\n",
            "\n",
            "Tested 165/1500 iterations.\n",
            "Best MAE - Validation Dataset\n",
            "  MAE: 3.1 | sMAPE: 11.63 %\n",
            "\n",
            "Best MAE - Test Dataset\n",
            "  MAE: 4.2 | sMAPE: 20.58 %\n",
            " 11%|█         | 165/1500 [2:01:19<16:08:59, 43.55s/it, best loss: 3.0607783264658908]"
          ]
        },
        {
          "output_type": "stream",
          "name": "stderr",
          "text": [
            "/usr/local/lib/python3.7/dist-packages/keras/optimizer_v2/adam.py:105: UserWarning: The `lr` argument is deprecated, use `learning_rate` instead.\n",
            "  super(Adam, self).__init__(name, **kwargs)\n",
            "\n"
          ]
        },
        {
          "output_type": "stream",
          "name": "stdout",
          "text": [
            "\n",
            "\n",
            "Tested 166/1500 iterations.\n",
            "Best MAE - Validation Dataset\n",
            "  MAE: 3.1 | sMAPE: 11.63 %\n",
            "\n",
            "Best MAE - Test Dataset\n",
            "  MAE: 4.2 | sMAPE: 20.58 %\n",
            " 11%|█         | 166/1500 [2:02:07<16:37:34, 44.87s/it, best loss: 3.0607783264658908]"
          ]
        },
        {
          "output_type": "stream",
          "name": "stderr",
          "text": [
            "/usr/local/lib/python3.7/dist-packages/keras/optimizer_v2/adam.py:105: UserWarning: The `lr` argument is deprecated, use `learning_rate` instead.\n",
            "  super(Adam, self).__init__(name, **kwargs)\n",
            "\n"
          ]
        },
        {
          "output_type": "stream",
          "name": "stdout",
          "text": [
            "\n",
            "\n",
            "Tested 167/1500 iterations.\n",
            "Best MAE - Validation Dataset\n",
            "  MAE: 3.1 | sMAPE: 11.63 %\n",
            "\n",
            "Best MAE - Test Dataset\n",
            "  MAE: 4.2 | sMAPE: 20.58 %\n",
            " 11%|█         | 167/1500 [2:02:43<15:34:27, 42.06s/it, best loss: 3.0607783264658908]"
          ]
        },
        {
          "output_type": "stream",
          "name": "stderr",
          "text": [
            "/usr/local/lib/python3.7/dist-packages/keras/optimizer_v2/adam.py:105: UserWarning: The `lr` argument is deprecated, use `learning_rate` instead.\n",
            "  super(Adam, self).__init__(name, **kwargs)\n",
            "\n"
          ]
        },
        {
          "output_type": "stream",
          "name": "stdout",
          "text": [
            "\n",
            "\n",
            "Tested 168/1500 iterations.\n",
            "Best MAE - Validation Dataset\n",
            "  MAE: 3.1 | sMAPE: 11.63 %\n",
            "\n",
            "Best MAE - Test Dataset\n",
            "  MAE: 4.2 | sMAPE: 20.58 %\n",
            " 11%|█         | 168/1500 [2:03:18<14:46:25, 39.93s/it, best loss: 3.0607783264658908]"
          ]
        },
        {
          "output_type": "stream",
          "name": "stderr",
          "text": [
            "/usr/local/lib/python3.7/dist-packages/keras/optimizer_v2/adam.py:105: UserWarning: The `lr` argument is deprecated, use `learning_rate` instead.\n",
            "  super(Adam, self).__init__(name, **kwargs)\n",
            "\n"
          ]
        },
        {
          "output_type": "stream",
          "name": "stdout",
          "text": [
            "\n",
            "\n",
            "Tested 169/1500 iterations.\n",
            "Best MAE - Validation Dataset\n",
            "  MAE: 3.1 | sMAPE: 11.63 %\n",
            "\n",
            "Best MAE - Test Dataset\n",
            "  MAE: 4.2 | sMAPE: 20.58 %\n",
            " 11%|█▏        | 169/1500 [2:03:41<12:51:26, 34.78s/it, best loss: 3.0607783264658908]"
          ]
        },
        {
          "output_type": "stream",
          "name": "stderr",
          "text": [
            "/usr/local/lib/python3.7/dist-packages/keras/optimizer_v2/adam.py:105: UserWarning: The `lr` argument is deprecated, use `learning_rate` instead.\n",
            "  super(Adam, self).__init__(name, **kwargs)\n",
            "\n"
          ]
        },
        {
          "output_type": "stream",
          "name": "stdout",
          "text": [
            "\n",
            "\n",
            "Tested 170/1500 iterations.\n",
            "Best MAE - Validation Dataset\n",
            "  MAE: 3.1 | sMAPE: 11.63 %\n",
            "\n",
            "Best MAE - Test Dataset\n",
            "  MAE: 4.2 | sMAPE: 20.58 %\n",
            " 11%|█▏        | 170/1500 [2:04:32<14:42:13, 39.80s/it, best loss: 3.0607783264658908]"
          ]
        },
        {
          "output_type": "stream",
          "name": "stderr",
          "text": [
            "/usr/local/lib/python3.7/dist-packages/keras/optimizer_v2/adam.py:105: UserWarning: The `lr` argument is deprecated, use `learning_rate` instead.\n",
            "  super(Adam, self).__init__(name, **kwargs)\n",
            "\n"
          ]
        },
        {
          "output_type": "stream",
          "name": "stdout",
          "text": [
            "\n",
            "\n",
            "Tested 171/1500 iterations.\n",
            "Best MAE - Validation Dataset\n",
            "  MAE: 3.1 | sMAPE: 11.63 %\n",
            "\n",
            "Best MAE - Test Dataset\n",
            "  MAE: 4.2 | sMAPE: 20.58 %\n",
            " 11%|█▏        | 171/1500 [2:05:24<16:01:21, 43.40s/it, best loss: 3.0607783264658908]"
          ]
        },
        {
          "output_type": "stream",
          "name": "stderr",
          "text": [
            "/usr/local/lib/python3.7/dist-packages/keras/optimizer_v2/adam.py:105: UserWarning: The `lr` argument is deprecated, use `learning_rate` instead.\n",
            "  super(Adam, self).__init__(name, **kwargs)\n",
            "\n"
          ]
        },
        {
          "output_type": "stream",
          "name": "stdout",
          "text": [
            "\n",
            "\n",
            "Tested 172/1500 iterations.\n",
            "Best MAE - Validation Dataset\n",
            "  MAE: 3.1 | sMAPE: 11.63 %\n",
            "\n",
            "Best MAE - Test Dataset\n",
            "  MAE: 4.2 | sMAPE: 20.58 %\n",
            " 11%|█▏        | 172/1500 [2:05:56<14:46:21, 40.05s/it, best loss: 3.0607783264658908]"
          ]
        },
        {
          "output_type": "stream",
          "name": "stderr",
          "text": [
            "/usr/local/lib/python3.7/dist-packages/keras/optimizer_v2/adam.py:105: UserWarning: The `lr` argument is deprecated, use `learning_rate` instead.\n",
            "  super(Adam, self).__init__(name, **kwargs)\n",
            "\n"
          ]
        },
        {
          "output_type": "stream",
          "name": "stdout",
          "text": [
            "\n",
            "\n",
            "Tested 173/1500 iterations.\n",
            "Best MAE - Validation Dataset\n",
            "  MAE: 3.1 | sMAPE: 11.63 %\n",
            "\n",
            "Best MAE - Test Dataset\n",
            "  MAE: 4.2 | sMAPE: 20.58 %\n",
            " 12%|█▏        | 173/1500 [2:06:43<15:32:26, 42.16s/it, best loss: 3.0607783264658908]"
          ]
        },
        {
          "output_type": "stream",
          "name": "stderr",
          "text": [
            "/usr/local/lib/python3.7/dist-packages/keras/optimizer_v2/adam.py:105: UserWarning: The `lr` argument is deprecated, use `learning_rate` instead.\n",
            "  super(Adam, self).__init__(name, **kwargs)\n",
            "\n"
          ]
        },
        {
          "output_type": "stream",
          "name": "stdout",
          "text": [
            "\n",
            "\n",
            "Tested 174/1500 iterations.\n",
            "Best MAE - Validation Dataset\n",
            "  MAE: 3.1 | sMAPE: 11.63 %\n",
            "\n",
            "Best MAE - Test Dataset\n",
            "  MAE: 4.2 | sMAPE: 20.58 %\n",
            " 12%|█▏        | 174/1500 [2:07:57<18:59:14, 51.55s/it, best loss: 3.0607783264658908]"
          ]
        },
        {
          "output_type": "stream",
          "name": "stderr",
          "text": [
            "/usr/local/lib/python3.7/dist-packages/keras/optimizer_v2/adam.py:105: UserWarning: The `lr` argument is deprecated, use `learning_rate` instead.\n",
            "  super(Adam, self).__init__(name, **kwargs)\n",
            "\n"
          ]
        },
        {
          "output_type": "stream",
          "name": "stdout",
          "text": [
            "\n",
            "\n",
            "Tested 175/1500 iterations.\n",
            "Best MAE - Validation Dataset\n",
            "  MAE: 3.1 | sMAPE: 11.63 %\n",
            "\n",
            "Best MAE - Test Dataset\n",
            "  MAE: 4.2 | sMAPE: 20.58 %\n",
            " 12%|█▏        | 175/1500 [2:08:52<19:19:48, 52.52s/it, best loss: 3.0607783264658908]"
          ]
        },
        {
          "output_type": "stream",
          "name": "stderr",
          "text": [
            "/usr/local/lib/python3.7/dist-packages/keras/optimizer_v2/adam.py:105: UserWarning: The `lr` argument is deprecated, use `learning_rate` instead.\n",
            "  super(Adam, self).__init__(name, **kwargs)\n",
            "\n"
          ]
        },
        {
          "output_type": "stream",
          "name": "stdout",
          "text": [
            "\n",
            "\n",
            "Tested 176/1500 iterations.\n",
            "Best MAE - Validation Dataset\n",
            "  MAE: 3.1 | sMAPE: 11.63 %\n",
            "\n",
            "Best MAE - Test Dataset\n",
            "  MAE: 4.2 | sMAPE: 20.58 %\n",
            " 12%|█▏        | 176/1500 [2:09:10<15:31:07, 42.20s/it, best loss: 3.0607783264658908]"
          ]
        },
        {
          "output_type": "stream",
          "name": "stderr",
          "text": [
            "/usr/local/lib/python3.7/dist-packages/keras/optimizer_v2/adam.py:105: UserWarning: The `lr` argument is deprecated, use `learning_rate` instead.\n",
            "  super(Adam, self).__init__(name, **kwargs)\n",
            "\n"
          ]
        },
        {
          "output_type": "stream",
          "name": "stdout",
          "text": [
            "\n",
            "\n",
            "Tested 177/1500 iterations.\n",
            "Best MAE - Validation Dataset\n",
            "  MAE: 3.1 | sMAPE: 11.63 %\n",
            "\n",
            "Best MAE - Test Dataset\n",
            "  MAE: 4.2 | sMAPE: 20.58 %\n",
            " 12%|█▏        | 177/1500 [2:09:46<14:54:47, 40.58s/it, best loss: 3.0607783264658908]"
          ]
        },
        {
          "output_type": "stream",
          "name": "stderr",
          "text": [
            "/usr/local/lib/python3.7/dist-packages/keras/optimizer_v2/adam.py:105: UserWarning: The `lr` argument is deprecated, use `learning_rate` instead.\n",
            "  super(Adam, self).__init__(name, **kwargs)\n",
            "\n"
          ]
        },
        {
          "output_type": "stream",
          "name": "stdout",
          "text": [
            "\n",
            "\n",
            "Tested 178/1500 iterations.\n",
            "Best MAE - Validation Dataset\n",
            "  MAE: 3.1 | sMAPE: 11.63 %\n",
            "\n",
            "Best MAE - Test Dataset\n",
            "  MAE: 4.2 | sMAPE: 20.58 %\n",
            " 12%|█▏        | 178/1500 [2:10:42<16:33:35, 45.10s/it, best loss: 3.0607783264658908]"
          ]
        },
        {
          "output_type": "stream",
          "name": "stderr",
          "text": [
            "/usr/local/lib/python3.7/dist-packages/keras/optimizer_v2/adam.py:105: UserWarning: The `lr` argument is deprecated, use `learning_rate` instead.\n",
            "  super(Adam, self).__init__(name, **kwargs)\n",
            "\n"
          ]
        },
        {
          "output_type": "stream",
          "name": "stdout",
          "text": [
            "\n",
            "\n",
            "Tested 179/1500 iterations.\n",
            "Best MAE - Validation Dataset\n",
            "  MAE: 3.1 | sMAPE: 11.63 %\n",
            "\n",
            "Best MAE - Test Dataset\n",
            "  MAE: 4.2 | sMAPE: 20.58 %\n",
            " 12%|█▏        | 179/1500 [2:11:28<16:36:51, 45.28s/it, best loss: 3.0607783264658908]"
          ]
        },
        {
          "output_type": "stream",
          "name": "stderr",
          "text": [
            "/usr/local/lib/python3.7/dist-packages/keras/optimizer_v2/adam.py:105: UserWarning: The `lr` argument is deprecated, use `learning_rate` instead.\n",
            "  super(Adam, self).__init__(name, **kwargs)\n",
            "\n"
          ]
        },
        {
          "output_type": "stream",
          "name": "stdout",
          "text": [
            "\n",
            "\n",
            "Tested 180/1500 iterations.\n",
            "Best MAE - Validation Dataset\n",
            "  MAE: 3.1 | sMAPE: 11.63 %\n",
            "\n",
            "Best MAE - Test Dataset\n",
            "  MAE: 4.2 | sMAPE: 20.58 %\n",
            " 12%|█▏        | 180/1500 [2:11:54<14:28:00, 39.45s/it, best loss: 3.0607783264658908]"
          ]
        },
        {
          "output_type": "stream",
          "name": "stderr",
          "text": [
            "/usr/local/lib/python3.7/dist-packages/keras/optimizer_v2/adam.py:105: UserWarning: The `lr` argument is deprecated, use `learning_rate` instead.\n",
            "  super(Adam, self).__init__(name, **kwargs)\n",
            "\n"
          ]
        },
        {
          "output_type": "stream",
          "name": "stdout",
          "text": [
            "\n",
            "\n",
            "Tested 181/1500 iterations.\n",
            "Best MAE - Validation Dataset\n",
            "  MAE: 3.1 | sMAPE: 11.63 %\n",
            "\n",
            "Best MAE - Test Dataset\n",
            "  MAE: 4.2 | sMAPE: 20.58 %\n",
            " 12%|█▏        | 181/1500 [2:12:20<13:01:34, 35.55s/it, best loss: 3.0607783264658908]"
          ]
        },
        {
          "output_type": "stream",
          "name": "stderr",
          "text": [
            "/usr/local/lib/python3.7/dist-packages/keras/optimizer_v2/adam.py:105: UserWarning: The `lr` argument is deprecated, use `learning_rate` instead.\n",
            "  super(Adam, self).__init__(name, **kwargs)\n",
            "\n"
          ]
        },
        {
          "output_type": "stream",
          "name": "stdout",
          "text": [
            "\n",
            "\n",
            "Tested 182/1500 iterations.\n",
            "Best MAE - Validation Dataset\n",
            "  MAE: 3.1 | sMAPE: 11.63 %\n",
            "\n",
            "Best MAE - Test Dataset\n",
            "  MAE: 4.2 | sMAPE: 20.58 %\n",
            " 12%|█▏        | 182/1500 [2:13:04<13:57:06, 38.11s/it, best loss: 3.0607783264658908]"
          ]
        },
        {
          "output_type": "stream",
          "name": "stderr",
          "text": [
            "/usr/local/lib/python3.7/dist-packages/keras/optimizer_v2/adam.py:105: UserWarning: The `lr` argument is deprecated, use `learning_rate` instead.\n",
            "  super(Adam, self).__init__(name, **kwargs)\n",
            "\n"
          ]
        },
        {
          "output_type": "stream",
          "name": "stdout",
          "text": [
            "\n",
            "\n",
            "Tested 183/1500 iterations.\n",
            "Best MAE - Validation Dataset\n",
            "  MAE: 3.1 | sMAPE: 11.63 %\n",
            "\n",
            "Best MAE - Test Dataset\n",
            "  MAE: 4.2 | sMAPE: 20.58 %\n",
            " 12%|█▏        | 183/1500 [2:13:53<15:09:11, 41.42s/it, best loss: 3.0607783264658908]"
          ]
        },
        {
          "output_type": "stream",
          "name": "stderr",
          "text": [
            "/usr/local/lib/python3.7/dist-packages/keras/optimizer_v2/adam.py:105: UserWarning: The `lr` argument is deprecated, use `learning_rate` instead.\n",
            "  super(Adam, self).__init__(name, **kwargs)\n",
            "\n"
          ]
        },
        {
          "output_type": "stream",
          "name": "stdout",
          "text": [
            "\n",
            "\n",
            "Tested 184/1500 iterations.\n",
            "Best MAE - Validation Dataset\n",
            "  MAE: 3.1 | sMAPE: 11.63 %\n",
            "\n",
            "Best MAE - Test Dataset\n",
            "  MAE: 4.2 | sMAPE: 20.58 %\n",
            " 12%|█▏        | 184/1500 [2:14:24<14:00:44, 38.33s/it, best loss: 3.0607783264658908]"
          ]
        },
        {
          "output_type": "stream",
          "name": "stderr",
          "text": [
            "/usr/local/lib/python3.7/dist-packages/keras/optimizer_v2/adam.py:105: UserWarning: The `lr` argument is deprecated, use `learning_rate` instead.\n",
            "  super(Adam, self).__init__(name, **kwargs)\n",
            "\n"
          ]
        },
        {
          "output_type": "stream",
          "name": "stdout",
          "text": [
            "\n",
            "\n",
            "Tested 185/1500 iterations.\n",
            "Best MAE - Validation Dataset\n",
            "  MAE: 3.1 | sMAPE: 11.63 %\n",
            "\n",
            "Best MAE - Test Dataset\n",
            "  MAE: 4.2 | sMAPE: 20.58 %\n",
            " 12%|█▏        | 185/1500 [2:14:47<12:16:57, 33.63s/it, best loss: 3.0607783264658908]"
          ]
        },
        {
          "output_type": "stream",
          "name": "stderr",
          "text": [
            "/usr/local/lib/python3.7/dist-packages/keras/optimizer_v2/adam.py:105: UserWarning: The `lr` argument is deprecated, use `learning_rate` instead.\n",
            "  super(Adam, self).__init__(name, **kwargs)\n",
            "\n"
          ]
        },
        {
          "output_type": "stream",
          "name": "stdout",
          "text": [
            "\n",
            "\n",
            "Tested 186/1500 iterations.\n",
            "Best MAE - Validation Dataset\n",
            "  MAE: 3.1 | sMAPE: 11.63 %\n",
            "\n",
            "Best MAE - Test Dataset\n",
            "  MAE: 4.2 | sMAPE: 20.58 %\n",
            " 12%|█▏        | 186/1500 [2:15:03<10:19:29, 28.29s/it, best loss: 3.0607783264658908]"
          ]
        },
        {
          "output_type": "stream",
          "name": "stderr",
          "text": [
            "/usr/local/lib/python3.7/dist-packages/keras/optimizer_v2/adam.py:105: UserWarning: The `lr` argument is deprecated, use `learning_rate` instead.\n",
            "  super(Adam, self).__init__(name, **kwargs)\n",
            "\n"
          ]
        },
        {
          "output_type": "stream",
          "name": "stdout",
          "text": [
            "\n",
            "\n",
            "Tested 187/1500 iterations.\n",
            "Best MAE - Validation Dataset\n",
            "  MAE: 3.1 | sMAPE: 11.63 %\n",
            "\n",
            "Best MAE - Test Dataset\n",
            "  MAE: 4.2 | sMAPE: 20.58 %\n",
            " 12%|█▏        | 187/1500 [2:15:55<12:53:48, 35.36s/it, best loss: 3.0607783264658908]"
          ]
        },
        {
          "output_type": "stream",
          "name": "stderr",
          "text": [
            "/usr/local/lib/python3.7/dist-packages/keras/optimizer_v2/adam.py:105: UserWarning: The `lr` argument is deprecated, use `learning_rate` instead.\n",
            "  super(Adam, self).__init__(name, **kwargs)\n",
            "\n"
          ]
        },
        {
          "output_type": "stream",
          "name": "stdout",
          "text": [
            "\n",
            "\n",
            "Tested 188/1500 iterations.\n",
            "Best MAE - Validation Dataset\n",
            "  MAE: 3.1 | sMAPE: 11.63 %\n",
            "\n",
            "Best MAE - Test Dataset\n",
            "  MAE: 4.2 | sMAPE: 20.58 %\n",
            " 13%|█▎        | 188/1500 [2:16:30<12:49:57, 35.21s/it, best loss: 3.0607783264658908]"
          ]
        },
        {
          "output_type": "stream",
          "name": "stderr",
          "text": [
            "/usr/local/lib/python3.7/dist-packages/keras/optimizer_v2/adam.py:105: UserWarning: The `lr` argument is deprecated, use `learning_rate` instead.\n",
            "  super(Adam, self).__init__(name, **kwargs)\n",
            "\n"
          ]
        },
        {
          "output_type": "stream",
          "name": "stdout",
          "text": [
            "\n",
            "\n",
            "Tested 189/1500 iterations.\n",
            "Best MAE - Validation Dataset\n",
            "  MAE: 3.1 | sMAPE: 11.63 %\n",
            "\n",
            "Best MAE - Test Dataset\n",
            "  MAE: 4.2 | sMAPE: 20.58 %\n",
            " 13%|█▎        | 189/1500 [2:17:04<12:41:40, 34.86s/it, best loss: 3.0607783264658908]"
          ]
        },
        {
          "output_type": "stream",
          "name": "stderr",
          "text": [
            "/usr/local/lib/python3.7/dist-packages/keras/optimizer_v2/adam.py:105: UserWarning: The `lr` argument is deprecated, use `learning_rate` instead.\n",
            "  super(Adam, self).__init__(name, **kwargs)\n",
            "\n"
          ]
        },
        {
          "output_type": "stream",
          "name": "stdout",
          "text": [
            "\n",
            "\n",
            "Tested 190/1500 iterations.\n",
            "Best MAE - Validation Dataset\n",
            "  MAE: 3.1 | sMAPE: 11.63 %\n",
            "\n",
            "Best MAE - Test Dataset\n",
            "  MAE: 4.2 | sMAPE: 20.58 %\n",
            " 13%|█▎        | 190/1500 [2:17:42<13:01:54, 35.81s/it, best loss: 3.0607783264658908]"
          ]
        },
        {
          "output_type": "stream",
          "name": "stderr",
          "text": [
            "/usr/local/lib/python3.7/dist-packages/keras/optimizer_v2/adam.py:105: UserWarning: The `lr` argument is deprecated, use `learning_rate` instead.\n",
            "  super(Adam, self).__init__(name, **kwargs)\n",
            "\n"
          ]
        },
        {
          "output_type": "stream",
          "name": "stdout",
          "text": [
            "\n",
            "\n",
            "Tested 191/1500 iterations.\n",
            "Best MAE - Validation Dataset\n",
            "  MAE: 3.1 | sMAPE: 11.63 %\n",
            "\n",
            "Best MAE - Test Dataset\n",
            "  MAE: 4.2 | sMAPE: 20.58 %\n",
            " 13%|█▎        | 191/1500 [2:18:18<13:05:55, 36.02s/it, best loss: 3.0607783264658908]"
          ]
        },
        {
          "output_type": "stream",
          "name": "stderr",
          "text": [
            "/usr/local/lib/python3.7/dist-packages/keras/optimizer_v2/adam.py:105: UserWarning: The `lr` argument is deprecated, use `learning_rate` instead.\n",
            "  super(Adam, self).__init__(name, **kwargs)\n",
            "\n"
          ]
        },
        {
          "output_type": "stream",
          "name": "stdout",
          "text": [
            "\n",
            "\n",
            "Tested 192/1500 iterations.\n",
            "Best MAE - Validation Dataset\n",
            "  MAE: 3.1 | sMAPE: 11.63 %\n",
            "\n",
            "Best MAE - Test Dataset\n",
            "  MAE: 4.2 | sMAPE: 20.58 %\n",
            " 13%|█▎        | 192/1500 [2:19:16<15:29:06, 42.62s/it, best loss: 3.0607783264658908]"
          ]
        },
        {
          "output_type": "stream",
          "name": "stderr",
          "text": [
            "/usr/local/lib/python3.7/dist-packages/keras/optimizer_v2/adam.py:105: UserWarning: The `lr` argument is deprecated, use `learning_rate` instead.\n",
            "  super(Adam, self).__init__(name, **kwargs)\n",
            "\n"
          ]
        },
        {
          "output_type": "stream",
          "name": "stdout",
          "text": [
            "\n",
            "\n",
            "Tested 193/1500 iterations.\n",
            "Best MAE - Validation Dataset\n",
            "  MAE: 3.1 | sMAPE: 11.63 %\n",
            "\n",
            "Best MAE - Test Dataset\n",
            "  MAE: 4.2 | sMAPE: 20.58 %\n",
            " 13%|█▎        | 193/1500 [2:19:50<14:32:59, 40.08s/it, best loss: 3.0607783264658908]"
          ]
        },
        {
          "output_type": "stream",
          "name": "stderr",
          "text": [
            "/usr/local/lib/python3.7/dist-packages/keras/optimizer_v2/adam.py:105: UserWarning: The `lr` argument is deprecated, use `learning_rate` instead.\n",
            "  super(Adam, self).__init__(name, **kwargs)\n",
            "\n"
          ]
        },
        {
          "output_type": "stream",
          "name": "stdout",
          "text": [
            "\n",
            "\n",
            "Tested 194/1500 iterations.\n",
            "Best MAE - Validation Dataset\n",
            "  MAE: 3.1 | sMAPE: 11.63 %\n",
            "\n",
            "Best MAE - Test Dataset\n",
            "  MAE: 4.2 | sMAPE: 20.58 %\n",
            " 13%|█▎        | 194/1500 [2:20:07<11:57:44, 32.97s/it, best loss: 3.0607783264658908]"
          ]
        },
        {
          "output_type": "stream",
          "name": "stderr",
          "text": [
            "/usr/local/lib/python3.7/dist-packages/keras/optimizer_v2/adam.py:105: UserWarning: The `lr` argument is deprecated, use `learning_rate` instead.\n",
            "  super(Adam, self).__init__(name, **kwargs)\n",
            "\n"
          ]
        },
        {
          "output_type": "stream",
          "name": "stdout",
          "text": [
            "\n",
            "\n",
            "Tested 195/1500 iterations.\n",
            "Best MAE - Validation Dataset\n",
            "  MAE: 3.1 | sMAPE: 11.63 %\n",
            "\n",
            "Best MAE - Test Dataset\n",
            "  MAE: 4.2 | sMAPE: 20.58 %\n",
            " 13%|█▎        | 195/1500 [2:20:48<12:52:03, 35.50s/it, best loss: 3.0607783264658908]"
          ]
        },
        {
          "output_type": "stream",
          "name": "stderr",
          "text": [
            "/usr/local/lib/python3.7/dist-packages/keras/optimizer_v2/adam.py:105: UserWarning: The `lr` argument is deprecated, use `learning_rate` instead.\n",
            "  super(Adam, self).__init__(name, **kwargs)\n",
            "\n"
          ]
        },
        {
          "output_type": "stream",
          "name": "stdout",
          "text": [
            "\n",
            "\n",
            "Tested 196/1500 iterations.\n",
            "Best MAE - Validation Dataset\n",
            "  MAE: 3.1 | sMAPE: 11.63 %\n",
            "\n",
            "Best MAE - Test Dataset\n",
            "  MAE: 4.2 | sMAPE: 20.58 %\n",
            " 13%|█▎        | 196/1500 [2:21:33<13:55:18, 38.43s/it, best loss: 3.0607783264658908]"
          ]
        },
        {
          "output_type": "stream",
          "name": "stderr",
          "text": [
            "/usr/local/lib/python3.7/dist-packages/keras/optimizer_v2/adam.py:105: UserWarning: The `lr` argument is deprecated, use `learning_rate` instead.\n",
            "  super(Adam, self).__init__(name, **kwargs)\n",
            "\n"
          ]
        },
        {
          "output_type": "stream",
          "name": "stdout",
          "text": [
            "\n",
            "\n",
            "Tested 197/1500 iterations.\n",
            "Best MAE - Validation Dataset\n",
            "  MAE: 3.1 | sMAPE: 11.63 %\n",
            "\n",
            "Best MAE - Test Dataset\n",
            "  MAE: 4.2 | sMAPE: 20.58 %\n",
            " 13%|█▎        | 197/1500 [2:21:40<10:28:31, 28.94s/it, best loss: 3.0607783264658908]"
          ]
        },
        {
          "output_type": "stream",
          "name": "stderr",
          "text": [
            "/usr/local/lib/python3.7/dist-packages/keras/optimizer_v2/adam.py:105: UserWarning: The `lr` argument is deprecated, use `learning_rate` instead.\n",
            "  super(Adam, self).__init__(name, **kwargs)\n",
            "\n"
          ]
        },
        {
          "output_type": "stream",
          "name": "stdout",
          "text": [
            "\n",
            "\n",
            "Tested 198/1500 iterations.\n",
            "Best MAE - Validation Dataset\n",
            "  MAE: 3.1 | sMAPE: 11.63 %\n",
            "\n",
            "Best MAE - Test Dataset\n",
            "  MAE: 4.2 | sMAPE: 20.58 %\n",
            " 13%|█▎        | 198/1500 [2:22:16<11:14:53, 31.10s/it, best loss: 3.0607783264658908]"
          ]
        },
        {
          "output_type": "stream",
          "name": "stderr",
          "text": [
            "/usr/local/lib/python3.7/dist-packages/keras/optimizer_v2/adam.py:105: UserWarning: The `lr` argument is deprecated, use `learning_rate` instead.\n",
            "  super(Adam, self).__init__(name, **kwargs)\n",
            "\n"
          ]
        },
        {
          "output_type": "stream",
          "name": "stdout",
          "text": [
            "\n",
            "\n",
            "Tested 199/1500 iterations.\n",
            "Best MAE - Validation Dataset\n",
            "  MAE: 3.1 | sMAPE: 11.63 %\n",
            "\n",
            "Best MAE - Test Dataset\n",
            "  MAE: 4.2 | sMAPE: 20.58 %\n",
            " 13%|█▎        | 199/1500 [2:22:34<9:44:11, 26.94s/it, best loss: 3.0607783264658908]"
          ]
        },
        {
          "output_type": "stream",
          "name": "stderr",
          "text": [
            "/usr/local/lib/python3.7/dist-packages/keras/optimizer_v2/adam.py:105: UserWarning: The `lr` argument is deprecated, use `learning_rate` instead.\n",
            "  super(Adam, self).__init__(name, **kwargs)\n",
            "\n"
          ]
        },
        {
          "output_type": "stream",
          "name": "stdout",
          "text": [
            "\n",
            "\n",
            "Tested 200/1500 iterations.\n",
            "Best MAE - Validation Dataset\n",
            "  MAE: 3.1 | sMAPE: 11.63 %\n",
            "\n",
            "Best MAE - Test Dataset\n",
            "  MAE: 4.2 | sMAPE: 20.58 %\n",
            " 13%|█▎        | 200/1500 [2:23:06<10:17:32, 28.50s/it, best loss: 3.0607783264658908]"
          ]
        },
        {
          "output_type": "stream",
          "name": "stderr",
          "text": [
            "/usr/local/lib/python3.7/dist-packages/keras/optimizer_v2/adam.py:105: UserWarning: The `lr` argument is deprecated, use `learning_rate` instead.\n",
            "  super(Adam, self).__init__(name, **kwargs)\n",
            "\n"
          ]
        },
        {
          "output_type": "stream",
          "name": "stdout",
          "text": [
            "\n",
            "\n",
            "Tested 201/1500 iterations.\n",
            "Best MAE - Validation Dataset\n",
            "  MAE: 3.1 | sMAPE: 11.63 %\n",
            "\n",
            "Best MAE - Test Dataset\n",
            "  MAE: 4.2 | sMAPE: 20.58 %\n",
            " 13%|█▎        | 201/1500 [2:23:52<12:10:43, 33.75s/it, best loss: 3.0607783264658908]"
          ]
        },
        {
          "output_type": "stream",
          "name": "stderr",
          "text": [
            "/usr/local/lib/python3.7/dist-packages/keras/optimizer_v2/adam.py:105: UserWarning: The `lr` argument is deprecated, use `learning_rate` instead.\n",
            "  super(Adam, self).__init__(name, **kwargs)\n",
            "\n"
          ]
        },
        {
          "output_type": "stream",
          "name": "stdout",
          "text": [
            "\n",
            "\n",
            "Tested 202/1500 iterations.\n",
            "Best MAE - Validation Dataset\n",
            "  MAE: 3.1 | sMAPE: 11.63 %\n",
            "\n",
            "Best MAE - Test Dataset\n",
            "  MAE: 4.2 | sMAPE: 20.58 %\n",
            " 13%|█▎        | 202/1500 [2:24:42<13:53:52, 38.55s/it, best loss: 3.0607783264658908]"
          ]
        },
        {
          "output_type": "stream",
          "name": "stderr",
          "text": [
            "/usr/local/lib/python3.7/dist-packages/keras/optimizer_v2/adam.py:105: UserWarning: The `lr` argument is deprecated, use `learning_rate` instead.\n",
            "  super(Adam, self).__init__(name, **kwargs)\n",
            "\n"
          ]
        },
        {
          "output_type": "stream",
          "name": "stdout",
          "text": [
            "\n",
            "\n",
            "Tested 203/1500 iterations.\n",
            "Best MAE - Validation Dataset\n",
            "  MAE: 3.1 | sMAPE: 11.63 %\n",
            "\n",
            "Best MAE - Test Dataset\n",
            "  MAE: 4.2 | sMAPE: 20.58 %\n",
            " 14%|█▎        | 203/1500 [2:25:50<17:07:06, 47.51s/it, best loss: 3.0607783264658908]"
          ]
        },
        {
          "output_type": "stream",
          "name": "stderr",
          "text": [
            "/usr/local/lib/python3.7/dist-packages/keras/optimizer_v2/adam.py:105: UserWarning: The `lr` argument is deprecated, use `learning_rate` instead.\n",
            "  super(Adam, self).__init__(name, **kwargs)\n",
            "\n"
          ]
        },
        {
          "output_type": "stream",
          "name": "stdout",
          "text": [
            "\n",
            "\n",
            "Tested 204/1500 iterations.\n",
            "Best MAE - Validation Dataset\n",
            "  MAE: 3.1 | sMAPE: 11.63 %\n",
            "\n",
            "Best MAE - Test Dataset\n",
            "  MAE: 4.2 | sMAPE: 20.58 %\n",
            " 14%|█▎        | 204/1500 [2:26:12<14:23:53, 40.00s/it, best loss: 3.0607783264658908]"
          ]
        },
        {
          "output_type": "stream",
          "name": "stderr",
          "text": [
            "/usr/local/lib/python3.7/dist-packages/keras/optimizer_v2/adam.py:105: UserWarning: The `lr` argument is deprecated, use `learning_rate` instead.\n",
            "  super(Adam, self).__init__(name, **kwargs)\n",
            "\n"
          ]
        },
        {
          "output_type": "stream",
          "name": "stdout",
          "text": [
            "\n",
            "\n",
            "Tested 205/1500 iterations.\n",
            "Best MAE - Validation Dataset\n",
            "  MAE: 3.1 | sMAPE: 11.63 %\n",
            "\n",
            "Best MAE - Test Dataset\n",
            "  MAE: 4.2 | sMAPE: 20.58 %\n",
            " 14%|█▎        | 205/1500 [2:26:52<14:19:17, 39.81s/it, best loss: 3.0607783264658908]"
          ]
        },
        {
          "output_type": "stream",
          "name": "stderr",
          "text": [
            "/usr/local/lib/python3.7/dist-packages/keras/optimizer_v2/adam.py:105: UserWarning: The `lr` argument is deprecated, use `learning_rate` instead.\n",
            "  super(Adam, self).__init__(name, **kwargs)\n",
            "\n"
          ]
        },
        {
          "output_type": "stream",
          "name": "stdout",
          "text": [
            "\n",
            "\n",
            "Tested 206/1500 iterations.\n",
            "Best MAE - Validation Dataset\n",
            "  MAE: 3.1 | sMAPE: 11.63 %\n",
            "\n",
            "Best MAE - Test Dataset\n",
            "  MAE: 4.2 | sMAPE: 20.58 %\n",
            " 14%|█▎        | 206/1500 [2:27:06<11:31:15, 32.05s/it, best loss: 3.0607783264658908]"
          ]
        },
        {
          "output_type": "stream",
          "name": "stderr",
          "text": [
            "/usr/local/lib/python3.7/dist-packages/keras/optimizer_v2/adam.py:105: UserWarning: The `lr` argument is deprecated, use `learning_rate` instead.\n",
            "  super(Adam, self).__init__(name, **kwargs)\n",
            "\n",
            "/content/epftoolbox/epftoolbox/data/_wrangling.py:95: RuntimeWarning: overflow encountered in sinh\n",
            "  transformed_data = np.sinh(data)\n",
            "\n",
            "/content/epftoolbox/epftoolbox/data/_wrangling.py:67: RuntimeWarning: overflow encountered in multiply\n",
            "  transformed_data[:, i] = data[:, i] * self.mad[i] + self.median[i]\n",
            "\n"
          ]
        },
        {
          "output_type": "stream",
          "name": "stdout",
          "text": [
            "\n",
            "\n",
            "Tested 207/1500 iterations.\n",
            "Best MAE - Validation Dataset\n",
            "  MAE: 3.1 | sMAPE: 11.63 %\n",
            "\n",
            "Best MAE - Test Dataset\n",
            "  MAE: 4.2 | sMAPE: 20.58 %\n",
            " 14%|█▍        | 207/1500 [2:27:36<11:19:51, 31.55s/it, best loss: 3.0607783264658908]"
          ]
        },
        {
          "output_type": "stream",
          "name": "stderr",
          "text": [
            "/usr/local/lib/python3.7/dist-packages/keras/optimizer_v2/adam.py:105: UserWarning: The `lr` argument is deprecated, use `learning_rate` instead.\n",
            "  super(Adam, self).__init__(name, **kwargs)\n",
            "\n"
          ]
        },
        {
          "output_type": "stream",
          "name": "stdout",
          "text": [
            "\n",
            "\n",
            "Tested 208/1500 iterations.\n",
            "Best MAE - Validation Dataset\n",
            "  MAE: 3.1 | sMAPE: 11.63 %\n",
            "\n",
            "Best MAE - Test Dataset\n",
            "  MAE: 4.2 | sMAPE: 20.58 %\n",
            " 14%|█▍        | 208/1500 [2:27:54<9:53:25, 27.56s/it, best loss: 3.0607783264658908]"
          ]
        },
        {
          "output_type": "stream",
          "name": "stderr",
          "text": [
            "/usr/local/lib/python3.7/dist-packages/keras/optimizer_v2/adam.py:105: UserWarning: The `lr` argument is deprecated, use `learning_rate` instead.\n",
            "  super(Adam, self).__init__(name, **kwargs)\n",
            "\n"
          ]
        },
        {
          "output_type": "stream",
          "name": "stdout",
          "text": [
            "\n",
            "\n",
            "Tested 209/1500 iterations.\n",
            "Best MAE - Validation Dataset\n",
            "  MAE: 3.1 | sMAPE: 11.63 %\n",
            "\n",
            "Best MAE - Test Dataset\n",
            "  MAE: 4.2 | sMAPE: 20.58 %\n",
            " 14%|█▍        | 209/1500 [2:28:47<12:38:16, 35.24s/it, best loss: 3.0607783264658908]"
          ]
        },
        {
          "output_type": "stream",
          "name": "stderr",
          "text": [
            "/usr/local/lib/python3.7/dist-packages/keras/optimizer_v2/adam.py:105: UserWarning: The `lr` argument is deprecated, use `learning_rate` instead.\n",
            "  super(Adam, self).__init__(name, **kwargs)\n",
            "\n"
          ]
        },
        {
          "output_type": "stream",
          "name": "stdout",
          "text": [
            "\n",
            "\n",
            "Tested 210/1500 iterations.\n",
            "Best MAE - Validation Dataset\n",
            "  MAE: 3.1 | sMAPE: 11.63 %\n",
            "\n",
            "Best MAE - Test Dataset\n",
            "  MAE: 4.2 | sMAPE: 20.58 %\n",
            " 14%|█▍        | 210/1500 [2:29:35<13:57:52, 38.97s/it, best loss: 3.0607783264658908]"
          ]
        },
        {
          "output_type": "stream",
          "name": "stderr",
          "text": [
            "/usr/local/lib/python3.7/dist-packages/keras/optimizer_v2/adam.py:105: UserWarning: The `lr` argument is deprecated, use `learning_rate` instead.\n",
            "  super(Adam, self).__init__(name, **kwargs)\n",
            "\n"
          ]
        },
        {
          "output_type": "stream",
          "name": "stdout",
          "text": [
            "\n",
            "\n",
            "Tested 211/1500 iterations.\n",
            "Best MAE - Validation Dataset\n",
            "  MAE: 3.1 | sMAPE: 11.63 %\n",
            "\n",
            "Best MAE - Test Dataset\n",
            "  MAE: 4.2 | sMAPE: 20.58 %\n",
            " 14%|█▍        | 211/1500 [2:29:55<11:53:42, 33.22s/it, best loss: 3.0607783264658908]"
          ]
        },
        {
          "output_type": "stream",
          "name": "stderr",
          "text": [
            "/usr/local/lib/python3.7/dist-packages/keras/optimizer_v2/adam.py:105: UserWarning: The `lr` argument is deprecated, use `learning_rate` instead.\n",
            "  super(Adam, self).__init__(name, **kwargs)\n",
            "\n"
          ]
        },
        {
          "output_type": "stream",
          "name": "stdout",
          "text": [
            "\n",
            "\n",
            "Tested 212/1500 iterations.\n",
            "Best MAE - Validation Dataset\n",
            "  MAE: 3.1 | sMAPE: 11.63 %\n",
            "\n",
            "Best MAE - Test Dataset\n",
            "  MAE: 4.2 | sMAPE: 20.58 %\n",
            " 14%|█▍        | 212/1500 [2:30:35<12:38:35, 35.34s/it, best loss: 3.0607783264658908]"
          ]
        },
        {
          "output_type": "stream",
          "name": "stderr",
          "text": [
            "/usr/local/lib/python3.7/dist-packages/keras/optimizer_v2/adam.py:105: UserWarning: The `lr` argument is deprecated, use `learning_rate` instead.\n",
            "  super(Adam, self).__init__(name, **kwargs)\n",
            "\n"
          ]
        },
        {
          "output_type": "stream",
          "name": "stdout",
          "text": [
            "\n",
            "\n",
            "Tested 213/1500 iterations.\n",
            "Best MAE - Validation Dataset\n",
            "  MAE: 3.1 | sMAPE: 11.63 %\n",
            "\n",
            "Best MAE - Test Dataset\n",
            "  MAE: 4.2 | sMAPE: 20.58 %\n",
            " 14%|█▍        | 213/1500 [2:31:36<15:20:49, 42.93s/it, best loss: 3.0607783264658908]"
          ]
        },
        {
          "output_type": "stream",
          "name": "stderr",
          "text": [
            "/usr/local/lib/python3.7/dist-packages/keras/optimizer_v2/adam.py:105: UserWarning: The `lr` argument is deprecated, use `learning_rate` instead.\n",
            "  super(Adam, self).__init__(name, **kwargs)\n",
            "\n"
          ]
        },
        {
          "output_type": "stream",
          "name": "stdout",
          "text": [
            "\n",
            "\n",
            "Tested 214/1500 iterations.\n",
            "Best MAE - Validation Dataset\n",
            "  MAE: 3.1 | sMAPE: 11.63 %\n",
            "\n",
            "Best MAE - Test Dataset\n",
            "  MAE: 4.2 | sMAPE: 20.58 %\n",
            " 14%|█▍        | 214/1500 [2:32:08<14:09:09, 39.62s/it, best loss: 3.0607783264658908]"
          ]
        },
        {
          "output_type": "stream",
          "name": "stderr",
          "text": [
            "/usr/local/lib/python3.7/dist-packages/keras/optimizer_v2/adam.py:105: UserWarning: The `lr` argument is deprecated, use `learning_rate` instead.\n",
            "  super(Adam, self).__init__(name, **kwargs)\n",
            "\n"
          ]
        },
        {
          "output_type": "stream",
          "name": "stdout",
          "text": [
            "\n",
            "\n",
            "Tested 215/1500 iterations.\n",
            "Best MAE - Validation Dataset\n",
            "  MAE: 3.1 | sMAPE: 11.63 %\n",
            "\n",
            "Best MAE - Test Dataset\n",
            "  MAE: 4.2 | sMAPE: 20.58 %\n",
            " 14%|█▍        | 215/1500 [2:32:35<12:47:01, 35.81s/it, best loss: 3.0607783264658908]"
          ]
        },
        {
          "output_type": "stream",
          "name": "stderr",
          "text": [
            "/content/epftoolbox/epftoolbox/data/_wrangling.py:95: RuntimeWarning: overflow encountered in sinh\n",
            "  transformed_data = np.sinh(data)\n",
            "\n",
            "/content/epftoolbox/epftoolbox/evaluation/_smape.py:118: RuntimeWarning: invalid value encountered in true_divide\n",
            "  return np.mean(np.abs(p_real - p_pred) / ((np.abs(p_real) + np.abs(p_pred)) / 2))\n",
            "\n",
            "/usr/local/lib/python3.7/dist-packages/keras/optimizer_v2/adam.py:105: UserWarning: The `lr` argument is deprecated, use `learning_rate` instead.\n",
            "  super(Adam, self).__init__(name, **kwargs)\n",
            "\n"
          ]
        },
        {
          "output_type": "stream",
          "name": "stdout",
          "text": [
            "\n",
            "\n",
            "Tested 216/1500 iterations.\n",
            "Best MAE - Validation Dataset\n",
            "  MAE: 3.1 | sMAPE: 11.63 %\n",
            "\n",
            "Best MAE - Test Dataset\n",
            "  MAE: 4.2 | sMAPE: 20.58 %\n",
            " 14%|█▍        | 216/1500 [2:33:33<15:10:13, 42.53s/it, best loss: 3.0607783264658908]"
          ]
        },
        {
          "output_type": "stream",
          "name": "stderr",
          "text": [
            "/usr/local/lib/python3.7/dist-packages/keras/optimizer_v2/adam.py:105: UserWarning: The `lr` argument is deprecated, use `learning_rate` instead.\n",
            "  super(Adam, self).__init__(name, **kwargs)\n",
            "\n"
          ]
        },
        {
          "output_type": "stream",
          "name": "stdout",
          "text": [
            "\n",
            "\n",
            "Tested 217/1500 iterations.\n",
            "Best MAE - Validation Dataset\n",
            "  MAE: 3.1 | sMAPE: 11.63 %\n",
            "\n",
            "Best MAE - Test Dataset\n",
            "  MAE: 4.2 | sMAPE: 20.58 %\n",
            " 14%|█▍        | 217/1500 [2:34:01<13:38:38, 38.28s/it, best loss: 3.0607783264658908]"
          ]
        },
        {
          "output_type": "stream",
          "name": "stderr",
          "text": [
            "/usr/local/lib/python3.7/dist-packages/keras/optimizer_v2/adam.py:105: UserWarning: The `lr` argument is deprecated, use `learning_rate` instead.\n",
            "  super(Adam, self).__init__(name, **kwargs)\n",
            "\n"
          ]
        },
        {
          "output_type": "stream",
          "name": "stdout",
          "text": [
            "\n",
            "\n",
            "Tested 218/1500 iterations.\n",
            "Best MAE - Validation Dataset\n",
            "  MAE: 3.1 | sMAPE: 11.63 %\n",
            "\n",
            "Best MAE - Test Dataset\n",
            "  MAE: 4.2 | sMAPE: 20.58 %\n",
            " 15%|█▍        | 218/1500 [2:34:18<11:20:22, 31.84s/it, best loss: 3.0607783264658908]"
          ]
        },
        {
          "output_type": "stream",
          "name": "stderr",
          "text": [
            "/usr/local/lib/python3.7/dist-packages/keras/optimizer_v2/adam.py:105: UserWarning: The `lr` argument is deprecated, use `learning_rate` instead.\n",
            "  super(Adam, self).__init__(name, **kwargs)\n",
            "\n"
          ]
        },
        {
          "output_type": "stream",
          "name": "stdout",
          "text": [
            "\n",
            "\n",
            "Tested 219/1500 iterations.\n",
            "Best MAE - Validation Dataset\n",
            "  MAE: 3.1 | sMAPE: 11.63 %\n",
            "\n",
            "Best MAE - Test Dataset\n",
            "  MAE: 4.2 | sMAPE: 20.58 %\n",
            " 15%|█▍        | 219/1500 [2:35:06<13:01:19, 36.60s/it, best loss: 3.0607783264658908]"
          ]
        },
        {
          "output_type": "stream",
          "name": "stderr",
          "text": [
            "/usr/local/lib/python3.7/dist-packages/keras/optimizer_v2/adam.py:105: UserWarning: The `lr` argument is deprecated, use `learning_rate` instead.\n",
            "  super(Adam, self).__init__(name, **kwargs)\n",
            "\n"
          ]
        },
        {
          "output_type": "stream",
          "name": "stdout",
          "text": [
            "\n",
            "\n",
            "Tested 220/1500 iterations.\n",
            "Best MAE - Validation Dataset\n",
            "  MAE: 3.1 | sMAPE: 11.63 %\n",
            "\n",
            "Best MAE - Test Dataset\n",
            "  MAE: 4.2 | sMAPE: 20.58 %\n",
            " 15%|█▍        | 220/1500 [2:35:44<13:09:36, 37.01s/it, best loss: 3.0607783264658908]"
          ]
        },
        {
          "output_type": "stream",
          "name": "stderr",
          "text": [
            "/usr/local/lib/python3.7/dist-packages/keras/optimizer_v2/adam.py:105: UserWarning: The `lr` argument is deprecated, use `learning_rate` instead.\n",
            "  super(Adam, self).__init__(name, **kwargs)\n",
            "\n"
          ]
        },
        {
          "output_type": "stream",
          "name": "stdout",
          "text": [
            "\n",
            "\n",
            "Tested 221/1500 iterations.\n",
            "Best MAE - Validation Dataset\n",
            "  MAE: 3.1 | sMAPE: 11.63 %\n",
            "\n",
            "Best MAE - Test Dataset\n",
            "  MAE: 4.2 | sMAPE: 20.58 %\n",
            " 15%|█▍        | 221/1500 [2:36:29<13:59:02, 39.36s/it, best loss: 3.0607783264658908]"
          ]
        },
        {
          "output_type": "stream",
          "name": "stderr",
          "text": [
            "/usr/local/lib/python3.7/dist-packages/keras/optimizer_v2/adam.py:105: UserWarning: The `lr` argument is deprecated, use `learning_rate` instead.\n",
            "  super(Adam, self).__init__(name, **kwargs)\n",
            "\n"
          ]
        },
        {
          "output_type": "stream",
          "name": "stdout",
          "text": [
            "\n",
            "\n",
            "Tested 222/1500 iterations.\n",
            "Best MAE - Validation Dataset\n",
            "  MAE: 3.1 | sMAPE: 11.63 %\n",
            "\n",
            "Best MAE - Test Dataset\n",
            "  MAE: 4.2 | sMAPE: 20.58 %\n",
            " 15%|█▍        | 222/1500 [2:37:15<14:40:02, 41.32s/it, best loss: 3.0607783264658908]"
          ]
        },
        {
          "output_type": "stream",
          "name": "stderr",
          "text": [
            "/usr/local/lib/python3.7/dist-packages/keras/optimizer_v2/adam.py:105: UserWarning: The `lr` argument is deprecated, use `learning_rate` instead.\n",
            "  super(Adam, self).__init__(name, **kwargs)\n",
            "\n",
            "/content/epftoolbox/epftoolbox/data/_wrangling.py:95: RuntimeWarning: overflow encountered in sinh\n",
            "  transformed_data = np.sinh(data)\n",
            "\n",
            "/content/epftoolbox/epftoolbox/data/_wrangling.py:67: RuntimeWarning: overflow encountered in multiply\n",
            "  transformed_data[:, i] = data[:, i] * self.mad[i] + self.median[i]\n",
            "\n"
          ]
        },
        {
          "output_type": "stream",
          "name": "stdout",
          "text": [
            "\n",
            "\n",
            "Tested 223/1500 iterations.\n",
            "Best MAE - Validation Dataset\n",
            "  MAE: 3.1 | sMAPE: 11.63 %\n",
            "\n",
            "Best MAE - Test Dataset\n",
            "  MAE: 4.2 | sMAPE: 20.58 %\n",
            " 15%|█▍        | 223/1500 [2:37:29<11:49:10, 33.32s/it, best loss: 3.0607783264658908]"
          ]
        },
        {
          "output_type": "stream",
          "name": "stderr",
          "text": [
            "/usr/local/lib/python3.7/dist-packages/keras/optimizer_v2/adam.py:105: UserWarning: The `lr` argument is deprecated, use `learning_rate` instead.\n",
            "  super(Adam, self).__init__(name, **kwargs)\n",
            "\n"
          ]
        },
        {
          "output_type": "stream",
          "name": "stdout",
          "text": [
            "\n",
            "\n",
            "Tested 224/1500 iterations.\n",
            "Best MAE - Validation Dataset\n",
            "  MAE: 3.1 | sMAPE: 11.63 %\n",
            "\n",
            "Best MAE - Test Dataset\n",
            "  MAE: 4.2 | sMAPE: 20.58 %\n",
            " 15%|█▍        | 224/1500 [2:38:11<12:42:18, 35.85s/it, best loss: 3.0607783264658908]"
          ]
        },
        {
          "output_type": "stream",
          "name": "stderr",
          "text": [
            "/usr/local/lib/python3.7/dist-packages/keras/optimizer_v2/adam.py:105: UserWarning: The `lr` argument is deprecated, use `learning_rate` instead.\n",
            "  super(Adam, self).__init__(name, **kwargs)\n",
            "\n"
          ]
        },
        {
          "output_type": "stream",
          "name": "stdout",
          "text": [
            "\n",
            "\n",
            "Tested 225/1500 iterations.\n",
            "Best MAE - Validation Dataset\n",
            "  MAE: 3.1 | sMAPE: 11.63 %\n",
            "\n",
            "Best MAE - Test Dataset\n",
            "  MAE: 4.2 | sMAPE: 20.58 %\n",
            " 15%|█▌        | 225/1500 [2:39:18<15:59:05, 45.13s/it, best loss: 3.0607783264658908]"
          ]
        },
        {
          "output_type": "stream",
          "name": "stderr",
          "text": [
            "/usr/local/lib/python3.7/dist-packages/keras/optimizer_v2/adam.py:105: UserWarning: The `lr` argument is deprecated, use `learning_rate` instead.\n",
            "  super(Adam, self).__init__(name, **kwargs)\n",
            "\n"
          ]
        },
        {
          "output_type": "stream",
          "name": "stdout",
          "text": [
            "\n",
            "\n",
            "Tested 226/1500 iterations.\n",
            "Best MAE - Validation Dataset\n",
            "  MAE: 3.1 | sMAPE: 11.63 %\n",
            "\n",
            "Best MAE - Test Dataset\n",
            "  MAE: 4.2 | sMAPE: 20.58 %\n",
            " 15%|█▌        | 226/1500 [2:39:56<15:14:28, 43.07s/it, best loss: 3.0607783264658908]"
          ]
        },
        {
          "output_type": "stream",
          "name": "stderr",
          "text": [
            "/usr/local/lib/python3.7/dist-packages/keras/optimizer_v2/adam.py:105: UserWarning: The `lr` argument is deprecated, use `learning_rate` instead.\n",
            "  super(Adam, self).__init__(name, **kwargs)\n",
            "\n"
          ]
        },
        {
          "output_type": "stream",
          "name": "stdout",
          "text": [
            "\n",
            "\n",
            "Tested 227/1500 iterations.\n",
            "Best MAE - Validation Dataset\n",
            "  MAE: 3.1 | sMAPE: 11.63 %\n",
            "\n",
            "Best MAE - Test Dataset\n",
            "  MAE: 4.2 | sMAPE: 20.58 %\n",
            " 15%|█▌        | 227/1500 [2:40:28<14:02:06, 39.69s/it, best loss: 3.0607783264658908]"
          ]
        },
        {
          "output_type": "stream",
          "name": "stderr",
          "text": [
            "/usr/local/lib/python3.7/dist-packages/keras/optimizer_v2/adam.py:105: UserWarning: The `lr` argument is deprecated, use `learning_rate` instead.\n",
            "  super(Adam, self).__init__(name, **kwargs)\n",
            "\n"
          ]
        },
        {
          "output_type": "stream",
          "name": "stdout",
          "text": [
            "\n",
            "\n",
            "Tested 228/1500 iterations.\n",
            "Best MAE - Validation Dataset\n",
            "  MAE: 3.1 | sMAPE: 11.63 %\n",
            "\n",
            "Best MAE - Test Dataset\n",
            "  MAE: 4.2 | sMAPE: 20.58 %\n",
            " 15%|█▌        | 228/1500 [2:40:48<11:55:02, 33.73s/it, best loss: 3.0607783264658908]"
          ]
        },
        {
          "output_type": "stream",
          "name": "stderr",
          "text": [
            "/usr/local/lib/python3.7/dist-packages/keras/optimizer_v2/adam.py:105: UserWarning: The `lr` argument is deprecated, use `learning_rate` instead.\n",
            "  super(Adam, self).__init__(name, **kwargs)\n",
            "\n"
          ]
        },
        {
          "output_type": "stream",
          "name": "stdout",
          "text": [
            "\n",
            "\n",
            "Tested 229/1500 iterations.\n",
            "Best MAE - Validation Dataset\n",
            "  MAE: 3.1 | sMAPE: 11.63 %\n",
            "\n",
            "Best MAE - Test Dataset\n",
            "  MAE: 4.2 | sMAPE: 20.58 %\n",
            " 15%|█▌        | 229/1500 [2:41:12<10:53:16, 30.84s/it, best loss: 3.0607783264658908]"
          ]
        },
        {
          "output_type": "stream",
          "name": "stderr",
          "text": [
            "/usr/local/lib/python3.7/dist-packages/keras/optimizer_v2/adam.py:105: UserWarning: The `lr` argument is deprecated, use `learning_rate` instead.\n",
            "  super(Adam, self).__init__(name, **kwargs)\n",
            "\n"
          ]
        },
        {
          "output_type": "stream",
          "name": "stdout",
          "text": [
            "\n",
            "\n",
            "Tested 230/1500 iterations.\n",
            "Best MAE - Validation Dataset\n",
            "  MAE: 3.1 | sMAPE: 11.63 %\n",
            "\n",
            "Best MAE - Test Dataset\n",
            "  MAE: 4.2 | sMAPE: 20.58 %\n",
            " 15%|█▌        | 230/1500 [2:41:55<12:11:29, 34.56s/it, best loss: 3.0607783264658908]"
          ]
        },
        {
          "output_type": "stream",
          "name": "stderr",
          "text": [
            "/usr/local/lib/python3.7/dist-packages/keras/optimizer_v2/adam.py:105: UserWarning: The `lr` argument is deprecated, use `learning_rate` instead.\n",
            "  super(Adam, self).__init__(name, **kwargs)\n",
            "\n"
          ]
        },
        {
          "output_type": "stream",
          "name": "stdout",
          "text": [
            "\n",
            "\n",
            "Tested 231/1500 iterations.\n",
            "Best MAE - Validation Dataset\n",
            "  MAE: 3.1 | sMAPE: 11.63 %\n",
            "\n",
            "Best MAE - Test Dataset\n",
            "  MAE: 4.2 | sMAPE: 20.58 %\n",
            " 15%|█▌        | 231/1500 [2:42:51<14:25:56, 40.94s/it, best loss: 3.0607783264658908]"
          ]
        },
        {
          "output_type": "stream",
          "name": "stderr",
          "text": [
            "/usr/local/lib/python3.7/dist-packages/keras/optimizer_v2/adam.py:105: UserWarning: The `lr` argument is deprecated, use `learning_rate` instead.\n",
            "  super(Adam, self).__init__(name, **kwargs)\n",
            "\n"
          ]
        },
        {
          "output_type": "stream",
          "name": "stdout",
          "text": [
            "\n",
            "\n",
            "Tested 232/1500 iterations.\n",
            "Best MAE - Validation Dataset\n",
            "  MAE: 3.1 | sMAPE: 11.63 %\n",
            "\n",
            "Best MAE - Test Dataset\n",
            "  MAE: 4.2 | sMAPE: 20.58 %\n",
            " 15%|█▌        | 232/1500 [2:43:11<12:15:15, 34.79s/it, best loss: 3.0607783264658908]"
          ]
        },
        {
          "output_type": "stream",
          "name": "stderr",
          "text": [
            "/usr/local/lib/python3.7/dist-packages/keras/optimizer_v2/adam.py:105: UserWarning: The `lr` argument is deprecated, use `learning_rate` instead.\n",
            "  super(Adam, self).__init__(name, **kwargs)\n",
            "\n"
          ]
        },
        {
          "output_type": "stream",
          "name": "stdout",
          "text": [
            "\n",
            "\n",
            "Tested 233/1500 iterations.\n",
            "Best MAE - Validation Dataset\n",
            "  MAE: 3.1 | sMAPE: 11.63 %\n",
            "\n",
            "Best MAE - Test Dataset\n",
            "  MAE: 4.2 | sMAPE: 20.58 %\n",
            " 16%|█▌        | 233/1500 [2:43:26<10:10:25, 28.91s/it, best loss: 3.0607783264658908]"
          ]
        },
        {
          "output_type": "stream",
          "name": "stderr",
          "text": [
            "/usr/local/lib/python3.7/dist-packages/keras/optimizer_v2/adam.py:105: UserWarning: The `lr` argument is deprecated, use `learning_rate` instead.\n",
            "  super(Adam, self).__init__(name, **kwargs)\n",
            "\n"
          ]
        },
        {
          "output_type": "stream",
          "name": "stdout",
          "text": [
            "\n",
            "\n",
            "Tested 234/1500 iterations.\n",
            "Best MAE - Validation Dataset\n",
            "  MAE: 3.1 | sMAPE: 11.63 %\n",
            "\n",
            "Best MAE - Test Dataset\n",
            "  MAE: 4.2 | sMAPE: 20.58 %\n",
            " 16%|█▌        | 234/1500 [2:44:14<12:06:29, 34.43s/it, best loss: 3.0607783264658908]"
          ]
        },
        {
          "output_type": "stream",
          "name": "stderr",
          "text": [
            "/usr/local/lib/python3.7/dist-packages/keras/optimizer_v2/adam.py:105: UserWarning: The `lr` argument is deprecated, use `learning_rate` instead.\n",
            "  super(Adam, self).__init__(name, **kwargs)\n",
            "\n"
          ]
        },
        {
          "output_type": "stream",
          "name": "stdout",
          "text": [
            "\n",
            "\n",
            "Tested 235/1500 iterations.\n",
            "Best MAE - Validation Dataset\n",
            "  MAE: 3.1 | sMAPE: 11.63 %\n",
            "\n",
            "Best MAE - Test Dataset\n",
            "  MAE: 4.2 | sMAPE: 20.58 %\n",
            " 16%|█▌        | 235/1500 [2:44:21<9:14:30, 26.30s/it, best loss: 3.0607783264658908]"
          ]
        },
        {
          "output_type": "stream",
          "name": "stderr",
          "text": [
            "/usr/local/lib/python3.7/dist-packages/keras/optimizer_v2/adam.py:105: UserWarning: The `lr` argument is deprecated, use `learning_rate` instead.\n",
            "  super(Adam, self).__init__(name, **kwargs)\n",
            "\n"
          ]
        },
        {
          "output_type": "stream",
          "name": "stdout",
          "text": [
            "\n",
            "\n",
            "Tested 236/1500 iterations.\n",
            "Best MAE - Validation Dataset\n",
            "  MAE: 3.1 | sMAPE: 11.63 %\n",
            "\n",
            "Best MAE - Test Dataset\n",
            "  MAE: 4.2 | sMAPE: 20.58 %\n",
            " 16%|█▌        | 236/1500 [2:45:13<11:53:55, 33.89s/it, best loss: 3.0607783264658908]"
          ]
        },
        {
          "output_type": "stream",
          "name": "stderr",
          "text": [
            "/usr/local/lib/python3.7/dist-packages/keras/optimizer_v2/adam.py:105: UserWarning: The `lr` argument is deprecated, use `learning_rate` instead.\n",
            "  super(Adam, self).__init__(name, **kwargs)\n",
            "\n"
          ]
        },
        {
          "output_type": "stream",
          "name": "stdout",
          "text": [
            "\n",
            "\n",
            "Tested 237/1500 iterations.\n",
            "Best MAE - Validation Dataset\n",
            "  MAE: 3.1 | sMAPE: 11.63 %\n",
            "\n",
            "Best MAE - Test Dataset\n",
            "  MAE: 4.2 | sMAPE: 20.58 %\n",
            " 16%|█▌        | 237/1500 [2:46:02<13:30:18, 38.49s/it, best loss: 3.0607783264658908]"
          ]
        },
        {
          "output_type": "stream",
          "name": "stderr",
          "text": [
            "/usr/local/lib/python3.7/dist-packages/keras/optimizer_v2/adam.py:105: UserWarning: The `lr` argument is deprecated, use `learning_rate` instead.\n",
            "  super(Adam, self).__init__(name, **kwargs)\n",
            "\n"
          ]
        },
        {
          "output_type": "stream",
          "name": "stdout",
          "text": [
            "\n",
            "\n",
            "Tested 238/1500 iterations.\n",
            "Best MAE - Validation Dataset\n",
            "  MAE: 3.1 | sMAPE: 11.63 %\n",
            "\n",
            "Best MAE - Test Dataset\n",
            "  MAE: 4.2 | sMAPE: 20.58 %\n",
            " 16%|█▌        | 238/1500 [2:46:43<13:46:42, 39.30s/it, best loss: 3.0607783264658908]"
          ]
        },
        {
          "output_type": "stream",
          "name": "stderr",
          "text": [
            "/usr/local/lib/python3.7/dist-packages/keras/optimizer_v2/adam.py:105: UserWarning: The `lr` argument is deprecated, use `learning_rate` instead.\n",
            "  super(Adam, self).__init__(name, **kwargs)\n",
            "\n"
          ]
        },
        {
          "output_type": "stream",
          "name": "stdout",
          "text": [
            "\n",
            "\n",
            "Tested 239/1500 iterations.\n",
            "Best MAE - Validation Dataset\n",
            "  MAE: 3.1 | sMAPE: 11.63 %\n",
            "\n",
            "Best MAE - Test Dataset\n",
            "  MAE: 4.2 | sMAPE: 20.58 %\n",
            " 16%|█▌        | 239/1500 [2:47:17<13:13:04, 37.74s/it, best loss: 3.0607783264658908]"
          ]
        },
        {
          "output_type": "stream",
          "name": "stderr",
          "text": [
            "/usr/local/lib/python3.7/dist-packages/keras/optimizer_v2/adam.py:105: UserWarning: The `lr` argument is deprecated, use `learning_rate` instead.\n",
            "  super(Adam, self).__init__(name, **kwargs)\n",
            "\n"
          ]
        },
        {
          "output_type": "stream",
          "name": "stdout",
          "text": [
            "\n",
            "\n",
            "Tested 240/1500 iterations.\n",
            "Best MAE - Validation Dataset\n",
            "  MAE: 3.1 | sMAPE: 11.63 %\n",
            "\n",
            "Best MAE - Test Dataset\n",
            "  MAE: 4.2 | sMAPE: 20.58 %\n",
            " 16%|█▌        | 240/1500 [2:47:58<13:33:26, 38.74s/it, best loss: 3.0607783264658908]"
          ]
        },
        {
          "output_type": "stream",
          "name": "stderr",
          "text": [
            "/usr/local/lib/python3.7/dist-packages/keras/optimizer_v2/adam.py:105: UserWarning: The `lr` argument is deprecated, use `learning_rate` instead.\n",
            "  super(Adam, self).__init__(name, **kwargs)\n",
            "\n"
          ]
        },
        {
          "output_type": "stream",
          "name": "stdout",
          "text": [
            "\n",
            "\n",
            "Tested 241/1500 iterations.\n",
            "Best MAE - Validation Dataset\n",
            "  MAE: 3.1 | sMAPE: 11.63 %\n",
            "\n",
            "Best MAE - Test Dataset\n",
            "  MAE: 4.2 | sMAPE: 20.58 %\n",
            " 16%|█▌        | 241/1500 [2:48:50<14:55:15, 42.67s/it, best loss: 3.0607783264658908]"
          ]
        },
        {
          "output_type": "stream",
          "name": "stderr",
          "text": [
            "/usr/local/lib/python3.7/dist-packages/keras/optimizer_v2/adam.py:105: UserWarning: The `lr` argument is deprecated, use `learning_rate` instead.\n",
            "  super(Adam, self).__init__(name, **kwargs)\n",
            "\n"
          ]
        },
        {
          "output_type": "stream",
          "name": "stdout",
          "text": [
            "\n",
            "\n",
            "Tested 242/1500 iterations.\n",
            "Best MAE - Validation Dataset\n",
            "  MAE: 3.1 | sMAPE: 11.63 %\n",
            "\n",
            "Best MAE - Test Dataset\n",
            "  MAE: 4.2 | sMAPE: 20.58 %\n",
            " 16%|█▌        | 242/1500 [2:49:01<11:37:44, 33.28s/it, best loss: 3.0607783264658908]"
          ]
        },
        {
          "output_type": "stream",
          "name": "stderr",
          "text": [
            "/usr/local/lib/python3.7/dist-packages/keras/optimizer_v2/adam.py:105: UserWarning: The `lr` argument is deprecated, use `learning_rate` instead.\n",
            "  super(Adam, self).__init__(name, **kwargs)\n",
            "\n"
          ]
        },
        {
          "output_type": "stream",
          "name": "stdout",
          "text": [
            "\n",
            "\n",
            "Tested 243/1500 iterations.\n",
            "Best MAE - Validation Dataset\n",
            "  MAE: 3.1 | sMAPE: 11.63 %\n",
            "\n",
            "Best MAE - Test Dataset\n",
            "  MAE: 4.2 | sMAPE: 20.58 %\n",
            " 16%|█▌        | 243/1500 [2:49:29<11:04:17, 31.71s/it, best loss: 3.0607783264658908]"
          ]
        },
        {
          "output_type": "stream",
          "name": "stderr",
          "text": [
            "/usr/local/lib/python3.7/dist-packages/keras/optimizer_v2/adam.py:105: UserWarning: The `lr` argument is deprecated, use `learning_rate` instead.\n",
            "  super(Adam, self).__init__(name, **kwargs)\n",
            "\n"
          ]
        },
        {
          "output_type": "stream",
          "name": "stdout",
          "text": [
            "\n",
            "\n",
            "Tested 244/1500 iterations.\n",
            "Best MAE - Validation Dataset\n",
            "  MAE: 3.1 | sMAPE: 11.63 %\n",
            "\n",
            "Best MAE - Test Dataset\n",
            "  MAE: 4.2 | sMAPE: 20.58 %\n",
            " 16%|█▋        | 244/1500 [2:50:05<11:27:20, 32.83s/it, best loss: 3.0607783264658908]"
          ]
        },
        {
          "output_type": "stream",
          "name": "stderr",
          "text": [
            "/usr/local/lib/python3.7/dist-packages/keras/optimizer_v2/adam.py:105: UserWarning: The `lr` argument is deprecated, use `learning_rate` instead.\n",
            "  super(Adam, self).__init__(name, **kwargs)\n",
            "\n"
          ]
        },
        {
          "output_type": "stream",
          "name": "stdout",
          "text": [
            "\n",
            "\n",
            "Tested 245/1500 iterations.\n",
            "Best MAE - Validation Dataset\n",
            "  MAE: 3.1 | sMAPE: 11.63 %\n",
            "\n",
            "Best MAE - Test Dataset\n",
            "  MAE: 4.2 | sMAPE: 20.58 %\n",
            " 16%|█▋        | 245/1500 [2:50:45<12:11:04, 34.95s/it, best loss: 3.0607783264658908]"
          ]
        },
        {
          "output_type": "stream",
          "name": "stderr",
          "text": [
            "/usr/local/lib/python3.7/dist-packages/keras/optimizer_v2/adam.py:105: UserWarning: The `lr` argument is deprecated, use `learning_rate` instead.\n",
            "  super(Adam, self).__init__(name, **kwargs)\n",
            "\n"
          ]
        },
        {
          "output_type": "stream",
          "name": "stdout",
          "text": [
            "\n",
            "\n",
            "Tested 246/1500 iterations.\n",
            "Best MAE - Validation Dataset\n",
            "  MAE: 3.1 | sMAPE: 11.63 %\n",
            "\n",
            "Best MAE - Test Dataset\n",
            "  MAE: 4.2 | sMAPE: 20.58 %\n",
            " 16%|█▋        | 246/1500 [2:51:04<10:28:31, 30.07s/it, best loss: 3.0607783264658908]"
          ]
        },
        {
          "output_type": "stream",
          "name": "stderr",
          "text": [
            "/usr/local/lib/python3.7/dist-packages/keras/optimizer_v2/adam.py:105: UserWarning: The `lr` argument is deprecated, use `learning_rate` instead.\n",
            "  super(Adam, self).__init__(name, **kwargs)\n",
            "\n"
          ]
        },
        {
          "output_type": "stream",
          "name": "stdout",
          "text": [
            "\n",
            "\n",
            "Tested 247/1500 iterations.\n",
            "Best MAE - Validation Dataset\n",
            "  MAE: 3.1 | sMAPE: 11.63 %\n",
            "\n",
            "Best MAE - Test Dataset\n",
            "  MAE: 4.2 | sMAPE: 20.58 %\n",
            " 16%|█▋        | 247/1500 [2:52:06<13:48:07, 39.66s/it, best loss: 3.0607783264658908]"
          ]
        },
        {
          "output_type": "stream",
          "name": "stderr",
          "text": [
            "/usr/local/lib/python3.7/dist-packages/keras/optimizer_v2/adam.py:105: UserWarning: The `lr` argument is deprecated, use `learning_rate` instead.\n",
            "  super(Adam, self).__init__(name, **kwargs)\n",
            "\n"
          ]
        },
        {
          "output_type": "stream",
          "name": "stdout",
          "text": [
            "\n",
            "\n",
            "Tested 248/1500 iterations.\n",
            "Best MAE - Validation Dataset\n",
            "  MAE: 3.1 | sMAPE: 11.63 %\n",
            "\n",
            "Best MAE - Test Dataset\n",
            "  MAE: 4.2 | sMAPE: 20.58 %\n",
            " 17%|█▋        | 248/1500 [2:52:36<12:52:13, 37.01s/it, best loss: 3.0607783264658908]"
          ]
        },
        {
          "output_type": "stream",
          "name": "stderr",
          "text": [
            "/usr/local/lib/python3.7/dist-packages/keras/optimizer_v2/adam.py:105: UserWarning: The `lr` argument is deprecated, use `learning_rate` instead.\n",
            "  super(Adam, self).__init__(name, **kwargs)\n",
            "\n"
          ]
        },
        {
          "output_type": "stream",
          "name": "stdout",
          "text": [
            "\n",
            "\n",
            "Tested 249/1500 iterations.\n",
            "Best MAE - Validation Dataset\n",
            "  MAE: 3.1 | sMAPE: 11.63 %\n",
            "\n",
            "Best MAE - Test Dataset\n",
            "  MAE: 4.2 | sMAPE: 20.58 %\n",
            " 17%|█▋        | 249/1500 [2:53:38<15:26:52, 44.45s/it, best loss: 3.0607783264658908]"
          ]
        },
        {
          "output_type": "stream",
          "name": "stderr",
          "text": [
            "/usr/local/lib/python3.7/dist-packages/keras/optimizer_v2/adam.py:105: UserWarning: The `lr` argument is deprecated, use `learning_rate` instead.\n",
            "  super(Adam, self).__init__(name, **kwargs)\n",
            "\n"
          ]
        },
        {
          "output_type": "stream",
          "name": "stdout",
          "text": [
            "\n",
            "\n",
            "Tested 250/1500 iterations.\n",
            "Best MAE - Validation Dataset\n",
            "  MAE: 3.1 | sMAPE: 11.63 %\n",
            "\n",
            "Best MAE - Test Dataset\n",
            "  MAE: 4.2 | sMAPE: 20.58 %\n",
            " 17%|█▋        | 250/1500 [2:53:53<12:23:26, 35.68s/it, best loss: 3.0607783264658908]"
          ]
        },
        {
          "output_type": "stream",
          "name": "stderr",
          "text": [
            "/usr/local/lib/python3.7/dist-packages/keras/optimizer_v2/adam.py:105: UserWarning: The `lr` argument is deprecated, use `learning_rate` instead.\n",
            "  super(Adam, self).__init__(name, **kwargs)\n",
            "\n"
          ]
        },
        {
          "output_type": "stream",
          "name": "stdout",
          "text": [
            "\n",
            "\n",
            "Tested 251/1500 iterations.\n",
            "Best MAE - Validation Dataset\n",
            "  MAE: 3.1 | sMAPE: 11.63 %\n",
            "\n",
            "Best MAE - Test Dataset\n",
            "  MAE: 4.2 | sMAPE: 20.58 %\n",
            " 17%|█▋        | 251/1500 [2:54:08<10:08:21, 29.22s/it, best loss: 3.0607783264658908]"
          ]
        },
        {
          "output_type": "stream",
          "name": "stderr",
          "text": [
            "/usr/local/lib/python3.7/dist-packages/keras/optimizer_v2/adam.py:105: UserWarning: The `lr` argument is deprecated, use `learning_rate` instead.\n",
            "  super(Adam, self).__init__(name, **kwargs)\n",
            "\n"
          ]
        },
        {
          "output_type": "stream",
          "name": "stdout",
          "text": [
            "\n",
            "\n",
            "Tested 252/1500 iterations.\n",
            "Best MAE - Validation Dataset\n",
            "  MAE: 3.1 | sMAPE: 11.63 %\n",
            "\n",
            "Best MAE - Test Dataset\n",
            "  MAE: 4.2 | sMAPE: 20.58 %\n",
            " 17%|█▋        | 252/1500 [2:54:48<11:19:44, 32.68s/it, best loss: 3.0607783264658908]"
          ]
        },
        {
          "output_type": "stream",
          "name": "stderr",
          "text": [
            "/usr/local/lib/python3.7/dist-packages/keras/optimizer_v2/adam.py:105: UserWarning: The `lr` argument is deprecated, use `learning_rate` instead.\n",
            "  super(Adam, self).__init__(name, **kwargs)\n",
            "\n"
          ]
        },
        {
          "output_type": "stream",
          "name": "stdout",
          "text": [
            "\n",
            "\n",
            "Tested 253/1500 iterations.\n",
            "Best MAE - Validation Dataset\n",
            "  MAE: 3.1 | sMAPE: 11.63 %\n",
            "\n",
            "Best MAE - Test Dataset\n",
            "  MAE: 4.2 | sMAPE: 20.58 %\n",
            " 17%|█▋        | 253/1500 [2:55:31<12:20:50, 35.65s/it, best loss: 3.0607783264658908]"
          ]
        },
        {
          "output_type": "stream",
          "name": "stderr",
          "text": [
            "/usr/local/lib/python3.7/dist-packages/keras/optimizer_v2/adam.py:105: UserWarning: The `lr` argument is deprecated, use `learning_rate` instead.\n",
            "  super(Adam, self).__init__(name, **kwargs)\n",
            "\n"
          ]
        },
        {
          "output_type": "stream",
          "name": "stdout",
          "text": [
            "\n",
            "\n",
            "Tested 254/1500 iterations.\n",
            "Best MAE - Validation Dataset\n",
            "  MAE: 3.1 | sMAPE: 11.63 %\n",
            "\n",
            "Best MAE - Test Dataset\n",
            "  MAE: 4.2 | sMAPE: 20.58 %\n",
            " 17%|█▋        | 254/1500 [2:56:44<16:16:06, 47.00s/it, best loss: 3.0607783264658908]"
          ]
        },
        {
          "output_type": "stream",
          "name": "stderr",
          "text": [
            "/usr/local/lib/python3.7/dist-packages/keras/optimizer_v2/adam.py:105: UserWarning: The `lr` argument is deprecated, use `learning_rate` instead.\n",
            "  super(Adam, self).__init__(name, **kwargs)\n",
            "\n"
          ]
        },
        {
          "output_type": "stream",
          "name": "stdout",
          "text": [
            "\n",
            "\n",
            "Tested 255/1500 iterations.\n",
            "Best MAE - Validation Dataset\n",
            "  MAE: 3.1 | sMAPE: 11.63 %\n",
            "\n",
            "Best MAE - Test Dataset\n",
            "  MAE: 4.2 | sMAPE: 20.58 %\n",
            " 17%|█▋        | 255/1500 [2:57:02<13:10:23, 38.09s/it, best loss: 3.0607783264658908]"
          ]
        },
        {
          "output_type": "stream",
          "name": "stderr",
          "text": [
            "/usr/local/lib/python3.7/dist-packages/keras/optimizer_v2/adam.py:105: UserWarning: The `lr` argument is deprecated, use `learning_rate` instead.\n",
            "  super(Adam, self).__init__(name, **kwargs)\n",
            "\n"
          ]
        },
        {
          "output_type": "stream",
          "name": "stdout",
          "text": [
            "\n",
            "\n",
            "Tested 256/1500 iterations.\n",
            "Best MAE - Validation Dataset\n",
            "  MAE: 3.1 | sMAPE: 11.63 %\n",
            "\n",
            "Best MAE - Test Dataset\n",
            "  MAE: 4.2 | sMAPE: 20.58 %\n",
            " 17%|█▋        | 256/1500 [2:57:22<11:18:02, 32.70s/it, best loss: 3.0607783264658908]"
          ]
        },
        {
          "output_type": "stream",
          "name": "stderr",
          "text": [
            "/usr/local/lib/python3.7/dist-packages/keras/optimizer_v2/adam.py:105: UserWarning: The `lr` argument is deprecated, use `learning_rate` instead.\n",
            "  super(Adam, self).__init__(name, **kwargs)\n",
            "\n"
          ]
        },
        {
          "output_type": "stream",
          "name": "stdout",
          "text": [
            "\n",
            "\n",
            "Tested 257/1500 iterations.\n",
            "Best MAE - Validation Dataset\n",
            "  MAE: 3.1 | sMAPE: 11.63 %\n",
            "\n",
            "Best MAE - Test Dataset\n",
            "  MAE: 4.2 | sMAPE: 20.58 %\n",
            " 17%|█▋        | 257/1500 [2:57:57<11:33:57, 33.50s/it, best loss: 3.0607783264658908]"
          ]
        },
        {
          "output_type": "stream",
          "name": "stderr",
          "text": [
            "/usr/local/lib/python3.7/dist-packages/keras/optimizer_v2/adam.py:105: UserWarning: The `lr` argument is deprecated, use `learning_rate` instead.\n",
            "  super(Adam, self).__init__(name, **kwargs)\n",
            "\n"
          ]
        },
        {
          "output_type": "stream",
          "name": "stdout",
          "text": [
            "\n",
            "\n",
            "Tested 258/1500 iterations.\n",
            "Best MAE - Validation Dataset\n",
            "  MAE: 3.1 | sMAPE: 11.63 %\n",
            "\n",
            "Best MAE - Test Dataset\n",
            "  MAE: 4.2 | sMAPE: 20.58 %\n",
            " 17%|█▋        | 258/1500 [2:58:29<11:20:27, 32.87s/it, best loss: 3.0607783264658908]"
          ]
        },
        {
          "output_type": "stream",
          "name": "stderr",
          "text": [
            "/usr/local/lib/python3.7/dist-packages/keras/optimizer_v2/adam.py:105: UserWarning: The `lr` argument is deprecated, use `learning_rate` instead.\n",
            "  super(Adam, self).__init__(name, **kwargs)\n",
            "\n"
          ]
        },
        {
          "output_type": "stream",
          "name": "stdout",
          "text": [
            "\n",
            "\n",
            "Tested 259/1500 iterations.\n",
            "Best MAE - Validation Dataset\n",
            "  MAE: 3.1 | sMAPE: 11.63 %\n",
            "\n",
            "Best MAE - Test Dataset\n",
            "  MAE: 4.2 | sMAPE: 20.58 %\n",
            " 17%|█▋        | 259/1500 [2:58:59<11:07:46, 32.29s/it, best loss: 3.0607783264658908]"
          ]
        },
        {
          "output_type": "stream",
          "name": "stderr",
          "text": [
            "/usr/local/lib/python3.7/dist-packages/keras/optimizer_v2/adam.py:105: UserWarning: The `lr` argument is deprecated, use `learning_rate` instead.\n",
            "  super(Adam, self).__init__(name, **kwargs)\n",
            "\n"
          ]
        },
        {
          "output_type": "stream",
          "name": "stdout",
          "text": [
            "\n",
            "\n",
            "Tested 260/1500 iterations.\n",
            "Best MAE - Validation Dataset\n",
            "  MAE: 3.1 | sMAPE: 11.63 %\n",
            "\n",
            "Best MAE - Test Dataset\n",
            "  MAE: 4.2 | sMAPE: 20.58 %\n",
            " 17%|█▋        | 260/1500 [2:59:17<9:36:29, 27.89s/it, best loss: 3.0607783264658908]"
          ]
        },
        {
          "output_type": "stream",
          "name": "stderr",
          "text": [
            "/usr/local/lib/python3.7/dist-packages/keras/optimizer_v2/adam.py:105: UserWarning: The `lr` argument is deprecated, use `learning_rate` instead.\n",
            "  super(Adam, self).__init__(name, **kwargs)\n",
            "\n"
          ]
        },
        {
          "output_type": "stream",
          "name": "stdout",
          "text": [
            "\n",
            "\n",
            "Tested 261/1500 iterations.\n",
            "Best MAE - Validation Dataset\n",
            "  MAE: 3.1 | sMAPE: 11.63 %\n",
            "\n",
            "Best MAE - Test Dataset\n",
            "  MAE: 4.2 | sMAPE: 20.58 %\n",
            " 17%|█▋        | 261/1500 [2:59:54<10:30:05, 30.51s/it, best loss: 3.0607783264658908]"
          ]
        },
        {
          "output_type": "stream",
          "name": "stderr",
          "text": [
            "/usr/local/lib/python3.7/dist-packages/keras/optimizer_v2/adam.py:105: UserWarning: The `lr` argument is deprecated, use `learning_rate` instead.\n",
            "  super(Adam, self).__init__(name, **kwargs)\n",
            "\n"
          ]
        },
        {
          "output_type": "stream",
          "name": "stdout",
          "text": [
            "\n",
            "\n",
            "Tested 262/1500 iterations.\n",
            "Best MAE - Validation Dataset\n",
            "  MAE: 3.1 | sMAPE: 11.63 %\n",
            "\n",
            "Best MAE - Test Dataset\n",
            "  MAE: 4.2 | sMAPE: 20.58 %\n",
            " 17%|█▋        | 262/1500 [3:00:56<13:46:36, 40.06s/it, best loss: 3.0607783264658908]"
          ]
        },
        {
          "output_type": "stream",
          "name": "stderr",
          "text": [
            "/usr/local/lib/python3.7/dist-packages/keras/optimizer_v2/adam.py:105: UserWarning: The `lr` argument is deprecated, use `learning_rate` instead.\n",
            "  super(Adam, self).__init__(name, **kwargs)\n",
            "\n"
          ]
        },
        {
          "output_type": "stream",
          "name": "stdout",
          "text": [
            "\n",
            "\n",
            "Tested 263/1500 iterations.\n",
            "Best MAE - Validation Dataset\n",
            "  MAE: 3.1 | sMAPE: 11.63 %\n",
            "\n",
            "Best MAE - Test Dataset\n",
            "  MAE: 4.2 | sMAPE: 20.58 %\n",
            " 18%|█▊        | 263/1500 [3:01:26<12:40:58, 36.91s/it, best loss: 3.0607783264658908]"
          ]
        },
        {
          "output_type": "stream",
          "name": "stderr",
          "text": [
            "/usr/local/lib/python3.7/dist-packages/keras/optimizer_v2/adam.py:105: UserWarning: The `lr` argument is deprecated, use `learning_rate` instead.\n",
            "  super(Adam, self).__init__(name, **kwargs)\n",
            "\n"
          ]
        },
        {
          "output_type": "stream",
          "name": "stdout",
          "text": [
            "\n",
            "\n",
            "Tested 264/1500 iterations.\n",
            "Best MAE - Validation Dataset\n",
            "  MAE: 3.1 | sMAPE: 11.63 %\n",
            "\n",
            "Best MAE - Test Dataset\n",
            "  MAE: 4.2 | sMAPE: 20.58 %\n",
            " 18%|█▊        | 264/1500 [3:01:51<11:30:19, 33.51s/it, best loss: 3.0607783264658908]"
          ]
        },
        {
          "output_type": "stream",
          "name": "stderr",
          "text": [
            "/usr/local/lib/python3.7/dist-packages/keras/optimizer_v2/adam.py:105: UserWarning: The `lr` argument is deprecated, use `learning_rate` instead.\n",
            "  super(Adam, self).__init__(name, **kwargs)\n",
            "\n"
          ]
        },
        {
          "output_type": "stream",
          "name": "stdout",
          "text": [
            "\n",
            "\n",
            "Tested 265/1500 iterations.\n",
            "Best MAE - Validation Dataset\n",
            "  MAE: 3.1 | sMAPE: 11.63 %\n",
            "\n",
            "Best MAE - Test Dataset\n",
            "  MAE: 4.2 | sMAPE: 20.58 %\n",
            " 18%|█▊        | 265/1500 [3:02:28<11:47:13, 34.36s/it, best loss: 3.0607783264658908]"
          ]
        },
        {
          "output_type": "stream",
          "name": "stderr",
          "text": [
            "/usr/local/lib/python3.7/dist-packages/keras/optimizer_v2/adam.py:105: UserWarning: The `lr` argument is deprecated, use `learning_rate` instead.\n",
            "  super(Adam, self).__init__(name, **kwargs)\n",
            "\n"
          ]
        },
        {
          "output_type": "stream",
          "name": "stdout",
          "text": [
            "\n",
            "\n",
            "Tested 266/1500 iterations.\n",
            "Best MAE - Validation Dataset\n",
            "  MAE: 3.1 | sMAPE: 11.63 %\n",
            "\n",
            "Best MAE - Test Dataset\n",
            "  MAE: 4.2 | sMAPE: 20.58 %\n",
            " 18%|█▊        | 266/1500 [3:03:07<12:15:56, 35.78s/it, best loss: 3.0607783264658908]"
          ]
        },
        {
          "output_type": "stream",
          "name": "stderr",
          "text": [
            "/usr/local/lib/python3.7/dist-packages/keras/optimizer_v2/adam.py:105: UserWarning: The `lr` argument is deprecated, use `learning_rate` instead.\n",
            "  super(Adam, self).__init__(name, **kwargs)\n",
            "\n"
          ]
        },
        {
          "output_type": "stream",
          "name": "stdout",
          "text": [
            "\n",
            "\n",
            "Tested 267/1500 iterations.\n",
            "Best MAE - Validation Dataset\n",
            "  MAE: 3.1 | sMAPE: 11.63 %\n",
            "\n",
            "Best MAE - Test Dataset\n",
            "  MAE: 4.2 | sMAPE: 20.58 %\n",
            " 18%|█▊        | 267/1500 [3:03:57<13:43:50, 40.09s/it, best loss: 3.0607783264658908]"
          ]
        },
        {
          "output_type": "stream",
          "name": "stderr",
          "text": [
            "/usr/local/lib/python3.7/dist-packages/keras/optimizer_v2/adam.py:105: UserWarning: The `lr` argument is deprecated, use `learning_rate` instead.\n",
            "  super(Adam, self).__init__(name, **kwargs)\n",
            "\n"
          ]
        },
        {
          "output_type": "stream",
          "name": "stdout",
          "text": [
            "\n",
            "\n",
            "Tested 268/1500 iterations.\n",
            "Best MAE - Validation Dataset\n",
            "  MAE: 3.1 | sMAPE: 11.63 %\n",
            "\n",
            "Best MAE - Test Dataset\n",
            "  MAE: 4.2 | sMAPE: 20.58 %\n",
            " 18%|█▊        | 268/1500 [3:04:37<13:43:45, 40.12s/it, best loss: 3.0607783264658908]"
          ]
        },
        {
          "output_type": "stream",
          "name": "stderr",
          "text": [
            "/usr/local/lib/python3.7/dist-packages/keras/optimizer_v2/adam.py:105: UserWarning: The `lr` argument is deprecated, use `learning_rate` instead.\n",
            "  super(Adam, self).__init__(name, **kwargs)\n",
            "\n"
          ]
        },
        {
          "output_type": "stream",
          "name": "stdout",
          "text": [
            "\n",
            "\n",
            "Tested 269/1500 iterations.\n",
            "Best MAE - Validation Dataset\n",
            "  MAE: 3.1 | sMAPE: 11.63 %\n",
            "\n",
            "Best MAE - Test Dataset\n",
            "  MAE: 4.2 | sMAPE: 20.58 %\n",
            " 18%|█▊        | 269/1500 [3:05:06<12:33:41, 36.74s/it, best loss: 3.0607783264658908]"
          ]
        },
        {
          "output_type": "stream",
          "name": "stderr",
          "text": [
            "/usr/local/lib/python3.7/dist-packages/keras/optimizer_v2/adam.py:105: UserWarning: The `lr` argument is deprecated, use `learning_rate` instead.\n",
            "  super(Adam, self).__init__(name, **kwargs)\n",
            "\n"
          ]
        },
        {
          "output_type": "stream",
          "name": "stdout",
          "text": [
            "\n",
            "\n",
            "Tested 270/1500 iterations.\n",
            "Best MAE - Validation Dataset\n",
            "  MAE: 3.1 | sMAPE: 11.63 %\n",
            "\n",
            "Best MAE - Test Dataset\n",
            "  MAE: 4.2 | sMAPE: 20.58 %\n",
            " 18%|█▊        | 270/1500 [3:05:47<13:03:04, 38.20s/it, best loss: 3.0607783264658908]"
          ]
        },
        {
          "output_type": "stream",
          "name": "stderr",
          "text": [
            "/usr/local/lib/python3.7/dist-packages/keras/optimizer_v2/adam.py:105: UserWarning: The `lr` argument is deprecated, use `learning_rate` instead.\n",
            "  super(Adam, self).__init__(name, **kwargs)\n",
            "\n"
          ]
        },
        {
          "output_type": "stream",
          "name": "stdout",
          "text": [
            "\n",
            "\n",
            "Tested 271/1500 iterations.\n",
            "Best MAE - Validation Dataset\n",
            "  MAE: 3.1 | sMAPE: 11.63 %\n",
            "\n",
            "Best MAE - Test Dataset\n",
            "  MAE: 4.2 | sMAPE: 20.58 %\n",
            " 18%|█▊        | 271/1500 [3:06:19<12:23:33, 36.30s/it, best loss: 3.0607783264658908]"
          ]
        },
        {
          "output_type": "stream",
          "name": "stderr",
          "text": [
            "/usr/local/lib/python3.7/dist-packages/keras/optimizer_v2/adam.py:105: UserWarning: The `lr` argument is deprecated, use `learning_rate` instead.\n",
            "  super(Adam, self).__init__(name, **kwargs)\n",
            "\n"
          ]
        },
        {
          "output_type": "stream",
          "name": "stdout",
          "text": [
            "\n",
            "\n",
            "Tested 272/1500 iterations.\n",
            "Best MAE - Validation Dataset\n",
            "  MAE: 3.1 | sMAPE: 11.63 %\n",
            "\n",
            "Best MAE - Test Dataset\n",
            "  MAE: 4.2 | sMAPE: 20.58 %\n",
            " 18%|█▊        | 272/1500 [3:06:59<12:44:33, 37.36s/it, best loss: 3.0607783264658908]"
          ]
        },
        {
          "output_type": "stream",
          "name": "stderr",
          "text": [
            "/usr/local/lib/python3.7/dist-packages/keras/optimizer_v2/adam.py:105: UserWarning: The `lr` argument is deprecated, use `learning_rate` instead.\n",
            "  super(Adam, self).__init__(name, **kwargs)\n",
            "\n"
          ]
        },
        {
          "output_type": "stream",
          "name": "stdout",
          "text": [
            "\n",
            "\n",
            "Tested 273/1500 iterations.\n",
            "Best MAE - Validation Dataset\n",
            "  MAE: 3.1 | sMAPE: 11.63 %\n",
            "\n",
            "Best MAE - Test Dataset\n",
            "  MAE: 4.2 | sMAPE: 20.58 %\n",
            " 18%|█▊        | 273/1500 [3:08:22<17:23:48, 51.04s/it, best loss: 3.0607783264658908]"
          ]
        },
        {
          "output_type": "stream",
          "name": "stderr",
          "text": [
            "/usr/local/lib/python3.7/dist-packages/keras/optimizer_v2/adam.py:105: UserWarning: The `lr` argument is deprecated, use `learning_rate` instead.\n",
            "  super(Adam, self).__init__(name, **kwargs)\n",
            "\n"
          ]
        },
        {
          "output_type": "stream",
          "name": "stdout",
          "text": [
            "\n",
            "\n",
            "Tested 274/1500 iterations.\n",
            "Best MAE - Validation Dataset\n",
            "  MAE: 3.1 | sMAPE: 11.63 %\n",
            "\n",
            "Best MAE - Test Dataset\n",
            "  MAE: 4.2 | sMAPE: 20.58 %\n",
            " 18%|█▊        | 274/1500 [3:09:17<17:44:29, 52.10s/it, best loss: 3.0607783264658908]"
          ]
        },
        {
          "output_type": "stream",
          "name": "stderr",
          "text": [
            "/usr/local/lib/python3.7/dist-packages/keras/optimizer_v2/adam.py:105: UserWarning: The `lr` argument is deprecated, use `learning_rate` instead.\n",
            "  super(Adam, self).__init__(name, **kwargs)\n",
            "\n"
          ]
        },
        {
          "output_type": "stream",
          "name": "stdout",
          "text": [
            "\n",
            "\n",
            "Tested 275/1500 iterations.\n",
            "Best MAE - Validation Dataset\n",
            "  MAE: 3.1 | sMAPE: 11.63 %\n",
            "\n",
            "Best MAE - Test Dataset\n",
            "  MAE: 4.2 | sMAPE: 20.58 %\n",
            " 18%|█▊        | 275/1500 [3:09:44<15:12:15, 44.68s/it, best loss: 3.0607783264658908]"
          ]
        },
        {
          "output_type": "stream",
          "name": "stderr",
          "text": [
            "/usr/local/lib/python3.7/dist-packages/keras/optimizer_v2/adam.py:105: UserWarning: The `lr` argument is deprecated, use `learning_rate` instead.\n",
            "  super(Adam, self).__init__(name, **kwargs)\n",
            "\n"
          ]
        },
        {
          "output_type": "stream",
          "name": "stdout",
          "text": [
            "\n",
            "\n",
            "Tested 276/1500 iterations.\n",
            "Best MAE - Validation Dataset\n",
            "  MAE: 3.1 | sMAPE: 11.63 %\n",
            "\n",
            "Best MAE - Test Dataset\n",
            "  MAE: 4.2 | sMAPE: 20.58 %\n",
            " 18%|█▊        | 276/1500 [3:09:52<11:24:32, 33.56s/it, best loss: 3.0607783264658908]"
          ]
        },
        {
          "output_type": "stream",
          "name": "stderr",
          "text": [
            "/usr/local/lib/python3.7/dist-packages/keras/optimizer_v2/adam.py:105: UserWarning: The `lr` argument is deprecated, use `learning_rate` instead.\n",
            "  super(Adam, self).__init__(name, **kwargs)\n",
            "\n"
          ]
        },
        {
          "output_type": "stream",
          "name": "stdout",
          "text": [
            "\n",
            "\n",
            "Tested 277/1500 iterations.\n",
            "Best MAE - Validation Dataset\n",
            "  MAE: 3.1 | sMAPE: 11.63 %\n",
            "\n",
            "Best MAE - Test Dataset\n",
            "  MAE: 4.2 | sMAPE: 20.58 %\n",
            " 18%|█▊        | 277/1500 [3:10:24<11:18:27, 33.29s/it, best loss: 3.0607783264658908]"
          ]
        },
        {
          "output_type": "stream",
          "name": "stderr",
          "text": [
            "/usr/local/lib/python3.7/dist-packages/keras/optimizer_v2/adam.py:105: UserWarning: The `lr` argument is deprecated, use `learning_rate` instead.\n",
            "  super(Adam, self).__init__(name, **kwargs)\n",
            "\n"
          ]
        },
        {
          "output_type": "stream",
          "name": "stdout",
          "text": [
            "\n",
            "\n",
            "Tested 278/1500 iterations.\n",
            "Best MAE - Validation Dataset\n",
            "  MAE: 3.1 | sMAPE: 11.63 %\n",
            "\n",
            "Best MAE - Test Dataset\n",
            "  MAE: 4.2 | sMAPE: 20.58 %\n",
            " 19%|█▊        | 278/1500 [3:11:17<13:18:01, 39.18s/it, best loss: 3.0607783264658908]"
          ]
        },
        {
          "output_type": "stream",
          "name": "stderr",
          "text": [
            "/usr/local/lib/python3.7/dist-packages/keras/optimizer_v2/adam.py:105: UserWarning: The `lr` argument is deprecated, use `learning_rate` instead.\n",
            "  super(Adam, self).__init__(name, **kwargs)\n",
            "\n"
          ]
        },
        {
          "output_type": "stream",
          "name": "stdout",
          "text": [
            "\n",
            "\n",
            "Tested 279/1500 iterations.\n",
            "Best MAE - Validation Dataset\n",
            "  MAE: 3.1 | sMAPE: 11.63 %\n",
            "\n",
            "Best MAE - Test Dataset\n",
            "  MAE: 4.2 | sMAPE: 20.58 %\n",
            " 19%|█▊        | 279/1500 [3:12:10<14:41:17, 43.31s/it, best loss: 3.0607783264658908]"
          ]
        },
        {
          "output_type": "stream",
          "name": "stderr",
          "text": [
            "/usr/local/lib/python3.7/dist-packages/keras/optimizer_v2/adam.py:105: UserWarning: The `lr` argument is deprecated, use `learning_rate` instead.\n",
            "  super(Adam, self).__init__(name, **kwargs)\n",
            "\n"
          ]
        },
        {
          "output_type": "stream",
          "name": "stdout",
          "text": [
            "\n",
            "\n",
            "Tested 280/1500 iterations.\n",
            "Best MAE - Validation Dataset\n",
            "  MAE: 3.1 | sMAPE: 11.63 %\n",
            "\n",
            "Best MAE - Test Dataset\n",
            "  MAE: 4.2 | sMAPE: 20.58 %\n",
            " 19%|█▊        | 280/1500 [3:12:50<14:21:54, 42.39s/it, best loss: 3.0607783264658908]"
          ]
        },
        {
          "output_type": "stream",
          "name": "stderr",
          "text": [
            "/usr/local/lib/python3.7/dist-packages/keras/optimizer_v2/adam.py:105: UserWarning: The `lr` argument is deprecated, use `learning_rate` instead.\n",
            "  super(Adam, self).__init__(name, **kwargs)\n",
            "\n"
          ]
        },
        {
          "output_type": "stream",
          "name": "stdout",
          "text": [
            "\n",
            "\n",
            "Tested 281/1500 iterations.\n",
            "Best MAE - Validation Dataset\n",
            "  MAE: 3.1 | sMAPE: 11.63 %\n",
            "\n",
            "Best MAE - Test Dataset\n",
            "  MAE: 4.2 | sMAPE: 20.58 %\n",
            " 19%|█▊        | 281/1500 [3:13:49<15:57:55, 47.15s/it, best loss: 3.0607783264658908]"
          ]
        },
        {
          "output_type": "stream",
          "name": "stderr",
          "text": [
            "/usr/local/lib/python3.7/dist-packages/keras/optimizer_v2/adam.py:105: UserWarning: The `lr` argument is deprecated, use `learning_rate` instead.\n",
            "  super(Adam, self).__init__(name, **kwargs)\n",
            "\n"
          ]
        },
        {
          "output_type": "stream",
          "name": "stdout",
          "text": [
            "\n",
            "\n",
            "Tested 282/1500 iterations.\n",
            "Best MAE - Validation Dataset\n",
            "  MAE: 3.1 | sMAPE: 11.63 %\n",
            "\n",
            "Best MAE - Test Dataset\n",
            "  MAE: 4.2 | sMAPE: 20.58 %\n",
            " 19%|█▉        | 282/1500 [3:14:47<17:02:16, 50.36s/it, best loss: 3.0607783264658908]"
          ]
        },
        {
          "output_type": "stream",
          "name": "stderr",
          "text": [
            "/usr/local/lib/python3.7/dist-packages/keras/optimizer_v2/adam.py:105: UserWarning: The `lr` argument is deprecated, use `learning_rate` instead.\n",
            "  super(Adam, self).__init__(name, **kwargs)\n",
            "\n"
          ]
        },
        {
          "output_type": "stream",
          "name": "stdout",
          "text": [
            "\n",
            "\n",
            "Tested 283/1500 iterations.\n",
            "Best MAE - Validation Dataset\n",
            "  MAE: 3.1 | sMAPE: 11.63 %\n",
            "\n",
            "Best MAE - Test Dataset\n",
            "  MAE: 4.2 | sMAPE: 20.58 %\n",
            " 19%|█▉        | 283/1500 [3:14:53<12:35:04, 37.23s/it, best loss: 3.0607783264658908]"
          ]
        },
        {
          "output_type": "stream",
          "name": "stderr",
          "text": [
            "/usr/local/lib/python3.7/dist-packages/keras/optimizer_v2/adam.py:105: UserWarning: The `lr` argument is deprecated, use `learning_rate` instead.\n",
            "  super(Adam, self).__init__(name, **kwargs)\n",
            "\n"
          ]
        },
        {
          "output_type": "stream",
          "name": "stdout",
          "text": [
            "\n",
            "\n",
            "Tested 284/1500 iterations.\n",
            "Best MAE - Validation Dataset\n",
            "  MAE: 3.1 | sMAPE: 11.63 %\n",
            "\n",
            "Best MAE - Test Dataset\n",
            "  MAE: 4.2 | sMAPE: 20.58 %\n",
            " 19%|█▉        | 284/1500 [3:15:23<11:49:50, 35.02s/it, best loss: 3.0607783264658908]"
          ]
        },
        {
          "output_type": "stream",
          "name": "stderr",
          "text": [
            "/usr/local/lib/python3.7/dist-packages/keras/optimizer_v2/adam.py:105: UserWarning: The `lr` argument is deprecated, use `learning_rate` instead.\n",
            "  super(Adam, self).__init__(name, **kwargs)\n",
            "\n"
          ]
        },
        {
          "output_type": "stream",
          "name": "stdout",
          "text": [
            "\n",
            "\n",
            "Tested 285/1500 iterations.\n",
            "Best MAE - Validation Dataset\n",
            "  MAE: 3.1 | sMAPE: 11.63 %\n",
            "\n",
            "Best MAE - Test Dataset\n",
            "  MAE: 4.2 | sMAPE: 20.58 %\n",
            " 19%|█▉        | 285/1500 [3:16:50<17:07:46, 50.75s/it, best loss: 3.0607783264658908]"
          ]
        },
        {
          "output_type": "stream",
          "name": "stderr",
          "text": [
            "/usr/local/lib/python3.7/dist-packages/keras/optimizer_v2/adam.py:105: UserWarning: The `lr` argument is deprecated, use `learning_rate` instead.\n",
            "  super(Adam, self).__init__(name, **kwargs)\n",
            "\n"
          ]
        },
        {
          "output_type": "stream",
          "name": "stdout",
          "text": [
            "\n",
            "\n",
            "Tested 286/1500 iterations.\n",
            "Best MAE - Validation Dataset\n",
            "  MAE: 3.1 | sMAPE: 11.63 %\n",
            "\n",
            "Best MAE - Test Dataset\n",
            "  MAE: 4.2 | sMAPE: 20.58 %\n",
            " 19%|█▉        | 286/1500 [3:17:42<17:13:16, 51.07s/it, best loss: 3.0607783264658908]"
          ]
        },
        {
          "output_type": "stream",
          "name": "stderr",
          "text": [
            "/usr/local/lib/python3.7/dist-packages/keras/optimizer_v2/adam.py:105: UserWarning: The `lr` argument is deprecated, use `learning_rate` instead.\n",
            "  super(Adam, self).__init__(name, **kwargs)\n",
            "\n"
          ]
        },
        {
          "output_type": "stream",
          "name": "stdout",
          "text": [
            "\n",
            "\n",
            "Tested 287/1500 iterations.\n",
            "Best MAE - Validation Dataset\n",
            "  MAE: 3.1 | sMAPE: 11.63 %\n",
            "\n",
            "Best MAE - Test Dataset\n",
            "  MAE: 4.2 | sMAPE: 20.58 %\n",
            " 19%|█▉        | 287/1500 [3:18:30<16:53:22, 50.13s/it, best loss: 3.0607783264658908]"
          ]
        },
        {
          "output_type": "stream",
          "name": "stderr",
          "text": [
            "/usr/local/lib/python3.7/dist-packages/keras/optimizer_v2/adam.py:105: UserWarning: The `lr` argument is deprecated, use `learning_rate` instead.\n",
            "  super(Adam, self).__init__(name, **kwargs)\n",
            "\n"
          ]
        },
        {
          "output_type": "stream",
          "name": "stdout",
          "text": [
            "\n",
            "\n",
            "Tested 288/1500 iterations.\n",
            "Best MAE - Validation Dataset\n",
            "  MAE: 3.1 | sMAPE: 11.63 %\n",
            "\n",
            "Best MAE - Test Dataset\n",
            "  MAE: 4.2 | sMAPE: 20.58 %\n",
            " 19%|█▉        | 288/1500 [3:19:20<16:51:35, 50.08s/it, best loss: 3.0607783264658908]"
          ]
        },
        {
          "output_type": "stream",
          "name": "stderr",
          "text": [
            "/usr/local/lib/python3.7/dist-packages/keras/optimizer_v2/adam.py:105: UserWarning: The `lr` argument is deprecated, use `learning_rate` instead.\n",
            "  super(Adam, self).__init__(name, **kwargs)\n",
            "\n"
          ]
        },
        {
          "output_type": "stream",
          "name": "stdout",
          "text": [
            "\n",
            "\n",
            "Tested 289/1500 iterations.\n",
            "Best MAE - Validation Dataset\n",
            "  MAE: 3.1 | sMAPE: 11.63 %\n",
            "\n",
            "Best MAE - Test Dataset\n",
            "  MAE: 4.2 | sMAPE: 20.58 %\n",
            " 19%|█▉        | 289/1500 [3:19:49<14:43:45, 43.79s/it, best loss: 3.0607783264658908]"
          ]
        },
        {
          "output_type": "stream",
          "name": "stderr",
          "text": [
            "/usr/local/lib/python3.7/dist-packages/keras/optimizer_v2/adam.py:105: UserWarning: The `lr` argument is deprecated, use `learning_rate` instead.\n",
            "  super(Adam, self).__init__(name, **kwargs)\n",
            "\n"
          ]
        },
        {
          "output_type": "stream",
          "name": "stdout",
          "text": [
            "\n",
            "\n",
            "Tested 290/1500 iterations.\n",
            "Best MAE - Validation Dataset\n",
            "  MAE: 3.1 | sMAPE: 11.63 %\n",
            "\n",
            "Best MAE - Test Dataset\n",
            "  MAE: 4.2 | sMAPE: 20.58 %\n",
            " 19%|█▉        | 290/1500 [3:20:35<14:56:03, 44.43s/it, best loss: 3.0607783264658908]"
          ]
        },
        {
          "output_type": "stream",
          "name": "stderr",
          "text": [
            "/usr/local/lib/python3.7/dist-packages/keras/optimizer_v2/adam.py:105: UserWarning: The `lr` argument is deprecated, use `learning_rate` instead.\n",
            "  super(Adam, self).__init__(name, **kwargs)\n",
            "\n"
          ]
        },
        {
          "output_type": "stream",
          "name": "stdout",
          "text": [
            "\n",
            "\n",
            "Tested 291/1500 iterations.\n",
            "Best MAE - Validation Dataset\n",
            "  MAE: 3.1 | sMAPE: 11.63 %\n",
            "\n",
            "Best MAE - Test Dataset\n",
            "  MAE: 4.2 | sMAPE: 20.58 %\n",
            " 19%|█▉        | 291/1500 [3:21:57<18:43:32, 55.76s/it, best loss: 3.0607783264658908]"
          ]
        },
        {
          "output_type": "stream",
          "name": "stderr",
          "text": [
            "/usr/local/lib/python3.7/dist-packages/keras/optimizer_v2/adam.py:105: UserWarning: The `lr` argument is deprecated, use `learning_rate` instead.\n",
            "  super(Adam, self).__init__(name, **kwargs)\n",
            "\n"
          ]
        },
        {
          "output_type": "stream",
          "name": "stdout",
          "text": [
            "\n",
            "\n",
            "Tested 292/1500 iterations.\n",
            "Best MAE - Validation Dataset\n",
            "  MAE: 3.1 | sMAPE: 11.63 %\n",
            "\n",
            "Best MAE - Test Dataset\n",
            "  MAE: 4.2 | sMAPE: 20.58 %\n",
            " 19%|█▉        | 292/1500 [3:23:20<21:25:38, 63.86s/it, best loss: 3.0607783264658908]"
          ]
        },
        {
          "output_type": "stream",
          "name": "stderr",
          "text": [
            "/usr/local/lib/python3.7/dist-packages/keras/optimizer_v2/adam.py:105: UserWarning: The `lr` argument is deprecated, use `learning_rate` instead.\n",
            "  super(Adam, self).__init__(name, **kwargs)\n",
            "\n"
          ]
        },
        {
          "output_type": "stream",
          "name": "stdout",
          "text": [
            "\n",
            "\n",
            "Tested 293/1500 iterations.\n",
            "Best MAE - Validation Dataset\n",
            "  MAE: 3.1 | sMAPE: 11.63 %\n",
            "\n",
            "Best MAE - Test Dataset\n",
            "  MAE: 4.2 | sMAPE: 20.58 %\n",
            " 20%|█▉        | 293/1500 [3:23:33<16:15:32, 48.49s/it, best loss: 3.0607783264658908]"
          ]
        },
        {
          "output_type": "stream",
          "name": "stderr",
          "text": [
            "/usr/local/lib/python3.7/dist-packages/keras/optimizer_v2/adam.py:105: UserWarning: The `lr` argument is deprecated, use `learning_rate` instead.\n",
            "  super(Adam, self).__init__(name, **kwargs)\n",
            "\n"
          ]
        },
        {
          "output_type": "stream",
          "name": "stdout",
          "text": [
            "\n",
            "\n",
            "Tested 294/1500 iterations.\n",
            "Best MAE - Validation Dataset\n",
            "  MAE: 3.1 | sMAPE: 11.63 %\n",
            "\n",
            "Best MAE - Test Dataset\n",
            "  MAE: 4.2 | sMAPE: 20.58 %\n",
            " 20%|█▉        | 294/1500 [3:24:27<16:52:02, 50.35s/it, best loss: 3.0607783264658908]"
          ]
        },
        {
          "output_type": "stream",
          "name": "stderr",
          "text": [
            "/usr/local/lib/python3.7/dist-packages/keras/optimizer_v2/adam.py:105: UserWarning: The `lr` argument is deprecated, use `learning_rate` instead.\n",
            "  super(Adam, self).__init__(name, **kwargs)\n",
            "\n"
          ]
        },
        {
          "output_type": "stream",
          "name": "stdout",
          "text": [
            "\n",
            "\n",
            "Tested 295/1500 iterations.\n",
            "Best MAE - Validation Dataset\n",
            "  MAE: 3.1 | sMAPE: 11.63 %\n",
            "\n",
            "Best MAE - Test Dataset\n",
            "  MAE: 4.2 | sMAPE: 20.58 %\n",
            "\n",
            "\n",
            "Tested 296/1500 iterations.\n",
            "Best MAE - Validation Dataset\n",
            "  MAE: 3.1 | sMAPE: 11.63 %\n",
            "\n",
            "Best MAE - Test Dataset\n",
            "  MAE: 4.2 | sMAPE: 20.58 %\n",
            " 20%|█▉        | 296/1500 [3:25:42<14:08:09, 42.27s/it, best loss: 3.0607783264658908]"
          ]
        },
        {
          "output_type": "stream",
          "name": "stderr",
          "text": [
            "/usr/local/lib/python3.7/dist-packages/keras/optimizer_v2/adam.py:105: UserWarning: The `lr` argument is deprecated, use `learning_rate` instead.\n",
            "  super(Adam, self).__init__(name, **kwargs)\n",
            "\n"
          ]
        },
        {
          "output_type": "stream",
          "name": "stdout",
          "text": [
            "\n",
            "\n",
            "Tested 297/1500 iterations.\n",
            "Best MAE - Validation Dataset\n",
            "  MAE: 3.1 | sMAPE: 11.63 %\n",
            "\n",
            "Best MAE - Test Dataset\n",
            "  MAE: 4.2 | sMAPE: 20.58 %\n",
            " 20%|█▉        | 297/1500 [3:26:24<14:06:01, 42.20s/it, best loss: 3.0607783264658908]"
          ]
        },
        {
          "output_type": "stream",
          "name": "stderr",
          "text": [
            "/usr/local/lib/python3.7/dist-packages/keras/optimizer_v2/adam.py:105: UserWarning: The `lr` argument is deprecated, use `learning_rate` instead.\n",
            "  super(Adam, self).__init__(name, **kwargs)\n",
            "\n"
          ]
        },
        {
          "output_type": "stream",
          "name": "stdout",
          "text": [
            "\n",
            "\n",
            "Tested 298/1500 iterations.\n",
            "Best MAE - Validation Dataset\n",
            "  MAE: 3.1 | sMAPE: 11.63 %\n",
            "\n",
            "Best MAE - Test Dataset\n",
            "  MAE: 4.2 | sMAPE: 20.58 %\n",
            " 20%|█▉        | 298/1500 [3:27:00<13:23:50, 40.12s/it, best loss: 3.0607783264658908]"
          ]
        },
        {
          "output_type": "stream",
          "name": "stderr",
          "text": [
            "/usr/local/lib/python3.7/dist-packages/keras/optimizer_v2/adam.py:105: UserWarning: The `lr` argument is deprecated, use `learning_rate` instead.\n",
            "  super(Adam, self).__init__(name, **kwargs)\n",
            "\n"
          ]
        },
        {
          "output_type": "stream",
          "name": "stdout",
          "text": [
            "\n",
            "\n",
            "Tested 299/1500 iterations.\n",
            "Best MAE - Validation Dataset\n",
            "  MAE: 3.1 | sMAPE: 11.63 %\n",
            "\n",
            "Best MAE - Test Dataset\n",
            "  MAE: 4.2 | sMAPE: 20.58 %\n",
            " 20%|█▉        | 299/1500 [3:27:43<13:43:08, 41.12s/it, best loss: 3.0607783264658908]"
          ]
        },
        {
          "output_type": "stream",
          "name": "stderr",
          "text": [
            "/usr/local/lib/python3.7/dist-packages/keras/optimizer_v2/adam.py:105: UserWarning: The `lr` argument is deprecated, use `learning_rate` instead.\n",
            "  super(Adam, self).__init__(name, **kwargs)\n",
            "\n"
          ]
        },
        {
          "output_type": "stream",
          "name": "stdout",
          "text": [
            "\n",
            "\n",
            "Tested 300/1500 iterations.\n",
            "Best MAE - Validation Dataset\n",
            "  MAE: 3.1 | sMAPE: 11.63 %\n",
            "\n",
            "Best MAE - Test Dataset\n",
            "  MAE: 4.2 | sMAPE: 20.58 %\n",
            "\n",
            "\n",
            "Tested 301/1500 iterations.\n",
            "Best MAE - Validation Dataset\n",
            "  MAE: 3.1 | sMAPE: 11.63 %\n",
            "\n",
            "Best MAE - Test Dataset\n",
            "  MAE: 4.2 | sMAPE: 20.58 %\n",
            " 20%|██        | 301/1500 [3:28:59<12:25:06, 37.29s/it, best loss: 3.0607783264658908]"
          ]
        },
        {
          "output_type": "stream",
          "name": "stderr",
          "text": [
            "/usr/local/lib/python3.7/dist-packages/keras/optimizer_v2/adam.py:105: UserWarning: The `lr` argument is deprecated, use `learning_rate` instead.\n",
            "  super(Adam, self).__init__(name, **kwargs)\n",
            "\n"
          ]
        },
        {
          "output_type": "stream",
          "name": "stdout",
          "text": [
            "\n",
            "\n",
            "Tested 302/1500 iterations.\n",
            "Best MAE - Validation Dataset\n",
            "  MAE: 3.1 | sMAPE: 11.63 %\n",
            "\n",
            "Best MAE - Test Dataset\n",
            "  MAE: 4.2 | sMAPE: 20.58 %\n",
            " 20%|██        | 302/1500 [3:29:34<12:10:38, 36.59s/it, best loss: 3.0607783264658908]"
          ]
        },
        {
          "output_type": "stream",
          "name": "stderr",
          "text": [
            "/usr/local/lib/python3.7/dist-packages/keras/optimizer_v2/adam.py:105: UserWarning: The `lr` argument is deprecated, use `learning_rate` instead.\n",
            "  super(Adam, self).__init__(name, **kwargs)\n",
            "\n"
          ]
        },
        {
          "output_type": "stream",
          "name": "stdout",
          "text": [
            "\n",
            "\n",
            "Tested 303/1500 iterations.\n",
            "Best MAE - Validation Dataset\n",
            "  MAE: 3.1 | sMAPE: 11.63 %\n",
            "\n",
            "Best MAE - Test Dataset\n",
            "  MAE: 4.2 | sMAPE: 20.58 %\n",
            " 20%|██        | 303/1500 [3:30:30<14:09:50, 42.60s/it, best loss: 3.0607783264658908]"
          ]
        },
        {
          "output_type": "stream",
          "name": "stderr",
          "text": [
            "/usr/local/lib/python3.7/dist-packages/keras/optimizer_v2/adam.py:105: UserWarning: The `lr` argument is deprecated, use `learning_rate` instead.\n",
            "  super(Adam, self).__init__(name, **kwargs)\n",
            "\n"
          ]
        },
        {
          "output_type": "stream",
          "name": "stdout",
          "text": [
            "\n",
            "\n",
            "Tested 304/1500 iterations.\n",
            "Best MAE - Validation Dataset\n",
            "  MAE: 3.1 | sMAPE: 11.63 %\n",
            "\n",
            "Best MAE - Test Dataset\n",
            "  MAE: 4.2 | sMAPE: 20.58 %\n",
            " 20%|██        | 304/1500 [3:31:16<14:28:09, 43.55s/it, best loss: 3.0607783264658908]"
          ]
        },
        {
          "output_type": "stream",
          "name": "stderr",
          "text": [
            "/usr/local/lib/python3.7/dist-packages/keras/optimizer_v2/adam.py:105: UserWarning: The `lr` argument is deprecated, use `learning_rate` instead.\n",
            "  super(Adam, self).__init__(name, **kwargs)\n",
            "\n"
          ]
        },
        {
          "output_type": "stream",
          "name": "stdout",
          "text": [
            "\n",
            "\n",
            "Tested 305/1500 iterations.\n",
            "Best MAE - Validation Dataset\n",
            "  MAE: 3.1 | sMAPE: 11.63 %\n",
            "\n",
            "Best MAE - Test Dataset\n",
            "  MAE: 4.2 | sMAPE: 20.58 %\n",
            " 20%|██        | 305/1500 [3:31:36<12:06:09, 36.46s/it, best loss: 3.0607783264658908]"
          ]
        },
        {
          "output_type": "stream",
          "name": "stderr",
          "text": [
            "/usr/local/lib/python3.7/dist-packages/keras/optimizer_v2/adam.py:105: UserWarning: The `lr` argument is deprecated, use `learning_rate` instead.\n",
            "  super(Adam, self).__init__(name, **kwargs)\n",
            "\n"
          ]
        },
        {
          "output_type": "stream",
          "name": "stdout",
          "text": [
            "\n",
            "\n",
            "Tested 306/1500 iterations.\n",
            "Best MAE - Validation Dataset\n",
            "  MAE: 3.1 | sMAPE: 11.63 %\n",
            "\n",
            "Best MAE - Test Dataset\n",
            "  MAE: 4.2 | sMAPE: 20.58 %\n",
            " 20%|██        | 306/1500 [3:32:03<11:06:10, 33.48s/it, best loss: 3.0607783264658908]"
          ]
        },
        {
          "output_type": "stream",
          "name": "stderr",
          "text": [
            "/usr/local/lib/python3.7/dist-packages/keras/optimizer_v2/adam.py:105: UserWarning: The `lr` argument is deprecated, use `learning_rate` instead.\n",
            "  super(Adam, self).__init__(name, **kwargs)\n",
            "\n"
          ]
        },
        {
          "output_type": "stream",
          "name": "stdout",
          "text": [
            "\n",
            "\n",
            "Tested 307/1500 iterations.\n",
            "Best MAE - Validation Dataset\n",
            "  MAE: 3.1 | sMAPE: 11.63 %\n",
            "\n",
            "Best MAE - Test Dataset\n",
            "  MAE: 4.2 | sMAPE: 20.58 %\n",
            " 20%|██        | 307/1500 [3:32:41<11:35:15, 34.97s/it, best loss: 3.0607783264658908]"
          ]
        },
        {
          "output_type": "stream",
          "name": "stderr",
          "text": [
            "/usr/local/lib/python3.7/dist-packages/keras/optimizer_v2/adam.py:105: UserWarning: The `lr` argument is deprecated, use `learning_rate` instead.\n",
            "  super(Adam, self).__init__(name, **kwargs)\n",
            "\n",
            "/content/epftoolbox/epftoolbox/data/_wrangling.py:95: RuntimeWarning: overflow encountered in sinh\n",
            "  transformed_data = np.sinh(data)\n",
            "\n",
            "/content/epftoolbox/epftoolbox/data/_wrangling.py:67: RuntimeWarning: overflow encountered in multiply\n",
            "  transformed_data[:, i] = data[:, i] * self.mad[i] + self.median[i]\n",
            "\n"
          ]
        },
        {
          "output_type": "stream",
          "name": "stdout",
          "text": [
            "\n",
            "\n",
            "Tested 308/1500 iterations.\n",
            "Best MAE - Validation Dataset\n",
            "  MAE: 3.1 | sMAPE: 11.63 %\n",
            "\n",
            "Best MAE - Test Dataset\n",
            "  MAE: 4.2 | sMAPE: 20.58 %\n",
            " 21%|██        | 308/1500 [3:33:05<10:29:32, 31.69s/it, best loss: 3.0607783264658908]"
          ]
        },
        {
          "output_type": "stream",
          "name": "stderr",
          "text": [
            "/usr/local/lib/python3.7/dist-packages/keras/optimizer_v2/adam.py:105: UserWarning: The `lr` argument is deprecated, use `learning_rate` instead.\n",
            "  super(Adam, self).__init__(name, **kwargs)\n",
            "\n"
          ]
        },
        {
          "output_type": "stream",
          "name": "stdout",
          "text": [
            "\n",
            "\n",
            "Tested 309/1500 iterations.\n",
            "Best MAE - Validation Dataset\n",
            "  MAE: 3.1 | sMAPE: 11.63 %\n",
            "\n",
            "Best MAE - Test Dataset\n",
            "  MAE: 4.2 | sMAPE: 20.58 %\n",
            " 21%|██        | 309/1500 [3:33:53<12:06:29, 36.60s/it, best loss: 3.0607783264658908]"
          ]
        },
        {
          "output_type": "stream",
          "name": "stderr",
          "text": [
            "/usr/local/lib/python3.7/dist-packages/keras/optimizer_v2/adam.py:105: UserWarning: The `lr` argument is deprecated, use `learning_rate` instead.\n",
            "  super(Adam, self).__init__(name, **kwargs)\n",
            "\n"
          ]
        },
        {
          "output_type": "stream",
          "name": "stdout",
          "text": [
            "\n",
            "\n",
            "Tested 310/1500 iterations.\n",
            "Best MAE - Validation Dataset\n",
            "  MAE: 3.1 | sMAPE: 11.63 %\n",
            "\n",
            "Best MAE - Test Dataset\n",
            "  MAE: 4.2 | sMAPE: 20.58 %\n",
            " 21%|██        | 310/1500 [3:34:12<10:21:49, 31.35s/it, best loss: 3.0607783264658908]"
          ]
        },
        {
          "output_type": "stream",
          "name": "stderr",
          "text": [
            "/usr/local/lib/python3.7/dist-packages/keras/optimizer_v2/adam.py:105: UserWarning: The `lr` argument is deprecated, use `learning_rate` instead.\n",
            "  super(Adam, self).__init__(name, **kwargs)\n",
            "\n"
          ]
        },
        {
          "output_type": "stream",
          "name": "stdout",
          "text": [
            "\n",
            "\n",
            "Tested 311/1500 iterations.\n",
            "Best MAE - Validation Dataset\n",
            "  MAE: 3.1 | sMAPE: 11.63 %\n",
            "\n",
            "Best MAE - Test Dataset\n",
            "  MAE: 4.2 | sMAPE: 20.58 %\n",
            " 21%|██        | 311/1500 [3:34:32<9:14:19, 27.97s/it, best loss: 3.0607783264658908]"
          ]
        },
        {
          "output_type": "stream",
          "name": "stderr",
          "text": [
            "/usr/local/lib/python3.7/dist-packages/keras/optimizer_v2/adam.py:105: UserWarning: The `lr` argument is deprecated, use `learning_rate` instead.\n",
            "  super(Adam, self).__init__(name, **kwargs)\n",
            "\n"
          ]
        },
        {
          "output_type": "stream",
          "name": "stdout",
          "text": [
            "\n",
            "\n",
            "Tested 312/1500 iterations.\n",
            "Best MAE - Validation Dataset\n",
            "  MAE: 3.1 | sMAPE: 11.63 %\n",
            "\n",
            "Best MAE - Test Dataset\n",
            "  MAE: 4.2 | sMAPE: 20.58 %\n",
            " 21%|██        | 312/1500 [3:35:36<12:48:37, 38.82s/it, best loss: 3.0607783264658908]"
          ]
        },
        {
          "output_type": "stream",
          "name": "stderr",
          "text": [
            "/usr/local/lib/python3.7/dist-packages/keras/optimizer_v2/adam.py:105: UserWarning: The `lr` argument is deprecated, use `learning_rate` instead.\n",
            "  super(Adam, self).__init__(name, **kwargs)\n",
            "\n"
          ]
        },
        {
          "output_type": "stream",
          "name": "stdout",
          "text": [
            "\n",
            "\n",
            "Tested 313/1500 iterations.\n",
            "Best MAE - Validation Dataset\n",
            "  MAE: 3.1 | sMAPE: 11.63 %\n",
            "\n",
            "Best MAE - Test Dataset\n",
            "  MAE: 4.2 | sMAPE: 20.58 %\n",
            " 21%|██        | 313/1500 [3:36:24<13:39:35, 41.43s/it, best loss: 3.0607783264658908]"
          ]
        },
        {
          "output_type": "stream",
          "name": "stderr",
          "text": [
            "/usr/local/lib/python3.7/dist-packages/keras/optimizer_v2/adam.py:105: UserWarning: The `lr` argument is deprecated, use `learning_rate` instead.\n",
            "  super(Adam, self).__init__(name, **kwargs)\n",
            "\n"
          ]
        },
        {
          "output_type": "stream",
          "name": "stdout",
          "text": [
            "\n",
            "\n",
            "Tested 314/1500 iterations.\n",
            "Best MAE - Validation Dataset\n",
            "  MAE: 3.1 | sMAPE: 11.63 %\n",
            "\n",
            "Best MAE - Test Dataset\n",
            "  MAE: 4.2 | sMAPE: 20.58 %\n",
            " 21%|██        | 314/1500 [3:36:52<12:20:41, 37.47s/it, best loss: 3.0607783264658908]"
          ]
        },
        {
          "output_type": "stream",
          "name": "stderr",
          "text": [
            "/usr/local/lib/python3.7/dist-packages/keras/optimizer_v2/adam.py:105: UserWarning: The `lr` argument is deprecated, use `learning_rate` instead.\n",
            "  super(Adam, self).__init__(name, **kwargs)\n",
            "\n"
          ]
        },
        {
          "output_type": "stream",
          "name": "stdout",
          "text": [
            "\n",
            "\n",
            "Tested 315/1500 iterations.\n",
            "Best MAE - Validation Dataset\n",
            "  MAE: 3.1 | sMAPE: 11.63 %\n",
            "\n",
            "Best MAE - Test Dataset\n",
            "  MAE: 4.2 | sMAPE: 20.58 %\n",
            " 21%|██        | 315/1500 [3:37:39<13:16:35, 40.33s/it, best loss: 3.0607783264658908]"
          ]
        },
        {
          "output_type": "stream",
          "name": "stderr",
          "text": [
            "/usr/local/lib/python3.7/dist-packages/keras/optimizer_v2/adam.py:105: UserWarning: The `lr` argument is deprecated, use `learning_rate` instead.\n",
            "  super(Adam, self).__init__(name, **kwargs)\n",
            "\n"
          ]
        },
        {
          "output_type": "stream",
          "name": "stdout",
          "text": [
            "\n",
            "\n",
            "Tested 316/1500 iterations.\n",
            "Best MAE - Validation Dataset\n",
            "  MAE: 3.1 | sMAPE: 11.63 %\n",
            "\n",
            "Best MAE - Test Dataset\n",
            "  MAE: 4.2 | sMAPE: 20.58 %\n",
            " 21%|██        | 316/1500 [3:38:19<13:14:35, 40.27s/it, best loss: 3.0607783264658908]"
          ]
        },
        {
          "output_type": "stream",
          "name": "stderr",
          "text": [
            "/usr/local/lib/python3.7/dist-packages/keras/optimizer_v2/adam.py:105: UserWarning: The `lr` argument is deprecated, use `learning_rate` instead.\n",
            "  super(Adam, self).__init__(name, **kwargs)\n",
            "\n"
          ]
        },
        {
          "output_type": "stream",
          "name": "stdout",
          "text": [
            "\n",
            "\n",
            "Tested 317/1500 iterations.\n",
            "Best MAE - Validation Dataset\n",
            "  MAE: 3.1 | sMAPE: 11.63 %\n",
            "\n",
            "Best MAE - Test Dataset\n",
            "  MAE: 4.2 | sMAPE: 20.58 %\n",
            " 21%|██        | 317/1500 [3:38:44<11:41:01, 35.55s/it, best loss: 3.0607783264658908]"
          ]
        },
        {
          "output_type": "stream",
          "name": "stderr",
          "text": [
            "/usr/local/lib/python3.7/dist-packages/keras/optimizer_v2/adam.py:105: UserWarning: The `lr` argument is deprecated, use `learning_rate` instead.\n",
            "  super(Adam, self).__init__(name, **kwargs)\n",
            "\n"
          ]
        },
        {
          "output_type": "stream",
          "name": "stdout",
          "text": [
            "\n",
            "\n",
            "Tested 318/1500 iterations.\n",
            "Best MAE - Validation Dataset\n",
            "  MAE: 3.1 | sMAPE: 11.63 %\n",
            "\n",
            "Best MAE - Test Dataset\n",
            "  MAE: 4.2 | sMAPE: 20.58 %\n",
            " 21%|██        | 318/1500 [3:39:00<9:43:36, 29.62s/it, best loss: 3.0607783264658908]"
          ]
        },
        {
          "output_type": "stream",
          "name": "stderr",
          "text": [
            "/usr/local/lib/python3.7/dist-packages/keras/optimizer_v2/adam.py:105: UserWarning: The `lr` argument is deprecated, use `learning_rate` instead.\n",
            "  super(Adam, self).__init__(name, **kwargs)\n",
            "\n"
          ]
        },
        {
          "output_type": "stream",
          "name": "stdout",
          "text": [
            "\n",
            "\n",
            "Tested 319/1500 iterations.\n",
            "Best MAE - Validation Dataset\n",
            "  MAE: 3.1 | sMAPE: 11.63 %\n",
            "\n",
            "Best MAE - Test Dataset\n",
            "  MAE: 4.2 | sMAPE: 20.58 %\n",
            " 21%|██▏       | 319/1500 [3:39:56<12:21:52, 37.69s/it, best loss: 3.0607783264658908]"
          ]
        },
        {
          "output_type": "stream",
          "name": "stderr",
          "text": [
            "/usr/local/lib/python3.7/dist-packages/keras/optimizer_v2/adam.py:105: UserWarning: The `lr` argument is deprecated, use `learning_rate` instead.\n",
            "  super(Adam, self).__init__(name, **kwargs)\n",
            "\n"
          ]
        },
        {
          "output_type": "stream",
          "name": "stdout",
          "text": [
            "\n",
            "\n",
            "Tested 320/1500 iterations.\n",
            "Best MAE - Validation Dataset\n",
            "  MAE: 3.1 | sMAPE: 11.63 %\n",
            "\n",
            "Best MAE - Test Dataset\n",
            "  MAE: 4.2 | sMAPE: 20.58 %\n",
            " 21%|██▏       | 320/1500 [3:40:43<13:15:54, 40.47s/it, best loss: 3.0607783264658908]"
          ]
        },
        {
          "output_type": "stream",
          "name": "stderr",
          "text": [
            "/usr/local/lib/python3.7/dist-packages/keras/optimizer_v2/adam.py:105: UserWarning: The `lr` argument is deprecated, use `learning_rate` instead.\n",
            "  super(Adam, self).__init__(name, **kwargs)\n",
            "\n"
          ]
        },
        {
          "output_type": "stream",
          "name": "stdout",
          "text": [
            "\n",
            "\n",
            "Tested 321/1500 iterations.\n",
            "Best MAE - Validation Dataset\n",
            "  MAE: 3.1 | sMAPE: 11.63 %\n",
            "\n",
            "Best MAE - Test Dataset\n",
            "  MAE: 4.2 | sMAPE: 20.58 %\n",
            " 21%|██▏       | 321/1500 [3:41:24<13:14:39, 40.44s/it, best loss: 3.0607783264658908]"
          ]
        },
        {
          "output_type": "stream",
          "name": "stderr",
          "text": [
            "/usr/local/lib/python3.7/dist-packages/keras/optimizer_v2/adam.py:105: UserWarning: The `lr` argument is deprecated, use `learning_rate` instead.\n",
            "  super(Adam, self).__init__(name, **kwargs)\n",
            "\n"
          ]
        },
        {
          "output_type": "stream",
          "name": "stdout",
          "text": [
            "\n",
            "\n",
            "Tested 322/1500 iterations.\n",
            "Best MAE - Validation Dataset\n",
            "  MAE: 3.1 | sMAPE: 11.63 %\n",
            "\n",
            "Best MAE - Test Dataset\n",
            "  MAE: 4.2 | sMAPE: 20.58 %\n",
            " 21%|██▏       | 322/1500 [3:41:42<11:01:40, 33.70s/it, best loss: 3.0607783264658908]"
          ]
        },
        {
          "output_type": "stream",
          "name": "stderr",
          "text": [
            "/usr/local/lib/python3.7/dist-packages/keras/optimizer_v2/adam.py:105: UserWarning: The `lr` argument is deprecated, use `learning_rate` instead.\n",
            "  super(Adam, self).__init__(name, **kwargs)\n",
            "\n"
          ]
        },
        {
          "output_type": "stream",
          "name": "stdout",
          "text": [
            "\n",
            "\n",
            "Tested 323/1500 iterations.\n",
            "Best MAE - Validation Dataset\n",
            "  MAE: 3.1 | sMAPE: 11.63 %\n",
            "\n",
            "Best MAE - Test Dataset\n",
            "  MAE: 4.2 | sMAPE: 20.58 %\n",
            " 22%|██▏       | 323/1500 [3:42:28<12:16:42, 37.55s/it, best loss: 3.0607783264658908]"
          ]
        },
        {
          "output_type": "stream",
          "name": "stderr",
          "text": [
            "/usr/local/lib/python3.7/dist-packages/keras/optimizer_v2/adam.py:105: UserWarning: The `lr` argument is deprecated, use `learning_rate` instead.\n",
            "  super(Adam, self).__init__(name, **kwargs)\n",
            "\n"
          ]
        },
        {
          "output_type": "stream",
          "name": "stdout",
          "text": [
            "\n",
            "\n",
            "Tested 324/1500 iterations.\n",
            "Best MAE - Validation Dataset\n",
            "  MAE: 3.1 | sMAPE: 11.63 %\n",
            "\n",
            "Best MAE - Test Dataset\n",
            "  MAE: 4.2 | sMAPE: 20.58 %\n",
            " 22%|██▏       | 324/1500 [3:47:09<36:07:40, 110.60s/it, best loss: 3.0607783264658908]"
          ]
        },
        {
          "output_type": "stream",
          "name": "stderr",
          "text": [
            "/usr/local/lib/python3.7/dist-packages/keras/optimizer_v2/adam.py:105: UserWarning: The `lr` argument is deprecated, use `learning_rate` instead.\n",
            "  super(Adam, self).__init__(name, **kwargs)\n",
            "\n"
          ]
        },
        {
          "output_type": "stream",
          "name": "stdout",
          "text": [
            "\n",
            "\n",
            "Tested 325/1500 iterations.\n",
            "Best MAE - Validation Dataset\n",
            "  MAE: 3.1 | sMAPE: 11.63 %\n",
            "\n",
            "Best MAE - Test Dataset\n",
            "  MAE: 4.2 | sMAPE: 20.58 %\n",
            " 22%|██▏       | 325/1500 [3:48:07<30:54:16, 94.69s/it, best loss: 3.0607783264658908]"
          ]
        },
        {
          "output_type": "stream",
          "name": "stderr",
          "text": [
            "/usr/local/lib/python3.7/dist-packages/keras/optimizer_v2/adam.py:105: UserWarning: The `lr` argument is deprecated, use `learning_rate` instead.\n",
            "  super(Adam, self).__init__(name, **kwargs)\n",
            "\n"
          ]
        },
        {
          "output_type": "stream",
          "name": "stdout",
          "text": [
            "\n",
            "\n",
            "Tested 326/1500 iterations.\n",
            "Best MAE - Validation Dataset\n",
            "  MAE: 3.1 | sMAPE: 11.63 %\n",
            "\n",
            "Best MAE - Test Dataset\n",
            "  MAE: 4.2 | sMAPE: 20.58 %\n",
            " 22%|██▏       | 326/1500 [3:49:11<27:53:12, 85.51s/it, best loss: 3.0607783264658908]"
          ]
        },
        {
          "output_type": "stream",
          "name": "stderr",
          "text": [
            "/usr/local/lib/python3.7/dist-packages/keras/optimizer_v2/adam.py:105: UserWarning: The `lr` argument is deprecated, use `learning_rate` instead.\n",
            "  super(Adam, self).__init__(name, **kwargs)\n",
            "\n"
          ]
        },
        {
          "output_type": "stream",
          "name": "stdout",
          "text": [
            "\n",
            "\n",
            "Tested 327/1500 iterations.\n",
            "Best MAE - Validation Dataset\n",
            "  MAE: 3.1 | sMAPE: 11.63 %\n",
            "\n",
            "Best MAE - Test Dataset\n",
            "  MAE: 4.2 | sMAPE: 20.58 %\n",
            " 22%|██▏       | 327/1500 [3:49:42<22:32:22, 69.17s/it, best loss: 3.0607783264658908]"
          ]
        },
        {
          "output_type": "stream",
          "name": "stderr",
          "text": [
            "/usr/local/lib/python3.7/dist-packages/keras/optimizer_v2/adam.py:105: UserWarning: The `lr` argument is deprecated, use `learning_rate` instead.\n",
            "  super(Adam, self).__init__(name, **kwargs)\n",
            "\n"
          ]
        },
        {
          "output_type": "stream",
          "name": "stdout",
          "text": [
            "\n",
            "\n",
            "Tested 328/1500 iterations.\n",
            "Best MAE - Validation Dataset\n",
            "  MAE: 3.1 | sMAPE: 11.63 %\n",
            "\n",
            "Best MAE - Test Dataset\n",
            "  MAE: 4.2 | sMAPE: 20.58 %\n",
            " 22%|██▏       | 328/1500 [3:50:42<21:38:45, 66.49s/it, best loss: 3.0607783264658908]"
          ]
        },
        {
          "output_type": "stream",
          "name": "stderr",
          "text": [
            "/usr/local/lib/python3.7/dist-packages/keras/optimizer_v2/adam.py:105: UserWarning: The `lr` argument is deprecated, use `learning_rate` instead.\n",
            "  super(Adam, self).__init__(name, **kwargs)\n",
            "\n"
          ]
        },
        {
          "output_type": "stream",
          "name": "stdout",
          "text": [
            "\n",
            "\n",
            "Tested 329/1500 iterations.\n",
            "Best MAE - Validation Dataset\n",
            "  MAE: 3.1 | sMAPE: 11.63 %\n",
            "\n",
            "Best MAE - Test Dataset\n",
            "  MAE: 4.2 | sMAPE: 20.58 %\n",
            "\n",
            "\n",
            "Tested 330/1500 iterations.\n",
            "Best MAE - Validation Dataset\n",
            "  MAE: 3.1 | sMAPE: 11.63 %\n",
            "\n",
            "Best MAE - Test Dataset\n",
            "  MAE: 4.2 | sMAPE: 20.58 %\n",
            " 22%|██▏       | 330/1500 [3:51:41<14:52:50, 45.79s/it, best loss: 3.0607783264658908]"
          ]
        },
        {
          "output_type": "stream",
          "name": "stderr",
          "text": [
            "/usr/local/lib/python3.7/dist-packages/keras/optimizer_v2/adam.py:105: UserWarning: The `lr` argument is deprecated, use `learning_rate` instead.\n",
            "  super(Adam, self).__init__(name, **kwargs)\n",
            "\n"
          ]
        },
        {
          "output_type": "stream",
          "name": "stdout",
          "text": [
            "\n",
            "\n",
            "Tested 331/1500 iterations.\n",
            "Best MAE - Validation Dataset\n",
            "  MAE: 3.1 | sMAPE: 11.63 %\n",
            "\n",
            "Best MAE - Test Dataset\n",
            "  MAE: 4.2 | sMAPE: 20.58 %\n",
            " 22%|██▏       | 331/1500 [3:52:14<13:34:42, 41.82s/it, best loss: 3.0607783264658908]"
          ]
        },
        {
          "output_type": "stream",
          "name": "stderr",
          "text": [
            "/usr/local/lib/python3.7/dist-packages/keras/optimizer_v2/adam.py:105: UserWarning: The `lr` argument is deprecated, use `learning_rate` instead.\n",
            "  super(Adam, self).__init__(name, **kwargs)\n",
            "\n"
          ]
        },
        {
          "output_type": "stream",
          "name": "stdout",
          "text": [
            "\n",
            "\n",
            "Tested 332/1500 iterations.\n",
            "Best MAE - Validation Dataset\n",
            "  MAE: 3.1 | sMAPE: 11.63 %\n",
            "\n",
            "Best MAE - Test Dataset\n",
            "  MAE: 4.2 | sMAPE: 20.58 %\n",
            " 22%|██▏       | 332/1500 [3:52:54<13:24:18, 41.32s/it, best loss: 3.0607783264658908]"
          ]
        },
        {
          "output_type": "stream",
          "name": "stderr",
          "text": [
            "/usr/local/lib/python3.7/dist-packages/keras/optimizer_v2/adam.py:105: UserWarning: The `lr` argument is deprecated, use `learning_rate` instead.\n",
            "  super(Adam, self).__init__(name, **kwargs)\n",
            "\n"
          ]
        },
        {
          "output_type": "stream",
          "name": "stdout",
          "text": [
            "\n",
            "\n",
            "Tested 333/1500 iterations.\n",
            "Best MAE - Validation Dataset\n",
            "  MAE: 3.1 | sMAPE: 11.63 %\n",
            "\n",
            "Best MAE - Test Dataset\n",
            "  MAE: 4.2 | sMAPE: 20.58 %\n",
            " 22%|██▏       | 333/1500 [3:53:37<13:31:08, 41.70s/it, best loss: 3.0607783264658908]"
          ]
        },
        {
          "output_type": "stream",
          "name": "stderr",
          "text": [
            "/usr/local/lib/python3.7/dist-packages/keras/optimizer_v2/adam.py:105: UserWarning: The `lr` argument is deprecated, use `learning_rate` instead.\n",
            "  super(Adam, self).__init__(name, **kwargs)\n",
            "\n",
            "/content/epftoolbox/epftoolbox/data/_wrangling.py:95: RuntimeWarning: overflow encountered in sinh\n",
            "  transformed_data = np.sinh(data)\n",
            "\n",
            "/content/epftoolbox/epftoolbox/data/_wrangling.py:67: RuntimeWarning: overflow encountered in multiply\n",
            "  transformed_data[:, i] = data[:, i] * self.mad[i] + self.median[i]\n",
            "\n"
          ]
        },
        {
          "output_type": "stream",
          "name": "stdout",
          "text": [
            "\n",
            "\n",
            "Tested 334/1500 iterations.\n",
            "Best MAE - Validation Dataset\n",
            "  MAE: 3.1 | sMAPE: 11.63 %\n",
            "\n",
            "Best MAE - Test Dataset\n",
            "  MAE: 4.2 | sMAPE: 20.58 %\n",
            " 22%|██▏       | 334/1500 [3:54:21<13:45:26, 42.48s/it, best loss: 3.0607783264658908]"
          ]
        },
        {
          "output_type": "stream",
          "name": "stderr",
          "text": [
            "/usr/local/lib/python3.7/dist-packages/keras/optimizer_v2/adam.py:105: UserWarning: The `lr` argument is deprecated, use `learning_rate` instead.\n",
            "  super(Adam, self).__init__(name, **kwargs)\n",
            "\n"
          ]
        },
        {
          "output_type": "stream",
          "name": "stdout",
          "text": [
            "\n",
            "\n",
            "Tested 335/1500 iterations.\n",
            "Best MAE - Validation Dataset\n",
            "  MAE: 3.1 | sMAPE: 11.63 %\n",
            "\n",
            "Best MAE - Test Dataset\n",
            "  MAE: 4.2 | sMAPE: 20.58 %\n",
            " 22%|██▏       | 335/1500 [3:55:01<13:33:30, 41.90s/it, best loss: 3.0607783264658908]"
          ]
        },
        {
          "output_type": "stream",
          "name": "stderr",
          "text": [
            "/usr/local/lib/python3.7/dist-packages/keras/optimizer_v2/adam.py:105: UserWarning: The `lr` argument is deprecated, use `learning_rate` instead.\n",
            "  super(Adam, self).__init__(name, **kwargs)\n",
            "\n"
          ]
        },
        {
          "output_type": "stream",
          "name": "stdout",
          "text": [
            "\n",
            "\n",
            "Tested 336/1500 iterations.\n",
            "Best MAE - Validation Dataset\n",
            "  MAE: 3.1 | sMAPE: 11.63 %\n",
            "\n",
            "Best MAE - Test Dataset\n",
            "  MAE: 4.2 | sMAPE: 20.58 %\n",
            " 22%|██▏       | 336/1500 [3:55:31<12:19:50, 38.14s/it, best loss: 3.0607783264658908]"
          ]
        },
        {
          "output_type": "stream",
          "name": "stderr",
          "text": [
            "/usr/local/lib/python3.7/dist-packages/keras/optimizer_v2/adam.py:105: UserWarning: The `lr` argument is deprecated, use `learning_rate` instead.\n",
            "  super(Adam, self).__init__(name, **kwargs)\n",
            "\n"
          ]
        },
        {
          "output_type": "stream",
          "name": "stdout",
          "text": [
            "\n",
            "\n",
            "Tested 337/1500 iterations.\n",
            "Best MAE - Validation Dataset\n",
            "  MAE: 3.1 | sMAPE: 11.63 %\n",
            "\n",
            "Best MAE - Test Dataset\n",
            "  MAE: 4.2 | sMAPE: 20.58 %\n",
            " 22%|██▏       | 337/1500 [3:56:52<16:30:23, 51.09s/it, best loss: 3.0607783264658908]"
          ]
        },
        {
          "output_type": "stream",
          "name": "stderr",
          "text": [
            "/usr/local/lib/python3.7/dist-packages/keras/optimizer_v2/adam.py:105: UserWarning: The `lr` argument is deprecated, use `learning_rate` instead.\n",
            "  super(Adam, self).__init__(name, **kwargs)\n",
            "\n"
          ]
        },
        {
          "output_type": "stream",
          "name": "stdout",
          "text": [
            "\n",
            "\n",
            "Tested 338/1500 iterations.\n",
            "Best MAE - Validation Dataset\n",
            "  MAE: 3.1 | sMAPE: 11.63 %\n",
            "\n",
            "Best MAE - Test Dataset\n",
            "  MAE: 4.2 | sMAPE: 20.58 %\n",
            " 23%|██▎       | 338/1500 [3:57:14<13:38:56, 42.29s/it, best loss: 3.0607783264658908]"
          ]
        },
        {
          "output_type": "stream",
          "name": "stderr",
          "text": [
            "/usr/local/lib/python3.7/dist-packages/keras/optimizer_v2/adam.py:105: UserWarning: The `lr` argument is deprecated, use `learning_rate` instead.\n",
            "  super(Adam, self).__init__(name, **kwargs)\n",
            "\n",
            "/content/epftoolbox/epftoolbox/data/_wrangling.py:95: RuntimeWarning: overflow encountered in sinh\n",
            "  transformed_data = np.sinh(data)\n",
            "\n",
            "/content/epftoolbox/epftoolbox/data/_wrangling.py:67: RuntimeWarning: overflow encountered in multiply\n",
            "  transformed_data[:, i] = data[:, i] * self.mad[i] + self.median[i]\n",
            "\n"
          ]
        },
        {
          "output_type": "stream",
          "name": "stdout",
          "text": [
            "\n",
            "\n",
            "Tested 339/1500 iterations.\n",
            "Best MAE - Validation Dataset\n",
            "  MAE: 3.1 | sMAPE: 11.63 %\n",
            "\n",
            "Best MAE - Test Dataset\n",
            "  MAE: 4.2 | sMAPE: 20.58 %\n",
            " 23%|██▎       | 339/1500 [3:57:22<10:17:54, 31.93s/it, best loss: 3.0607783264658908]"
          ]
        },
        {
          "output_type": "stream",
          "name": "stderr",
          "text": [
            "/content/epftoolbox/epftoolbox/evaluation/_smape.py:118: RuntimeWarning: invalid value encountered in true_divide\n",
            "  return np.mean(np.abs(p_real - p_pred) / ((np.abs(p_real) + np.abs(p_pred)) / 2))\n",
            "\n",
            "/usr/local/lib/python3.7/dist-packages/keras/optimizer_v2/adam.py:105: UserWarning: The `lr` argument is deprecated, use `learning_rate` instead.\n",
            "  super(Adam, self).__init__(name, **kwargs)\n",
            "\n"
          ]
        },
        {
          "output_type": "stream",
          "name": "stdout",
          "text": [
            "\n",
            "\n",
            "Tested 340/1500 iterations.\n",
            "Best MAE - Validation Dataset\n",
            "  MAE: 3.1 | sMAPE: 11.63 %\n",
            "\n",
            "Best MAE - Test Dataset\n",
            "  MAE: 4.2 | sMAPE: 20.58 %\n",
            " 23%|██▎       | 340/1500 [3:57:56<10:34:27, 32.82s/it, best loss: 3.0607783264658908]"
          ]
        },
        {
          "output_type": "stream",
          "name": "stderr",
          "text": [
            "/usr/local/lib/python3.7/dist-packages/keras/optimizer_v2/adam.py:105: UserWarning: The `lr` argument is deprecated, use `learning_rate` instead.\n",
            "  super(Adam, self).__init__(name, **kwargs)\n",
            "\n"
          ]
        },
        {
          "output_type": "stream",
          "name": "stdout",
          "text": [
            "\n",
            "\n",
            "Tested 341/1500 iterations.\n",
            "Best MAE - Validation Dataset\n",
            "  MAE: 3.1 | sMAPE: 11.63 %\n",
            "\n",
            "Best MAE - Test Dataset\n",
            "  MAE: 4.2 | sMAPE: 20.58 %\n",
            " 23%|██▎       | 341/1500 [3:58:46<12:12:57, 37.94s/it, best loss: 3.0607783264658908]"
          ]
        },
        {
          "output_type": "stream",
          "name": "stderr",
          "text": [
            "/usr/local/lib/python3.7/dist-packages/keras/optimizer_v2/adam.py:105: UserWarning: The `lr` argument is deprecated, use `learning_rate` instead.\n",
            "  super(Adam, self).__init__(name, **kwargs)\n",
            "\n"
          ]
        },
        {
          "output_type": "stream",
          "name": "stdout",
          "text": [
            "\n",
            "\n",
            "Tested 342/1500 iterations.\n",
            "Best MAE - Validation Dataset\n",
            "  MAE: 3.1 | sMAPE: 11.63 %\n",
            "\n",
            "Best MAE - Test Dataset\n",
            "  MAE: 4.2 | sMAPE: 20.58 %\n",
            " 23%|██▎       | 342/1500 [3:58:59<9:47:59, 30.47s/it, best loss: 3.0607783264658908]"
          ]
        },
        {
          "output_type": "stream",
          "name": "stderr",
          "text": [
            "/usr/local/lib/python3.7/dist-packages/keras/optimizer_v2/adam.py:105: UserWarning: The `lr` argument is deprecated, use `learning_rate` instead.\n",
            "  super(Adam, self).__init__(name, **kwargs)\n",
            "\n"
          ]
        },
        {
          "output_type": "stream",
          "name": "stdout",
          "text": [
            "\n",
            "\n",
            "Tested 343/1500 iterations.\n",
            "Best MAE - Validation Dataset\n",
            "  MAE: 3.1 | sMAPE: 11.63 %\n",
            "\n",
            "Best MAE - Test Dataset\n",
            "  MAE: 4.2 | sMAPE: 20.58 %\n",
            " 23%|██▎       | 343/1500 [3:59:27<9:33:08, 29.72s/it, best loss: 3.0607783264658908]"
          ]
        },
        {
          "output_type": "stream",
          "name": "stderr",
          "text": [
            "/usr/local/lib/python3.7/dist-packages/keras/optimizer_v2/adam.py:105: UserWarning: The `lr` argument is deprecated, use `learning_rate` instead.\n",
            "  super(Adam, self).__init__(name, **kwargs)\n",
            "\n"
          ]
        },
        {
          "output_type": "stream",
          "name": "stdout",
          "text": [
            "\n",
            "\n",
            "Tested 344/1500 iterations.\n",
            "Best MAE - Validation Dataset\n",
            "  MAE: 3.1 | sMAPE: 11.63 %\n",
            "\n",
            "Best MAE - Test Dataset\n",
            "  MAE: 4.2 | sMAPE: 20.58 %\n",
            " 23%|██▎       | 344/1500 [4:00:15<11:16:31, 35.11s/it, best loss: 3.0607783264658908]"
          ]
        },
        {
          "output_type": "stream",
          "name": "stderr",
          "text": [
            "/usr/local/lib/python3.7/dist-packages/keras/optimizer_v2/adam.py:105: UserWarning: The `lr` argument is deprecated, use `learning_rate` instead.\n",
            "  super(Adam, self).__init__(name, **kwargs)\n",
            "\n"
          ]
        },
        {
          "output_type": "stream",
          "name": "stdout",
          "text": [
            "\n",
            "\n",
            "Tested 345/1500 iterations.\n",
            "Best MAE - Validation Dataset\n",
            "  MAE: 3.1 | sMAPE: 11.63 %\n",
            "\n",
            "Best MAE - Test Dataset\n",
            "  MAE: 4.2 | sMAPE: 20.58 %\n",
            " 23%|██▎       | 345/1500 [4:00:47<10:56:40, 34.11s/it, best loss: 3.0607783264658908]"
          ]
        },
        {
          "output_type": "stream",
          "name": "stderr",
          "text": [
            "/usr/local/lib/python3.7/dist-packages/keras/optimizer_v2/adam.py:105: UserWarning: The `lr` argument is deprecated, use `learning_rate` instead.\n",
            "  super(Adam, self).__init__(name, **kwargs)\n",
            "\n"
          ]
        },
        {
          "output_type": "stream",
          "name": "stdout",
          "text": [
            "\n",
            "\n",
            "Tested 346/1500 iterations.\n",
            "Best MAE - Validation Dataset\n",
            "  MAE: 3.1 | sMAPE: 11.63 %\n",
            "\n",
            "Best MAE - Test Dataset\n",
            "  MAE: 4.2 | sMAPE: 20.58 %\n",
            " 23%|██▎       | 346/1500 [4:01:27<11:28:59, 35.82s/it, best loss: 3.0607783264658908]"
          ]
        },
        {
          "output_type": "stream",
          "name": "stderr",
          "text": [
            "/usr/local/lib/python3.7/dist-packages/keras/optimizer_v2/adam.py:105: UserWarning: The `lr` argument is deprecated, use `learning_rate` instead.\n",
            "  super(Adam, self).__init__(name, **kwargs)\n",
            "\n"
          ]
        },
        {
          "output_type": "stream",
          "name": "stdout",
          "text": [
            "\n",
            "\n",
            "Tested 347/1500 iterations.\n",
            "Best MAE - Validation Dataset\n",
            "  MAE: 3.1 | sMAPE: 11.63 %\n",
            "\n",
            "Best MAE - Test Dataset\n",
            "  MAE: 4.2 | sMAPE: 20.58 %\n",
            " 23%|██▎       | 347/1500 [4:02:01<11:19:37, 35.37s/it, best loss: 3.0607783264658908]"
          ]
        },
        {
          "output_type": "stream",
          "name": "stderr",
          "text": [
            "/usr/local/lib/python3.7/dist-packages/keras/optimizer_v2/adam.py:105: UserWarning: The `lr` argument is deprecated, use `learning_rate` instead.\n",
            "  super(Adam, self).__init__(name, **kwargs)\n",
            "\n",
            "/content/epftoolbox/epftoolbox/data/_wrangling.py:95: RuntimeWarning: overflow encountered in sinh\n",
            "  transformed_data = np.sinh(data)\n",
            "\n",
            "/content/epftoolbox/epftoolbox/data/_wrangling.py:67: RuntimeWarning: overflow encountered in multiply\n",
            "  transformed_data[:, i] = data[:, i] * self.mad[i] + self.median[i]\n",
            "\n"
          ]
        },
        {
          "output_type": "stream",
          "name": "stdout",
          "text": [
            "\r 23%|██▎       | 348/1500 [4:02:13<9:07:26, 28.51s/it, best loss: 3.0607783264658908] "
          ]
        },
        {
          "output_type": "stream",
          "name": "stderr",
          "text": [
            "/content/epftoolbox/epftoolbox/evaluation/_smape.py:118: RuntimeWarning: invalid value encountered in true_divide\n",
            "  return np.mean(np.abs(p_real - p_pred) / ((np.abs(p_real) + np.abs(p_pred)) / 2))\n",
            "\n"
          ]
        },
        {
          "output_type": "stream",
          "name": "stdout",
          "text": [
            "\n",
            "\n",
            "Tested 348/1500 iterations.\n",
            "Best MAE - Validation Dataset\n",
            "  MAE: 3.1 | sMAPE: 11.63 %\n",
            "\n",
            "Best MAE - Test Dataset\n",
            "  MAE: 4.2 | sMAPE: 20.58 %\n",
            " 23%|██▎       | 348/1500 [4:02:13<9:07:26, 28.51s/it, best loss: 3.0607783264658908]"
          ]
        },
        {
          "output_type": "stream",
          "name": "stderr",
          "text": [
            "/usr/local/lib/python3.7/dist-packages/keras/optimizer_v2/adam.py:105: UserWarning: The `lr` argument is deprecated, use `learning_rate` instead.\n",
            "  super(Adam, self).__init__(name, **kwargs)\n",
            "\n"
          ]
        },
        {
          "output_type": "stream",
          "name": "stdout",
          "text": [
            "\n",
            "\n",
            "Tested 349/1500 iterations.\n",
            "Best MAE - Validation Dataset\n",
            "  MAE: 3.1 | sMAPE: 11.63 %\n",
            "\n",
            "Best MAE - Test Dataset\n",
            "  MAE: 4.2 | sMAPE: 20.58 %\n",
            " 23%|██▎       | 349/1500 [4:02:59<10:46:29, 33.70s/it, best loss: 3.0607783264658908]"
          ]
        },
        {
          "output_type": "stream",
          "name": "stderr",
          "text": [
            "/usr/local/lib/python3.7/dist-packages/keras/optimizer_v2/adam.py:105: UserWarning: The `lr` argument is deprecated, use `learning_rate` instead.\n",
            "  super(Adam, self).__init__(name, **kwargs)\n",
            "\n"
          ]
        },
        {
          "output_type": "stream",
          "name": "stdout",
          "text": [
            "\n",
            "\n",
            "Tested 350/1500 iterations.\n",
            "Best MAE - Validation Dataset\n",
            "  MAE: 3.1 | sMAPE: 11.63 %\n",
            "\n",
            "Best MAE - Test Dataset\n",
            "  MAE: 4.2 | sMAPE: 20.58 %\n",
            " 23%|██▎       | 350/1500 [4:04:11<14:21:46, 44.96s/it, best loss: 3.0607783264658908]"
          ]
        },
        {
          "output_type": "stream",
          "name": "stderr",
          "text": [
            "/usr/local/lib/python3.7/dist-packages/keras/optimizer_v2/adam.py:105: UserWarning: The `lr` argument is deprecated, use `learning_rate` instead.\n",
            "  super(Adam, self).__init__(name, **kwargs)\n",
            "\n"
          ]
        },
        {
          "output_type": "stream",
          "name": "stdout",
          "text": [
            "\n",
            "\n",
            "Tested 351/1500 iterations.\n",
            "Best MAE - Validation Dataset\n",
            "  MAE: 3.1 | sMAPE: 11.63 %\n",
            "\n",
            "Best MAE - Test Dataset\n",
            "  MAE: 4.2 | sMAPE: 20.58 %\n",
            " 23%|██▎       | 351/1500 [4:05:25<17:11:19, 53.85s/it, best loss: 3.0607783264658908]"
          ]
        },
        {
          "output_type": "stream",
          "name": "stderr",
          "text": [
            "/usr/local/lib/python3.7/dist-packages/keras/optimizer_v2/adam.py:105: UserWarning: The `lr` argument is deprecated, use `learning_rate` instead.\n",
            "  super(Adam, self).__init__(name, **kwargs)\n",
            "\n"
          ]
        },
        {
          "output_type": "stream",
          "name": "stdout",
          "text": [
            "\n",
            "\n",
            "Tested 352/1500 iterations.\n",
            "Best MAE - Validation Dataset\n",
            "  MAE: 3.1 | sMAPE: 11.63 %\n",
            "\n",
            "Best MAE - Test Dataset\n",
            "  MAE: 4.2 | sMAPE: 20.58 %\n",
            " 23%|██▎       | 352/1500 [4:06:21<17:22:59, 54.51s/it, best loss: 3.0607783264658908]"
          ]
        },
        {
          "output_type": "stream",
          "name": "stderr",
          "text": [
            "/usr/local/lib/python3.7/dist-packages/keras/optimizer_v2/adam.py:105: UserWarning: The `lr` argument is deprecated, use `learning_rate` instead.\n",
            "  super(Adam, self).__init__(name, **kwargs)\n",
            "\n"
          ]
        },
        {
          "output_type": "stream",
          "name": "stdout",
          "text": [
            "\n",
            "\n",
            "Tested 353/1500 iterations.\n",
            "Best MAE - Validation Dataset\n",
            "  MAE: 3.1 | sMAPE: 11.63 %\n",
            "\n",
            "Best MAE - Test Dataset\n",
            "  MAE: 4.2 | sMAPE: 20.58 %\n",
            " 24%|██▎       | 353/1500 [4:06:44<14:21:12, 45.05s/it, best loss: 3.0607783264658908]"
          ]
        },
        {
          "output_type": "stream",
          "name": "stderr",
          "text": [
            "/usr/local/lib/python3.7/dist-packages/keras/optimizer_v2/adam.py:105: UserWarning: The `lr` argument is deprecated, use `learning_rate` instead.\n",
            "  super(Adam, self).__init__(name, **kwargs)\n",
            "\n"
          ]
        },
        {
          "output_type": "stream",
          "name": "stdout",
          "text": [
            "\n",
            "\n",
            "Tested 354/1500 iterations.\n",
            "Best MAE - Validation Dataset\n",
            "  MAE: 3.1 | sMAPE: 11.63 %\n",
            "\n",
            "Best MAE - Test Dataset\n",
            "  MAE: 4.2 | sMAPE: 20.58 %\n",
            " 24%|██▎       | 354/1500 [4:06:51<10:44:06, 33.72s/it, best loss: 3.0607783264658908]"
          ]
        },
        {
          "output_type": "stream",
          "name": "stderr",
          "text": [
            "/usr/local/lib/python3.7/dist-packages/keras/optimizer_v2/adam.py:105: UserWarning: The `lr` argument is deprecated, use `learning_rate` instead.\n",
            "  super(Adam, self).__init__(name, **kwargs)\n",
            "\n"
          ]
        },
        {
          "output_type": "stream",
          "name": "stdout",
          "text": [
            "\n",
            "\n",
            "Tested 355/1500 iterations.\n",
            "Best MAE - Validation Dataset\n",
            "  MAE: 3.1 | sMAPE: 11.63 %\n",
            "\n",
            "Best MAE - Test Dataset\n",
            "  MAE: 4.2 | sMAPE: 20.58 %\n",
            " 24%|██▎       | 355/1500 [4:07:49<12:59:13, 40.83s/it, best loss: 3.0607783264658908]"
          ]
        },
        {
          "output_type": "stream",
          "name": "stderr",
          "text": [
            "/usr/local/lib/python3.7/dist-packages/keras/optimizer_v2/adam.py:105: UserWarning: The `lr` argument is deprecated, use `learning_rate` instead.\n",
            "  super(Adam, self).__init__(name, **kwargs)\n",
            "\n"
          ]
        },
        {
          "output_type": "stream",
          "name": "stdout",
          "text": [
            "\n",
            "\n",
            "Tested 356/1500 iterations.\n",
            "Best MAE - Validation Dataset\n",
            "  MAE: 3.1 | sMAPE: 11.63 %\n",
            "\n",
            "Best MAE - Test Dataset\n",
            "  MAE: 4.2 | sMAPE: 20.58 %\n",
            " 24%|██▎       | 356/1500 [4:08:55<15:22:19, 48.37s/it, best loss: 3.0607783264658908]"
          ]
        },
        {
          "output_type": "stream",
          "name": "stderr",
          "text": [
            "/usr/local/lib/python3.7/dist-packages/keras/optimizer_v2/adam.py:105: UserWarning: The `lr` argument is deprecated, use `learning_rate` instead.\n",
            "  super(Adam, self).__init__(name, **kwargs)\n",
            "\n"
          ]
        },
        {
          "output_type": "stream",
          "name": "stdout",
          "text": [
            "\n",
            "\n",
            "Tested 357/1500 iterations.\n",
            "Best MAE - Validation Dataset\n",
            "  MAE: 3.1 | sMAPE: 11.63 %\n",
            "\n",
            "Best MAE - Test Dataset\n",
            "  MAE: 4.2 | sMAPE: 20.58 %\n",
            " 24%|██▍       | 357/1500 [4:09:15<12:39:34, 39.87s/it, best loss: 3.0607783264658908]"
          ]
        },
        {
          "output_type": "stream",
          "name": "stderr",
          "text": [
            "/usr/local/lib/python3.7/dist-packages/keras/optimizer_v2/adam.py:105: UserWarning: The `lr` argument is deprecated, use `learning_rate` instead.\n",
            "  super(Adam, self).__init__(name, **kwargs)\n",
            "\n"
          ]
        },
        {
          "output_type": "stream",
          "name": "stdout",
          "text": [
            "\n",
            "\n",
            "Tested 358/1500 iterations.\n",
            "Best MAE - Validation Dataset\n",
            "  MAE: 3.1 | sMAPE: 11.63 %\n",
            "\n",
            "Best MAE - Test Dataset\n",
            "  MAE: 4.2 | sMAPE: 20.58 %\n",
            " 24%|██▍       | 358/1500 [4:10:06<13:40:48, 43.13s/it, best loss: 3.0607783264658908]"
          ]
        },
        {
          "output_type": "stream",
          "name": "stderr",
          "text": [
            "/usr/local/lib/python3.7/dist-packages/keras/optimizer_v2/adam.py:105: UserWarning: The `lr` argument is deprecated, use `learning_rate` instead.\n",
            "  super(Adam, self).__init__(name, **kwargs)\n",
            "\n"
          ]
        },
        {
          "output_type": "stream",
          "name": "stdout",
          "text": [
            "\n",
            "\n",
            "Tested 359/1500 iterations.\n",
            "Best MAE - Validation Dataset\n",
            "  MAE: 3.1 | sMAPE: 11.63 %\n",
            "\n",
            "Best MAE - Test Dataset\n",
            "  MAE: 4.2 | sMAPE: 20.58 %\n",
            " 24%|██▍       | 359/1500 [4:10:36<12:28:13, 39.35s/it, best loss: 3.0607783264658908]"
          ]
        },
        {
          "output_type": "stream",
          "name": "stderr",
          "text": [
            "/usr/local/lib/python3.7/dist-packages/keras/optimizer_v2/adam.py:105: UserWarning: The `lr` argument is deprecated, use `learning_rate` instead.\n",
            "  super(Adam, self).__init__(name, **kwargs)\n",
            "\n"
          ]
        },
        {
          "output_type": "stream",
          "name": "stdout",
          "text": [
            "\n",
            "\n",
            "Tested 360/1500 iterations.\n",
            "Best MAE - Validation Dataset\n",
            "  MAE: 3.1 | sMAPE: 11.63 %\n",
            "\n",
            "Best MAE - Test Dataset\n",
            "  MAE: 4.2 | sMAPE: 20.58 %\n",
            " 24%|██▍       | 360/1500 [4:11:20<12:51:59, 40.63s/it, best loss: 3.0607783264658908]"
          ]
        },
        {
          "output_type": "stream",
          "name": "stderr",
          "text": [
            "/usr/local/lib/python3.7/dist-packages/keras/optimizer_v2/adam.py:105: UserWarning: The `lr` argument is deprecated, use `learning_rate` instead.\n",
            "  super(Adam, self).__init__(name, **kwargs)\n",
            "\n"
          ]
        },
        {
          "output_type": "stream",
          "name": "stdout",
          "text": [
            "\n",
            "\n",
            "Tested 361/1500 iterations.\n",
            "Best MAE - Validation Dataset\n",
            "  MAE: 3.1 | sMAPE: 11.63 %\n",
            "\n",
            "Best MAE - Test Dataset\n",
            "  MAE: 4.2 | sMAPE: 20.58 %\n",
            " 24%|██▍       | 361/1500 [4:12:06<13:25:52, 42.45s/it, best loss: 3.0607783264658908]"
          ]
        },
        {
          "output_type": "stream",
          "name": "stderr",
          "text": [
            "/usr/local/lib/python3.7/dist-packages/keras/optimizer_v2/adam.py:105: UserWarning: The `lr` argument is deprecated, use `learning_rate` instead.\n",
            "  super(Adam, self).__init__(name, **kwargs)\n",
            "\n"
          ]
        },
        {
          "output_type": "stream",
          "name": "stdout",
          "text": [
            "\n",
            "\n",
            "Tested 362/1500 iterations.\n",
            "Best MAE - Validation Dataset\n",
            "  MAE: 3.1 | sMAPE: 11.63 %\n",
            "\n",
            "Best MAE - Test Dataset\n",
            "  MAE: 4.2 | sMAPE: 20.58 %\n",
            " 24%|██▍       | 362/1500 [4:12:54<13:54:05, 43.98s/it, best loss: 3.0607783264658908]"
          ]
        },
        {
          "output_type": "stream",
          "name": "stderr",
          "text": [
            "/usr/local/lib/python3.7/dist-packages/keras/optimizer_v2/adam.py:105: UserWarning: The `lr` argument is deprecated, use `learning_rate` instead.\n",
            "  super(Adam, self).__init__(name, **kwargs)\n",
            "\n"
          ]
        },
        {
          "output_type": "stream",
          "name": "stdout",
          "text": [
            "\n",
            "\n",
            "Tested 363/1500 iterations.\n",
            "Best MAE - Validation Dataset\n",
            "  MAE: 3.1 | sMAPE: 11.63 %\n",
            "\n",
            "Best MAE - Test Dataset\n",
            "  MAE: 4.2 | sMAPE: 20.58 %\n",
            " 24%|██▍       | 363/1500 [4:13:21<12:14:52, 38.78s/it, best loss: 3.0607783264658908]"
          ]
        },
        {
          "output_type": "stream",
          "name": "stderr",
          "text": [
            "/usr/local/lib/python3.7/dist-packages/keras/optimizer_v2/adam.py:105: UserWarning: The `lr` argument is deprecated, use `learning_rate` instead.\n",
            "  super(Adam, self).__init__(name, **kwargs)\n",
            "\n"
          ]
        },
        {
          "output_type": "stream",
          "name": "stdout",
          "text": [
            "\n",
            "\n",
            "Tested 364/1500 iterations.\n",
            "Best MAE - Validation Dataset\n",
            "  MAE: 3.0 | sMAPE: 11.40 %\n",
            "\n",
            "Best MAE - Test Dataset\n",
            "  MAE: 3.9 | sMAPE: 17.95 %\n",
            " 24%|██▍       | 364/1500 [4:14:19<14:08:14, 44.80s/it, best loss: 3.0331621959268817]"
          ]
        },
        {
          "output_type": "stream",
          "name": "stderr",
          "text": [
            "/usr/local/lib/python3.7/dist-packages/keras/optimizer_v2/adam.py:105: UserWarning: The `lr` argument is deprecated, use `learning_rate` instead.\n",
            "  super(Adam, self).__init__(name, **kwargs)\n",
            "\n"
          ]
        },
        {
          "output_type": "stream",
          "name": "stdout",
          "text": [
            "\n",
            "\n",
            "Tested 365/1500 iterations.\n",
            "Best MAE - Validation Dataset\n",
            "  MAE: 3.0 | sMAPE: 11.40 %\n",
            "\n",
            "Best MAE - Test Dataset\n",
            "  MAE: 3.9 | sMAPE: 17.95 %\n",
            " 24%|██▍       | 365/1500 [4:15:20<15:38:08, 49.59s/it, best loss: 3.0331621959268817]"
          ]
        },
        {
          "output_type": "stream",
          "name": "stderr",
          "text": [
            "/usr/local/lib/python3.7/dist-packages/keras/optimizer_v2/adam.py:105: UserWarning: The `lr` argument is deprecated, use `learning_rate` instead.\n",
            "  super(Adam, self).__init__(name, **kwargs)\n",
            "\n"
          ]
        },
        {
          "output_type": "stream",
          "name": "stdout",
          "text": [
            "\n",
            "\n",
            "Tested 366/1500 iterations.\n",
            "Best MAE - Validation Dataset\n",
            "  MAE: 3.0 | sMAPE: 11.40 %\n",
            "\n",
            "Best MAE - Test Dataset\n",
            "  MAE: 3.9 | sMAPE: 17.95 %\n",
            " 24%|██▍       | 366/1500 [4:16:31<17:34:53, 55.81s/it, best loss: 3.0331621959268817]"
          ]
        },
        {
          "output_type": "stream",
          "name": "stderr",
          "text": [
            "/usr/local/lib/python3.7/dist-packages/keras/optimizer_v2/adam.py:105: UserWarning: The `lr` argument is deprecated, use `learning_rate` instead.\n",
            "  super(Adam, self).__init__(name, **kwargs)\n",
            "\n"
          ]
        },
        {
          "output_type": "stream",
          "name": "stdout",
          "text": [
            "\n",
            "\n",
            "Tested 367/1500 iterations.\n",
            "Best MAE - Validation Dataset\n",
            "  MAE: 3.0 | sMAPE: 11.40 %\n",
            "\n",
            "Best MAE - Test Dataset\n",
            "  MAE: 3.9 | sMAPE: 17.95 %\n",
            " 24%|██▍       | 367/1500 [4:17:14<16:23:17, 52.07s/it, best loss: 3.0331621959268817]"
          ]
        },
        {
          "output_type": "stream",
          "name": "stderr",
          "text": [
            "/usr/local/lib/python3.7/dist-packages/keras/optimizer_v2/adam.py:105: UserWarning: The `lr` argument is deprecated, use `learning_rate` instead.\n",
            "  super(Adam, self).__init__(name, **kwargs)\n",
            "\n"
          ]
        },
        {
          "output_type": "stream",
          "name": "stdout",
          "text": [
            "\n",
            "\n",
            "Tested 368/1500 iterations.\n",
            "Best MAE - Validation Dataset\n",
            "  MAE: 3.0 | sMAPE: 11.40 %\n",
            "\n",
            "Best MAE - Test Dataset\n",
            "  MAE: 3.9 | sMAPE: 17.95 %\n",
            " 25%|██▍       | 368/1500 [4:17:22<12:12:47, 38.84s/it, best loss: 3.0331621959268817]"
          ]
        },
        {
          "output_type": "stream",
          "name": "stderr",
          "text": [
            "/usr/local/lib/python3.7/dist-packages/keras/optimizer_v2/adam.py:105: UserWarning: The `lr` argument is deprecated, use `learning_rate` instead.\n",
            "  super(Adam, self).__init__(name, **kwargs)\n",
            "\n"
          ]
        },
        {
          "output_type": "stream",
          "name": "stdout",
          "text": [
            "\n",
            "\n",
            "Tested 369/1500 iterations.\n",
            "Best MAE - Validation Dataset\n",
            "  MAE: 3.0 | sMAPE: 11.40 %\n",
            "\n",
            "Best MAE - Test Dataset\n",
            "  MAE: 3.9 | sMAPE: 17.95 %\n",
            " 25%|██▍       | 369/1500 [4:18:05<12:35:08, 40.06s/it, best loss: 3.0331621959268817]"
          ]
        },
        {
          "output_type": "stream",
          "name": "stderr",
          "text": [
            "/usr/local/lib/python3.7/dist-packages/keras/optimizer_v2/adam.py:105: UserWarning: The `lr` argument is deprecated, use `learning_rate` instead.\n",
            "  super(Adam, self).__init__(name, **kwargs)\n",
            "\n"
          ]
        },
        {
          "output_type": "stream",
          "name": "stdout",
          "text": [
            "\n",
            "\n",
            "Tested 370/1500 iterations.\n",
            "Best MAE - Validation Dataset\n",
            "  MAE: 3.0 | sMAPE: 11.40 %\n",
            "\n",
            "Best MAE - Test Dataset\n",
            "  MAE: 3.9 | sMAPE: 17.95 %\n",
            " 25%|██▍       | 370/1500 [4:18:54<13:23:53, 42.68s/it, best loss: 3.0331621959268817]"
          ]
        },
        {
          "output_type": "stream",
          "name": "stderr",
          "text": [
            "/usr/local/lib/python3.7/dist-packages/keras/optimizer_v2/adam.py:105: UserWarning: The `lr` argument is deprecated, use `learning_rate` instead.\n",
            "  super(Adam, self).__init__(name, **kwargs)\n",
            "\n"
          ]
        },
        {
          "output_type": "stream",
          "name": "stdout",
          "text": [
            "\n",
            "\n",
            "Tested 371/1500 iterations.\n",
            "Best MAE - Validation Dataset\n",
            "  MAE: 3.0 | sMAPE: 11.40 %\n",
            "\n",
            "Best MAE - Test Dataset\n",
            "  MAE: 3.9 | sMAPE: 17.95 %\n",
            " 25%|██▍       | 371/1500 [4:20:32<18:34:54, 59.25s/it, best loss: 3.0331621959268817]"
          ]
        },
        {
          "output_type": "stream",
          "name": "stderr",
          "text": [
            "/usr/local/lib/python3.7/dist-packages/keras/optimizer_v2/adam.py:105: UserWarning: The `lr` argument is deprecated, use `learning_rate` instead.\n",
            "  super(Adam, self).__init__(name, **kwargs)\n",
            "\n"
          ]
        },
        {
          "output_type": "stream",
          "name": "stdout",
          "text": [
            "\n",
            "\n",
            "Tested 372/1500 iterations.\n",
            "Best MAE - Validation Dataset\n",
            "  MAE: 3.0 | sMAPE: 11.40 %\n",
            "\n",
            "Best MAE - Test Dataset\n",
            "  MAE: 3.9 | sMAPE: 17.95 %\n",
            " 25%|██▍       | 372/1500 [4:21:00<15:41:57, 50.10s/it, best loss: 3.0331621959268817]"
          ]
        },
        {
          "output_type": "stream",
          "name": "stderr",
          "text": [
            "/usr/local/lib/python3.7/dist-packages/keras/optimizer_v2/adam.py:105: UserWarning: The `lr` argument is deprecated, use `learning_rate` instead.\n",
            "  super(Adam, self).__init__(name, **kwargs)\n",
            "\n"
          ]
        },
        {
          "output_type": "stream",
          "name": "stdout",
          "text": [
            "\n",
            "\n",
            "Tested 373/1500 iterations.\n",
            "Best MAE - Validation Dataset\n",
            "  MAE: 3.0 | sMAPE: 11.40 %\n",
            "\n",
            "Best MAE - Test Dataset\n",
            "  MAE: 3.9 | sMAPE: 17.95 %\n",
            " 25%|██▍       | 373/1500 [4:21:51<15:42:35, 50.18s/it, best loss: 3.0331621959268817]"
          ]
        },
        {
          "output_type": "stream",
          "name": "stderr",
          "text": [
            "/usr/local/lib/python3.7/dist-packages/keras/optimizer_v2/adam.py:105: UserWarning: The `lr` argument is deprecated, use `learning_rate` instead.\n",
            "  super(Adam, self).__init__(name, **kwargs)\n",
            "\n"
          ]
        },
        {
          "output_type": "stream",
          "name": "stdout",
          "text": [
            "\n",
            "\n",
            "Tested 374/1500 iterations.\n",
            "Best MAE - Validation Dataset\n",
            "  MAE: 3.0 | sMAPE: 11.40 %\n",
            "\n",
            "Best MAE - Test Dataset\n",
            "  MAE: 3.9 | sMAPE: 17.95 %\n",
            " 25%|██▍       | 374/1500 [4:22:15<13:14:14, 42.32s/it, best loss: 3.0331621959268817]"
          ]
        },
        {
          "output_type": "stream",
          "name": "stderr",
          "text": [
            "/usr/local/lib/python3.7/dist-packages/keras/optimizer_v2/adam.py:105: UserWarning: The `lr` argument is deprecated, use `learning_rate` instead.\n",
            "  super(Adam, self).__init__(name, **kwargs)\n",
            "\n"
          ]
        },
        {
          "output_type": "stream",
          "name": "stdout",
          "text": [
            "\n",
            "\n",
            "Tested 375/1500 iterations.\n",
            "Best MAE - Validation Dataset\n",
            "  MAE: 3.0 | sMAPE: 11.40 %\n",
            "\n",
            "Best MAE - Test Dataset\n",
            "  MAE: 3.9 | sMAPE: 17.95 %\n",
            " 25%|██▌       | 375/1500 [4:23:07<14:09:06, 45.29s/it, best loss: 3.0331621959268817]"
          ]
        },
        {
          "output_type": "stream",
          "name": "stderr",
          "text": [
            "/usr/local/lib/python3.7/dist-packages/keras/optimizer_v2/adam.py:105: UserWarning: The `lr` argument is deprecated, use `learning_rate` instead.\n",
            "  super(Adam, self).__init__(name, **kwargs)\n",
            "\n"
          ]
        },
        {
          "output_type": "stream",
          "name": "stdout",
          "text": [
            "\n",
            "\n",
            "Tested 376/1500 iterations.\n",
            "Best MAE - Validation Dataset\n",
            "  MAE: 3.0 | sMAPE: 11.40 %\n",
            "\n",
            "Best MAE - Test Dataset\n",
            "  MAE: 3.9 | sMAPE: 17.95 %\n",
            " 25%|██▌       | 376/1500 [4:24:10<15:49:27, 50.68s/it, best loss: 3.0331621959268817]"
          ]
        },
        {
          "output_type": "stream",
          "name": "stderr",
          "text": [
            "/usr/local/lib/python3.7/dist-packages/keras/optimizer_v2/adam.py:105: UserWarning: The `lr` argument is deprecated, use `learning_rate` instead.\n",
            "  super(Adam, self).__init__(name, **kwargs)\n",
            "\n"
          ]
        },
        {
          "output_type": "stream",
          "name": "stdout",
          "text": [
            "\n",
            "\n",
            "Tested 377/1500 iterations.\n",
            "Best MAE - Validation Dataset\n",
            "  MAE: 3.0 | sMAPE: 11.40 %\n",
            "\n",
            "Best MAE - Test Dataset\n",
            "  MAE: 3.9 | sMAPE: 17.95 %\n",
            " 25%|██▌       | 377/1500 [4:24:53<15:06:45, 48.45s/it, best loss: 3.0331621959268817]"
          ]
        },
        {
          "output_type": "stream",
          "name": "stderr",
          "text": [
            "/usr/local/lib/python3.7/dist-packages/keras/optimizer_v2/adam.py:105: UserWarning: The `lr` argument is deprecated, use `learning_rate` instead.\n",
            "  super(Adam, self).__init__(name, **kwargs)\n",
            "\n"
          ]
        },
        {
          "output_type": "stream",
          "name": "stdout",
          "text": [
            "\n",
            "\n",
            "Tested 378/1500 iterations.\n",
            "Best MAE - Validation Dataset\n",
            "  MAE: 3.0 | sMAPE: 11.40 %\n",
            "\n",
            "Best MAE - Test Dataset\n",
            "  MAE: 3.9 | sMAPE: 17.95 %\n",
            " 25%|██▌       | 378/1500 [4:26:42<20:46:08, 66.64s/it, best loss: 3.0331621959268817]"
          ]
        },
        {
          "output_type": "stream",
          "name": "stderr",
          "text": [
            "/usr/local/lib/python3.7/dist-packages/keras/optimizer_v2/adam.py:105: UserWarning: The `lr` argument is deprecated, use `learning_rate` instead.\n",
            "  super(Adam, self).__init__(name, **kwargs)\n",
            "\n"
          ]
        },
        {
          "output_type": "stream",
          "name": "stdout",
          "text": [
            "\n",
            "\n",
            "Tested 379/1500 iterations.\n",
            "Best MAE - Validation Dataset\n",
            "  MAE: 3.0 | sMAPE: 11.40 %\n",
            "\n",
            "Best MAE - Test Dataset\n",
            "  MAE: 3.9 | sMAPE: 17.95 %\n",
            " 25%|██▌       | 379/1500 [4:27:00<16:08:43, 51.85s/it, best loss: 3.0331621959268817]"
          ]
        },
        {
          "output_type": "stream",
          "name": "stderr",
          "text": [
            "/usr/local/lib/python3.7/dist-packages/keras/optimizer_v2/adam.py:105: UserWarning: The `lr` argument is deprecated, use `learning_rate` instead.\n",
            "  super(Adam, self).__init__(name, **kwargs)\n",
            "\n"
          ]
        },
        {
          "output_type": "stream",
          "name": "stdout",
          "text": [
            "\n",
            "\n",
            "Tested 380/1500 iterations.\n",
            "Best MAE - Validation Dataset\n",
            "  MAE: 3.0 | sMAPE: 11.40 %\n",
            "\n",
            "Best MAE - Test Dataset\n",
            "  MAE: 3.9 | sMAPE: 17.95 %\n",
            " 25%|██▌       | 380/1500 [4:27:30<14:08:50, 45.47s/it, best loss: 3.0331621959268817]"
          ]
        },
        {
          "output_type": "stream",
          "name": "stderr",
          "text": [
            "/usr/local/lib/python3.7/dist-packages/keras/optimizer_v2/adam.py:105: UserWarning: The `lr` argument is deprecated, use `learning_rate` instead.\n",
            "  super(Adam, self).__init__(name, **kwargs)\n",
            "\n"
          ]
        },
        {
          "output_type": "stream",
          "name": "stdout",
          "text": [
            "\n",
            "\n",
            "Tested 381/1500 iterations.\n",
            "Best MAE - Validation Dataset\n",
            "  MAE: 3.0 | sMAPE: 11.40 %\n",
            "\n",
            "Best MAE - Test Dataset\n",
            "  MAE: 3.9 | sMAPE: 17.95 %\n",
            " 25%|██▌       | 381/1500 [4:28:45<16:49:14, 54.11s/it, best loss: 3.0331621959268817]"
          ]
        },
        {
          "output_type": "stream",
          "name": "stderr",
          "text": [
            "/usr/local/lib/python3.7/dist-packages/keras/optimizer_v2/adam.py:105: UserWarning: The `lr` argument is deprecated, use `learning_rate` instead.\n",
            "  super(Adam, self).__init__(name, **kwargs)\n",
            "\n"
          ]
        },
        {
          "output_type": "stream",
          "name": "stdout",
          "text": [
            "\n",
            "\n",
            "Tested 382/1500 iterations.\n",
            "Best MAE - Validation Dataset\n",
            "  MAE: 3.0 | sMAPE: 11.40 %\n",
            "\n",
            "Best MAE - Test Dataset\n",
            "  MAE: 3.9 | sMAPE: 17.95 %\n",
            " 25%|██▌       | 382/1500 [4:29:25<15:33:33, 50.10s/it, best loss: 3.0331621959268817]"
          ]
        },
        {
          "output_type": "stream",
          "name": "stderr",
          "text": [
            "/usr/local/lib/python3.7/dist-packages/keras/optimizer_v2/adam.py:105: UserWarning: The `lr` argument is deprecated, use `learning_rate` instead.\n",
            "  super(Adam, self).__init__(name, **kwargs)\n",
            "\n"
          ]
        },
        {
          "output_type": "stream",
          "name": "stdout",
          "text": [
            "\n",
            "\n",
            "Tested 383/1500 iterations.\n",
            "Best MAE - Validation Dataset\n",
            "  MAE: 3.0 | sMAPE: 11.40 %\n",
            "\n",
            "Best MAE - Test Dataset\n",
            "  MAE: 3.9 | sMAPE: 17.95 %\n",
            " 26%|██▌       | 383/1500 [4:29:46<12:49:38, 41.34s/it, best loss: 3.0331621959268817]"
          ]
        },
        {
          "output_type": "stream",
          "name": "stderr",
          "text": [
            "/usr/local/lib/python3.7/dist-packages/keras/optimizer_v2/adam.py:105: UserWarning: The `lr` argument is deprecated, use `learning_rate` instead.\n",
            "  super(Adam, self).__init__(name, **kwargs)\n",
            "\n"
          ]
        },
        {
          "output_type": "stream",
          "name": "stdout",
          "text": [
            "\n",
            "\n",
            "Tested 384/1500 iterations.\n",
            "Best MAE - Validation Dataset\n",
            "  MAE: 3.0 | sMAPE: 11.40 %\n",
            "\n",
            "Best MAE - Test Dataset\n",
            "  MAE: 3.9 | sMAPE: 17.95 %\n",
            " 26%|██▌       | 384/1500 [4:30:56<15:29:31, 49.97s/it, best loss: 3.0331621959268817]"
          ]
        },
        {
          "output_type": "stream",
          "name": "stderr",
          "text": [
            "/usr/local/lib/python3.7/dist-packages/keras/optimizer_v2/adam.py:105: UserWarning: The `lr` argument is deprecated, use `learning_rate` instead.\n",
            "  super(Adam, self).__init__(name, **kwargs)\n",
            "\n"
          ]
        },
        {
          "output_type": "stream",
          "name": "stdout",
          "text": [
            "\n",
            "\n",
            "Tested 385/1500 iterations.\n",
            "Best MAE - Validation Dataset\n",
            "  MAE: 3.0 | sMAPE: 11.40 %\n",
            "\n",
            "Best MAE - Test Dataset\n",
            "  MAE: 3.9 | sMAPE: 17.95 %\n",
            " 26%|██▌       | 385/1500 [4:31:52<16:00:52, 51.71s/it, best loss: 3.0331621959268817]"
          ]
        },
        {
          "output_type": "stream",
          "name": "stderr",
          "text": [
            "/usr/local/lib/python3.7/dist-packages/keras/optimizer_v2/adam.py:105: UserWarning: The `lr` argument is deprecated, use `learning_rate` instead.\n",
            "  super(Adam, self).__init__(name, **kwargs)\n",
            "\n"
          ]
        },
        {
          "output_type": "stream",
          "name": "stdout",
          "text": [
            "\n",
            "\n",
            "Tested 386/1500 iterations.\n",
            "Best MAE - Validation Dataset\n",
            "  MAE: 3.0 | sMAPE: 11.40 %\n",
            "\n",
            "Best MAE - Test Dataset\n",
            "  MAE: 3.9 | sMAPE: 17.95 %\n",
            " 26%|██▌       | 386/1500 [4:32:48<16:24:59, 53.05s/it, best loss: 3.0331621959268817]"
          ]
        },
        {
          "output_type": "stream",
          "name": "stderr",
          "text": [
            "/usr/local/lib/python3.7/dist-packages/keras/optimizer_v2/adam.py:105: UserWarning: The `lr` argument is deprecated, use `learning_rate` instead.\n",
            "  super(Adam, self).__init__(name, **kwargs)\n",
            "\n"
          ]
        },
        {
          "output_type": "stream",
          "name": "stdout",
          "text": [
            "\n",
            "\n",
            "Tested 387/1500 iterations.\n",
            "Best MAE - Validation Dataset\n",
            "  MAE: 3.0 | sMAPE: 11.40 %\n",
            "\n",
            "Best MAE - Test Dataset\n",
            "  MAE: 3.9 | sMAPE: 17.95 %\n",
            " 26%|██▌       | 387/1500 [4:33:17<14:08:42, 45.75s/it, best loss: 3.0331621959268817]"
          ]
        },
        {
          "output_type": "stream",
          "name": "stderr",
          "text": [
            "/usr/local/lib/python3.7/dist-packages/keras/optimizer_v2/adam.py:105: UserWarning: The `lr` argument is deprecated, use `learning_rate` instead.\n",
            "  super(Adam, self).__init__(name, **kwargs)\n",
            "\n"
          ]
        },
        {
          "output_type": "stream",
          "name": "stdout",
          "text": [
            "\n",
            "\n",
            "Tested 388/1500 iterations.\n",
            "Best MAE - Validation Dataset\n",
            "  MAE: 3.0 | sMAPE: 11.40 %\n",
            "\n",
            "Best MAE - Test Dataset\n",
            "  MAE: 3.9 | sMAPE: 17.95 %\n",
            " 26%|██▌       | 388/1500 [4:33:46<12:34:58, 40.74s/it, best loss: 3.0331621959268817]"
          ]
        },
        {
          "output_type": "stream",
          "name": "stderr",
          "text": [
            "/usr/local/lib/python3.7/dist-packages/keras/optimizer_v2/adam.py:105: UserWarning: The `lr` argument is deprecated, use `learning_rate` instead.\n",
            "  super(Adam, self).__init__(name, **kwargs)\n",
            "\n"
          ]
        },
        {
          "output_type": "stream",
          "name": "stdout",
          "text": [
            "\n",
            "\n",
            "Tested 389/1500 iterations.\n",
            "Best MAE - Validation Dataset\n",
            "  MAE: 3.0 | sMAPE: 11.40 %\n",
            "\n",
            "Best MAE - Test Dataset\n",
            "  MAE: 3.9 | sMAPE: 17.95 %\n",
            " 26%|██▌       | 389/1500 [4:34:31<12:57:36, 42.00s/it, best loss: 3.0331621959268817]"
          ]
        },
        {
          "output_type": "stream",
          "name": "stderr",
          "text": [
            "/usr/local/lib/python3.7/dist-packages/keras/optimizer_v2/adam.py:105: UserWarning: The `lr` argument is deprecated, use `learning_rate` instead.\n",
            "  super(Adam, self).__init__(name, **kwargs)\n",
            "\n"
          ]
        },
        {
          "output_type": "stream",
          "name": "stdout",
          "text": [
            "\n",
            "\n",
            "Tested 390/1500 iterations.\n",
            "Best MAE - Validation Dataset\n",
            "  MAE: 3.0 | sMAPE: 11.40 %\n",
            "\n",
            "Best MAE - Test Dataset\n",
            "  MAE: 3.9 | sMAPE: 17.95 %\n",
            " 26%|██▌       | 390/1500 [4:35:18<13:22:33, 43.38s/it, best loss: 3.0331621959268817]"
          ]
        },
        {
          "output_type": "stream",
          "name": "stderr",
          "text": [
            "/usr/local/lib/python3.7/dist-packages/keras/optimizer_v2/adam.py:105: UserWarning: The `lr` argument is deprecated, use `learning_rate` instead.\n",
            "  super(Adam, self).__init__(name, **kwargs)\n",
            "\n"
          ]
        },
        {
          "output_type": "stream",
          "name": "stdout",
          "text": [
            "\n",
            "\n",
            "Tested 391/1500 iterations.\n",
            "Best MAE - Validation Dataset\n",
            "  MAE: 3.0 | sMAPE: 11.40 %\n",
            "\n",
            "Best MAE - Test Dataset\n",
            "  MAE: 3.9 | sMAPE: 17.95 %\n",
            "\n",
            "\n",
            "Tested 392/1500 iterations.\n",
            "Best MAE - Validation Dataset\n",
            "  MAE: 3.0 | sMAPE: 11.40 %\n",
            "\n",
            "Best MAE - Test Dataset\n",
            "  MAE: 3.9 | sMAPE: 17.95 %\n",
            " 26%|██▌       | 392/1500 [4:36:30<12:46:17, 41.50s/it, best loss: 3.0331621959268817]"
          ]
        },
        {
          "output_type": "stream",
          "name": "stderr",
          "text": [
            "/usr/local/lib/python3.7/dist-packages/keras/optimizer_v2/adam.py:105: UserWarning: The `lr` argument is deprecated, use `learning_rate` instead.\n",
            "  super(Adam, self).__init__(name, **kwargs)\n",
            "\n"
          ]
        },
        {
          "output_type": "stream",
          "name": "stdout",
          "text": [
            "\n",
            "\n",
            "Tested 393/1500 iterations.\n",
            "Best MAE - Validation Dataset\n",
            "  MAE: 3.0 | sMAPE: 11.40 %\n",
            "\n",
            "Best MAE - Test Dataset\n",
            "  MAE: 3.9 | sMAPE: 17.95 %\n",
            " 26%|██▌       | 393/1500 [4:37:29<14:22:46, 46.76s/it, best loss: 3.0331621959268817]"
          ]
        },
        {
          "output_type": "stream",
          "name": "stderr",
          "text": [
            "/usr/local/lib/python3.7/dist-packages/keras/optimizer_v2/adam.py:105: UserWarning: The `lr` argument is deprecated, use `learning_rate` instead.\n",
            "  super(Adam, self).__init__(name, **kwargs)\n",
            "\n"
          ]
        },
        {
          "output_type": "stream",
          "name": "stdout",
          "text": [
            "\n",
            "\n",
            "Tested 394/1500 iterations.\n",
            "Best MAE - Validation Dataset\n",
            "  MAE: 3.0 | sMAPE: 11.40 %\n",
            "\n",
            "Best MAE - Test Dataset\n",
            "  MAE: 3.9 | sMAPE: 17.95 %\n",
            " 26%|██▋       | 394/1500 [4:38:29<15:38:48, 50.93s/it, best loss: 3.0331621959268817]"
          ]
        },
        {
          "output_type": "stream",
          "name": "stderr",
          "text": [
            "/usr/local/lib/python3.7/dist-packages/keras/optimizer_v2/adam.py:105: UserWarning: The `lr` argument is deprecated, use `learning_rate` instead.\n",
            "  super(Adam, self).__init__(name, **kwargs)\n",
            "\n"
          ]
        },
        {
          "output_type": "stream",
          "name": "stdout",
          "text": [
            "\n",
            "\n",
            "Tested 395/1500 iterations.\n",
            "Best MAE - Validation Dataset\n",
            "  MAE: 3.0 | sMAPE: 11.40 %\n",
            "\n",
            "Best MAE - Test Dataset\n",
            "  MAE: 3.9 | sMAPE: 17.95 %\n",
            " 26%|██▋       | 395/1500 [4:39:01<13:50:23, 45.09s/it, best loss: 3.0331621959268817]"
          ]
        },
        {
          "output_type": "stream",
          "name": "stderr",
          "text": [
            "/usr/local/lib/python3.7/dist-packages/keras/optimizer_v2/adam.py:105: UserWarning: The `lr` argument is deprecated, use `learning_rate` instead.\n",
            "  super(Adam, self).__init__(name, **kwargs)\n",
            "\n"
          ]
        },
        {
          "output_type": "stream",
          "name": "stdout",
          "text": [
            "\n",
            "\n",
            "Tested 396/1500 iterations.\n",
            "Best MAE - Validation Dataset\n",
            "  MAE: 3.0 | sMAPE: 11.40 %\n",
            "\n",
            "Best MAE - Test Dataset\n",
            "  MAE: 3.9 | sMAPE: 17.95 %\n",
            " 26%|██▋       | 396/1500 [4:39:33<12:36:47, 41.13s/it, best loss: 3.0331621959268817]"
          ]
        },
        {
          "output_type": "stream",
          "name": "stderr",
          "text": [
            "/usr/local/lib/python3.7/dist-packages/keras/optimizer_v2/adam.py:105: UserWarning: The `lr` argument is deprecated, use `learning_rate` instead.\n",
            "  super(Adam, self).__init__(name, **kwargs)\n",
            "\n"
          ]
        },
        {
          "output_type": "stream",
          "name": "stdout",
          "text": [
            "\n",
            "\n",
            "Tested 397/1500 iterations.\n",
            "Best MAE - Validation Dataset\n",
            "  MAE: 3.0 | sMAPE: 11.40 %\n",
            "\n",
            "Best MAE - Test Dataset\n",
            "  MAE: 3.9 | sMAPE: 17.95 %\n",
            " 26%|██▋       | 397/1500 [4:40:15<12:39:30, 41.31s/it, best loss: 3.0331621959268817]"
          ]
        },
        {
          "output_type": "stream",
          "name": "stderr",
          "text": [
            "/usr/local/lib/python3.7/dist-packages/keras/optimizer_v2/adam.py:105: UserWarning: The `lr` argument is deprecated, use `learning_rate` instead.\n",
            "  super(Adam, self).__init__(name, **kwargs)\n",
            "\n"
          ]
        },
        {
          "output_type": "stream",
          "name": "stdout",
          "text": [
            "\n",
            "\n",
            "Tested 398/1500 iterations.\n",
            "Best MAE - Validation Dataset\n",
            "  MAE: 3.0 | sMAPE: 11.40 %\n",
            "\n",
            "Best MAE - Test Dataset\n",
            "  MAE: 3.9 | sMAPE: 17.95 %\n",
            " 27%|██▋       | 398/1500 [4:41:03<13:17:54, 43.44s/it, best loss: 3.0331621959268817]"
          ]
        },
        {
          "output_type": "stream",
          "name": "stderr",
          "text": [
            "/usr/local/lib/python3.7/dist-packages/keras/optimizer_v2/adam.py:105: UserWarning: The `lr` argument is deprecated, use `learning_rate` instead.\n",
            "  super(Adam, self).__init__(name, **kwargs)\n",
            "\n"
          ]
        },
        {
          "output_type": "stream",
          "name": "stdout",
          "text": [
            "\n",
            "\n",
            "Tested 399/1500 iterations.\n",
            "Best MAE - Validation Dataset\n",
            "  MAE: 3.0 | sMAPE: 11.40 %\n",
            "\n",
            "Best MAE - Test Dataset\n",
            "  MAE: 3.9 | sMAPE: 17.95 %\n",
            " 27%|██▋       | 399/1500 [4:42:16<16:01:20, 52.39s/it, best loss: 3.0331621959268817]"
          ]
        },
        {
          "output_type": "stream",
          "name": "stderr",
          "text": [
            "/usr/local/lib/python3.7/dist-packages/keras/optimizer_v2/adam.py:105: UserWarning: The `lr` argument is deprecated, use `learning_rate` instead.\n",
            "  super(Adam, self).__init__(name, **kwargs)\n",
            "\n"
          ]
        },
        {
          "output_type": "stream",
          "name": "stdout",
          "text": [
            "\n",
            "\n",
            "Tested 400/1500 iterations.\n",
            "Best MAE - Validation Dataset\n",
            "  MAE: 3.0 | sMAPE: 11.40 %\n",
            "\n",
            "Best MAE - Test Dataset\n",
            "  MAE: 3.9 | sMAPE: 17.95 %\n",
            " 27%|██▋       | 400/1500 [4:42:49<14:15:30, 46.66s/it, best loss: 3.0331621959268817]"
          ]
        },
        {
          "output_type": "stream",
          "name": "stderr",
          "text": [
            "/usr/local/lib/python3.7/dist-packages/keras/optimizer_v2/adam.py:105: UserWarning: The `lr` argument is deprecated, use `learning_rate` instead.\n",
            "  super(Adam, self).__init__(name, **kwargs)\n",
            "\n"
          ]
        },
        {
          "output_type": "stream",
          "name": "stdout",
          "text": [
            "\n",
            "\n",
            "Tested 401/1500 iterations.\n",
            "Best MAE - Validation Dataset\n",
            "  MAE: 3.0 | sMAPE: 11.40 %\n",
            "\n",
            "Best MAE - Test Dataset\n",
            "  MAE: 3.9 | sMAPE: 17.95 %\n",
            "\n",
            "\n",
            "Tested 402/1500 iterations.\n",
            "Best MAE - Validation Dataset\n",
            "  MAE: 3.0 | sMAPE: 11.40 %\n",
            "\n",
            "Best MAE - Test Dataset\n",
            "  MAE: 3.9 | sMAPE: 17.95 %\n",
            "\n",
            "\n",
            "Tested 403/1500 iterations.\n",
            "Best MAE - Validation Dataset\n",
            "  MAE: 3.0 | sMAPE: 11.40 %\n",
            "\n",
            "Best MAE - Test Dataset\n",
            "  MAE: 3.9 | sMAPE: 17.95 %\n",
            "\n",
            "\n",
            "Tested 404/1500 iterations.\n",
            "Best MAE - Validation Dataset\n",
            "  MAE: 3.0 | sMAPE: 11.40 %\n",
            "\n",
            "Best MAE - Test Dataset\n",
            "  MAE: 3.9 | sMAPE: 17.95 %\n",
            " 27%|██▋       | 404/1500 [4:46:10<14:59:05, 49.22s/it, best loss: 3.0331621959268817]"
          ]
        },
        {
          "output_type": "stream",
          "name": "stderr",
          "text": [
            "/usr/local/lib/python3.7/dist-packages/keras/optimizer_v2/adam.py:105: UserWarning: The `lr` argument is deprecated, use `learning_rate` instead.\n",
            "  super(Adam, self).__init__(name, **kwargs)\n",
            "\n"
          ]
        },
        {
          "output_type": "stream",
          "name": "stdout",
          "text": [
            "\n",
            "\n",
            "Tested 405/1500 iterations.\n",
            "Best MAE - Validation Dataset\n",
            "  MAE: 3.0 | sMAPE: 11.40 %\n",
            "\n",
            "Best MAE - Test Dataset\n",
            "  MAE: 3.9 | sMAPE: 17.95 %\n",
            "\n",
            "\n",
            "Tested 406/1500 iterations.\n",
            "Best MAE - Validation Dataset\n",
            "  MAE: 3.0 | sMAPE: 11.40 %\n",
            "\n",
            "Best MAE - Test Dataset\n",
            "  MAE: 3.9 | sMAPE: 17.95 %\n",
            "\n",
            "\n",
            "Tested 407/1500 iterations.\n",
            "Best MAE - Validation Dataset\n",
            "  MAE: 3.0 | sMAPE: 11.40 %\n",
            "\n",
            "Best MAE - Test Dataset\n",
            "  MAE: 3.9 | sMAPE: 17.95 %\n",
            "\n",
            "\n",
            "Tested 408/1500 iterations.\n",
            "Best MAE - Validation Dataset\n",
            "  MAE: 3.0 | sMAPE: 11.40 %\n",
            "\n",
            "Best MAE - Test Dataset\n",
            "  MAE: 3.9 | sMAPE: 17.95 %\n",
            "\n",
            "\n",
            "Tested 409/1500 iterations.\n",
            "Best MAE - Validation Dataset\n",
            "  MAE: 3.0 | sMAPE: 11.40 %\n",
            "\n",
            "Best MAE - Test Dataset\n",
            "  MAE: 3.9 | sMAPE: 17.95 %\n",
            "\n",
            "\n",
            "Tested 410/1500 iterations.\n",
            "Best MAE - Validation Dataset\n",
            "  MAE: 3.0 | sMAPE: 11.40 %\n",
            "\n",
            "Best MAE - Test Dataset\n",
            "  MAE: 3.9 | sMAPE: 17.95 %\n",
            "\n",
            "\n",
            "Tested 411/1500 iterations.\n",
            "Best MAE - Validation Dataset\n",
            "  MAE: 3.0 | sMAPE: 11.40 %\n",
            "\n",
            "Best MAE - Test Dataset\n",
            "  MAE: 3.9 | sMAPE: 17.95 %\n",
            " 27%|██▋       | 411/1500 [4:52:30<15:52:26, 52.48s/it, best loss: 3.0331621959268817]"
          ]
        },
        {
          "output_type": "stream",
          "name": "stderr",
          "text": [
            "/usr/local/lib/python3.7/dist-packages/keras/optimizer_v2/adam.py:105: UserWarning: The `lr` argument is deprecated, use `learning_rate` instead.\n",
            "  super(Adam, self).__init__(name, **kwargs)\n",
            "\n"
          ]
        },
        {
          "output_type": "stream",
          "name": "stdout",
          "text": [
            "\n",
            "\n",
            "Tested 412/1500 iterations.\n",
            "Best MAE - Validation Dataset\n",
            "  MAE: 3.0 | sMAPE: 11.61 %\n",
            "\n",
            "Best MAE - Test Dataset\n",
            "  MAE: 4.0 | sMAPE: 18.92 %\n",
            "\n",
            "\n",
            "Tested 413/1500 iterations.\n",
            "Best MAE - Validation Dataset\n",
            "  MAE: 3.0 | sMAPE: 11.61 %\n",
            "\n",
            "Best MAE - Test Dataset\n",
            "  MAE: 4.0 | sMAPE: 18.92 %\n",
            " 28%|██▊       | 413/1500 [4:54:09<15:29:28, 51.31s/it, best loss: 3.031780039385976]"
          ]
        },
        {
          "output_type": "stream",
          "name": "stderr",
          "text": [
            "/usr/local/lib/python3.7/dist-packages/keras/optimizer_v2/adam.py:105: UserWarning: The `lr` argument is deprecated, use `learning_rate` instead.\n",
            "  super(Adam, self).__init__(name, **kwargs)\n",
            "\n"
          ]
        },
        {
          "output_type": "stream",
          "name": "stdout",
          "text": [
            "\n",
            "\n",
            "Tested 414/1500 iterations.\n",
            "Best MAE - Validation Dataset\n",
            "  MAE: 3.0 | sMAPE: 11.61 %\n",
            "\n",
            "Best MAE - Test Dataset\n",
            "  MAE: 4.0 | sMAPE: 18.92 %\n",
            " 28%|██▊       | 414/1500 [4:55:28<17:57:59, 59.56s/it, best loss: 3.031780039385976]"
          ]
        },
        {
          "output_type": "stream",
          "name": "stderr",
          "text": [
            "/usr/local/lib/python3.7/dist-packages/keras/optimizer_v2/adam.py:105: UserWarning: The `lr` argument is deprecated, use `learning_rate` instead.\n",
            "  super(Adam, self).__init__(name, **kwargs)\n",
            "\n"
          ]
        },
        {
          "output_type": "stream",
          "name": "stdout",
          "text": [
            "\n",
            "\n",
            "Tested 415/1500 iterations.\n",
            "Best MAE - Validation Dataset\n",
            "  MAE: 3.0 | sMAPE: 11.61 %\n",
            "\n",
            "Best MAE - Test Dataset\n",
            "  MAE: 4.0 | sMAPE: 18.92 %\n",
            " 28%|██▊       | 415/1500 [4:56:30<18:09:03, 60.22s/it, best loss: 3.031780039385976]"
          ]
        },
        {
          "output_type": "stream",
          "name": "stderr",
          "text": [
            "/usr/local/lib/python3.7/dist-packages/keras/optimizer_v2/adam.py:105: UserWarning: The `lr` argument is deprecated, use `learning_rate` instead.\n",
            "  super(Adam, self).__init__(name, **kwargs)\n",
            "\n"
          ]
        },
        {
          "output_type": "stream",
          "name": "stdout",
          "text": [
            "\n",
            "\n",
            "Tested 416/1500 iterations.\n",
            "Best MAE - Validation Dataset\n",
            "  MAE: 3.0 | sMAPE: 11.61 %\n",
            "\n",
            "Best MAE - Test Dataset\n",
            "  MAE: 4.0 | sMAPE: 18.92 %\n",
            " 28%|██▊       | 416/1500 [4:57:24<17:36:36, 58.48s/it, best loss: 3.031780039385976]"
          ]
        },
        {
          "output_type": "stream",
          "name": "stderr",
          "text": [
            "/usr/local/lib/python3.7/dist-packages/keras/optimizer_v2/adam.py:105: UserWarning: The `lr` argument is deprecated, use `learning_rate` instead.\n",
            "  super(Adam, self).__init__(name, **kwargs)\n",
            "\n"
          ]
        },
        {
          "output_type": "stream",
          "name": "stdout",
          "text": [
            "\n",
            "\n",
            "Tested 417/1500 iterations.\n",
            "Best MAE - Validation Dataset\n",
            "  MAE: 3.0 | sMAPE: 11.61 %\n",
            "\n",
            "Best MAE - Test Dataset\n",
            "  MAE: 4.0 | sMAPE: 18.92 %\n",
            " 28%|██▊       | 417/1500 [4:58:41<19:13:36, 63.91s/it, best loss: 3.031780039385976]"
          ]
        },
        {
          "output_type": "stream",
          "name": "stderr",
          "text": [
            "/usr/local/lib/python3.7/dist-packages/keras/optimizer_v2/adam.py:105: UserWarning: The `lr` argument is deprecated, use `learning_rate` instead.\n",
            "  super(Adam, self).__init__(name, **kwargs)\n",
            "\n"
          ]
        },
        {
          "output_type": "stream",
          "name": "stdout",
          "text": [
            "\n",
            "\n",
            "Tested 418/1500 iterations.\n",
            "Best MAE - Validation Dataset\n",
            "  MAE: 3.0 | sMAPE: 11.61 %\n",
            "\n",
            "Best MAE - Test Dataset\n",
            "  MAE: 4.0 | sMAPE: 18.92 %\n",
            " 28%|██▊       | 418/1500 [4:59:45<19:12:04, 63.89s/it, best loss: 3.031780039385976]"
          ]
        },
        {
          "output_type": "stream",
          "name": "stderr",
          "text": [
            "/usr/local/lib/python3.7/dist-packages/keras/optimizer_v2/adam.py:105: UserWarning: The `lr` argument is deprecated, use `learning_rate` instead.\n",
            "  super(Adam, self).__init__(name, **kwargs)\n",
            "\n"
          ]
        },
        {
          "output_type": "stream",
          "name": "stdout",
          "text": [
            "\n",
            "\n",
            "Tested 419/1500 iterations.\n",
            "Best MAE - Validation Dataset\n",
            "  MAE: 3.0 | sMAPE: 11.61 %\n",
            "\n",
            "Best MAE - Test Dataset\n",
            "  MAE: 4.0 | sMAPE: 18.92 %\n",
            " 28%|██▊       | 419/1500 [5:00:37<18:08:58, 60.44s/it, best loss: 3.031780039385976]"
          ]
        },
        {
          "output_type": "stream",
          "name": "stderr",
          "text": [
            "/usr/local/lib/python3.7/dist-packages/keras/optimizer_v2/adam.py:105: UserWarning: The `lr` argument is deprecated, use `learning_rate` instead.\n",
            "  super(Adam, self).__init__(name, **kwargs)\n",
            "\n"
          ]
        },
        {
          "output_type": "stream",
          "name": "stdout",
          "text": [
            "\n",
            "\n",
            "Tested 420/1500 iterations.\n",
            "Best MAE - Validation Dataset\n",
            "  MAE: 3.0 | sMAPE: 11.61 %\n",
            "\n",
            "Best MAE - Test Dataset\n",
            "  MAE: 4.0 | sMAPE: 18.92 %\n",
            " 28%|██▊       | 420/1500 [5:01:26<17:05:50, 56.99s/it, best loss: 3.031780039385976]"
          ]
        },
        {
          "output_type": "stream",
          "name": "stderr",
          "text": [
            "/usr/local/lib/python3.7/dist-packages/keras/optimizer_v2/adam.py:105: UserWarning: The `lr` argument is deprecated, use `learning_rate` instead.\n",
            "  super(Adam, self).__init__(name, **kwargs)\n",
            "\n"
          ]
        },
        {
          "output_type": "stream",
          "name": "stdout",
          "text": [
            "\n",
            "\n",
            "Tested 421/1500 iterations.\n",
            "Best MAE - Validation Dataset\n",
            "  MAE: 3.0 | sMAPE: 11.61 %\n",
            "\n",
            "Best MAE - Test Dataset\n",
            "  MAE: 4.0 | sMAPE: 18.92 %\n",
            " 28%|██▊       | 421/1500 [5:02:08<15:44:57, 52.55s/it, best loss: 3.031780039385976]"
          ]
        },
        {
          "output_type": "stream",
          "name": "stderr",
          "text": [
            "/usr/local/lib/python3.7/dist-packages/keras/optimizer_v2/adam.py:105: UserWarning: The `lr` argument is deprecated, use `learning_rate` instead.\n",
            "  super(Adam, self).__init__(name, **kwargs)\n",
            "\n"
          ]
        },
        {
          "output_type": "stream",
          "name": "stdout",
          "text": [
            "\n",
            "\n",
            "Tested 422/1500 iterations.\n",
            "Best MAE - Validation Dataset\n",
            "  MAE: 3.0 | sMAPE: 11.61 %\n",
            "\n",
            "Best MAE - Test Dataset\n",
            "  MAE: 4.0 | sMAPE: 18.92 %\n",
            " 28%|██▊       | 422/1500 [5:03:19<17:23:33, 58.08s/it, best loss: 3.031780039385976]"
          ]
        },
        {
          "output_type": "stream",
          "name": "stderr",
          "text": [
            "/usr/local/lib/python3.7/dist-packages/keras/optimizer_v2/adam.py:105: UserWarning: The `lr` argument is deprecated, use `learning_rate` instead.\n",
            "  super(Adam, self).__init__(name, **kwargs)\n",
            "\n"
          ]
        },
        {
          "output_type": "stream",
          "name": "stdout",
          "text": [
            "\n",
            "\n",
            "Tested 423/1500 iterations.\n",
            "Best MAE - Validation Dataset\n",
            "  MAE: 3.0 | sMAPE: 11.61 %\n",
            "\n",
            "Best MAE - Test Dataset\n",
            "  MAE: 4.0 | sMAPE: 18.92 %\n",
            " 28%|██▊       | 423/1500 [5:04:05<16:13:54, 54.26s/it, best loss: 3.031780039385976]"
          ]
        },
        {
          "output_type": "stream",
          "name": "stderr",
          "text": [
            "/usr/local/lib/python3.7/dist-packages/keras/optimizer_v2/adam.py:105: UserWarning: The `lr` argument is deprecated, use `learning_rate` instead.\n",
            "  super(Adam, self).__init__(name, **kwargs)\n",
            "\n"
          ]
        },
        {
          "output_type": "stream",
          "name": "stdout",
          "text": [
            "\n",
            "\n",
            "Tested 424/1500 iterations.\n",
            "Best MAE - Validation Dataset\n",
            "  MAE: 3.0 | sMAPE: 11.61 %\n",
            "\n",
            "Best MAE - Test Dataset\n",
            "  MAE: 4.0 | sMAPE: 18.92 %\n",
            " 28%|██▊       | 424/1500 [5:04:55<15:50:52, 53.02s/it, best loss: 3.031780039385976]"
          ]
        },
        {
          "output_type": "stream",
          "name": "stderr",
          "text": [
            "/usr/local/lib/python3.7/dist-packages/keras/optimizer_v2/adam.py:105: UserWarning: The `lr` argument is deprecated, use `learning_rate` instead.\n",
            "  super(Adam, self).__init__(name, **kwargs)\n",
            "\n"
          ]
        },
        {
          "output_type": "stream",
          "name": "stdout",
          "text": [
            "\n",
            "\n",
            "Tested 425/1500 iterations.\n",
            "Best MAE - Validation Dataset\n",
            "  MAE: 3.0 | sMAPE: 11.61 %\n",
            "\n",
            "Best MAE - Test Dataset\n",
            "  MAE: 4.0 | sMAPE: 18.92 %\n",
            " 28%|██▊       | 425/1500 [5:06:01<17:02:24, 57.06s/it, best loss: 3.031780039385976]"
          ]
        },
        {
          "output_type": "stream",
          "name": "stderr",
          "text": [
            "/usr/local/lib/python3.7/dist-packages/keras/optimizer_v2/adam.py:105: UserWarning: The `lr` argument is deprecated, use `learning_rate` instead.\n",
            "  super(Adam, self).__init__(name, **kwargs)\n",
            "\n"
          ]
        },
        {
          "output_type": "stream",
          "name": "stdout",
          "text": [
            "\n",
            "\n",
            "Tested 426/1500 iterations.\n",
            "Best MAE - Validation Dataset\n",
            "  MAE: 3.0 | sMAPE: 11.61 %\n",
            "\n",
            "Best MAE - Test Dataset\n",
            "  MAE: 4.0 | sMAPE: 18.92 %\n",
            " 28%|██▊       | 426/1500 [5:07:15<18:31:21, 62.09s/it, best loss: 3.031780039385976]"
          ]
        },
        {
          "output_type": "stream",
          "name": "stderr",
          "text": [
            "/usr/local/lib/python3.7/dist-packages/keras/optimizer_v2/adam.py:105: UserWarning: The `lr` argument is deprecated, use `learning_rate` instead.\n",
            "  super(Adam, self).__init__(name, **kwargs)\n",
            "\n"
          ]
        },
        {
          "output_type": "stream",
          "name": "stdout",
          "text": [
            "\n",
            "\n",
            "Tested 427/1500 iterations.\n",
            "Best MAE - Validation Dataset\n",
            "  MAE: 3.0 | sMAPE: 11.61 %\n",
            "\n",
            "Best MAE - Test Dataset\n",
            "  MAE: 4.0 | sMAPE: 18.92 %\n",
            " 28%|██▊       | 427/1500 [5:07:44<15:31:05, 52.06s/it, best loss: 3.031780039385976]"
          ]
        },
        {
          "output_type": "stream",
          "name": "stderr",
          "text": [
            "/usr/local/lib/python3.7/dist-packages/keras/optimizer_v2/adam.py:105: UserWarning: The `lr` argument is deprecated, use `learning_rate` instead.\n",
            "  super(Adam, self).__init__(name, **kwargs)\n",
            "\n"
          ]
        },
        {
          "output_type": "stream",
          "name": "stdout",
          "text": [
            "\n",
            "\n",
            "Tested 428/1500 iterations.\n",
            "Best MAE - Validation Dataset\n",
            "  MAE: 3.0 | sMAPE: 11.61 %\n",
            "\n",
            "Best MAE - Test Dataset\n",
            "  MAE: 4.0 | sMAPE: 18.92 %\n",
            " 29%|██▊       | 428/1500 [5:08:32<15:08:32, 50.85s/it, best loss: 3.031780039385976]"
          ]
        },
        {
          "output_type": "stream",
          "name": "stderr",
          "text": [
            "/usr/local/lib/python3.7/dist-packages/keras/optimizer_v2/adam.py:105: UserWarning: The `lr` argument is deprecated, use `learning_rate` instead.\n",
            "  super(Adam, self).__init__(name, **kwargs)\n",
            "\n"
          ]
        },
        {
          "output_type": "stream",
          "name": "stdout",
          "text": [
            "\n",
            "\n",
            "Tested 429/1500 iterations.\n",
            "Best MAE - Validation Dataset\n",
            "  MAE: 3.0 | sMAPE: 11.61 %\n",
            "\n",
            "Best MAE - Test Dataset\n",
            "  MAE: 4.0 | sMAPE: 18.92 %\n",
            " 29%|██▊       | 429/1500 [5:09:15<14:28:49, 48.67s/it, best loss: 3.031780039385976]"
          ]
        },
        {
          "output_type": "stream",
          "name": "stderr",
          "text": [
            "/usr/local/lib/python3.7/dist-packages/keras/optimizer_v2/adam.py:105: UserWarning: The `lr` argument is deprecated, use `learning_rate` instead.\n",
            "  super(Adam, self).__init__(name, **kwargs)\n",
            "\n"
          ]
        },
        {
          "output_type": "stream",
          "name": "stdout",
          "text": [
            "\n",
            "\n",
            "Tested 430/1500 iterations.\n",
            "Best MAE - Validation Dataset\n",
            "  MAE: 3.0 | sMAPE: 11.61 %\n",
            "\n",
            "Best MAE - Test Dataset\n",
            "  MAE: 4.0 | sMAPE: 18.92 %\n",
            " 29%|██▊       | 430/1500 [5:10:11<15:05:26, 50.77s/it, best loss: 3.031780039385976]"
          ]
        },
        {
          "output_type": "stream",
          "name": "stderr",
          "text": [
            "/usr/local/lib/python3.7/dist-packages/keras/optimizer_v2/adam.py:105: UserWarning: The `lr` argument is deprecated, use `learning_rate` instead.\n",
            "  super(Adam, self).__init__(name, **kwargs)\n",
            "\n"
          ]
        },
        {
          "output_type": "stream",
          "name": "stdout",
          "text": [
            "\n",
            "\n",
            "Tested 431/1500 iterations.\n",
            "Best MAE - Validation Dataset\n",
            "  MAE: 3.0 | sMAPE: 11.61 %\n",
            "\n",
            "Best MAE - Test Dataset\n",
            "  MAE: 4.0 | sMAPE: 18.92 %\n",
            " 29%|██▊       | 431/1500 [5:11:31<17:38:18, 59.40s/it, best loss: 3.031780039385976]"
          ]
        },
        {
          "output_type": "stream",
          "name": "stderr",
          "text": [
            "/usr/local/lib/python3.7/dist-packages/keras/optimizer_v2/adam.py:105: UserWarning: The `lr` argument is deprecated, use `learning_rate` instead.\n",
            "  super(Adam, self).__init__(name, **kwargs)\n",
            "\n"
          ]
        },
        {
          "output_type": "stream",
          "name": "stdout",
          "text": [
            "\n",
            "\n",
            "Tested 432/1500 iterations.\n",
            "Best MAE - Validation Dataset\n",
            "  MAE: 3.0 | sMAPE: 11.61 %\n",
            "\n",
            "Best MAE - Test Dataset\n",
            "  MAE: 4.0 | sMAPE: 18.92 %\n",
            " 29%|██▉       | 432/1500 [5:12:16<16:24:26, 55.31s/it, best loss: 3.031780039385976]"
          ]
        },
        {
          "output_type": "stream",
          "name": "stderr",
          "text": [
            "/content/epftoolbox/epftoolbox/data/_wrangling.py:95: RuntimeWarning: overflow encountered in sinh\n",
            "  transformed_data = np.sinh(data)\n",
            "\n",
            "/content/epftoolbox/epftoolbox/data/_wrangling.py:67: RuntimeWarning: overflow encountered in multiply\n",
            "  transformed_data[:, i] = data[:, i] * self.mad[i] + self.median[i]\n",
            "\n"
          ]
        },
        {
          "output_type": "stream",
          "name": "stdout",
          "text": [
            "\n",
            "\n",
            "Tested 433/1500 iterations.\n",
            "Best MAE - Validation Dataset\n",
            "  MAE: 3.0 | sMAPE: 11.61 %\n",
            "\n",
            "Best MAE - Test Dataset\n",
            "  MAE: 4.0 | sMAPE: 18.92 %\n",
            " 29%|██▉       | 433/1500 [5:12:23<12:06:04, 40.83s/it, best loss: 3.031780039385976]"
          ]
        },
        {
          "output_type": "stream",
          "name": "stderr",
          "text": [
            "/usr/local/lib/python3.7/dist-packages/keras/optimizer_v2/adam.py:105: UserWarning: The `lr` argument is deprecated, use `learning_rate` instead.\n",
            "  super(Adam, self).__init__(name, **kwargs)\n",
            "\n"
          ]
        },
        {
          "output_type": "stream",
          "name": "stdout",
          "text": [
            "\n",
            "\n",
            "Tested 434/1500 iterations.\n",
            "Best MAE - Validation Dataset\n",
            "  MAE: 3.0 | sMAPE: 11.61 %\n",
            "\n",
            "Best MAE - Test Dataset\n",
            "  MAE: 4.0 | sMAPE: 18.92 %\n",
            " 29%|██▉       | 434/1500 [5:13:15<13:04:09, 44.14s/it, best loss: 3.031780039385976]"
          ]
        },
        {
          "output_type": "stream",
          "name": "stderr",
          "text": [
            "/usr/local/lib/python3.7/dist-packages/keras/optimizer_v2/adam.py:105: UserWarning: The `lr` argument is deprecated, use `learning_rate` instead.\n",
            "  super(Adam, self).__init__(name, **kwargs)\n",
            "\n"
          ]
        },
        {
          "output_type": "stream",
          "name": "stdout",
          "text": [
            "\n",
            "\n",
            "Tested 435/1500 iterations.\n",
            "Best MAE - Validation Dataset\n",
            "  MAE: 3.0 | sMAPE: 11.61 %\n",
            "\n",
            "Best MAE - Test Dataset\n",
            "  MAE: 4.0 | sMAPE: 18.92 %\n",
            " 29%|██▉       | 435/1500 [5:14:04<13:30:17, 45.65s/it, best loss: 3.031780039385976]"
          ]
        },
        {
          "output_type": "stream",
          "name": "stderr",
          "text": [
            "/usr/local/lib/python3.7/dist-packages/keras/optimizer_v2/adam.py:105: UserWarning: The `lr` argument is deprecated, use `learning_rate` instead.\n",
            "  super(Adam, self).__init__(name, **kwargs)\n",
            "\n"
          ]
        },
        {
          "output_type": "stream",
          "name": "stdout",
          "text": [
            "\n",
            "\n",
            "Tested 436/1500 iterations.\n",
            "Best MAE - Validation Dataset\n",
            "  MAE: 3.0 | sMAPE: 11.61 %\n",
            "\n",
            "Best MAE - Test Dataset\n",
            "  MAE: 4.0 | sMAPE: 18.92 %\n",
            " 29%|██▉       | 436/1500 [5:15:09<15:11:15, 51.39s/it, best loss: 3.031780039385976]"
          ]
        },
        {
          "output_type": "stream",
          "name": "stderr",
          "text": [
            "/usr/local/lib/python3.7/dist-packages/keras/optimizer_v2/adam.py:105: UserWarning: The `lr` argument is deprecated, use `learning_rate` instead.\n",
            "  super(Adam, self).__init__(name, **kwargs)\n",
            "\n"
          ]
        },
        {
          "output_type": "stream",
          "name": "stdout",
          "text": [
            "\n",
            "\n",
            "Tested 437/1500 iterations.\n",
            "Best MAE - Validation Dataset\n",
            "  MAE: 3.0 | sMAPE: 11.61 %\n",
            "\n",
            "Best MAE - Test Dataset\n",
            "  MAE: 4.0 | sMAPE: 18.92 %\n",
            "\n",
            "\n",
            "Tested 438/1500 iterations.\n",
            "Best MAE - Validation Dataset\n",
            "  MAE: 3.0 | sMAPE: 11.61 %\n",
            "\n",
            "Best MAE - Test Dataset\n",
            "  MAE: 4.0 | sMAPE: 18.92 %\n",
            "\n",
            "\n",
            "Tested 439/1500 iterations.\n",
            "Best MAE - Validation Dataset\n",
            "  MAE: 3.0 | sMAPE: 11.61 %\n",
            "\n",
            "Best MAE - Test Dataset\n",
            "  MAE: 4.0 | sMAPE: 18.92 %\n",
            " 29%|██▉       | 439/1500 [5:18:26<18:57:40, 64.34s/it, best loss: 3.031780039385976]"
          ]
        },
        {
          "output_type": "stream",
          "name": "stderr",
          "text": [
            "/usr/local/lib/python3.7/dist-packages/keras/optimizer_v2/adam.py:105: UserWarning: The `lr` argument is deprecated, use `learning_rate` instead.\n",
            "  super(Adam, self).__init__(name, **kwargs)\n",
            "\n"
          ]
        },
        {
          "output_type": "stream",
          "name": "stdout",
          "text": [
            "\n",
            "\n",
            "Tested 440/1500 iterations.\n",
            "Best MAE - Validation Dataset\n",
            "  MAE: 3.0 | sMAPE: 11.61 %\n",
            "\n",
            "Best MAE - Test Dataset\n",
            "  MAE: 4.0 | sMAPE: 18.92 %\n",
            " 29%|██▉       | 440/1500 [5:18:34<13:57:35, 47.41s/it, best loss: 3.031780039385976]"
          ]
        },
        {
          "output_type": "stream",
          "name": "stderr",
          "text": [
            "/usr/local/lib/python3.7/dist-packages/keras/optimizer_v2/adam.py:105: UserWarning: The `lr` argument is deprecated, use `learning_rate` instead.\n",
            "  super(Adam, self).__init__(name, **kwargs)\n",
            "\n"
          ]
        },
        {
          "output_type": "stream",
          "name": "stdout",
          "text": [
            "\n",
            "\n",
            "Tested 441/1500 iterations.\n",
            "Best MAE - Validation Dataset\n",
            "  MAE: 3.0 | sMAPE: 11.61 %\n",
            "\n",
            "Best MAE - Test Dataset\n",
            "  MAE: 4.0 | sMAPE: 18.92 %\n",
            " 29%|██▉       | 441/1500 [5:19:02<12:15:35, 41.68s/it, best loss: 3.031780039385976]"
          ]
        },
        {
          "output_type": "stream",
          "name": "stderr",
          "text": [
            "/content/epftoolbox/epftoolbox/data/_wrangling.py:95: RuntimeWarning: overflow encountered in sinh\n",
            "  transformed_data = np.sinh(data)\n",
            "\n",
            "/content/epftoolbox/epftoolbox/data/_wrangling.py:67: RuntimeWarning: overflow encountered in multiply\n",
            "  transformed_data[:, i] = data[:, i] * self.mad[i] + self.median[i]\n",
            "\n"
          ]
        },
        {
          "output_type": "stream",
          "name": "stdout",
          "text": [
            "\n",
            "\n",
            "Tested 442/1500 iterations.\n",
            "Best MAE - Validation Dataset\n",
            "  MAE: 3.0 | sMAPE: 11.61 %\n",
            "\n",
            "Best MAE - Test Dataset\n",
            "  MAE: 4.0 | sMAPE: 18.92 %\n",
            " 29%|██▉       | 442/1500 [5:19:22<10:18:09, 35.06s/it, best loss: 3.031780039385976]"
          ]
        },
        {
          "output_type": "stream",
          "name": "stderr",
          "text": [
            "/usr/local/lib/python3.7/dist-packages/keras/optimizer_v2/adam.py:105: UserWarning: The `lr` argument is deprecated, use `learning_rate` instead.\n",
            "  super(Adam, self).__init__(name, **kwargs)\n",
            "\n"
          ]
        },
        {
          "output_type": "stream",
          "name": "stdout",
          "text": [
            "\n",
            "\n",
            "Tested 443/1500 iterations.\n",
            "Best MAE - Validation Dataset\n",
            "  MAE: 3.0 | sMAPE: 11.61 %\n",
            "\n",
            "Best MAE - Test Dataset\n",
            "  MAE: 4.0 | sMAPE: 18.92 %\n",
            "\n",
            "\n",
            "Tested 444/1500 iterations.\n",
            "Best MAE - Validation Dataset\n",
            "  MAE: 3.0 | sMAPE: 11.61 %\n",
            "\n",
            "Best MAE - Test Dataset\n",
            "  MAE: 4.0 | sMAPE: 18.92 %\n",
            " 30%|██▉       | 444/1500 [5:21:19<14:05:14, 48.02s/it, best loss: 3.031780039385976]"
          ]
        },
        {
          "output_type": "stream",
          "name": "stderr",
          "text": [
            "/usr/local/lib/python3.7/dist-packages/keras/optimizer_v2/adam.py:105: UserWarning: The `lr` argument is deprecated, use `learning_rate` instead.\n",
            "  super(Adam, self).__init__(name, **kwargs)\n",
            "\n"
          ]
        },
        {
          "output_type": "stream",
          "name": "stdout",
          "text": [
            "\n",
            "\n",
            "Tested 445/1500 iterations.\n",
            "Best MAE - Validation Dataset\n",
            "  MAE: 3.0 | sMAPE: 11.61 %\n",
            "\n",
            "Best MAE - Test Dataset\n",
            "  MAE: 4.0 | sMAPE: 18.92 %\n",
            " 30%|██▉       | 445/1500 [5:23:34<21:41:57, 74.04s/it, best loss: 3.031780039385976]"
          ]
        },
        {
          "output_type": "stream",
          "name": "stderr",
          "text": [
            "/usr/local/lib/python3.7/dist-packages/keras/optimizer_v2/adam.py:105: UserWarning: The `lr` argument is deprecated, use `learning_rate` instead.\n",
            "  super(Adam, self).__init__(name, **kwargs)\n",
            "\n"
          ]
        },
        {
          "output_type": "stream",
          "name": "stdout",
          "text": [
            "\n",
            "\n",
            "Tested 446/1500 iterations.\n",
            "Best MAE - Validation Dataset\n",
            "  MAE: 3.0 | sMAPE: 11.61 %\n",
            "\n",
            "Best MAE - Test Dataset\n",
            "  MAE: 4.0 | sMAPE: 18.92 %\n",
            " 30%|██▉       | 446/1500 [5:24:35<20:31:41, 70.12s/it, best loss: 3.031780039385976]"
          ]
        },
        {
          "output_type": "stream",
          "name": "stderr",
          "text": [
            "/usr/local/lib/python3.7/dist-packages/keras/optimizer_v2/adam.py:105: UserWarning: The `lr` argument is deprecated, use `learning_rate` instead.\n",
            "  super(Adam, self).__init__(name, **kwargs)\n",
            "\n"
          ]
        },
        {
          "output_type": "stream",
          "name": "stdout",
          "text": [
            "\n",
            "\n",
            "Tested 447/1500 iterations.\n",
            "Best MAE - Validation Dataset\n",
            "  MAE: 3.0 | sMAPE: 11.61 %\n",
            "\n",
            "Best MAE - Test Dataset\n",
            "  MAE: 4.0 | sMAPE: 18.92 %\n",
            "\n",
            "\n",
            "Tested 448/1500 iterations.\n",
            "Best MAE - Validation Dataset\n",
            "  MAE: 3.0 | sMAPE: 11.61 %\n",
            "\n",
            "Best MAE - Test Dataset\n",
            "  MAE: 4.0 | sMAPE: 18.92 %\n",
            "\n",
            "\n",
            "Tested 449/1500 iterations.\n",
            "Best MAE - Validation Dataset\n",
            "  MAE: 3.0 | sMAPE: 11.61 %\n",
            "\n",
            "Best MAE - Test Dataset\n",
            "  MAE: 4.0 | sMAPE: 18.92 %\n",
            " 30%|██▉       | 449/1500 [5:27:06<15:20:11, 52.53s/it, best loss: 3.031780039385976]"
          ]
        },
        {
          "output_type": "stream",
          "name": "stderr",
          "text": [
            "/usr/local/lib/python3.7/dist-packages/keras/optimizer_v2/adam.py:105: UserWarning: The `lr` argument is deprecated, use `learning_rate` instead.\n",
            "  super(Adam, self).__init__(name, **kwargs)\n",
            "\n"
          ]
        },
        {
          "output_type": "stream",
          "name": "stdout",
          "text": [
            "\n",
            "\n",
            "Tested 450/1500 iterations.\n",
            "Best MAE - Validation Dataset\n",
            "  MAE: 3.0 | sMAPE: 11.61 %\n",
            "\n",
            "Best MAE - Test Dataset\n",
            "  MAE: 4.0 | sMAPE: 18.92 %\n",
            " 30%|███       | 450/1500 [5:27:46<14:14:45, 48.84s/it, best loss: 3.031780039385976]"
          ]
        },
        {
          "output_type": "stream",
          "name": "stderr",
          "text": [
            "/usr/local/lib/python3.7/dist-packages/keras/optimizer_v2/adam.py:105: UserWarning: The `lr` argument is deprecated, use `learning_rate` instead.\n",
            "  super(Adam, self).__init__(name, **kwargs)\n",
            "\n"
          ]
        },
        {
          "output_type": "stream",
          "name": "stdout",
          "text": [
            "\n",
            "\n",
            "Tested 451/1500 iterations.\n",
            "Best MAE - Validation Dataset\n",
            "  MAE: 3.0 | sMAPE: 11.61 %\n",
            "\n",
            "Best MAE - Test Dataset\n",
            "  MAE: 4.0 | sMAPE: 18.92 %\n",
            "\n",
            "\n",
            "Tested 452/1500 iterations.\n",
            "Best MAE - Validation Dataset\n",
            "  MAE: 3.0 | sMAPE: 11.61 %\n",
            "\n",
            "Best MAE - Test Dataset\n",
            "  MAE: 4.0 | sMAPE: 18.92 %\n",
            " 30%|███       | 452/1500 [5:29:09<13:25:41, 46.13s/it, best loss: 3.031780039385976]"
          ]
        },
        {
          "output_type": "stream",
          "name": "stderr",
          "text": [
            "/content/epftoolbox/epftoolbox/data/_wrangling.py:95: RuntimeWarning: overflow encountered in sinh\n",
            "  transformed_data = np.sinh(data)\n",
            "\n",
            "/content/epftoolbox/epftoolbox/evaluation/_smape.py:118: RuntimeWarning: invalid value encountered in true_divide\n",
            "  return np.mean(np.abs(p_real - p_pred) / ((np.abs(p_real) + np.abs(p_pred)) / 2))\n",
            "\n",
            "/usr/local/lib/python3.7/dist-packages/keras/optimizer_v2/adam.py:105: UserWarning: The `lr` argument is deprecated, use `learning_rate` instead.\n",
            "  super(Adam, self).__init__(name, **kwargs)\n",
            "\n"
          ]
        },
        {
          "output_type": "stream",
          "name": "stdout",
          "text": [
            "\n",
            "\n",
            "Tested 453/1500 iterations.\n",
            "Best MAE - Validation Dataset\n",
            "  MAE: 3.0 | sMAPE: 11.61 %\n",
            "\n",
            "Best MAE - Test Dataset\n",
            "  MAE: 4.0 | sMAPE: 18.92 %\n",
            " 30%|███       | 453/1500 [5:30:41<17:25:15, 59.90s/it, best loss: 3.031780039385976]"
          ]
        },
        {
          "output_type": "stream",
          "name": "stderr",
          "text": [
            "/usr/local/lib/python3.7/dist-packages/keras/optimizer_v2/adam.py:105: UserWarning: The `lr` argument is deprecated, use `learning_rate` instead.\n",
            "  super(Adam, self).__init__(name, **kwargs)\n",
            "\n"
          ]
        },
        {
          "output_type": "stream",
          "name": "stdout",
          "text": [
            "\n",
            "\n",
            "Tested 454/1500 iterations.\n",
            "Best MAE - Validation Dataset\n",
            "  MAE: 3.0 | sMAPE: 11.61 %\n",
            "\n",
            "Best MAE - Test Dataset\n",
            "  MAE: 4.0 | sMAPE: 18.92 %\n",
            " 30%|███       | 454/1500 [5:31:49<18:06:52, 62.34s/it, best loss: 3.031780039385976]"
          ]
        },
        {
          "output_type": "stream",
          "name": "stderr",
          "text": [
            "/usr/local/lib/python3.7/dist-packages/keras/optimizer_v2/adam.py:105: UserWarning: The `lr` argument is deprecated, use `learning_rate` instead.\n",
            "  super(Adam, self).__init__(name, **kwargs)\n",
            "\n"
          ]
        },
        {
          "output_type": "stream",
          "name": "stdout",
          "text": [
            "\n",
            "\n",
            "Tested 455/1500 iterations.\n",
            "Best MAE - Validation Dataset\n",
            "  MAE: 3.0 | sMAPE: 11.61 %\n",
            "\n",
            "Best MAE - Test Dataset\n",
            "  MAE: 4.0 | sMAPE: 18.92 %\n",
            " 30%|███       | 455/1500 [5:33:22<20:43:16, 71.38s/it, best loss: 3.031780039385976]"
          ]
        },
        {
          "output_type": "stream",
          "name": "stderr",
          "text": [
            "/usr/local/lib/python3.7/dist-packages/keras/optimizer_v2/adam.py:105: UserWarning: The `lr` argument is deprecated, use `learning_rate` instead.\n",
            "  super(Adam, self).__init__(name, **kwargs)\n",
            "\n"
          ]
        },
        {
          "output_type": "stream",
          "name": "stdout",
          "text": [
            "\n",
            "\n",
            "Tested 456/1500 iterations.\n",
            "Best MAE - Validation Dataset\n",
            "  MAE: 3.0 | sMAPE: 11.61 %\n",
            "\n",
            "Best MAE - Test Dataset\n",
            "  MAE: 4.0 | sMAPE: 18.92 %\n",
            " 30%|███       | 456/1500 [5:34:04<18:08:07, 62.54s/it, best loss: 3.031780039385976]"
          ]
        },
        {
          "output_type": "stream",
          "name": "stderr",
          "text": [
            "/usr/local/lib/python3.7/dist-packages/keras/optimizer_v2/adam.py:105: UserWarning: The `lr` argument is deprecated, use `learning_rate` instead.\n",
            "  super(Adam, self).__init__(name, **kwargs)\n",
            "\n"
          ]
        },
        {
          "output_type": "stream",
          "name": "stdout",
          "text": [
            "\n",
            "\n",
            "Tested 457/1500 iterations.\n",
            "Best MAE - Validation Dataset\n",
            "  MAE: 3.0 | sMAPE: 11.61 %\n",
            "\n",
            "Best MAE - Test Dataset\n",
            "  MAE: 4.0 | sMAPE: 18.92 %\n",
            "\n",
            "\n",
            "Tested 458/1500 iterations.\n",
            "Best MAE - Validation Dataset\n",
            "  MAE: 3.0 | sMAPE: 11.61 %\n",
            "\n",
            "Best MAE - Test Dataset\n",
            "  MAE: 4.0 | sMAPE: 18.92 %\n",
            "\n",
            "\n",
            "Tested 459/1500 iterations.\n",
            "Best MAE - Validation Dataset\n",
            "  MAE: 3.0 | sMAPE: 11.61 %\n",
            "\n",
            "Best MAE - Test Dataset\n",
            "  MAE: 4.0 | sMAPE: 18.92 %\n",
            " 31%|███       | 459/1500 [5:37:00<18:34:27, 64.23s/it, best loss: 3.031780039385976]"
          ]
        },
        {
          "output_type": "stream",
          "name": "stderr",
          "text": [
            "/usr/local/lib/python3.7/dist-packages/keras/optimizer_v2/adam.py:105: UserWarning: The `lr` argument is deprecated, use `learning_rate` instead.\n",
            "  super(Adam, self).__init__(name, **kwargs)\n",
            "\n"
          ]
        },
        {
          "output_type": "stream",
          "name": "stdout",
          "text": [
            "\n",
            "\n",
            "Tested 460/1500 iterations.\n",
            "Best MAE - Validation Dataset\n",
            "  MAE: 3.0 | sMAPE: 11.61 %\n",
            "\n",
            "Best MAE - Test Dataset\n",
            "  MAE: 4.0 | sMAPE: 18.92 %\n",
            " 31%|███       | 460/1500 [5:37:19<14:35:56, 50.53s/it, best loss: 3.031780039385976]"
          ]
        },
        {
          "output_type": "stream",
          "name": "stderr",
          "text": [
            "/usr/local/lib/python3.7/dist-packages/keras/optimizer_v2/adam.py:105: UserWarning: The `lr` argument is deprecated, use `learning_rate` instead.\n",
            "  super(Adam, self).__init__(name, **kwargs)\n",
            "\n"
          ]
        },
        {
          "output_type": "stream",
          "name": "stdout",
          "text": [
            "\n",
            "\n",
            "Tested 461/1500 iterations.\n",
            "Best MAE - Validation Dataset\n",
            "  MAE: 3.0 | sMAPE: 11.57 %\n",
            "\n",
            "Best MAE - Test Dataset\n",
            "  MAE: 4.0 | sMAPE: 18.70 %\n",
            " 31%|███       | 461/1500 [5:38:27<16:08:37, 55.94s/it, best loss: 2.978437632245473]"
          ]
        },
        {
          "output_type": "stream",
          "name": "stderr",
          "text": [
            "/usr/local/lib/python3.7/dist-packages/keras/optimizer_v2/adam.py:105: UserWarning: The `lr` argument is deprecated, use `learning_rate` instead.\n",
            "  super(Adam, self).__init__(name, **kwargs)\n",
            "\n"
          ]
        },
        {
          "output_type": "stream",
          "name": "stdout",
          "text": [
            "\n",
            "\n",
            "Tested 462/1500 iterations.\n",
            "Best MAE - Validation Dataset\n",
            "  MAE: 3.0 | sMAPE: 11.57 %\n",
            "\n",
            "Best MAE - Test Dataset\n",
            "  MAE: 4.0 | sMAPE: 18.70 %\n",
            " 31%|███       | 462/1500 [5:39:47<18:09:55, 63.00s/it, best loss: 2.978437632245473]"
          ]
        },
        {
          "output_type": "stream",
          "name": "stderr",
          "text": [
            "/usr/local/lib/python3.7/dist-packages/keras/optimizer_v2/adam.py:105: UserWarning: The `lr` argument is deprecated, use `learning_rate` instead.\n",
            "  super(Adam, self).__init__(name, **kwargs)\n",
            "\n"
          ]
        },
        {
          "output_type": "stream",
          "name": "stdout",
          "text": [
            "\n",
            "\n",
            "Tested 463/1500 iterations.\n",
            "Best MAE - Validation Dataset\n",
            "  MAE: 3.0 | sMAPE: 11.57 %\n",
            "\n",
            "Best MAE - Test Dataset\n",
            "  MAE: 4.0 | sMAPE: 18.70 %\n",
            " 31%|███       | 463/1500 [5:40:35<16:52:22, 58.58s/it, best loss: 2.978437632245473]"
          ]
        },
        {
          "output_type": "stream",
          "name": "stderr",
          "text": [
            "/usr/local/lib/python3.7/dist-packages/keras/optimizer_v2/adam.py:105: UserWarning: The `lr` argument is deprecated, use `learning_rate` instead.\n",
            "  super(Adam, self).__init__(name, **kwargs)\n",
            "\n"
          ]
        },
        {
          "output_type": "stream",
          "name": "stdout",
          "text": [
            "\n",
            "\n",
            "Tested 464/1500 iterations.\n",
            "Best MAE - Validation Dataset\n",
            "  MAE: 3.0 | sMAPE: 11.57 %\n",
            "\n",
            "Best MAE - Test Dataset\n",
            "  MAE: 4.0 | sMAPE: 18.70 %\n",
            " 31%|███       | 464/1500 [5:42:13<20:14:57, 70.36s/it, best loss: 2.978437632245473]"
          ]
        },
        {
          "output_type": "stream",
          "name": "stderr",
          "text": [
            "/usr/local/lib/python3.7/dist-packages/keras/optimizer_v2/adam.py:105: UserWarning: The `lr` argument is deprecated, use `learning_rate` instead.\n",
            "  super(Adam, self).__init__(name, **kwargs)\n",
            "\n"
          ]
        },
        {
          "output_type": "stream",
          "name": "stdout",
          "text": [
            "\n",
            "\n",
            "Tested 465/1500 iterations.\n",
            "Best MAE - Validation Dataset\n",
            "  MAE: 3.0 | sMAPE: 11.57 %\n",
            "\n",
            "Best MAE - Test Dataset\n",
            "  MAE: 4.0 | sMAPE: 18.70 %\n",
            " 31%|███       | 465/1500 [5:43:14<19:23:32, 67.45s/it, best loss: 2.978437632245473]"
          ]
        },
        {
          "output_type": "stream",
          "name": "stderr",
          "text": [
            "/usr/local/lib/python3.7/dist-packages/keras/optimizer_v2/adam.py:105: UserWarning: The `lr` argument is deprecated, use `learning_rate` instead.\n",
            "  super(Adam, self).__init__(name, **kwargs)\n",
            "\n"
          ]
        },
        {
          "output_type": "stream",
          "name": "stdout",
          "text": [
            "\n",
            "\n",
            "Tested 466/1500 iterations.\n",
            "Best MAE - Validation Dataset\n",
            "  MAE: 3.0 | sMAPE: 11.57 %\n",
            "\n",
            "Best MAE - Test Dataset\n",
            "  MAE: 4.0 | sMAPE: 18.70 %\n",
            " 31%|███       | 466/1500 [5:44:15<18:49:42, 65.55s/it, best loss: 2.978437632245473]"
          ]
        },
        {
          "output_type": "stream",
          "name": "stderr",
          "text": [
            "/usr/local/lib/python3.7/dist-packages/keras/optimizer_v2/adam.py:105: UserWarning: The `lr` argument is deprecated, use `learning_rate` instead.\n",
            "  super(Adam, self).__init__(name, **kwargs)\n",
            "\n"
          ]
        },
        {
          "output_type": "stream",
          "name": "stdout",
          "text": [
            "\n",
            "\n",
            "Tested 467/1500 iterations.\n",
            "Best MAE - Validation Dataset\n",
            "  MAE: 3.0 | sMAPE: 11.57 %\n",
            "\n",
            "Best MAE - Test Dataset\n",
            "  MAE: 4.0 | sMAPE: 18.70 %\n",
            " 31%|███       | 467/1500 [5:44:51<16:16:21, 56.71s/it, best loss: 2.978437632245473]"
          ]
        },
        {
          "output_type": "stream",
          "name": "stderr",
          "text": [
            "/usr/local/lib/python3.7/dist-packages/keras/optimizer_v2/adam.py:105: UserWarning: The `lr` argument is deprecated, use `learning_rate` instead.\n",
            "  super(Adam, self).__init__(name, **kwargs)\n",
            "\n"
          ]
        },
        {
          "output_type": "stream",
          "name": "stdout",
          "text": [
            "\n",
            "\n",
            "Tested 468/1500 iterations.\n",
            "Best MAE - Validation Dataset\n",
            "  MAE: 3.0 | sMAPE: 11.57 %\n",
            "\n",
            "Best MAE - Test Dataset\n",
            "  MAE: 4.0 | sMAPE: 18.70 %\n",
            " 31%|███       | 468/1500 [5:45:49<16:21:12, 57.05s/it, best loss: 2.978437632245473]"
          ]
        },
        {
          "output_type": "stream",
          "name": "stderr",
          "text": [
            "/usr/local/lib/python3.7/dist-packages/keras/optimizer_v2/adam.py:105: UserWarning: The `lr` argument is deprecated, use `learning_rate` instead.\n",
            "  super(Adam, self).__init__(name, **kwargs)\n",
            "\n"
          ]
        },
        {
          "output_type": "stream",
          "name": "stdout",
          "text": [
            "\n",
            "\n",
            "Tested 469/1500 iterations.\n",
            "Best MAE - Validation Dataset\n",
            "  MAE: 3.0 | sMAPE: 11.57 %\n",
            "\n",
            "Best MAE - Test Dataset\n",
            "  MAE: 4.0 | sMAPE: 18.70 %\n",
            " 31%|███▏      | 469/1500 [5:47:19<19:12:42, 67.08s/it, best loss: 2.978437632245473]"
          ]
        },
        {
          "output_type": "stream",
          "name": "stderr",
          "text": [
            "/usr/local/lib/python3.7/dist-packages/keras/optimizer_v2/adam.py:105: UserWarning: The `lr` argument is deprecated, use `learning_rate` instead.\n",
            "  super(Adam, self).__init__(name, **kwargs)\n",
            "\n"
          ]
        },
        {
          "output_type": "stream",
          "name": "stdout",
          "text": [
            "\n",
            "\n",
            "Tested 470/1500 iterations.\n",
            "Best MAE - Validation Dataset\n",
            "  MAE: 3.0 | sMAPE: 11.57 %\n",
            "\n",
            "Best MAE - Test Dataset\n",
            "  MAE: 4.0 | sMAPE: 18.70 %\n",
            " 31%|███▏      | 470/1500 [5:48:29<19:28:15, 68.05s/it, best loss: 2.978437632245473]"
          ]
        },
        {
          "output_type": "stream",
          "name": "stderr",
          "text": [
            "/usr/local/lib/python3.7/dist-packages/keras/optimizer_v2/adam.py:105: UserWarning: The `lr` argument is deprecated, use `learning_rate` instead.\n",
            "  super(Adam, self).__init__(name, **kwargs)\n",
            "\n"
          ]
        },
        {
          "output_type": "stream",
          "name": "stdout",
          "text": [
            "\n",
            "\n",
            "Tested 471/1500 iterations.\n",
            "Best MAE - Validation Dataset\n",
            "  MAE: 3.0 | sMAPE: 11.57 %\n",
            "\n",
            "Best MAE - Test Dataset\n",
            "  MAE: 4.0 | sMAPE: 18.70 %\n",
            " 31%|███▏      | 471/1500 [5:50:01<21:26:42, 75.03s/it, best loss: 2.978437632245473]"
          ]
        },
        {
          "output_type": "stream",
          "name": "stderr",
          "text": [
            "/usr/local/lib/python3.7/dist-packages/keras/optimizer_v2/adam.py:105: UserWarning: The `lr` argument is deprecated, use `learning_rate` instead.\n",
            "  super(Adam, self).__init__(name, **kwargs)\n",
            "\n"
          ]
        },
        {
          "output_type": "stream",
          "name": "stdout",
          "text": [
            "\n",
            "\n",
            "Tested 472/1500 iterations.\n",
            "Best MAE - Validation Dataset\n",
            "  MAE: 3.0 | sMAPE: 11.57 %\n",
            "\n",
            "Best MAE - Test Dataset\n",
            "  MAE: 4.0 | sMAPE: 18.70 %\n",
            " 31%|███▏      | 472/1500 [5:50:09<15:41:30, 54.95s/it, best loss: 2.978437632245473]"
          ]
        },
        {
          "output_type": "stream",
          "name": "stderr",
          "text": [
            "/usr/local/lib/python3.7/dist-packages/keras/optimizer_v2/adam.py:105: UserWarning: The `lr` argument is deprecated, use `learning_rate` instead.\n",
            "  super(Adam, self).__init__(name, **kwargs)\n",
            "\n"
          ]
        },
        {
          "output_type": "stream",
          "name": "stdout",
          "text": [
            "\n",
            "\n",
            "Tested 473/1500 iterations.\n",
            "Best MAE - Validation Dataset\n",
            "  MAE: 3.0 | sMAPE: 11.57 %\n",
            "\n",
            "Best MAE - Test Dataset\n",
            "  MAE: 4.0 | sMAPE: 18.70 %\n",
            " 32%|███▏      | 473/1500 [5:50:44<14:01:25, 49.16s/it, best loss: 2.978437632245473]"
          ]
        },
        {
          "output_type": "stream",
          "name": "stderr",
          "text": [
            "/usr/local/lib/python3.7/dist-packages/keras/optimizer_v2/adam.py:105: UserWarning: The `lr` argument is deprecated, use `learning_rate` instead.\n",
            "  super(Adam, self).__init__(name, **kwargs)\n",
            "\n"
          ]
        },
        {
          "output_type": "stream",
          "name": "stdout",
          "text": [
            "\n",
            "\n",
            "Tested 474/1500 iterations.\n",
            "Best MAE - Validation Dataset\n",
            "  MAE: 3.0 | sMAPE: 11.57 %\n",
            "\n",
            "Best MAE - Test Dataset\n",
            "  MAE: 4.0 | sMAPE: 18.70 %\n",
            " 32%|███▏      | 474/1500 [5:51:35<14:08:07, 49.60s/it, best loss: 2.978437632245473]"
          ]
        },
        {
          "output_type": "stream",
          "name": "stderr",
          "text": [
            "/usr/local/lib/python3.7/dist-packages/keras/optimizer_v2/adam.py:105: UserWarning: The `lr` argument is deprecated, use `learning_rate` instead.\n",
            "  super(Adam, self).__init__(name, **kwargs)\n",
            "\n"
          ]
        },
        {
          "output_type": "stream",
          "name": "stdout",
          "text": [
            "\n",
            "\n",
            "Tested 475/1500 iterations.\n",
            "Best MAE - Validation Dataset\n",
            "  MAE: 3.0 | sMAPE: 11.57 %\n",
            "\n",
            "Best MAE - Test Dataset\n",
            "  MAE: 4.0 | sMAPE: 18.70 %\n",
            " 32%|███▏      | 475/1500 [5:52:31<14:39:28, 51.48s/it, best loss: 2.978437632245473]"
          ]
        },
        {
          "output_type": "stream",
          "name": "stderr",
          "text": [
            "/usr/local/lib/python3.7/dist-packages/keras/optimizer_v2/adam.py:105: UserWarning: The `lr` argument is deprecated, use `learning_rate` instead.\n",
            "  super(Adam, self).__init__(name, **kwargs)\n",
            "\n"
          ]
        },
        {
          "output_type": "stream",
          "name": "stdout",
          "text": [
            "\n",
            "\n",
            "Tested 476/1500 iterations.\n",
            "Best MAE - Validation Dataset\n",
            "  MAE: 3.0 | sMAPE: 11.57 %\n",
            "\n",
            "Best MAE - Test Dataset\n",
            "  MAE: 4.0 | sMAPE: 18.70 %\n",
            " 32%|███▏      | 476/1500 [5:53:19<14:21:38, 50.49s/it, best loss: 2.978437632245473]"
          ]
        },
        {
          "output_type": "stream",
          "name": "stderr",
          "text": [
            "/usr/local/lib/python3.7/dist-packages/keras/optimizer_v2/adam.py:105: UserWarning: The `lr` argument is deprecated, use `learning_rate` instead.\n",
            "  super(Adam, self).__init__(name, **kwargs)\n",
            "\n"
          ]
        },
        {
          "output_type": "stream",
          "name": "stdout",
          "text": [
            "\n",
            "\n",
            "Tested 477/1500 iterations.\n",
            "Best MAE - Validation Dataset\n",
            "  MAE: 3.0 | sMAPE: 11.57 %\n",
            "\n",
            "Best MAE - Test Dataset\n",
            "  MAE: 4.0 | sMAPE: 18.70 %\n",
            " 32%|███▏      | 477/1500 [5:53:56<13:09:11, 46.29s/it, best loss: 2.978437632245473]"
          ]
        },
        {
          "output_type": "stream",
          "name": "stderr",
          "text": [
            "/usr/local/lib/python3.7/dist-packages/keras/optimizer_v2/adam.py:105: UserWarning: The `lr` argument is deprecated, use `learning_rate` instead.\n",
            "  super(Adam, self).__init__(name, **kwargs)\n",
            "\n"
          ]
        },
        {
          "output_type": "stream",
          "name": "stdout",
          "text": [
            "\n",
            "\n",
            "Tested 478/1500 iterations.\n",
            "Best MAE - Validation Dataset\n",
            "  MAE: 3.0 | sMAPE: 11.57 %\n",
            "\n",
            "Best MAE - Test Dataset\n",
            "  MAE: 4.0 | sMAPE: 18.70 %\n",
            " 32%|███▏      | 478/1500 [5:54:36<12:37:32, 44.47s/it, best loss: 2.978437632245473]"
          ]
        },
        {
          "output_type": "stream",
          "name": "stderr",
          "text": [
            "/usr/local/lib/python3.7/dist-packages/keras/optimizer_v2/adam.py:105: UserWarning: The `lr` argument is deprecated, use `learning_rate` instead.\n",
            "  super(Adam, self).__init__(name, **kwargs)\n",
            "\n"
          ]
        },
        {
          "output_type": "stream",
          "name": "stdout",
          "text": [
            "\n",
            "\n",
            "Tested 479/1500 iterations.\n",
            "Best MAE - Validation Dataset\n",
            "  MAE: 3.0 | sMAPE: 11.57 %\n",
            "\n",
            "Best MAE - Test Dataset\n",
            "  MAE: 4.0 | sMAPE: 18.70 %\n",
            " 32%|███▏      | 479/1500 [5:55:19<12:29:10, 44.03s/it, best loss: 2.978437632245473]"
          ]
        },
        {
          "output_type": "stream",
          "name": "stderr",
          "text": [
            "/usr/local/lib/python3.7/dist-packages/keras/optimizer_v2/adam.py:105: UserWarning: The `lr` argument is deprecated, use `learning_rate` instead.\n",
            "  super(Adam, self).__init__(name, **kwargs)\n",
            "\n"
          ]
        },
        {
          "output_type": "stream",
          "name": "stdout",
          "text": [
            "\n",
            "\n",
            "Tested 480/1500 iterations.\n",
            "Best MAE - Validation Dataset\n",
            "  MAE: 3.0 | sMAPE: 11.57 %\n",
            "\n",
            "Best MAE - Test Dataset\n",
            "  MAE: 4.0 | sMAPE: 18.70 %\n",
            " 32%|███▏      | 480/1500 [5:56:58<17:09:30, 60.56s/it, best loss: 2.978437632245473]"
          ]
        },
        {
          "output_type": "stream",
          "name": "stderr",
          "text": [
            "/usr/local/lib/python3.7/dist-packages/keras/optimizer_v2/adam.py:105: UserWarning: The `lr` argument is deprecated, use `learning_rate` instead.\n",
            "  super(Adam, self).__init__(name, **kwargs)\n",
            "\n",
            "/content/epftoolbox/epftoolbox/data/_wrangling.py:95: RuntimeWarning: overflow encountered in sinh\n",
            "  transformed_data = np.sinh(data)\n",
            "\n",
            "/content/epftoolbox/epftoolbox/data/_wrangling.py:67: RuntimeWarning: overflow encountered in multiply\n",
            "  transformed_data[:, i] = data[:, i] * self.mad[i] + self.median[i]\n",
            "\n"
          ]
        },
        {
          "output_type": "stream",
          "name": "stdout",
          "text": [
            "\n",
            "\n",
            "Tested 481/1500 iterations.\n",
            "Best MAE - Validation Dataset\n",
            "  MAE: 3.0 | sMAPE: 11.57 %\n",
            "\n",
            "Best MAE - Test Dataset\n",
            "  MAE: 4.0 | sMAPE: 18.70 %\n",
            " 32%|███▏      | 481/1500 [5:57:10<13:00:42, 45.97s/it, best loss: 2.978437632245473]"
          ]
        },
        {
          "output_type": "stream",
          "name": "stderr",
          "text": [
            "/usr/local/lib/python3.7/dist-packages/keras/optimizer_v2/adam.py:105: UserWarning: The `lr` argument is deprecated, use `learning_rate` instead.\n",
            "  super(Adam, self).__init__(name, **kwargs)\n",
            "\n"
          ]
        },
        {
          "output_type": "stream",
          "name": "stdout",
          "text": [
            "\n",
            "\n",
            "Tested 482/1500 iterations.\n",
            "Best MAE - Validation Dataset\n",
            "  MAE: 3.0 | sMAPE: 11.57 %\n",
            "\n",
            "Best MAE - Test Dataset\n",
            "  MAE: 4.0 | sMAPE: 18.70 %\n",
            " 32%|███▏      | 482/1500 [5:57:46<12:12:06, 43.15s/it, best loss: 2.978437632245473]"
          ]
        },
        {
          "output_type": "stream",
          "name": "stderr",
          "text": [
            "/usr/local/lib/python3.7/dist-packages/keras/optimizer_v2/adam.py:105: UserWarning: The `lr` argument is deprecated, use `learning_rate` instead.\n",
            "  super(Adam, self).__init__(name, **kwargs)\n",
            "\n"
          ]
        },
        {
          "output_type": "stream",
          "name": "stdout",
          "text": [
            "\n",
            "\n",
            "Tested 483/1500 iterations.\n",
            "Best MAE - Validation Dataset\n",
            "  MAE: 3.0 | sMAPE: 11.57 %\n",
            "\n",
            "Best MAE - Test Dataset\n",
            "  MAE: 4.0 | sMAPE: 18.70 %\n",
            " 32%|███▏      | 483/1500 [5:57:55<9:13:20, 32.65s/it, best loss: 2.978437632245473]"
          ]
        },
        {
          "output_type": "stream",
          "name": "stderr",
          "text": [
            "/usr/local/lib/python3.7/dist-packages/keras/optimizer_v2/adam.py:105: UserWarning: The `lr` argument is deprecated, use `learning_rate` instead.\n",
            "  super(Adam, self).__init__(name, **kwargs)\n",
            "\n"
          ]
        },
        {
          "output_type": "stream",
          "name": "stdout",
          "text": [
            "\n",
            "\n",
            "Tested 484/1500 iterations.\n",
            "Best MAE - Validation Dataset\n",
            "  MAE: 3.0 | sMAPE: 11.57 %\n",
            "\n",
            "Best MAE - Test Dataset\n",
            "  MAE: 4.0 | sMAPE: 18.70 %\n",
            " 32%|███▏      | 484/1500 [5:58:59<11:52:08, 42.06s/it, best loss: 2.978437632245473]"
          ]
        },
        {
          "output_type": "stream",
          "name": "stderr",
          "text": [
            "/usr/local/lib/python3.7/dist-packages/keras/optimizer_v2/adam.py:105: UserWarning: The `lr` argument is deprecated, use `learning_rate` instead.\n",
            "  super(Adam, self).__init__(name, **kwargs)\n",
            "\n"
          ]
        },
        {
          "output_type": "stream",
          "name": "stdout",
          "text": [
            "\n",
            "\n",
            "Tested 485/1500 iterations.\n",
            "Best MAE - Validation Dataset\n",
            "  MAE: 3.0 | sMAPE: 11.57 %\n",
            "\n",
            "Best MAE - Test Dataset\n",
            "  MAE: 4.0 | sMAPE: 18.70 %\n",
            " 32%|███▏      | 485/1500 [5:59:06<8:56:40, 31.72s/it, best loss: 2.978437632245473]"
          ]
        },
        {
          "output_type": "stream",
          "name": "stderr",
          "text": [
            "/usr/local/lib/python3.7/dist-packages/keras/optimizer_v2/adam.py:105: UserWarning: The `lr` argument is deprecated, use `learning_rate` instead.\n",
            "  super(Adam, self).__init__(name, **kwargs)\n",
            "\n"
          ]
        },
        {
          "output_type": "stream",
          "name": "stdout",
          "text": [
            "\n",
            "\n",
            "Tested 486/1500 iterations.\n",
            "Best MAE - Validation Dataset\n",
            "  MAE: 3.0 | sMAPE: 11.57 %\n",
            "\n",
            "Best MAE - Test Dataset\n",
            "  MAE: 4.0 | sMAPE: 18.70 %\n",
            "\n",
            "\n",
            "Tested 487/1500 iterations.\n",
            "Best MAE - Validation Dataset\n",
            "  MAE: 3.0 | sMAPE: 11.57 %\n",
            "\n",
            "Best MAE - Test Dataset\n",
            "  MAE: 4.0 | sMAPE: 18.70 %\n",
            " 32%|███▏      | 487/1500 [6:01:06<12:22:11, 43.96s/it, best loss: 2.978437632245473]"
          ]
        },
        {
          "output_type": "stream",
          "name": "stderr",
          "text": [
            "/usr/local/lib/python3.7/dist-packages/keras/optimizer_v2/adam.py:105: UserWarning: The `lr` argument is deprecated, use `learning_rate` instead.\n",
            "  super(Adam, self).__init__(name, **kwargs)\n",
            "\n"
          ]
        },
        {
          "output_type": "stream",
          "name": "stdout",
          "text": [
            "\n",
            "\n",
            "Tested 488/1500 iterations.\n",
            "Best MAE - Validation Dataset\n",
            "  MAE: 3.0 | sMAPE: 11.57 %\n",
            "\n",
            "Best MAE - Test Dataset\n",
            "  MAE: 4.0 | sMAPE: 18.70 %\n",
            " 33%|███▎      | 488/1500 [6:01:40<11:31:21, 40.99s/it, best loss: 2.978437632245473]"
          ]
        },
        {
          "output_type": "stream",
          "name": "stderr",
          "text": [
            "/usr/local/lib/python3.7/dist-packages/keras/optimizer_v2/adam.py:105: UserWarning: The `lr` argument is deprecated, use `learning_rate` instead.\n",
            "  super(Adam, self).__init__(name, **kwargs)\n",
            "\n"
          ]
        },
        {
          "output_type": "stream",
          "name": "stdout",
          "text": [
            "\n",
            "\n",
            "Tested 489/1500 iterations.\n",
            "Best MAE - Validation Dataset\n",
            "  MAE: 3.0 | sMAPE: 11.57 %\n",
            "\n",
            "Best MAE - Test Dataset\n",
            "  MAE: 4.0 | sMAPE: 18.70 %\n",
            " 33%|███▎      | 489/1500 [6:02:11<10:37:16, 37.82s/it, best loss: 2.978437632245473]"
          ]
        },
        {
          "output_type": "stream",
          "name": "stderr",
          "text": [
            "/usr/local/lib/python3.7/dist-packages/keras/optimizer_v2/adam.py:105: UserWarning: The `lr` argument is deprecated, use `learning_rate` instead.\n",
            "  super(Adam, self).__init__(name, **kwargs)\n",
            "\n"
          ]
        },
        {
          "output_type": "stream",
          "name": "stdout",
          "text": [
            "\n",
            "\n",
            "Tested 490/1500 iterations.\n",
            "Best MAE - Validation Dataset\n",
            "  MAE: 3.0 | sMAPE: 11.57 %\n",
            "\n",
            "Best MAE - Test Dataset\n",
            "  MAE: 4.0 | sMAPE: 18.70 %\n",
            " 33%|███▎      | 490/1500 [6:02:43<10:08:00, 36.12s/it, best loss: 2.978437632245473]"
          ]
        },
        {
          "output_type": "stream",
          "name": "stderr",
          "text": [
            "/usr/local/lib/python3.7/dist-packages/keras/optimizer_v2/adam.py:105: UserWarning: The `lr` argument is deprecated, use `learning_rate` instead.\n",
            "  super(Adam, self).__init__(name, **kwargs)\n",
            "\n"
          ]
        },
        {
          "output_type": "stream",
          "name": "stdout",
          "text": [
            "\n",
            "\n",
            "Tested 491/1500 iterations.\n",
            "Best MAE - Validation Dataset\n",
            "  MAE: 3.0 | sMAPE: 11.57 %\n",
            "\n",
            "Best MAE - Test Dataset\n",
            "  MAE: 4.0 | sMAPE: 18.70 %\n",
            " 33%|███▎      | 491/1500 [6:03:49<12:37:00, 45.02s/it, best loss: 2.978437632245473]"
          ]
        },
        {
          "output_type": "stream",
          "name": "stderr",
          "text": [
            "/usr/local/lib/python3.7/dist-packages/keras/optimizer_v2/adam.py:105: UserWarning: The `lr` argument is deprecated, use `learning_rate` instead.\n",
            "  super(Adam, self).__init__(name, **kwargs)\n",
            "\n"
          ]
        },
        {
          "output_type": "stream",
          "name": "stdout",
          "text": [
            "\n",
            "\n",
            "Tested 492/1500 iterations.\n",
            "Best MAE - Validation Dataset\n",
            "  MAE: 3.0 | sMAPE: 11.57 %\n",
            "\n",
            "Best MAE - Test Dataset\n",
            "  MAE: 4.0 | sMAPE: 18.70 %\n",
            " 33%|███▎      | 492/1500 [6:04:39<13:05:46, 46.77s/it, best loss: 2.978437632245473]"
          ]
        },
        {
          "output_type": "stream",
          "name": "stderr",
          "text": [
            "/usr/local/lib/python3.7/dist-packages/keras/optimizer_v2/adam.py:105: UserWarning: The `lr` argument is deprecated, use `learning_rate` instead.\n",
            "  super(Adam, self).__init__(name, **kwargs)\n",
            "\n"
          ]
        },
        {
          "output_type": "stream",
          "name": "stdout",
          "text": [
            "\n",
            "\n",
            "Tested 493/1500 iterations.\n",
            "Best MAE - Validation Dataset\n",
            "  MAE: 3.0 | sMAPE: 11.57 %\n",
            "\n",
            "Best MAE - Test Dataset\n",
            "  MAE: 4.0 | sMAPE: 18.70 %\n",
            " 33%|███▎      | 493/1500 [6:04:47<9:48:06, 35.04s/it, best loss: 2.978437632245473]"
          ]
        },
        {
          "output_type": "stream",
          "name": "stderr",
          "text": [
            "/usr/local/lib/python3.7/dist-packages/keras/optimizer_v2/adam.py:105: UserWarning: The `lr` argument is deprecated, use `learning_rate` instead.\n",
            "  super(Adam, self).__init__(name, **kwargs)\n",
            "\n"
          ]
        },
        {
          "output_type": "stream",
          "name": "stdout",
          "text": [
            "\n",
            "\n",
            "Tested 494/1500 iterations.\n",
            "Best MAE - Validation Dataset\n",
            "  MAE: 3.0 | sMAPE: 11.57 %\n",
            "\n",
            "Best MAE - Test Dataset\n",
            "  MAE: 4.0 | sMAPE: 18.70 %\n",
            " 33%|███▎      | 494/1500 [6:05:22<9:47:32, 35.04s/it, best loss: 2.978437632245473]"
          ]
        },
        {
          "output_type": "stream",
          "name": "stderr",
          "text": [
            "/usr/local/lib/python3.7/dist-packages/keras/optimizer_v2/adam.py:105: UserWarning: The `lr` argument is deprecated, use `learning_rate` instead.\n",
            "  super(Adam, self).__init__(name, **kwargs)\n",
            "\n"
          ]
        },
        {
          "output_type": "stream",
          "name": "stdout",
          "text": [
            "\n",
            "\n",
            "Tested 495/1500 iterations.\n",
            "Best MAE - Validation Dataset\n",
            "  MAE: 3.0 | sMAPE: 11.57 %\n",
            "\n",
            "Best MAE - Test Dataset\n",
            "  MAE: 4.0 | sMAPE: 18.70 %\n",
            " 33%|███▎      | 495/1500 [6:10:26<32:19:27, 115.79s/it, best loss: 2.978437632245473]"
          ]
        },
        {
          "output_type": "stream",
          "name": "stderr",
          "text": [
            "/usr/local/lib/python3.7/dist-packages/keras/optimizer_v2/adam.py:105: UserWarning: The `lr` argument is deprecated, use `learning_rate` instead.\n",
            "  super(Adam, self).__init__(name, **kwargs)\n",
            "\n"
          ]
        },
        {
          "output_type": "stream",
          "name": "stdout",
          "text": [
            "\n",
            "\n",
            "Tested 496/1500 iterations.\n",
            "Best MAE - Validation Dataset\n",
            "  MAE: 3.0 | sMAPE: 11.57 %\n",
            "\n",
            "Best MAE - Test Dataset\n",
            "  MAE: 4.0 | sMAPE: 18.70 %\n",
            " 33%|███▎      | 496/1500 [6:10:55<25:00:00, 89.64s/it, best loss: 2.978437632245473]"
          ]
        },
        {
          "output_type": "stream",
          "name": "stderr",
          "text": [
            "/usr/local/lib/python3.7/dist-packages/keras/optimizer_v2/adam.py:105: UserWarning: The `lr` argument is deprecated, use `learning_rate` instead.\n",
            "  super(Adam, self).__init__(name, **kwargs)\n",
            "\n"
          ]
        },
        {
          "output_type": "stream",
          "name": "stdout",
          "text": [
            "\n",
            "\n",
            "Tested 497/1500 iterations.\n",
            "Best MAE - Validation Dataset\n",
            "  MAE: 3.0 | sMAPE: 11.57 %\n",
            "\n",
            "Best MAE - Test Dataset\n",
            "  MAE: 4.0 | sMAPE: 18.70 %\n",
            " 33%|███▎      | 497/1500 [6:11:07<18:28:10, 66.29s/it, best loss: 2.978437632245473]"
          ]
        },
        {
          "output_type": "stream",
          "name": "stderr",
          "text": [
            "/usr/local/lib/python3.7/dist-packages/keras/optimizer_v2/adam.py:105: UserWarning: The `lr` argument is deprecated, use `learning_rate` instead.\n",
            "  super(Adam, self).__init__(name, **kwargs)\n",
            "\n"
          ]
        },
        {
          "output_type": "stream",
          "name": "stdout",
          "text": [
            "\n",
            "\n",
            "Tested 498/1500 iterations.\n",
            "Best MAE - Validation Dataset\n",
            "  MAE: 3.0 | sMAPE: 11.57 %\n",
            "\n",
            "Best MAE - Test Dataset\n",
            "  MAE: 4.0 | sMAPE: 18.70 %\n",
            " 33%|███▎      | 498/1500 [6:11:20<13:59:55, 50.30s/it, best loss: 2.978437632245473]"
          ]
        },
        {
          "output_type": "stream",
          "name": "stderr",
          "text": [
            "/usr/local/lib/python3.7/dist-packages/keras/optimizer_v2/adam.py:105: UserWarning: The `lr` argument is deprecated, use `learning_rate` instead.\n",
            "  super(Adam, self).__init__(name, **kwargs)\n",
            "\n"
          ]
        },
        {
          "output_type": "stream",
          "name": "stdout",
          "text": [
            "\n",
            "\n",
            "Tested 499/1500 iterations.\n",
            "Best MAE - Validation Dataset\n",
            "  MAE: 3.0 | sMAPE: 11.57 %\n",
            "\n",
            "Best MAE - Test Dataset\n",
            "  MAE: 4.0 | sMAPE: 18.70 %\n",
            " 33%|███▎      | 499/1500 [6:12:19<14:42:42, 52.91s/it, best loss: 2.978437632245473]"
          ]
        },
        {
          "output_type": "stream",
          "name": "stderr",
          "text": [
            "/usr/local/lib/python3.7/dist-packages/keras/optimizer_v2/adam.py:105: UserWarning: The `lr` argument is deprecated, use `learning_rate` instead.\n",
            "  super(Adam, self).__init__(name, **kwargs)\n",
            "\n"
          ]
        },
        {
          "output_type": "stream",
          "name": "stdout",
          "text": [
            "\n",
            "\n",
            "Tested 500/1500 iterations.\n",
            "Best MAE - Validation Dataset\n",
            "  MAE: 3.0 | sMAPE: 11.57 %\n",
            "\n",
            "Best MAE - Test Dataset\n",
            "  MAE: 4.0 | sMAPE: 18.70 %\n",
            " 33%|███▎      | 500/1500 [6:13:30<16:13:25, 58.41s/it, best loss: 2.978437632245473]"
          ]
        },
        {
          "output_type": "stream",
          "name": "stderr",
          "text": [
            "/usr/local/lib/python3.7/dist-packages/keras/optimizer_v2/adam.py:105: UserWarning: The `lr` argument is deprecated, use `learning_rate` instead.\n",
            "  super(Adam, self).__init__(name, **kwargs)\n",
            "\n"
          ]
        },
        {
          "output_type": "stream",
          "name": "stdout",
          "text": [
            "\n",
            "\n",
            "Tested 501/1500 iterations.\n",
            "Best MAE - Validation Dataset\n",
            "  MAE: 3.0 | sMAPE: 11.57 %\n",
            "\n",
            "Best MAE - Test Dataset\n",
            "  MAE: 4.0 | sMAPE: 18.70 %\n",
            " 33%|███▎      | 501/1500 [6:14:30<16:21:53, 58.97s/it, best loss: 2.978437632245473]"
          ]
        },
        {
          "output_type": "stream",
          "name": "stderr",
          "text": [
            "/usr/local/lib/python3.7/dist-packages/keras/optimizer_v2/adam.py:105: UserWarning: The `lr` argument is deprecated, use `learning_rate` instead.\n",
            "  super(Adam, self).__init__(name, **kwargs)\n",
            "\n"
          ]
        },
        {
          "output_type": "stream",
          "name": "stdout",
          "text": [
            "\n",
            "\n",
            "Tested 502/1500 iterations.\n",
            "Best MAE - Validation Dataset\n",
            "  MAE: 3.0 | sMAPE: 11.57 %\n",
            "\n",
            "Best MAE - Test Dataset\n",
            "  MAE: 4.0 | sMAPE: 18.70 %\n",
            " 33%|███▎      | 502/1500 [6:16:17<20:20:49, 73.40s/it, best loss: 2.978437632245473]"
          ]
        },
        {
          "output_type": "stream",
          "name": "stderr",
          "text": [
            "/usr/local/lib/python3.7/dist-packages/keras/optimizer_v2/adam.py:105: UserWarning: The `lr` argument is deprecated, use `learning_rate` instead.\n",
            "  super(Adam, self).__init__(name, **kwargs)\n",
            "\n"
          ]
        },
        {
          "output_type": "stream",
          "name": "stdout",
          "text": [
            "\n",
            "\n",
            "Tested 503/1500 iterations.\n",
            "Best MAE - Validation Dataset\n",
            "  MAE: 3.0 | sMAPE: 11.57 %\n",
            "\n",
            "Best MAE - Test Dataset\n",
            "  MAE: 4.0 | sMAPE: 18.70 %\n",
            " 34%|███▎      | 503/1500 [6:16:50<16:56:37, 61.18s/it, best loss: 2.978437632245473]"
          ]
        },
        {
          "output_type": "stream",
          "name": "stderr",
          "text": [
            "/usr/local/lib/python3.7/dist-packages/keras/optimizer_v2/adam.py:105: UserWarning: The `lr` argument is deprecated, use `learning_rate` instead.\n",
            "  super(Adam, self).__init__(name, **kwargs)\n",
            "\n"
          ]
        },
        {
          "output_type": "stream",
          "name": "stdout",
          "text": [
            "\n",
            "\n",
            "Tested 504/1500 iterations.\n",
            "Best MAE - Validation Dataset\n",
            "  MAE: 3.0 | sMAPE: 11.57 %\n",
            "\n",
            "Best MAE - Test Dataset\n",
            "  MAE: 4.0 | sMAPE: 18.70 %\n",
            " 34%|███▎      | 504/1500 [6:17:45<16:22:29, 59.19s/it, best loss: 2.978437632245473]"
          ]
        },
        {
          "output_type": "stream",
          "name": "stderr",
          "text": [
            "/usr/local/lib/python3.7/dist-packages/keras/optimizer_v2/adam.py:105: UserWarning: The `lr` argument is deprecated, use `learning_rate` instead.\n",
            "  super(Adam, self).__init__(name, **kwargs)\n",
            "\n"
          ]
        },
        {
          "output_type": "stream",
          "name": "stdout",
          "text": [
            "\n",
            "\n",
            "Tested 505/1500 iterations.\n",
            "Best MAE - Validation Dataset\n",
            "  MAE: 3.0 | sMAPE: 11.57 %\n",
            "\n",
            "Best MAE - Test Dataset\n",
            "  MAE: 4.0 | sMAPE: 18.70 %\n",
            " 34%|███▎      | 505/1500 [6:18:02<12:53:11, 46.62s/it, best loss: 2.978437632245473]"
          ]
        },
        {
          "output_type": "stream",
          "name": "stderr",
          "text": [
            "/usr/local/lib/python3.7/dist-packages/keras/optimizer_v2/adam.py:105: UserWarning: The `lr` argument is deprecated, use `learning_rate` instead.\n",
            "  super(Adam, self).__init__(name, **kwargs)\n",
            "\n"
          ]
        },
        {
          "output_type": "stream",
          "name": "stdout",
          "text": [
            "\n",
            "\n",
            "Tested 506/1500 iterations.\n",
            "Best MAE - Validation Dataset\n",
            "  MAE: 3.0 | sMAPE: 11.57 %\n",
            "\n",
            "Best MAE - Test Dataset\n",
            "  MAE: 4.0 | sMAPE: 18.70 %\n",
            " 34%|███▎      | 506/1500 [6:19:40<17:07:53, 62.05s/it, best loss: 2.978437632245473]"
          ]
        },
        {
          "output_type": "stream",
          "name": "stderr",
          "text": [
            "/usr/local/lib/python3.7/dist-packages/keras/optimizer_v2/adam.py:105: UserWarning: The `lr` argument is deprecated, use `learning_rate` instead.\n",
            "  super(Adam, self).__init__(name, **kwargs)\n",
            "\n"
          ]
        },
        {
          "output_type": "stream",
          "name": "stdout",
          "text": [
            "\n",
            "\n",
            "Tested 507/1500 iterations.\n",
            "Best MAE - Validation Dataset\n",
            "  MAE: 3.0 | sMAPE: 11.57 %\n",
            "\n",
            "Best MAE - Test Dataset\n",
            "  MAE: 4.0 | sMAPE: 18.70 %\n",
            " 34%|███▍      | 507/1500 [6:20:18<15:07:39, 54.84s/it, best loss: 2.978437632245473]"
          ]
        },
        {
          "output_type": "stream",
          "name": "stderr",
          "text": [
            "/usr/local/lib/python3.7/dist-packages/keras/optimizer_v2/adam.py:105: UserWarning: The `lr` argument is deprecated, use `learning_rate` instead.\n",
            "  super(Adam, self).__init__(name, **kwargs)\n",
            "\n"
          ]
        },
        {
          "output_type": "stream",
          "name": "stdout",
          "text": [
            "\n",
            "\n",
            "Tested 508/1500 iterations.\n",
            "Best MAE - Validation Dataset\n",
            "  MAE: 3.0 | sMAPE: 11.57 %\n",
            "\n",
            "Best MAE - Test Dataset\n",
            "  MAE: 4.0 | sMAPE: 18.70 %\n",
            " 34%|███▍      | 508/1500 [6:20:51<13:19:06, 48.33s/it, best loss: 2.978437632245473]"
          ]
        },
        {
          "output_type": "stream",
          "name": "stderr",
          "text": [
            "/usr/local/lib/python3.7/dist-packages/keras/optimizer_v2/adam.py:105: UserWarning: The `lr` argument is deprecated, use `learning_rate` instead.\n",
            "  super(Adam, self).__init__(name, **kwargs)\n",
            "\n"
          ]
        },
        {
          "output_type": "stream",
          "name": "stdout",
          "text": [
            "\n",
            "\n",
            "Tested 509/1500 iterations.\n",
            "Best MAE - Validation Dataset\n",
            "  MAE: 3.0 | sMAPE: 11.57 %\n",
            "\n",
            "Best MAE - Test Dataset\n",
            "  MAE: 4.0 | sMAPE: 18.70 %\n",
            " 34%|███▍      | 509/1500 [6:21:38<13:12:53, 48.01s/it, best loss: 2.978437632245473]"
          ]
        },
        {
          "output_type": "stream",
          "name": "stderr",
          "text": [
            "/usr/local/lib/python3.7/dist-packages/keras/optimizer_v2/adam.py:105: UserWarning: The `lr` argument is deprecated, use `learning_rate` instead.\n",
            "  super(Adam, self).__init__(name, **kwargs)\n",
            "\n"
          ]
        },
        {
          "output_type": "stream",
          "name": "stdout",
          "text": [
            "\n",
            "\n",
            "Tested 510/1500 iterations.\n",
            "Best MAE - Validation Dataset\n",
            "  MAE: 3.0 | sMAPE: 11.57 %\n",
            "\n",
            "Best MAE - Test Dataset\n",
            "  MAE: 4.0 | sMAPE: 18.70 %\n",
            " 34%|███▍      | 510/1500 [6:22:26<13:09:36, 47.86s/it, best loss: 2.978437632245473]"
          ]
        },
        {
          "output_type": "stream",
          "name": "stderr",
          "text": [
            "/usr/local/lib/python3.7/dist-packages/keras/optimizer_v2/adam.py:105: UserWarning: The `lr` argument is deprecated, use `learning_rate` instead.\n",
            "  super(Adam, self).__init__(name, **kwargs)\n",
            "\n"
          ]
        },
        {
          "output_type": "stream",
          "name": "stdout",
          "text": [
            "\n",
            "\n",
            "Tested 511/1500 iterations.\n",
            "Best MAE - Validation Dataset\n",
            "  MAE: 3.0 | sMAPE: 11.57 %\n",
            "\n",
            "Best MAE - Test Dataset\n",
            "  MAE: 4.0 | sMAPE: 18.70 %\n",
            " 34%|███▍      | 511/1500 [6:23:29<14:22:37, 52.33s/it, best loss: 2.978437632245473]"
          ]
        },
        {
          "output_type": "stream",
          "name": "stderr",
          "text": [
            "/usr/local/lib/python3.7/dist-packages/keras/optimizer_v2/adam.py:105: UserWarning: The `lr` argument is deprecated, use `learning_rate` instead.\n",
            "  super(Adam, self).__init__(name, **kwargs)\n",
            "\n"
          ]
        },
        {
          "output_type": "stream",
          "name": "stdout",
          "text": [
            "\n",
            "\n",
            "Tested 512/1500 iterations.\n",
            "Best MAE - Validation Dataset\n",
            "  MAE: 3.0 | sMAPE: 11.57 %\n",
            "\n",
            "Best MAE - Test Dataset\n",
            "  MAE: 4.0 | sMAPE: 18.70 %\n",
            " 34%|███▍      | 512/1500 [6:24:35<15:33:31, 56.69s/it, best loss: 2.978437632245473]"
          ]
        },
        {
          "output_type": "stream",
          "name": "stderr",
          "text": [
            "/usr/local/lib/python3.7/dist-packages/keras/optimizer_v2/adam.py:105: UserWarning: The `lr` argument is deprecated, use `learning_rate` instead.\n",
            "  super(Adam, self).__init__(name, **kwargs)\n",
            "\n"
          ]
        },
        {
          "output_type": "stream",
          "name": "stdout",
          "text": [
            "\n",
            "\n",
            "Tested 513/1500 iterations.\n",
            "Best MAE - Validation Dataset\n",
            "  MAE: 3.0 | sMAPE: 11.57 %\n",
            "\n",
            "Best MAE - Test Dataset\n",
            "  MAE: 4.0 | sMAPE: 18.70 %\n",
            " 34%|███▍      | 513/1500 [6:25:22<14:40:49, 53.55s/it, best loss: 2.978437632245473]"
          ]
        },
        {
          "output_type": "stream",
          "name": "stderr",
          "text": [
            "/usr/local/lib/python3.7/dist-packages/keras/optimizer_v2/adam.py:105: UserWarning: The `lr` argument is deprecated, use `learning_rate` instead.\n",
            "  super(Adam, self).__init__(name, **kwargs)\n",
            "\n"
          ]
        },
        {
          "output_type": "stream",
          "name": "stdout",
          "text": [
            "\n",
            "\n",
            "Tested 514/1500 iterations.\n",
            "Best MAE - Validation Dataset\n",
            "  MAE: 3.0 | sMAPE: 11.57 %\n",
            "\n",
            "Best MAE - Test Dataset\n",
            "  MAE: 4.0 | sMAPE: 18.70 %\n",
            " 34%|███▍      | 514/1500 [6:26:41<16:44:45, 61.14s/it, best loss: 2.978437632245473]"
          ]
        },
        {
          "output_type": "stream",
          "name": "stderr",
          "text": [
            "/usr/local/lib/python3.7/dist-packages/keras/optimizer_v2/adam.py:105: UserWarning: The `lr` argument is deprecated, use `learning_rate` instead.\n",
            "  super(Adam, self).__init__(name, **kwargs)\n",
            "\n"
          ]
        },
        {
          "output_type": "stream",
          "name": "stdout",
          "text": [
            "\n",
            "\n",
            "Tested 515/1500 iterations.\n",
            "Best MAE - Validation Dataset\n",
            "  MAE: 3.0 | sMAPE: 11.57 %\n",
            "\n",
            "Best MAE - Test Dataset\n",
            "  MAE: 4.0 | sMAPE: 18.70 %\n",
            " 34%|███▍      | 515/1500 [6:27:38<16:23:09, 59.89s/it, best loss: 2.978437632245473]"
          ]
        },
        {
          "output_type": "stream",
          "name": "stderr",
          "text": [
            "/usr/local/lib/python3.7/dist-packages/keras/optimizer_v2/adam.py:105: UserWarning: The `lr` argument is deprecated, use `learning_rate` instead.\n",
            "  super(Adam, self).__init__(name, **kwargs)\n",
            "\n"
          ]
        },
        {
          "output_type": "stream",
          "name": "stdout",
          "text": [
            "\n",
            "\n",
            "Tested 516/1500 iterations.\n",
            "Best MAE - Validation Dataset\n",
            "  MAE: 3.0 | sMAPE: 11.57 %\n",
            "\n",
            "Best MAE - Test Dataset\n",
            "  MAE: 4.0 | sMAPE: 18.70 %\n",
            " 34%|███▍      | 516/1500 [6:28:43<16:47:52, 61.46s/it, best loss: 2.978437632245473]"
          ]
        },
        {
          "output_type": "stream",
          "name": "stderr",
          "text": [
            "/usr/local/lib/python3.7/dist-packages/keras/optimizer_v2/adam.py:105: UserWarning: The `lr` argument is deprecated, use `learning_rate` instead.\n",
            "  super(Adam, self).__init__(name, **kwargs)\n",
            "\n"
          ]
        },
        {
          "output_type": "stream",
          "name": "stdout",
          "text": [
            "\n",
            "\n",
            "Tested 517/1500 iterations.\n",
            "Best MAE - Validation Dataset\n",
            "  MAE: 3.0 | sMAPE: 11.57 %\n",
            "\n",
            "Best MAE - Test Dataset\n",
            "  MAE: 4.0 | sMAPE: 18.70 %\n",
            " 34%|███▍      | 517/1500 [6:29:21<14:52:08, 54.45s/it, best loss: 2.978437632245473]"
          ]
        },
        {
          "output_type": "stream",
          "name": "stderr",
          "text": [
            "/usr/local/lib/python3.7/dist-packages/keras/optimizer_v2/adam.py:105: UserWarning: The `lr` argument is deprecated, use `learning_rate` instead.\n",
            "  super(Adam, self).__init__(name, **kwargs)\n",
            "\n"
          ]
        },
        {
          "output_type": "stream",
          "name": "stdout",
          "text": [
            "\n",
            "\n",
            "Tested 518/1500 iterations.\n",
            "Best MAE - Validation Dataset\n",
            "  MAE: 3.0 | sMAPE: 11.57 %\n",
            "\n",
            "Best MAE - Test Dataset\n",
            "  MAE: 4.0 | sMAPE: 18.70 %\n",
            " 35%|███▍      | 518/1500 [6:30:12<14:37:23, 53.61s/it, best loss: 2.978437632245473]"
          ]
        },
        {
          "output_type": "stream",
          "name": "stderr",
          "text": [
            "/usr/local/lib/python3.7/dist-packages/keras/optimizer_v2/adam.py:105: UserWarning: The `lr` argument is deprecated, use `learning_rate` instead.\n",
            "  super(Adam, self).__init__(name, **kwargs)\n",
            "\n"
          ]
        },
        {
          "output_type": "stream",
          "name": "stdout",
          "text": [
            "\n",
            "\n",
            "Tested 519/1500 iterations.\n",
            "Best MAE - Validation Dataset\n",
            "  MAE: 3.0 | sMAPE: 11.57 %\n",
            "\n",
            "Best MAE - Test Dataset\n",
            "  MAE: 4.0 | sMAPE: 18.70 %\n",
            " 35%|███▍      | 519/1500 [6:31:03<14:20:13, 52.61s/it, best loss: 2.978437632245473]"
          ]
        },
        {
          "output_type": "stream",
          "name": "stderr",
          "text": [
            "/usr/local/lib/python3.7/dist-packages/keras/optimizer_v2/adam.py:105: UserWarning: The `lr` argument is deprecated, use `learning_rate` instead.\n",
            "  super(Adam, self).__init__(name, **kwargs)\n",
            "\n"
          ]
        },
        {
          "output_type": "stream",
          "name": "stdout",
          "text": [
            "\n",
            "\n",
            "Tested 520/1500 iterations.\n",
            "Best MAE - Validation Dataset\n",
            "  MAE: 3.0 | sMAPE: 11.57 %\n",
            "\n",
            "Best MAE - Test Dataset\n",
            "  MAE: 4.0 | sMAPE: 18.70 %\n",
            " 35%|███▍      | 520/1500 [6:32:18<16:11:11, 59.46s/it, best loss: 2.978437632245473]"
          ]
        },
        {
          "output_type": "stream",
          "name": "stderr",
          "text": [
            "/usr/local/lib/python3.7/dist-packages/keras/optimizer_v2/adam.py:105: UserWarning: The `lr` argument is deprecated, use `learning_rate` instead.\n",
            "  super(Adam, self).__init__(name, **kwargs)\n",
            "\n"
          ]
        },
        {
          "output_type": "stream",
          "name": "stdout",
          "text": [
            "\n",
            "\n",
            "Tested 521/1500 iterations.\n",
            "Best MAE - Validation Dataset\n",
            "  MAE: 3.0 | sMAPE: 11.57 %\n",
            "\n",
            "Best MAE - Test Dataset\n",
            "  MAE: 4.0 | sMAPE: 18.70 %\n",
            " 35%|███▍      | 521/1500 [6:33:14<15:52:09, 58.36s/it, best loss: 2.978437632245473]"
          ]
        },
        {
          "output_type": "stream",
          "name": "stderr",
          "text": [
            "/usr/local/lib/python3.7/dist-packages/keras/optimizer_v2/adam.py:105: UserWarning: The `lr` argument is deprecated, use `learning_rate` instead.\n",
            "  super(Adam, self).__init__(name, **kwargs)\n",
            "\n"
          ]
        },
        {
          "output_type": "stream",
          "name": "stdout",
          "text": [
            "\n",
            "\n",
            "Tested 522/1500 iterations.\n",
            "Best MAE - Validation Dataset\n",
            "  MAE: 3.0 | sMAPE: 11.57 %\n",
            "\n",
            "Best MAE - Test Dataset\n",
            "  MAE: 4.0 | sMAPE: 18.70 %\n",
            " 35%|███▍      | 522/1500 [6:33:51<14:06:21, 51.92s/it, best loss: 2.978437632245473]"
          ]
        },
        {
          "output_type": "stream",
          "name": "stderr",
          "text": [
            "/usr/local/lib/python3.7/dist-packages/keras/optimizer_v2/adam.py:105: UserWarning: The `lr` argument is deprecated, use `learning_rate` instead.\n",
            "  super(Adam, self).__init__(name, **kwargs)\n",
            "\n"
          ]
        },
        {
          "output_type": "stream",
          "name": "stdout",
          "text": [
            "\n",
            "\n",
            "Tested 523/1500 iterations.\n",
            "Best MAE - Validation Dataset\n",
            "  MAE: 3.0 | sMAPE: 11.57 %\n",
            "\n",
            "Best MAE - Test Dataset\n",
            "  MAE: 4.0 | sMAPE: 18.70 %\n",
            " 35%|███▍      | 523/1500 [6:34:44<14:10:11, 52.21s/it, best loss: 2.978437632245473]"
          ]
        },
        {
          "output_type": "stream",
          "name": "stderr",
          "text": [
            "/usr/local/lib/python3.7/dist-packages/keras/optimizer_v2/adam.py:105: UserWarning: The `lr` argument is deprecated, use `learning_rate` instead.\n",
            "  super(Adam, self).__init__(name, **kwargs)\n",
            "\n"
          ]
        },
        {
          "output_type": "stream",
          "name": "stdout",
          "text": [
            "\n",
            "\n",
            "Tested 524/1500 iterations.\n",
            "Best MAE - Validation Dataset\n",
            "  MAE: 3.0 | sMAPE: 11.57 %\n",
            "\n",
            "Best MAE - Test Dataset\n",
            "  MAE: 4.0 | sMAPE: 18.70 %\n",
            " 35%|███▍      | 524/1500 [6:35:21<12:54:43, 47.63s/it, best loss: 2.978437632245473]"
          ]
        },
        {
          "output_type": "stream",
          "name": "stderr",
          "text": [
            "/usr/local/lib/python3.7/dist-packages/keras/optimizer_v2/adam.py:105: UserWarning: The `lr` argument is deprecated, use `learning_rate` instead.\n",
            "  super(Adam, self).__init__(name, **kwargs)\n",
            "\n"
          ]
        },
        {
          "output_type": "stream",
          "name": "stdout",
          "text": [
            "\n",
            "\n",
            "Tested 525/1500 iterations.\n",
            "Best MAE - Validation Dataset\n",
            "  MAE: 3.0 | sMAPE: 11.57 %\n",
            "\n",
            "Best MAE - Test Dataset\n",
            "  MAE: 4.0 | sMAPE: 18.70 %\n",
            " 35%|███▌      | 525/1500 [6:35:54<11:45:57, 43.44s/it, best loss: 2.978437632245473]"
          ]
        },
        {
          "output_type": "stream",
          "name": "stderr",
          "text": [
            "/usr/local/lib/python3.7/dist-packages/keras/optimizer_v2/adam.py:105: UserWarning: The `lr` argument is deprecated, use `learning_rate` instead.\n",
            "  super(Adam, self).__init__(name, **kwargs)\n",
            "\n"
          ]
        },
        {
          "output_type": "stream",
          "name": "stdout",
          "text": [
            "\n",
            "\n",
            "Tested 526/1500 iterations.\n",
            "Best MAE - Validation Dataset\n",
            "  MAE: 3.0 | sMAPE: 11.57 %\n",
            "\n",
            "Best MAE - Test Dataset\n",
            "  MAE: 4.0 | sMAPE: 18.70 %\n",
            " 35%|███▌      | 526/1500 [6:36:19<10:14:36, 37.86s/it, best loss: 2.978437632245473]"
          ]
        },
        {
          "output_type": "stream",
          "name": "stderr",
          "text": [
            "/usr/local/lib/python3.7/dist-packages/keras/optimizer_v2/adam.py:105: UserWarning: The `lr` argument is deprecated, use `learning_rate` instead.\n",
            "  super(Adam, self).__init__(name, **kwargs)\n",
            "\n"
          ]
        },
        {
          "output_type": "stream",
          "name": "stdout",
          "text": [
            "\n",
            "\n",
            "Tested 527/1500 iterations.\n",
            "Best MAE - Validation Dataset\n",
            "  MAE: 3.0 | sMAPE: 11.57 %\n",
            "\n",
            "Best MAE - Test Dataset\n",
            "  MAE: 4.0 | sMAPE: 18.70 %\n",
            " 35%|███▌      | 527/1500 [6:37:02<10:38:00, 39.34s/it, best loss: 2.978437632245473]"
          ]
        },
        {
          "output_type": "stream",
          "name": "stderr",
          "text": [
            "/usr/local/lib/python3.7/dist-packages/keras/optimizer_v2/adam.py:105: UserWarning: The `lr` argument is deprecated, use `learning_rate` instead.\n",
            "  super(Adam, self).__init__(name, **kwargs)\n",
            "\n"
          ]
        },
        {
          "output_type": "stream",
          "name": "stdout",
          "text": [
            "\n",
            "\n",
            "Tested 528/1500 iterations.\n",
            "Best MAE - Validation Dataset\n",
            "  MAE: 3.0 | sMAPE: 11.57 %\n",
            "\n",
            "Best MAE - Test Dataset\n",
            "  MAE: 4.0 | sMAPE: 18.70 %\n",
            " 35%|███▌      | 528/1500 [6:37:35<10:06:31, 37.44s/it, best loss: 2.978437632245473]"
          ]
        },
        {
          "output_type": "stream",
          "name": "stderr",
          "text": [
            "/usr/local/lib/python3.7/dist-packages/keras/optimizer_v2/adam.py:105: UserWarning: The `lr` argument is deprecated, use `learning_rate` instead.\n",
            "  super(Adam, self).__init__(name, **kwargs)\n",
            "\n"
          ]
        },
        {
          "output_type": "stream",
          "name": "stdout",
          "text": [
            "\n",
            "\n",
            "Tested 529/1500 iterations.\n",
            "Best MAE - Validation Dataset\n",
            "  MAE: 3.0 | sMAPE: 11.57 %\n",
            "\n",
            "Best MAE - Test Dataset\n",
            "  MAE: 4.0 | sMAPE: 18.70 %\n",
            " 35%|███▌      | 529/1500 [6:38:17<10:29:17, 38.89s/it, best loss: 2.978437632245473]"
          ]
        },
        {
          "output_type": "stream",
          "name": "stderr",
          "text": [
            "/usr/local/lib/python3.7/dist-packages/keras/optimizer_v2/adam.py:105: UserWarning: The `lr` argument is deprecated, use `learning_rate` instead.\n",
            "  super(Adam, self).__init__(name, **kwargs)\n",
            "\n"
          ]
        },
        {
          "output_type": "stream",
          "name": "stdout",
          "text": [
            "\n",
            "\n",
            "Tested 530/1500 iterations.\n",
            "Best MAE - Validation Dataset\n",
            "  MAE: 3.0 | sMAPE: 11.57 %\n",
            "\n",
            "Best MAE - Test Dataset\n",
            "  MAE: 4.0 | sMAPE: 18.70 %\n",
            " 35%|███▌      | 530/1500 [6:38:29<8:18:06, 30.81s/it, best loss: 2.978437632245473]"
          ]
        },
        {
          "output_type": "stream",
          "name": "stderr",
          "text": [
            "/usr/local/lib/python3.7/dist-packages/keras/optimizer_v2/adam.py:105: UserWarning: The `lr` argument is deprecated, use `learning_rate` instead.\n",
            "  super(Adam, self).__init__(name, **kwargs)\n",
            "\n"
          ]
        },
        {
          "output_type": "stream",
          "name": "stdout",
          "text": [
            "\n",
            "\n",
            "Tested 531/1500 iterations.\n",
            "Best MAE - Validation Dataset\n",
            "  MAE: 3.0 | sMAPE: 11.57 %\n",
            "\n",
            "Best MAE - Test Dataset\n",
            "  MAE: 4.0 | sMAPE: 18.70 %\n",
            " 35%|███▌      | 531/1500 [6:39:08<8:58:47, 33.36s/it, best loss: 2.978437632245473]"
          ]
        },
        {
          "output_type": "stream",
          "name": "stderr",
          "text": [
            "/usr/local/lib/python3.7/dist-packages/keras/optimizer_v2/adam.py:105: UserWarning: The `lr` argument is deprecated, use `learning_rate` instead.\n",
            "  super(Adam, self).__init__(name, **kwargs)\n",
            "\n"
          ]
        },
        {
          "output_type": "stream",
          "name": "stdout",
          "text": [
            "\n",
            "\n",
            "Tested 532/1500 iterations.\n",
            "Best MAE - Validation Dataset\n",
            "  MAE: 3.0 | sMAPE: 11.57 %\n",
            "\n",
            "Best MAE - Test Dataset\n",
            "  MAE: 4.0 | sMAPE: 18.70 %\n",
            " 35%|███▌      | 532/1500 [6:40:08<11:03:40, 41.14s/it, best loss: 2.978437632245473]"
          ]
        },
        {
          "output_type": "stream",
          "name": "stderr",
          "text": [
            "/usr/local/lib/python3.7/dist-packages/keras/optimizer_v2/adam.py:105: UserWarning: The `lr` argument is deprecated, use `learning_rate` instead.\n",
            "  super(Adam, self).__init__(name, **kwargs)\n",
            "\n"
          ]
        },
        {
          "output_type": "stream",
          "name": "stdout",
          "text": [
            "\n",
            "\n",
            "Tested 533/1500 iterations.\n",
            "Best MAE - Validation Dataset\n",
            "  MAE: 3.0 | sMAPE: 11.57 %\n",
            "\n",
            "Best MAE - Test Dataset\n",
            "  MAE: 4.0 | sMAPE: 18.70 %\n",
            " 36%|███▌      | 533/1500 [6:40:48<11:00:27, 40.98s/it, best loss: 2.978437632245473]"
          ]
        },
        {
          "output_type": "stream",
          "name": "stderr",
          "text": [
            "/usr/local/lib/python3.7/dist-packages/keras/optimizer_v2/adam.py:105: UserWarning: The `lr` argument is deprecated, use `learning_rate` instead.\n",
            "  super(Adam, self).__init__(name, **kwargs)\n",
            "\n"
          ]
        },
        {
          "output_type": "stream",
          "name": "stdout",
          "text": [
            "\n",
            "\n",
            "Tested 534/1500 iterations.\n",
            "Best MAE - Validation Dataset\n",
            "  MAE: 3.0 | sMAPE: 11.57 %\n",
            "\n",
            "Best MAE - Test Dataset\n",
            "  MAE: 4.0 | sMAPE: 18.70 %\n",
            " 36%|███▌      | 534/1500 [6:41:09<9:20:14, 34.80s/it, best loss: 2.978437632245473]"
          ]
        },
        {
          "output_type": "stream",
          "name": "stderr",
          "text": [
            "/usr/local/lib/python3.7/dist-packages/keras/optimizer_v2/adam.py:105: UserWarning: The `lr` argument is deprecated, use `learning_rate` instead.\n",
            "  super(Adam, self).__init__(name, **kwargs)\n",
            "\n"
          ]
        },
        {
          "output_type": "stream",
          "name": "stdout",
          "text": [
            "\n",
            "\n",
            "Tested 535/1500 iterations.\n",
            "Best MAE - Validation Dataset\n",
            "  MAE: 3.0 | sMAPE: 11.57 %\n",
            "\n",
            "Best MAE - Test Dataset\n",
            "  MAE: 4.0 | sMAPE: 18.70 %\n",
            " 36%|███▌      | 535/1500 [6:42:04<11:00:10, 41.05s/it, best loss: 2.978437632245473]"
          ]
        },
        {
          "output_type": "stream",
          "name": "stderr",
          "text": [
            "/usr/local/lib/python3.7/dist-packages/keras/optimizer_v2/adam.py:105: UserWarning: The `lr` argument is deprecated, use `learning_rate` instead.\n",
            "  super(Adam, self).__init__(name, **kwargs)\n",
            "\n"
          ]
        },
        {
          "output_type": "stream",
          "name": "stdout",
          "text": [
            "\n",
            "\n",
            "Tested 536/1500 iterations.\n",
            "Best MAE - Validation Dataset\n",
            "  MAE: 3.0 | sMAPE: 11.57 %\n",
            "\n",
            "Best MAE - Test Dataset\n",
            "  MAE: 4.0 | sMAPE: 18.70 %\n",
            " 36%|███▌      | 536/1500 [6:43:01<12:16:57, 45.87s/it, best loss: 2.978437632245473]"
          ]
        },
        {
          "output_type": "stream",
          "name": "stderr",
          "text": [
            "/usr/local/lib/python3.7/dist-packages/keras/optimizer_v2/adam.py:105: UserWarning: The `lr` argument is deprecated, use `learning_rate` instead.\n",
            "  super(Adam, self).__init__(name, **kwargs)\n",
            "\n"
          ]
        },
        {
          "output_type": "stream",
          "name": "stdout",
          "text": [
            "\n",
            "\n",
            "Tested 537/1500 iterations.\n",
            "Best MAE - Validation Dataset\n",
            "  MAE: 3.0 | sMAPE: 11.57 %\n",
            "\n",
            "Best MAE - Test Dataset\n",
            "  MAE: 4.0 | sMAPE: 18.70 %\n",
            " 36%|███▌      | 537/1500 [6:43:23<10:18:10, 38.52s/it, best loss: 2.978437632245473]"
          ]
        },
        {
          "output_type": "stream",
          "name": "stderr",
          "text": [
            "/usr/local/lib/python3.7/dist-packages/keras/optimizer_v2/adam.py:105: UserWarning: The `lr` argument is deprecated, use `learning_rate` instead.\n",
            "  super(Adam, self).__init__(name, **kwargs)\n",
            "\n"
          ]
        },
        {
          "output_type": "stream",
          "name": "stdout",
          "text": [
            "\n",
            "\n",
            "Tested 538/1500 iterations.\n",
            "Best MAE - Validation Dataset\n",
            "  MAE: 3.0 | sMAPE: 11.57 %\n",
            "\n",
            "Best MAE - Test Dataset\n",
            "  MAE: 4.0 | sMAPE: 18.70 %\n",
            " 36%|███▌      | 538/1500 [6:44:12<11:09:40, 41.77s/it, best loss: 2.978437632245473]"
          ]
        },
        {
          "output_type": "stream",
          "name": "stderr",
          "text": [
            "/usr/local/lib/python3.7/dist-packages/keras/optimizer_v2/adam.py:105: UserWarning: The `lr` argument is deprecated, use `learning_rate` instead.\n",
            "  super(Adam, self).__init__(name, **kwargs)\n",
            "\n"
          ]
        },
        {
          "output_type": "stream",
          "name": "stdout",
          "text": [
            "\n",
            "\n",
            "Tested 539/1500 iterations.\n",
            "Best MAE - Validation Dataset\n",
            "  MAE: 3.0 | sMAPE: 11.57 %\n",
            "\n",
            "Best MAE - Test Dataset\n",
            "  MAE: 4.0 | sMAPE: 18.70 %\n",
            " 36%|███▌      | 539/1500 [6:44:52<11:00:10, 41.22s/it, best loss: 2.978437632245473]"
          ]
        },
        {
          "output_type": "stream",
          "name": "stderr",
          "text": [
            "/usr/local/lib/python3.7/dist-packages/keras/optimizer_v2/adam.py:105: UserWarning: The `lr` argument is deprecated, use `learning_rate` instead.\n",
            "  super(Adam, self).__init__(name, **kwargs)\n",
            "\n"
          ]
        },
        {
          "output_type": "stream",
          "name": "stdout",
          "text": [
            "\n",
            "\n",
            "Tested 540/1500 iterations.\n",
            "Best MAE - Validation Dataset\n",
            "  MAE: 3.0 | sMAPE: 11.57 %\n",
            "\n",
            "Best MAE - Test Dataset\n",
            "  MAE: 4.0 | sMAPE: 18.70 %\n",
            " 36%|███▌      | 540/1500 [6:45:59<13:04:06, 49.01s/it, best loss: 2.978437632245473]"
          ]
        },
        {
          "output_type": "stream",
          "name": "stderr",
          "text": [
            "/usr/local/lib/python3.7/dist-packages/keras/optimizer_v2/adam.py:105: UserWarning: The `lr` argument is deprecated, use `learning_rate` instead.\n",
            "  super(Adam, self).__init__(name, **kwargs)\n",
            "\n"
          ]
        },
        {
          "output_type": "stream",
          "name": "stdout",
          "text": [
            "\n",
            "\n",
            "Tested 541/1500 iterations.\n",
            "Best MAE - Validation Dataset\n",
            "  MAE: 3.0 | sMAPE: 11.57 %\n",
            "\n",
            "Best MAE - Test Dataset\n",
            "  MAE: 4.0 | sMAPE: 18.70 %\n",
            " 36%|███▌      | 541/1500 [6:47:11<14:54:21, 55.96s/it, best loss: 2.978437632245473]"
          ]
        },
        {
          "output_type": "stream",
          "name": "stderr",
          "text": [
            "/usr/local/lib/python3.7/dist-packages/keras/optimizer_v2/adam.py:105: UserWarning: The `lr` argument is deprecated, use `learning_rate` instead.\n",
            "  super(Adam, self).__init__(name, **kwargs)\n",
            "\n"
          ]
        },
        {
          "output_type": "stream",
          "name": "stdout",
          "text": [
            "\n",
            "\n",
            "Tested 542/1500 iterations.\n",
            "Best MAE - Validation Dataset\n",
            "  MAE: 3.0 | sMAPE: 11.57 %\n",
            "\n",
            "Best MAE - Test Dataset\n",
            "  MAE: 4.0 | sMAPE: 18.70 %\n",
            " 36%|███▌      | 542/1500 [6:48:11<15:09:46, 56.98s/it, best loss: 2.978437632245473]"
          ]
        },
        {
          "output_type": "stream",
          "name": "stderr",
          "text": [
            "/usr/local/lib/python3.7/dist-packages/keras/optimizer_v2/adam.py:105: UserWarning: The `lr` argument is deprecated, use `learning_rate` instead.\n",
            "  super(Adam, self).__init__(name, **kwargs)\n",
            "\n"
          ]
        },
        {
          "output_type": "stream",
          "name": "stdout",
          "text": [
            "\n",
            "\n",
            "Tested 543/1500 iterations.\n",
            "Best MAE - Validation Dataset\n",
            "  MAE: 3.0 | sMAPE: 11.57 %\n",
            "\n",
            "Best MAE - Test Dataset\n",
            "  MAE: 4.0 | sMAPE: 18.70 %\n",
            " 36%|███▌      | 543/1500 [6:48:45<13:19:26, 50.12s/it, best loss: 2.978437632245473]"
          ]
        },
        {
          "output_type": "stream",
          "name": "stderr",
          "text": [
            "/usr/local/lib/python3.7/dist-packages/keras/optimizer_v2/adam.py:105: UserWarning: The `lr` argument is deprecated, use `learning_rate` instead.\n",
            "  super(Adam, self).__init__(name, **kwargs)\n",
            "\n"
          ]
        },
        {
          "output_type": "stream",
          "name": "stdout",
          "text": [
            "\n",
            "\n",
            "Tested 544/1500 iterations.\n",
            "Best MAE - Validation Dataset\n",
            "  MAE: 3.0 | sMAPE: 11.57 %\n",
            "\n",
            "Best MAE - Test Dataset\n",
            "  MAE: 4.0 | sMAPE: 18.70 %\n",
            " 36%|███▋      | 544/1500 [6:49:26<12:37:32, 47.54s/it, best loss: 2.978437632245473]"
          ]
        },
        {
          "output_type": "stream",
          "name": "stderr",
          "text": [
            "/usr/local/lib/python3.7/dist-packages/keras/optimizer_v2/adam.py:105: UserWarning: The `lr` argument is deprecated, use `learning_rate` instead.\n",
            "  super(Adam, self).__init__(name, **kwargs)\n",
            "\n"
          ]
        },
        {
          "output_type": "stream",
          "name": "stdout",
          "text": [
            "\n",
            "\n",
            "Tested 545/1500 iterations.\n",
            "Best MAE - Validation Dataset\n",
            "  MAE: 3.0 | sMAPE: 11.57 %\n",
            "\n",
            "Best MAE - Test Dataset\n",
            "  MAE: 4.0 | sMAPE: 18.70 %\n",
            " 36%|███▋      | 545/1500 [6:50:08<12:06:47, 45.66s/it, best loss: 2.978437632245473]"
          ]
        },
        {
          "output_type": "stream",
          "name": "stderr",
          "text": [
            "/usr/local/lib/python3.7/dist-packages/keras/optimizer_v2/adam.py:105: UserWarning: The `lr` argument is deprecated, use `learning_rate` instead.\n",
            "  super(Adam, self).__init__(name, **kwargs)\n",
            "\n"
          ]
        },
        {
          "output_type": "stream",
          "name": "stdout",
          "text": [
            "\n",
            "\n",
            "Tested 546/1500 iterations.\n",
            "Best MAE - Validation Dataset\n",
            "  MAE: 3.0 | sMAPE: 11.57 %\n",
            "\n",
            "Best MAE - Test Dataset\n",
            "  MAE: 4.0 | sMAPE: 18.70 %\n",
            " 36%|███▋      | 546/1500 [6:50:52<12:00:14, 45.30s/it, best loss: 2.978437632245473]"
          ]
        },
        {
          "output_type": "stream",
          "name": "stderr",
          "text": [
            "/usr/local/lib/python3.7/dist-packages/keras/optimizer_v2/adam.py:105: UserWarning: The `lr` argument is deprecated, use `learning_rate` instead.\n",
            "  super(Adam, self).__init__(name, **kwargs)\n",
            "\n"
          ]
        },
        {
          "output_type": "stream",
          "name": "stdout",
          "text": [
            "\n",
            "\n",
            "Tested 547/1500 iterations.\n",
            "Best MAE - Validation Dataset\n",
            "  MAE: 3.0 | sMAPE: 11.57 %\n",
            "\n",
            "Best MAE - Test Dataset\n",
            "  MAE: 4.0 | sMAPE: 18.70 %\n",
            " 36%|███▋      | 547/1500 [6:51:45<12:35:39, 47.58s/it, best loss: 2.978437632245473]"
          ]
        },
        {
          "output_type": "stream",
          "name": "stderr",
          "text": [
            "/usr/local/lib/python3.7/dist-packages/keras/optimizer_v2/adam.py:105: UserWarning: The `lr` argument is deprecated, use `learning_rate` instead.\n",
            "  super(Adam, self).__init__(name, **kwargs)\n",
            "\n"
          ]
        },
        {
          "output_type": "stream",
          "name": "stdout",
          "text": [
            "\n",
            "\n",
            "Tested 548/1500 iterations.\n",
            "Best MAE - Validation Dataset\n",
            "  MAE: 3.0 | sMAPE: 11.57 %\n",
            "\n",
            "Best MAE - Test Dataset\n",
            "  MAE: 4.0 | sMAPE: 18.70 %\n",
            " 37%|███▋      | 548/1500 [6:52:01<10:04:44, 38.11s/it, best loss: 2.978437632245473]"
          ]
        },
        {
          "output_type": "stream",
          "name": "stderr",
          "text": [
            "/usr/local/lib/python3.7/dist-packages/keras/optimizer_v2/adam.py:105: UserWarning: The `lr` argument is deprecated, use `learning_rate` instead.\n",
            "  super(Adam, self).__init__(name, **kwargs)\n",
            "\n"
          ]
        },
        {
          "output_type": "stream",
          "name": "stdout",
          "text": [
            "\n",
            "\n",
            "Tested 549/1500 iterations.\n",
            "Best MAE - Validation Dataset\n",
            "  MAE: 3.0 | sMAPE: 11.57 %\n",
            "\n",
            "Best MAE - Test Dataset\n",
            "  MAE: 4.0 | sMAPE: 18.70 %\n",
            " 37%|███▋      | 549/1500 [6:52:24<8:49:59, 33.44s/it, best loss: 2.978437632245473]"
          ]
        },
        {
          "output_type": "stream",
          "name": "stderr",
          "text": [
            "/usr/local/lib/python3.7/dist-packages/keras/optimizer_v2/adam.py:105: UserWarning: The `lr` argument is deprecated, use `learning_rate` instead.\n",
            "  super(Adam, self).__init__(name, **kwargs)\n",
            "\n"
          ]
        },
        {
          "output_type": "stream",
          "name": "stdout",
          "text": [
            "\n",
            "\n",
            "Tested 550/1500 iterations.\n",
            "Best MAE - Validation Dataset\n",
            "  MAE: 3.0 | sMAPE: 11.57 %\n",
            "\n",
            "Best MAE - Test Dataset\n",
            "  MAE: 4.0 | sMAPE: 18.70 %\n",
            " 37%|███▋      | 550/1500 [6:53:25<11:02:52, 41.87s/it, best loss: 2.978437632245473]"
          ]
        },
        {
          "output_type": "stream",
          "name": "stderr",
          "text": [
            "/usr/local/lib/python3.7/dist-packages/keras/optimizer_v2/adam.py:105: UserWarning: The `lr` argument is deprecated, use `learning_rate` instead.\n",
            "  super(Adam, self).__init__(name, **kwargs)\n",
            "\n"
          ]
        },
        {
          "output_type": "stream",
          "name": "stdout",
          "text": [
            "\n",
            "\n",
            "Tested 551/1500 iterations.\n",
            "Best MAE - Validation Dataset\n",
            "  MAE: 3.0 | sMAPE: 11.57 %\n",
            "\n",
            "Best MAE - Test Dataset\n",
            "  MAE: 4.0 | sMAPE: 18.70 %\n",
            " 37%|███▋      | 551/1500 [6:54:11<11:19:12, 42.94s/it, best loss: 2.978437632245473]"
          ]
        },
        {
          "output_type": "stream",
          "name": "stderr",
          "text": [
            "/usr/local/lib/python3.7/dist-packages/keras/optimizer_v2/adam.py:105: UserWarning: The `lr` argument is deprecated, use `learning_rate` instead.\n",
            "  super(Adam, self).__init__(name, **kwargs)\n",
            "\n"
          ]
        },
        {
          "output_type": "stream",
          "name": "stdout",
          "text": [
            "\n",
            "\n",
            "Tested 552/1500 iterations.\n",
            "Best MAE - Validation Dataset\n",
            "  MAE: 3.0 | sMAPE: 11.57 %\n",
            "\n",
            "Best MAE - Test Dataset\n",
            "  MAE: 4.0 | sMAPE: 18.70 %\n",
            " 37%|███▋      | 552/1500 [6:54:46<10:40:11, 40.52s/it, best loss: 2.978437632245473]"
          ]
        },
        {
          "output_type": "stream",
          "name": "stderr",
          "text": [
            "/usr/local/lib/python3.7/dist-packages/keras/optimizer_v2/adam.py:105: UserWarning: The `lr` argument is deprecated, use `learning_rate` instead.\n",
            "  super(Adam, self).__init__(name, **kwargs)\n",
            "\n"
          ]
        },
        {
          "output_type": "stream",
          "name": "stdout",
          "text": [
            "\n",
            "\n",
            "Tested 553/1500 iterations.\n",
            "Best MAE - Validation Dataset\n",
            "  MAE: 3.0 | sMAPE: 11.57 %\n",
            "\n",
            "Best MAE - Test Dataset\n",
            "  MAE: 4.0 | sMAPE: 18.70 %\n",
            " 37%|███▋      | 553/1500 [6:55:47<12:17:24, 46.72s/it, best loss: 2.978437632245473]"
          ]
        },
        {
          "output_type": "stream",
          "name": "stderr",
          "text": [
            "/usr/local/lib/python3.7/dist-packages/keras/optimizer_v2/adam.py:105: UserWarning: The `lr` argument is deprecated, use `learning_rate` instead.\n",
            "  super(Adam, self).__init__(name, **kwargs)\n",
            "\n"
          ]
        },
        {
          "output_type": "stream",
          "name": "stdout",
          "text": [
            "\n",
            "\n",
            "Tested 554/1500 iterations.\n",
            "Best MAE - Validation Dataset\n",
            "  MAE: 3.0 | sMAPE: 11.57 %\n",
            "\n",
            "Best MAE - Test Dataset\n",
            "  MAE: 4.0 | sMAPE: 18.70 %\n",
            " 37%|███▋      | 554/1500 [6:56:27<11:44:44, 44.70s/it, best loss: 2.978437632245473]"
          ]
        },
        {
          "output_type": "stream",
          "name": "stderr",
          "text": [
            "/usr/local/lib/python3.7/dist-packages/keras/optimizer_v2/adam.py:105: UserWarning: The `lr` argument is deprecated, use `learning_rate` instead.\n",
            "  super(Adam, self).__init__(name, **kwargs)\n",
            "\n"
          ]
        },
        {
          "output_type": "stream",
          "name": "stdout",
          "text": [
            "\n",
            "\n",
            "Tested 555/1500 iterations.\n",
            "Best MAE - Validation Dataset\n",
            "  MAE: 3.0 | sMAPE: 11.57 %\n",
            "\n",
            "Best MAE - Test Dataset\n",
            "  MAE: 4.0 | sMAPE: 18.70 %\n",
            " 37%|███▋      | 555/1500 [6:56:46<9:42:01, 36.95s/it, best loss: 2.978437632245473]"
          ]
        },
        {
          "output_type": "stream",
          "name": "stderr",
          "text": [
            "/usr/local/lib/python3.7/dist-packages/keras/optimizer_v2/adam.py:105: UserWarning: The `lr` argument is deprecated, use `learning_rate` instead.\n",
            "  super(Adam, self).__init__(name, **kwargs)\n",
            "\n"
          ]
        },
        {
          "output_type": "stream",
          "name": "stdout",
          "text": [
            "\n",
            "\n",
            "Tested 556/1500 iterations.\n",
            "Best MAE - Validation Dataset\n",
            "  MAE: 3.0 | sMAPE: 11.57 %\n",
            "\n",
            "Best MAE - Test Dataset\n",
            "  MAE: 4.0 | sMAPE: 18.70 %\n",
            " 37%|███▋      | 556/1500 [6:57:50<11:50:12, 45.14s/it, best loss: 2.978437632245473]"
          ]
        },
        {
          "output_type": "stream",
          "name": "stderr",
          "text": [
            "/usr/local/lib/python3.7/dist-packages/keras/optimizer_v2/adam.py:105: UserWarning: The `lr` argument is deprecated, use `learning_rate` instead.\n",
            "  super(Adam, self).__init__(name, **kwargs)\n",
            "\n"
          ]
        },
        {
          "output_type": "stream",
          "name": "stdout",
          "text": [
            "\n",
            "\n",
            "Tested 557/1500 iterations.\n",
            "Best MAE - Validation Dataset\n",
            "  MAE: 3.0 | sMAPE: 11.57 %\n",
            "\n",
            "Best MAE - Test Dataset\n",
            "  MAE: 4.0 | sMAPE: 18.70 %\n",
            " 37%|███▋      | 557/1500 [6:58:21<10:43:46, 40.96s/it, best loss: 2.978437632245473]"
          ]
        },
        {
          "output_type": "stream",
          "name": "stderr",
          "text": [
            "/usr/local/lib/python3.7/dist-packages/keras/optimizer_v2/adam.py:105: UserWarning: The `lr` argument is deprecated, use `learning_rate` instead.\n",
            "  super(Adam, self).__init__(name, **kwargs)\n",
            "\n"
          ]
        },
        {
          "output_type": "stream",
          "name": "stdout",
          "text": [
            "\n",
            "\n",
            "Tested 558/1500 iterations.\n",
            "Best MAE - Validation Dataset\n",
            "  MAE: 3.0 | sMAPE: 11.57 %\n",
            "\n",
            "Best MAE - Test Dataset\n",
            "  MAE: 4.0 | sMAPE: 18.70 %\n",
            " 37%|███▋      | 558/1500 [6:58:37<8:42:36, 33.29s/it, best loss: 2.978437632245473]"
          ]
        },
        {
          "output_type": "stream",
          "name": "stderr",
          "text": [
            "/usr/local/lib/python3.7/dist-packages/keras/optimizer_v2/adam.py:105: UserWarning: The `lr` argument is deprecated, use `learning_rate` instead.\n",
            "  super(Adam, self).__init__(name, **kwargs)\n",
            "\n"
          ]
        },
        {
          "output_type": "stream",
          "name": "stdout",
          "text": [
            "\n",
            "\n",
            "Tested 559/1500 iterations.\n",
            "Best MAE - Validation Dataset\n",
            "  MAE: 3.0 | sMAPE: 11.57 %\n",
            "\n",
            "Best MAE - Test Dataset\n",
            "  MAE: 4.0 | sMAPE: 18.70 %\n",
            " 37%|███▋      | 559/1500 [6:59:31<10:21:59, 39.66s/it, best loss: 2.978437632245473]"
          ]
        },
        {
          "output_type": "stream",
          "name": "stderr",
          "text": [
            "/usr/local/lib/python3.7/dist-packages/keras/optimizer_v2/adam.py:105: UserWarning: The `lr` argument is deprecated, use `learning_rate` instead.\n",
            "  super(Adam, self).__init__(name, **kwargs)\n",
            "\n"
          ]
        },
        {
          "output_type": "stream",
          "name": "stdout",
          "text": [
            "\n",
            "\n",
            "Tested 560/1500 iterations.\n",
            "Best MAE - Validation Dataset\n",
            "  MAE: 3.0 | sMAPE: 11.57 %\n",
            "\n",
            "Best MAE - Test Dataset\n",
            "  MAE: 4.0 | sMAPE: 18.70 %\n",
            " 37%|███▋      | 560/1500 [7:00:09<10:12:43, 39.11s/it, best loss: 2.978437632245473]"
          ]
        },
        {
          "output_type": "stream",
          "name": "stderr",
          "text": [
            "/usr/local/lib/python3.7/dist-packages/keras/optimizer_v2/adam.py:105: UserWarning: The `lr` argument is deprecated, use `learning_rate` instead.\n",
            "  super(Adam, self).__init__(name, **kwargs)\n",
            "\n"
          ]
        },
        {
          "output_type": "stream",
          "name": "stdout",
          "text": [
            "\n",
            "\n",
            "Tested 561/1500 iterations.\n",
            "Best MAE - Validation Dataset\n",
            "  MAE: 3.0 | sMAPE: 11.57 %\n",
            "\n",
            "Best MAE - Test Dataset\n",
            "  MAE: 4.0 | sMAPE: 18.70 %\n",
            " 37%|███▋      | 561/1500 [7:00:36<9:16:08, 35.54s/it, best loss: 2.978437632245473]"
          ]
        },
        {
          "output_type": "stream",
          "name": "stderr",
          "text": [
            "/usr/local/lib/python3.7/dist-packages/keras/optimizer_v2/adam.py:105: UserWarning: The `lr` argument is deprecated, use `learning_rate` instead.\n",
            "  super(Adam, self).__init__(name, **kwargs)\n",
            "\n"
          ]
        },
        {
          "output_type": "stream",
          "name": "stdout",
          "text": [
            "\n",
            "\n",
            "Tested 562/1500 iterations.\n",
            "Best MAE - Validation Dataset\n",
            "  MAE: 3.0 | sMAPE: 11.57 %\n",
            "\n",
            "Best MAE - Test Dataset\n",
            "  MAE: 4.0 | sMAPE: 18.70 %\n",
            " 37%|███▋      | 562/1500 [7:01:51<12:22:57, 47.52s/it, best loss: 2.978437632245473]"
          ]
        },
        {
          "output_type": "stream",
          "name": "stderr",
          "text": [
            "/usr/local/lib/python3.7/dist-packages/keras/optimizer_v2/adam.py:105: UserWarning: The `lr` argument is deprecated, use `learning_rate` instead.\n",
            "  super(Adam, self).__init__(name, **kwargs)\n",
            "\n"
          ]
        },
        {
          "output_type": "stream",
          "name": "stdout",
          "text": [
            "\n",
            "\n",
            "Tested 563/1500 iterations.\n",
            "Best MAE - Validation Dataset\n",
            "  MAE: 3.0 | sMAPE: 11.57 %\n",
            "\n",
            "Best MAE - Test Dataset\n",
            "  MAE: 4.0 | sMAPE: 18.70 %\n",
            " 38%|███▊      | 563/1500 [7:02:14<10:26:28, 40.12s/it, best loss: 2.978437632245473]"
          ]
        },
        {
          "output_type": "stream",
          "name": "stderr",
          "text": [
            "/usr/local/lib/python3.7/dist-packages/keras/optimizer_v2/adam.py:105: UserWarning: The `lr` argument is deprecated, use `learning_rate` instead.\n",
            "  super(Adam, self).__init__(name, **kwargs)\n",
            "\n"
          ]
        },
        {
          "output_type": "stream",
          "name": "stdout",
          "text": [
            "\n",
            "\n",
            "Tested 564/1500 iterations.\n",
            "Best MAE - Validation Dataset\n",
            "  MAE: 3.0 | sMAPE: 11.57 %\n",
            "\n",
            "Best MAE - Test Dataset\n",
            "  MAE: 4.0 | sMAPE: 18.70 %\n",
            " 38%|███▊      | 564/1500 [7:02:58<10:43:42, 41.26s/it, best loss: 2.978437632245473]"
          ]
        },
        {
          "output_type": "stream",
          "name": "stderr",
          "text": [
            "/usr/local/lib/python3.7/dist-packages/keras/optimizer_v2/adam.py:105: UserWarning: The `lr` argument is deprecated, use `learning_rate` instead.\n",
            "  super(Adam, self).__init__(name, **kwargs)\n",
            "\n"
          ]
        },
        {
          "output_type": "stream",
          "name": "stdout",
          "text": [
            "\n",
            "\n",
            "Tested 565/1500 iterations.\n",
            "Best MAE - Validation Dataset\n",
            "  MAE: 3.0 | sMAPE: 11.57 %\n",
            "\n",
            "Best MAE - Test Dataset\n",
            "  MAE: 4.0 | sMAPE: 18.70 %\n",
            " 38%|███▊      | 565/1500 [7:03:53<11:45:06, 45.25s/it, best loss: 2.978437632245473]"
          ]
        },
        {
          "output_type": "stream",
          "name": "stderr",
          "text": [
            "/usr/local/lib/python3.7/dist-packages/keras/optimizer_v2/adam.py:105: UserWarning: The `lr` argument is deprecated, use `learning_rate` instead.\n",
            "  super(Adam, self).__init__(name, **kwargs)\n",
            "\n"
          ]
        },
        {
          "output_type": "stream",
          "name": "stdout",
          "text": [
            "\n",
            "\n",
            "Tested 566/1500 iterations.\n",
            "Best MAE - Validation Dataset\n",
            "  MAE: 3.0 | sMAPE: 11.57 %\n",
            "\n",
            "Best MAE - Test Dataset\n",
            "  MAE: 4.0 | sMAPE: 18.70 %\n",
            " 38%|███▊      | 566/1500 [7:04:33<11:19:58, 43.68s/it, best loss: 2.978437632245473]"
          ]
        },
        {
          "output_type": "stream",
          "name": "stderr",
          "text": [
            "/usr/local/lib/python3.7/dist-packages/keras/optimizer_v2/adam.py:105: UserWarning: The `lr` argument is deprecated, use `learning_rate` instead.\n",
            "  super(Adam, self).__init__(name, **kwargs)\n",
            "\n"
          ]
        },
        {
          "output_type": "stream",
          "name": "stdout",
          "text": [
            "\n",
            "\n",
            "Tested 567/1500 iterations.\n",
            "Best MAE - Validation Dataset\n",
            "  MAE: 2.9 | sMAPE: 11.34 %\n",
            "\n",
            "Best MAE - Test Dataset\n",
            "  MAE: 3.8 | sMAPE: 18.64 %\n",
            " 38%|███▊      | 567/1500 [7:05:21<11:40:06, 45.02s/it, best loss: 2.9396669630857755]"
          ]
        },
        {
          "output_type": "stream",
          "name": "stderr",
          "text": [
            "/usr/local/lib/python3.7/dist-packages/keras/optimizer_v2/adam.py:105: UserWarning: The `lr` argument is deprecated, use `learning_rate` instead.\n",
            "  super(Adam, self).__init__(name, **kwargs)\n",
            "\n"
          ]
        },
        {
          "output_type": "stream",
          "name": "stdout",
          "text": [
            "\n",
            "\n",
            "Tested 568/1500 iterations.\n",
            "Best MAE - Validation Dataset\n",
            "  MAE: 2.9 | sMAPE: 11.34 %\n",
            "\n",
            "Best MAE - Test Dataset\n",
            "  MAE: 3.8 | sMAPE: 18.64 %\n",
            " 38%|███▊      | 568/1500 [7:06:02<11:21:54, 43.90s/it, best loss: 2.9396669630857755]"
          ]
        },
        {
          "output_type": "stream",
          "name": "stderr",
          "text": [
            "/usr/local/lib/python3.7/dist-packages/keras/optimizer_v2/adam.py:105: UserWarning: The `lr` argument is deprecated, use `learning_rate` instead.\n",
            "  super(Adam, self).__init__(name, **kwargs)\n",
            "\n"
          ]
        },
        {
          "output_type": "stream",
          "name": "stdout",
          "text": [
            "\n",
            "\n",
            "Tested 569/1500 iterations.\n",
            "Best MAE - Validation Dataset\n",
            "  MAE: 2.9 | sMAPE: 11.34 %\n",
            "\n",
            "Best MAE - Test Dataset\n",
            "  MAE: 3.8 | sMAPE: 18.64 %\n",
            " 38%|███▊      | 569/1500 [7:07:09<13:05:46, 50.64s/it, best loss: 2.9396669630857755]"
          ]
        },
        {
          "output_type": "stream",
          "name": "stderr",
          "text": [
            "/usr/local/lib/python3.7/dist-packages/keras/optimizer_v2/adam.py:105: UserWarning: The `lr` argument is deprecated, use `learning_rate` instead.\n",
            "  super(Adam, self).__init__(name, **kwargs)\n",
            "\n"
          ]
        },
        {
          "output_type": "stream",
          "name": "stdout",
          "text": [
            "\n",
            "\n",
            "Tested 570/1500 iterations.\n",
            "Best MAE - Validation Dataset\n",
            "  MAE: 2.9 | sMAPE: 11.34 %\n",
            "\n",
            "Best MAE - Test Dataset\n",
            "  MAE: 3.8 | sMAPE: 18.64 %\n",
            " 38%|███▊      | 570/1500 [7:08:05<13:34:02, 52.52s/it, best loss: 2.9396669630857755]"
          ]
        },
        {
          "output_type": "stream",
          "name": "stderr",
          "text": [
            "/usr/local/lib/python3.7/dist-packages/keras/optimizer_v2/adam.py:105: UserWarning: The `lr` argument is deprecated, use `learning_rate` instead.\n",
            "  super(Adam, self).__init__(name, **kwargs)\n",
            "\n"
          ]
        },
        {
          "output_type": "stream",
          "name": "stdout",
          "text": [
            "\n",
            "\n",
            "Tested 571/1500 iterations.\n",
            "Best MAE - Validation Dataset\n",
            "  MAE: 2.9 | sMAPE: 11.34 %\n",
            "\n",
            "Best MAE - Test Dataset\n",
            "  MAE: 3.8 | sMAPE: 18.64 %\n",
            " 38%|███▊      | 571/1500 [7:08:24<10:57:08, 42.44s/it, best loss: 2.9396669630857755]"
          ]
        },
        {
          "output_type": "stream",
          "name": "stderr",
          "text": [
            "/usr/local/lib/python3.7/dist-packages/keras/optimizer_v2/adam.py:105: UserWarning: The `lr` argument is deprecated, use `learning_rate` instead.\n",
            "  super(Adam, self).__init__(name, **kwargs)\n",
            "\n"
          ]
        },
        {
          "output_type": "stream",
          "name": "stdout",
          "text": [
            "\n",
            "\n",
            "Tested 572/1500 iterations.\n",
            "Best MAE - Validation Dataset\n",
            "  MAE: 2.9 | sMAPE: 11.34 %\n",
            "\n",
            "Best MAE - Test Dataset\n",
            "  MAE: 3.8 | sMAPE: 18.64 %\n",
            " 38%|███▊      | 572/1500 [7:09:20<11:56:23, 46.32s/it, best loss: 2.9396669630857755]"
          ]
        },
        {
          "output_type": "stream",
          "name": "stderr",
          "text": [
            "/usr/local/lib/python3.7/dist-packages/keras/optimizer_v2/adam.py:105: UserWarning: The `lr` argument is deprecated, use `learning_rate` instead.\n",
            "  super(Adam, self).__init__(name, **kwargs)\n",
            "\n"
          ]
        },
        {
          "output_type": "stream",
          "name": "stdout",
          "text": [
            "\n",
            "\n",
            "Tested 573/1500 iterations.\n",
            "Best MAE - Validation Dataset\n",
            "  MAE: 2.9 | sMAPE: 11.34 %\n",
            "\n",
            "Best MAE - Test Dataset\n",
            "  MAE: 3.8 | sMAPE: 18.64 %\n",
            " 38%|███▊      | 573/1500 [7:10:03<11:40:02, 45.31s/it, best loss: 2.9396669630857755]"
          ]
        },
        {
          "output_type": "stream",
          "name": "stderr",
          "text": [
            "/usr/local/lib/python3.7/dist-packages/keras/optimizer_v2/adam.py:105: UserWarning: The `lr` argument is deprecated, use `learning_rate` instead.\n",
            "  super(Adam, self).__init__(name, **kwargs)\n",
            "\n"
          ]
        }
      ]
    },
    {
      "cell_type": "code",
      "source": [
        "from epftoolbox.models import evaluate_dnn_in_test_dataset\n",
        "import os\n",
        "\n",
        "# Number of layers in DNN\n",
        "nlayers = 2\n",
        "\n",
        "# Market under study. If it not one of the standard ones, the file name\n",
        "# has to be provided, where the file has to be a csv file\n",
        "dataset = 'EPF_data'\n",
        "\n",
        "# Number of years (a year is 364 days) in the test dataset.\n",
        "years_test =  2.0195\n",
        "\n",
        "# Boolean that selects whether the validation and training datasets were shuffled when\n",
        "# performing the hyperparameter optimization. Note that it does not select whether\n",
        "# shuffling is used for recalibration as for recalibration the validation and the\n",
        "# training datasets are always shuffled.\n",
        "shuffle_train = 1\n",
        "\n",
        "# Boolean that selects whether a data augmentation technique for DNNs is used\n",
        "data_augmentation = 0\n",
        "\n",
        "# Boolean that selects whether we start a new recalibration or we restart an existing one\n",
        "new_recalibration = 1\n",
        "\n",
        "# Number of years used in the training dataset for recalibration\n",
        "calibration_window = 4\n",
        "\n",
        "# Unique identifier to read the trials file of hyperparameter optimization\n",
        "experiment_id = 1\n",
        "\n",
        "# Optional parameters for selecting the test dataset, if either of them is not provided, \n",
        "# the test dataset is built using the years_test parameter. They should either be one of\n",
        "# the date formats existing in python or a string with the following format\n",
        "# \"%d/%m/%Y %H:%M\"\n",
        "begin_test_date = '05/01/2015'\n",
        "end_test_date = '08/01/2017'\n",
        "\n",
        "# Set up the paths for saving data (this are the defaults for the library)\n",
        "path_datasets_folder = os.path.join('.', 'datasets')\n",
        "path_recalibration_folder = os.path.join('.', 'experimental_files')\n",
        "path_hyperparameter_folder = os.path.join('.', 'experimental_files')\n",
        "\n",
        "evaluate_dnn_in_test_dataset(experiment_id, path_hyperparameter_folder=path_hyperparameter_folder, \n",
        "                               path_datasets_folder=path_datasets_folder, shuffle_train=shuffle_train, \n",
        "                               path_recalibration_folder=path_recalibration_folder, \n",
        "                               nlayers=nlayers, dataset=dataset, years_test=years_test, \n",
        "                               data_augmentation=data_augmentation, calibration_window=calibration_window, \n",
        "                               new_recalibration=new_recalibration, begin_test_date=begin_test_date, \n",
        "                               end_test_date=end_test_date)"
      ],
      "metadata": {
        "id": "btn0fZowGx1v"
      },
      "execution_count": null,
      "outputs": []
    }
  ]
}