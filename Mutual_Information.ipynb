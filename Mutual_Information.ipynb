{
  "nbformat": 4,
  "nbformat_minor": 0,
  "metadata": {
    "colab": {
      "name": "Mutual Information.ipynb",
      "provenance": [],
      "collapsed_sections": [],
      "authorship_tag": "ABX9TyMQhglz66/LXifypHG8E2mi",
      "include_colab_link": true
    },
    "kernelspec": {
      "name": "python3",
      "display_name": "Python 3"
    },
    "language_info": {
      "name": "python"
    }
  },
  "cells": [
    {
      "cell_type": "markdown",
      "metadata": {
        "id": "view-in-github",
        "colab_type": "text"
      },
      "source": [
        "<a href=\"https://colab.research.google.com/github/souhirbenamor/EPF/blob/main/Mutual_Information.ipynb\" target=\"_parent\"><img src=\"https://colab.research.google.com/assets/colab-badge.svg\" alt=\"Open In Colab\"/></a>"
      ]
    },
    {
      "cell_type": "markdown",
      "source": [
        "https://github.com/krishnaik06/Complete-Feature-Selection/blob/master/4-Information%20gain%20-%20mutual%20information%20In%20Regression.ipynb"
      ],
      "metadata": {
        "id": "iIysMK2zzqk6"
      }
    },
    {
      "cell_type": "code",
      "source": [
        "import pandas as pd\n",
        "import numpy as np\n",
        "df = pd.read_csv('/content/NP_exo.csv')\n",
        "\n",
        "df = df.set_index(\"Date\") # define Date  as index\n",
        "\n",
        "df.shape"
      ],
      "metadata": {
        "colab": {
          "base_uri": "https://localhost:8080/"
        },
        "id": "1oI3UG3sR9kG",
        "outputId": "da20bd70-ab53-45da-f9e8-a5672573f8fb"
      },
      "execution_count": 1,
      "outputs": [
        {
          "output_type": "execute_result",
          "data": {
            "text/plain": [
              "(52416, 7)"
            ]
          },
          "metadata": {},
          "execution_count": 1
        }
      ]
    },
    {
      "cell_type": "code",
      "source": [
        "df.info()"
      ],
      "metadata": {
        "colab": {
          "base_uri": "https://localhost:8080/"
        },
        "id": "K7W6K20bxpMa",
        "outputId": "dba3374a-5474-4fbb-c273-7078748f7785"
      },
      "execution_count": 2,
      "outputs": [
        {
          "output_type": "stream",
          "name": "stdout",
          "text": [
            "<class 'pandas.core.frame.DataFrame'>\n",
            "Index: 52416 entries, 2013-01-01 00:00:00 to 2018-12-24 23:00:00\n",
            "Data columns (total 7 columns):\n",
            " #   Column                    Non-Null Count  Dtype  \n",
            "---  ------                    --------------  -----  \n",
            " 0    Price                    52416 non-null  float64\n",
            " 1    Grid load forecast       52416 non-null  float64\n",
            " 2    Wind power forecast      52416 non-null  float64\n",
            " 3   NP Consumption            52416 non-null  int64  \n",
            " 4   NP Consumption prognosis  52416 non-null  int64  \n",
            " 5   NP Production             52416 non-null  int64  \n",
            " 6   NP Production prognosis   52416 non-null  int64  \n",
            "dtypes: float64(3), int64(4)\n",
            "memory usage: 3.2+ MB\n"
          ]
        }
      ]
    },
    {
      "cell_type": "code",
      "source": [
        "df.isnull().sum()"
      ],
      "metadata": {
        "colab": {
          "base_uri": "https://localhost:8080/"
        },
        "id": "82bLtD4oxsXM",
        "outputId": "22405cbc-4c4b-4aea-a1a2-ed929d3e9498"
      },
      "execution_count": 3,
      "outputs": [
        {
          "output_type": "execute_result",
          "data": {
            "text/plain": [
              " Price                      0\n",
              " Grid load forecast         0\n",
              " Wind power forecast        0\n",
              "NP Consumption              0\n",
              "NP Consumption prognosis    0\n",
              "NP Production               0\n",
              "NP Production prognosis     0\n",
              "dtype: int64"
            ]
          },
          "metadata": {},
          "execution_count": 3
        }
      ]
    },
    {
      "cell_type": "code",
      "source": [
        "X=df.iloc[:, 1:7]\n",
        "y=df.iloc[:, 0]\n",
        "X_train = X[:-17472]; X_test = X[-17472:]\n",
        "y_train = y[:-17472]; y_test = y[-17472:]\n",
        "\n",
        "X_train.shape, y_train.shape, X_test.shape, y_test.shape\n"
      ],
      "metadata": {
        "colab": {
          "base_uri": "https://localhost:8080/"
        },
        "id": "_FvIaEmYyNaH",
        "outputId": "d7900ea0-0963-40fb-f909-28f947dae99d"
      },
      "execution_count": 4,
      "outputs": [
        {
          "output_type": "execute_result",
          "data": {
            "text/plain": [
              "((34944, 6), (34944,), (17472, 6), (17472,))"
            ]
          },
          "metadata": {},
          "execution_count": 4
        }
      ]
    },
    {
      "cell_type": "code",
      "source": [
        "X_train"
      ],
      "metadata": {
        "id": "e0xWz9h3ySbl"
      },
      "execution_count": null,
      "outputs": []
    },
    {
      "cell_type": "code",
      "source": [
        "X_train.isnull().sum()"
      ],
      "metadata": {
        "colab": {
          "base_uri": "https://localhost:8080/"
        },
        "id": "FT5JLttMybkv",
        "outputId": "c8e101a0-8669-476e-ee6a-c7243bcd78b2"
      },
      "execution_count": 6,
      "outputs": [
        {
          "output_type": "execute_result",
          "data": {
            "text/plain": [
              " Grid load forecast         0\n",
              " Wind power forecast        0\n",
              "NP Consumption              0\n",
              "NP Consumption prognosis    0\n",
              "NP Production               0\n",
              "NP Production prognosis     0\n",
              "dtype: int64"
            ]
          },
          "metadata": {},
          "execution_count": 6
        }
      ]
    },
    {
      "cell_type": "code",
      "source": [
        "from sklearn.feature_selection import mutual_info_regression\n",
        "# determine the mutual information\n",
        "mutual_info = mutual_info_regression(X_train.fillna(0), y_train)\n",
        "mutual_info"
      ],
      "metadata": {
        "colab": {
          "base_uri": "https://localhost:8080/"
        },
        "id": "INeDIg9pydFq",
        "outputId": "d2321adc-9985-4d21-b07c-2fafad930977"
      },
      "execution_count": 7,
      "outputs": [
        {
          "output_type": "execute_result",
          "data": {
            "text/plain": [
              "array([0.21781848, 0.04875067, 0.18236893, 0.17374261, 0.1571567 ,\n",
              "       0.18046416])"
            ]
          },
          "metadata": {},
          "execution_count": 7
        }
      ]
    },
    {
      "cell_type": "code",
      "source": [
        "mutual_info = pd.Series(mutual_info)\n",
        "mutual_info.index = X_train.columns\n",
        "mutual_info.sort_values(ascending=False)"
      ],
      "metadata": {
        "colab": {
          "base_uri": "https://localhost:8080/"
        },
        "id": "OOdNIc6QyjIx",
        "outputId": "c6b2300c-f324-4d1a-8eef-da5067d285e1"
      },
      "execution_count": 8,
      "outputs": [
        {
          "output_type": "execute_result",
          "data": {
            "text/plain": [
              " Grid load forecast         0.217818\n",
              "NP Consumption              0.182369\n",
              "NP Production prognosis     0.180464\n",
              "NP Consumption prognosis    0.173743\n",
              "NP Production               0.157157\n",
              " Wind power forecast        0.048751\n",
              "dtype: float64"
            ]
          },
          "metadata": {},
          "execution_count": 8
        }
      ]
    },
    {
      "cell_type": "code",
      "source": [
        "mutual_info.sort_values(ascending=False).plot.bar(figsize=(15,5))"
      ],
      "metadata": {
        "colab": {
          "base_uri": "https://localhost:8080/",
          "height": 461
        },
        "id": "sHroyREey_k_",
        "outputId": "e8d7cf0f-230e-4445-f8e5-b60c73a86f0a"
      },
      "execution_count": 9,
      "outputs": [
        {
          "output_type": "execute_result",
          "data": {
            "text/plain": [
              "<matplotlib.axes._subplots.AxesSubplot at 0x7f4320fe7750>"
            ]
          },
          "metadata": {},
          "execution_count": 9
        },
        {
          "output_type": "display_data",
          "data": {
            "image/png": "[encoded data removed]",
            "text/plain": [
              "<Figure size 1080x360 with 1 Axes>"
            ]
          },
          "metadata": {
            "needs_background": "light"
          }
        }
      ]
    },
    {
      "cell_type": "code",
      "source": [
        "from sklearn.feature_selection import SelectPercentile"
      ],
      "metadata": {
        "id": "7RTzu0mtzHst"
      },
      "execution_count": 14,
      "outputs": []
    },
    {
      "cell_type": "code",
      "source": [
        "## Selecting the top 30 percentile\n",
        "selected_top_columns = SelectPercentile(mutual_info_regression, percentile=30)\n",
        "selected_top_columns.fit(X_train.fillna(0), y_train)"
      ],
      "metadata": {
        "id": "X6KsMTeLzKu4",
        "colab": {
          "base_uri": "https://localhost:8080/"
        },
        "outputId": "413ae291-2b9e-4d6c-dee7-f3261a229f5d"
      },
      "execution_count": 15,
      "outputs": [
        {
          "output_type": "execute_result",
          "data": {
            "text/plain": [
              "SelectPercentile(percentile=30,\n",
              "                 score_func=<function mutual_info_regression at 0x7f43215d1560>)"
            ]
          },
          "metadata": {},
          "execution_count": 15
        }
      ]
    },
    {
      "cell_type": "code",
      "source": [
        "selected_top_columns.get_support()"
      ],
      "metadata": {
        "colab": {
          "base_uri": "https://localhost:8080/"
        },
        "id": "31-yzTXpzOnn",
        "outputId": "3b9febf9-4ea3-401a-b303-269c7d39a1c2"
      },
      "execution_count": 16,
      "outputs": [
        {
          "output_type": "execute_result",
          "data": {
            "text/plain": [
              "array([ True, False,  True, False, False, False])"
            ]
          },
          "metadata": {},
          "execution_count": 16
        }
      ]
    },
    {
      "cell_type": "code",
      "source": [
        "X_train.columns[selected_top_columns.get_support()]"
      ],
      "metadata": {
        "colab": {
          "base_uri": "https://localhost:8080/"
        },
        "id": "7sPeR2WVzSJs",
        "outputId": "b453671c-e481-4764-b2f9-8d96200fb49d"
      },
      "execution_count": 17,
      "outputs": [
        {
          "output_type": "execute_result",
          "data": {
            "text/plain": [
              "Index([' Grid load forecast', 'NP Consumption'], dtype='object')"
            ]
          },
          "metadata": {},
          "execution_count": 17
        }
      ]
    }
  ]
}