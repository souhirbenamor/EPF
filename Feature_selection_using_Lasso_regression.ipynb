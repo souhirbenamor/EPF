{
  "nbformat": 4,
  "nbformat_minor": 0,
  "metadata": {
    "colab": {
      "name": "Feature selection using Lasso regression.ipynb",
      "provenance": [],
      "collapsed_sections": [],
      "authorship_tag": "ABX9TyNMnEMtoZdpTic8bUdZTQuq",
      "include_colab_link": true
    },
    "kernelspec": {
      "name": "python3",
      "display_name": "Python 3"
    },
    "language_info": {
      "name": "python"
    }
  },
  "cells": [
    {
      "cell_type": "markdown",
      "metadata": {
        "id": "view-in-github",
        "colab_type": "text"
      },
      "source": [
        "<a href=\"https://colab.research.google.com/github/souhirbenamor/EPF/blob/main/Feature_selection_using_Lasso_regression.ipynb\" target=\"_parent\"><img src=\"https://colab.research.google.com/assets/colab-badge.svg\" alt=\"Open In Colab\"/></a>"
      ]
    },
    {
      "cell_type": "code",
      "execution_count": 23,
      "metadata": {
        "id": "5MH0SCRl45tv"
      },
      "outputs": [],
      "source": [
        "import numpy as np\n",
        "from sklearn.preprocessing import StandardScaler\n",
        "from sklearn.pipeline import Pipeline\n",
        "from sklearn.model_selection import train_test_split, GridSearchCV\n",
        "from sklearn.linear_model import Lasso"
      ]
    },
    {
      "cell_type": "code",
      "source": [
        "import pandas as pd\n",
        "import numpy as np\n",
        "df = pd.read_csv('/content/NP_exo.csv')\n",
        "\n",
        "df = df.set_index(\"Date\") # define Date  as index\n",
        "\n",
        "df.shape"
      ],
      "metadata": {
        "colab": {
          "base_uri": "https://localhost:8080/"
        },
        "id": "jRz0X17i498g",
        "outputId": "a327f640-d175-421e-d9bd-073de81cf5da"
      },
      "execution_count": 24,
      "outputs": [
        {
          "output_type": "execute_result",
          "data": {
            "text/plain": [
              "(52416, 7)"
            ]
          },
          "metadata": {},
          "execution_count": 24
        }
      ]
    },
    {
      "cell_type": "code",
      "source": [
        "X=df.iloc[:, 1:7]\n",
        "y=df.iloc[:, 0]"
      ],
      "metadata": {
        "id": "nibrnqyr5Q3a"
      },
      "execution_count": 25,
      "outputs": []
    },
    {
      "cell_type": "code",
      "source": [
        "X_train = X[:-17472]; X_test = X[-17472:]\n",
        "y_train = y[:-17472]; y_test = y[-17472:]\n",
        "\n",
        "X_train.shape, y_train.shape, X_test.shape, y_test.shape"
      ],
      "metadata": {
        "colab": {
          "base_uri": "https://localhost:8080/"
        },
        "id": "8VFhCaJr5UoD",
        "outputId": "e7482ad1-6045-4b70-aef3-8c82ee7742b2"
      },
      "execution_count": 26,
      "outputs": [
        {
          "output_type": "execute_result",
          "data": {
            "text/plain": [
              "((34944, 6), (34944,), (17472, 6), (17472,))"
            ]
          },
          "metadata": {},
          "execution_count": 26
        }
      ]
    },
    {
      "cell_type": "code",
      "source": [
        "features = list(X.columns.values)"
      ],
      "metadata": {
        "id": "7fFy_Hdd7u6A"
      },
      "execution_count": 27,
      "outputs": []
    },
    {
      "cell_type": "code",
      "source": [
        "pipeline = Pipeline([\n",
        "                     ('scaler',StandardScaler()),\n",
        "                     ('model',Lasso())\n",
        "])"
      ],
      "metadata": {
        "id": "h0F3D9Zu5gju"
      },
      "execution_count": 28,
      "outputs": []
    },
    {
      "cell_type": "code",
      "source": [
        "search = GridSearchCV(pipeline,\n",
        "                      {'model__alpha':np.arange(0.1,10,0.1)},\n",
        "                      cv = 5, scoring=\"neg_mean_squared_error\",verbose=3\n",
        "                      )"
      ],
      "metadata": {
        "id": "RlPgaF5c5kF4"
      },
      "execution_count": 29,
      "outputs": []
    },
    {
      "cell_type": "code",
      "source": [
        "search.fit(X_train,y_train)"
      ],
      "metadata": {
        "colab": {
          "base_uri": "https://localhost:8080/"
        },
        "id": "aWoISCZY5noR",
        "outputId": "e85cf591-3383-4976-edad-17e4d845faeb"
      },
      "execution_count": 30,
      "outputs": [
        {
          "output_type": "stream",
          "name": "stdout",
          "text": [
            "Fitting 5 folds for each of 99 candidates, totalling 495 fits\n",
            "[CV 1/5] END ...............model__alpha=0.1;, score=-151.785 total time=   0.1s\n",
            "[CV 2/5] END ................model__alpha=0.1;, score=-26.134 total time=   0.2s\n",
            "[CV 3/5] END ................model__alpha=0.1;, score=-32.454 total time=   0.2s\n",
            "[CV 4/5] END ...............model__alpha=0.1;, score=-189.393 total time=   0.1s\n",
            "[CV 5/5] END ................model__alpha=0.1;, score=-29.772 total time=   0.2s\n",
            "[CV 1/5] END ...............model__alpha=0.2;, score=-165.193 total time=   0.1s\n",
            "[CV 2/5] END ................model__alpha=0.2;, score=-23.431 total time=   0.1s\n",
            "[CV 3/5] END ................model__alpha=0.2;, score=-30.443 total time=   0.2s\n",
            "[CV 4/5] END ...............model__alpha=0.2;, score=-210.095 total time=   0.0s\n",
            "[CV 5/5] END ................model__alpha=0.2;, score=-27.339 total time=   0.2s\n",
            "[CV 1/5] END model__alpha=0.30000000000000004;, score=-176.688 total time=   0.0s\n",
            "[CV 2/5] END model__alpha=0.30000000000000004;, score=-22.221 total time=   0.0s\n",
            "[CV 3/5] END model__alpha=0.30000000000000004;, score=-29.236 total time=   0.1s\n",
            "[CV 4/5] END model__alpha=0.30000000000000004;, score=-213.410 total time=   0.0s\n",
            "[CV 5/5] END model__alpha=0.30000000000000004;, score=-27.351 total time=   0.1s\n",
            "[CV 1/5] END ...............model__alpha=0.4;, score=-180.968 total time=   0.0s\n",
            "[CV 2/5] END ................model__alpha=0.4;, score=-22.371 total time=   0.0s\n",
            "[CV 3/5] END ................model__alpha=0.4;, score=-29.300 total time=   0.0s\n",
            "[CV 4/5] END ...............model__alpha=0.4;, score=-214.757 total time=   0.0s\n",
            "[CV 5/5] END ................model__alpha=0.4;, score=-28.854 total time=   0.0s\n",
            "[CV 1/5] END ...............model__alpha=0.5;, score=-182.005 total time=   0.0s\n",
            "[CV 2/5] END ................model__alpha=0.5;, score=-22.463 total time=   0.0s\n",
            "[CV 3/5] END ................model__alpha=0.5;, score=-29.275 total time=   0.0s\n",
            "[CV 4/5] END ...............model__alpha=0.5;, score=-216.177 total time=   0.0s\n",
            "[CV 5/5] END ................model__alpha=0.5;, score=-29.820 total time=   0.0s\n",
            "[CV 1/5] END ...............model__alpha=0.6;, score=-183.098 total time=   0.0s\n",
            "[CV 2/5] END ................model__alpha=0.6;, score=-22.501 total time=   0.1s\n",
            "[CV 3/5] END ................model__alpha=0.6;, score=-28.909 total time=   0.0s\n",
            "[CV 4/5] END ...............model__alpha=0.6;, score=-217.670 total time=   0.0s\n",
            "[CV 5/5] END ................model__alpha=0.6;, score=-29.747 total time=   0.0s\n",
            "[CV 1/5] END model__alpha=0.7000000000000001;, score=-184.245 total time=   0.0s\n",
            "[CV 2/5] END .model__alpha=0.7000000000000001;, score=-22.469 total time=   0.0s\n",
            "[CV 3/5] END .model__alpha=0.7000000000000001;, score=-28.494 total time=   0.0s\n",
            "[CV 4/5] END model__alpha=0.7000000000000001;, score=-219.236 total time=   0.0s\n",
            "[CV 5/5] END .model__alpha=0.7000000000000001;, score=-29.717 total time=   0.0s\n",
            "[CV 1/5] END ...............model__alpha=0.8;, score=-185.447 total time=   0.0s\n",
            "[CV 2/5] END ................model__alpha=0.8;, score=-22.474 total time=   0.0s\n",
            "[CV 3/5] END ................model__alpha=0.8;, score=-28.130 total time=   0.0s\n",
            "[CV 4/5] END ...............model__alpha=0.8;, score=-220.875 total time=   0.0s\n",
            "[CV 5/5] END ................model__alpha=0.8;, score=-29.728 total time=   0.0s\n",
            "[CV 1/5] END ...............model__alpha=0.9;, score=-186.704 total time=   0.0s\n",
            "[CV 2/5] END ................model__alpha=0.9;, score=-22.515 total time=   0.0s\n",
            "[CV 3/5] END ................model__alpha=0.9;, score=-27.817 total time=   0.0s\n",
            "[CV 4/5] END ...............model__alpha=0.9;, score=-222.586 total time=   0.0s\n",
            "[CV 5/5] END ................model__alpha=0.9;, score=-29.781 total time=   0.0s\n",
            "[CV 1/5] END ...............model__alpha=1.0;, score=-188.016 total time=   0.0s\n",
            "[CV 2/5] END ................model__alpha=1.0;, score=-22.592 total time=   0.0s\n",
            "[CV 3/5] END ................model__alpha=1.0;, score=-27.553 total time=   0.0s\n",
            "[CV 4/5] END ...............model__alpha=1.0;, score=-224.370 total time=   0.0s\n",
            "[CV 5/5] END ................model__alpha=1.0;, score=-29.875 total time=   0.0s\n",
            "[CV 1/5] END ...............model__alpha=1.1;, score=-189.382 total time=   0.0s\n",
            "[CV 2/5] END ................model__alpha=1.1;, score=-22.705 total time=   0.0s\n",
            "[CV 3/5] END ................model__alpha=1.1;, score=-27.340 total time=   0.0s\n",
            "[CV 4/5] END ...............model__alpha=1.1;, score=-226.228 total time=   0.0s\n",
            "[CV 5/5] END ................model__alpha=1.1;, score=-30.012 total time=   0.0s\n",
            "[CV 1/5] END model__alpha=1.2000000000000002;, score=-190.804 total time=   0.0s\n",
            "[CV 2/5] END .model__alpha=1.2000000000000002;, score=-22.854 total time=   0.0s\n",
            "[CV 3/5] END .model__alpha=1.2000000000000002;, score=-27.177 total time=   0.0s\n",
            "[CV 4/5] END model__alpha=1.2000000000000002;, score=-228.158 total time=   0.0s\n",
            "[CV 5/5] END .model__alpha=1.2000000000000002;, score=-30.190 total time=   0.0s\n",
            "[CV 1/5] END model__alpha=1.3000000000000003;, score=-192.280 total time=   0.0s\n",
            "[CV 2/5] END .model__alpha=1.3000000000000003;, score=-23.040 total time=   0.0s\n",
            "[CV 3/5] END .model__alpha=1.3000000000000003;, score=-27.065 total time=   0.0s\n",
            "[CV 4/5] END model__alpha=1.3000000000000003;, score=-230.160 total time=   0.0s\n",
            "[CV 5/5] END .model__alpha=1.3000000000000003;, score=-30.410 total time=   0.0s\n",
            "[CV 1/5] END model__alpha=1.4000000000000001;, score=-193.811 total time=   0.0s\n",
            "[CV 2/5] END .model__alpha=1.4000000000000001;, score=-23.262 total time=   0.0s\n",
            "[CV 3/5] END .model__alpha=1.4000000000000001;, score=-27.003 total time=   0.0s\n",
            "[CV 4/5] END model__alpha=1.4000000000000001;, score=-232.236 total time=   0.0s\n",
            "[CV 5/5] END .model__alpha=1.4000000000000001;, score=-30.672 total time=   0.0s\n",
            "[CV 1/5] END model__alpha=1.5000000000000002;, score=-195.169 total time=   0.0s\n",
            "[CV 2/5] END .model__alpha=1.5000000000000002;, score=-23.520 total time=   0.0s\n",
            "[CV 3/5] END .model__alpha=1.5000000000000002;, score=-26.991 total time=   0.0s\n",
            "[CV 4/5] END model__alpha=1.5000000000000002;, score=-234.384 total time=   0.0s\n",
            "[CV 5/5] END .model__alpha=1.5000000000000002;, score=-30.976 total time=   0.0s\n",
            "[CV 1/5] END ...............model__alpha=1.6;, score=-195.296 total time=   0.0s\n",
            "[CV 2/5] END ................model__alpha=1.6;, score=-23.815 total time=   0.0s\n",
            "[CV 3/5] END ................model__alpha=1.6;, score=-27.030 total time=   0.0s\n",
            "[CV 4/5] END ...............model__alpha=1.6;, score=-236.605 total time=   0.0s\n",
            "[CV 5/5] END ................model__alpha=1.6;, score=-31.322 total time=   0.0s\n",
            "[CV 1/5] END model__alpha=1.7000000000000002;, score=-195.450 total time=   0.0s\n",
            "[CV 2/5] END .model__alpha=1.7000000000000002;, score=-24.145 total time=   0.0s\n",
            "[CV 3/5] END .model__alpha=1.7000000000000002;, score=-27.119 total time=   0.0s\n",
            "[CV 4/5] END model__alpha=1.7000000000000002;, score=-237.541 total time=   0.0s\n",
            "[CV 5/5] END .model__alpha=1.7000000000000002;, score=-31.709 total time=   0.0s\n",
            "[CV 1/5] END model__alpha=1.8000000000000003;, score=-195.629 total time=   0.0s\n",
            "[CV 2/5] END .model__alpha=1.8000000000000003;, score=-24.512 total time=   0.0s\n",
            "[CV 3/5] END .model__alpha=1.8000000000000003;, score=-27.258 total time=   0.0s\n",
            "[CV 4/5] END model__alpha=1.8000000000000003;, score=-238.399 total time=   0.0s\n",
            "[CV 5/5] END .model__alpha=1.8000000000000003;, score=-32.139 total time=   0.0s\n",
            "[CV 1/5] END model__alpha=1.9000000000000001;, score=-195.833 total time=   0.0s\n",
            "[CV 2/5] END .model__alpha=1.9000000000000001;, score=-24.916 total time=   0.0s\n",
            "[CV 3/5] END .model__alpha=1.9000000000000001;, score=-27.448 total time=   0.0s\n",
            "[CV 4/5] END model__alpha=1.9000000000000001;, score=-239.283 total time=   0.0s\n",
            "[CV 5/5] END .model__alpha=1.9000000000000001;, score=-32.610 total time=   0.0s\n",
            "[CV 1/5] END ...............model__alpha=2.0;, score=-196.064 total time=   0.0s\n",
            "[CV 2/5] END ................model__alpha=2.0;, score=-25.355 total time=   0.0s\n",
            "[CV 3/5] END ................model__alpha=2.0;, score=-27.688 total time=   0.0s\n",
            "[CV 4/5] END ...............model__alpha=2.0;, score=-240.191 total time=   0.0s\n",
            "[CV 5/5] END ................model__alpha=2.0;, score=-33.123 total time=   0.1s\n",
            "[CV 1/5] END ...............model__alpha=2.1;, score=-196.320 total time=   0.0s\n",
            "[CV 2/5] END ................model__alpha=2.1;, score=-25.831 total time=   0.0s\n",
            "[CV 3/5] END ................model__alpha=2.1;, score=-27.978 total time=   0.0s\n",
            "[CV 4/5] END ...............model__alpha=2.1;, score=-241.124 total time=   0.0s\n",
            "[CV 5/5] END ................model__alpha=2.1;, score=-33.678 total time=   0.0s\n",
            "[CV 1/5] END ...............model__alpha=2.2;, score=-196.602 total time=   0.0s\n",
            "[CV 2/5] END ................model__alpha=2.2;, score=-26.343 total time=   0.0s\n",
            "[CV 3/5] END ................model__alpha=2.2;, score=-28.319 total time=   0.0s\n",
            "[CV 4/5] END ...............model__alpha=2.2;, score=-242.082 total time=   0.0s\n",
            "[CV 5/5] END ................model__alpha=2.2;, score=-34.274 total time=   0.0s\n",
            "[CV 1/5] END model__alpha=2.3000000000000003;, score=-196.910 total time=   0.0s\n",
            "[CV 2/5] END .model__alpha=2.3000000000000003;, score=-26.891 total time=   0.0s\n",
            "[CV 3/5] END .model__alpha=2.3000000000000003;, score=-28.309 total time=   0.0s\n",
            "[CV 4/5] END model__alpha=2.3000000000000003;, score=-243.065 total time=   0.0s\n",
            "[CV 5/5] END .model__alpha=2.3000000000000003;, score=-34.913 total time=   0.0s\n",
            "[CV 1/5] END model__alpha=2.4000000000000004;, score=-197.244 total time=   0.0s\n",
            "[CV 2/5] END .model__alpha=2.4000000000000004;, score=-27.475 total time=   0.0s\n",
            "[CV 3/5] END .model__alpha=2.4000000000000004;, score=-28.239 total time=   0.0s\n",
            "[CV 4/5] END model__alpha=2.4000000000000004;, score=-244.072 total time=   0.0s\n",
            "[CV 5/5] END .model__alpha=2.4000000000000004;, score=-35.593 total time=   0.0s\n",
            "[CV 1/5] END model__alpha=2.5000000000000004;, score=-197.604 total time=   0.0s\n",
            "[CV 2/5] END .model__alpha=2.5000000000000004;, score=-27.979 total time=   0.0s\n",
            "[CV 3/5] END .model__alpha=2.5000000000000004;, score=-28.185 total time=   0.0s\n",
            "[CV 4/5] END model__alpha=2.5000000000000004;, score=-245.105 total time=   0.0s\n",
            "[CV 5/5] END .model__alpha=2.5000000000000004;, score=-36.168 total time=   0.0s\n",
            "[CV 1/5] END ...............model__alpha=2.6;, score=-197.989 total time=   0.0s\n",
            "[CV 2/5] END ................model__alpha=2.6;, score=-28.451 total time=   0.0s\n",
            "[CV 3/5] END ................model__alpha=2.6;, score=-28.146 total time=   0.0s\n",
            "[CV 4/5] END ...............model__alpha=2.6;, score=-246.162 total time=   0.0s\n",
            "[CV 5/5] END ................model__alpha=2.6;, score=-36.745 total time=   0.0s\n",
            "[CV 1/5] END ...............model__alpha=2.7;, score=-198.400 total time=   0.0s\n",
            "[CV 2/5] END ................model__alpha=2.7;, score=-28.943 total time=   0.0s\n",
            "[CV 3/5] END ................model__alpha=2.7;, score=-28.122 total time=   0.0s\n",
            "[CV 4/5] END ...............model__alpha=2.7;, score=-247.244 total time=   0.0s\n",
            "[CV 5/5] END ................model__alpha=2.7;, score=-37.339 total time=   0.0s\n",
            "[CV 1/5] END model__alpha=2.8000000000000003;, score=-198.837 total time=   0.0s\n",
            "[CV 2/5] END .model__alpha=2.8000000000000003;, score=-29.456 total time=   0.0s\n",
            "[CV 3/5] END .model__alpha=2.8000000000000003;, score=-28.114 total time=   0.0s\n",
            "[CV 4/5] END model__alpha=2.8000000000000003;, score=-248.351 total time=   0.0s\n",
            "[CV 5/5] END .model__alpha=2.8000000000000003;, score=-37.948 total time=   0.0s\n",
            "[CV 1/5] END model__alpha=2.9000000000000004;, score=-199.300 total time=   0.0s\n",
            "[CV 2/5] END .model__alpha=2.9000000000000004;, score=-29.989 total time=   0.0s\n",
            "[CV 3/5] END .model__alpha=2.9000000000000004;, score=-28.122 total time=   0.0s\n",
            "[CV 4/5] END model__alpha=2.9000000000000004;, score=-249.483 total time=   0.0s\n",
            "[CV 5/5] END .model__alpha=2.9000000000000004;, score=-38.573 total time=   0.0s\n",
            "[CV 1/5] END model__alpha=3.0000000000000004;, score=-199.789 total time=   0.0s\n",
            "[CV 2/5] END .model__alpha=3.0000000000000004;, score=-30.542 total time=   0.0s\n",
            "[CV 3/5] END .model__alpha=3.0000000000000004;, score=-28.145 total time=   0.0s\n",
            "[CV 4/5] END model__alpha=3.0000000000000004;, score=-250.640 total time=   0.0s\n",
            "[CV 5/5] END .model__alpha=3.0000000000000004;, score=-39.215 total time=   0.0s\n",
            "[CV 1/5] END ...............model__alpha=3.1;, score=-200.303 total time=   0.0s\n",
            "[CV 2/5] END ................model__alpha=3.1;, score=-31.116 total time=   0.0s\n",
            "[CV 3/5] END ................model__alpha=3.1;, score=-28.184 total time=   0.0s\n",
            "[CV 4/5] END ...............model__alpha=3.1;, score=-251.821 total time=   0.0s\n",
            "[CV 5/5] END ................model__alpha=3.1;, score=-39.872 total time=   0.0s\n",
            "[CV 1/5] END ...............model__alpha=3.2;, score=-200.844 total time=   0.0s\n",
            "[CV 2/5] END ................model__alpha=3.2;, score=-31.711 total time=   0.0s\n",
            "[CV 3/5] END ................model__alpha=3.2;, score=-28.238 total time=   0.0s\n",
            "[CV 4/5] END ...............model__alpha=3.2;, score=-253.028 total time=   0.0s\n",
            "[CV 5/5] END ................model__alpha=3.2;, score=-40.544 total time=   0.0s\n",
            "[CV 1/5] END model__alpha=3.3000000000000003;, score=-201.410 total time=   0.0s\n",
            "[CV 2/5] END .model__alpha=3.3000000000000003;, score=-32.325 total time=   0.0s\n",
            "[CV 3/5] END .model__alpha=3.3000000000000003;, score=-28.307 total time=   0.0s\n",
            "[CV 4/5] END model__alpha=3.3000000000000003;, score=-254.259 total time=   0.0s\n",
            "[CV 5/5] END .model__alpha=3.3000000000000003;, score=-41.233 total time=   0.0s\n",
            "[CV 1/5] END model__alpha=3.4000000000000004;, score=-202.002 total time=   0.0s\n",
            "[CV 2/5] END .model__alpha=3.4000000000000004;, score=-32.961 total time=   0.0s\n",
            "[CV 3/5] END .model__alpha=3.4000000000000004;, score=-28.393 total time=   0.1s\n",
            "[CV 4/5] END model__alpha=3.4000000000000004;, score=-255.515 total time=   0.0s\n",
            "[CV 5/5] END .model__alpha=3.4000000000000004;, score=-41.938 total time=   0.0s\n",
            "[CV 1/5] END model__alpha=3.5000000000000004;, score=-202.619 total time=   0.0s\n",
            "[CV 2/5] END .model__alpha=3.5000000000000004;, score=-33.616 total time=   0.0s\n",
            "[CV 3/5] END .model__alpha=3.5000000000000004;, score=-28.493 total time=   0.0s\n",
            "[CV 4/5] END model__alpha=3.5000000000000004;, score=-256.665 total time=   0.0s\n",
            "[CV 5/5] END .model__alpha=3.5000000000000004;, score=-42.658 total time=   0.0s\n",
            "[CV 1/5] END ...............model__alpha=3.6;, score=-203.263 total time=   0.0s\n",
            "[CV 2/5] END ................model__alpha=3.6;, score=-34.292 total time=   0.0s\n",
            "[CV 3/5] END ................model__alpha=3.6;, score=-28.609 total time=   0.0s\n",
            "[CV 4/5] END ...............model__alpha=3.6;, score=-256.665 total time=   0.0s\n",
            "[CV 5/5] END ................model__alpha=3.6;, score=-43.395 total time=   0.0s\n",
            "[CV 1/5] END ...............model__alpha=3.7;, score=-203.932 total time=   0.0s\n",
            "[CV 2/5] END ................model__alpha=3.7;, score=-34.988 total time=   0.0s\n",
            "[CV 3/5] END ................model__alpha=3.7;, score=-28.741 total time=   0.0s\n",
            "[CV 4/5] END ...............model__alpha=3.7;, score=-256.665 total time=   0.0s\n",
            "[CV 5/5] END ................model__alpha=3.7;, score=-44.147 total time=   0.0s\n",
            "[CV 1/5] END model__alpha=3.8000000000000003;, score=-204.627 total time=   0.0s\n",
            "[CV 2/5] END .model__alpha=3.8000000000000003;, score=-35.705 total time=   0.0s\n",
            "[CV 3/5] END .model__alpha=3.8000000000000003;, score=-28.888 total time=   0.0s\n",
            "[CV 4/5] END model__alpha=3.8000000000000003;, score=-256.665 total time=   0.0s\n",
            "[CV 5/5] END .model__alpha=3.8000000000000003;, score=-44.915 total time=   0.0s\n",
            "[CV 1/5] END model__alpha=3.9000000000000004;, score=-205.348 total time=   0.0s\n",
            "[CV 2/5] END .model__alpha=3.9000000000000004;, score=-36.442 total time=   0.0s\n",
            "[CV 3/5] END .model__alpha=3.9000000000000004;, score=-29.051 total time=   0.0s\n",
            "[CV 4/5] END model__alpha=3.9000000000000004;, score=-256.665 total time=   0.0s\n",
            "[CV 5/5] END .model__alpha=3.9000000000000004;, score=-45.699 total time=   0.0s\n",
            "[CV 1/5] END ...............model__alpha=4.0;, score=-206.095 total time=   0.0s\n",
            "[CV 2/5] END ................model__alpha=4.0;, score=-37.200 total time=   0.1s\n",
            "[CV 3/5] END ................model__alpha=4.0;, score=-29.229 total time=   0.0s\n",
            "[CV 4/5] END ...............model__alpha=4.0;, score=-256.665 total time=   0.0s\n",
            "[CV 5/5] END ................model__alpha=4.0;, score=-46.129 total time=   0.0s\n",
            "[CV 1/5] END ...............model__alpha=4.1;, score=-206.867 total time=   0.0s\n",
            "[CV 2/5] END ................model__alpha=4.1;, score=-37.789 total time=   0.0s\n",
            "[CV 3/5] END ................model__alpha=4.1;, score=-29.422 total time=   0.0s\n",
            "[CV 4/5] END ...............model__alpha=4.1;, score=-256.665 total time=   0.0s\n",
            "[CV 5/5] END ................model__alpha=4.1;, score=-46.129 total time=   0.0s\n",
            "[CV 1/5] END ...............model__alpha=4.2;, score=-207.063 total time=   0.0s\n",
            "[CV 2/5] END ................model__alpha=4.2;, score=-37.789 total time=   0.0s\n",
            "[CV 3/5] END ................model__alpha=4.2;, score=-29.632 total time=   0.0s\n",
            "[CV 4/5] END ...............model__alpha=4.2;, score=-256.665 total time=   0.0s\n",
            "[CV 5/5] END ................model__alpha=4.2;, score=-46.129 total time=   0.0s\n",
            "[CV 1/5] END ...............model__alpha=4.3;, score=-207.063 total time=   0.0s\n",
            "[CV 2/5] END ................model__alpha=4.3;, score=-37.789 total time=   0.0s\n",
            "[CV 3/5] END ................model__alpha=4.3;, score=-29.856 total time=   0.0s\n",
            "[CV 4/5] END ...............model__alpha=4.3;, score=-256.665 total time=   0.0s\n",
            "[CV 5/5] END ................model__alpha=4.3;, score=-46.129 total time=   0.0s\n",
            "[CV 1/5] END model__alpha=4.3999999999999995;, score=-207.063 total time=   0.0s\n",
            "[CV 2/5] END .model__alpha=4.3999999999999995;, score=-37.789 total time=   0.0s\n",
            "[CV 3/5] END .model__alpha=4.3999999999999995;, score=-30.096 total time=   0.0s\n",
            "[CV 4/5] END model__alpha=4.3999999999999995;, score=-256.665 total time=   0.0s\n",
            "[CV 5/5] END .model__alpha=4.3999999999999995;, score=-46.129 total time=   0.0s\n",
            "[CV 1/5] END ...............model__alpha=4.5;, score=-207.063 total time=   0.0s\n",
            "[CV 2/5] END ................model__alpha=4.5;, score=-37.789 total time=   0.0s\n",
            "[CV 3/5] END ................model__alpha=4.5;, score=-30.352 total time=   0.0s\n",
            "[CV 4/5] END ...............model__alpha=4.5;, score=-256.665 total time=   0.0s\n",
            "[CV 5/5] END ................model__alpha=4.5;, score=-46.129 total time=   0.0s\n",
            "[CV 1/5] END ...............model__alpha=4.6;, score=-207.063 total time=   0.0s\n",
            "[CV 2/5] END ................model__alpha=4.6;, score=-37.789 total time=   0.0s\n",
            "[CV 3/5] END ................model__alpha=4.6;, score=-30.570 total time=   0.0s\n",
            "[CV 4/5] END ...............model__alpha=4.6;, score=-256.665 total time=   0.0s\n",
            "[CV 5/5] END ................model__alpha=4.6;, score=-46.129 total time=   0.0s\n",
            "[CV 1/5] END ...............model__alpha=4.7;, score=-207.063 total time=   0.0s\n",
            "[CV 2/5] END ................model__alpha=4.7;, score=-37.789 total time=   0.0s\n",
            "[CV 3/5] END ................model__alpha=4.7;, score=-30.570 total time=   0.0s\n",
            "[CV 4/5] END ...............model__alpha=4.7;, score=-256.665 total time=   0.0s\n",
            "[CV 5/5] END ................model__alpha=4.7;, score=-46.129 total time=   0.0s\n",
            "[CV 1/5] END ...............model__alpha=4.8;, score=-207.063 total time=   0.0s\n",
            "[CV 2/5] END ................model__alpha=4.8;, score=-37.789 total time=   0.0s\n",
            "[CV 3/5] END ................model__alpha=4.8;, score=-30.570 total time=   0.0s\n",
            "[CV 4/5] END ...............model__alpha=4.8;, score=-256.665 total time=   0.0s\n",
            "[CV 5/5] END ................model__alpha=4.8;, score=-46.129 total time=   0.0s\n",
            "[CV 1/5] END ...............model__alpha=4.9;, score=-207.063 total time=   0.0s\n",
            "[CV 2/5] END ................model__alpha=4.9;, score=-37.789 total time=   0.0s\n",
            "[CV 3/5] END ................model__alpha=4.9;, score=-30.570 total time=   0.0s\n",
            "[CV 4/5] END ...............model__alpha=4.9;, score=-256.665 total time=   0.0s\n",
            "[CV 5/5] END ................model__alpha=4.9;, score=-46.129 total time=   0.0s\n",
            "[CV 1/5] END ...............model__alpha=5.0;, score=-207.063 total time=   0.0s\n",
            "[CV 2/5] END ................model__alpha=5.0;, score=-37.789 total time=   0.0s\n",
            "[CV 3/5] END ................model__alpha=5.0;, score=-30.570 total time=   0.0s\n",
            "[CV 4/5] END ...............model__alpha=5.0;, score=-256.665 total time=   0.0s\n",
            "[CV 5/5] END ................model__alpha=5.0;, score=-46.129 total time=   0.0s\n",
            "[CV 1/5] END ...............model__alpha=5.1;, score=-207.063 total time=   0.0s\n",
            "[CV 2/5] END ................model__alpha=5.1;, score=-37.789 total time=   0.0s\n",
            "[CV 3/5] END ................model__alpha=5.1;, score=-30.570 total time=   0.0s\n",
            "[CV 4/5] END ...............model__alpha=5.1;, score=-256.665 total time=   0.0s\n",
            "[CV 5/5] END ................model__alpha=5.1;, score=-46.129 total time=   0.0s\n",
            "[CV 1/5] END ...............model__alpha=5.2;, score=-207.063 total time=   0.0s\n",
            "[CV 2/5] END ................model__alpha=5.2;, score=-37.789 total time=   0.0s\n",
            "[CV 3/5] END ................model__alpha=5.2;, score=-30.570 total time=   0.0s\n",
            "[CV 4/5] END ...............model__alpha=5.2;, score=-256.665 total time=   0.0s\n",
            "[CV 5/5] END ................model__alpha=5.2;, score=-46.129 total time=   0.0s\n",
            "[CV 1/5] END ...............model__alpha=5.3;, score=-207.063 total time=   0.0s\n",
            "[CV 2/5] END ................model__alpha=5.3;, score=-37.789 total time=   0.0s\n",
            "[CV 3/5] END ................model__alpha=5.3;, score=-30.570 total time=   0.0s\n",
            "[CV 4/5] END ...............model__alpha=5.3;, score=-256.665 total time=   0.1s\n",
            "[CV 5/5] END ................model__alpha=5.3;, score=-46.129 total time=   0.0s\n",
            "[CV 1/5] END ...............model__alpha=5.4;, score=-207.063 total time=   0.0s\n",
            "[CV 2/5] END ................model__alpha=5.4;, score=-37.789 total time=   0.0s\n",
            "[CV 3/5] END ................model__alpha=5.4;, score=-30.570 total time=   0.0s\n",
            "[CV 4/5] END ...............model__alpha=5.4;, score=-256.665 total time=   0.0s\n",
            "[CV 5/5] END ................model__alpha=5.4;, score=-46.129 total time=   0.0s\n",
            "[CV 1/5] END ...............model__alpha=5.5;, score=-207.063 total time=   0.0s\n",
            "[CV 2/5] END ................model__alpha=5.5;, score=-37.789 total time=   0.0s\n",
            "[CV 3/5] END ................model__alpha=5.5;, score=-30.570 total time=   0.0s\n",
            "[CV 4/5] END ...............model__alpha=5.5;, score=-256.665 total time=   0.0s\n",
            "[CV 5/5] END ................model__alpha=5.5;, score=-46.129 total time=   0.0s\n",
            "[CV 1/5] END ...............model__alpha=5.6;, score=-207.063 total time=   0.0s\n",
            "[CV 2/5] END ................model__alpha=5.6;, score=-37.789 total time=   0.0s\n",
            "[CV 3/5] END ................model__alpha=5.6;, score=-30.570 total time=   0.0s\n",
            "[CV 4/5] END ...............model__alpha=5.6;, score=-256.665 total time=   0.0s\n",
            "[CV 5/5] END ................model__alpha=5.6;, score=-46.129 total time=   0.0s\n",
            "[CV 1/5] END ...............model__alpha=5.7;, score=-207.063 total time=   0.0s\n",
            "[CV 2/5] END ................model__alpha=5.7;, score=-37.789 total time=   0.0s\n",
            "[CV 3/5] END ................model__alpha=5.7;, score=-30.570 total time=   0.0s\n",
            "[CV 4/5] END ...............model__alpha=5.7;, score=-256.665 total time=   0.0s\n",
            "[CV 5/5] END ................model__alpha=5.7;, score=-46.129 total time=   0.0s\n",
            "[CV 1/5] END ...............model__alpha=5.8;, score=-207.063 total time=   0.0s\n",
            "[CV 2/5] END ................model__alpha=5.8;, score=-37.789 total time=   0.0s\n",
            "[CV 3/5] END ................model__alpha=5.8;, score=-30.570 total time=   0.0s\n",
            "[CV 4/5] END ...............model__alpha=5.8;, score=-256.665 total time=   0.0s\n",
            "[CV 5/5] END ................model__alpha=5.8;, score=-46.129 total time=   0.0s\n",
            "[CV 1/5] END ...............model__alpha=5.9;, score=-207.063 total time=   0.0s\n",
            "[CV 2/5] END ................model__alpha=5.9;, score=-37.789 total time=   0.0s\n",
            "[CV 3/5] END ................model__alpha=5.9;, score=-30.570 total time=   0.0s\n",
            "[CV 4/5] END ...............model__alpha=5.9;, score=-256.665 total time=   0.0s\n",
            "[CV 5/5] END ................model__alpha=5.9;, score=-46.129 total time=   0.0s\n",
            "[CV 1/5] END ...............model__alpha=6.0;, score=-207.063 total time=   0.0s\n",
            "[CV 2/5] END ................model__alpha=6.0;, score=-37.789 total time=   0.0s\n",
            "[CV 3/5] END ................model__alpha=6.0;, score=-30.570 total time=   0.0s\n",
            "[CV 4/5] END ...............model__alpha=6.0;, score=-256.665 total time=   0.0s\n",
            "[CV 5/5] END ................model__alpha=6.0;, score=-46.129 total time=   0.0s\n",
            "[CV 1/5] END ...............model__alpha=6.1;, score=-207.063 total time=   0.0s\n",
            "[CV 2/5] END ................model__alpha=6.1;, score=-37.789 total time=   0.0s\n",
            "[CV 3/5] END ................model__alpha=6.1;, score=-30.570 total time=   0.0s\n",
            "[CV 4/5] END ...............model__alpha=6.1;, score=-256.665 total time=   0.0s\n",
            "[CV 5/5] END ................model__alpha=6.1;, score=-46.129 total time=   0.0s\n",
            "[CV 1/5] END ...............model__alpha=6.2;, score=-207.063 total time=   0.0s\n",
            "[CV 2/5] END ................model__alpha=6.2;, score=-37.789 total time=   0.0s\n",
            "[CV 3/5] END ................model__alpha=6.2;, score=-30.570 total time=   0.0s\n",
            "[CV 4/5] END ...............model__alpha=6.2;, score=-256.665 total time=   0.0s\n",
            "[CV 5/5] END ................model__alpha=6.2;, score=-46.129 total time=   0.0s\n",
            "[CV 1/5] END ...............model__alpha=6.3;, score=-207.063 total time=   0.0s\n",
            "[CV 2/5] END ................model__alpha=6.3;, score=-37.789 total time=   0.0s\n",
            "[CV 3/5] END ................model__alpha=6.3;, score=-30.570 total time=   0.0s\n",
            "[CV 4/5] END ...............model__alpha=6.3;, score=-256.665 total time=   0.0s\n",
            "[CV 5/5] END ................model__alpha=6.3;, score=-46.129 total time=   0.0s\n",
            "[CV 1/5] END ...............model__alpha=6.4;, score=-207.063 total time=   0.0s\n",
            "[CV 2/5] END ................model__alpha=6.4;, score=-37.789 total time=   0.0s\n",
            "[CV 3/5] END ................model__alpha=6.4;, score=-30.570 total time=   0.0s\n",
            "[CV 4/5] END ...............model__alpha=6.4;, score=-256.665 total time=   0.0s\n",
            "[CV 5/5] END ................model__alpha=6.4;, score=-46.129 total time=   0.0s\n",
            "[CV 1/5] END ...............model__alpha=6.5;, score=-207.063 total time=   0.0s\n",
            "[CV 2/5] END ................model__alpha=6.5;, score=-37.789 total time=   0.0s\n",
            "[CV 3/5] END ................model__alpha=6.5;, score=-30.570 total time=   0.0s\n",
            "[CV 4/5] END ...............model__alpha=6.5;, score=-256.665 total time=   0.0s\n",
            "[CV 5/5] END ................model__alpha=6.5;, score=-46.129 total time=   0.0s\n",
            "[CV 1/5] END ...............model__alpha=6.6;, score=-207.063 total time=   0.0s\n",
            "[CV 2/5] END ................model__alpha=6.6;, score=-37.789 total time=   0.0s\n",
            "[CV 3/5] END ................model__alpha=6.6;, score=-30.570 total time=   0.0s\n",
            "[CV 4/5] END ...............model__alpha=6.6;, score=-256.665 total time=   0.0s\n",
            "[CV 5/5] END ................model__alpha=6.6;, score=-46.129 total time=   0.0s\n",
            "[CV 1/5] END ...............model__alpha=6.7;, score=-207.063 total time=   0.0s\n",
            "[CV 2/5] END ................model__alpha=6.7;, score=-37.789 total time=   0.0s\n",
            "[CV 3/5] END ................model__alpha=6.7;, score=-30.570 total time=   0.0s\n",
            "[CV 4/5] END ...............model__alpha=6.7;, score=-256.665 total time=   0.0s\n",
            "[CV 5/5] END ................model__alpha=6.7;, score=-46.129 total time=   0.0s\n",
            "[CV 1/5] END ...............model__alpha=6.8;, score=-207.063 total time=   0.0s\n",
            "[CV 2/5] END ................model__alpha=6.8;, score=-37.789 total time=   0.0s\n",
            "[CV 3/5] END ................model__alpha=6.8;, score=-30.570 total time=   0.0s\n",
            "[CV 4/5] END ...............model__alpha=6.8;, score=-256.665 total time=   0.0s\n",
            "[CV 5/5] END ................model__alpha=6.8;, score=-46.129 total time=   0.0s\n",
            "[CV 1/5] END ...............model__alpha=6.9;, score=-207.063 total time=   0.0s\n",
            "[CV 2/5] END ................model__alpha=6.9;, score=-37.789 total time=   0.0s\n",
            "[CV 3/5] END ................model__alpha=6.9;, score=-30.570 total time=   0.0s\n",
            "[CV 4/5] END ...............model__alpha=6.9;, score=-256.665 total time=   0.0s\n",
            "[CV 5/5] END ................model__alpha=6.9;, score=-46.129 total time=   0.0s\n",
            "[CV 1/5] END ...............model__alpha=7.0;, score=-207.063 total time=   0.0s\n",
            "[CV 2/5] END ................model__alpha=7.0;, score=-37.789 total time=   0.0s\n",
            "[CV 3/5] END ................model__alpha=7.0;, score=-30.570 total time=   0.0s\n",
            "[CV 4/5] END ...............model__alpha=7.0;, score=-256.665 total time=   0.0s\n",
            "[CV 5/5] END ................model__alpha=7.0;, score=-46.129 total time=   0.0s\n",
            "[CV 1/5] END ...............model__alpha=7.1;, score=-207.063 total time=   0.0s\n",
            "[CV 2/5] END ................model__alpha=7.1;, score=-37.789 total time=   0.0s\n",
            "[CV 3/5] END ................model__alpha=7.1;, score=-30.570 total time=   0.0s\n",
            "[CV 4/5] END ...............model__alpha=7.1;, score=-256.665 total time=   0.0s\n",
            "[CV 5/5] END ................model__alpha=7.1;, score=-46.129 total time=   0.0s\n",
            "[CV 1/5] END ...............model__alpha=7.2;, score=-207.063 total time=   0.0s\n",
            "[CV 2/5] END ................model__alpha=7.2;, score=-37.789 total time=   0.0s\n",
            "[CV 3/5] END ................model__alpha=7.2;, score=-30.570 total time=   0.0s\n",
            "[CV 4/5] END ...............model__alpha=7.2;, score=-256.665 total time=   0.0s\n",
            "[CV 5/5] END ................model__alpha=7.2;, score=-46.129 total time=   0.0s\n",
            "[CV 1/5] END ...............model__alpha=7.3;, score=-207.063 total time=   0.0s\n",
            "[CV 2/5] END ................model__alpha=7.3;, score=-37.789 total time=   0.0s\n",
            "[CV 3/5] END ................model__alpha=7.3;, score=-30.570 total time=   0.0s\n",
            "[CV 4/5] END ...............model__alpha=7.3;, score=-256.665 total time=   0.0s\n",
            "[CV 5/5] END ................model__alpha=7.3;, score=-46.129 total time=   0.0s\n",
            "[CV 1/5] END ...............model__alpha=7.4;, score=-207.063 total time=   0.0s\n",
            "[CV 2/5] END ................model__alpha=7.4;, score=-37.789 total time=   0.0s\n",
            "[CV 3/5] END ................model__alpha=7.4;, score=-30.570 total time=   0.0s\n",
            "[CV 4/5] END ...............model__alpha=7.4;, score=-256.665 total time=   0.0s\n",
            "[CV 5/5] END ................model__alpha=7.4;, score=-46.129 total time=   0.0s\n",
            "[CV 1/5] END ...............model__alpha=7.5;, score=-207.063 total time=   0.0s\n",
            "[CV 2/5] END ................model__alpha=7.5;, score=-37.789 total time=   0.0s\n",
            "[CV 3/5] END ................model__alpha=7.5;, score=-30.570 total time=   0.0s\n",
            "[CV 4/5] END ...............model__alpha=7.5;, score=-256.665 total time=   0.0s\n",
            "[CV 5/5] END ................model__alpha=7.5;, score=-46.129 total time=   0.0s\n",
            "[CV 1/5] END ...............model__alpha=7.6;, score=-207.063 total time=   0.0s\n",
            "[CV 2/5] END ................model__alpha=7.6;, score=-37.789 total time=   0.0s\n",
            "[CV 3/5] END ................model__alpha=7.6;, score=-30.570 total time=   0.0s\n",
            "[CV 4/5] END ...............model__alpha=7.6;, score=-256.665 total time=   0.0s\n",
            "[CV 5/5] END ................model__alpha=7.6;, score=-46.129 total time=   0.0s\n",
            "[CV 1/5] END ...............model__alpha=7.7;, score=-207.063 total time=   0.0s\n",
            "[CV 2/5] END ................model__alpha=7.7;, score=-37.789 total time=   0.0s\n",
            "[CV 3/5] END ................model__alpha=7.7;, score=-30.570 total time=   0.0s\n",
            "[CV 4/5] END ...............model__alpha=7.7;, score=-256.665 total time=   0.0s\n",
            "[CV 5/5] END ................model__alpha=7.7;, score=-46.129 total time=   0.1s\n",
            "[CV 1/5] END ...............model__alpha=7.8;, score=-207.063 total time=   0.0s\n",
            "[CV 2/5] END ................model__alpha=7.8;, score=-37.789 total time=   0.0s\n",
            "[CV 3/5] END ................model__alpha=7.8;, score=-30.570 total time=   0.0s\n",
            "[CV 4/5] END ...............model__alpha=7.8;, score=-256.665 total time=   0.0s\n",
            "[CV 5/5] END ................model__alpha=7.8;, score=-46.129 total time=   0.0s\n",
            "[CV 1/5] END ...............model__alpha=7.9;, score=-207.063 total time=   0.0s\n",
            "[CV 2/5] END ................model__alpha=7.9;, score=-37.789 total time=   0.0s\n",
            "[CV 3/5] END ................model__alpha=7.9;, score=-30.570 total time=   0.0s\n",
            "[CV 4/5] END ...............model__alpha=7.9;, score=-256.665 total time=   0.0s\n",
            "[CV 5/5] END ................model__alpha=7.9;, score=-46.129 total time=   0.0s\n",
            "[CV 1/5] END ...............model__alpha=8.0;, score=-207.063 total time=   0.0s\n",
            "[CV 2/5] END ................model__alpha=8.0;, score=-37.789 total time=   0.0s\n",
            "[CV 3/5] END ................model__alpha=8.0;, score=-30.570 total time=   0.0s\n",
            "[CV 4/5] END ...............model__alpha=8.0;, score=-256.665 total time=   0.0s\n",
            "[CV 5/5] END ................model__alpha=8.0;, score=-46.129 total time=   0.0s\n",
            "[CV 1/5] END ...............model__alpha=8.1;, score=-207.063 total time=   0.0s\n",
            "[CV 2/5] END ................model__alpha=8.1;, score=-37.789 total time=   0.0s\n",
            "[CV 3/5] END ................model__alpha=8.1;, score=-30.570 total time=   0.0s\n",
            "[CV 4/5] END ...............model__alpha=8.1;, score=-256.665 total time=   0.0s\n",
            "[CV 5/5] END ................model__alpha=8.1;, score=-46.129 total time=   0.0s\n",
            "[CV 1/5] END ...............model__alpha=8.2;, score=-207.063 total time=   0.0s\n",
            "[CV 2/5] END ................model__alpha=8.2;, score=-37.789 total time=   0.0s\n",
            "[CV 3/5] END ................model__alpha=8.2;, score=-30.570 total time=   0.0s\n",
            "[CV 4/5] END ...............model__alpha=8.2;, score=-256.665 total time=   0.0s\n",
            "[CV 5/5] END ................model__alpha=8.2;, score=-46.129 total time=   0.0s\n",
            "[CV 1/5] END ...............model__alpha=8.3;, score=-207.063 total time=   0.0s\n",
            "[CV 2/5] END ................model__alpha=8.3;, score=-37.789 total time=   0.0s\n",
            "[CV 3/5] END ................model__alpha=8.3;, score=-30.570 total time=   0.0s\n",
            "[CV 4/5] END ...............model__alpha=8.3;, score=-256.665 total time=   0.0s\n",
            "[CV 5/5] END ................model__alpha=8.3;, score=-46.129 total time=   0.0s\n",
            "[CV 1/5] END ...............model__alpha=8.4;, score=-207.063 total time=   0.0s\n",
            "[CV 2/5] END ................model__alpha=8.4;, score=-37.789 total time=   0.0s\n",
            "[CV 3/5] END ................model__alpha=8.4;, score=-30.570 total time=   0.0s\n",
            "[CV 4/5] END ...............model__alpha=8.4;, score=-256.665 total time=   0.0s\n",
            "[CV 5/5] END ................model__alpha=8.4;, score=-46.129 total time=   0.0s\n",
            "[CV 1/5] END ...............model__alpha=8.5;, score=-207.063 total time=   0.0s\n",
            "[CV 2/5] END ................model__alpha=8.5;, score=-37.789 total time=   0.0s\n",
            "[CV 3/5] END ................model__alpha=8.5;, score=-30.570 total time=   0.0s\n",
            "[CV 4/5] END ...............model__alpha=8.5;, score=-256.665 total time=   0.0s\n",
            "[CV 5/5] END ................model__alpha=8.5;, score=-46.129 total time=   0.0s\n",
            "[CV 1/5] END ...............model__alpha=8.6;, score=-207.063 total time=   0.0s\n",
            "[CV 2/5] END ................model__alpha=8.6;, score=-37.789 total time=   0.0s\n",
            "[CV 3/5] END ................model__alpha=8.6;, score=-30.570 total time=   0.0s\n",
            "[CV 4/5] END ...............model__alpha=8.6;, score=-256.665 total time=   0.0s\n",
            "[CV 5/5] END ................model__alpha=8.6;, score=-46.129 total time=   0.0s\n",
            "[CV 1/5] END ...............model__alpha=8.7;, score=-207.063 total time=   0.0s\n",
            "[CV 2/5] END ................model__alpha=8.7;, score=-37.789 total time=   0.0s\n",
            "[CV 3/5] END ................model__alpha=8.7;, score=-30.570 total time=   0.0s\n",
            "[CV 4/5] END ...............model__alpha=8.7;, score=-256.665 total time=   0.0s\n",
            "[CV 5/5] END ................model__alpha=8.7;, score=-46.129 total time=   0.0s\n",
            "[CV 1/5] END ...............model__alpha=8.8;, score=-207.063 total time=   0.0s\n",
            "[CV 2/5] END ................model__alpha=8.8;, score=-37.789 total time=   0.0s\n",
            "[CV 3/5] END ................model__alpha=8.8;, score=-30.570 total time=   0.0s\n",
            "[CV 4/5] END ...............model__alpha=8.8;, score=-256.665 total time=   0.0s\n",
            "[CV 5/5] END ................model__alpha=8.8;, score=-46.129 total time=   0.0s\n",
            "[CV 1/5] END ...............model__alpha=8.9;, score=-207.063 total time=   0.0s\n",
            "[CV 2/5] END ................model__alpha=8.9;, score=-37.789 total time=   0.0s\n",
            "[CV 3/5] END ................model__alpha=8.9;, score=-30.570 total time=   0.0s\n",
            "[CV 4/5] END ...............model__alpha=8.9;, score=-256.665 total time=   0.0s\n",
            "[CV 5/5] END ................model__alpha=8.9;, score=-46.129 total time=   0.0s\n",
            "[CV 1/5] END ...............model__alpha=9.0;, score=-207.063 total time=   0.0s\n",
            "[CV 2/5] END ................model__alpha=9.0;, score=-37.789 total time=   0.0s\n",
            "[CV 3/5] END ................model__alpha=9.0;, score=-30.570 total time=   0.1s\n",
            "[CV 4/5] END ...............model__alpha=9.0;, score=-256.665 total time=   0.0s\n",
            "[CV 5/5] END ................model__alpha=9.0;, score=-46.129 total time=   0.0s\n",
            "[CV 1/5] END ...............model__alpha=9.1;, score=-207.063 total time=   0.0s\n",
            "[CV 2/5] END ................model__alpha=9.1;, score=-37.789 total time=   0.0s\n",
            "[CV 3/5] END ................model__alpha=9.1;, score=-30.570 total time=   0.0s\n",
            "[CV 4/5] END ...............model__alpha=9.1;, score=-256.665 total time=   0.0s\n",
            "[CV 5/5] END ................model__alpha=9.1;, score=-46.129 total time=   0.0s\n",
            "[CV 1/5] END ...............model__alpha=9.2;, score=-207.063 total time=   0.0s\n",
            "[CV 2/5] END ................model__alpha=9.2;, score=-37.789 total time=   0.0s\n",
            "[CV 3/5] END ................model__alpha=9.2;, score=-30.570 total time=   0.0s\n",
            "[CV 4/5] END ...............model__alpha=9.2;, score=-256.665 total time=   0.0s\n",
            "[CV 5/5] END ................model__alpha=9.2;, score=-46.129 total time=   0.0s\n",
            "[CV 1/5] END ...............model__alpha=9.3;, score=-207.063 total time=   0.0s\n",
            "[CV 2/5] END ................model__alpha=9.3;, score=-37.789 total time=   0.0s\n",
            "[CV 3/5] END ................model__alpha=9.3;, score=-30.570 total time=   0.0s\n",
            "[CV 4/5] END ...............model__alpha=9.3;, score=-256.665 total time=   0.0s\n",
            "[CV 5/5] END ................model__alpha=9.3;, score=-46.129 total time=   0.0s\n",
            "[CV 1/5] END ...............model__alpha=9.4;, score=-207.063 total time=   0.0s\n",
            "[CV 2/5] END ................model__alpha=9.4;, score=-37.789 total time=   0.0s\n",
            "[CV 3/5] END ................model__alpha=9.4;, score=-30.570 total time=   0.0s\n",
            "[CV 4/5] END ...............model__alpha=9.4;, score=-256.665 total time=   0.0s\n",
            "[CV 5/5] END ................model__alpha=9.4;, score=-46.129 total time=   0.0s\n",
            "[CV 1/5] END ...............model__alpha=9.5;, score=-207.063 total time=   0.0s\n",
            "[CV 2/5] END ................model__alpha=9.5;, score=-37.789 total time=   0.0s\n",
            "[CV 3/5] END ................model__alpha=9.5;, score=-30.570 total time=   0.0s\n",
            "[CV 4/5] END ...............model__alpha=9.5;, score=-256.665 total time=   0.0s\n",
            "[CV 5/5] END ................model__alpha=9.5;, score=-46.129 total time=   0.1s\n",
            "[CV 1/5] END ...............model__alpha=9.6;, score=-207.063 total time=   0.0s\n",
            "[CV 2/5] END ................model__alpha=9.6;, score=-37.789 total time=   0.0s\n",
            "[CV 3/5] END ................model__alpha=9.6;, score=-30.570 total time=   0.0s\n",
            "[CV 4/5] END ...............model__alpha=9.6;, score=-256.665 total time=   0.0s\n",
            "[CV 5/5] END ................model__alpha=9.6;, score=-46.129 total time=   0.0s\n",
            "[CV 1/5] END .model__alpha=9.700000000000001;, score=-207.063 total time=   0.0s\n",
            "[CV 2/5] END ..model__alpha=9.700000000000001;, score=-37.789 total time=   0.0s\n",
            "[CV 3/5] END ..model__alpha=9.700000000000001;, score=-30.570 total time=   0.0s\n",
            "[CV 4/5] END .model__alpha=9.700000000000001;, score=-256.665 total time=   0.0s\n",
            "[CV 5/5] END ..model__alpha=9.700000000000001;, score=-46.129 total time=   0.0s\n",
            "[CV 1/5] END ...............model__alpha=9.8;, score=-207.063 total time=   0.0s\n",
            "[CV 2/5] END ................model__alpha=9.8;, score=-37.789 total time=   0.0s\n",
            "[CV 3/5] END ................model__alpha=9.8;, score=-30.570 total time=   0.0s\n",
            "[CV 4/5] END ...............model__alpha=9.8;, score=-256.665 total time=   0.0s\n",
            "[CV 5/5] END ................model__alpha=9.8;, score=-46.129 total time=   0.0s\n",
            "[CV 1/5] END ...............model__alpha=9.9;, score=-207.063 total time=   0.0s\n",
            "[CV 2/5] END ................model__alpha=9.9;, score=-37.789 total time=   0.0s\n",
            "[CV 3/5] END ................model__alpha=9.9;, score=-30.570 total time=   0.0s\n",
            "[CV 4/5] END ...............model__alpha=9.9;, score=-256.665 total time=   0.0s\n",
            "[CV 5/5] END ................model__alpha=9.9;, score=-46.129 total time=   0.0s\n"
          ]
        },
        {
          "output_type": "execute_result",
          "data": {
            "text/plain": [
              "GridSearchCV(cv=5,\n",
              "             estimator=Pipeline(steps=[('scaler', StandardScaler()),\n",
              "                                       ('model', Lasso())]),\n",
              "             param_grid={'model__alpha': array([0.1, 0.2, 0.3, 0.4, 0.5, 0.6, 0.7, 0.8, 0.9, 1. , 1.1, 1.2, 1.3,\n",
              "       1.4, 1.5, 1.6, 1.7, 1.8, 1.9, 2. , 2.1, 2.2, 2.3, 2.4, 2.5, 2.6,\n",
              "       2.7, 2.8, 2.9, 3. , 3.1, 3.2, 3.3, 3.4, 3.5, 3.6, 3.7, 3.8, 3.9,\n",
              "       4. , 4.1, 4.2, 4.3, 4.4, 4.5, 4.6, 4.7, 4.8, 4.9, 5. , 5.1, 5.2,\n",
              "       5.3, 5.4, 5.5, 5.6, 5.7, 5.8, 5.9, 6. , 6.1, 6.2, 6.3, 6.4, 6.5,\n",
              "       6.6, 6.7, 6.8, 6.9, 7. , 7.1, 7.2, 7.3, 7.4, 7.5, 7.6, 7.7, 7.8,\n",
              "       7.9, 8. , 8.1, 8.2, 8.3, 8.4, 8.5, 8.6, 8.7, 8.8, 8.9, 9. , 9.1,\n",
              "       9.2, 9.3, 9.4, 9.5, 9.6, 9.7, 9.8, 9.9])},\n",
              "             scoring='neg_mean_squared_error', verbose=3)"
            ]
          },
          "metadata": {},
          "execution_count": 30
        }
      ]
    },
    {
      "cell_type": "code",
      "source": [
        "search.best_params_\n"
      ],
      "metadata": {
        "colab": {
          "base_uri": "https://localhost:8080/"
        },
        "id": "5_ibPqN_60Dg",
        "outputId": "3e53e60c-5efd-43e8-f41c-8e42ac78e2e1"
      },
      "execution_count": 31,
      "outputs": [
        {
          "output_type": "execute_result",
          "data": {
            "text/plain": [
              "{'model__alpha': 0.1}"
            ]
          },
          "metadata": {},
          "execution_count": 31
        }
      ]
    },
    {
      "cell_type": "code",
      "source": [
        "coefficients = search.best_estimator_.named_steps['model'].coef_"
      ],
      "metadata": {
        "id": "gDlxcHur64gb"
      },
      "execution_count": 32,
      "outputs": []
    },
    {
      "cell_type": "code",
      "source": [
        "importance = np.abs(coefficients)"
      ],
      "metadata": {
        "id": "bQ-SYPTC671P"
      },
      "execution_count": 33,
      "outputs": []
    },
    {
      "cell_type": "code",
      "source": [
        "np.array(features)[importance > 0]"
      ],
      "metadata": {
        "colab": {
          "base_uri": "https://localhost:8080/"
        },
        "id": "h0yzrG_V6-8m",
        "outputId": "208b2b60-3348-49d1-dc45-ca7f5c271e1e"
      },
      "execution_count": 34,
      "outputs": [
        {
          "output_type": "execute_result",
          "data": {
            "text/plain": [
              "array([' Grid load forecast', ' Wind power forecast', 'NP Consumption',\n",
              "       'NP Consumption prognosis', 'NP Production',\n",
              "       'NP Production prognosis'], dtype='<U24')"
            ]
          },
          "metadata": {},
          "execution_count": 34
        }
      ]
    },
    {
      "cell_type": "code",
      "source": [
        "np.array(features)[importance == 0]"
      ],
      "metadata": {
        "colab": {
          "base_uri": "https://localhost:8080/"
        },
        "id": "jdMSrJ4b8e_H",
        "outputId": "8a297e4f-20a1-4f54-ed56-1f52dfe713be"
      },
      "execution_count": 35,
      "outputs": [
        {
          "output_type": "execute_result",
          "data": {
            "text/plain": [
              "array([], dtype='<U24')"
            ]
          },
          "metadata": {},
          "execution_count": 35
        }
      ]
    },
    {
      "cell_type": "code",
      "source": [
        "coef = pd.Series(importance ,list(X.columns))\n",
        "coef.plot(kind='bar', title='Model Coefficients')"
      ],
      "metadata": {
        "colab": {
          "base_uri": "https://localhost:8080/",
          "height": 422
        },
        "id": "wSJa1QGH8zBa",
        "outputId": "420a213e-5333-414d-8e48-85ce972bb48d"
      },
      "execution_count": 37,
      "outputs": [
        {
          "output_type": "execute_result",
          "data": {
            "text/plain": [
              "<matplotlib.axes._subplots.AxesSubplot at 0x7fcafedcdf90>"
            ]
          },
          "metadata": {},
          "execution_count": 37
        },
        {
          "output_type": "display_data",
          "data": {
            "image/png": "[encoded data removed]",
            "text/plain": [
              "<Figure size 432x288 with 1 Axes>"
            ]
          },
          "metadata": {
            "needs_background": "light"
          }
        }
      ]
    }
  ]
}