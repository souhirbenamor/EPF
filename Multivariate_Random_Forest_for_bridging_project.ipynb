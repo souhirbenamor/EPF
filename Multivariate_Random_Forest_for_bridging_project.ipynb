{
  "cells": [
    {
      "cell_type": "markdown",
      "metadata": {
        "id": "view-in-github",
        "colab_type": "text"
      },
      "source": [
        "<a href=\"https://colab.research.google.com/github/souhirbenamor/EPF/blob/main/Multivariate_Random_Forest_for_bridging_project.ipynb\" target=\"_parent\"><img src=\"https://colab.research.google.com/assets/colab-badge.svg\" alt=\"Open In Colab\"/></a>"
      ]
    },
    {
      "cell_type": "markdown",
      "metadata": {
        "id": "eMzLox_cdYqK"
      },
      "source": [
        "Multivariate Random Forest\n",
        "\n",
        "https://github.com/souhirbenamor/Electricity_Price_Forecating/blob/main/Collected%20codes/ARIMA%2BMultivariate%20RF%2B%20Multivariate%20LSTM%2B%20Naive%20model%2B%20Python/Random_Forest%20(1).ipynb\n"
      ]
    },
    {
      "cell_type": "code",
      "execution_count": null,
      "metadata": {
        "colab": {
          "background_save": true
        },
        "id": "WoCt3sOP0EMQ"
      },
      "outputs": [],
      "source": [
        "import pandas as pd\n",
        "import matplotlib.pyplot as plt\n",
        "import numpy as np\n",
        "\n",
        "from keras import Sequential\n",
        "from keras.layers import Dense, LSTM\n",
        "import tensorflow as tf\n",
        "import keras\n",
        "\n",
        "from sklearn.preprocessing import MinMaxScaler\n",
        "from sklearn.preprocessing import LabelEncoder\n",
        "from sklearn.metrics import mean_squared_error\n",
        "\n",
        "from sklearn.ensemble import RandomForestRegressor\n",
        "\n",
        "\n",
        "\n",
        "from keras.models import Sequential\n",
        "from keras.layers import Dense\n",
        "from keras.layers import LSTM\n",
        "from keras.layers import Conv1D, Conv2D, MaxPooling1D, Flatten\n",
        "from keras.layers import GRU\n",
        "\n",
        "import numpy as np"
      ]
    },
    {
      "cell_type": "code",
      "execution_count": null,
      "metadata": {
        "colab": {
          "base_uri": "https://localhost:8080/",
          "height": 450
        },
        "id": "gKBOChhr3VPe",
        "outputId": "7fd28fd7-680e-44a9-e45e-671a6949833d"
      },
      "outputs": [
        {
          "data": {
            "text/html": [
              "\n",
              "  <div id=\"df-6ab005d6-d88e-4c48-ac52-fab37e0c43e7\">\n",
              "    <div class=\"colab-df-container\">\n",
              "      <div>\n",
              "<style scoped>\n",
              "    .dataframe tbody tr th:only-of-type {\n",
              "        vertical-align: middle;\n",
              "    }\n",
              "\n",
              "    .dataframe tbody tr th {\n",
              "        vertical-align: top;\n",
              "    }\n",
              "\n",
              "    .dataframe thead th {\n",
              "        text-align: right;\n",
              "    }\n",
              "</style>\n",
              "<table border=\"1\" class=\"dataframe\">\n",
              "  <thead>\n",
              "    <tr style=\"text-align: right;\">\n",
              "      <th></th>\n",
              "      <th>price day ahead Model</th>\n",
              "      <th>Demand DE</th>\n",
              "      <th>Wind</th>\n",
              "      <th>PV</th>\n",
              "      <th>Gas</th>\n",
              "      <th>Coal</th>\n",
              "      <th>CO2</th>\n",
              "    </tr>\n",
              "    <tr>\n",
              "      <th>Date</th>\n",
              "      <th></th>\n",
              "      <th></th>\n",
              "      <th></th>\n",
              "      <th></th>\n",
              "      <th></th>\n",
              "      <th></th>\n",
              "      <th></th>\n",
              "    </tr>\n",
              "  </thead>\n",
              "  <tbody>\n",
              "    <tr>\n",
              "      <th>2014-12-31 23:59:59.991</th>\n",
              "      <td>25.390297</td>\n",
              "      <td>40242.25</td>\n",
              "      <td>8280.00</td>\n",
              "      <td>0.0</td>\n",
              "      <td>21.30</td>\n",
              "      <td>55.17</td>\n",
              "      <td>7.27</td>\n",
              "    </tr>\n",
              "    <tr>\n",
              "      <th>2015-01-01 00:59:59.991</th>\n",
              "      <td>24.980000</td>\n",
              "      <td>39158.50</td>\n",
              "      <td>8412.75</td>\n",
              "      <td>0.0</td>\n",
              "      <td>21.30</td>\n",
              "      <td>55.17</td>\n",
              "      <td>7.27</td>\n",
              "    </tr>\n",
              "    <tr>\n",
              "      <th>2015-01-01 01:59:59.991</th>\n",
              "      <td>24.796874</td>\n",
              "      <td>38824.50</td>\n",
              "      <td>8502.25</td>\n",
              "      <td>0.0</td>\n",
              "      <td>21.30</td>\n",
              "      <td>55.17</td>\n",
              "      <td>7.27</td>\n",
              "    </tr>\n",
              "    <tr>\n",
              "      <th>2015-01-01 02:59:59.991</th>\n",
              "      <td>26.074430</td>\n",
              "      <td>38969.25</td>\n",
              "      <td>8668.50</td>\n",
              "      <td>0.0</td>\n",
              "      <td>21.30</td>\n",
              "      <td>55.17</td>\n",
              "      <td>7.27</td>\n",
              "    </tr>\n",
              "    <tr>\n",
              "      <th>2015-01-01 03:59:59.991</th>\n",
              "      <td>20.377994</td>\n",
              "      <td>39092.75</td>\n",
              "      <td>8849.25</td>\n",
              "      <td>0.0</td>\n",
              "      <td>21.30</td>\n",
              "      <td>55.17</td>\n",
              "      <td>7.27</td>\n",
              "    </tr>\n",
              "    <tr>\n",
              "      <th>...</th>\n",
              "      <td>...</td>\n",
              "      <td>...</td>\n",
              "      <td>...</td>\n",
              "      <td>...</td>\n",
              "      <td>...</td>\n",
              "      <td>...</td>\n",
              "      <td>...</td>\n",
              "    </tr>\n",
              "    <tr>\n",
              "      <th>2020-12-31 18:59:59.980</th>\n",
              "      <td>56.545811</td>\n",
              "      <td>49516.00</td>\n",
              "      <td>8053.50</td>\n",
              "      <td>0.0</td>\n",
              "      <td>19.12</td>\n",
              "      <td>56.49</td>\n",
              "      <td>32.59</td>\n",
              "    </tr>\n",
              "    <tr>\n",
              "      <th>2020-12-31 19:59:59.980</th>\n",
              "      <td>50.781170</td>\n",
              "      <td>47747.50</td>\n",
              "      <td>7456.50</td>\n",
              "      <td>0.0</td>\n",
              "      <td>19.12</td>\n",
              "      <td>56.49</td>\n",
              "      <td>32.59</td>\n",
              "    </tr>\n",
              "    <tr>\n",
              "      <th>2020-12-31 20:59:59.980</th>\n",
              "      <td>50.781170</td>\n",
              "      <td>47761.75</td>\n",
              "      <td>6902.50</td>\n",
              "      <td>0.0</td>\n",
              "      <td>19.12</td>\n",
              "      <td>56.49</td>\n",
              "      <td>32.59</td>\n",
              "    </tr>\n",
              "    <tr>\n",
              "      <th>2020-12-31 21:59:59.980</th>\n",
              "      <td>50.781170</td>\n",
              "      <td>46222.50</td>\n",
              "      <td>6395.00</td>\n",
              "      <td>0.0</td>\n",
              "      <td>19.12</td>\n",
              "      <td>56.49</td>\n",
              "      <td>32.59</td>\n",
              "    </tr>\n",
              "    <tr>\n",
              "      <th>2020-12-31 22:59:59.980</th>\n",
              "      <td>48.019167</td>\n",
              "      <td>43520.50</td>\n",
              "      <td>4633.50</td>\n",
              "      <td>0.0</td>\n",
              "      <td>19.12</td>\n",
              "      <td>56.67</td>\n",
              "      <td>32.59</td>\n",
              "    </tr>\n",
              "  </tbody>\n",
              "</table>\n",
              "<p>52608 rows × 7 columns</p>\n",
              "</div>\n",
              "      <button class=\"colab-df-convert\" onclick=\"convertToInteractive('df-6ab005d6-d88e-4c48-ac52-fab37e0c43e7')\"\n",
              "              title=\"Convert this dataframe to an interactive table.\"\n",
              "              style=\"display:none;\">\n",
              "        \n",
              "  <svg xmlns=\"http://www.w3.org/2000/svg\" height=\"24px\"viewBox=\"0 0 24 24\"\n",
              "       width=\"24px\">\n",
              "    <path d=\"M0 0h24v24H0V0z\" fill=\"none\"/>\n",
              "    <path d=\"M18.56 5.44l.94 2.06.94-2.06 2.06-.94-2.06-.94-.94-2.06-.94 2.06-2.06.94zm-11 1L8.5 8.5l.94-2.06 2.06-.94-2.06-.94L8.5 2.5l-.94 2.06-2.06.94zm10 10l.94 2.06.94-2.06 2.06-.94-2.06-.94-.94-2.06-.94 2.06-2.06.94z\"/><path d=\"M17.41 7.96l-1.37-1.37c-.4-.4-.92-.59-1.43-.59-.52 0-1.04.2-1.43.59L10.3 9.45l-7.72 7.72c-.78.78-.78 2.05 0 2.83L4 21.41c.39.39.9.59 1.41.59.51 0 1.02-.2 1.41-.59l7.78-7.78 2.81-2.81c.8-.78.8-2.07 0-2.86zM5.41 20L4 18.59l7.72-7.72 1.47 1.35L5.41 20z\"/>\n",
              "  </svg>\n",
              "      </button>\n",
              "      \n",
              "  <style>\n",
              "    .colab-df-container {\n",
              "      display:flex;\n",
              "      flex-wrap:wrap;\n",
              "      gap: 12px;\n",
              "    }\n",
              "\n",
              "    .colab-df-convert {\n",
              "      background-color: #E8F0FE;\n",
              "      border: none;\n",
              "      border-radius: 50%;\n",
              "      cursor: pointer;\n",
              "      display: none;\n",
              "      fill: #1967D2;\n",
              "      height: 32px;\n",
              "      padding: 0 0 0 0;\n",
              "      width: 32px;\n",
              "    }\n",
              "\n",
              "    .colab-df-convert:hover {\n",
              "      background-color: #E2EBFA;\n",
              "      box-shadow: 0px 1px 2px rgba(60, 64, 67, 0.3), 0px 1px 3px 1px rgba(60, 64, 67, 0.15);\n",
              "      fill: #174EA6;\n",
              "    }\n",
              "\n",
              "    [theme=dark] .colab-df-convert {\n",
              "      background-color: #3B4455;\n",
              "      fill: #D2E3FC;\n",
              "    }\n",
              "\n",
              "    [theme=dark] .colab-df-convert:hover {\n",
              "      background-color: #434B5C;\n",
              "      box-shadow: 0px 1px 3px 1px rgba(0, 0, 0, 0.15);\n",
              "      filter: drop-shadow(0px 1px 2px rgba(0, 0, 0, 0.3));\n",
              "      fill: #FFFFFF;\n",
              "    }\n",
              "  </style>\n",
              "\n",
              "      <script>\n",
              "        const buttonEl =\n",
              "          document.querySelector('#df-6ab005d6-d88e-4c48-ac52-fab37e0c43e7 button.colab-df-convert');\n",
              "        buttonEl.style.display =\n",
              "          google.colab.kernel.accessAllowed ? 'block' : 'none';\n",
              "\n",
              "        async function convertToInteractive(key) {\n",
              "          const element = document.querySelector('#df-6ab005d6-d88e-4c48-ac52-fab37e0c43e7');\n",
              "          const dataTable =\n",
              "            await google.colab.kernel.invokeFunction('convertToInteractive',\n",
              "                                                     [key], {});\n",
              "          if (!dataTable) return;\n",
              "\n",
              "          const docLinkHtml = 'Like what you see? Visit the ' +\n",
              "            '<a target=\"_blank\" href=https://colab.research.google.com/notebooks/data_table.ipynb>data table notebook</a>'\n",
              "            + ' to learn more about interactive tables.';\n",
              "          element.innerHTML = '';\n",
              "          dataTable['output_type'] = 'display_data';\n",
              "          await google.colab.output.renderOutput(dataTable, element);\n",
              "          const docLink = document.createElement('div');\n",
              "          docLink.innerHTML = docLinkHtml;\n",
              "          element.appendChild(docLink);\n",
              "        }\n",
              "      </script>\n",
              "    </div>\n",
              "  </div>\n",
              "  "
            ],
            "text/plain": [
              "                         price day ahead Model  Demand DE     Wind   PV  \\\n",
              "Date                                                                      \n",
              "2014-12-31 23:59:59.991              25.390297   40242.25  8280.00  0.0   \n",
              "2015-01-01 00:59:59.991              24.980000   39158.50  8412.75  0.0   \n",
              "2015-01-01 01:59:59.991              24.796874   38824.50  8502.25  0.0   \n",
              "2015-01-01 02:59:59.991              26.074430   38969.25  8668.50  0.0   \n",
              "2015-01-01 03:59:59.991              20.377994   39092.75  8849.25  0.0   \n",
              "...                                        ...        ...      ...  ...   \n",
              "2020-12-31 18:59:59.980              56.545811   49516.00  8053.50  0.0   \n",
              "2020-12-31 19:59:59.980              50.781170   47747.50  7456.50  0.0   \n",
              "2020-12-31 20:59:59.980              50.781170   47761.75  6902.50  0.0   \n",
              "2020-12-31 21:59:59.980              50.781170   46222.50  6395.00  0.0   \n",
              "2020-12-31 22:59:59.980              48.019167   43520.50  4633.50  0.0   \n",
              "\n",
              "                           Gas   Coal    CO2  \n",
              "Date                                          \n",
              "2014-12-31 23:59:59.991  21.30  55.17   7.27  \n",
              "2015-01-01 00:59:59.991  21.30  55.17   7.27  \n",
              "2015-01-01 01:59:59.991  21.30  55.17   7.27  \n",
              "2015-01-01 02:59:59.991  21.30  55.17   7.27  \n",
              "2015-01-01 03:59:59.991  21.30  55.17   7.27  \n",
              "...                        ...    ...    ...  \n",
              "2020-12-31 18:59:59.980  19.12  56.49  32.59  \n",
              "2020-12-31 19:59:59.980  19.12  56.49  32.59  \n",
              "2020-12-31 20:59:59.980  19.12  56.49  32.59  \n",
              "2020-12-31 21:59:59.980  19.12  56.49  32.59  \n",
              "2020-12-31 22:59:59.980  19.12  56.67  32.59  \n",
              "\n",
              "[52608 rows x 7 columns]"
            ]
          },
          "execution_count": 2,
          "metadata": {},
          "output_type": "execute_result"
        }
      ],
      "source": [
        "df = pd.read_excel('/content/electricty_fund_selected_data 2.xlsx')\n",
        "df.drop(df.loc[df['Date'].duplicated()].index, inplace = True)\n",
        "df['Date'] = pd.to_datetime(df['Date'])\n",
        "\n",
        "# df = df.sort_values(df['datetime'], ascending=[True])\n",
        "df.set_index(df['Date'], inplace = True)\n",
        "df.drop(columns = [ 'Date'], inplace = True)\n",
        "df"
      ]
    },
    {
      "cell_type": "code",
      "execution_count": null,
      "metadata": {
        "id": "nCGlT6QBOjQv"
      },
      "outputs": [],
      "source": [
        "def table2lags(table, max_lag, min_lag=0, separator='_'):\n",
        "    \"\"\" Given a dataframe, return a dataframe with different lags of all its columns \"\"\"\n",
        "    values=[]\n",
        "    for i in range(min_lag, max_lag + 1):\n",
        "        values.append(table.shift(i).copy())\n",
        "        values[-1].columns = [c + separator + str(i) for c in table.columns]\n",
        "    return pd.concat(values, axis=1)"
      ]
    },
    {
      "cell_type": "code",
      "execution_count": null,
      "metadata": {
        "colab": {
          "base_uri": "https://localhost:8080/",
          "height": 235
        },
        "id": "XhNPVvV0O1_y",
        "outputId": "df97ff23-7211-4c42-e437-bd459bc1db85"
      },
      "outputs": [
        {
          "data": {
            "text/html": [
              "\n",
              "  <div id=\"df-f0ae762a-6d23-487b-965f-e109084fd5b2\">\n",
              "    <div class=\"colab-df-container\">\n",
              "      <div>\n",
              "<style scoped>\n",
              "    .dataframe tbody tr th:only-of-type {\n",
              "        vertical-align: middle;\n",
              "    }\n",
              "\n",
              "    .dataframe tbody tr th {\n",
              "        vertical-align: top;\n",
              "    }\n",
              "\n",
              "    .dataframe thead th {\n",
              "        text-align: right;\n",
              "    }\n",
              "</style>\n",
              "<table border=\"1\" class=\"dataframe\">\n",
              "  <thead>\n",
              "    <tr style=\"text-align: right;\">\n",
              "      <th></th>\n",
              "      <th>price day ahead Model</th>\n",
              "      <th>Demand DE</th>\n",
              "      <th>Wind</th>\n",
              "      <th>PV</th>\n",
              "      <th>Gas</th>\n",
              "      <th>Coal</th>\n",
              "      <th>CO2</th>\n",
              "    </tr>\n",
              "    <tr>\n",
              "      <th>Date</th>\n",
              "      <th></th>\n",
              "      <th></th>\n",
              "      <th></th>\n",
              "      <th></th>\n",
              "      <th></th>\n",
              "      <th></th>\n",
              "      <th></th>\n",
              "    </tr>\n",
              "  </thead>\n",
              "  <tbody>\n",
              "    <tr>\n",
              "      <th>2014-12-31 23:59:59.991</th>\n",
              "      <td>25.390297</td>\n",
              "      <td>40242.25</td>\n",
              "      <td>8280.00</td>\n",
              "      <td>0.0</td>\n",
              "      <td>21.3</td>\n",
              "      <td>55.17</td>\n",
              "      <td>7.27</td>\n",
              "    </tr>\n",
              "    <tr>\n",
              "      <th>2015-01-01 00:59:59.991</th>\n",
              "      <td>24.980000</td>\n",
              "      <td>39158.50</td>\n",
              "      <td>8412.75</td>\n",
              "      <td>0.0</td>\n",
              "      <td>21.3</td>\n",
              "      <td>55.17</td>\n",
              "      <td>7.27</td>\n",
              "    </tr>\n",
              "    <tr>\n",
              "      <th>2015-01-01 01:59:59.991</th>\n",
              "      <td>24.796874</td>\n",
              "      <td>38824.50</td>\n",
              "      <td>8502.25</td>\n",
              "      <td>0.0</td>\n",
              "      <td>21.3</td>\n",
              "      <td>55.17</td>\n",
              "      <td>7.27</td>\n",
              "    </tr>\n",
              "    <tr>\n",
              "      <th>2015-01-01 02:59:59.991</th>\n",
              "      <td>26.074430</td>\n",
              "      <td>38969.25</td>\n",
              "      <td>8668.50</td>\n",
              "      <td>0.0</td>\n",
              "      <td>21.3</td>\n",
              "      <td>55.17</td>\n",
              "      <td>7.27</td>\n",
              "    </tr>\n",
              "    <tr>\n",
              "      <th>2015-01-01 03:59:59.991</th>\n",
              "      <td>20.377994</td>\n",
              "      <td>39092.75</td>\n",
              "      <td>8849.25</td>\n",
              "      <td>0.0</td>\n",
              "      <td>21.3</td>\n",
              "      <td>55.17</td>\n",
              "      <td>7.27</td>\n",
              "    </tr>\n",
              "  </tbody>\n",
              "</table>\n",
              "</div>\n",
              "      <button class=\"colab-df-convert\" onclick=\"convertToInteractive('df-f0ae762a-6d23-487b-965f-e109084fd5b2')\"\n",
              "              title=\"Convert this dataframe to an interactive table.\"\n",
              "              style=\"display:none;\">\n",
              "        \n",
              "  <svg xmlns=\"http://www.w3.org/2000/svg\" height=\"24px\"viewBox=\"0 0 24 24\"\n",
              "       width=\"24px\">\n",
              "    <path d=\"M0 0h24v24H0V0z\" fill=\"none\"/>\n",
              "    <path d=\"M18.56 5.44l.94 2.06.94-2.06 2.06-.94-2.06-.94-.94-2.06-.94 2.06-2.06.94zm-11 1L8.5 8.5l.94-2.06 2.06-.94-2.06-.94L8.5 2.5l-.94 2.06-2.06.94zm10 10l.94 2.06.94-2.06 2.06-.94-2.06-.94-.94-2.06-.94 2.06-2.06.94z\"/><path d=\"M17.41 7.96l-1.37-1.37c-.4-.4-.92-.59-1.43-.59-.52 0-1.04.2-1.43.59L10.3 9.45l-7.72 7.72c-.78.78-.78 2.05 0 2.83L4 21.41c.39.39.9.59 1.41.59.51 0 1.02-.2 1.41-.59l7.78-7.78 2.81-2.81c.8-.78.8-2.07 0-2.86zM5.41 20L4 18.59l7.72-7.72 1.47 1.35L5.41 20z\"/>\n",
              "  </svg>\n",
              "      </button>\n",
              "      \n",
              "  <style>\n",
              "    .colab-df-container {\n",
              "      display:flex;\n",
              "      flex-wrap:wrap;\n",
              "      gap: 12px;\n",
              "    }\n",
              "\n",
              "    .colab-df-convert {\n",
              "      background-color: #E8F0FE;\n",
              "      border: none;\n",
              "      border-radius: 50%;\n",
              "      cursor: pointer;\n",
              "      display: none;\n",
              "      fill: #1967D2;\n",
              "      height: 32px;\n",
              "      padding: 0 0 0 0;\n",
              "      width: 32px;\n",
              "    }\n",
              "\n",
              "    .colab-df-convert:hover {\n",
              "      background-color: #E2EBFA;\n",
              "      box-shadow: 0px 1px 2px rgba(60, 64, 67, 0.3), 0px 1px 3px 1px rgba(60, 64, 67, 0.15);\n",
              "      fill: #174EA6;\n",
              "    }\n",
              "\n",
              "    [theme=dark] .colab-df-convert {\n",
              "      background-color: #3B4455;\n",
              "      fill: #D2E3FC;\n",
              "    }\n",
              "\n",
              "    [theme=dark] .colab-df-convert:hover {\n",
              "      background-color: #434B5C;\n",
              "      box-shadow: 0px 1px 3px 1px rgba(0, 0, 0, 0.15);\n",
              "      filter: drop-shadow(0px 1px 2px rgba(0, 0, 0, 0.3));\n",
              "      fill: #FFFFFF;\n",
              "    }\n",
              "  </style>\n",
              "\n",
              "      <script>\n",
              "        const buttonEl =\n",
              "          document.querySelector('#df-f0ae762a-6d23-487b-965f-e109084fd5b2 button.colab-df-convert');\n",
              "        buttonEl.style.display =\n",
              "          google.colab.kernel.accessAllowed ? 'block' : 'none';\n",
              "\n",
              "        async function convertToInteractive(key) {\n",
              "          const element = document.querySelector('#df-f0ae762a-6d23-487b-965f-e109084fd5b2');\n",
              "          const dataTable =\n",
              "            await google.colab.kernel.invokeFunction('convertToInteractive',\n",
              "                                                     [key], {});\n",
              "          if (!dataTable) return;\n",
              "\n",
              "          const docLinkHtml = 'Like what you see? Visit the ' +\n",
              "            '<a target=\"_blank\" href=https://colab.research.google.com/notebooks/data_table.ipynb>data table notebook</a>'\n",
              "            + ' to learn more about interactive tables.';\n",
              "          element.innerHTML = '';\n",
              "          dataTable['output_type'] = 'display_data';\n",
              "          await google.colab.output.renderOutput(dataTable, element);\n",
              "          const docLink = document.createElement('div');\n",
              "          docLink.innerHTML = docLinkHtml;\n",
              "          element.appendChild(docLink);\n",
              "        }\n",
              "      </script>\n",
              "    </div>\n",
              "  </div>\n",
              "  "
            ],
            "text/plain": [
              "                         price day ahead Model  Demand DE     Wind   PV   Gas  \\\n",
              "Date                                                                            \n",
              "2014-12-31 23:59:59.991              25.390297   40242.25  8280.00  0.0  21.3   \n",
              "2015-01-01 00:59:59.991              24.980000   39158.50  8412.75  0.0  21.3   \n",
              "2015-01-01 01:59:59.991              24.796874   38824.50  8502.25  0.0  21.3   \n",
              "2015-01-01 02:59:59.991              26.074430   38969.25  8668.50  0.0  21.3   \n",
              "2015-01-01 03:59:59.991              20.377994   39092.75  8849.25  0.0  21.3   \n",
              "\n",
              "                          Coal   CO2  \n",
              "Date                                  \n",
              "2014-12-31 23:59:59.991  55.17  7.27  \n",
              "2015-01-01 00:59:59.991  55.17  7.27  \n",
              "2015-01-01 01:59:59.991  55.17  7.27  \n",
              "2015-01-01 02:59:59.991  55.17  7.27  \n",
              "2015-01-01 03:59:59.991  55.17  7.27  "
            ]
          },
          "execution_count": 4,
          "metadata": {},
          "output_type": "execute_result"
        }
      ],
      "source": [
        "df.head()"
      ]
    },
    {
      "cell_type": "code",
      "execution_count": null,
      "metadata": {
        "id": "1ZT8hm0AO9Fv"
      },
      "outputs": [],
      "source": [
        "df_lagged = table2lags(df, 168, 24)"
      ]
    },
    {
      "cell_type": "code",
      "execution_count": null,
      "metadata": {
        "colab": {
          "base_uri": "https://localhost:8080/"
        },
        "id": "ze_jJeNzPDSq",
        "outputId": "9301bd77-4821-4076-9726-8e2af3e663d2"
      },
      "outputs": [
        {
          "data": {
            "text/plain": [
              "Index(['price day ahead Model_24', 'Demand DE_24', 'Wind_24', 'PV_24',\n",
              "       'Gas_24', 'Coal_24', 'CO2_24', 'price day ahead Model_25',\n",
              "       'Demand DE_25', 'Wind_25',\n",
              "       ...\n",
              "       'Gas_167', 'Coal_167', 'CO2_167', 'price day ahead Model_168',\n",
              "       'Demand DE_168', 'Wind_168', 'PV_168', 'Gas_168', 'Coal_168',\n",
              "       'CO2_168'],\n",
              "      dtype='object', length=1015)"
            ]
          },
          "execution_count": 6,
          "metadata": {},
          "output_type": "execute_result"
        }
      ],
      "source": [
        "df_lagged.columns"
      ]
    },
    {
      "cell_type": "code",
      "execution_count": null,
      "metadata": {
        "colab": {
          "base_uri": "https://localhost:8080/"
        },
        "id": "WTHQNVVYPI0a",
        "outputId": "7b03572a-562c-49c0-a395-e86e64912956"
      },
      "outputs": [
        {
          "data": {
            "text/plain": [
              "(52608, 1015)"
            ]
          },
          "execution_count": 7,
          "metadata": {},
          "output_type": "execute_result"
        }
      ],
      "source": [
        "df_lagged.shape"
      ]
    },
    {
      "cell_type": "code",
      "execution_count": null,
      "metadata": {
        "id": "9iODFwbCPRTa"
      },
      "outputs": [],
      "source": [
        "x_train = df_lagged[168:25000]\n",
        "x_valid = df_lagged[25000:34944]\n",
        "x_test = df_lagged[34944:]"
      ]
    },
    {
      "cell_type": "code",
      "execution_count": null,
      "metadata": {
        "id": "AGNsJd89PUhi"
      },
      "outputs": [],
      "source": [
        "y_train = df['price day ahead Model'][168:25000]\n",
        "y_valid = df['price day ahead Model'][25000:34944]\n",
        "y_test = df['price day ahead Model'][34944:]"
      ]
    },
    {
      "cell_type": "code",
      "execution_count": null,
      "metadata": {
        "colab": {
          "base_uri": "https://localhost:8080/",
          "height": 464
        },
        "id": "w3iuEml-PYk0",
        "outputId": "2ca5ab74-7f89-4258-d941-9c9a6cc72326"
      },
      "outputs": [
        {
          "data": {
            "text/html": [
              "\n",
              "  <div id=\"df-a2074ed0-af03-4db8-a5c0-0ab3d1361c0e\">\n",
              "    <div class=\"colab-df-container\">\n",
              "      <div>\n",
              "<style scoped>\n",
              "    .dataframe tbody tr th:only-of-type {\n",
              "        vertical-align: middle;\n",
              "    }\n",
              "\n",
              "    .dataframe tbody tr th {\n",
              "        vertical-align: top;\n",
              "    }\n",
              "\n",
              "    .dataframe thead th {\n",
              "        text-align: right;\n",
              "    }\n",
              "</style>\n",
              "<table border=\"1\" class=\"dataframe\">\n",
              "  <thead>\n",
              "    <tr style=\"text-align: right;\">\n",
              "      <th></th>\n",
              "      <th>price day ahead Model_24</th>\n",
              "      <th>Demand DE_24</th>\n",
              "      <th>Wind_24</th>\n",
              "      <th>PV_24</th>\n",
              "      <th>Gas_24</th>\n",
              "      <th>Coal_24</th>\n",
              "      <th>CO2_24</th>\n",
              "      <th>price day ahead Model_25</th>\n",
              "      <th>Demand DE_25</th>\n",
              "      <th>Wind_25</th>\n",
              "      <th>...</th>\n",
              "      <th>Gas_167</th>\n",
              "      <th>Coal_167</th>\n",
              "      <th>CO2_167</th>\n",
              "      <th>price day ahead Model_168</th>\n",
              "      <th>Demand DE_168</th>\n",
              "      <th>Wind_168</th>\n",
              "      <th>PV_168</th>\n",
              "      <th>Gas_168</th>\n",
              "      <th>Coal_168</th>\n",
              "      <th>CO2_168</th>\n",
              "    </tr>\n",
              "    <tr>\n",
              "      <th>Date</th>\n",
              "      <th></th>\n",
              "      <th></th>\n",
              "      <th></th>\n",
              "      <th></th>\n",
              "      <th></th>\n",
              "      <th></th>\n",
              "      <th></th>\n",
              "      <th></th>\n",
              "      <th></th>\n",
              "      <th></th>\n",
              "      <th></th>\n",
              "      <th></th>\n",
              "      <th></th>\n",
              "      <th></th>\n",
              "      <th></th>\n",
              "      <th></th>\n",
              "      <th></th>\n",
              "      <th></th>\n",
              "      <th></th>\n",
              "      <th></th>\n",
              "      <th></th>\n",
              "    </tr>\n",
              "  </thead>\n",
              "  <tbody>\n",
              "    <tr>\n",
              "      <th>2018-12-26 23:59:59.983</th>\n",
              "      <td>36.613695</td>\n",
              "      <td>45359.375</td>\n",
              "      <td>21770.50</td>\n",
              "      <td>0.0</td>\n",
              "      <td>24.25</td>\n",
              "      <td>76.65</td>\n",
              "      <td>24.9</td>\n",
              "      <td>37.392000</td>\n",
              "      <td>48533.125</td>\n",
              "      <td>22085.00</td>\n",
              "      <td>...</td>\n",
              "      <td>24.6</td>\n",
              "      <td>77.74</td>\n",
              "      <td>24.23</td>\n",
              "      <td>42.885549</td>\n",
              "      <td>47106.236493</td>\n",
              "      <td>12341.50</td>\n",
              "      <td>0.0</td>\n",
              "      <td>24.6</td>\n",
              "      <td>77.74</td>\n",
              "      <td>24.23</td>\n",
              "    </tr>\n",
              "    <tr>\n",
              "      <th>2018-12-27 00:59:59.983</th>\n",
              "      <td>36.613695</td>\n",
              "      <td>44483.125</td>\n",
              "      <td>21419.75</td>\n",
              "      <td>0.0</td>\n",
              "      <td>24.25</td>\n",
              "      <td>76.65</td>\n",
              "      <td>24.9</td>\n",
              "      <td>36.613695</td>\n",
              "      <td>45359.375</td>\n",
              "      <td>21770.50</td>\n",
              "      <td>...</td>\n",
              "      <td>24.6</td>\n",
              "      <td>77.74</td>\n",
              "      <td>24.23</td>\n",
              "      <td>40.000000</td>\n",
              "      <td>46271.970777</td>\n",
              "      <td>12261.75</td>\n",
              "      <td>0.0</td>\n",
              "      <td>24.6</td>\n",
              "      <td>77.74</td>\n",
              "      <td>24.23</td>\n",
              "    </tr>\n",
              "    <tr>\n",
              "      <th>2018-12-27 01:59:59.983</th>\n",
              "      <td>35.000000</td>\n",
              "      <td>44814.625</td>\n",
              "      <td>21025.75</td>\n",
              "      <td>0.0</td>\n",
              "      <td>24.25</td>\n",
              "      <td>76.65</td>\n",
              "      <td>24.9</td>\n",
              "      <td>36.613695</td>\n",
              "      <td>44483.125</td>\n",
              "      <td>21419.75</td>\n",
              "      <td>...</td>\n",
              "      <td>24.6</td>\n",
              "      <td>77.74</td>\n",
              "      <td>24.23</td>\n",
              "      <td>38.787155</td>\n",
              "      <td>46461.589810</td>\n",
              "      <td>12411.50</td>\n",
              "      <td>0.0</td>\n",
              "      <td>24.6</td>\n",
              "      <td>77.74</td>\n",
              "      <td>24.23</td>\n",
              "    </tr>\n",
              "    <tr>\n",
              "      <th>2018-12-27 02:59:59.983</th>\n",
              "      <td>35.170000</td>\n",
              "      <td>46157.000</td>\n",
              "      <td>20383.50</td>\n",
              "      <td>0.0</td>\n",
              "      <td>24.25</td>\n",
              "      <td>76.65</td>\n",
              "      <td>24.9</td>\n",
              "      <td>35.000000</td>\n",
              "      <td>44814.625</td>\n",
              "      <td>21025.75</td>\n",
              "      <td>...</td>\n",
              "      <td>24.6</td>\n",
              "      <td>77.74</td>\n",
              "      <td>24.23</td>\n",
              "      <td>41.899859</td>\n",
              "      <td>47481.164035</td>\n",
              "      <td>12726.75</td>\n",
              "      <td>0.0</td>\n",
              "      <td>24.6</td>\n",
              "      <td>77.74</td>\n",
              "      <td>24.23</td>\n",
              "    </tr>\n",
              "    <tr>\n",
              "      <th>2018-12-27 03:59:59.983</th>\n",
              "      <td>36.613695</td>\n",
              "      <td>49332.625</td>\n",
              "      <td>19661.00</td>\n",
              "      <td>0.0</td>\n",
              "      <td>24.25</td>\n",
              "      <td>76.65</td>\n",
              "      <td>24.9</td>\n",
              "      <td>35.170000</td>\n",
              "      <td>46157.000</td>\n",
              "      <td>20383.50</td>\n",
              "      <td>...</td>\n",
              "      <td>24.6</td>\n",
              "      <td>77.74</td>\n",
              "      <td>24.23</td>\n",
              "      <td>46.457118</td>\n",
              "      <td>50174.786288</td>\n",
              "      <td>13373.50</td>\n",
              "      <td>0.0</td>\n",
              "      <td>24.6</td>\n",
              "      <td>77.74</td>\n",
              "      <td>24.23</td>\n",
              "    </tr>\n",
              "  </tbody>\n",
              "</table>\n",
              "<p>5 rows × 1015 columns</p>\n",
              "</div>\n",
              "      <button class=\"colab-df-convert\" onclick=\"convertToInteractive('df-a2074ed0-af03-4db8-a5c0-0ab3d1361c0e')\"\n",
              "              title=\"Convert this dataframe to an interactive table.\"\n",
              "              style=\"display:none;\">\n",
              "        \n",
              "  <svg xmlns=\"http://www.w3.org/2000/svg\" height=\"24px\"viewBox=\"0 0 24 24\"\n",
              "       width=\"24px\">\n",
              "    <path d=\"M0 0h24v24H0V0z\" fill=\"none\"/>\n",
              "    <path d=\"M18.56 5.44l.94 2.06.94-2.06 2.06-.94-2.06-.94-.94-2.06-.94 2.06-2.06.94zm-11 1L8.5 8.5l.94-2.06 2.06-.94-2.06-.94L8.5 2.5l-.94 2.06-2.06.94zm10 10l.94 2.06.94-2.06 2.06-.94-2.06-.94-.94-2.06-.94 2.06-2.06.94z\"/><path d=\"M17.41 7.96l-1.37-1.37c-.4-.4-.92-.59-1.43-.59-.52 0-1.04.2-1.43.59L10.3 9.45l-7.72 7.72c-.78.78-.78 2.05 0 2.83L4 21.41c.39.39.9.59 1.41.59.51 0 1.02-.2 1.41-.59l7.78-7.78 2.81-2.81c.8-.78.8-2.07 0-2.86zM5.41 20L4 18.59l7.72-7.72 1.47 1.35L5.41 20z\"/>\n",
              "  </svg>\n",
              "      </button>\n",
              "      \n",
              "  <style>\n",
              "    .colab-df-container {\n",
              "      display:flex;\n",
              "      flex-wrap:wrap;\n",
              "      gap: 12px;\n",
              "    }\n",
              "\n",
              "    .colab-df-convert {\n",
              "      background-color: #E8F0FE;\n",
              "      border: none;\n",
              "      border-radius: 50%;\n",
              "      cursor: pointer;\n",
              "      display: none;\n",
              "      fill: #1967D2;\n",
              "      height: 32px;\n",
              "      padding: 0 0 0 0;\n",
              "      width: 32px;\n",
              "    }\n",
              "\n",
              "    .colab-df-convert:hover {\n",
              "      background-color: #E2EBFA;\n",
              "      box-shadow: 0px 1px 2px rgba(60, 64, 67, 0.3), 0px 1px 3px 1px rgba(60, 64, 67, 0.15);\n",
              "      fill: #174EA6;\n",
              "    }\n",
              "\n",
              "    [theme=dark] .colab-df-convert {\n",
              "      background-color: #3B4455;\n",
              "      fill: #D2E3FC;\n",
              "    }\n",
              "\n",
              "    [theme=dark] .colab-df-convert:hover {\n",
              "      background-color: #434B5C;\n",
              "      box-shadow: 0px 1px 3px 1px rgba(0, 0, 0, 0.15);\n",
              "      filter: drop-shadow(0px 1px 2px rgba(0, 0, 0, 0.3));\n",
              "      fill: #FFFFFF;\n",
              "    }\n",
              "  </style>\n",
              "\n",
              "      <script>\n",
              "        const buttonEl =\n",
              "          document.querySelector('#df-a2074ed0-af03-4db8-a5c0-0ab3d1361c0e button.colab-df-convert');\n",
              "        buttonEl.style.display =\n",
              "          google.colab.kernel.accessAllowed ? 'block' : 'none';\n",
              "\n",
              "        async function convertToInteractive(key) {\n",
              "          const element = document.querySelector('#df-a2074ed0-af03-4db8-a5c0-0ab3d1361c0e');\n",
              "          const dataTable =\n",
              "            await google.colab.kernel.invokeFunction('convertToInteractive',\n",
              "                                                     [key], {});\n",
              "          if (!dataTable) return;\n",
              "\n",
              "          const docLinkHtml = 'Like what you see? Visit the ' +\n",
              "            '<a target=\"_blank\" href=https://colab.research.google.com/notebooks/data_table.ipynb>data table notebook</a>'\n",
              "            + ' to learn more about interactive tables.';\n",
              "          element.innerHTML = '';\n",
              "          dataTable['output_type'] = 'display_data';\n",
              "          await google.colab.output.renderOutput(dataTable, element);\n",
              "          const docLink = document.createElement('div');\n",
              "          docLink.innerHTML = docLinkHtml;\n",
              "          element.appendChild(docLink);\n",
              "        }\n",
              "      </script>\n",
              "    </div>\n",
              "  </div>\n",
              "  "
            ],
            "text/plain": [
              "                         price day ahead Model_24  Demand DE_24   Wind_24  \\\n",
              "Date                                                                        \n",
              "2018-12-26 23:59:59.983                 36.613695     45359.375  21770.50   \n",
              "2018-12-27 00:59:59.983                 36.613695     44483.125  21419.75   \n",
              "2018-12-27 01:59:59.983                 35.000000     44814.625  21025.75   \n",
              "2018-12-27 02:59:59.983                 35.170000     46157.000  20383.50   \n",
              "2018-12-27 03:59:59.983                 36.613695     49332.625  19661.00   \n",
              "\n",
              "                         PV_24  Gas_24  Coal_24  CO2_24  \\\n",
              "Date                                                      \n",
              "2018-12-26 23:59:59.983    0.0   24.25    76.65    24.9   \n",
              "2018-12-27 00:59:59.983    0.0   24.25    76.65    24.9   \n",
              "2018-12-27 01:59:59.983    0.0   24.25    76.65    24.9   \n",
              "2018-12-27 02:59:59.983    0.0   24.25    76.65    24.9   \n",
              "2018-12-27 03:59:59.983    0.0   24.25    76.65    24.9   \n",
              "\n",
              "                         price day ahead Model_25  Demand DE_25   Wind_25  \\\n",
              "Date                                                                        \n",
              "2018-12-26 23:59:59.983                 37.392000     48533.125  22085.00   \n",
              "2018-12-27 00:59:59.983                 36.613695     45359.375  21770.50   \n",
              "2018-12-27 01:59:59.983                 36.613695     44483.125  21419.75   \n",
              "2018-12-27 02:59:59.983                 35.000000     44814.625  21025.75   \n",
              "2018-12-27 03:59:59.983                 35.170000     46157.000  20383.50   \n",
              "\n",
              "                         ...  Gas_167  Coal_167  CO2_167  \\\n",
              "Date                     ...                               \n",
              "2018-12-26 23:59:59.983  ...     24.6     77.74    24.23   \n",
              "2018-12-27 00:59:59.983  ...     24.6     77.74    24.23   \n",
              "2018-12-27 01:59:59.983  ...     24.6     77.74    24.23   \n",
              "2018-12-27 02:59:59.983  ...     24.6     77.74    24.23   \n",
              "2018-12-27 03:59:59.983  ...     24.6     77.74    24.23   \n",
              "\n",
              "                         price day ahead Model_168  Demand DE_168  Wind_168  \\\n",
              "Date                                                                          \n",
              "2018-12-26 23:59:59.983                  42.885549   47106.236493  12341.50   \n",
              "2018-12-27 00:59:59.983                  40.000000   46271.970777  12261.75   \n",
              "2018-12-27 01:59:59.983                  38.787155   46461.589810  12411.50   \n",
              "2018-12-27 02:59:59.983                  41.899859   47481.164035  12726.75   \n",
              "2018-12-27 03:59:59.983                  46.457118   50174.786288  13373.50   \n",
              "\n",
              "                         PV_168  Gas_168  Coal_168  CO2_168  \n",
              "Date                                                         \n",
              "2018-12-26 23:59:59.983     0.0     24.6     77.74    24.23  \n",
              "2018-12-27 00:59:59.983     0.0     24.6     77.74    24.23  \n",
              "2018-12-27 01:59:59.983     0.0     24.6     77.74    24.23  \n",
              "2018-12-27 02:59:59.983     0.0     24.6     77.74    24.23  \n",
              "2018-12-27 03:59:59.983     0.0     24.6     77.74    24.23  \n",
              "\n",
              "[5 rows x 1015 columns]"
            ]
          },
          "execution_count": 10,
          "metadata": {},
          "output_type": "execute_result"
        }
      ],
      "source": [
        "x_test.head()"
      ]
    },
    {
      "cell_type": "code",
      "execution_count": null,
      "metadata": {
        "colab": {
          "base_uri": "https://localhost:8080/"
        },
        "id": "VyJfsXh8PdTH",
        "outputId": "aa55199e-ec48-4d7a-e1fa-b51ac6d0bda0"
      },
      "outputs": [
        {
          "name": "stderr",
          "output_type": "stream",
          "text": [
            "/usr/local/lib/python3.7/dist-packages/sklearn/ensemble/_forest.py:407: FutureWarning: Criterion 'mae' was deprecated in v1.0 and will be removed in version 1.2. Use `criterion='absolute_error'` which is equivalent.\n",
            "  FutureWarning,\n"
          ]
        },
        {
          "data": {
            "text/plain": [
              "RandomForestRegressor(criterion='mae', max_depth=1, max_features=2,\n",
              "                      n_estimators=10)"
            ]
          },
          "execution_count": 11,
          "metadata": {},
          "output_type": "execute_result"
        }
      ],
      "source": [
        "rf = RandomForestRegressor(n_estimators=10, max_features=2,\n",
        "    criterion='mae',\n",
        "    max_depth=1)\n",
        "\n",
        "    \n",
        "rf.fit(x_train, y_train)"
      ]
    },
    {
      "cell_type": "code",
      "execution_count": null,
      "metadata": {
        "id": "AkIIGI1hQncU"
      },
      "outputs": [],
      "source": [
        "y_test = pd.DataFrame(y_test)"
      ]
    },
    {
      "cell_type": "code",
      "execution_count": null,
      "metadata": {
        "id": "xE65TizBQqjI"
      },
      "outputs": [],
      "source": [
        "y_pred = rf.predict(x_test)"
      ]
    },
    {
      "cell_type": "code",
      "execution_count": null,
      "metadata": {
        "id": "UeYrK7xWQtJT"
      },
      "outputs": [],
      "source": [
        "y_test['predictions'] = y_pred"
      ]
    },
    {
      "cell_type": "code",
      "execution_count": null,
      "metadata": {
        "colab": {
          "base_uri": "https://localhost:8080/"
        },
        "id": "6HRdncWdQxBl",
        "outputId": "5382f18d-4e0a-4137-b1ab-b5c972980856"
      },
      "outputs": [
        {
          "data": {
            "text/plain": [
              "23.349760152590097"
            ]
          },
          "execution_count": 15,
          "metadata": {},
          "output_type": "execute_result"
        }
      ],
      "source": [
        "y_test['difference'] = np.abs(y_test['price day ahead Model'] - y_test['predictions'])\n",
        "y_test['% error'] = (y_test['difference']/y_test['price day ahead Model'])*100\n",
        "np.mean(y_test['% error'])"
      ]
    },
    {
      "cell_type": "code",
      "execution_count": null,
      "metadata": {
        "id": "fpg7sFUEQ0j8"
      },
      "outputs": [],
      "source": [
        "y_test['% error'] = (y_test['difference']/y_test['price day ahead Model'])*100"
      ]
    },
    {
      "cell_type": "code",
      "execution_count": null,
      "metadata": {
        "colab": {
          "base_uri": "https://localhost:8080/",
          "height": 450
        },
        "id": "7HnBiGgYQ313",
        "outputId": "8c559c7d-4794-4aa6-ba20-7a980be8f44c"
      },
      "outputs": [
        {
          "data": {
            "text/html": [
              "\n",
              "  <div id=\"df-d7f647fe-3504-4e3e-93e4-d02fc6aaf1c0\">\n",
              "    <div class=\"colab-df-container\">\n",
              "      <div>\n",
              "<style scoped>\n",
              "    .dataframe tbody tr th:only-of-type {\n",
              "        vertical-align: middle;\n",
              "    }\n",
              "\n",
              "    .dataframe tbody tr th {\n",
              "        vertical-align: top;\n",
              "    }\n",
              "\n",
              "    .dataframe thead th {\n",
              "        text-align: right;\n",
              "    }\n",
              "</style>\n",
              "<table border=\"1\" class=\"dataframe\">\n",
              "  <thead>\n",
              "    <tr style=\"text-align: right;\">\n",
              "      <th></th>\n",
              "      <th>price day ahead Model</th>\n",
              "      <th>predictions</th>\n",
              "      <th>difference</th>\n",
              "      <th>% error</th>\n",
              "    </tr>\n",
              "    <tr>\n",
              "      <th>Date</th>\n",
              "      <th></th>\n",
              "      <th></th>\n",
              "      <th></th>\n",
              "      <th></th>\n",
              "    </tr>\n",
              "  </thead>\n",
              "  <tbody>\n",
              "    <tr>\n",
              "      <th>2018-12-26 23:59:59.983</th>\n",
              "      <td>39.219525</td>\n",
              "      <td>35.413279</td>\n",
              "      <td>3.806245</td>\n",
              "      <td>9.704976</td>\n",
              "    </tr>\n",
              "    <tr>\n",
              "      <th>2018-12-27 00:59:59.983</th>\n",
              "      <td>36.613695</td>\n",
              "      <td>35.413279</td>\n",
              "      <td>1.200416</td>\n",
              "      <td>3.278598</td>\n",
              "    </tr>\n",
              "    <tr>\n",
              "      <th>2018-12-27 01:59:59.983</th>\n",
              "      <td>36.613695</td>\n",
              "      <td>34.610075</td>\n",
              "      <td>2.003620</td>\n",
              "      <td>5.472325</td>\n",
              "    </tr>\n",
              "    <tr>\n",
              "      <th>2018-12-27 02:59:59.983</th>\n",
              "      <td>36.613695</td>\n",
              "      <td>34.610075</td>\n",
              "      <td>2.003620</td>\n",
              "      <td>5.472325</td>\n",
              "    </tr>\n",
              "    <tr>\n",
              "      <th>2018-12-27 03:59:59.983</th>\n",
              "      <td>39.219525</td>\n",
              "      <td>34.610075</td>\n",
              "      <td>4.609450</td>\n",
              "      <td>11.752947</td>\n",
              "    </tr>\n",
              "    <tr>\n",
              "      <th>...</th>\n",
              "      <td>...</td>\n",
              "      <td>...</td>\n",
              "      <td>...</td>\n",
              "      <td>...</td>\n",
              "    </tr>\n",
              "    <tr>\n",
              "      <th>2020-12-31 18:59:59.980</th>\n",
              "      <td>56.545811</td>\n",
              "      <td>34.683887</td>\n",
              "      <td>21.861923</td>\n",
              "      <td>38.662322</td>\n",
              "    </tr>\n",
              "    <tr>\n",
              "      <th>2020-12-31 19:59:59.980</th>\n",
              "      <td>50.781170</td>\n",
              "      <td>34.513637</td>\n",
              "      <td>16.267534</td>\n",
              "      <td>32.034578</td>\n",
              "    </tr>\n",
              "    <tr>\n",
              "      <th>2020-12-31 20:59:59.980</th>\n",
              "      <td>50.781170</td>\n",
              "      <td>34.161386</td>\n",
              "      <td>16.619784</td>\n",
              "      <td>32.728242</td>\n",
              "    </tr>\n",
              "    <tr>\n",
              "      <th>2020-12-31 21:59:59.980</th>\n",
              "      <td>50.781170</td>\n",
              "      <td>34.161386</td>\n",
              "      <td>16.619784</td>\n",
              "      <td>32.728242</td>\n",
              "    </tr>\n",
              "    <tr>\n",
              "      <th>2020-12-31 22:59:59.980</th>\n",
              "      <td>48.019167</td>\n",
              "      <td>34.161386</td>\n",
              "      <td>13.857781</td>\n",
              "      <td>28.858853</td>\n",
              "    </tr>\n",
              "  </tbody>\n",
              "</table>\n",
              "<p>17664 rows × 4 columns</p>\n",
              "</div>\n",
              "      <button class=\"colab-df-convert\" onclick=\"convertToInteractive('df-d7f647fe-3504-4e3e-93e4-d02fc6aaf1c0')\"\n",
              "              title=\"Convert this dataframe to an interactive table.\"\n",
              "              style=\"display:none;\">\n",
              "        \n",
              "  <svg xmlns=\"http://www.w3.org/2000/svg\" height=\"24px\"viewBox=\"0 0 24 24\"\n",
              "       width=\"24px\">\n",
              "    <path d=\"M0 0h24v24H0V0z\" fill=\"none\"/>\n",
              "    <path d=\"M18.56 5.44l.94 2.06.94-2.06 2.06-.94-2.06-.94-.94-2.06-.94 2.06-2.06.94zm-11 1L8.5 8.5l.94-2.06 2.06-.94-2.06-.94L8.5 2.5l-.94 2.06-2.06.94zm10 10l.94 2.06.94-2.06 2.06-.94-2.06-.94-.94-2.06-.94 2.06-2.06.94z\"/><path d=\"M17.41 7.96l-1.37-1.37c-.4-.4-.92-.59-1.43-.59-.52 0-1.04.2-1.43.59L10.3 9.45l-7.72 7.72c-.78.78-.78 2.05 0 2.83L4 21.41c.39.39.9.59 1.41.59.51 0 1.02-.2 1.41-.59l7.78-7.78 2.81-2.81c.8-.78.8-2.07 0-2.86zM5.41 20L4 18.59l7.72-7.72 1.47 1.35L5.41 20z\"/>\n",
              "  </svg>\n",
              "      </button>\n",
              "      \n",
              "  <style>\n",
              "    .colab-df-container {\n",
              "      display:flex;\n",
              "      flex-wrap:wrap;\n",
              "      gap: 12px;\n",
              "    }\n",
              "\n",
              "    .colab-df-convert {\n",
              "      background-color: #E8F0FE;\n",
              "      border: none;\n",
              "      border-radius: 50%;\n",
              "      cursor: pointer;\n",
              "      display: none;\n",
              "      fill: #1967D2;\n",
              "      height: 32px;\n",
              "      padding: 0 0 0 0;\n",
              "      width: 32px;\n",
              "    }\n",
              "\n",
              "    .colab-df-convert:hover {\n",
              "      background-color: #E2EBFA;\n",
              "      box-shadow: 0px 1px 2px rgba(60, 64, 67, 0.3), 0px 1px 3px 1px rgba(60, 64, 67, 0.15);\n",
              "      fill: #174EA6;\n",
              "    }\n",
              "\n",
              "    [theme=dark] .colab-df-convert {\n",
              "      background-color: #3B4455;\n",
              "      fill: #D2E3FC;\n",
              "    }\n",
              "\n",
              "    [theme=dark] .colab-df-convert:hover {\n",
              "      background-color: #434B5C;\n",
              "      box-shadow: 0px 1px 3px 1px rgba(0, 0, 0, 0.15);\n",
              "      filter: drop-shadow(0px 1px 2px rgba(0, 0, 0, 0.3));\n",
              "      fill: #FFFFFF;\n",
              "    }\n",
              "  </style>\n",
              "\n",
              "      <script>\n",
              "        const buttonEl =\n",
              "          document.querySelector('#df-d7f647fe-3504-4e3e-93e4-d02fc6aaf1c0 button.colab-df-convert');\n",
              "        buttonEl.style.display =\n",
              "          google.colab.kernel.accessAllowed ? 'block' : 'none';\n",
              "\n",
              "        async function convertToInteractive(key) {\n",
              "          const element = document.querySelector('#df-d7f647fe-3504-4e3e-93e4-d02fc6aaf1c0');\n",
              "          const dataTable =\n",
              "            await google.colab.kernel.invokeFunction('convertToInteractive',\n",
              "                                                     [key], {});\n",
              "          if (!dataTable) return;\n",
              "\n",
              "          const docLinkHtml = 'Like what you see? Visit the ' +\n",
              "            '<a target=\"_blank\" href=https://colab.research.google.com/notebooks/data_table.ipynb>data table notebook</a>'\n",
              "            + ' to learn more about interactive tables.';\n",
              "          element.innerHTML = '';\n",
              "          dataTable['output_type'] = 'display_data';\n",
              "          await google.colab.output.renderOutput(dataTable, element);\n",
              "          const docLink = document.createElement('div');\n",
              "          docLink.innerHTML = docLinkHtml;\n",
              "          element.appendChild(docLink);\n",
              "        }\n",
              "      </script>\n",
              "    </div>\n",
              "  </div>\n",
              "  "
            ],
            "text/plain": [
              "                         price day ahead Model  predictions  difference  \\\n",
              "Date                                                                      \n",
              "2018-12-26 23:59:59.983              39.219525    35.413279    3.806245   \n",
              "2018-12-27 00:59:59.983              36.613695    35.413279    1.200416   \n",
              "2018-12-27 01:59:59.983              36.613695    34.610075    2.003620   \n",
              "2018-12-27 02:59:59.983              36.613695    34.610075    2.003620   \n",
              "2018-12-27 03:59:59.983              39.219525    34.610075    4.609450   \n",
              "...                                        ...          ...         ...   \n",
              "2020-12-31 18:59:59.980              56.545811    34.683887   21.861923   \n",
              "2020-12-31 19:59:59.980              50.781170    34.513637   16.267534   \n",
              "2020-12-31 20:59:59.980              50.781170    34.161386   16.619784   \n",
              "2020-12-31 21:59:59.980              50.781170    34.161386   16.619784   \n",
              "2020-12-31 22:59:59.980              48.019167    34.161386   13.857781   \n",
              "\n",
              "                           % error  \n",
              "Date                                \n",
              "2018-12-26 23:59:59.983   9.704976  \n",
              "2018-12-27 00:59:59.983   3.278598  \n",
              "2018-12-27 01:59:59.983   5.472325  \n",
              "2018-12-27 02:59:59.983   5.472325  \n",
              "2018-12-27 03:59:59.983  11.752947  \n",
              "...                            ...  \n",
              "2020-12-31 18:59:59.980  38.662322  \n",
              "2020-12-31 19:59:59.980  32.034578  \n",
              "2020-12-31 20:59:59.980  32.728242  \n",
              "2020-12-31 21:59:59.980  32.728242  \n",
              "2020-12-31 22:59:59.980  28.858853  \n",
              "\n",
              "[17664 rows x 4 columns]"
            ]
          },
          "execution_count": 17,
          "metadata": {},
          "output_type": "execute_result"
        }
      ],
      "source": [
        "y_test"
      ]
    },
    {
      "cell_type": "code",
      "execution_count": null,
      "metadata": {
        "colab": {
          "base_uri": "https://localhost:8080/"
        },
        "id": "a08tUAbqQ75N",
        "outputId": "5d218f9e-7e99-43c8-ea76-58f22cf84191"
      },
      "outputs": [
        {
          "data": {
            "text/plain": [
              "23.349760152590097"
            ]
          },
          "execution_count": 18,
          "metadata": {},
          "output_type": "execute_result"
        }
      ],
      "source": [
        "np.mean(y_test['% error'])"
      ]
    },
    {
      "cell_type": "code",
      "execution_count": null,
      "metadata": {
        "id": "aEebIT4BRGGJ"
      },
      "outputs": [],
      "source": [
        "y_test.drop(y_test.loc[y_test['% error'] > 2000].index, inplace = True)"
      ]
    },
    {
      "cell_type": "code",
      "execution_count": null,
      "metadata": {
        "colab": {
          "base_uri": "https://localhost:8080/"
        },
        "id": "B5u09oqiRKPL",
        "outputId": "a216ebb0-d356-4598-de9e-0cf217e012b9"
      },
      "outputs": [
        {
          "data": {
            "text/plain": [
              "1016.0430352406307"
            ]
          },
          "execution_count": 20,
          "metadata": {},
          "output_type": "execute_result"
        }
      ],
      "source": [
        "np.mean(np.abs(y_test['price day ahead Model'] - y_test['predictions']) * 100)"
      ]
    },
    {
      "cell_type": "code",
      "execution_count": null,
      "metadata": {
        "id": "zNedPCrwsAOG"
      },
      "outputs": [],
      "source": [
        "#save prediction results\n",
        "y_test.to_excel(\"Random_forest_results.xlsx\", header=True)"
      ]
    },
    {
      "cell_type": "code",
      "execution_count": null,
      "metadata": {
        "colab": {
          "base_uri": "https://localhost:8080/",
          "height": 282
        },
        "id": "y6K1n6pZROJd",
        "outputId": "2dfde0fd-a905-4a72-afdf-bda5be5582bb"
      },
      "outputs": [
        {
          "data": {
            "text/plain": [
              "<matplotlib.axes._subplots.AxesSubplot at 0x7ff6e6be4350>"
            ]
          },
          "execution_count": 22,
          "metadata": {},
          "output_type": "execute_result"
        },
        {
          "data": {
            "image/png": "[encoded data removed]",
            "text/plain": [
              "<Figure size 432x288 with 1 Axes>"
            ]
          },
          "metadata": {},
          "output_type": "display_data"
        }
      ],
      "source": [
        "feat_importances = pd.Series(rf.feature_importances_, index=df_lagged.columns)\n",
        "feat_importances.nlargest(10).plot(kind='barh')"
      ]
    },
    {
      "cell_type": "code",
      "execution_count": null,
      "metadata": {
        "id": "N-TpMbZwRa09"
      },
      "outputs": [],
      "source": [
        "from sklearn.model_selection import GridSearchCV\n",
        "# Number of trees in random forest\n",
        "# n_estimators = [int(x) for x in np.linspace(start = 200, stop = 2000, num = 10)]\n",
        "# Number of features to consider at every split\n",
        "# max_features = ['auto', 'sqrt']\n",
        "# Maximum number of levels in tree\n",
        "# max_depth = [int(x) for x in np.linspace(10, 110, num = 11)]\n",
        "# max_depth.append(None)\n",
        "# Minimum number of samples required to split a node\n",
        "# min_samples_split = [2, 5, 10]\n",
        "# Minimum number of samples required at each leaf node\n",
        "# min_samples_leaf = [1, 2, 4]\n",
        "# Method of selecting samples for training each tree\n",
        "# bootstrap = [True, False]\n",
        "# Create the random grid\n",
        "gridsearch = {'bootstrap': [True],\n",
        "     'max_depth': [10, 250],\n",
        "     'min_samples_leaf': [2, 5],\n",
        "     'n_estimators': [100, 200]}\n",
        "# print(gridsearch)\n",
        "# {'bootstrap': [True],\n",
        "#  'max_depth': [10, 50, 250,1000],\n",
        "#  'max_features': [2, 'sqrt'],\n",
        "#  'min_samples_leaf': [1, 4],\n",
        "#  'min_samples_split': [2, 5, 10],\n",
        "#  'n_estimators': [200, 1000, 2000]}"
      ]
    },
    {
      "cell_type": "code",
      "execution_count": null,
      "metadata": {
        "id": "rdIEoAdJSK_G"
      },
      "outputs": [],
      "source": [
        "rf = RandomForestRegressor()\n",
        "# Random search of parameters, using 3 fold cross validation, \n",
        "# search across 100 different combinations, and use all available cores\n",
        "rf_GridSearch = GridSearchCV(\n",
        " estimator = rf, \n",
        " param_grid = gridsearch, \n",
        " cv = 2,\n",
        " verbose=2, \n",
        " n_jobs = 1)"
      ]
    },
    {
      "cell_type": "code",
      "execution_count": null,
      "metadata": {
        "colab": {
          "base_uri": "https://localhost:8080/"
        },
        "id": "LXDBxZvVSRCg",
        "outputId": "74aa6fc6-3dc4-4017-b93d-6d0bee49e323"
      },
      "outputs": [
        {
          "name": "stdout",
          "output_type": "stream",
          "text": [
            "Fitting 2 folds for each of 8 candidates, totalling 16 fits\n",
            "[CV] END bootstrap=True, max_depth=10, min_samples_leaf=2, n_estimators=100; total time= 9.9min\n",
            "[CV] END bootstrap=True, max_depth=10, min_samples_leaf=2, n_estimators=100; total time= 9.5min\n",
            "[CV] END bootstrap=True, max_depth=10, min_samples_leaf=2, n_estimators=200; total time=19.7min\n",
            "[CV] END bootstrap=True, max_depth=10, min_samples_leaf=2, n_estimators=200; total time=19.1min\n",
            "[CV] END bootstrap=True, max_depth=10, min_samples_leaf=5, n_estimators=100; total time= 9.7min\n",
            "[CV] END bootstrap=True, max_depth=10, min_samples_leaf=5, n_estimators=100; total time= 9.4min\n",
            "[CV] END bootstrap=True, max_depth=10, min_samples_leaf=5, n_estimators=200; total time=19.5min\n",
            "[CV] END bootstrap=True, max_depth=10, min_samples_leaf=5, n_estimators=200; total time=18.8min\n",
            "[CV] END bootstrap=True, max_depth=250, min_samples_leaf=2, n_estimators=100; total time=15.6min\n",
            "[CV] END bootstrap=True, max_depth=250, min_samples_leaf=2, n_estimators=100; total time=13.9min\n",
            "[CV] END bootstrap=True, max_depth=250, min_samples_leaf=2, n_estimators=200; total time=31.0min\n",
            "[CV] END bootstrap=True, max_depth=250, min_samples_leaf=2, n_estimators=200; total time=28.0min\n",
            "[CV] END bootstrap=True, max_depth=250, min_samples_leaf=5, n_estimators=100; total time=13.8min\n",
            "[CV] END bootstrap=True, max_depth=250, min_samples_leaf=5, n_estimators=100; total time=12.4min\n",
            "[CV] END bootstrap=True, max_depth=250, min_samples_leaf=5, n_estimators=200; total time=27.5min\n",
            "[CV] END bootstrap=True, max_depth=250, min_samples_leaf=5, n_estimators=200; total time=24.8min\n"
          ]
        },
        {
          "data": {
            "text/plain": [
              "GridSearchCV(cv=2, estimator=RandomForestRegressor(), n_jobs=1,\n",
              "             param_grid={'bootstrap': [True], 'max_depth': [10, 250],\n",
              "                         'min_samples_leaf': [2, 5],\n",
              "                         'n_estimators': [100, 200]},\n",
              "             verbose=2)"
            ]
          },
          "execution_count": 26,
          "metadata": {},
          "output_type": "execute_result"
        }
      ],
      "source": [
        "rf_GridSearch.fit(x_train, y_train)"
      ]
    },
    {
      "cell_type": "code",
      "execution_count": null,
      "metadata": {
        "colab": {
          "base_uri": "https://localhost:8080/"
        },
        "id": "M24wX33tSbQ7",
        "outputId": "33941a2b-b903-4656-b985-c654f8624473"
      },
      "outputs": [
        {
          "name": "stdout",
          "output_type": "stream",
          "text": [
            "0.5525190912228477\n",
            "{'bootstrap': True, 'max_depth': 250, 'min_samples_leaf': 5, 'n_estimators': 200}\n"
          ]
        }
      ],
      "source": [
        "print(rf_GridSearch.best_score_)\n",
        "print(rf_GridSearch.best_params_)"
      ]
    },
    {
      "cell_type": "code",
      "execution_count": null,
      "metadata": {
        "colab": {
          "base_uri": "https://localhost:8080/"
        },
        "id": "JOUgPISPScti",
        "outputId": "2fd2ba33-1ec2-4c9c-a0d1-057a4ca5836e"
      },
      "outputs": [
        {
          "name": "stderr",
          "output_type": "stream",
          "text": [
            "/usr/local/lib/python3.7/dist-packages/sklearn/ensemble/_forest.py:407: FutureWarning: Criterion 'mae' was deprecated in v1.0 and will be removed in version 1.2. Use `criterion='absolute_error'` which is equivalent.\n",
            "  FutureWarning,\n"
          ]
        }
      ],
      "source": [
        "rf = RandomForestRegressor(n_estimators=250, max_features=5,\n",
        "    criterion='mae',\n",
        "    max_depth=15)\n",
        "\n",
        "    \n",
        "rf.fit(x_train, y_train)"
      ]
    },
    {
      "cell_type": "code",
      "execution_count": null,
      "metadata": {
        "id": "IAaLKNptSgiw"
      },
      "outputs": [],
      "source": [
        "prediciton = rf.predict(x_test)"
      ]
    },
    {
      "cell_type": "code",
      "execution_count": null,
      "metadata": {
        "id": "O22rGRKeSlDN"
      },
      "outputs": [],
      "source": [
        "prediciton = pd.DataFrame(prediciton)\n",
        "\n",
        "prediciton.to_csv('randomforestprediction.csv')"
      ]
    },
    {
      "cell_type": "code",
      "execution_count": null,
      "metadata": {
        "id": "aGMsbN3JCiXG"
      },
      "outputs": [],
      "source": [
        "prediciton.to_excel(\"Random_forest_GridSearch_results.xlsx\", header=True)"
      ]
    },
    {
      "cell_type": "code",
      "execution_count": null,
      "metadata": {
        "colab": {
          "base_uri": "https://localhost:8080/"
        },
        "id": "_vN5PfCYSnrB",
        "outputId": "b0e1907b-61f2-4663-ff17-17c77f003fb4"
      },
      "outputs": [
        {
          "data": {
            "text/plain": [
              "17472"
            ]
          },
          "execution_count": 37,
          "metadata": {},
          "output_type": "execute_result"
        }
      ],
      "source": [
        "len(prediciton)"
      ]
    },
    {
      "cell_type": "code",
      "execution_count": null,
      "metadata": {
        "colab": {
          "base_uri": "https://localhost:8080/"
        },
        "id": "W3yFInBPSrNL",
        "outputId": "6cb37d02-a890-4f29-de72-f5954fbc4a1f"
      },
      "outputs": [
        {
          "data": {
            "text/plain": [
              "17472"
            ]
          },
          "execution_count": 38,
          "metadata": {},
          "output_type": "execute_result"
        }
      ],
      "source": [
        "len(x_test)"
      ]
    },
    {
      "cell_type": "code",
      "execution_count": null,
      "metadata": {
        "colab": {
          "base_uri": "https://localhost:8080/"
        },
        "id": "1WP8_u_yStwB",
        "outputId": "cd02e5d9-c410-497d-b774-b30402897819"
      },
      "outputs": [
        {
          "data": {
            "text/plain": [
              " Prices_24                   0\n",
              " Generation forecast_24      0\n",
              " System load forecast_24     0\n",
              " Prices_25                   0\n",
              " Generation forecast_25      0\n",
              "                            ..\n",
              " Generation forecast_167     0\n",
              " System load forecast_167    0\n",
              " Prices_168                  0\n",
              " Generation forecast_168     0\n",
              " System load forecast_168    0\n",
              "Length: 435, dtype: int64"
            ]
          },
          "execution_count": 39,
          "metadata": {},
          "output_type": "execute_result"
        }
      ],
      "source": [
        "x_test.isna().sum()"
      ]
    },
    {
      "cell_type": "code",
      "execution_count": null,
      "metadata": {
        "colab": {
          "base_uri": "https://localhost:8080/",
          "height": 450
        },
        "id": "JX7PedyFFC4J",
        "outputId": "e663d588-7c9b-4252-d725-407579bcc3fd"
      },
      "outputs": [
        {
          "data": {
            "text/html": [
              "\n",
              "  <div id=\"df-d1920800-3627-4d67-b2a0-a189028d9f1e\">\n",
              "    <div class=\"colab-df-container\">\n",
              "      <div>\n",
              "<style scoped>\n",
              "    .dataframe tbody tr th:only-of-type {\n",
              "        vertical-align: middle;\n",
              "    }\n",
              "\n",
              "    .dataframe tbody tr th {\n",
              "        vertical-align: top;\n",
              "    }\n",
              "\n",
              "    .dataframe thead th {\n",
              "        text-align: right;\n",
              "    }\n",
              "</style>\n",
              "<table border=\"1\" class=\"dataframe\">\n",
              "  <thead>\n",
              "    <tr style=\"text-align: right;\">\n",
              "      <th></th>\n",
              "      <th>Prices</th>\n",
              "      <th>predictions</th>\n",
              "      <th>difference</th>\n",
              "      <th>% error</th>\n",
              "    </tr>\n",
              "    <tr>\n",
              "      <th>Date</th>\n",
              "      <th></th>\n",
              "      <th></th>\n",
              "      <th></th>\n",
              "      <th></th>\n",
              "    </tr>\n",
              "  </thead>\n",
              "  <tbody>\n",
              "    <tr>\n",
              "      <th>2015-01-04 00:00:00</th>\n",
              "      <td>36.26</td>\n",
              "      <td>50.051</td>\n",
              "      <td>13.791</td>\n",
              "      <td>38.033646</td>\n",
              "    </tr>\n",
              "    <tr>\n",
              "      <th>2015-01-04 01:00:00</th>\n",
              "      <td>32.28</td>\n",
              "      <td>50.051</td>\n",
              "      <td>17.771</td>\n",
              "      <td>55.052664</td>\n",
              "    </tr>\n",
              "    <tr>\n",
              "      <th>2015-01-04 02:00:00</th>\n",
              "      <td>27.63</td>\n",
              "      <td>50.051</td>\n",
              "      <td>22.421</td>\n",
              "      <td>81.147304</td>\n",
              "    </tr>\n",
              "    <tr>\n",
              "      <th>2015-01-04 03:00:00</th>\n",
              "      <td>27.03</td>\n",
              "      <td>50.972</td>\n",
              "      <td>23.942</td>\n",
              "      <td>88.575657</td>\n",
              "    </tr>\n",
              "    <tr>\n",
              "      <th>2015-01-04 04:00:00</th>\n",
              "      <td>27.04</td>\n",
              "      <td>50.972</td>\n",
              "      <td>23.932</td>\n",
              "      <td>88.505917</td>\n",
              "    </tr>\n",
              "    <tr>\n",
              "      <th>...</th>\n",
              "      <td>...</td>\n",
              "      <td>...</td>\n",
              "      <td>...</td>\n",
              "      <td>...</td>\n",
              "    </tr>\n",
              "    <tr>\n",
              "      <th>2016-12-31 19:00:00</th>\n",
              "      <td>40.84</td>\n",
              "      <td>50.468</td>\n",
              "      <td>9.628</td>\n",
              "      <td>23.574927</td>\n",
              "    </tr>\n",
              "    <tr>\n",
              "      <th>2016-12-31 20:00:00</th>\n",
              "      <td>40.10</td>\n",
              "      <td>50.468</td>\n",
              "      <td>10.368</td>\n",
              "      <td>25.855362</td>\n",
              "    </tr>\n",
              "    <tr>\n",
              "      <th>2016-12-31 21:00:00</th>\n",
              "      <td>36.00</td>\n",
              "      <td>49.547</td>\n",
              "      <td>13.547</td>\n",
              "      <td>37.630556</td>\n",
              "    </tr>\n",
              "    <tr>\n",
              "      <th>2016-12-31 22:00:00</th>\n",
              "      <td>35.00</td>\n",
              "      <td>49.383</td>\n",
              "      <td>14.383</td>\n",
              "      <td>41.094286</td>\n",
              "    </tr>\n",
              "    <tr>\n",
              "      <th>2016-12-31 23:00:00</th>\n",
              "      <td>34.94</td>\n",
              "      <td>50.568</td>\n",
              "      <td>15.628</td>\n",
              "      <td>44.728105</td>\n",
              "    </tr>\n",
              "  </tbody>\n",
              "</table>\n",
              "<p>17465 rows × 4 columns</p>\n",
              "</div>\n",
              "      <button class=\"colab-df-convert\" onclick=\"convertToInteractive('df-d1920800-3627-4d67-b2a0-a189028d9f1e')\"\n",
              "              title=\"Convert this dataframe to an interactive table.\"\n",
              "              style=\"display:none;\">\n",
              "        \n",
              "  <svg xmlns=\"http://www.w3.org/2000/svg\" height=\"24px\"viewBox=\"0 0 24 24\"\n",
              "       width=\"24px\">\n",
              "    <path d=\"M0 0h24v24H0V0z\" fill=\"none\"/>\n",
              "    <path d=\"M18.56 5.44l.94 2.06.94-2.06 2.06-.94-2.06-.94-.94-2.06-.94 2.06-2.06.94zm-11 1L8.5 8.5l.94-2.06 2.06-.94-2.06-.94L8.5 2.5l-.94 2.06-2.06.94zm10 10l.94 2.06.94-2.06 2.06-.94-2.06-.94-.94-2.06-.94 2.06-2.06.94z\"/><path d=\"M17.41 7.96l-1.37-1.37c-.4-.4-.92-.59-1.43-.59-.52 0-1.04.2-1.43.59L10.3 9.45l-7.72 7.72c-.78.78-.78 2.05 0 2.83L4 21.41c.39.39.9.59 1.41.59.51 0 1.02-.2 1.41-.59l7.78-7.78 2.81-2.81c.8-.78.8-2.07 0-2.86zM5.41 20L4 18.59l7.72-7.72 1.47 1.35L5.41 20z\"/>\n",
              "  </svg>\n",
              "      </button>\n",
              "      \n",
              "  <style>\n",
              "    .colab-df-container {\n",
              "      display:flex;\n",
              "      flex-wrap:wrap;\n",
              "      gap: 12px;\n",
              "    }\n",
              "\n",
              "    .colab-df-convert {\n",
              "      background-color: #E8F0FE;\n",
              "      border: none;\n",
              "      border-radius: 50%;\n",
              "      cursor: pointer;\n",
              "      display: none;\n",
              "      fill: #1967D2;\n",
              "      height: 32px;\n",
              "      padding: 0 0 0 0;\n",
              "      width: 32px;\n",
              "    }\n",
              "\n",
              "    .colab-df-convert:hover {\n",
              "      background-color: #E2EBFA;\n",
              "      box-shadow: 0px 1px 2px rgba(60, 64, 67, 0.3), 0px 1px 3px 1px rgba(60, 64, 67, 0.15);\n",
              "      fill: #174EA6;\n",
              "    }\n",
              "\n",
              "    [theme=dark] .colab-df-convert {\n",
              "      background-color: #3B4455;\n",
              "      fill: #D2E3FC;\n",
              "    }\n",
              "\n",
              "    [theme=dark] .colab-df-convert:hover {\n",
              "      background-color: #434B5C;\n",
              "      box-shadow: 0px 1px 3px 1px rgba(0, 0, 0, 0.15);\n",
              "      filter: drop-shadow(0px 1px 2px rgba(0, 0, 0, 0.3));\n",
              "      fill: #FFFFFF;\n",
              "    }\n",
              "  </style>\n",
              "\n",
              "      <script>\n",
              "        const buttonEl =\n",
              "          document.querySelector('#df-d1920800-3627-4d67-b2a0-a189028d9f1e button.colab-df-convert');\n",
              "        buttonEl.style.display =\n",
              "          google.colab.kernel.accessAllowed ? 'block' : 'none';\n",
              "\n",
              "        async function convertToInteractive(key) {\n",
              "          const element = document.querySelector('#df-d1920800-3627-4d67-b2a0-a189028d9f1e');\n",
              "          const dataTable =\n",
              "            await google.colab.kernel.invokeFunction('convertToInteractive',\n",
              "                                                     [key], {});\n",
              "          if (!dataTable) return;\n",
              "\n",
              "          const docLinkHtml = 'Like what you see? Visit the ' +\n",
              "            '<a target=\"_blank\" href=https://colab.research.google.com/notebooks/data_table.ipynb>data table notebook</a>'\n",
              "            + ' to learn more about interactive tables.';\n",
              "          element.innerHTML = '';\n",
              "          dataTable['output_type'] = 'display_data';\n",
              "          await google.colab.output.renderOutput(dataTable, element);\n",
              "          const docLink = document.createElement('div');\n",
              "          docLink.innerHTML = docLinkHtml;\n",
              "          element.appendChild(docLink);\n",
              "        }\n",
              "      </script>\n",
              "    </div>\n",
              "  </div>\n",
              "  "
            ],
            "text/plain": [
              "                      Prices  predictions  difference    % error\n",
              "Date                                                            \n",
              "2015-01-04 00:00:00    36.26       50.051      13.791  38.033646\n",
              "2015-01-04 01:00:00    32.28       50.051      17.771  55.052664\n",
              "2015-01-04 02:00:00    27.63       50.051      22.421  81.147304\n",
              "2015-01-04 03:00:00    27.03       50.972      23.942  88.575657\n",
              "2015-01-04 04:00:00    27.04       50.972      23.932  88.505917\n",
              "...                      ...          ...         ...        ...\n",
              "2016-12-31 19:00:00    40.84       50.468       9.628  23.574927\n",
              "2016-12-31 20:00:00    40.10       50.468      10.368  25.855362\n",
              "2016-12-31 21:00:00    36.00       49.547      13.547  37.630556\n",
              "2016-12-31 22:00:00    35.00       49.383      14.383  41.094286\n",
              "2016-12-31 23:00:00    34.94       50.568      15.628  44.728105\n",
              "\n",
              "[17465 rows x 4 columns]"
            ]
          },
          "execution_count": 40,
          "metadata": {},
          "output_type": "execute_result"
        }
      ],
      "source": [
        "y_test"
      ]
    },
    {
      "cell_type": "code",
      "execution_count": null,
      "metadata": {
        "id": "JWkyYptSSv7E"
      },
      "outputs": [],
      "source": [
        "prediciton = y_test.iloc[:,:2]"
      ]
    },
    {
      "cell_type": "code",
      "execution_count": null,
      "metadata": {
        "colab": {
          "base_uri": "https://localhost:8080/",
          "height": 450
        },
        "id": "Xl0vYdNsS0jx",
        "outputId": "d03ce0ed-c288-4430-c2f9-fc89db499bbc"
      },
      "outputs": [
        {
          "data": {
            "text/html": [
              "\n",
              "  <div id=\"df-35ca75fa-ca7b-499e-94ea-c54f3d5ac39c\">\n",
              "    <div class=\"colab-df-container\">\n",
              "      <div>\n",
              "<style scoped>\n",
              "    .dataframe tbody tr th:only-of-type {\n",
              "        vertical-align: middle;\n",
              "    }\n",
              "\n",
              "    .dataframe tbody tr th {\n",
              "        vertical-align: top;\n",
              "    }\n",
              "\n",
              "    .dataframe thead th {\n",
              "        text-align: right;\n",
              "    }\n",
              "</style>\n",
              "<table border=\"1\" class=\"dataframe\">\n",
              "  <thead>\n",
              "    <tr style=\"text-align: right;\">\n",
              "      <th></th>\n",
              "      <th>Prices</th>\n",
              "      <th>predictions</th>\n",
              "    </tr>\n",
              "    <tr>\n",
              "      <th>Date</th>\n",
              "      <th></th>\n",
              "      <th></th>\n",
              "    </tr>\n",
              "  </thead>\n",
              "  <tbody>\n",
              "    <tr>\n",
              "      <th>2015-01-04 00:00:00</th>\n",
              "      <td>36.26</td>\n",
              "      <td>50.051</td>\n",
              "    </tr>\n",
              "    <tr>\n",
              "      <th>2015-01-04 01:00:00</th>\n",
              "      <td>32.28</td>\n",
              "      <td>50.051</td>\n",
              "    </tr>\n",
              "    <tr>\n",
              "      <th>2015-01-04 02:00:00</th>\n",
              "      <td>27.63</td>\n",
              "      <td>50.051</td>\n",
              "    </tr>\n",
              "    <tr>\n",
              "      <th>2015-01-04 03:00:00</th>\n",
              "      <td>27.03</td>\n",
              "      <td>50.972</td>\n",
              "    </tr>\n",
              "    <tr>\n",
              "      <th>2015-01-04 04:00:00</th>\n",
              "      <td>27.04</td>\n",
              "      <td>50.972</td>\n",
              "    </tr>\n",
              "    <tr>\n",
              "      <th>...</th>\n",
              "      <td>...</td>\n",
              "      <td>...</td>\n",
              "    </tr>\n",
              "    <tr>\n",
              "      <th>2016-12-31 19:00:00</th>\n",
              "      <td>40.84</td>\n",
              "      <td>50.468</td>\n",
              "    </tr>\n",
              "    <tr>\n",
              "      <th>2016-12-31 20:00:00</th>\n",
              "      <td>40.10</td>\n",
              "      <td>50.468</td>\n",
              "    </tr>\n",
              "    <tr>\n",
              "      <th>2016-12-31 21:00:00</th>\n",
              "      <td>36.00</td>\n",
              "      <td>49.547</td>\n",
              "    </tr>\n",
              "    <tr>\n",
              "      <th>2016-12-31 22:00:00</th>\n",
              "      <td>35.00</td>\n",
              "      <td>49.383</td>\n",
              "    </tr>\n",
              "    <tr>\n",
              "      <th>2016-12-31 23:00:00</th>\n",
              "      <td>34.94</td>\n",
              "      <td>50.568</td>\n",
              "    </tr>\n",
              "  </tbody>\n",
              "</table>\n",
              "<p>17465 rows × 2 columns</p>\n",
              "</div>\n",
              "      <button class=\"colab-df-convert\" onclick=\"convertToInteractive('df-35ca75fa-ca7b-499e-94ea-c54f3d5ac39c')\"\n",
              "              title=\"Convert this dataframe to an interactive table.\"\n",
              "              style=\"display:none;\">\n",
              "        \n",
              "  <svg xmlns=\"http://www.w3.org/2000/svg\" height=\"24px\"viewBox=\"0 0 24 24\"\n",
              "       width=\"24px\">\n",
              "    <path d=\"M0 0h24v24H0V0z\" fill=\"none\"/>\n",
              "    <path d=\"M18.56 5.44l.94 2.06.94-2.06 2.06-.94-2.06-.94-.94-2.06-.94 2.06-2.06.94zm-11 1L8.5 8.5l.94-2.06 2.06-.94-2.06-.94L8.5 2.5l-.94 2.06-2.06.94zm10 10l.94 2.06.94-2.06 2.06-.94-2.06-.94-.94-2.06-.94 2.06-2.06.94z\"/><path d=\"M17.41 7.96l-1.37-1.37c-.4-.4-.92-.59-1.43-.59-.52 0-1.04.2-1.43.59L10.3 9.45l-7.72 7.72c-.78.78-.78 2.05 0 2.83L4 21.41c.39.39.9.59 1.41.59.51 0 1.02-.2 1.41-.59l7.78-7.78 2.81-2.81c.8-.78.8-2.07 0-2.86zM5.41 20L4 18.59l7.72-7.72 1.47 1.35L5.41 20z\"/>\n",
              "  </svg>\n",
              "      </button>\n",
              "      \n",
              "  <style>\n",
              "    .colab-df-container {\n",
              "      display:flex;\n",
              "      flex-wrap:wrap;\n",
              "      gap: 12px;\n",
              "    }\n",
              "\n",
              "    .colab-df-convert {\n",
              "      background-color: #E8F0FE;\n",
              "      border: none;\n",
              "      border-radius: 50%;\n",
              "      cursor: pointer;\n",
              "      display: none;\n",
              "      fill: #1967D2;\n",
              "      height: 32px;\n",
              "      padding: 0 0 0 0;\n",
              "      width: 32px;\n",
              "    }\n",
              "\n",
              "    .colab-df-convert:hover {\n",
              "      background-color: #E2EBFA;\n",
              "      box-shadow: 0px 1px 2px rgba(60, 64, 67, 0.3), 0px 1px 3px 1px rgba(60, 64, 67, 0.15);\n",
              "      fill: #174EA6;\n",
              "    }\n",
              "\n",
              "    [theme=dark] .colab-df-convert {\n",
              "      background-color: #3B4455;\n",
              "      fill: #D2E3FC;\n",
              "    }\n",
              "\n",
              "    [theme=dark] .colab-df-convert:hover {\n",
              "      background-color: #434B5C;\n",
              "      box-shadow: 0px 1px 3px 1px rgba(0, 0, 0, 0.15);\n",
              "      filter: drop-shadow(0px 1px 2px rgba(0, 0, 0, 0.3));\n",
              "      fill: #FFFFFF;\n",
              "    }\n",
              "  </style>\n",
              "\n",
              "      <script>\n",
              "        const buttonEl =\n",
              "          document.querySelector('#df-35ca75fa-ca7b-499e-94ea-c54f3d5ac39c button.colab-df-convert');\n",
              "        buttonEl.style.display =\n",
              "          google.colab.kernel.accessAllowed ? 'block' : 'none';\n",
              "\n",
              "        async function convertToInteractive(key) {\n",
              "          const element = document.querySelector('#df-35ca75fa-ca7b-499e-94ea-c54f3d5ac39c');\n",
              "          const dataTable =\n",
              "            await google.colab.kernel.invokeFunction('convertToInteractive',\n",
              "                                                     [key], {});\n",
              "          if (!dataTable) return;\n",
              "\n",
              "          const docLinkHtml = 'Like what you see? Visit the ' +\n",
              "            '<a target=\"_blank\" href=https://colab.research.google.com/notebooks/data_table.ipynb>data table notebook</a>'\n",
              "            + ' to learn more about interactive tables.';\n",
              "          element.innerHTML = '';\n",
              "          dataTable['output_type'] = 'display_data';\n",
              "          await google.colab.output.renderOutput(dataTable, element);\n",
              "          const docLink = document.createElement('div');\n",
              "          docLink.innerHTML = docLinkHtml;\n",
              "          element.appendChild(docLink);\n",
              "        }\n",
              "      </script>\n",
              "    </div>\n",
              "  </div>\n",
              "  "
            ],
            "text/plain": [
              "                      Prices  predictions\n",
              "Date                                     \n",
              "2015-01-04 00:00:00    36.26       50.051\n",
              "2015-01-04 01:00:00    32.28       50.051\n",
              "2015-01-04 02:00:00    27.63       50.051\n",
              "2015-01-04 03:00:00    27.03       50.972\n",
              "2015-01-04 04:00:00    27.04       50.972\n",
              "...                      ...          ...\n",
              "2016-12-31 19:00:00    40.84       50.468\n",
              "2016-12-31 20:00:00    40.10       50.468\n",
              "2016-12-31 21:00:00    36.00       49.547\n",
              "2016-12-31 22:00:00    35.00       49.383\n",
              "2016-12-31 23:00:00    34.94       50.568\n",
              "\n",
              "[17465 rows x 2 columns]"
            ]
          },
          "execution_count": 42,
          "metadata": {},
          "output_type": "execute_result"
        }
      ],
      "source": [
        "prediciton"
      ]
    },
    {
      "cell_type": "code",
      "execution_count": null,
      "metadata": {
        "colab": {
          "base_uri": "https://localhost:8080/"
        },
        "id": "7NCJBZvKS3Nf",
        "outputId": "9c26b5e2-bfd6-4151-b1d2-93c22e988ebd"
      },
      "outputs": [
        {
          "name": "stderr",
          "output_type": "stream",
          "text": [
            "/usr/local/lib/python3.7/dist-packages/pandas/core/frame.py:5047: SettingWithCopyWarning: \n",
            "A value is trying to be set on a copy of a slice from a DataFrame\n",
            "\n",
            "See the caveats in the documentation: https://pandas.pydata.org/pandas-docs/stable/user_guide/indexing.html#returning-a-view-versus-a-copy\n",
            "  errors=errors,\n"
          ]
        }
      ],
      "source": [
        "prediciton.rename(columns = {0:'prediction'}, inplace = True)"
      ]
    },
    {
      "cell_type": "code",
      "execution_count": null,
      "metadata": {
        "colab": {
          "base_uri": "https://localhost:8080/"
        },
        "id": "-ORUx0BgS6XR",
        "outputId": "08be4805-1965-455a-cead-70a5f4a36f2f"
      },
      "outputs": [
        {
          "name": "stderr",
          "output_type": "stream",
          "text": [
            "/usr/local/lib/python3.7/dist-packages/ipykernel_launcher.py:1: SettingWithCopyWarning: \n",
            "A value is trying to be set on a copy of a slice from a DataFrame.\n",
            "Try using .loc[row_indexer,col_indexer] = value instead\n",
            "\n",
            "See the caveats in the documentation: https://pandas.pydata.org/pandas-docs/stable/user_guide/indexing.html#returning-a-view-versus-a-copy\n",
            "  \"\"\"Entry point for launching an IPython kernel.\n"
          ]
        }
      ],
      "source": [
        "prediciton['difference'] = np.abs(prediciton[' Prices'] - prediciton['predictions'])\n",
        "prediciton['% error'] = ((prediciton['difference'] + 0.5) /(prediciton[' Prices'] + 0.5))*100\n",
        "# np.mean(prediciton['% error'])"
      ]
    },
    {
      "cell_type": "code",
      "execution_count": null,
      "metadata": {
        "colab": {
          "base_uri": "https://localhost:8080/"
        },
        "id": "UbyF_SejS9_R",
        "outputId": "d8f4f81f-9346-4efc-d4b8-29a5f0561ef3"
      },
      "outputs": [
        {
          "data": {
            "text/plain": [
              "52.35479330194306"
            ]
          },
          "execution_count": 46,
          "metadata": {},
          "output_type": "execute_result"
        }
      ],
      "source": [
        "prediciton['% error'].mean()"
      ]
    },
    {
      "cell_type": "code",
      "execution_count": null,
      "metadata": {
        "id": "S8M-KAliTADj"
      },
      "outputs": [],
      "source": [
        "from numpy import inf"
      ]
    },
    {
      "cell_type": "code",
      "execution_count": null,
      "metadata": {
        "colab": {
          "base_uri": "https://localhost:8080/",
          "height": 80
        },
        "id": "iUraqwp-TCFD",
        "outputId": "18a3ac6d-83b7-47f2-86bc-44a0b5d0255c"
      },
      "outputs": [
        {
          "data": {
            "text/html": [
              "\n",
              "  <div id=\"df-48ecd1fd-8190-4b71-adf2-3c5c5c3fd5d8\">\n",
              "    <div class=\"colab-df-container\">\n",
              "      <div>\n",
              "<style scoped>\n",
              "    .dataframe tbody tr th:only-of-type {\n",
              "        vertical-align: middle;\n",
              "    }\n",
              "\n",
              "    .dataframe tbody tr th {\n",
              "        vertical-align: top;\n",
              "    }\n",
              "\n",
              "    .dataframe thead th {\n",
              "        text-align: right;\n",
              "    }\n",
              "</style>\n",
              "<table border=\"1\" class=\"dataframe\">\n",
              "  <thead>\n",
              "    <tr style=\"text-align: right;\">\n",
              "      <th></th>\n",
              "      <th>Prices</th>\n",
              "      <th>predictions</th>\n",
              "      <th>difference</th>\n",
              "      <th>% error</th>\n",
              "    </tr>\n",
              "    <tr>\n",
              "      <th>Date</th>\n",
              "      <th></th>\n",
              "      <th></th>\n",
              "      <th></th>\n",
              "      <th></th>\n",
              "    </tr>\n",
              "  </thead>\n",
              "  <tbody>\n",
              "  </tbody>\n",
              "</table>\n",
              "</div>\n",
              "      <button class=\"colab-df-convert\" onclick=\"convertToInteractive('df-48ecd1fd-8190-4b71-adf2-3c5c5c3fd5d8')\"\n",
              "              title=\"Convert this dataframe to an interactive table.\"\n",
              "              style=\"display:none;\">\n",
              "        \n",
              "  <svg xmlns=\"http://www.w3.org/2000/svg\" height=\"24px\"viewBox=\"0 0 24 24\"\n",
              "       width=\"24px\">\n",
              "    <path d=\"M0 0h24v24H0V0z\" fill=\"none\"/>\n",
              "    <path d=\"M18.56 5.44l.94 2.06.94-2.06 2.06-.94-2.06-.94-.94-2.06-.94 2.06-2.06.94zm-11 1L8.5 8.5l.94-2.06 2.06-.94-2.06-.94L8.5 2.5l-.94 2.06-2.06.94zm10 10l.94 2.06.94-2.06 2.06-.94-2.06-.94-.94-2.06-.94 2.06-2.06.94z\"/><path d=\"M17.41 7.96l-1.37-1.37c-.4-.4-.92-.59-1.43-.59-.52 0-1.04.2-1.43.59L10.3 9.45l-7.72 7.72c-.78.78-.78 2.05 0 2.83L4 21.41c.39.39.9.59 1.41.59.51 0 1.02-.2 1.41-.59l7.78-7.78 2.81-2.81c.8-.78.8-2.07 0-2.86zM5.41 20L4 18.59l7.72-7.72 1.47 1.35L5.41 20z\"/>\n",
              "  </svg>\n",
              "      </button>\n",
              "      \n",
              "  <style>\n",
              "    .colab-df-container {\n",
              "      display:flex;\n",
              "      flex-wrap:wrap;\n",
              "      gap: 12px;\n",
              "    }\n",
              "\n",
              "    .colab-df-convert {\n",
              "      background-color: #E8F0FE;\n",
              "      border: none;\n",
              "      border-radius: 50%;\n",
              "      cursor: pointer;\n",
              "      display: none;\n",
              "      fill: #1967D2;\n",
              "      height: 32px;\n",
              "      padding: 0 0 0 0;\n",
              "      width: 32px;\n",
              "    }\n",
              "\n",
              "    .colab-df-convert:hover {\n",
              "      background-color: #E2EBFA;\n",
              "      box-shadow: 0px 1px 2px rgba(60, 64, 67, 0.3), 0px 1px 3px 1px rgba(60, 64, 67, 0.15);\n",
              "      fill: #174EA6;\n",
              "    }\n",
              "\n",
              "    [theme=dark] .colab-df-convert {\n",
              "      background-color: #3B4455;\n",
              "      fill: #D2E3FC;\n",
              "    }\n",
              "\n",
              "    [theme=dark] .colab-df-convert:hover {\n",
              "      background-color: #434B5C;\n",
              "      box-shadow: 0px 1px 3px 1px rgba(0, 0, 0, 0.15);\n",
              "      filter: drop-shadow(0px 1px 2px rgba(0, 0, 0, 0.3));\n",
              "      fill: #FFFFFF;\n",
              "    }\n",
              "  </style>\n",
              "\n",
              "      <script>\n",
              "        const buttonEl =\n",
              "          document.querySelector('#df-48ecd1fd-8190-4b71-adf2-3c5c5c3fd5d8 button.colab-df-convert');\n",
              "        buttonEl.style.display =\n",
              "          google.colab.kernel.accessAllowed ? 'block' : 'none';\n",
              "\n",
              "        async function convertToInteractive(key) {\n",
              "          const element = document.querySelector('#df-48ecd1fd-8190-4b71-adf2-3c5c5c3fd5d8');\n",
              "          const dataTable =\n",
              "            await google.colab.kernel.invokeFunction('convertToInteractive',\n",
              "                                                     [key], {});\n",
              "          if (!dataTable) return;\n",
              "\n",
              "          const docLinkHtml = 'Like what you see? Visit the ' +\n",
              "            '<a target=\"_blank\" href=https://colab.research.google.com/notebooks/data_table.ipynb>data table notebook</a>'\n",
              "            + ' to learn more about interactive tables.';\n",
              "          element.innerHTML = '';\n",
              "          dataTable['output_type'] = 'display_data';\n",
              "          await google.colab.output.renderOutput(dataTable, element);\n",
              "          const docLink = document.createElement('div');\n",
              "          docLink.innerHTML = docLinkHtml;\n",
              "          element.appendChild(docLink);\n",
              "        }\n",
              "      </script>\n",
              "    </div>\n",
              "  </div>\n",
              "  "
            ],
            "text/plain": [
              "Empty DataFrame\n",
              "Columns: [ Prices, predictions, difference, % error]\n",
              "Index: []"
            ]
          },
          "execution_count": 48,
          "metadata": {},
          "output_type": "execute_result"
        }
      ],
      "source": [
        "prediciton.loc[prediciton['% error'] == 36798.27999999999]"
      ]
    },
    {
      "cell_type": "code",
      "execution_count": null,
      "metadata": {
        "colab": {
          "base_uri": "https://localhost:8080/"
        },
        "id": "9OhTkFC6TEaV",
        "outputId": "aeec3e33-ff36-4b57-c35c-454d84bf6ba2"
      },
      "outputs": [
        {
          "data": {
            "text/plain": [
              "55.01910014432107"
            ]
          },
          "execution_count": 50,
          "metadata": {},
          "output_type": "execute_result"
        }
      ],
      "source": [
        "mape = 100 * (prediciton['difference'] / prediciton[' Prices'])\n",
        "accuracy = 100 - np.mean(mape[np.isfinite(mape)])\n",
        "100 - accuracy"
      ]
    },
    {
      "cell_type": "code",
      "execution_count": null,
      "metadata": {
        "id": "9u8lOSt3THHb"
      },
      "outputs": [],
      "source": [
        "prediciton['% error'] = mape"
      ]
    },
    {
      "cell_type": "code",
      "execution_count": null,
      "metadata": {
        "colab": {
          "base_uri": "https://localhost:8080/"
        },
        "id": "Ofc02iY9TJxl",
        "outputId": "c29619b4-c467-4df0-bc58-7be250656710"
      },
      "outputs": [
        {
          "data": {
            "text/plain": [
              "55.01910014432107"
            ]
          },
          "execution_count": 52,
          "metadata": {},
          "output_type": "execute_result"
        }
      ],
      "source": [
        "np.mean(mape[np.isfinite(mape)])"
      ]
    },
    {
      "cell_type": "code",
      "execution_count": null,
      "metadata": {
        "colab": {
          "base_uri": "https://localhost:8080/"
        },
        "id": "rVKYz2tPTMBq",
        "outputId": "6587bbe8-9aed-43ab-dcd6-231414e1ac4f"
      },
      "outputs": [
        {
          "data": {
            "text/plain": [
              "Date\n",
              "2015-01-04 00:00:00    38.033646\n",
              "2015-01-04 01:00:00    55.052664\n",
              "2015-01-04 02:00:00    81.147304\n",
              "2015-01-04 03:00:00    88.575657\n",
              "2015-01-04 04:00:00    88.505917\n",
              "                         ...    \n",
              "2016-12-31 19:00:00    23.574927\n",
              "2016-12-31 20:00:00    25.855362\n",
              "2016-12-31 21:00:00    37.630556\n",
              "2016-12-31 22:00:00    41.094286\n",
              "2016-12-31 23:00:00    44.728105\n",
              "Length: 17465, dtype: float64"
            ]
          },
          "execution_count": 53,
          "metadata": {},
          "output_type": "execute_result"
        }
      ],
      "source": [
        "mape"
      ]
    },
    {
      "cell_type": "code",
      "execution_count": null,
      "metadata": {
        "colab": {
          "base_uri": "https://localhost:8080/"
        },
        "id": "IArsB7dwTPPf",
        "outputId": "51a5e216-92ba-4164-e891-0fe84757264e"
      },
      "outputs": [
        {
          "data": {
            "text/plain": [
              "55.01910014432107"
            ]
          },
          "execution_count": 54,
          "metadata": {},
          "output_type": "execute_result"
        }
      ],
      "source": [
        "mape[np.isfinite(mape)].mean()"
      ]
    },
    {
      "cell_type": "code",
      "execution_count": null,
      "metadata": {
        "colab": {
          "base_uri": "https://localhost:8080/"
        },
        "id": "8HwhOSDLUQ3_",
        "outputId": "ca001880-abdb-47e7-eeed-1ac919aa0bc5"
      },
      "outputs": [
        {
          "name": "stdout",
          "output_type": "stream",
          "text": [
            "                      Prices  predictions  difference    % error\n",
            "Date                                                            \n",
            "2015-01-04 00:00:00    36.26       50.051      13.791  38.033646\n",
            "2015-01-04 01:00:00    32.28       50.051      17.771  55.052664\n",
            "2015-01-04 02:00:00    27.63       50.051      22.421  81.147304\n",
            "2015-01-04 03:00:00    27.03       50.972      23.942  88.575657\n",
            "2015-01-04 04:00:00    27.04       50.972      23.932  88.505917\n",
            "...                      ...          ...         ...        ...\n",
            "2016-12-31 19:00:00    40.84       50.468       9.628  23.574927\n",
            "2016-12-31 20:00:00    40.10       50.468      10.368  25.855362\n",
            "2016-12-31 21:00:00    36.00       49.547      13.547  37.630556\n",
            "2016-12-31 22:00:00    35.00       49.383      14.383  41.094286\n",
            "2016-12-31 23:00:00    34.94       50.568      15.628  44.728105\n",
            "\n",
            "[17465 rows x 4 columns]\n"
          ]
        }
      ],
      "source": [
        "# Save prediction as CSV\n",
        "import pandas as pd\n",
        "from pandas import read_csv\n",
        "import csv\n",
        "y_pred=prediciton\n",
        "y_pred=pd.DataFrame(y_pred)\n",
        "print(y_pred)\n",
        "y_pred.to_csv(\"y_pred.csv\", header=True, quoting=csv.QUOTE_NONE, escapechar=' ')"
      ]
    },
    {
      "cell_type": "markdown",
      "metadata": {
        "id": "_azgfWLzdVl_"
      },
      "source": [
        ""
      ]
    }
  ],
  "metadata": {
    "colab": {
      "collapsed_sections": [],
      "name": "Multivariate Random Forest for bridging_project.ipynb",
      "provenance": [],
      "authorship_tag": "ABX9TyOgzBlo6PP4n1/uXLfyS8rp",
      "include_colab_link": true
    },
    "kernelspec": {
      "display_name": "Python 3",
      "name": "python3"
    },
    "language_info": {
      "name": "python"
    }
  },
  "nbformat": 4,
  "nbformat_minor": 0
}