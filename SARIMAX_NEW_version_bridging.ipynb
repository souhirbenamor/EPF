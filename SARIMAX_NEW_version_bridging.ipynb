{
  "cells": [
    {
      "cell_type": "markdown",
      "metadata": {
        "id": "view-in-github",
        "colab_type": "text"
      },
      "source": [
        "<a href=\"https://colab.research.google.com/github/souhirbenamor/EPF/blob/main/SARIMAX_NEW_version_bridging.ipynb\" target=\"_parent\"><img src=\"https://colab.research.google.com/assets/colab-badge.svg\" alt=\"Open In Colab\"/></a>"
      ]
    },
    {
      "cell_type": "markdown",
      "metadata": {
        "id": "_IbXie4BZWDL"
      },
      "source": [
        "https://medium.datadriveninvestor.com/time-series-prediction-using-sarimax-a6604f258c56"
      ]
    },
    {
      "cell_type": "code",
      "execution_count": null,
      "metadata": {
        "id": "1BO4hBdd8oVr"
      },
      "outputs": [],
      "source": [
        "import pandas as pd\n",
        "import numpy as np\n",
        "import matplotlib.pyplot as plt\n",
        "import seaborn as sns\n",
        "from pandas.plotting import register_matplotlib_converters\n",
        "register_matplotlib_converters()\n",
        "%matplotlib inline"
      ]
    },
    {
      "cell_type": "code",
      "execution_count": null,
      "metadata": {
        "id": "pmxuLHmH8po1"
      },
      "outputs": [],
      "source": [
        "dataset= pd.read_excel('/content/electricty_real&Funda&al_data_selected.xlsx')"
      ]
    },
    {
      "cell_type": "code",
      "execution_count": null,
      "metadata": {
        "colab": {
          "base_uri": "https://localhost:8080/",
          "height": 109
        },
        "id": "O7VswigJ8zcM",
        "outputId": "1199c95e-6cb3-4055-bf2c-4450958d90d8"
      },
      "outputs": [
        {
          "output_type": "execute_result",
          "data": {
            "text/plain": [
              "                     Date  price day ahead real  Estimated price   Demand DE  \\\n",
              "0 2014-12-31 23:59:59.991                 18.29         25.390297   40242.25   \n",
              "1 2015-01-01 00:59:59.991                 16.04         24.980000   39158.50   \n",
              "\n",
              "      Wind   PV   Gas   Coal   CO2  \n",
              "0  8280.00  0.0  21.3  55.17  7.27  \n",
              "1  8412.75  0.0  21.3  55.17  7.27  "
            ],
            "text/html": [
              "\n",
              "  <div id=\"df-c760d6fd-2898-4bef-af27-c2281c98cd91\">\n",
              "    <div class=\"colab-df-container\">\n",
              "      <div>\n",
              "<style scoped>\n",
              "    .dataframe tbody tr th:only-of-type {\n",
              "        vertical-align: middle;\n",
              "    }\n",
              "\n",
              "    .dataframe tbody tr th {\n",
              "        vertical-align: top;\n",
              "    }\n",
              "\n",
              "    .dataframe thead th {\n",
              "        text-align: right;\n",
              "    }\n",
              "</style>\n",
              "<table border=\"1\" class=\"dataframe\">\n",
              "  <thead>\n",
              "    <tr style=\"text-align: right;\">\n",
              "      <th></th>\n",
              "      <th>Date</th>\n",
              "      <th>price day ahead real</th>\n",
              "      <th>Estimated price</th>\n",
              "      <th>Demand DE</th>\n",
              "      <th>Wind</th>\n",
              "      <th>PV</th>\n",
              "      <th>Gas</th>\n",
              "      <th>Coal</th>\n",
              "      <th>CO2</th>\n",
              "    </tr>\n",
              "  </thead>\n",
              "  <tbody>\n",
              "    <tr>\n",
              "      <th>0</th>\n",
              "      <td>2014-12-31 23:59:59.991</td>\n",
              "      <td>18.29</td>\n",
              "      <td>25.390297</td>\n",
              "      <td>40242.25</td>\n",
              "      <td>8280.00</td>\n",
              "      <td>0.0</td>\n",
              "      <td>21.3</td>\n",
              "      <td>55.17</td>\n",
              "      <td>7.27</td>\n",
              "    </tr>\n",
              "    <tr>\n",
              "      <th>1</th>\n",
              "      <td>2015-01-01 00:59:59.991</td>\n",
              "      <td>16.04</td>\n",
              "      <td>24.980000</td>\n",
              "      <td>39158.50</td>\n",
              "      <td>8412.75</td>\n",
              "      <td>0.0</td>\n",
              "      <td>21.3</td>\n",
              "      <td>55.17</td>\n",
              "      <td>7.27</td>\n",
              "    </tr>\n",
              "  </tbody>\n",
              "</table>\n",
              "</div>\n",
              "      <button class=\"colab-df-convert\" onclick=\"convertToInteractive('df-c760d6fd-2898-4bef-af27-c2281c98cd91')\"\n",
              "              title=\"Convert this dataframe to an interactive table.\"\n",
              "              style=\"display:none;\">\n",
              "        \n",
              "  <svg xmlns=\"http://www.w3.org/2000/svg\" height=\"24px\"viewBox=\"0 0 24 24\"\n",
              "       width=\"24px\">\n",
              "    <path d=\"M0 0h24v24H0V0z\" fill=\"none\"/>\n",
              "    <path d=\"M18.56 5.44l.94 2.06.94-2.06 2.06-.94-2.06-.94-.94-2.06-.94 2.06-2.06.94zm-11 1L8.5 8.5l.94-2.06 2.06-.94-2.06-.94L8.5 2.5l-.94 2.06-2.06.94zm10 10l.94 2.06.94-2.06 2.06-.94-2.06-.94-.94-2.06-.94 2.06-2.06.94z\"/><path d=\"M17.41 7.96l-1.37-1.37c-.4-.4-.92-.59-1.43-.59-.52 0-1.04.2-1.43.59L10.3 9.45l-7.72 7.72c-.78.78-.78 2.05 0 2.83L4 21.41c.39.39.9.59 1.41.59.51 0 1.02-.2 1.41-.59l7.78-7.78 2.81-2.81c.8-.78.8-2.07 0-2.86zM5.41 20L4 18.59l7.72-7.72 1.47 1.35L5.41 20z\"/>\n",
              "  </svg>\n",
              "      </button>\n",
              "      \n",
              "  <style>\n",
              "    .colab-df-container {\n",
              "      display:flex;\n",
              "      flex-wrap:wrap;\n",
              "      gap: 12px;\n",
              "    }\n",
              "\n",
              "    .colab-df-convert {\n",
              "      background-color: #E8F0FE;\n",
              "      border: none;\n",
              "      border-radius: 50%;\n",
              "      cursor: pointer;\n",
              "      display: none;\n",
              "      fill: #1967D2;\n",
              "      height: 32px;\n",
              "      padding: 0 0 0 0;\n",
              "      width: 32px;\n",
              "    }\n",
              "\n",
              "    .colab-df-convert:hover {\n",
              "      background-color: #E2EBFA;\n",
              "      box-shadow: 0px 1px 2px rgba(60, 64, 67, 0.3), 0px 1px 3px 1px rgba(60, 64, 67, 0.15);\n",
              "      fill: #174EA6;\n",
              "    }\n",
              "\n",
              "    [theme=dark] .colab-df-convert {\n",
              "      background-color: #3B4455;\n",
              "      fill: #D2E3FC;\n",
              "    }\n",
              "\n",
              "    [theme=dark] .colab-df-convert:hover {\n",
              "      background-color: #434B5C;\n",
              "      box-shadow: 0px 1px 3px 1px rgba(0, 0, 0, 0.15);\n",
              "      filter: drop-shadow(0px 1px 2px rgba(0, 0, 0, 0.3));\n",
              "      fill: #FFFFFF;\n",
              "    }\n",
              "  </style>\n",
              "\n",
              "      <script>\n",
              "        const buttonEl =\n",
              "          document.querySelector('#df-c760d6fd-2898-4bef-af27-c2281c98cd91 button.colab-df-convert');\n",
              "        buttonEl.style.display =\n",
              "          google.colab.kernel.accessAllowed ? 'block' : 'none';\n",
              "\n",
              "        async function convertToInteractive(key) {\n",
              "          const element = document.querySelector('#df-c760d6fd-2898-4bef-af27-c2281c98cd91');\n",
              "          const dataTable =\n",
              "            await google.colab.kernel.invokeFunction('convertToInteractive',\n",
              "                                                     [key], {});\n",
              "          if (!dataTable) return;\n",
              "\n",
              "          const docLinkHtml = 'Like what you see? Visit the ' +\n",
              "            '<a target=\"_blank\" href=https://colab.research.google.com/notebooks/data_table.ipynb>data table notebook</a>'\n",
              "            + ' to learn more about interactive tables.';\n",
              "          element.innerHTML = '';\n",
              "          dataTable['output_type'] = 'display_data';\n",
              "          await google.colab.output.renderOutput(dataTable, element);\n",
              "          const docLink = document.createElement('div');\n",
              "          docLink.innerHTML = docLinkHtml;\n",
              "          element.appendChild(docLink);\n",
              "        }\n",
              "      </script>\n",
              "    </div>\n",
              "  </div>\n",
              "  "
            ]
          },
          "metadata": {},
          "execution_count": 89
        }
      ],
      "source": [
        "dataset.head(2)"
      ]
    },
    {
      "cell_type": "code",
      "execution_count": null,
      "metadata": {
        "colab": {
          "base_uri": "https://localhost:8080/"
        },
        "id": "1FjzRxpC827b",
        "outputId": "41207cef-52ec-4d33-b3aa-d74259634ded"
      },
      "outputs": [
        {
          "output_type": "stream",
          "name": "stdout",
          "text": [
            "<class 'pandas.core.frame.DataFrame'>\n",
            "RangeIndex: 52608 entries, 0 to 52607\n",
            "Data columns (total 9 columns):\n",
            " #   Column                Non-Null Count  Dtype         \n",
            "---  ------                --------------  -----         \n",
            " 0   Date                  52608 non-null  datetime64[ns]\n",
            " 1   price day ahead real  52608 non-null  float64       \n",
            " 2   Estimated price       52608 non-null  float64       \n",
            " 3   Demand DE             52608 non-null  float64       \n",
            " 4   Wind                  52608 non-null  float64       \n",
            " 5   PV                    52608 non-null  float64       \n",
            " 6   Gas                   52608 non-null  float64       \n",
            " 7   Coal                  52608 non-null  float64       \n",
            " 8   CO2                   52608 non-null  float64       \n",
            "dtypes: datetime64[ns](1), float64(8)\n",
            "memory usage: 3.6 MB\n"
          ]
        }
      ],
      "source": [
        "dataset.info()"
      ]
    },
    {
      "cell_type": "code",
      "execution_count": null,
      "metadata": {
        "id": "58hhxq_s9x_V"
      },
      "outputs": [],
      "source": [
        "dataset['Date'] =pd.to_datetime(dataset['Date'])\n",
        "dataset.index= dataset['Date']"
      ]
    },
    {
      "cell_type": "code",
      "execution_count": null,
      "metadata": {
        "id": "6M_vpssE-K8w"
      },
      "outputs": [],
      "source": [
        "from sklearn.preprocessing import MinMaxScaler\n",
        "sc_in = MinMaxScaler(feature_range=(0, 1))\n",
        "scaled_input = sc_in.fit_transform(dataset[['Estimated price ','Demand DE','Wind','PV','Gas','Coal', 'CO2']])\n",
        "scaled_input =pd.DataFrame(scaled_input)\n",
        "X= scaled_input"
      ]
    },
    {
      "cell_type": "code",
      "execution_count": null,
      "metadata": {
        "colab": {
          "base_uri": "https://localhost:8080/",
          "height": 411
        },
        "id": "pe5IymbvAKT-",
        "outputId": "471cacf4-1b19-4a4f-f334-db0dff2fa780"
      },
      "outputs": [
        {
          "output_type": "execute_result",
          "data": {
            "text/plain": [
              "              0         1         2    3         4         5         6\n",
              "0      0.270783  0.227131  0.169799  0.0  0.691411  0.383823  0.113760\n",
              "1      0.268335  0.204832  0.172628  0.0  0.691411  0.383823  0.113760\n",
              "2      0.267243  0.197959  0.174536  0.0  0.691411  0.383823  0.113760\n",
              "3      0.274864  0.200938  0.178079  0.0  0.691411  0.383823  0.113760\n",
              "4      0.240881  0.203479  0.181932  0.0  0.691411  0.383823  0.113760\n",
              "...         ...       ...       ...  ...       ...       ...       ...\n",
              "52603  0.456646  0.417945  0.164971  0.0  0.606685  0.408538  0.976158\n",
              "52604  0.422256  0.381557  0.152247  0.0  0.606685  0.408538  0.976158\n",
              "52605  0.422256  0.381850  0.140439  0.0  0.606685  0.408538  0.976158\n",
              "52606  0.422256  0.350179  0.129622  0.0  0.606685  0.408538  0.976158\n",
              "52607  0.405779  0.294583  0.092077  0.0  0.606685  0.411908  0.976158\n",
              "\n",
              "[52608 rows x 7 columns]"
            ],
            "text/html": [
              "\n",
              "  <div id=\"df-cc4531f1-d543-45c1-a0fb-0bc19b12574d\">\n",
              "    <div class=\"colab-df-container\">\n",
              "      <div>\n",
              "<style scoped>\n",
              "    .dataframe tbody tr th:only-of-type {\n",
              "        vertical-align: middle;\n",
              "    }\n",
              "\n",
              "    .dataframe tbody tr th {\n",
              "        vertical-align: top;\n",
              "    }\n",
              "\n",
              "    .dataframe thead th {\n",
              "        text-align: right;\n",
              "    }\n",
              "</style>\n",
              "<table border=\"1\" class=\"dataframe\">\n",
              "  <thead>\n",
              "    <tr style=\"text-align: right;\">\n",
              "      <th></th>\n",
              "      <th>0</th>\n",
              "      <th>1</th>\n",
              "      <th>2</th>\n",
              "      <th>3</th>\n",
              "      <th>4</th>\n",
              "      <th>5</th>\n",
              "      <th>6</th>\n",
              "    </tr>\n",
              "  </thead>\n",
              "  <tbody>\n",
              "    <tr>\n",
              "      <th>0</th>\n",
              "      <td>0.270783</td>\n",
              "      <td>0.227131</td>\n",
              "      <td>0.169799</td>\n",
              "      <td>0.0</td>\n",
              "      <td>0.691411</td>\n",
              "      <td>0.383823</td>\n",
              "      <td>0.113760</td>\n",
              "    </tr>\n",
              "    <tr>\n",
              "      <th>1</th>\n",
              "      <td>0.268335</td>\n",
              "      <td>0.204832</td>\n",
              "      <td>0.172628</td>\n",
              "      <td>0.0</td>\n",
              "      <td>0.691411</td>\n",
              "      <td>0.383823</td>\n",
              "      <td>0.113760</td>\n",
              "    </tr>\n",
              "    <tr>\n",
              "      <th>2</th>\n",
              "      <td>0.267243</td>\n",
              "      <td>0.197959</td>\n",
              "      <td>0.174536</td>\n",
              "      <td>0.0</td>\n",
              "      <td>0.691411</td>\n",
              "      <td>0.383823</td>\n",
              "      <td>0.113760</td>\n",
              "    </tr>\n",
              "    <tr>\n",
              "      <th>3</th>\n",
              "      <td>0.274864</td>\n",
              "      <td>0.200938</td>\n",
              "      <td>0.178079</td>\n",
              "      <td>0.0</td>\n",
              "      <td>0.691411</td>\n",
              "      <td>0.383823</td>\n",
              "      <td>0.113760</td>\n",
              "    </tr>\n",
              "    <tr>\n",
              "      <th>4</th>\n",
              "      <td>0.240881</td>\n",
              "      <td>0.203479</td>\n",
              "      <td>0.181932</td>\n",
              "      <td>0.0</td>\n",
              "      <td>0.691411</td>\n",
              "      <td>0.383823</td>\n",
              "      <td>0.113760</td>\n",
              "    </tr>\n",
              "    <tr>\n",
              "      <th>...</th>\n",
              "      <td>...</td>\n",
              "      <td>...</td>\n",
              "      <td>...</td>\n",
              "      <td>...</td>\n",
              "      <td>...</td>\n",
              "      <td>...</td>\n",
              "      <td>...</td>\n",
              "    </tr>\n",
              "    <tr>\n",
              "      <th>52603</th>\n",
              "      <td>0.456646</td>\n",
              "      <td>0.417945</td>\n",
              "      <td>0.164971</td>\n",
              "      <td>0.0</td>\n",
              "      <td>0.606685</td>\n",
              "      <td>0.408538</td>\n",
              "      <td>0.976158</td>\n",
              "    </tr>\n",
              "    <tr>\n",
              "      <th>52604</th>\n",
              "      <td>0.422256</td>\n",
              "      <td>0.381557</td>\n",
              "      <td>0.152247</td>\n",
              "      <td>0.0</td>\n",
              "      <td>0.606685</td>\n",
              "      <td>0.408538</td>\n",
              "      <td>0.976158</td>\n",
              "    </tr>\n",
              "    <tr>\n",
              "      <th>52605</th>\n",
              "      <td>0.422256</td>\n",
              "      <td>0.381850</td>\n",
              "      <td>0.140439</td>\n",
              "      <td>0.0</td>\n",
              "      <td>0.606685</td>\n",
              "      <td>0.408538</td>\n",
              "      <td>0.976158</td>\n",
              "    </tr>\n",
              "    <tr>\n",
              "      <th>52606</th>\n",
              "      <td>0.422256</td>\n",
              "      <td>0.350179</td>\n",
              "      <td>0.129622</td>\n",
              "      <td>0.0</td>\n",
              "      <td>0.606685</td>\n",
              "      <td>0.408538</td>\n",
              "      <td>0.976158</td>\n",
              "    </tr>\n",
              "    <tr>\n",
              "      <th>52607</th>\n",
              "      <td>0.405779</td>\n",
              "      <td>0.294583</td>\n",
              "      <td>0.092077</td>\n",
              "      <td>0.0</td>\n",
              "      <td>0.606685</td>\n",
              "      <td>0.411908</td>\n",
              "      <td>0.976158</td>\n",
              "    </tr>\n",
              "  </tbody>\n",
              "</table>\n",
              "<p>52608 rows × 7 columns</p>\n",
              "</div>\n",
              "      <button class=\"colab-df-convert\" onclick=\"convertToInteractive('df-cc4531f1-d543-45c1-a0fb-0bc19b12574d')\"\n",
              "              title=\"Convert this dataframe to an interactive table.\"\n",
              "              style=\"display:none;\">\n",
              "        \n",
              "  <svg xmlns=\"http://www.w3.org/2000/svg\" height=\"24px\"viewBox=\"0 0 24 24\"\n",
              "       width=\"24px\">\n",
              "    <path d=\"M0 0h24v24H0V0z\" fill=\"none\"/>\n",
              "    <path d=\"M18.56 5.44l.94 2.06.94-2.06 2.06-.94-2.06-.94-.94-2.06-.94 2.06-2.06.94zm-11 1L8.5 8.5l.94-2.06 2.06-.94-2.06-.94L8.5 2.5l-.94 2.06-2.06.94zm10 10l.94 2.06.94-2.06 2.06-.94-2.06-.94-.94-2.06-.94 2.06-2.06.94z\"/><path d=\"M17.41 7.96l-1.37-1.37c-.4-.4-.92-.59-1.43-.59-.52 0-1.04.2-1.43.59L10.3 9.45l-7.72 7.72c-.78.78-.78 2.05 0 2.83L4 21.41c.39.39.9.59 1.41.59.51 0 1.02-.2 1.41-.59l7.78-7.78 2.81-2.81c.8-.78.8-2.07 0-2.86zM5.41 20L4 18.59l7.72-7.72 1.47 1.35L5.41 20z\"/>\n",
              "  </svg>\n",
              "      </button>\n",
              "      \n",
              "  <style>\n",
              "    .colab-df-container {\n",
              "      display:flex;\n",
              "      flex-wrap:wrap;\n",
              "      gap: 12px;\n",
              "    }\n",
              "\n",
              "    .colab-df-convert {\n",
              "      background-color: #E8F0FE;\n",
              "      border: none;\n",
              "      border-radius: 50%;\n",
              "      cursor: pointer;\n",
              "      display: none;\n",
              "      fill: #1967D2;\n",
              "      height: 32px;\n",
              "      padding: 0 0 0 0;\n",
              "      width: 32px;\n",
              "    }\n",
              "\n",
              "    .colab-df-convert:hover {\n",
              "      background-color: #E2EBFA;\n",
              "      box-shadow: 0px 1px 2px rgba(60, 64, 67, 0.3), 0px 1px 3px 1px rgba(60, 64, 67, 0.15);\n",
              "      fill: #174EA6;\n",
              "    }\n",
              "\n",
              "    [theme=dark] .colab-df-convert {\n",
              "      background-color: #3B4455;\n",
              "      fill: #D2E3FC;\n",
              "    }\n",
              "\n",
              "    [theme=dark] .colab-df-convert:hover {\n",
              "      background-color: #434B5C;\n",
              "      box-shadow: 0px 1px 3px 1px rgba(0, 0, 0, 0.15);\n",
              "      filter: drop-shadow(0px 1px 2px rgba(0, 0, 0, 0.3));\n",
              "      fill: #FFFFFF;\n",
              "    }\n",
              "  </style>\n",
              "\n",
              "      <script>\n",
              "        const buttonEl =\n",
              "          document.querySelector('#df-cc4531f1-d543-45c1-a0fb-0bc19b12574d button.colab-df-convert');\n",
              "        buttonEl.style.display =\n",
              "          google.colab.kernel.accessAllowed ? 'block' : 'none';\n",
              "\n",
              "        async function convertToInteractive(key) {\n",
              "          const element = document.querySelector('#df-cc4531f1-d543-45c1-a0fb-0bc19b12574d');\n",
              "          const dataTable =\n",
              "            await google.colab.kernel.invokeFunction('convertToInteractive',\n",
              "                                                     [key], {});\n",
              "          if (!dataTable) return;\n",
              "\n",
              "          const docLinkHtml = 'Like what you see? Visit the ' +\n",
              "            '<a target=\"_blank\" href=https://colab.research.google.com/notebooks/data_table.ipynb>data table notebook</a>'\n",
              "            + ' to learn more about interactive tables.';\n",
              "          element.innerHTML = '';\n",
              "          dataTable['output_type'] = 'display_data';\n",
              "          await google.colab.output.renderOutput(dataTable, element);\n",
              "          const docLink = document.createElement('div');\n",
              "          docLink.innerHTML = docLinkHtml;\n",
              "          element.appendChild(docLink);\n",
              "        }\n",
              "      </script>\n",
              "    </div>\n",
              "  </div>\n",
              "  "
            ]
          },
          "metadata": {},
          "execution_count": 94
        }
      ],
      "source": [
        "X"
      ]
    },
    {
      "cell_type": "code",
      "execution_count": null,
      "metadata": {
        "id": "Q5WdBF17-f4F"
      },
      "outputs": [],
      "source": [
        "sc_out = MinMaxScaler(feature_range=(0, 1))\n",
        "scaler_output = sc_out.fit_transform(dataset[['price day ahead real']])\n",
        "scaler_output =pd.DataFrame(scaler_output)\n",
        "y=scaler_output"
      ]
    },
    {
      "cell_type": "code",
      "execution_count": null,
      "metadata": {
        "colab": {
          "base_uri": "https://localhost:8080/",
          "height": 140
        },
        "id": "dsQeOJwVBKeR",
        "outputId": "049f3b44-263e-4573-e99c-3ce560f3f875"
      },
      "outputs": [
        {
          "output_type": "execute_result",
          "data": {
            "text/plain": [
              "                         Estimated price   Demand DE      Wind   PV       Gas  \\\n",
              "Date                                                                            \n",
              "2014-12-31 23:59:59.991          0.270783   0.227131  0.169799  0.0  0.691411   \n",
              "2015-01-01 00:59:59.991          0.268335   0.204832  0.172628  0.0  0.691411   \n",
              "\n",
              "                             Coal      CO2  \n",
              "Date                                        \n",
              "2014-12-31 23:59:59.991  0.383823  0.11376  \n",
              "2015-01-01 00:59:59.991  0.383823  0.11376  "
            ],
            "text/html": [
              "\n",
              "  <div id=\"df-6b45e5e8-044c-4fc2-b7b4-831430b13c2a\">\n",
              "    <div class=\"colab-df-container\">\n",
              "      <div>\n",
              "<style scoped>\n",
              "    .dataframe tbody tr th:only-of-type {\n",
              "        vertical-align: middle;\n",
              "    }\n",
              "\n",
              "    .dataframe tbody tr th {\n",
              "        vertical-align: top;\n",
              "    }\n",
              "\n",
              "    .dataframe thead th {\n",
              "        text-align: right;\n",
              "    }\n",
              "</style>\n",
              "<table border=\"1\" class=\"dataframe\">\n",
              "  <thead>\n",
              "    <tr style=\"text-align: right;\">\n",
              "      <th></th>\n",
              "      <th>Estimated price</th>\n",
              "      <th>Demand DE</th>\n",
              "      <th>Wind</th>\n",
              "      <th>PV</th>\n",
              "      <th>Gas</th>\n",
              "      <th>Coal</th>\n",
              "      <th>CO2</th>\n",
              "    </tr>\n",
              "    <tr>\n",
              "      <th>Date</th>\n",
              "      <th></th>\n",
              "      <th></th>\n",
              "      <th></th>\n",
              "      <th></th>\n",
              "      <th></th>\n",
              "      <th></th>\n",
              "      <th></th>\n",
              "    </tr>\n",
              "  </thead>\n",
              "  <tbody>\n",
              "    <tr>\n",
              "      <th>2014-12-31 23:59:59.991</th>\n",
              "      <td>0.270783</td>\n",
              "      <td>0.227131</td>\n",
              "      <td>0.169799</td>\n",
              "      <td>0.0</td>\n",
              "      <td>0.691411</td>\n",
              "      <td>0.383823</td>\n",
              "      <td>0.11376</td>\n",
              "    </tr>\n",
              "    <tr>\n",
              "      <th>2015-01-01 00:59:59.991</th>\n",
              "      <td>0.268335</td>\n",
              "      <td>0.204832</td>\n",
              "      <td>0.172628</td>\n",
              "      <td>0.0</td>\n",
              "      <td>0.691411</td>\n",
              "      <td>0.383823</td>\n",
              "      <td>0.11376</td>\n",
              "    </tr>\n",
              "  </tbody>\n",
              "</table>\n",
              "</div>\n",
              "      <button class=\"colab-df-convert\" onclick=\"convertToInteractive('df-6b45e5e8-044c-4fc2-b7b4-831430b13c2a')\"\n",
              "              title=\"Convert this dataframe to an interactive table.\"\n",
              "              style=\"display:none;\">\n",
              "        \n",
              "  <svg xmlns=\"http://www.w3.org/2000/svg\" height=\"24px\"viewBox=\"0 0 24 24\"\n",
              "       width=\"24px\">\n",
              "    <path d=\"M0 0h24v24H0V0z\" fill=\"none\"/>\n",
              "    <path d=\"M18.56 5.44l.94 2.06.94-2.06 2.06-.94-2.06-.94-.94-2.06-.94 2.06-2.06.94zm-11 1L8.5 8.5l.94-2.06 2.06-.94-2.06-.94L8.5 2.5l-.94 2.06-2.06.94zm10 10l.94 2.06.94-2.06 2.06-.94-2.06-.94-.94-2.06-.94 2.06-2.06.94z\"/><path d=\"M17.41 7.96l-1.37-1.37c-.4-.4-.92-.59-1.43-.59-.52 0-1.04.2-1.43.59L10.3 9.45l-7.72 7.72c-.78.78-.78 2.05 0 2.83L4 21.41c.39.39.9.59 1.41.59.51 0 1.02-.2 1.41-.59l7.78-7.78 2.81-2.81c.8-.78.8-2.07 0-2.86zM5.41 20L4 18.59l7.72-7.72 1.47 1.35L5.41 20z\"/>\n",
              "  </svg>\n",
              "      </button>\n",
              "      \n",
              "  <style>\n",
              "    .colab-df-container {\n",
              "      display:flex;\n",
              "      flex-wrap:wrap;\n",
              "      gap: 12px;\n",
              "    }\n",
              "\n",
              "    .colab-df-convert {\n",
              "      background-color: #E8F0FE;\n",
              "      border: none;\n",
              "      border-radius: 50%;\n",
              "      cursor: pointer;\n",
              "      display: none;\n",
              "      fill: #1967D2;\n",
              "      height: 32px;\n",
              "      padding: 0 0 0 0;\n",
              "      width: 32px;\n",
              "    }\n",
              "\n",
              "    .colab-df-convert:hover {\n",
              "      background-color: #E2EBFA;\n",
              "      box-shadow: 0px 1px 2px rgba(60, 64, 67, 0.3), 0px 1px 3px 1px rgba(60, 64, 67, 0.15);\n",
              "      fill: #174EA6;\n",
              "    }\n",
              "\n",
              "    [theme=dark] .colab-df-convert {\n",
              "      background-color: #3B4455;\n",
              "      fill: #D2E3FC;\n",
              "    }\n",
              "\n",
              "    [theme=dark] .colab-df-convert:hover {\n",
              "      background-color: #434B5C;\n",
              "      box-shadow: 0px 1px 3px 1px rgba(0, 0, 0, 0.15);\n",
              "      filter: drop-shadow(0px 1px 2px rgba(0, 0, 0, 0.3));\n",
              "      fill: #FFFFFF;\n",
              "    }\n",
              "  </style>\n",
              "\n",
              "      <script>\n",
              "        const buttonEl =\n",
              "          document.querySelector('#df-6b45e5e8-044c-4fc2-b7b4-831430b13c2a button.colab-df-convert');\n",
              "        buttonEl.style.display =\n",
              "          google.colab.kernel.accessAllowed ? 'block' : 'none';\n",
              "\n",
              "        async function convertToInteractive(key) {\n",
              "          const element = document.querySelector('#df-6b45e5e8-044c-4fc2-b7b4-831430b13c2a');\n",
              "          const dataTable =\n",
              "            await google.colab.kernel.invokeFunction('convertToInteractive',\n",
              "                                                     [key], {});\n",
              "          if (!dataTable) return;\n",
              "\n",
              "          const docLinkHtml = 'Like what you see? Visit the ' +\n",
              "            '<a target=\"_blank\" href=https://colab.research.google.com/notebooks/data_table.ipynb>data table notebook</a>'\n",
              "            + ' to learn more about interactive tables.';\n",
              "          element.innerHTML = '';\n",
              "          dataTable['output_type'] = 'display_data';\n",
              "          await google.colab.output.renderOutput(dataTable, element);\n",
              "          const docLink = document.createElement('div');\n",
              "          docLink.innerHTML = docLinkHtml;\n",
              "          element.appendChild(docLink);\n",
              "        }\n",
              "      </script>\n",
              "    </div>\n",
              "  </div>\n",
              "  "
            ]
          },
          "metadata": {},
          "execution_count": 97
        }
      ],
      "source": [
        "X.rename(columns={0:'Estimated price ',1: 'Demand DE',2:'Wind',3:'PV',4:'Gas',5:'Coal', 6:'CO2'}, inplace= True)\n",
        "X.index=dataset.index\n",
        "X.head(2)"
      ]
    },
    {
      "cell_type": "code",
      "execution_count": null,
      "metadata": {
        "colab": {
          "base_uri": "https://localhost:8080/",
          "height": 140
        },
        "id": "piUkH0ItA_Og",
        "outputId": "3f6c8ae5-6fb4-44bb-8372-efa19e638da0"
      },
      "outputs": [
        {
          "output_type": "execute_result",
          "data": {
            "text/plain": [
              "                         price day ahead real\n",
              "Date                                         \n",
              "2014-12-31 23:59:59.991              0.449459\n",
              "2015-01-01 00:59:59.991              0.442644"
            ],
            "text/html": [
              "\n",
              "  <div id=\"df-54e7a73f-fc78-44f2-8a5d-42ff2d729791\">\n",
              "    <div class=\"colab-df-container\">\n",
              "      <div>\n",
              "<style scoped>\n",
              "    .dataframe tbody tr th:only-of-type {\n",
              "        vertical-align: middle;\n",
              "    }\n",
              "\n",
              "    .dataframe tbody tr th {\n",
              "        vertical-align: top;\n",
              "    }\n",
              "\n",
              "    .dataframe thead th {\n",
              "        text-align: right;\n",
              "    }\n",
              "</style>\n",
              "<table border=\"1\" class=\"dataframe\">\n",
              "  <thead>\n",
              "    <tr style=\"text-align: right;\">\n",
              "      <th></th>\n",
              "      <th>price day ahead real</th>\n",
              "    </tr>\n",
              "    <tr>\n",
              "      <th>Date</th>\n",
              "      <th></th>\n",
              "    </tr>\n",
              "  </thead>\n",
              "  <tbody>\n",
              "    <tr>\n",
              "      <th>2014-12-31 23:59:59.991</th>\n",
              "      <td>0.449459</td>\n",
              "    </tr>\n",
              "    <tr>\n",
              "      <th>2015-01-01 00:59:59.991</th>\n",
              "      <td>0.442644</td>\n",
              "    </tr>\n",
              "  </tbody>\n",
              "</table>\n",
              "</div>\n",
              "      <button class=\"colab-df-convert\" onclick=\"convertToInteractive('df-54e7a73f-fc78-44f2-8a5d-42ff2d729791')\"\n",
              "              title=\"Convert this dataframe to an interactive table.\"\n",
              "              style=\"display:none;\">\n",
              "        \n",
              "  <svg xmlns=\"http://www.w3.org/2000/svg\" height=\"24px\"viewBox=\"0 0 24 24\"\n",
              "       width=\"24px\">\n",
              "    <path d=\"M0 0h24v24H0V0z\" fill=\"none\"/>\n",
              "    <path d=\"M18.56 5.44l.94 2.06.94-2.06 2.06-.94-2.06-.94-.94-2.06-.94 2.06-2.06.94zm-11 1L8.5 8.5l.94-2.06 2.06-.94-2.06-.94L8.5 2.5l-.94 2.06-2.06.94zm10 10l.94 2.06.94-2.06 2.06-.94-2.06-.94-.94-2.06-.94 2.06-2.06.94z\"/><path d=\"M17.41 7.96l-1.37-1.37c-.4-.4-.92-.59-1.43-.59-.52 0-1.04.2-1.43.59L10.3 9.45l-7.72 7.72c-.78.78-.78 2.05 0 2.83L4 21.41c.39.39.9.59 1.41.59.51 0 1.02-.2 1.41-.59l7.78-7.78 2.81-2.81c.8-.78.8-2.07 0-2.86zM5.41 20L4 18.59l7.72-7.72 1.47 1.35L5.41 20z\"/>\n",
              "  </svg>\n",
              "      </button>\n",
              "      \n",
              "  <style>\n",
              "    .colab-df-container {\n",
              "      display:flex;\n",
              "      flex-wrap:wrap;\n",
              "      gap: 12px;\n",
              "    }\n",
              "\n",
              "    .colab-df-convert {\n",
              "      background-color: #E8F0FE;\n",
              "      border: none;\n",
              "      border-radius: 50%;\n",
              "      cursor: pointer;\n",
              "      display: none;\n",
              "      fill: #1967D2;\n",
              "      height: 32px;\n",
              "      padding: 0 0 0 0;\n",
              "      width: 32px;\n",
              "    }\n",
              "\n",
              "    .colab-df-convert:hover {\n",
              "      background-color: #E2EBFA;\n",
              "      box-shadow: 0px 1px 2px rgba(60, 64, 67, 0.3), 0px 1px 3px 1px rgba(60, 64, 67, 0.15);\n",
              "      fill: #174EA6;\n",
              "    }\n",
              "\n",
              "    [theme=dark] .colab-df-convert {\n",
              "      background-color: #3B4455;\n",
              "      fill: #D2E3FC;\n",
              "    }\n",
              "\n",
              "    [theme=dark] .colab-df-convert:hover {\n",
              "      background-color: #434B5C;\n",
              "      box-shadow: 0px 1px 3px 1px rgba(0, 0, 0, 0.15);\n",
              "      filter: drop-shadow(0px 1px 2px rgba(0, 0, 0, 0.3));\n",
              "      fill: #FFFFFF;\n",
              "    }\n",
              "  </style>\n",
              "\n",
              "      <script>\n",
              "        const buttonEl =\n",
              "          document.querySelector('#df-54e7a73f-fc78-44f2-8a5d-42ff2d729791 button.colab-df-convert');\n",
              "        buttonEl.style.display =\n",
              "          google.colab.kernel.accessAllowed ? 'block' : 'none';\n",
              "\n",
              "        async function convertToInteractive(key) {\n",
              "          const element = document.querySelector('#df-54e7a73f-fc78-44f2-8a5d-42ff2d729791');\n",
              "          const dataTable =\n",
              "            await google.colab.kernel.invokeFunction('convertToInteractive',\n",
              "                                                     [key], {});\n",
              "          if (!dataTable) return;\n",
              "\n",
              "          const docLinkHtml = 'Like what you see? Visit the ' +\n",
              "            '<a target=\"_blank\" href=https://colab.research.google.com/notebooks/data_table.ipynb>data table notebook</a>'\n",
              "            + ' to learn more about interactive tables.';\n",
              "          element.innerHTML = '';\n",
              "          dataTable['output_type'] = 'display_data';\n",
              "          await google.colab.output.renderOutput(dataTable, element);\n",
              "          const docLink = document.createElement('div');\n",
              "          docLink.innerHTML = docLinkHtml;\n",
              "          element.appendChild(docLink);\n",
              "        }\n",
              "      </script>\n",
              "    </div>\n",
              "  </div>\n",
              "  "
            ]
          },
          "metadata": {},
          "execution_count": 98
        }
      ],
      "source": [
        "y.rename(columns={0:'price day ahead real'}, inplace= True)\n",
        "y.index=dataset.index\n",
        "y.head(2)"
      ]
    },
    {
      "cell_type": "code",
      "execution_count": null,
      "metadata": {
        "colab": {
          "base_uri": "https://localhost:8080/",
          "height": 442
        },
        "id": "DO44mcdZA2CY",
        "outputId": "d46c8fd5-1a4e-40cb-dab2-c0d4477f0251"
      },
      "outputs": [
        {
          "output_type": "execute_result",
          "data": {
            "text/plain": [
              "                         price day ahead real\n",
              "Date                                         \n",
              "2014-12-31 23:59:59.991              0.449459\n",
              "2015-01-01 00:59:59.991              0.442644\n",
              "2015-01-01 01:59:59.991              0.438282\n",
              "2015-01-01 02:59:59.991              0.439342\n",
              "2015-01-01 03:59:59.991              0.437979\n",
              "...                                       ...\n",
              "2020-12-31 18:59:59.980              0.565807\n",
              "2020-12-31 19:59:59.980              0.552903\n",
              "2020-12-31 20:59:59.980              0.551147\n",
              "2020-12-31 21:59:59.980              0.552358\n",
              "2020-12-31 22:59:59.980              0.548148\n",
              "\n",
              "[52608 rows x 1 columns]"
            ],
            "text/html": [
              "\n",
              "  <div id=\"df-1f670201-d472-4b0c-96da-0ade54f616a0\">\n",
              "    <div class=\"colab-df-container\">\n",
              "      <div>\n",
              "<style scoped>\n",
              "    .dataframe tbody tr th:only-of-type {\n",
              "        vertical-align: middle;\n",
              "    }\n",
              "\n",
              "    .dataframe tbody tr th {\n",
              "        vertical-align: top;\n",
              "    }\n",
              "\n",
              "    .dataframe thead th {\n",
              "        text-align: right;\n",
              "    }\n",
              "</style>\n",
              "<table border=\"1\" class=\"dataframe\">\n",
              "  <thead>\n",
              "    <tr style=\"text-align: right;\">\n",
              "      <th></th>\n",
              "      <th>price day ahead real</th>\n",
              "    </tr>\n",
              "    <tr>\n",
              "      <th>Date</th>\n",
              "      <th></th>\n",
              "    </tr>\n",
              "  </thead>\n",
              "  <tbody>\n",
              "    <tr>\n",
              "      <th>2014-12-31 23:59:59.991</th>\n",
              "      <td>0.449459</td>\n",
              "    </tr>\n",
              "    <tr>\n",
              "      <th>2015-01-01 00:59:59.991</th>\n",
              "      <td>0.442644</td>\n",
              "    </tr>\n",
              "    <tr>\n",
              "      <th>2015-01-01 01:59:59.991</th>\n",
              "      <td>0.438282</td>\n",
              "    </tr>\n",
              "    <tr>\n",
              "      <th>2015-01-01 02:59:59.991</th>\n",
              "      <td>0.439342</td>\n",
              "    </tr>\n",
              "    <tr>\n",
              "      <th>2015-01-01 03:59:59.991</th>\n",
              "      <td>0.437979</td>\n",
              "    </tr>\n",
              "    <tr>\n",
              "      <th>...</th>\n",
              "      <td>...</td>\n",
              "    </tr>\n",
              "    <tr>\n",
              "      <th>2020-12-31 18:59:59.980</th>\n",
              "      <td>0.565807</td>\n",
              "    </tr>\n",
              "    <tr>\n",
              "      <th>2020-12-31 19:59:59.980</th>\n",
              "      <td>0.552903</td>\n",
              "    </tr>\n",
              "    <tr>\n",
              "      <th>2020-12-31 20:59:59.980</th>\n",
              "      <td>0.551147</td>\n",
              "    </tr>\n",
              "    <tr>\n",
              "      <th>2020-12-31 21:59:59.980</th>\n",
              "      <td>0.552358</td>\n",
              "    </tr>\n",
              "    <tr>\n",
              "      <th>2020-12-31 22:59:59.980</th>\n",
              "      <td>0.548148</td>\n",
              "    </tr>\n",
              "  </tbody>\n",
              "</table>\n",
              "<p>52608 rows × 1 columns</p>\n",
              "</div>\n",
              "      <button class=\"colab-df-convert\" onclick=\"convertToInteractive('df-1f670201-d472-4b0c-96da-0ade54f616a0')\"\n",
              "              title=\"Convert this dataframe to an interactive table.\"\n",
              "              style=\"display:none;\">\n",
              "        \n",
              "  <svg xmlns=\"http://www.w3.org/2000/svg\" height=\"24px\"viewBox=\"0 0 24 24\"\n",
              "       width=\"24px\">\n",
              "    <path d=\"M0 0h24v24H0V0z\" fill=\"none\"/>\n",
              "    <path d=\"M18.56 5.44l.94 2.06.94-2.06 2.06-.94-2.06-.94-.94-2.06-.94 2.06-2.06.94zm-11 1L8.5 8.5l.94-2.06 2.06-.94-2.06-.94L8.5 2.5l-.94 2.06-2.06.94zm10 10l.94 2.06.94-2.06 2.06-.94-2.06-.94-.94-2.06-.94 2.06-2.06.94z\"/><path d=\"M17.41 7.96l-1.37-1.37c-.4-.4-.92-.59-1.43-.59-.52 0-1.04.2-1.43.59L10.3 9.45l-7.72 7.72c-.78.78-.78 2.05 0 2.83L4 21.41c.39.39.9.59 1.41.59.51 0 1.02-.2 1.41-.59l7.78-7.78 2.81-2.81c.8-.78.8-2.07 0-2.86zM5.41 20L4 18.59l7.72-7.72 1.47 1.35L5.41 20z\"/>\n",
              "  </svg>\n",
              "      </button>\n",
              "      \n",
              "  <style>\n",
              "    .colab-df-container {\n",
              "      display:flex;\n",
              "      flex-wrap:wrap;\n",
              "      gap: 12px;\n",
              "    }\n",
              "\n",
              "    .colab-df-convert {\n",
              "      background-color: #E8F0FE;\n",
              "      border: none;\n",
              "      border-radius: 50%;\n",
              "      cursor: pointer;\n",
              "      display: none;\n",
              "      fill: #1967D2;\n",
              "      height: 32px;\n",
              "      padding: 0 0 0 0;\n",
              "      width: 32px;\n",
              "    }\n",
              "\n",
              "    .colab-df-convert:hover {\n",
              "      background-color: #E2EBFA;\n",
              "      box-shadow: 0px 1px 2px rgba(60, 64, 67, 0.3), 0px 1px 3px 1px rgba(60, 64, 67, 0.15);\n",
              "      fill: #174EA6;\n",
              "    }\n",
              "\n",
              "    [theme=dark] .colab-df-convert {\n",
              "      background-color: #3B4455;\n",
              "      fill: #D2E3FC;\n",
              "    }\n",
              "\n",
              "    [theme=dark] .colab-df-convert:hover {\n",
              "      background-color: #434B5C;\n",
              "      box-shadow: 0px 1px 3px 1px rgba(0, 0, 0, 0.15);\n",
              "      filter: drop-shadow(0px 1px 2px rgba(0, 0, 0, 0.3));\n",
              "      fill: #FFFFFF;\n",
              "    }\n",
              "  </style>\n",
              "\n",
              "      <script>\n",
              "        const buttonEl =\n",
              "          document.querySelector('#df-1f670201-d472-4b0c-96da-0ade54f616a0 button.colab-df-convert');\n",
              "        buttonEl.style.display =\n",
              "          google.colab.kernel.accessAllowed ? 'block' : 'none';\n",
              "\n",
              "        async function convertToInteractive(key) {\n",
              "          const element = document.querySelector('#df-1f670201-d472-4b0c-96da-0ade54f616a0');\n",
              "          const dataTable =\n",
              "            await google.colab.kernel.invokeFunction('convertToInteractive',\n",
              "                                                     [key], {});\n",
              "          if (!dataTable) return;\n",
              "\n",
              "          const docLinkHtml = 'Like what you see? Visit the ' +\n",
              "            '<a target=\"_blank\" href=https://colab.research.google.com/notebooks/data_table.ipynb>data table notebook</a>'\n",
              "            + ' to learn more about interactive tables.';\n",
              "          element.innerHTML = '';\n",
              "          dataTable['output_type'] = 'display_data';\n",
              "          await google.colab.output.renderOutput(dataTable, element);\n",
              "          const docLink = document.createElement('div');\n",
              "          docLink.innerHTML = docLinkHtml;\n",
              "          element.appendChild(docLink);\n",
              "        }\n",
              "      </script>\n",
              "    </div>\n",
              "  </div>\n",
              "  "
            ]
          },
          "metadata": {},
          "execution_count": 99
        }
      ],
      "source": [
        "y"
      ]
    },
    {
      "cell_type": "code",
      "execution_count": null,
      "metadata": {
        "id": "XiPGS8QHA5MX"
      },
      "outputs": [],
      "source": [
        "train_size=34968 \n",
        "test_size = 17640\n",
        "train_X, train_y = X[:train_size].dropna(), y[:train_size].dropna()\n",
        "test_X, test_y = X[train_size:].dropna(), y[train_size:].dropna()"
      ]
    },
    {
      "cell_type": "code",
      "execution_count": null,
      "metadata": {
        "colab": {
          "base_uri": "https://localhost:8080/",
          "height": 442
        },
        "id": "8zdt96gqOyMa",
        "outputId": "c03afabc-4a2a-4b78-aaba-78e8a83f15ed"
      },
      "outputs": [
        {
          "output_type": "execute_result",
          "data": {
            "text/plain": [
              "                         Estimated price   Demand DE      Wind   PV       Gas  \\\n",
              "Date                                                                            \n",
              "2018-12-27 23:59:59.983          0.403708   0.345376  0.208697  0.0  0.750097   \n",
              "2018-12-28 00:59:59.983          0.403708   0.328164  0.207994  0.0  0.750097   \n",
              "2018-12-28 01:59:59.983          0.403708   0.332313  0.207424  0.0  0.750097   \n",
              "2018-12-28 02:59:59.983          0.403708   0.359784  0.204541  0.0  0.750097   \n",
              "2018-12-28 03:59:59.983          0.403708   0.413988  0.197694  0.0  0.750097   \n",
              "...                                   ...        ...       ...  ...       ...   \n",
              "2020-12-31 18:59:59.980          0.456646   0.417945  0.164971  0.0  0.606685   \n",
              "2020-12-31 19:59:59.980          0.422256   0.381557  0.152247  0.0  0.606685   \n",
              "2020-12-31 20:59:59.980          0.422256   0.381850  0.140439  0.0  0.606685   \n",
              "2020-12-31 21:59:59.980          0.422256   0.350179  0.129622  0.0  0.606685   \n",
              "2020-12-31 22:59:59.980          0.405779   0.294583  0.092077  0.0  0.606685   \n",
              "\n",
              "                             Coal       CO2  \n",
              "Date                                         \n",
              "2018-12-27 23:59:59.983  0.792174  0.707425  \n",
              "2018-12-28 00:59:59.983  0.792174  0.707425  \n",
              "2018-12-28 01:59:59.983  0.792174  0.707425  \n",
              "2018-12-28 02:59:59.983  0.792174  0.707425  \n",
              "2018-12-28 03:59:59.983  0.792174  0.707425  \n",
              "...                           ...       ...  \n",
              "2020-12-31 18:59:59.980  0.408538  0.976158  \n",
              "2020-12-31 19:59:59.980  0.408538  0.976158  \n",
              "2020-12-31 20:59:59.980  0.408538  0.976158  \n",
              "2020-12-31 21:59:59.980  0.408538  0.976158  \n",
              "2020-12-31 22:59:59.980  0.411908  0.976158  \n",
              "\n",
              "[17640 rows x 7 columns]"
            ],
            "text/html": [
              "\n",
              "  <div id=\"df-a7000615-8cba-40d2-96c3-a5ab6c7e5e57\">\n",
              "    <div class=\"colab-df-container\">\n",
              "      <div>\n",
              "<style scoped>\n",
              "    .dataframe tbody tr th:only-of-type {\n",
              "        vertical-align: middle;\n",
              "    }\n",
              "\n",
              "    .dataframe tbody tr th {\n",
              "        vertical-align: top;\n",
              "    }\n",
              "\n",
              "    .dataframe thead th {\n",
              "        text-align: right;\n",
              "    }\n",
              "</style>\n",
              "<table border=\"1\" class=\"dataframe\">\n",
              "  <thead>\n",
              "    <tr style=\"text-align: right;\">\n",
              "      <th></th>\n",
              "      <th>Estimated price</th>\n",
              "      <th>Demand DE</th>\n",
              "      <th>Wind</th>\n",
              "      <th>PV</th>\n",
              "      <th>Gas</th>\n",
              "      <th>Coal</th>\n",
              "      <th>CO2</th>\n",
              "    </tr>\n",
              "    <tr>\n",
              "      <th>Date</th>\n",
              "      <th></th>\n",
              "      <th></th>\n",
              "      <th></th>\n",
              "      <th></th>\n",
              "      <th></th>\n",
              "      <th></th>\n",
              "      <th></th>\n",
              "    </tr>\n",
              "  </thead>\n",
              "  <tbody>\n",
              "    <tr>\n",
              "      <th>2018-12-27 23:59:59.983</th>\n",
              "      <td>0.403708</td>\n",
              "      <td>0.345376</td>\n",
              "      <td>0.208697</td>\n",
              "      <td>0.0</td>\n",
              "      <td>0.750097</td>\n",
              "      <td>0.792174</td>\n",
              "      <td>0.707425</td>\n",
              "    </tr>\n",
              "    <tr>\n",
              "      <th>2018-12-28 00:59:59.983</th>\n",
              "      <td>0.403708</td>\n",
              "      <td>0.328164</td>\n",
              "      <td>0.207994</td>\n",
              "      <td>0.0</td>\n",
              "      <td>0.750097</td>\n",
              "      <td>0.792174</td>\n",
              "      <td>0.707425</td>\n",
              "    </tr>\n",
              "    <tr>\n",
              "      <th>2018-12-28 01:59:59.983</th>\n",
              "      <td>0.403708</td>\n",
              "      <td>0.332313</td>\n",
              "      <td>0.207424</td>\n",
              "      <td>0.0</td>\n",
              "      <td>0.750097</td>\n",
              "      <td>0.792174</td>\n",
              "      <td>0.707425</td>\n",
              "    </tr>\n",
              "    <tr>\n",
              "      <th>2018-12-28 02:59:59.983</th>\n",
              "      <td>0.403708</td>\n",
              "      <td>0.359784</td>\n",
              "      <td>0.204541</td>\n",
              "      <td>0.0</td>\n",
              "      <td>0.750097</td>\n",
              "      <td>0.792174</td>\n",
              "      <td>0.707425</td>\n",
              "    </tr>\n",
              "    <tr>\n",
              "      <th>2018-12-28 03:59:59.983</th>\n",
              "      <td>0.403708</td>\n",
              "      <td>0.413988</td>\n",
              "      <td>0.197694</td>\n",
              "      <td>0.0</td>\n",
              "      <td>0.750097</td>\n",
              "      <td>0.792174</td>\n",
              "      <td>0.707425</td>\n",
              "    </tr>\n",
              "    <tr>\n",
              "      <th>...</th>\n",
              "      <td>...</td>\n",
              "      <td>...</td>\n",
              "      <td>...</td>\n",
              "      <td>...</td>\n",
              "      <td>...</td>\n",
              "      <td>...</td>\n",
              "      <td>...</td>\n",
              "    </tr>\n",
              "    <tr>\n",
              "      <th>2020-12-31 18:59:59.980</th>\n",
              "      <td>0.456646</td>\n",
              "      <td>0.417945</td>\n",
              "      <td>0.164971</td>\n",
              "      <td>0.0</td>\n",
              "      <td>0.606685</td>\n",
              "      <td>0.408538</td>\n",
              "      <td>0.976158</td>\n",
              "    </tr>\n",
              "    <tr>\n",
              "      <th>2020-12-31 19:59:59.980</th>\n",
              "      <td>0.422256</td>\n",
              "      <td>0.381557</td>\n",
              "      <td>0.152247</td>\n",
              "      <td>0.0</td>\n",
              "      <td>0.606685</td>\n",
              "      <td>0.408538</td>\n",
              "      <td>0.976158</td>\n",
              "    </tr>\n",
              "    <tr>\n",
              "      <th>2020-12-31 20:59:59.980</th>\n",
              "      <td>0.422256</td>\n",
              "      <td>0.381850</td>\n",
              "      <td>0.140439</td>\n",
              "      <td>0.0</td>\n",
              "      <td>0.606685</td>\n",
              "      <td>0.408538</td>\n",
              "      <td>0.976158</td>\n",
              "    </tr>\n",
              "    <tr>\n",
              "      <th>2020-12-31 21:59:59.980</th>\n",
              "      <td>0.422256</td>\n",
              "      <td>0.350179</td>\n",
              "      <td>0.129622</td>\n",
              "      <td>0.0</td>\n",
              "      <td>0.606685</td>\n",
              "      <td>0.408538</td>\n",
              "      <td>0.976158</td>\n",
              "    </tr>\n",
              "    <tr>\n",
              "      <th>2020-12-31 22:59:59.980</th>\n",
              "      <td>0.405779</td>\n",
              "      <td>0.294583</td>\n",
              "      <td>0.092077</td>\n",
              "      <td>0.0</td>\n",
              "      <td>0.606685</td>\n",
              "      <td>0.411908</td>\n",
              "      <td>0.976158</td>\n",
              "    </tr>\n",
              "  </tbody>\n",
              "</table>\n",
              "<p>17640 rows × 7 columns</p>\n",
              "</div>\n",
              "      <button class=\"colab-df-convert\" onclick=\"convertToInteractive('df-a7000615-8cba-40d2-96c3-a5ab6c7e5e57')\"\n",
              "              title=\"Convert this dataframe to an interactive table.\"\n",
              "              style=\"display:none;\">\n",
              "        \n",
              "  <svg xmlns=\"http://www.w3.org/2000/svg\" height=\"24px\"viewBox=\"0 0 24 24\"\n",
              "       width=\"24px\">\n",
              "    <path d=\"M0 0h24v24H0V0z\" fill=\"none\"/>\n",
              "    <path d=\"M18.56 5.44l.94 2.06.94-2.06 2.06-.94-2.06-.94-.94-2.06-.94 2.06-2.06.94zm-11 1L8.5 8.5l.94-2.06 2.06-.94-2.06-.94L8.5 2.5l-.94 2.06-2.06.94zm10 10l.94 2.06.94-2.06 2.06-.94-2.06-.94-.94-2.06-.94 2.06-2.06.94z\"/><path d=\"M17.41 7.96l-1.37-1.37c-.4-.4-.92-.59-1.43-.59-.52 0-1.04.2-1.43.59L10.3 9.45l-7.72 7.72c-.78.78-.78 2.05 0 2.83L4 21.41c.39.39.9.59 1.41.59.51 0 1.02-.2 1.41-.59l7.78-7.78 2.81-2.81c.8-.78.8-2.07 0-2.86zM5.41 20L4 18.59l7.72-7.72 1.47 1.35L5.41 20z\"/>\n",
              "  </svg>\n",
              "      </button>\n",
              "      \n",
              "  <style>\n",
              "    .colab-df-container {\n",
              "      display:flex;\n",
              "      flex-wrap:wrap;\n",
              "      gap: 12px;\n",
              "    }\n",
              "\n",
              "    .colab-df-convert {\n",
              "      background-color: #E8F0FE;\n",
              "      border: none;\n",
              "      border-radius: 50%;\n",
              "      cursor: pointer;\n",
              "      display: none;\n",
              "      fill: #1967D2;\n",
              "      height: 32px;\n",
              "      padding: 0 0 0 0;\n",
              "      width: 32px;\n",
              "    }\n",
              "\n",
              "    .colab-df-convert:hover {\n",
              "      background-color: #E2EBFA;\n",
              "      box-shadow: 0px 1px 2px rgba(60, 64, 67, 0.3), 0px 1px 3px 1px rgba(60, 64, 67, 0.15);\n",
              "      fill: #174EA6;\n",
              "    }\n",
              "\n",
              "    [theme=dark] .colab-df-convert {\n",
              "      background-color: #3B4455;\n",
              "      fill: #D2E3FC;\n",
              "    }\n",
              "\n",
              "    [theme=dark] .colab-df-convert:hover {\n",
              "      background-color: #434B5C;\n",
              "      box-shadow: 0px 1px 3px 1px rgba(0, 0, 0, 0.15);\n",
              "      filter: drop-shadow(0px 1px 2px rgba(0, 0, 0, 0.3));\n",
              "      fill: #FFFFFF;\n",
              "    }\n",
              "  </style>\n",
              "\n",
              "      <script>\n",
              "        const buttonEl =\n",
              "          document.querySelector('#df-a7000615-8cba-40d2-96c3-a5ab6c7e5e57 button.colab-df-convert');\n",
              "        buttonEl.style.display =\n",
              "          google.colab.kernel.accessAllowed ? 'block' : 'none';\n",
              "\n",
              "        async function convertToInteractive(key) {\n",
              "          const element = document.querySelector('#df-a7000615-8cba-40d2-96c3-a5ab6c7e5e57');\n",
              "          const dataTable =\n",
              "            await google.colab.kernel.invokeFunction('convertToInteractive',\n",
              "                                                     [key], {});\n",
              "          if (!dataTable) return;\n",
              "\n",
              "          const docLinkHtml = 'Like what you see? Visit the ' +\n",
              "            '<a target=\"_blank\" href=https://colab.research.google.com/notebooks/data_table.ipynb>data table notebook</a>'\n",
              "            + ' to learn more about interactive tables.';\n",
              "          element.innerHTML = '';\n",
              "          dataTable['output_type'] = 'display_data';\n",
              "          await google.colab.output.renderOutput(dataTable, element);\n",
              "          const docLink = document.createElement('div');\n",
              "          docLink.innerHTML = docLinkHtml;\n",
              "          element.appendChild(docLink);\n",
              "        }\n",
              "      </script>\n",
              "    </div>\n",
              "  </div>\n",
              "  "
            ]
          },
          "metadata": {},
          "execution_count": 101
        }
      ],
      "source": [
        "test_X"
      ]
    },
    {
      "cell_type": "code",
      "execution_count": null,
      "metadata": {
        "colab": {
          "base_uri": "https://localhost:8080/",
          "height": 296
        },
        "id": "E6GwZbDhDeMg",
        "outputId": "3abefae1-c111-407f-a2d3-8d62ebadb1be"
      },
      "outputs": [
        {
          "output_type": "display_data",
          "data": {
            "text/plain": [
              "<Figure size 432x288 with 4 Axes>"
            ],
            "image/png": "[encoded data removed]"
          },
          "metadata": {
            "needs_background": "light"
          }
        }
      ],
      "source": [
        "import statsmodels.api as sm\n",
        "seas_d=sm.tsa.seasonal_decompose(y['price day ahead real'], model='add', extrapolate_trend='freq', period=365);\n",
        "fig=seas_d.plot()\n",
        "fig.set_figheight(4)\n",
        "plt.show()"
      ]
    },
    {
      "cell_type": "code",
      "execution_count": null,
      "metadata": {
        "id": "jBqH44rnEDcK"
      },
      "outputs": [],
      "source": [
        "from statsmodels.tsa.stattools import adfuller\n",
        "def test_adf(series, title=''):\n",
        "    dfout={}\n",
        "    dftest=sm.tsa.adfuller(series.dropna(), autolag='AIC', regression='ct')\n",
        "    for key,val in dftest[4].items():\n",
        "        dfout[f'critical value ({key})']=val\n",
        "    if dftest[1]<=0.05:\n",
        "        print(\"Strong evidence against Null Hypothesis\")\n",
        "        print(\"Reject Null Hypothesis - Data is Stationary\")\n",
        "        print(\"Data is Stationary\", title)\n",
        "    else:\n",
        "        print(\"Strong evidence for  Null Hypothesis\")\n",
        "        print(\"Accept Null Hypothesis - Data is not Stationary\")\n",
        "        print(\"Data is NOT Stationary for\", title)"
      ]
    },
    {
      "cell_type": "code",
      "execution_count": null,
      "metadata": {
        "colab": {
          "base_uri": "https://localhost:8080/"
        },
        "id": "ENAPbdeeCD7V",
        "outputId": "572e7074-c9d1-424b-e260-cc3c15189007"
      },
      "outputs": [
        {
          "output_type": "stream",
          "name": "stdout",
          "text": [
            "Strong evidence against Null Hypothesis\n",
            "Reject Null Hypothesis - Data is Stationary\n",
            "Data is Stationary \n"
          ]
        }
      ],
      "source": [
        "y_train=y['price day ahead real'][:train_size].dropna()\n",
        "test_adf(y_train)"
      ]
    },
    {
      "cell_type": "code",
      "execution_count": null,
      "metadata": {
        "colab": {
          "base_uri": "https://localhost:8080/"
        },
        "id": "V2oKCbqGPCeK",
        "outputId": "01458223-d814-4e9e-f509-c70293ce9c91"
      },
      "outputs": [
        {
          "output_type": "stream",
          "name": "stdout",
          "text": [
            "Strong evidence against Null Hypothesis\n",
            "Reject Null Hypothesis - Data is Stationary\n",
            "Data is Stationary \n"
          ]
        }
      ],
      "source": [
        "y_test=y['price day ahead real'][:train_size].dropna()\n",
        "test_adf(y_test)"
      ]
    },
    {
      "cell_type": "code",
      "execution_count": null,
      "metadata": {
        "colab": {
          "base_uri": "https://localhost:8080/",
          "height": 335
        },
        "id": "06btkoX4Ca8Q",
        "outputId": "26e9bddb-1ff6-4cf7-f4cb-5a8a7260ad5b"
      },
      "outputs": [
        {
          "output_type": "display_data",
          "data": {
            "text/plain": [
              "<Figure size 720x360 with 2 Axes>"
            ],
            "image/png": "[encoded data removed]"
          },
          "metadata": {
            "needs_background": "light"
          }
        }
      ],
      "source": [
        "fig,ax= plt.subplots(2,1, figsize=(10,5))\n",
        "fig=sm.tsa.graphics.plot_acf(y_test, lags=50, ax=ax[0])\n",
        "fig=sm.tsa.graphics.plot_pacf(y_test, lags=50, ax=ax[1])\n",
        "plt.show()"
      ]
    },
    {
      "cell_type": "code",
      "execution_count": null,
      "metadata": {
        "colab": {
          "base_uri": "https://localhost:8080/"
        },
        "id": "-hDXrbUaEjgU",
        "outputId": "764d5f79-fb26-4605-b632-1bb3e9443b54"
      },
      "outputs": [
        {
          "output_type": "stream",
          "name": "stdout",
          "text": [
            "Looking in indexes: https://pypi.org/simple, https://us-python.pkg.dev/colab-wheels/public/simple/\n",
            "Requirement already satisfied: pmdarima in /usr/local/lib/python3.7/dist-packages (2.0.1)\n",
            "Requirement already satisfied: numpy>=1.21 in /usr/local/lib/python3.7/dist-packages (from pmdarima) (1.21.6)\n",
            "Requirement already satisfied: scikit-learn>=0.22 in /usr/local/lib/python3.7/dist-packages (from pmdarima) (1.0.2)\n",
            "Requirement already satisfied: pandas>=0.19 in /usr/local/lib/python3.7/dist-packages (from pmdarima) (1.3.5)\n",
            "Requirement already satisfied: joblib>=0.11 in /usr/local/lib/python3.7/dist-packages (from pmdarima) (1.1.0)\n",
            "Requirement already satisfied: setuptools!=50.0.0,>=38.6.0 in /usr/local/lib/python3.7/dist-packages (from pmdarima) (57.4.0)\n",
            "Requirement already satisfied: urllib3 in /usr/local/lib/python3.7/dist-packages (from pmdarima) (1.24.3)\n",
            "Requirement already satisfied: scipy>=1.3.2 in /usr/local/lib/python3.7/dist-packages (from pmdarima) (1.7.3)\n",
            "Requirement already satisfied: statsmodels>=0.13.2 in /usr/local/lib/python3.7/dist-packages (from pmdarima) (0.13.2)\n",
            "Requirement already satisfied: Cython!=0.29.18,!=0.29.31,>=0.29 in /usr/local/lib/python3.7/dist-packages (from pmdarima) (0.29.32)\n",
            "Requirement already satisfied: python-dateutil>=2.7.3 in /usr/local/lib/python3.7/dist-packages (from pandas>=0.19->pmdarima) (2.8.2)\n",
            "Requirement already satisfied: pytz>=2017.3 in /usr/local/lib/python3.7/dist-packages (from pandas>=0.19->pmdarima) (2022.2.1)\n",
            "Requirement already satisfied: six>=1.5 in /usr/local/lib/python3.7/dist-packages (from python-dateutil>=2.7.3->pandas>=0.19->pmdarima) (1.15.0)\n",
            "Requirement already satisfied: threadpoolctl>=2.0.0 in /usr/local/lib/python3.7/dist-packages (from scikit-learn>=0.22->pmdarima) (3.1.0)\n",
            "Requirement already satisfied: patsy>=0.5.2 in /usr/local/lib/python3.7/dist-packages (from statsmodels>=0.13.2->pmdarima) (0.5.2)\n",
            "Requirement already satisfied: packaging>=21.3 in /usr/local/lib/python3.7/dist-packages (from statsmodels>=0.13.2->pmdarima) (21.3)\n",
            "Requirement already satisfied: pyparsing!=3.0.5,>=2.0.2 in /usr/local/lib/python3.7/dist-packages (from packaging>=21.3->statsmodels>=0.13.2->pmdarima) (3.0.9)\n"
          ]
        }
      ],
      "source": [
        "!pip install pmdarima"
      ]
    },
    {
      "cell_type": "code",
      "execution_count": null,
      "metadata": {
        "colab": {
          "base_uri": "https://localhost:8080/"
        },
        "id": "SzED3iT9EOA7",
        "outputId": "a0f18817-0de1-4305-bb9c-8e6f807e7a88"
      },
      "outputs": [
        {
          "output_type": "stream",
          "name": "stdout",
          "text": [
            "Performing stepwise search to minimize aic\n",
            " ARIMA(1,1,1)(0,0,0)[0] intercept   : AIC=-198115.747, Time=13.54 sec\n",
            " ARIMA(0,1,0)(0,0,0)[0] intercept   : AIC=-192905.505, Time=5.64 sec\n",
            " ARIMA(1,1,0)(0,0,0)[0] intercept   : AIC=-198110.167, Time=5.26 sec\n",
            " ARIMA(0,1,1)(0,0,0)[0] intercept   : AIC=-197372.665, Time=6.94 sec\n",
            " ARIMA(0,1,0)(0,0,0)[0]             : AIC=-192907.504, Time=0.97 sec\n",
            " ARIMA(2,1,1)(0,0,0)[0] intercept   : AIC=-198106.919, Time=25.11 sec\n",
            " ARIMA(1,1,2)(0,0,0)[0] intercept   : AIC=-198194.451, Time=32.70 sec\n",
            " ARIMA(0,1,2)(0,0,0)[0] intercept   : AIC=-198417.066, Time=19.19 sec\n",
            " ARIMA(0,1,3)(0,0,0)[0] intercept   : AIC=-198418.314, Time=20.64 sec\n",
            " ARIMA(1,1,3)(0,0,0)[0] intercept   : AIC=-198414.769, Time=42.12 sec\n",
            " ARIMA(0,1,4)(0,0,0)[0] intercept   : AIC=-198522.444, Time=35.60 sec\n",
            " ARIMA(1,1,4)(0,0,0)[0] intercept   : AIC=inf, Time=45.91 sec\n",
            " ARIMA(0,1,5)(0,0,0)[0] intercept   : AIC=-199681.766, Time=50.04 sec\n",
            " ARIMA(1,1,5)(0,0,0)[0] intercept   : AIC=-201140.491, Time=22.10 sec\n",
            " ARIMA(2,1,5)(0,0,0)[0] intercept   : AIC=-201325.603, Time=63.99 sec\n",
            " ARIMA(2,1,4)(0,0,0)[0] intercept   : AIC=-201241.018, Time=52.14 sec\n",
            " ARIMA(3,1,5)(0,0,0)[0] intercept   : AIC=-201280.832, Time=85.13 sec\n",
            " ARIMA(2,1,6)(0,0,0)[0] intercept   : AIC=-200863.695, Time=31.71 sec\n",
            " ARIMA(1,1,6)(0,0,0)[0] intercept   : AIC=-201218.531, Time=27.45 sec\n",
            " ARIMA(3,1,4)(0,0,0)[0] intercept   : AIC=-200963.642, Time=21.42 sec\n",
            " ARIMA(3,1,6)(0,0,0)[0] intercept   : AIC=-201606.285, Time=62.79 sec\n",
            " ARIMA(4,1,6)(0,0,0)[0] intercept   : AIC=-201565.484, Time=91.26 sec\n",
            " ARIMA(3,1,7)(0,0,0)[0] intercept   : AIC=-201737.116, Time=105.92 sec\n",
            " ARIMA(2,1,7)(0,0,0)[0] intercept   : AIC=-201434.796, Time=68.32 sec\n",
            " ARIMA(4,1,7)(0,0,0)[0] intercept   : AIC=-201759.730, Time=114.98 sec\n",
            " ARIMA(5,1,7)(0,0,0)[0] intercept   : AIC=-201760.105, Time=169.76 sec\n",
            " ARIMA(5,1,6)(0,0,0)[0] intercept   : AIC=-201296.547, Time=96.74 sec\n",
            " ARIMA(6,1,7)(0,0,0)[0] intercept   : AIC=-202049.544, Time=127.70 sec\n",
            " ARIMA(6,1,6)(0,0,0)[0] intercept   : AIC=-201961.066, Time=104.91 sec\n",
            " ARIMA(7,1,7)(0,0,0)[0] intercept   : AIC=-201623.189, Time=127.35 sec\n",
            " ARIMA(7,1,6)(0,0,0)[0] intercept   : AIC=-202851.902, Time=113.76 sec\n",
            " ARIMA(7,1,5)(0,0,0)[0] intercept   : AIC=-202577.964, Time=104.38 sec\n",
            " ARIMA(6,1,5)(0,0,0)[0] intercept   : AIC=-199737.213, Time=100.75 sec\n",
            " ARIMA(7,1,6)(0,0,0)[0]             : AIC=inf, Time=55.64 sec\n",
            "\n",
            "Best model:  ARIMA(7,1,6)(0,0,0)[0] intercept\n",
            "Total fit time: 2051.916 seconds\n"
          ]
        }
      ],
      "source": [
        "from pmdarima.arima import auto_arima\n",
        "step_wise=auto_arima(train_y, \n",
        " exogenous= train_X,\n",
        " start_p=1, start_q=1, \n",
        " max_p=7, max_q=7, \n",
        " d=1, max_d=7,\n",
        " trace=True, \n",
        " error_action='ignore', \n",
        " suppress_warnings=True, \n",
        " stepwise=True)"
      ]
    },
    {
      "cell_type": "markdown",
      "metadata": {
        "id": "IUntalI4ZUIp"
      },
      "source": []
    },
    {
      "cell_type": "code",
      "execution_count": null,
      "metadata": {
        "colab": {
          "base_uri": "https://localhost:8080/",
          "height": 657
        },
        "id": "fe5UJs5rCQwr",
        "outputId": "cb6e4125-f7b6-429c-9855-42ea71e84ec9"
      },
      "outputs": [
        {
          "output_type": "execute_result",
          "data": {
            "text/plain": [
              "<class 'statsmodels.iolib.summary.Summary'>\n",
              "\"\"\"\n",
              "                               SARIMAX Results                                \n",
              "==============================================================================\n",
              "Dep. Variable:                      y   No. Observations:                34968\n",
              "Model:               SARIMAX(7, 1, 6)   Log Likelihood              101440.951\n",
              "Date:                Thu, 08 Sep 2022   AIC                        -202851.902\n",
              "Time:                        18:16:16   BIC                        -202724.969\n",
              "Sample:                             0   HQIC                       -202811.469\n",
              "                              - 34968                                         \n",
              "Covariance Type:                  opg                                         \n",
              "==============================================================================\n",
              "                 coef    std err          z      P>|z|      [0.025      0.975]\n",
              "------------------------------------------------------------------------------\n",
              "intercept  -3.687e-06   1.66e-05     -0.222      0.825   -3.63e-05    2.89e-05\n",
              "ar.L1          1.1188      0.659      1.699      0.089      -0.172       2.410\n",
              "ar.L2         -0.2586      1.007     -0.257      0.797      -2.233       1.716\n",
              "ar.L3          0.4293      0.578      0.743      0.457      -0.703       1.561\n",
              "ar.L4         -1.1483      0.518     -2.218      0.027      -2.163      -0.134\n",
              "ar.L5          0.4196      0.968      0.434      0.665      -1.477       2.316\n",
              "ar.L6          0.1697      0.669      0.254      0.800      -1.141       1.481\n",
              "ar.L7         -0.1043      0.160     -0.653      0.514      -0.417       0.209\n",
              "ma.L1         -0.8934      0.659     -1.357      0.175      -2.184       0.397\n",
              "ma.L2         -0.0250      0.860     -0.029      0.977      -1.710       1.660\n",
              "ma.L3         -0.4491      0.330     -1.362      0.173      -1.095       0.197\n",
              "ma.L4          1.0595      0.427      2.479      0.013       0.222       1.897\n",
              "ma.L5         -0.1810      0.872     -0.208      0.836      -1.890       1.528\n",
              "ma.L6         -0.2886      0.473     -0.610      0.542      -1.215       0.638\n",
              "sigma2         0.0002   4.12e-07    429.115      0.000       0.000       0.000\n",
              "===================================================================================\n",
              "Ljung-Box (L1) (Q):                  32.27   Jarque-Bera (JB):           1450994.29\n",
              "Prob(Q):                              0.00   Prob(JB):                         0.00\n",
              "Heteroskedasticity (H):               1.58   Skew:                             0.24\n",
              "Prob(H) (two-sided):                  0.00   Kurtosis:                        34.55\n",
              "===================================================================================\n",
              "\n",
              "Warnings:\n",
              "[1] Covariance matrix calculated using the outer product of gradients (complex-step).\n",
              "\"\"\""
            ],
            "text/html": [
              "<table class=\"simpletable\">\n",
              "<caption>SARIMAX Results</caption>\n",
              "<tr>\n",
              "  <th>Dep. Variable:</th>           <td>y</td>        <th>  No. Observations:  </th>    <td>34968</td>   \n",
              "</tr>\n",
              "<tr>\n",
              "  <th>Model:</th>           <td>SARIMAX(7, 1, 6)</td> <th>  Log Likelihood     </th> <td>101440.951</td> \n",
              "</tr>\n",
              "<tr>\n",
              "  <th>Date:</th>            <td>Thu, 08 Sep 2022</td> <th>  AIC                </th> <td>-202851.902</td>\n",
              "</tr>\n",
              "<tr>\n",
              "  <th>Time:</th>                <td>18:16:16</td>     <th>  BIC                </th> <td>-202724.969</td>\n",
              "</tr>\n",
              "<tr>\n",
              "  <th>Sample:</th>                  <td>0</td>        <th>  HQIC               </th> <td>-202811.469</td>\n",
              "</tr>\n",
              "<tr>\n",
              "  <th></th>                     <td> - 34968</td>     <th>                     </th>      <td> </td>     \n",
              "</tr>\n",
              "<tr>\n",
              "  <th>Covariance Type:</th>        <td>opg</td>       <th>                     </th>      <td> </td>     \n",
              "</tr>\n",
              "</table>\n",
              "<table class=\"simpletable\">\n",
              "<tr>\n",
              "      <td></td>         <th>coef</th>     <th>std err</th>      <th>z</th>      <th>P>|z|</th>  <th>[0.025</th>    <th>0.975]</th>  \n",
              "</tr>\n",
              "<tr>\n",
              "  <th>intercept</th> <td>-3.687e-06</td> <td> 1.66e-05</td> <td>   -0.222</td> <td> 0.825</td> <td>-3.63e-05</td> <td> 2.89e-05</td>\n",
              "</tr>\n",
              "<tr>\n",
              "  <th>ar.L1</th>     <td>    1.1188</td> <td>    0.659</td> <td>    1.699</td> <td> 0.089</td> <td>   -0.172</td> <td>    2.410</td>\n",
              "</tr>\n",
              "<tr>\n",
              "  <th>ar.L2</th>     <td>   -0.2586</td> <td>    1.007</td> <td>   -0.257</td> <td> 0.797</td> <td>   -2.233</td> <td>    1.716</td>\n",
              "</tr>\n",
              "<tr>\n",
              "  <th>ar.L3</th>     <td>    0.4293</td> <td>    0.578</td> <td>    0.743</td> <td> 0.457</td> <td>   -0.703</td> <td>    1.561</td>\n",
              "</tr>\n",
              "<tr>\n",
              "  <th>ar.L4</th>     <td>   -1.1483</td> <td>    0.518</td> <td>   -2.218</td> <td> 0.027</td> <td>   -2.163</td> <td>   -0.134</td>\n",
              "</tr>\n",
              "<tr>\n",
              "  <th>ar.L5</th>     <td>    0.4196</td> <td>    0.968</td> <td>    0.434</td> <td> 0.665</td> <td>   -1.477</td> <td>    2.316</td>\n",
              "</tr>\n",
              "<tr>\n",
              "  <th>ar.L6</th>     <td>    0.1697</td> <td>    0.669</td> <td>    0.254</td> <td> 0.800</td> <td>   -1.141</td> <td>    1.481</td>\n",
              "</tr>\n",
              "<tr>\n",
              "  <th>ar.L7</th>     <td>   -0.1043</td> <td>    0.160</td> <td>   -0.653</td> <td> 0.514</td> <td>   -0.417</td> <td>    0.209</td>\n",
              "</tr>\n",
              "<tr>\n",
              "  <th>ma.L1</th>     <td>   -0.8934</td> <td>    0.659</td> <td>   -1.357</td> <td> 0.175</td> <td>   -2.184</td> <td>    0.397</td>\n",
              "</tr>\n",
              "<tr>\n",
              "  <th>ma.L2</th>     <td>   -0.0250</td> <td>    0.860</td> <td>   -0.029</td> <td> 0.977</td> <td>   -1.710</td> <td>    1.660</td>\n",
              "</tr>\n",
              "<tr>\n",
              "  <th>ma.L3</th>     <td>   -0.4491</td> <td>    0.330</td> <td>   -1.362</td> <td> 0.173</td> <td>   -1.095</td> <td>    0.197</td>\n",
              "</tr>\n",
              "<tr>\n",
              "  <th>ma.L4</th>     <td>    1.0595</td> <td>    0.427</td> <td>    2.479</td> <td> 0.013</td> <td>    0.222</td> <td>    1.897</td>\n",
              "</tr>\n",
              "<tr>\n",
              "  <th>ma.L5</th>     <td>   -0.1810</td> <td>    0.872</td> <td>   -0.208</td> <td> 0.836</td> <td>   -1.890</td> <td>    1.528</td>\n",
              "</tr>\n",
              "<tr>\n",
              "  <th>ma.L6</th>     <td>   -0.2886</td> <td>    0.473</td> <td>   -0.610</td> <td> 0.542</td> <td>   -1.215</td> <td>    0.638</td>\n",
              "</tr>\n",
              "<tr>\n",
              "  <th>sigma2</th>    <td>    0.0002</td> <td> 4.12e-07</td> <td>  429.115</td> <td> 0.000</td> <td>    0.000</td> <td>    0.000</td>\n",
              "</tr>\n",
              "</table>\n",
              "<table class=\"simpletable\">\n",
              "<tr>\n",
              "  <th>Ljung-Box (L1) (Q):</th>     <td>32.27</td> <th>  Jarque-Bera (JB):  </th> <td>1450994.29</td>\n",
              "</tr>\n",
              "<tr>\n",
              "  <th>Prob(Q):</th>                <td>0.00</td>  <th>  Prob(JB):          </th>    <td>0.00</td>   \n",
              "</tr>\n",
              "<tr>\n",
              "  <th>Heteroskedasticity (H):</th> <td>1.58</td>  <th>  Skew:              </th>    <td>0.24</td>   \n",
              "</tr>\n",
              "<tr>\n",
              "  <th>Prob(H) (two-sided):</th>    <td>0.00</td>  <th>  Kurtosis:          </th>    <td>34.55</td>  \n",
              "</tr>\n",
              "</table><br/><br/>Warnings:<br/>[1] Covariance matrix calculated using the outer product of gradients (complex-step)."
            ]
          },
          "metadata": {},
          "execution_count": 113
        }
      ],
      "source": [
        "step_wise.summary()"
      ]
    },
    {
      "cell_type": "markdown",
      "metadata": {
        "id": "sEL471hcCg5q"
      },
      "source": [
        "# SARIMAX"
      ]
    },
    {
      "cell_type": "code",
      "execution_count": null,
      "metadata": {
        "colab": {
          "base_uri": "https://localhost:8080/"
        },
        "id": "t21GVNaGCY3S",
        "outputId": "2381202f-e7ba-4eda-f9f2-6681d8b44f66"
      },
      "outputs": [
        {
          "output_type": "stream",
          "name": "stderr",
          "text": [
            "/usr/local/lib/python3.7/dist-packages/statsmodels/tsa/base/tsa_model.py:583: ValueWarning: A date index has been provided, but it has no associated frequency information and so will be ignored when e.g. forecasting.\n",
            "  warnings.warn(\n",
            "/usr/local/lib/python3.7/dist-packages/statsmodels/tsa/base/tsa_model.py:583: ValueWarning: A date index has been provided, but it has no associated frequency information and so will be ignored when e.g. forecasting.\n",
            "  warnings.warn(\n"
          ]
        }
      ],
      "source": [
        "from statsmodels.tsa.statespace.sarimax import SARIMAX\n",
        "model= SARIMAX(train_y, \n",
        " exog=train_X,\n",
        " order=(7,1,6),\n",
        " enforce_invertibility=False, enforce_stationarity=False)"
      ]
    },
    {
      "cell_type": "code",
      "execution_count": null,
      "metadata": {
        "colab": {
          "base_uri": "https://localhost:8080/"
        },
        "id": "nThd1dUxCoDZ",
        "outputId": "0d47827b-1257-4b77-e539-b10e55b3758a"
      },
      "outputs": [
        {
          "output_type": "stream",
          "name": "stderr",
          "text": [
            "/usr/local/lib/python3.7/dist-packages/statsmodels/base/model.py:568: ConvergenceWarning: Maximum Likelihood optimization failed to converge. Check mle_retvals\n",
            "  maxiter=maxiter,\n"
          ]
        }
      ],
      "source": [
        "results= model.fit()"
      ]
    },
    {
      "cell_type": "code",
      "execution_count": null,
      "metadata": {
        "colab": {
          "base_uri": "https://localhost:8080/"
        },
        "id": "h1nAum2Iar9F",
        "outputId": "9891a67c-fdc2-48fb-c8ae-a1d054978bb6"
      },
      "outputs": [
        {
          "output_type": "stream",
          "name": "stdout",
          "text": [
            "====================================================================================\n",
            "                       coef    std err          z      P>|z|      [0.025      0.975]\n",
            "------------------------------------------------------------------------------------\n",
            "Estimated price      0.0889      0.001     78.203      0.000       0.087       0.091\n",
            "Demand DE            0.1593      0.001    154.255      0.000       0.157       0.161\n",
            "Wind                -0.1463      0.002    -78.281      0.000      -0.150      -0.143\n",
            "PV                  -0.0940      0.001    -79.822      0.000      -0.096      -0.092\n",
            "Gas                 -0.0109      0.019     -0.575      0.565      -0.048       0.026\n",
            "Coal                -0.0179      0.014     -1.295      0.195      -0.045       0.009\n",
            "CO2                  0.0335      0.027      1.230      0.219      -0.020       0.087\n",
            "ar.L1               -0.2563      0.541     -0.473      0.636      -1.317       0.805\n",
            "ar.L2               -0.2232      0.180     -1.242      0.214      -0.575       0.129\n",
            "ar.L3                0.0324      0.239      0.136      0.892      -0.436       0.501\n",
            "ar.L4                0.0247      0.177      0.140      0.889      -0.321       0.371\n",
            "ar.L5                0.1175      0.133      0.885      0.376      -0.143       0.378\n",
            "ar.L6                0.1571      0.175      0.897      0.370      -0.186       0.500\n",
            "ar.L7               -0.0233      0.028     -0.823      0.411      -0.079       0.032\n",
            "ma.L1                0.1729      0.541      0.320      0.749      -0.887       1.233\n",
            "ma.L2                0.0874      0.221      0.395      0.693      -0.346       0.521\n",
            "ma.L3               -0.2455      0.195     -1.260      0.208      -0.627       0.136\n",
            "ma.L4               -0.2427      0.260     -0.933      0.351      -0.753       0.267\n",
            "ma.L5               -0.3012      0.091     -3.324      0.001      -0.479      -0.124\n",
            "ma.L6               -0.2740      0.240     -1.143      0.253      -0.744       0.196\n",
            "sigma2               0.0001   2.18e-07    477.001      0.000       0.000       0.000\n",
            "====================================================================================\n"
          ]
        }
      ],
      "source": [
        "print(results.summary().tables[1])"
      ]
    },
    {
      "cell_type": "code",
      "execution_count": null,
      "metadata": {
        "colab": {
          "base_uri": "https://localhost:8080/"
        },
        "id": "CdTwquv0Eb8p",
        "outputId": "d86d9cd4-d7f6-4c7d-c26c-66a3db733a05"
      },
      "outputs": [
        {
          "output_type": "stream",
          "name": "stderr",
          "text": [
            "/usr/local/lib/python3.7/dist-packages/statsmodels/tsa/base/tsa_model.py:379: ValueWarning: No supported index is available. Prediction results will be given with an integer index beginning at `start`.\n",
            "  if isinstance(end, slice):\n"
          ]
        }
      ],
      "source": [
        "predictions= results.predict(start =train_size, end=train_size+test_size-1,exog=test_X)"
      ]
    },
    {
      "cell_type": "code",
      "execution_count": null,
      "metadata": {
        "colab": {
          "base_uri": "https://localhost:8080/"
        },
        "id": "2sUmpKQZEn35",
        "outputId": "5e44a391-983b-4c70-ce3a-86b8322b0998"
      },
      "outputs": [
        {
          "output_type": "stream",
          "name": "stderr",
          "text": [
            "/usr/local/lib/python3.7/dist-packages/statsmodels/tsa/base/tsa_model.py:379: ValueWarning: No supported index is available. Prediction results will be given with an integer index beginning at `start`.\n",
            "  if isinstance(end, slice):\n"
          ]
        }
      ],
      "source": [
        "forecast_1= results.forecast(steps=test_size, exog=test_X)"
      ]
    },
    {
      "cell_type": "code",
      "execution_count": null,
      "metadata": {
        "id": "vbpp6Eg9FBxC"
      },
      "outputs": [],
      "source": [
        "act= pd.DataFrame(scaler_output.iloc[train_size:, 0])"
      ]
    },
    {
      "cell_type": "code",
      "execution_count": null,
      "metadata": {
        "id": "xz4KLZ15FFTV"
      },
      "outputs": [],
      "source": [
        "predictions=pd.DataFrame(predictions)\n",
        "predictions.reset_index(drop=True, inplace=True)\n",
        "predictions.index=test_X.index\n",
        "predictions['price day ahead real'] = act['price day ahead real']\n",
        "predictions.rename(columns={0:'Pred'}, inplace=True)"
      ]
    },
    {
      "cell_type": "code",
      "execution_count": null,
      "metadata": {
        "colab": {
          "base_uri": "https://localhost:8080/",
          "height": 442
        },
        "id": "6UWZx6UPGAAs",
        "outputId": "375e29b0-0239-4645-e9b7-30a177668e91"
      },
      "outputs": [
        {
          "output_type": "execute_result",
          "data": {
            "text/plain": [
              "                         predicted_mean  price day ahead real\n",
              "Date                                                         \n",
              "2018-12-27 23:59:59.983        0.540927              0.545512\n",
              "2018-12-28 00:59:59.983        0.536441              0.543059\n",
              "2018-12-28 01:59:59.983        0.537179              0.540999\n",
              "2018-12-28 02:59:59.983        0.542453              0.539666\n",
              "2018-12-28 03:59:59.983        0.553026              0.544967\n",
              "...                                 ...                   ...\n",
              "2020-12-31 18:59:59.980        0.580635              0.565807\n",
              "2020-12-31 19:59:59.980        0.573645              0.552903\n",
              "2020-12-31 20:59:59.980        0.575419              0.551147\n",
              "2020-12-31 21:59:59.980        0.571958              0.552358\n",
              "2020-12-31 22:59:59.980        0.567072              0.548148\n",
              "\n",
              "[17640 rows x 2 columns]"
            ],
            "text/html": [
              "\n",
              "  <div id=\"df-c151cfd8-9c09-4a6b-a08a-6d355dcbeebc\">\n",
              "    <div class=\"colab-df-container\">\n",
              "      <div>\n",
              "<style scoped>\n",
              "    .dataframe tbody tr th:only-of-type {\n",
              "        vertical-align: middle;\n",
              "    }\n",
              "\n",
              "    .dataframe tbody tr th {\n",
              "        vertical-align: top;\n",
              "    }\n",
              "\n",
              "    .dataframe thead th {\n",
              "        text-align: right;\n",
              "    }\n",
              "</style>\n",
              "<table border=\"1\" class=\"dataframe\">\n",
              "  <thead>\n",
              "    <tr style=\"text-align: right;\">\n",
              "      <th></th>\n",
              "      <th>predicted_mean</th>\n",
              "      <th>price day ahead real</th>\n",
              "    </tr>\n",
              "    <tr>\n",
              "      <th>Date</th>\n",
              "      <th></th>\n",
              "      <th></th>\n",
              "    </tr>\n",
              "  </thead>\n",
              "  <tbody>\n",
              "    <tr>\n",
              "      <th>2018-12-27 23:59:59.983</th>\n",
              "      <td>0.540927</td>\n",
              "      <td>0.545512</td>\n",
              "    </tr>\n",
              "    <tr>\n",
              "      <th>2018-12-28 00:59:59.983</th>\n",
              "      <td>0.536441</td>\n",
              "      <td>0.543059</td>\n",
              "    </tr>\n",
              "    <tr>\n",
              "      <th>2018-12-28 01:59:59.983</th>\n",
              "      <td>0.537179</td>\n",
              "      <td>0.540999</td>\n",
              "    </tr>\n",
              "    <tr>\n",
              "      <th>2018-12-28 02:59:59.983</th>\n",
              "      <td>0.542453</td>\n",
              "      <td>0.539666</td>\n",
              "    </tr>\n",
              "    <tr>\n",
              "      <th>2018-12-28 03:59:59.983</th>\n",
              "      <td>0.553026</td>\n",
              "      <td>0.544967</td>\n",
              "    </tr>\n",
              "    <tr>\n",
              "      <th>...</th>\n",
              "      <td>...</td>\n",
              "      <td>...</td>\n",
              "    </tr>\n",
              "    <tr>\n",
              "      <th>2020-12-31 18:59:59.980</th>\n",
              "      <td>0.580635</td>\n",
              "      <td>0.565807</td>\n",
              "    </tr>\n",
              "    <tr>\n",
              "      <th>2020-12-31 19:59:59.980</th>\n",
              "      <td>0.573645</td>\n",
              "      <td>0.552903</td>\n",
              "    </tr>\n",
              "    <tr>\n",
              "      <th>2020-12-31 20:59:59.980</th>\n",
              "      <td>0.575419</td>\n",
              "      <td>0.551147</td>\n",
              "    </tr>\n",
              "    <tr>\n",
              "      <th>2020-12-31 21:59:59.980</th>\n",
              "      <td>0.571958</td>\n",
              "      <td>0.552358</td>\n",
              "    </tr>\n",
              "    <tr>\n",
              "      <th>2020-12-31 22:59:59.980</th>\n",
              "      <td>0.567072</td>\n",
              "      <td>0.548148</td>\n",
              "    </tr>\n",
              "  </tbody>\n",
              "</table>\n",
              "<p>17640 rows × 2 columns</p>\n",
              "</div>\n",
              "      <button class=\"colab-df-convert\" onclick=\"convertToInteractive('df-c151cfd8-9c09-4a6b-a08a-6d355dcbeebc')\"\n",
              "              title=\"Convert this dataframe to an interactive table.\"\n",
              "              style=\"display:none;\">\n",
              "        \n",
              "  <svg xmlns=\"http://www.w3.org/2000/svg\" height=\"24px\"viewBox=\"0 0 24 24\"\n",
              "       width=\"24px\">\n",
              "    <path d=\"M0 0h24v24H0V0z\" fill=\"none\"/>\n",
              "    <path d=\"M18.56 5.44l.94 2.06.94-2.06 2.06-.94-2.06-.94-.94-2.06-.94 2.06-2.06.94zm-11 1L8.5 8.5l.94-2.06 2.06-.94-2.06-.94L8.5 2.5l-.94 2.06-2.06.94zm10 10l.94 2.06.94-2.06 2.06-.94-2.06-.94-.94-2.06-.94 2.06-2.06.94z\"/><path d=\"M17.41 7.96l-1.37-1.37c-.4-.4-.92-.59-1.43-.59-.52 0-1.04.2-1.43.59L10.3 9.45l-7.72 7.72c-.78.78-.78 2.05 0 2.83L4 21.41c.39.39.9.59 1.41.59.51 0 1.02-.2 1.41-.59l7.78-7.78 2.81-2.81c.8-.78.8-2.07 0-2.86zM5.41 20L4 18.59l7.72-7.72 1.47 1.35L5.41 20z\"/>\n",
              "  </svg>\n",
              "      </button>\n",
              "      \n",
              "  <style>\n",
              "    .colab-df-container {\n",
              "      display:flex;\n",
              "      flex-wrap:wrap;\n",
              "      gap: 12px;\n",
              "    }\n",
              "\n",
              "    .colab-df-convert {\n",
              "      background-color: #E8F0FE;\n",
              "      border: none;\n",
              "      border-radius: 50%;\n",
              "      cursor: pointer;\n",
              "      display: none;\n",
              "      fill: #1967D2;\n",
              "      height: 32px;\n",
              "      padding: 0 0 0 0;\n",
              "      width: 32px;\n",
              "    }\n",
              "\n",
              "    .colab-df-convert:hover {\n",
              "      background-color: #E2EBFA;\n",
              "      box-shadow: 0px 1px 2px rgba(60, 64, 67, 0.3), 0px 1px 3px 1px rgba(60, 64, 67, 0.15);\n",
              "      fill: #174EA6;\n",
              "    }\n",
              "\n",
              "    [theme=dark] .colab-df-convert {\n",
              "      background-color: #3B4455;\n",
              "      fill: #D2E3FC;\n",
              "    }\n",
              "\n",
              "    [theme=dark] .colab-df-convert:hover {\n",
              "      background-color: #434B5C;\n",
              "      box-shadow: 0px 1px 3px 1px rgba(0, 0, 0, 0.15);\n",
              "      filter: drop-shadow(0px 1px 2px rgba(0, 0, 0, 0.3));\n",
              "      fill: #FFFFFF;\n",
              "    }\n",
              "  </style>\n",
              "\n",
              "      <script>\n",
              "        const buttonEl =\n",
              "          document.querySelector('#df-c151cfd8-9c09-4a6b-a08a-6d355dcbeebc button.colab-df-convert');\n",
              "        buttonEl.style.display =\n",
              "          google.colab.kernel.accessAllowed ? 'block' : 'none';\n",
              "\n",
              "        async function convertToInteractive(key) {\n",
              "          const element = document.querySelector('#df-c151cfd8-9c09-4a6b-a08a-6d355dcbeebc');\n",
              "          const dataTable =\n",
              "            await google.colab.kernel.invokeFunction('convertToInteractive',\n",
              "                                                     [key], {});\n",
              "          if (!dataTable) return;\n",
              "\n",
              "          const docLinkHtml = 'Like what you see? Visit the ' +\n",
              "            '<a target=\"_blank\" href=https://colab.research.google.com/notebooks/data_table.ipynb>data table notebook</a>'\n",
              "            + ' to learn more about interactive tables.';\n",
              "          element.innerHTML = '';\n",
              "          dataTable['output_type'] = 'display_data';\n",
              "          await google.colab.output.renderOutput(dataTable, element);\n",
              "          const docLink = document.createElement('div');\n",
              "          docLink.innerHTML = docLinkHtml;\n",
              "          element.appendChild(docLink);\n",
              "        }\n",
              "      </script>\n",
              "    </div>\n",
              "  </div>\n",
              "  "
            ]
          },
          "metadata": {},
          "execution_count": 122
        }
      ],
      "source": [
        "predictions"
      ]
    },
    {
      "cell_type": "code",
      "execution_count": null,
      "metadata": {
        "colab": {
          "base_uri": "https://localhost:8080/"
        },
        "id": "CfqfD32pFr7X",
        "outputId": "d91acb4e-6ada-4d6f-98c8-a9650ab14b2c"
      },
      "outputs": [
        {
          "output_type": "execute_result",
          "data": {
            "text/plain": [
              "Date\n",
              "2018-12-27 23:59:59.983    0.545512\n",
              "2018-12-28 00:59:59.983    0.543059\n",
              "2018-12-28 01:59:59.983    0.540999\n",
              "2018-12-28 02:59:59.983    0.539666\n",
              "2018-12-28 03:59:59.983    0.544967\n",
              "                             ...   \n",
              "2020-12-31 18:59:59.980    0.565807\n",
              "2020-12-31 19:59:59.980    0.552903\n",
              "2020-12-31 20:59:59.980    0.551147\n",
              "2020-12-31 21:59:59.980    0.552358\n",
              "2020-12-31 22:59:59.980    0.548148\n",
              "Name: price day ahead real, Length: 17640, dtype: float64"
            ]
          },
          "metadata": {},
          "execution_count": 124
        }
      ],
      "source": [
        "act['price day ahead real']"
      ]
    },
    {
      "cell_type": "code",
      "execution_count": null,
      "metadata": {
        "colab": {
          "base_uri": "https://localhost:8080/",
          "height": 456
        },
        "id": "W9a_5SNjGSAO",
        "outputId": "3b2b4fea-3526-4c4e-f234-65c277956ce8"
      },
      "outputs": [
        {
          "output_type": "execute_result",
          "data": {
            "text/plain": [
              "<matplotlib.axes._subplots.AxesSubplot at 0x7f496658d390>"
            ]
          },
          "metadata": {},
          "execution_count": 126
        },
        {
          "output_type": "display_data",
          "data": {
            "text/plain": [
              "<Figure size 1440x576 with 1 Axes>"
            ],
            "image/png": "[encoded data removed]"
          },
          "metadata": {
            "needs_background": "light"
          }
        }
      ],
      "source": [
        "predictions['price day ahead real'].plot(figsize=(20,8), legend=True, color='blue')\n",
        "predictions['predicted_mean'].plot(legend=True, color='red', figsize=(20,8))"
      ]
    },
    {
      "cell_type": "code",
      "execution_count": null,
      "metadata": {
        "id": "S0IVKZoBGnlb"
      },
      "outputs": [],
      "source": [
        "#forecast_Price= pd.DataFrame(forecast_1)\n",
        "#forecast_Price.reset_index(drop=True, inplace=True)\n",
        "#forecast_Price.index=test_X.index\n",
        "#forecast_Price['price day ahead real'] =scaler_output.iloc[train_size:, 0]\n",
        "#forecast_Price.rename(columns={0:'Forecast'}, inplace=True)"
      ]
    },
    {
      "cell_type": "code",
      "execution_count": null,
      "metadata": {
        "colab": {
          "base_uri": "https://localhost:8080/"
        },
        "id": "XrcTAY6wHxyS",
        "outputId": "7d7db515-51c3-4e99-f08e-bb123ed82677"
      },
      "outputs": [
        {
          "output_type": "execute_result",
          "data": {
            "text/plain": [
              "0.06267523936060213"
            ]
          },
          "metadata": {},
          "execution_count": 128
        }
      ],
      "source": [
        "from statsmodels.tools.eval_measures import rmse\n",
        "error=rmse(predictions['predicted_mean'], predictions['price day ahead real'])\n",
        "error"
      ]
    },
    {
      "cell_type": "code",
      "execution_count": null,
      "metadata": {
        "id": "1TthrAGjIAPj"
      },
      "outputs": [],
      "source": [
        "trainPredict = sc_out.inverse_transform(predictions[['predicted_mean']])\n",
        "testPredict = sc_out.inverse_transform(predictions[['price day ahead real']])"
      ]
    },
    {
      "cell_type": "code",
      "execution_count": null,
      "metadata": {
        "id": "Dj7fAltnIKd8"
      },
      "outputs": [],
      "source": [
        "Prediction=pd.DataFrame(trainPredict)\n",
        "Actual=pd.DataFrame(testPredict)"
      ]
    },
    {
      "cell_type": "code",
      "execution_count": null,
      "metadata": {
        "colab": {
          "base_uri": "https://localhost:8080/",
          "height": 383
        },
        "id": "eWHDIjcHJbae",
        "outputId": "93a1c819-603b-4923-9f77-556fe547d8d7"
      },
      "outputs": [
        {
          "output_type": "execute_result",
          "data": {
            "text/plain": [
              "<matplotlib.legend.Legend at 0x7f49676f1a10>"
            ]
          },
          "metadata": {},
          "execution_count": 132
        },
        {
          "output_type": "display_data",
          "data": {
            "text/plain": [
              "<Figure size 2016x648 with 1 Axes>"
            ],
            "image/png": "[encoded data removed]"
          },
          "metadata": {
            "needs_background": "light"
          }
        }
      ],
      "source": [
        "\n",
        "#Plot Prediction and Actual series\n",
        "\n",
        "fig, ax = plt.subplots(figsize = (28,9))\n",
        "ax.set_xlabel('Date', fontsize=20)\n",
        "ax.set_ylabel('Euro/mWh', fontsize=20)\n",
        "ax.plot(Actual, label = 'Actual', color = 'r')\n",
        "ax.plot(Prediction, label = 'Prediction', color = 'g')\n",
        "ax.tick_params(axis='y', labelsize = 20)\n",
        "ax.legend(prop={'size': 20})\n"
      ]
    },
    {
      "cell_type": "code",
      "execution_count": null,
      "metadata": {
        "id": "feflZevQeU9s"
      },
      "outputs": [],
      "source": [
        "import pandas as pd\n",
        "from pandas import read_csv\n",
        "import csv\n",
        "#save data\n",
        "\n",
        "\n",
        "\n",
        "Actual.to_csv(\"Actual.csv\", header=False, quoting=csv.QUOTE_NONE, escapechar=' ')\n",
        "\n",
        "Prediction.to_csv(\"SARIMAX_Prediction.csv\", header=False, quoting=csv.QUOTE_NONE, escapechar=' ')"
      ]
    }
  ],
  "metadata": {
    "accelerator": "TPU",
    "colab": {
      "provenance": [],
      "authorship_tag": "ABX9TyNbHis29Q/W30K/pNsHlD/1",
      "include_colab_link": true
    },
    "gpuClass": "standard",
    "kernelspec": {
      "display_name": "Python 3",
      "name": "python3"
    },
    "language_info": {
      "name": "python"
    }
  },
  "nbformat": 4,
  "nbformat_minor": 0
}