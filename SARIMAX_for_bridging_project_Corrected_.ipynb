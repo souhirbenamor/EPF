{
  "cells": [
    {
      "cell_type": "markdown",
      "metadata": {
        "id": "view-in-github",
        "colab_type": "text"
      },
      "source": [
        "<a href=\"https://colab.research.google.com/github/souhirbenamor/EPF/blob/main/SARIMAX_for_bridging_project_Corrected_.ipynb\" target=\"_parent\"><img src=\"https://colab.research.google.com/assets/colab-badge.svg\" alt=\"Open In Colab\"/></a>"
      ]
    },
    {
      "cell_type": "code",
      "execution_count": null,
      "metadata": {
        "id": "KfqWlFvdJLRc"
      },
      "outputs": [],
      "source": [
        "import pandas as pd\n",
        "import matplotlib.pyplot as plt\n",
        "import numpy as np\n",
        "\n",
        "from keras import Sequential\n",
        "from keras.layers import Dense, LSTM\n",
        "import tensorflow as tf\n",
        "import keras\n",
        "\n",
        "from sklearn.preprocessing import MinMaxScaler\n",
        "from sklearn.preprocessing import LabelEncoder\n",
        "from sklearn.metrics import mean_squared_error\n",
        "\n",
        "from sklearn.ensemble import RandomForestRegressor\n",
        "\n",
        "from sklearn.preprocessing import MinMaxScaler\n",
        "\n",
        "import statsmodels.api as sm\n",
        "from statsmodels.tsa.statespace.sarimax import SARIMAX\n",
        "\n",
        "\n",
        "\n",
        "\n",
        "from keras.models import Sequential\n",
        "from keras.layers import Dense\n",
        "from keras.layers import LSTM\n",
        "from keras.layers import Conv1D, Conv2D, MaxPooling1D, Flatten\n",
        "from keras.layers import GRU\n",
        "\n",
        "import numpy as np"
      ]
    },
    {
      "cell_type": "code",
      "execution_count": null,
      "metadata": {
        "id": "_k1VQ5lhJZlZ"
      },
      "outputs": [],
      "source": [
        "df = pd.read_excel('/content/electricty_real_selected_data .xlsx')\n",
        "df.drop(df.loc[df['Date'].duplicated()].index, inplace = True)\n",
        "#df['datetime'] = pd.to_datetime(df['Date'])\n",
        "\n",
        "# df = df.sort_values(df['datetime'], ascending=[True])\n",
        "\n",
        "\n",
        "df.set_index(df['Date'], inplace = True)\n",
        "df.drop(columns = [ 'Date'], inplace = True)"
      ]
    },
    {
      "cell_type": "code",
      "execution_count": null,
      "metadata": {
        "colab": {
          "base_uri": "https://localhost:8080/",
          "height": 450
        },
        "id": "8jqnfkmtJqWS",
        "outputId": "4870a74b-236a-4ce7-b835-26eb8c13d9a4"
      },
      "outputs": [
        {
          "output_type": "execute_result",
          "data": {
            "text/plain": [
              "                         price day ahead real  Demand DE     Wind   PV    Gas  \\\n",
              "Date                                                                            \n",
              "2014-12-31 23:59:59.991                 18.29   40242.25  8280.00  0.0  21.30   \n",
              "2015-01-01 00:59:59.991                 16.04   39158.50  8412.75  0.0  21.30   \n",
              "2015-01-01 01:59:59.991                 14.60   38824.50  8502.25  0.0  21.30   \n",
              "2015-01-01 02:59:59.991                 14.95   38969.25  8668.50  0.0  21.30   \n",
              "2015-01-01 03:59:59.991                 14.50   39092.75  8849.25  0.0  21.30   \n",
              "...                                       ...        ...      ...  ...    ...   \n",
              "2020-12-31 18:59:59.980                 56.70   49516.00  8053.50  0.0  19.12   \n",
              "2020-12-31 19:59:59.980                 52.44   47747.50  7456.50  0.0  19.12   \n",
              "2020-12-31 20:59:59.980                 51.86   47761.75  6902.50  0.0  19.12   \n",
              "2020-12-31 21:59:59.980                 52.26   46222.50  6395.00  0.0  19.12   \n",
              "2020-12-31 22:59:59.980                 50.87   43520.50  4633.50  0.0  19.12   \n",
              "\n",
              "                          Coal    CO2  \n",
              "Date                                   \n",
              "2014-12-31 23:59:59.991  55.17   7.27  \n",
              "2015-01-01 00:59:59.991  55.17   7.27  \n",
              "2015-01-01 01:59:59.991  55.17   7.27  \n",
              "2015-01-01 02:59:59.991  55.17   7.27  \n",
              "2015-01-01 03:59:59.991  55.17   7.27  \n",
              "...                        ...    ...  \n",
              "2020-12-31 18:59:59.980  56.49  32.59  \n",
              "2020-12-31 19:59:59.980  56.49  32.59  \n",
              "2020-12-31 20:59:59.980  56.49  32.59  \n",
              "2020-12-31 21:59:59.980  56.49  32.59  \n",
              "2020-12-31 22:59:59.980  56.67  32.59  \n",
              "\n",
              "[52608 rows x 7 columns]"
            ],
            "text/html": [
              "\n",
              "  <div id=\"df-3f1c2beb-265a-4f97-922d-c0165466e5d3\">\n",
              "    <div class=\"colab-df-container\">\n",
              "      <div>\n",
              "<style scoped>\n",
              "    .dataframe tbody tr th:only-of-type {\n",
              "        vertical-align: middle;\n",
              "    }\n",
              "\n",
              "    .dataframe tbody tr th {\n",
              "        vertical-align: top;\n",
              "    }\n",
              "\n",
              "    .dataframe thead th {\n",
              "        text-align: right;\n",
              "    }\n",
              "</style>\n",
              "<table border=\"1\" class=\"dataframe\">\n",
              "  <thead>\n",
              "    <tr style=\"text-align: right;\">\n",
              "      <th></th>\n",
              "      <th>price day ahead real</th>\n",
              "      <th>Demand DE</th>\n",
              "      <th>Wind</th>\n",
              "      <th>PV</th>\n",
              "      <th>Gas</th>\n",
              "      <th>Coal</th>\n",
              "      <th>CO2</th>\n",
              "    </tr>\n",
              "    <tr>\n",
              "      <th>Date</th>\n",
              "      <th></th>\n",
              "      <th></th>\n",
              "      <th></th>\n",
              "      <th></th>\n",
              "      <th></th>\n",
              "      <th></th>\n",
              "      <th></th>\n",
              "    </tr>\n",
              "  </thead>\n",
              "  <tbody>\n",
              "    <tr>\n",
              "      <th>2014-12-31 23:59:59.991</th>\n",
              "      <td>18.29</td>\n",
              "      <td>40242.25</td>\n",
              "      <td>8280.00</td>\n",
              "      <td>0.0</td>\n",
              "      <td>21.30</td>\n",
              "      <td>55.17</td>\n",
              "      <td>7.27</td>\n",
              "    </tr>\n",
              "    <tr>\n",
              "      <th>2015-01-01 00:59:59.991</th>\n",
              "      <td>16.04</td>\n",
              "      <td>39158.50</td>\n",
              "      <td>8412.75</td>\n",
              "      <td>0.0</td>\n",
              "      <td>21.30</td>\n",
              "      <td>55.17</td>\n",
              "      <td>7.27</td>\n",
              "    </tr>\n",
              "    <tr>\n",
              "      <th>2015-01-01 01:59:59.991</th>\n",
              "      <td>14.60</td>\n",
              "      <td>38824.50</td>\n",
              "      <td>8502.25</td>\n",
              "      <td>0.0</td>\n",
              "      <td>21.30</td>\n",
              "      <td>55.17</td>\n",
              "      <td>7.27</td>\n",
              "    </tr>\n",
              "    <tr>\n",
              "      <th>2015-01-01 02:59:59.991</th>\n",
              "      <td>14.95</td>\n",
              "      <td>38969.25</td>\n",
              "      <td>8668.50</td>\n",
              "      <td>0.0</td>\n",
              "      <td>21.30</td>\n",
              "      <td>55.17</td>\n",
              "      <td>7.27</td>\n",
              "    </tr>\n",
              "    <tr>\n",
              "      <th>2015-01-01 03:59:59.991</th>\n",
              "      <td>14.50</td>\n",
              "      <td>39092.75</td>\n",
              "      <td>8849.25</td>\n",
              "      <td>0.0</td>\n",
              "      <td>21.30</td>\n",
              "      <td>55.17</td>\n",
              "      <td>7.27</td>\n",
              "    </tr>\n",
              "    <tr>\n",
              "      <th>...</th>\n",
              "      <td>...</td>\n",
              "      <td>...</td>\n",
              "      <td>...</td>\n",
              "      <td>...</td>\n",
              "      <td>...</td>\n",
              "      <td>...</td>\n",
              "      <td>...</td>\n",
              "    </tr>\n",
              "    <tr>\n",
              "      <th>2020-12-31 18:59:59.980</th>\n",
              "      <td>56.70</td>\n",
              "      <td>49516.00</td>\n",
              "      <td>8053.50</td>\n",
              "      <td>0.0</td>\n",
              "      <td>19.12</td>\n",
              "      <td>56.49</td>\n",
              "      <td>32.59</td>\n",
              "    </tr>\n",
              "    <tr>\n",
              "      <th>2020-12-31 19:59:59.980</th>\n",
              "      <td>52.44</td>\n",
              "      <td>47747.50</td>\n",
              "      <td>7456.50</td>\n",
              "      <td>0.0</td>\n",
              "      <td>19.12</td>\n",
              "      <td>56.49</td>\n",
              "      <td>32.59</td>\n",
              "    </tr>\n",
              "    <tr>\n",
              "      <th>2020-12-31 20:59:59.980</th>\n",
              "      <td>51.86</td>\n",
              "      <td>47761.75</td>\n",
              "      <td>6902.50</td>\n",
              "      <td>0.0</td>\n",
              "      <td>19.12</td>\n",
              "      <td>56.49</td>\n",
              "      <td>32.59</td>\n",
              "    </tr>\n",
              "    <tr>\n",
              "      <th>2020-12-31 21:59:59.980</th>\n",
              "      <td>52.26</td>\n",
              "      <td>46222.50</td>\n",
              "      <td>6395.00</td>\n",
              "      <td>0.0</td>\n",
              "      <td>19.12</td>\n",
              "      <td>56.49</td>\n",
              "      <td>32.59</td>\n",
              "    </tr>\n",
              "    <tr>\n",
              "      <th>2020-12-31 22:59:59.980</th>\n",
              "      <td>50.87</td>\n",
              "      <td>43520.50</td>\n",
              "      <td>4633.50</td>\n",
              "      <td>0.0</td>\n",
              "      <td>19.12</td>\n",
              "      <td>56.67</td>\n",
              "      <td>32.59</td>\n",
              "    </tr>\n",
              "  </tbody>\n",
              "</table>\n",
              "<p>52608 rows × 7 columns</p>\n",
              "</div>\n",
              "      <button class=\"colab-df-convert\" onclick=\"convertToInteractive('df-3f1c2beb-265a-4f97-922d-c0165466e5d3')\"\n",
              "              title=\"Convert this dataframe to an interactive table.\"\n",
              "              style=\"display:none;\">\n",
              "        \n",
              "  <svg xmlns=\"http://www.w3.org/2000/svg\" height=\"24px\"viewBox=\"0 0 24 24\"\n",
              "       width=\"24px\">\n",
              "    <path d=\"M0 0h24v24H0V0z\" fill=\"none\"/>\n",
              "    <path d=\"M18.56 5.44l.94 2.06.94-2.06 2.06-.94-2.06-.94-.94-2.06-.94 2.06-2.06.94zm-11 1L8.5 8.5l.94-2.06 2.06-.94-2.06-.94L8.5 2.5l-.94 2.06-2.06.94zm10 10l.94 2.06.94-2.06 2.06-.94-2.06-.94-.94-2.06-.94 2.06-2.06.94z\"/><path d=\"M17.41 7.96l-1.37-1.37c-.4-.4-.92-.59-1.43-.59-.52 0-1.04.2-1.43.59L10.3 9.45l-7.72 7.72c-.78.78-.78 2.05 0 2.83L4 21.41c.39.39.9.59 1.41.59.51 0 1.02-.2 1.41-.59l7.78-7.78 2.81-2.81c.8-.78.8-2.07 0-2.86zM5.41 20L4 18.59l7.72-7.72 1.47 1.35L5.41 20z\"/>\n",
              "  </svg>\n",
              "      </button>\n",
              "      \n",
              "  <style>\n",
              "    .colab-df-container {\n",
              "      display:flex;\n",
              "      flex-wrap:wrap;\n",
              "      gap: 12px;\n",
              "    }\n",
              "\n",
              "    .colab-df-convert {\n",
              "      background-color: #E8F0FE;\n",
              "      border: none;\n",
              "      border-radius: 50%;\n",
              "      cursor: pointer;\n",
              "      display: none;\n",
              "      fill: #1967D2;\n",
              "      height: 32px;\n",
              "      padding: 0 0 0 0;\n",
              "      width: 32px;\n",
              "    }\n",
              "\n",
              "    .colab-df-convert:hover {\n",
              "      background-color: #E2EBFA;\n",
              "      box-shadow: 0px 1px 2px rgba(60, 64, 67, 0.3), 0px 1px 3px 1px rgba(60, 64, 67, 0.15);\n",
              "      fill: #174EA6;\n",
              "    }\n",
              "\n",
              "    [theme=dark] .colab-df-convert {\n",
              "      background-color: #3B4455;\n",
              "      fill: #D2E3FC;\n",
              "    }\n",
              "\n",
              "    [theme=dark] .colab-df-convert:hover {\n",
              "      background-color: #434B5C;\n",
              "      box-shadow: 0px 1px 3px 1px rgba(0, 0, 0, 0.15);\n",
              "      filter: drop-shadow(0px 1px 2px rgba(0, 0, 0, 0.3));\n",
              "      fill: #FFFFFF;\n",
              "    }\n",
              "  </style>\n",
              "\n",
              "      <script>\n",
              "        const buttonEl =\n",
              "          document.querySelector('#df-3f1c2beb-265a-4f97-922d-c0165466e5d3 button.colab-df-convert');\n",
              "        buttonEl.style.display =\n",
              "          google.colab.kernel.accessAllowed ? 'block' : 'none';\n",
              "\n",
              "        async function convertToInteractive(key) {\n",
              "          const element = document.querySelector('#df-3f1c2beb-265a-4f97-922d-c0165466e5d3');\n",
              "          const dataTable =\n",
              "            await google.colab.kernel.invokeFunction('convertToInteractive',\n",
              "                                                     [key], {});\n",
              "          if (!dataTable) return;\n",
              "\n",
              "          const docLinkHtml = 'Like what you see? Visit the ' +\n",
              "            '<a target=\"_blank\" href=https://colab.research.google.com/notebooks/data_table.ipynb>data table notebook</a>'\n",
              "            + ' to learn more about interactive tables.';\n",
              "          element.innerHTML = '';\n",
              "          dataTable['output_type'] = 'display_data';\n",
              "          await google.colab.output.renderOutput(dataTable, element);\n",
              "          const docLink = document.createElement('div');\n",
              "          docLink.innerHTML = docLinkHtml;\n",
              "          element.appendChild(docLink);\n",
              "        }\n",
              "      </script>\n",
              "    </div>\n",
              "  </div>\n",
              "  "
            ]
          },
          "metadata": {},
          "execution_count": 76
        }
      ],
      "source": [
        "df"
      ]
    },
    {
      "cell_type": "code",
      "execution_count": null,
      "metadata": {
        "id": "DbtEZzFQ0kAA"
      },
      "outputs": [],
      "source": [
        "#steps=24\n",
        "dataset_for_prediction= df.copy()\n",
        "#dataset_for_prediction[' Prices']=dataset_for_prediction[' Prices',' Generation forecast', ' System load forecast'].shift(-steps)\n",
        "#dataset_for_prediction=dataset_for_prediction.dropna()"
      ]
    },
    {
      "cell_type": "code",
      "execution_count": null,
      "metadata": {
        "id": "X8Bo9DNxMaQJ"
      },
      "outputs": [],
      "source": [
        "#sc_in = MinMaxScaler(feature_range=(0, 1))\n",
        "#scaled_input = sc_in.fit_transform(dataset_for_prediction[['price day ahead real','Estimated price ']])\n",
        "##scaled_input =pd.DataFrame(scaled_input)\n",
        "#X= scaled_input\n",
        "\n",
        "#sc_out = MinMaxScaler(feature_range=(0, 1))\n",
        "#scaler_output = sc_out.fit_transform(dataset_for_prediction[['price day ahead real']])\n",
        "#scaler_output =pd.DataFrame(scaler_output)\n",
        "#y=scaler_output"
      ]
    },
    {
      "cell_type": "code",
      "execution_count": null,
      "metadata": {
        "colab": {
          "base_uri": "https://localhost:8080/"
        },
        "id": "FreyFZFvMvql",
        "outputId": "4b00707c-f8f7-4994-fbed-35b65203fa76"
      },
      "outputs": [
        {
          "output_type": "execute_result",
          "data": {
            "text/plain": [
              "['price day ahead real', 'Demand DE', 'Wind', 'PV', 'Gas', 'Coal', 'CO2']"
            ]
          },
          "metadata": {},
          "execution_count": 78
        }
      ],
      "source": [
        "list( dataset_for_prediction.columns)"
      ]
    },
    {
      "cell_type": "code",
      "execution_count": null,
      "metadata": {
        "id": "eAlli57mMzjs"
      },
      "outputs": [],
      "source": [
        "#X.rename(columns = {0:'price day ahead real',\n",
        "# 1:'Estimated price ',}, inplace = True)"
      ]
    },
    {
      "cell_type": "code",
      "source": [
        "x = df.iloc[:, 1:8]\n",
        "y= df.iloc[:, 0]"
      ],
      "metadata": {
        "id": "z9NAT-9vj1Qk"
      },
      "execution_count": null,
      "outputs": []
    },
    {
      "cell_type": "code",
      "source": [
        "x"
      ],
      "metadata": {
        "colab": {
          "base_uri": "https://localhost:8080/",
          "height": 450
        },
        "id": "AOeot9tmkU3W",
        "outputId": "e22d852e-1a9b-475f-ffed-3e627cfaa28d"
      },
      "execution_count": null,
      "outputs": [
        {
          "output_type": "execute_result",
          "data": {
            "text/plain": [
              "                         Demand DE     Wind   PV    Gas   Coal    CO2\n",
              "Date                                                                 \n",
              "2014-12-31 23:59:59.991   40242.25  8280.00  0.0  21.30  55.17   7.27\n",
              "2015-01-01 00:59:59.991   39158.50  8412.75  0.0  21.30  55.17   7.27\n",
              "2015-01-01 01:59:59.991   38824.50  8502.25  0.0  21.30  55.17   7.27\n",
              "2015-01-01 02:59:59.991   38969.25  8668.50  0.0  21.30  55.17   7.27\n",
              "2015-01-01 03:59:59.991   39092.75  8849.25  0.0  21.30  55.17   7.27\n",
              "...                            ...      ...  ...    ...    ...    ...\n",
              "2020-12-31 18:59:59.980   49516.00  8053.50  0.0  19.12  56.49  32.59\n",
              "2020-12-31 19:59:59.980   47747.50  7456.50  0.0  19.12  56.49  32.59\n",
              "2020-12-31 20:59:59.980   47761.75  6902.50  0.0  19.12  56.49  32.59\n",
              "2020-12-31 21:59:59.980   46222.50  6395.00  0.0  19.12  56.49  32.59\n",
              "2020-12-31 22:59:59.980   43520.50  4633.50  0.0  19.12  56.67  32.59\n",
              "\n",
              "[52608 rows x 6 columns]"
            ],
            "text/html": [
              "\n",
              "  <div id=\"df-0ae3279a-8bd0-4b47-be9b-e2798704f8a0\">\n",
              "    <div class=\"colab-df-container\">\n",
              "      <div>\n",
              "<style scoped>\n",
              "    .dataframe tbody tr th:only-of-type {\n",
              "        vertical-align: middle;\n",
              "    }\n",
              "\n",
              "    .dataframe tbody tr th {\n",
              "        vertical-align: top;\n",
              "    }\n",
              "\n",
              "    .dataframe thead th {\n",
              "        text-align: right;\n",
              "    }\n",
              "</style>\n",
              "<table border=\"1\" class=\"dataframe\">\n",
              "  <thead>\n",
              "    <tr style=\"text-align: right;\">\n",
              "      <th></th>\n",
              "      <th>Demand DE</th>\n",
              "      <th>Wind</th>\n",
              "      <th>PV</th>\n",
              "      <th>Gas</th>\n",
              "      <th>Coal</th>\n",
              "      <th>CO2</th>\n",
              "    </tr>\n",
              "    <tr>\n",
              "      <th>Date</th>\n",
              "      <th></th>\n",
              "      <th></th>\n",
              "      <th></th>\n",
              "      <th></th>\n",
              "      <th></th>\n",
              "      <th></th>\n",
              "    </tr>\n",
              "  </thead>\n",
              "  <tbody>\n",
              "    <tr>\n",
              "      <th>2014-12-31 23:59:59.991</th>\n",
              "      <td>40242.25</td>\n",
              "      <td>8280.00</td>\n",
              "      <td>0.0</td>\n",
              "      <td>21.30</td>\n",
              "      <td>55.17</td>\n",
              "      <td>7.27</td>\n",
              "    </tr>\n",
              "    <tr>\n",
              "      <th>2015-01-01 00:59:59.991</th>\n",
              "      <td>39158.50</td>\n",
              "      <td>8412.75</td>\n",
              "      <td>0.0</td>\n",
              "      <td>21.30</td>\n",
              "      <td>55.17</td>\n",
              "      <td>7.27</td>\n",
              "    </tr>\n",
              "    <tr>\n",
              "      <th>2015-01-01 01:59:59.991</th>\n",
              "      <td>38824.50</td>\n",
              "      <td>8502.25</td>\n",
              "      <td>0.0</td>\n",
              "      <td>21.30</td>\n",
              "      <td>55.17</td>\n",
              "      <td>7.27</td>\n",
              "    </tr>\n",
              "    <tr>\n",
              "      <th>2015-01-01 02:59:59.991</th>\n",
              "      <td>38969.25</td>\n",
              "      <td>8668.50</td>\n",
              "      <td>0.0</td>\n",
              "      <td>21.30</td>\n",
              "      <td>55.17</td>\n",
              "      <td>7.27</td>\n",
              "    </tr>\n",
              "    <tr>\n",
              "      <th>2015-01-01 03:59:59.991</th>\n",
              "      <td>39092.75</td>\n",
              "      <td>8849.25</td>\n",
              "      <td>0.0</td>\n",
              "      <td>21.30</td>\n",
              "      <td>55.17</td>\n",
              "      <td>7.27</td>\n",
              "    </tr>\n",
              "    <tr>\n",
              "      <th>...</th>\n",
              "      <td>...</td>\n",
              "      <td>...</td>\n",
              "      <td>...</td>\n",
              "      <td>...</td>\n",
              "      <td>...</td>\n",
              "      <td>...</td>\n",
              "    </tr>\n",
              "    <tr>\n",
              "      <th>2020-12-31 18:59:59.980</th>\n",
              "      <td>49516.00</td>\n",
              "      <td>8053.50</td>\n",
              "      <td>0.0</td>\n",
              "      <td>19.12</td>\n",
              "      <td>56.49</td>\n",
              "      <td>32.59</td>\n",
              "    </tr>\n",
              "    <tr>\n",
              "      <th>2020-12-31 19:59:59.980</th>\n",
              "      <td>47747.50</td>\n",
              "      <td>7456.50</td>\n",
              "      <td>0.0</td>\n",
              "      <td>19.12</td>\n",
              "      <td>56.49</td>\n",
              "      <td>32.59</td>\n",
              "    </tr>\n",
              "    <tr>\n",
              "      <th>2020-12-31 20:59:59.980</th>\n",
              "      <td>47761.75</td>\n",
              "      <td>6902.50</td>\n",
              "      <td>0.0</td>\n",
              "      <td>19.12</td>\n",
              "      <td>56.49</td>\n",
              "      <td>32.59</td>\n",
              "    </tr>\n",
              "    <tr>\n",
              "      <th>2020-12-31 21:59:59.980</th>\n",
              "      <td>46222.50</td>\n",
              "      <td>6395.00</td>\n",
              "      <td>0.0</td>\n",
              "      <td>19.12</td>\n",
              "      <td>56.49</td>\n",
              "      <td>32.59</td>\n",
              "    </tr>\n",
              "    <tr>\n",
              "      <th>2020-12-31 22:59:59.980</th>\n",
              "      <td>43520.50</td>\n",
              "      <td>4633.50</td>\n",
              "      <td>0.0</td>\n",
              "      <td>19.12</td>\n",
              "      <td>56.67</td>\n",
              "      <td>32.59</td>\n",
              "    </tr>\n",
              "  </tbody>\n",
              "</table>\n",
              "<p>52608 rows × 6 columns</p>\n",
              "</div>\n",
              "      <button class=\"colab-df-convert\" onclick=\"convertToInteractive('df-0ae3279a-8bd0-4b47-be9b-e2798704f8a0')\"\n",
              "              title=\"Convert this dataframe to an interactive table.\"\n",
              "              style=\"display:none;\">\n",
              "        \n",
              "  <svg xmlns=\"http://www.w3.org/2000/svg\" height=\"24px\"viewBox=\"0 0 24 24\"\n",
              "       width=\"24px\">\n",
              "    <path d=\"M0 0h24v24H0V0z\" fill=\"none\"/>\n",
              "    <path d=\"M18.56 5.44l.94 2.06.94-2.06 2.06-.94-2.06-.94-.94-2.06-.94 2.06-2.06.94zm-11 1L8.5 8.5l.94-2.06 2.06-.94-2.06-.94L8.5 2.5l-.94 2.06-2.06.94zm10 10l.94 2.06.94-2.06 2.06-.94-2.06-.94-.94-2.06-.94 2.06-2.06.94z\"/><path d=\"M17.41 7.96l-1.37-1.37c-.4-.4-.92-.59-1.43-.59-.52 0-1.04.2-1.43.59L10.3 9.45l-7.72 7.72c-.78.78-.78 2.05 0 2.83L4 21.41c.39.39.9.59 1.41.59.51 0 1.02-.2 1.41-.59l7.78-7.78 2.81-2.81c.8-.78.8-2.07 0-2.86zM5.41 20L4 18.59l7.72-7.72 1.47 1.35L5.41 20z\"/>\n",
              "  </svg>\n",
              "      </button>\n",
              "      \n",
              "  <style>\n",
              "    .colab-df-container {\n",
              "      display:flex;\n",
              "      flex-wrap:wrap;\n",
              "      gap: 12px;\n",
              "    }\n",
              "\n",
              "    .colab-df-convert {\n",
              "      background-color: #E8F0FE;\n",
              "      border: none;\n",
              "      border-radius: 50%;\n",
              "      cursor: pointer;\n",
              "      display: none;\n",
              "      fill: #1967D2;\n",
              "      height: 32px;\n",
              "      padding: 0 0 0 0;\n",
              "      width: 32px;\n",
              "    }\n",
              "\n",
              "    .colab-df-convert:hover {\n",
              "      background-color: #E2EBFA;\n",
              "      box-shadow: 0px 1px 2px rgba(60, 64, 67, 0.3), 0px 1px 3px 1px rgba(60, 64, 67, 0.15);\n",
              "      fill: #174EA6;\n",
              "    }\n",
              "\n",
              "    [theme=dark] .colab-df-convert {\n",
              "      background-color: #3B4455;\n",
              "      fill: #D2E3FC;\n",
              "    }\n",
              "\n",
              "    [theme=dark] .colab-df-convert:hover {\n",
              "      background-color: #434B5C;\n",
              "      box-shadow: 0px 1px 3px 1px rgba(0, 0, 0, 0.15);\n",
              "      filter: drop-shadow(0px 1px 2px rgba(0, 0, 0, 0.3));\n",
              "      fill: #FFFFFF;\n",
              "    }\n",
              "  </style>\n",
              "\n",
              "      <script>\n",
              "        const buttonEl =\n",
              "          document.querySelector('#df-0ae3279a-8bd0-4b47-be9b-e2798704f8a0 button.colab-df-convert');\n",
              "        buttonEl.style.display =\n",
              "          google.colab.kernel.accessAllowed ? 'block' : 'none';\n",
              "\n",
              "        async function convertToInteractive(key) {\n",
              "          const element = document.querySelector('#df-0ae3279a-8bd0-4b47-be9b-e2798704f8a0');\n",
              "          const dataTable =\n",
              "            await google.colab.kernel.invokeFunction('convertToInteractive',\n",
              "                                                     [key], {});\n",
              "          if (!dataTable) return;\n",
              "\n",
              "          const docLinkHtml = 'Like what you see? Visit the ' +\n",
              "            '<a target=\"_blank\" href=https://colab.research.google.com/notebooks/data_table.ipynb>data table notebook</a>'\n",
              "            + ' to learn more about interactive tables.';\n",
              "          element.innerHTML = '';\n",
              "          dataTable['output_type'] = 'display_data';\n",
              "          await google.colab.output.renderOutput(dataTable, element);\n",
              "          const docLink = document.createElement('div');\n",
              "          docLink.innerHTML = docLinkHtml;\n",
              "          element.appendChild(docLink);\n",
              "        }\n",
              "      </script>\n",
              "    </div>\n",
              "  </div>\n",
              "  "
            ]
          },
          "metadata": {},
          "execution_count": 80
        }
      ]
    },
    {
      "cell_type": "code",
      "source": [
        "y"
      ],
      "metadata": {
        "colab": {
          "base_uri": "https://localhost:8080/"
        },
        "id": "VI1FlxublgKP",
        "outputId": "ed872422-b16e-4da6-f1b3-a16b0045347b"
      },
      "execution_count": null,
      "outputs": [
        {
          "output_type": "execute_result",
          "data": {
            "text/plain": [
              "Date\n",
              "2014-12-31 23:59:59.991    18.29\n",
              "2015-01-01 00:59:59.991    16.04\n",
              "2015-01-01 01:59:59.991    14.60\n",
              "2015-01-01 02:59:59.991    14.95\n",
              "2015-01-01 03:59:59.991    14.50\n",
              "                           ...  \n",
              "2020-12-31 18:59:59.980    56.70\n",
              "2020-12-31 19:59:59.980    52.44\n",
              "2020-12-31 20:59:59.980    51.86\n",
              "2020-12-31 21:59:59.980    52.26\n",
              "2020-12-31 22:59:59.980    50.87\n",
              "Name: price day ahead real, Length: 52608, dtype: float64"
            ]
          },
          "metadata": {},
          "execution_count": 81
        }
      ]
    },
    {
      "cell_type": "code",
      "source": [
        "x=pd.DataFrame(x)\n",
        "y=pd.DataFrame(y)"
      ],
      "metadata": {
        "id": "-H0CLaECoCgu"
      },
      "execution_count": null,
      "outputs": []
    },
    {
      "cell_type": "code",
      "execution_count": null,
      "metadata": {
        "id": "RLIMB5iENGGs"
      },
      "outputs": [],
      "source": [
        "train_X, train_y = x[24:34968], y[24:34968] \n",
        "test_X, test_y = x[34968:].dropna(), y[34968:].dropna()"
      ]
    },
    {
      "cell_type": "code",
      "execution_count": null,
      "metadata": {
        "id": "uVD5bk_XNAd4"
      },
      "outputs": [],
      "source": [
        "x.index = dataset_for_prediction.index\n",
        "#X.drop(columns = 'price day ahead real', inplace = True)\n",
        "\n",
        "y.rename(columns={0:'Electricity price in 24 hours'}, inplace= True)\n",
        "y.index=dataset_for_prediction.index"
      ]
    },
    {
      "cell_type": "code",
      "execution_count": null,
      "metadata": {
        "colab": {
          "base_uri": "https://localhost:8080/",
          "height": 450
        },
        "id": "yD-rFEv7NWDz",
        "outputId": "e684f6d4-e981-4d96-8338-71fd9d8fade2"
      },
      "outputs": [
        {
          "output_type": "execute_result",
          "data": {
            "text/plain": [
              "                            Demand DE      Wind   PV    Gas   Coal    CO2\n",
              "Date                                                                     \n",
              "2018-12-27 23:59:59.983  45989.079520  10105.00  0.0  22.81  76.98  24.70\n",
              "2018-12-28 00:59:59.983  45152.545489  10072.00  0.0  22.81  76.98  24.70\n",
              "2018-12-28 01:59:59.983  45354.201505  10045.25  0.0  22.81  76.98  24.70\n",
              "2018-12-28 02:59:59.983  46689.309878   9910.00  0.0  22.81  76.98  24.70\n",
              "2018-12-28 03:59:59.983  49323.669473   9588.75  0.0  22.81  76.98  24.70\n",
              "...                               ...       ...  ...    ...    ...    ...\n",
              "2020-12-31 18:59:59.980  49516.000000   8053.50  0.0  19.12  56.49  32.59\n",
              "2020-12-31 19:59:59.980  47747.500000   7456.50  0.0  19.12  56.49  32.59\n",
              "2020-12-31 20:59:59.980  47761.750000   6902.50  0.0  19.12  56.49  32.59\n",
              "2020-12-31 21:59:59.980  46222.500000   6395.00  0.0  19.12  56.49  32.59\n",
              "2020-12-31 22:59:59.980  43520.500000   4633.50  0.0  19.12  56.67  32.59\n",
              "\n",
              "[17640 rows x 6 columns]"
            ],
            "text/html": [
              "\n",
              "  <div id=\"df-caa6f561-0eb5-4bd0-98c3-38bf3bcebb9c\">\n",
              "    <div class=\"colab-df-container\">\n",
              "      <div>\n",
              "<style scoped>\n",
              "    .dataframe tbody tr th:only-of-type {\n",
              "        vertical-align: middle;\n",
              "    }\n",
              "\n",
              "    .dataframe tbody tr th {\n",
              "        vertical-align: top;\n",
              "    }\n",
              "\n",
              "    .dataframe thead th {\n",
              "        text-align: right;\n",
              "    }\n",
              "</style>\n",
              "<table border=\"1\" class=\"dataframe\">\n",
              "  <thead>\n",
              "    <tr style=\"text-align: right;\">\n",
              "      <th></th>\n",
              "      <th>Demand DE</th>\n",
              "      <th>Wind</th>\n",
              "      <th>PV</th>\n",
              "      <th>Gas</th>\n",
              "      <th>Coal</th>\n",
              "      <th>CO2</th>\n",
              "    </tr>\n",
              "    <tr>\n",
              "      <th>Date</th>\n",
              "      <th></th>\n",
              "      <th></th>\n",
              "      <th></th>\n",
              "      <th></th>\n",
              "      <th></th>\n",
              "      <th></th>\n",
              "    </tr>\n",
              "  </thead>\n",
              "  <tbody>\n",
              "    <tr>\n",
              "      <th>2018-12-27 23:59:59.983</th>\n",
              "      <td>45989.079520</td>\n",
              "      <td>10105.00</td>\n",
              "      <td>0.0</td>\n",
              "      <td>22.81</td>\n",
              "      <td>76.98</td>\n",
              "      <td>24.70</td>\n",
              "    </tr>\n",
              "    <tr>\n",
              "      <th>2018-12-28 00:59:59.983</th>\n",
              "      <td>45152.545489</td>\n",
              "      <td>10072.00</td>\n",
              "      <td>0.0</td>\n",
              "      <td>22.81</td>\n",
              "      <td>76.98</td>\n",
              "      <td>24.70</td>\n",
              "    </tr>\n",
              "    <tr>\n",
              "      <th>2018-12-28 01:59:59.983</th>\n",
              "      <td>45354.201505</td>\n",
              "      <td>10045.25</td>\n",
              "      <td>0.0</td>\n",
              "      <td>22.81</td>\n",
              "      <td>76.98</td>\n",
              "      <td>24.70</td>\n",
              "    </tr>\n",
              "    <tr>\n",
              "      <th>2018-12-28 02:59:59.983</th>\n",
              "      <td>46689.309878</td>\n",
              "      <td>9910.00</td>\n",
              "      <td>0.0</td>\n",
              "      <td>22.81</td>\n",
              "      <td>76.98</td>\n",
              "      <td>24.70</td>\n",
              "    </tr>\n",
              "    <tr>\n",
              "      <th>2018-12-28 03:59:59.983</th>\n",
              "      <td>49323.669473</td>\n",
              "      <td>9588.75</td>\n",
              "      <td>0.0</td>\n",
              "      <td>22.81</td>\n",
              "      <td>76.98</td>\n",
              "      <td>24.70</td>\n",
              "    </tr>\n",
              "    <tr>\n",
              "      <th>...</th>\n",
              "      <td>...</td>\n",
              "      <td>...</td>\n",
              "      <td>...</td>\n",
              "      <td>...</td>\n",
              "      <td>...</td>\n",
              "      <td>...</td>\n",
              "    </tr>\n",
              "    <tr>\n",
              "      <th>2020-12-31 18:59:59.980</th>\n",
              "      <td>49516.000000</td>\n",
              "      <td>8053.50</td>\n",
              "      <td>0.0</td>\n",
              "      <td>19.12</td>\n",
              "      <td>56.49</td>\n",
              "      <td>32.59</td>\n",
              "    </tr>\n",
              "    <tr>\n",
              "      <th>2020-12-31 19:59:59.980</th>\n",
              "      <td>47747.500000</td>\n",
              "      <td>7456.50</td>\n",
              "      <td>0.0</td>\n",
              "      <td>19.12</td>\n",
              "      <td>56.49</td>\n",
              "      <td>32.59</td>\n",
              "    </tr>\n",
              "    <tr>\n",
              "      <th>2020-12-31 20:59:59.980</th>\n",
              "      <td>47761.750000</td>\n",
              "      <td>6902.50</td>\n",
              "      <td>0.0</td>\n",
              "      <td>19.12</td>\n",
              "      <td>56.49</td>\n",
              "      <td>32.59</td>\n",
              "    </tr>\n",
              "    <tr>\n",
              "      <th>2020-12-31 21:59:59.980</th>\n",
              "      <td>46222.500000</td>\n",
              "      <td>6395.00</td>\n",
              "      <td>0.0</td>\n",
              "      <td>19.12</td>\n",
              "      <td>56.49</td>\n",
              "      <td>32.59</td>\n",
              "    </tr>\n",
              "    <tr>\n",
              "      <th>2020-12-31 22:59:59.980</th>\n",
              "      <td>43520.500000</td>\n",
              "      <td>4633.50</td>\n",
              "      <td>0.0</td>\n",
              "      <td>19.12</td>\n",
              "      <td>56.67</td>\n",
              "      <td>32.59</td>\n",
              "    </tr>\n",
              "  </tbody>\n",
              "</table>\n",
              "<p>17640 rows × 6 columns</p>\n",
              "</div>\n",
              "      <button class=\"colab-df-convert\" onclick=\"convertToInteractive('df-caa6f561-0eb5-4bd0-98c3-38bf3bcebb9c')\"\n",
              "              title=\"Convert this dataframe to an interactive table.\"\n",
              "              style=\"display:none;\">\n",
              "        \n",
              "  <svg xmlns=\"http://www.w3.org/2000/svg\" height=\"24px\"viewBox=\"0 0 24 24\"\n",
              "       width=\"24px\">\n",
              "    <path d=\"M0 0h24v24H0V0z\" fill=\"none\"/>\n",
              "    <path d=\"M18.56 5.44l.94 2.06.94-2.06 2.06-.94-2.06-.94-.94-2.06-.94 2.06-2.06.94zm-11 1L8.5 8.5l.94-2.06 2.06-.94-2.06-.94L8.5 2.5l-.94 2.06-2.06.94zm10 10l.94 2.06.94-2.06 2.06-.94-2.06-.94-.94-2.06-.94 2.06-2.06.94z\"/><path d=\"M17.41 7.96l-1.37-1.37c-.4-.4-.92-.59-1.43-.59-.52 0-1.04.2-1.43.59L10.3 9.45l-7.72 7.72c-.78.78-.78 2.05 0 2.83L4 21.41c.39.39.9.59 1.41.59.51 0 1.02-.2 1.41-.59l7.78-7.78 2.81-2.81c.8-.78.8-2.07 0-2.86zM5.41 20L4 18.59l7.72-7.72 1.47 1.35L5.41 20z\"/>\n",
              "  </svg>\n",
              "      </button>\n",
              "      \n",
              "  <style>\n",
              "    .colab-df-container {\n",
              "      display:flex;\n",
              "      flex-wrap:wrap;\n",
              "      gap: 12px;\n",
              "    }\n",
              "\n",
              "    .colab-df-convert {\n",
              "      background-color: #E8F0FE;\n",
              "      border: none;\n",
              "      border-radius: 50%;\n",
              "      cursor: pointer;\n",
              "      display: none;\n",
              "      fill: #1967D2;\n",
              "      height: 32px;\n",
              "      padding: 0 0 0 0;\n",
              "      width: 32px;\n",
              "    }\n",
              "\n",
              "    .colab-df-convert:hover {\n",
              "      background-color: #E2EBFA;\n",
              "      box-shadow: 0px 1px 2px rgba(60, 64, 67, 0.3), 0px 1px 3px 1px rgba(60, 64, 67, 0.15);\n",
              "      fill: #174EA6;\n",
              "    }\n",
              "\n",
              "    [theme=dark] .colab-df-convert {\n",
              "      background-color: #3B4455;\n",
              "      fill: #D2E3FC;\n",
              "    }\n",
              "\n",
              "    [theme=dark] .colab-df-convert:hover {\n",
              "      background-color: #434B5C;\n",
              "      box-shadow: 0px 1px 3px 1px rgba(0, 0, 0, 0.15);\n",
              "      filter: drop-shadow(0px 1px 2px rgba(0, 0, 0, 0.3));\n",
              "      fill: #FFFFFF;\n",
              "    }\n",
              "  </style>\n",
              "\n",
              "      <script>\n",
              "        const buttonEl =\n",
              "          document.querySelector('#df-caa6f561-0eb5-4bd0-98c3-38bf3bcebb9c button.colab-df-convert');\n",
              "        buttonEl.style.display =\n",
              "          google.colab.kernel.accessAllowed ? 'block' : 'none';\n",
              "\n",
              "        async function convertToInteractive(key) {\n",
              "          const element = document.querySelector('#df-caa6f561-0eb5-4bd0-98c3-38bf3bcebb9c');\n",
              "          const dataTable =\n",
              "            await google.colab.kernel.invokeFunction('convertToInteractive',\n",
              "                                                     [key], {});\n",
              "          if (!dataTable) return;\n",
              "\n",
              "          const docLinkHtml = 'Like what you see? Visit the ' +\n",
              "            '<a target=\"_blank\" href=https://colab.research.google.com/notebooks/data_table.ipynb>data table notebook</a>'\n",
              "            + ' to learn more about interactive tables.';\n",
              "          element.innerHTML = '';\n",
              "          dataTable['output_type'] = 'display_data';\n",
              "          await google.colab.output.renderOutput(dataTable, element);\n",
              "          const docLink = document.createElement('div');\n",
              "          docLink.innerHTML = docLinkHtml;\n",
              "          element.appendChild(docLink);\n",
              "        }\n",
              "      </script>\n",
              "    </div>\n",
              "  </div>\n",
              "  "
            ]
          },
          "metadata": {},
          "execution_count": 85
        }
      ],
      "source": [
        "test_X"
      ]
    },
    {
      "cell_type": "code",
      "source": [
        "train_y"
      ],
      "metadata": {
        "colab": {
          "base_uri": "https://localhost:8080/",
          "height": 450
        },
        "id": "RCGlMfho-J-Y",
        "outputId": "fd4f92c1-c364-4037-8cc5-cd00e44d171b"
      },
      "execution_count": null,
      "outputs": [
        {
          "output_type": "execute_result",
          "data": {
            "text/plain": [
              "                         price day ahead real\n",
              "Date                                         \n",
              "2015-01-01 23:59:59.991                -19.63\n",
              "2015-01-02 00:59:59.991                -19.37\n",
              "2015-01-02 01:59:59.991                -31.41\n",
              "2015-01-02 02:59:59.991                -46.97\n",
              "2015-01-02 03:59:59.991                -13.48\n",
              "...                                       ...\n",
              "2018-12-27 18:59:59.983                 70.00\n",
              "2018-12-27 19:59:59.983                 62.56\n",
              "2018-12-27 20:59:59.983                 64.62\n",
              "2018-12-27 21:59:59.983                 56.81\n",
              "2018-12-27 22:59:59.983                 50.04\n",
              "\n",
              "[34944 rows x 1 columns]"
            ],
            "text/html": [
              "\n",
              "  <div id=\"df-c968faa3-d026-4a7a-b1e3-fbd172617ccd\">\n",
              "    <div class=\"colab-df-container\">\n",
              "      <div>\n",
              "<style scoped>\n",
              "    .dataframe tbody tr th:only-of-type {\n",
              "        vertical-align: middle;\n",
              "    }\n",
              "\n",
              "    .dataframe tbody tr th {\n",
              "        vertical-align: top;\n",
              "    }\n",
              "\n",
              "    .dataframe thead th {\n",
              "        text-align: right;\n",
              "    }\n",
              "</style>\n",
              "<table border=\"1\" class=\"dataframe\">\n",
              "  <thead>\n",
              "    <tr style=\"text-align: right;\">\n",
              "      <th></th>\n",
              "      <th>price day ahead real</th>\n",
              "    </tr>\n",
              "    <tr>\n",
              "      <th>Date</th>\n",
              "      <th></th>\n",
              "    </tr>\n",
              "  </thead>\n",
              "  <tbody>\n",
              "    <tr>\n",
              "      <th>2015-01-01 23:59:59.991</th>\n",
              "      <td>-19.63</td>\n",
              "    </tr>\n",
              "    <tr>\n",
              "      <th>2015-01-02 00:59:59.991</th>\n",
              "      <td>-19.37</td>\n",
              "    </tr>\n",
              "    <tr>\n",
              "      <th>2015-01-02 01:59:59.991</th>\n",
              "      <td>-31.41</td>\n",
              "    </tr>\n",
              "    <tr>\n",
              "      <th>2015-01-02 02:59:59.991</th>\n",
              "      <td>-46.97</td>\n",
              "    </tr>\n",
              "    <tr>\n",
              "      <th>2015-01-02 03:59:59.991</th>\n",
              "      <td>-13.48</td>\n",
              "    </tr>\n",
              "    <tr>\n",
              "      <th>...</th>\n",
              "      <td>...</td>\n",
              "    </tr>\n",
              "    <tr>\n",
              "      <th>2018-12-27 18:59:59.983</th>\n",
              "      <td>70.00</td>\n",
              "    </tr>\n",
              "    <tr>\n",
              "      <th>2018-12-27 19:59:59.983</th>\n",
              "      <td>62.56</td>\n",
              "    </tr>\n",
              "    <tr>\n",
              "      <th>2018-12-27 20:59:59.983</th>\n",
              "      <td>64.62</td>\n",
              "    </tr>\n",
              "    <tr>\n",
              "      <th>2018-12-27 21:59:59.983</th>\n",
              "      <td>56.81</td>\n",
              "    </tr>\n",
              "    <tr>\n",
              "      <th>2018-12-27 22:59:59.983</th>\n",
              "      <td>50.04</td>\n",
              "    </tr>\n",
              "  </tbody>\n",
              "</table>\n",
              "<p>34944 rows × 1 columns</p>\n",
              "</div>\n",
              "      <button class=\"colab-df-convert\" onclick=\"convertToInteractive('df-c968faa3-d026-4a7a-b1e3-fbd172617ccd')\"\n",
              "              title=\"Convert this dataframe to an interactive table.\"\n",
              "              style=\"display:none;\">\n",
              "        \n",
              "  <svg xmlns=\"http://www.w3.org/2000/svg\" height=\"24px\"viewBox=\"0 0 24 24\"\n",
              "       width=\"24px\">\n",
              "    <path d=\"M0 0h24v24H0V0z\" fill=\"none\"/>\n",
              "    <path d=\"M18.56 5.44l.94 2.06.94-2.06 2.06-.94-2.06-.94-.94-2.06-.94 2.06-2.06.94zm-11 1L8.5 8.5l.94-2.06 2.06-.94-2.06-.94L8.5 2.5l-.94 2.06-2.06.94zm10 10l.94 2.06.94-2.06 2.06-.94-2.06-.94-.94-2.06-.94 2.06-2.06.94z\"/><path d=\"M17.41 7.96l-1.37-1.37c-.4-.4-.92-.59-1.43-.59-.52 0-1.04.2-1.43.59L10.3 9.45l-7.72 7.72c-.78.78-.78 2.05 0 2.83L4 21.41c.39.39.9.59 1.41.59.51 0 1.02-.2 1.41-.59l7.78-7.78 2.81-2.81c.8-.78.8-2.07 0-2.86zM5.41 20L4 18.59l7.72-7.72 1.47 1.35L5.41 20z\"/>\n",
              "  </svg>\n",
              "      </button>\n",
              "      \n",
              "  <style>\n",
              "    .colab-df-container {\n",
              "      display:flex;\n",
              "      flex-wrap:wrap;\n",
              "      gap: 12px;\n",
              "    }\n",
              "\n",
              "    .colab-df-convert {\n",
              "      background-color: #E8F0FE;\n",
              "      border: none;\n",
              "      border-radius: 50%;\n",
              "      cursor: pointer;\n",
              "      display: none;\n",
              "      fill: #1967D2;\n",
              "      height: 32px;\n",
              "      padding: 0 0 0 0;\n",
              "      width: 32px;\n",
              "    }\n",
              "\n",
              "    .colab-df-convert:hover {\n",
              "      background-color: #E2EBFA;\n",
              "      box-shadow: 0px 1px 2px rgba(60, 64, 67, 0.3), 0px 1px 3px 1px rgba(60, 64, 67, 0.15);\n",
              "      fill: #174EA6;\n",
              "    }\n",
              "\n",
              "    [theme=dark] .colab-df-convert {\n",
              "      background-color: #3B4455;\n",
              "      fill: #D2E3FC;\n",
              "    }\n",
              "\n",
              "    [theme=dark] .colab-df-convert:hover {\n",
              "      background-color: #434B5C;\n",
              "      box-shadow: 0px 1px 3px 1px rgba(0, 0, 0, 0.15);\n",
              "      filter: drop-shadow(0px 1px 2px rgba(0, 0, 0, 0.3));\n",
              "      fill: #FFFFFF;\n",
              "    }\n",
              "  </style>\n",
              "\n",
              "      <script>\n",
              "        const buttonEl =\n",
              "          document.querySelector('#df-c968faa3-d026-4a7a-b1e3-fbd172617ccd button.colab-df-convert');\n",
              "        buttonEl.style.display =\n",
              "          google.colab.kernel.accessAllowed ? 'block' : 'none';\n",
              "\n",
              "        async function convertToInteractive(key) {\n",
              "          const element = document.querySelector('#df-c968faa3-d026-4a7a-b1e3-fbd172617ccd');\n",
              "          const dataTable =\n",
              "            await google.colab.kernel.invokeFunction('convertToInteractive',\n",
              "                                                     [key], {});\n",
              "          if (!dataTable) return;\n",
              "\n",
              "          const docLinkHtml = 'Like what you see? Visit the ' +\n",
              "            '<a target=\"_blank\" href=https://colab.research.google.com/notebooks/data_table.ipynb>data table notebook</a>'\n",
              "            + ' to learn more about interactive tables.';\n",
              "          element.innerHTML = '';\n",
              "          dataTable['output_type'] = 'display_data';\n",
              "          await google.colab.output.renderOutput(dataTable, element);\n",
              "          const docLink = document.createElement('div');\n",
              "          docLink.innerHTML = docLinkHtml;\n",
              "          element.appendChild(docLink);\n",
              "        }\n",
              "      </script>\n",
              "    </div>\n",
              "  </div>\n",
              "  "
            ]
          },
          "metadata": {},
          "execution_count": 86
        }
      ]
    },
    {
      "cell_type": "code",
      "execution_count": null,
      "metadata": {
        "colab": {
          "base_uri": "https://localhost:8080/",
          "height": 297
        },
        "id": "2mUMAmOBNjia",
        "outputId": "eeff6add-4024-456a-cb77-e817a724ae63"
      },
      "outputs": [
        {
          "output_type": "display_data",
          "data": {
            "text/plain": [
              "<Figure size 432x288 with 4 Axes>"
            ],
            "image/png": "[encoded data removed]"
          },
          "metadata": {
            "needs_background": "light"
          }
        }
      ],
      "source": [
        "seas_d=sm.tsa.seasonal_decompose(y,model='add',freq=365);\n",
        "fig=seas_d.plot()\n",
        "fig.set_figheight(4)\n",
        "plt.show()\n"
      ]
    },
    {
      "cell_type": "code",
      "execution_count": null,
      "metadata": {
        "colab": {
          "base_uri": "https://localhost:8080/"
        },
        "id": "F4TbwrHwOkOD",
        "outputId": "83740fb5-0db3-40d9-a4d2-f583488a9b57"
      },
      "outputs": [
        {
          "output_type": "stream",
          "name": "stdout",
          "text": [
            "Strong evidence against Null Hypothesis\n",
            "Reject Null Hypothesis - Data is Stationary\n",
            "Data is Stationary  Electricity Price\n"
          ]
        }
      ],
      "source": [
        "from statsmodels.tsa.stattools import adfuller\n",
        "\n",
        "def test_adf(series, title=''):\n",
        "    dfout={}\n",
        "    dftest=sm.tsa.adfuller(series.dropna(), autolag='AIC', regression='ct')\n",
        "    for key,val in dftest[4].items():\n",
        "        dfout['critical value {}'.format(key)]=val\n",
        "    if dftest[1]<=0.05:\n",
        "        print(\"Strong evidence against Null Hypothesis\")\n",
        "        print(\"Reject Null Hypothesis - Data is Stationary\")\n",
        "        print(\"Data is Stationary\", title)\n",
        "    else:\n",
        "        print(\"Strong evidence for  Null Hypothesis\")\n",
        "        print(\"Accept Null Hypothesis - Data is not Stationary\")\n",
        "        print(\"Data is NOT Stationary for\", title)\n",
        "        \n",
        "y_test=y['price day ahead real'][24:52608 ].dropna()\n",
        "test_adf(y_test, \" Electricity Price\")"
      ]
    },
    {
      "cell_type": "code",
      "execution_count": null,
      "metadata": {
        "colab": {
          "base_uri": "https://localhost:8080/",
          "height": 336
        },
        "id": "NttcVCPbPOVv",
        "outputId": "6f7ea8f1-d92b-4d7f-a211-cc651ac46782"
      },
      "outputs": [
        {
          "output_type": "display_data",
          "data": {
            "text/plain": [
              "<Figure size 720x360 with 2 Axes>"
            ],
            "image/png": "[encoded data removed]"
          },
          "metadata": {
            "needs_background": "light"
          }
        }
      ],
      "source": [
        "fig,ax= plt.subplots(2,1, figsize=(10,5))\n",
        "fig=sm.tsa.graphics.plot_acf(y_test, lags=500, ax=ax[0])\n",
        "fig=sm.tsa.graphics.plot_pacf(y_test, lags=500, ax=ax[1])\n",
        "plt.show()"
      ]
    },
    {
      "cell_type": "code",
      "execution_count": null,
      "metadata": {
        "colab": {
          "base_uri": "https://localhost:8080/"
        },
        "id": "uB9gYWoYPXVb",
        "outputId": "cc032600-4c48-4384-a6ac-e95083163140"
      },
      "outputs": [
        {
          "output_type": "stream",
          "name": "stdout",
          "text": [
            "Looking in indexes: https://pypi.org/simple, https://us-python.pkg.dev/colab-wheels/public/simple/\n",
            "Requirement already satisfied: pmdarima in /usr/local/lib/python3.7/dist-packages (1.8.5)\n",
            "Requirement already satisfied: scipy>=1.3.2 in /usr/local/lib/python3.7/dist-packages (from pmdarima) (1.4.1)\n",
            "Requirement already satisfied: statsmodels!=0.12.0,>=0.11 in /usr/local/lib/python3.7/dist-packages (from pmdarima) (0.13.2)\n",
            "Requirement already satisfied: setuptools!=50.0.0,>=38.6.0 in /usr/local/lib/python3.7/dist-packages (from pmdarima) (57.4.0)\n",
            "Requirement already satisfied: pandas>=0.19 in /usr/local/lib/python3.7/dist-packages (from pmdarima) (1.3.5)\n",
            "Requirement already satisfied: scikit-learn>=0.22 in /usr/local/lib/python3.7/dist-packages (from pmdarima) (1.0.2)\n",
            "Requirement already satisfied: Cython!=0.29.18,>=0.29 in /usr/local/lib/python3.7/dist-packages (from pmdarima) (0.29.30)\n",
            "Requirement already satisfied: numpy>=1.19.3 in /usr/local/lib/python3.7/dist-packages (from pmdarima) (1.21.6)\n",
            "Requirement already satisfied: joblib>=0.11 in /usr/local/lib/python3.7/dist-packages (from pmdarima) (1.1.0)\n",
            "Requirement already satisfied: urllib3 in /usr/local/lib/python3.7/dist-packages (from pmdarima) (1.24.3)\n",
            "Requirement already satisfied: python-dateutil>=2.7.3 in /usr/local/lib/python3.7/dist-packages (from pandas>=0.19->pmdarima) (2.8.2)\n",
            "Requirement already satisfied: pytz>=2017.3 in /usr/local/lib/python3.7/dist-packages (from pandas>=0.19->pmdarima) (2022.1)\n",
            "Requirement already satisfied: six>=1.5 in /usr/local/lib/python3.7/dist-packages (from python-dateutil>=2.7.3->pandas>=0.19->pmdarima) (1.15.0)\n",
            "Requirement already satisfied: threadpoolctl>=2.0.0 in /usr/local/lib/python3.7/dist-packages (from scikit-learn>=0.22->pmdarima) (3.1.0)\n",
            "Requirement already satisfied: patsy>=0.5.2 in /usr/local/lib/python3.7/dist-packages (from statsmodels!=0.12.0,>=0.11->pmdarima) (0.5.2)\n",
            "Requirement already satisfied: packaging>=21.3 in /usr/local/lib/python3.7/dist-packages (from statsmodels!=0.12.0,>=0.11->pmdarima) (21.3)\n",
            "Requirement already satisfied: pyparsing!=3.0.5,>=2.0.2 in /usr/local/lib/python3.7/dist-packages (from packaging>=21.3->statsmodels!=0.12.0,>=0.11->pmdarima) (3.0.9)\n"
          ]
        }
      ],
      "source": [
        "!sudo pip install pmdarima\n",
        "from pmdarima.arima import auto_arima"
      ]
    },
    {
      "cell_type": "code",
      "execution_count": null,
      "metadata": {
        "colab": {
          "base_uri": "https://localhost:8080/"
        },
        "id": "MGWWtrJMPbZe",
        "outputId": "072b7f39-7a95-4e02-beb7-acffbe2a8d6b"
      },
      "outputs": [
        {
          "output_type": "stream",
          "name": "stderr",
          "text": [
            "/usr/local/lib/python3.7/dist-packages/pmdarima/arima/_auto_solvers.py:103: VisibleDeprecationWarning: Creating an ndarray from ragged nested sequences (which is a list-or-tuple of lists-or-tuples-or ndarrays with different lengths or shapes) is deprecated. If you meant to do this, you must specify 'dtype=object' when creating the ndarray.\n",
            "  gen = random_state.permutation(list(gen))[:n_fits]\n"
          ]
        },
        {
          "output_type": "stream",
          "name": "stdout",
          "text": [
            "\n",
            "Best model:  ARIMA(5,0,0)(0,0,0)[1] intercept\n",
            "Total fit time: 465.200 seconds\n"
          ]
        }
      ],
      "source": [
        " step_wise = auto_arima(train_y, \n",
        "     exogenous= train_X,\n",
        "     start_p=0, start_q=0, \n",
        "     max_p=5, max_q=5, \n",
        "     d=1, max_d=168,\n",
        "     n_jobs = -1,\n",
        "     start_Q=0,\n",
        "     max_P=5,\n",
        "     max_D=5,\n",
        "     max_Q=5,\n",
        "     seasonal = True,\n",
        "     stationary = True,\n",
        "     trace=True, \n",
        "     error_action='ignore', \n",
        "     suppress_warnings=True, \n",
        "     random = True,\n",
        "     stepwise=False)"
      ]
    },
    {
      "cell_type": "code",
      "execution_count": null,
      "metadata": {
        "colab": {
          "base_uri": "https://localhost:8080/",
          "height": 633
        },
        "id": "aEOEaYT8SZ2o",
        "outputId": "22a4a808-0a42-4791-acb2-178726b1a87c"
      },
      "outputs": [
        {
          "output_type": "execute_result",
          "data": {
            "text/plain": [
              "<class 'statsmodels.iolib.summary.Summary'>\n",
              "\"\"\"\n",
              "                           Statespace Model Results                           \n",
              "==============================================================================\n",
              "Dep. Variable:                      y   No. Observations:                34944\n",
              "Model:               SARIMAX(5, 0, 0)   Log Likelihood              -93566.290\n",
              "Date:                Mon, 20 Jun 2022   AIC                         187158.580\n",
              "Time:                        09:35:08   BIC                         187268.579\n",
              "Sample:                             0   HQIC                        187193.620\n",
              "                              - 34944                                         \n",
              "Covariance Type:                  opg                                         \n",
              "==============================================================================\n",
              "                 coef    std err          z      P>|z|      [0.025      0.975]\n",
              "------------------------------------------------------------------------------\n",
              "intercept     -0.1150      0.157     -0.734      0.463      -0.422       0.192\n",
              "Demand DE      0.0012   7.02e-06    168.179      0.000       0.001       0.001\n",
              "Wind          -0.0012   1.79e-05    -69.377      0.000      -0.001      -0.001\n",
              "PV            -0.0011   1.19e-05    -89.316      0.000      -0.001      -0.001\n",
              "Gas           -0.9349      0.124     -7.521      0.000      -1.179      -0.691\n",
              "Coal          -0.1258      0.022     -5.637      0.000      -0.170      -0.082\n",
              "CO2            1.6206      0.079     20.639      0.000       1.467       1.774\n",
              "ar.L1          0.9450      0.002    525.490      0.000       0.941       0.949\n",
              "ar.L2         -0.0837      0.003    -26.368      0.000      -0.090      -0.078\n",
              "ar.L3         -0.0599      0.004    -16.134      0.000      -0.067      -0.053\n",
              "ar.L4          0.0217      0.004      4.958      0.000       0.013       0.030\n",
              "ar.L5          0.1015      0.003     32.970      0.000       0.096       0.108\n",
              "sigma2        13.4638      0.029    459.456      0.000      13.406      13.521\n",
              "===================================================================================\n",
              "Ljung-Box (Q):                     3720.95   Jarque-Bera (JB):           3271630.14\n",
              "Prob(Q):                              0.00   Prob(JB):                         0.00\n",
              "Heteroskedasticity (H):               1.61   Skew:                            -0.14\n",
              "Prob(H) (two-sided):                  0.00   Kurtosis:                        50.40\n",
              "===================================================================================\n",
              "\n",
              "Warnings:\n",
              "[1] Covariance matrix calculated using the outer product of gradients (complex-step).\n",
              "\"\"\""
            ],
            "text/html": [
              "<table class=\"simpletable\">\n",
              "<caption>Statespace Model Results</caption>\n",
              "<tr>\n",
              "  <th>Dep. Variable:</th>           <td>y</td>        <th>  No. Observations:  </th>    <td>34944</td>  \n",
              "</tr>\n",
              "<tr>\n",
              "  <th>Model:</th>           <td>SARIMAX(5, 0, 0)</td> <th>  Log Likelihood     </th> <td>-93566.290</td>\n",
              "</tr>\n",
              "<tr>\n",
              "  <th>Date:</th>            <td>Mon, 20 Jun 2022</td> <th>  AIC                </th> <td>187158.580</td>\n",
              "</tr>\n",
              "<tr>\n",
              "  <th>Time:</th>                <td>09:35:08</td>     <th>  BIC                </th> <td>187268.579</td>\n",
              "</tr>\n",
              "<tr>\n",
              "  <th>Sample:</th>                  <td>0</td>        <th>  HQIC               </th> <td>187193.620</td>\n",
              "</tr>\n",
              "<tr>\n",
              "  <th></th>                     <td> - 34944</td>     <th>                     </th>      <td> </td>    \n",
              "</tr>\n",
              "<tr>\n",
              "  <th>Covariance Type:</th>        <td>opg</td>       <th>                     </th>      <td> </td>    \n",
              "</tr>\n",
              "</table>\n",
              "<table class=\"simpletable\">\n",
              "<tr>\n",
              "      <td></td>         <th>coef</th>     <th>std err</th>      <th>z</th>      <th>P>|z|</th>  <th>[0.025</th>    <th>0.975]</th>  \n",
              "</tr>\n",
              "<tr>\n",
              "  <th>intercept</th> <td>   -0.1150</td> <td>    0.157</td> <td>   -0.734</td> <td> 0.463</td> <td>   -0.422</td> <td>    0.192</td>\n",
              "</tr>\n",
              "<tr>\n",
              "  <th>Demand DE</th> <td>    0.0012</td> <td> 7.02e-06</td> <td>  168.179</td> <td> 0.000</td> <td>    0.001</td> <td>    0.001</td>\n",
              "</tr>\n",
              "<tr>\n",
              "  <th>Wind</th>      <td>   -0.0012</td> <td> 1.79e-05</td> <td>  -69.377</td> <td> 0.000</td> <td>   -0.001</td> <td>   -0.001</td>\n",
              "</tr>\n",
              "<tr>\n",
              "  <th>PV</th>        <td>   -0.0011</td> <td> 1.19e-05</td> <td>  -89.316</td> <td> 0.000</td> <td>   -0.001</td> <td>   -0.001</td>\n",
              "</tr>\n",
              "<tr>\n",
              "  <th>Gas</th>       <td>   -0.9349</td> <td>    0.124</td> <td>   -7.521</td> <td> 0.000</td> <td>   -1.179</td> <td>   -0.691</td>\n",
              "</tr>\n",
              "<tr>\n",
              "  <th>Coal</th>      <td>   -0.1258</td> <td>    0.022</td> <td>   -5.637</td> <td> 0.000</td> <td>   -0.170</td> <td>   -0.082</td>\n",
              "</tr>\n",
              "<tr>\n",
              "  <th>CO2</th>       <td>    1.6206</td> <td>    0.079</td> <td>   20.639</td> <td> 0.000</td> <td>    1.467</td> <td>    1.774</td>\n",
              "</tr>\n",
              "<tr>\n",
              "  <th>ar.L1</th>     <td>    0.9450</td> <td>    0.002</td> <td>  525.490</td> <td> 0.000</td> <td>    0.941</td> <td>    0.949</td>\n",
              "</tr>\n",
              "<tr>\n",
              "  <th>ar.L2</th>     <td>   -0.0837</td> <td>    0.003</td> <td>  -26.368</td> <td> 0.000</td> <td>   -0.090</td> <td>   -0.078</td>\n",
              "</tr>\n",
              "<tr>\n",
              "  <th>ar.L3</th>     <td>   -0.0599</td> <td>    0.004</td> <td>  -16.134</td> <td> 0.000</td> <td>   -0.067</td> <td>   -0.053</td>\n",
              "</tr>\n",
              "<tr>\n",
              "  <th>ar.L4</th>     <td>    0.0217</td> <td>    0.004</td> <td>    4.958</td> <td> 0.000</td> <td>    0.013</td> <td>    0.030</td>\n",
              "</tr>\n",
              "<tr>\n",
              "  <th>ar.L5</th>     <td>    0.1015</td> <td>    0.003</td> <td>   32.970</td> <td> 0.000</td> <td>    0.096</td> <td>    0.108</td>\n",
              "</tr>\n",
              "<tr>\n",
              "  <th>sigma2</th>    <td>   13.4638</td> <td>    0.029</td> <td>  459.456</td> <td> 0.000</td> <td>   13.406</td> <td>   13.521</td>\n",
              "</tr>\n",
              "</table>\n",
              "<table class=\"simpletable\">\n",
              "<tr>\n",
              "  <th>Ljung-Box (Q):</th>          <td>3720.95</td> <th>  Jarque-Bera (JB):  </th> <td>3271630.14</td>\n",
              "</tr>\n",
              "<tr>\n",
              "  <th>Prob(Q):</th>                 <td>0.00</td>   <th>  Prob(JB):          </th>    <td>0.00</td>   \n",
              "</tr>\n",
              "<tr>\n",
              "  <th>Heteroskedasticity (H):</th>  <td>1.61</td>   <th>  Skew:              </th>    <td>-0.14</td>  \n",
              "</tr>\n",
              "<tr>\n",
              "  <th>Prob(H) (two-sided):</th>     <td>0.00</td>   <th>  Kurtosis:          </th>    <td>50.40</td>  \n",
              "</tr>\n",
              "</table><br/><br/>Warnings:<br/>[1] Covariance matrix calculated using the outer product of gradients (complex-step)."
            ]
          },
          "metadata": {},
          "execution_count": 92
        }
      ],
      "source": [
        "step_wise.summary()"
      ]
    },
    {
      "cell_type": "code",
      "execution_count": null,
      "metadata": {
        "colab": {
          "base_uri": "https://localhost:8080/"
        },
        "id": "7lWtwK3FbAW-",
        "outputId": "d6f3cff4-d612-4a16-f82d-4c318ca1d89c"
      },
      "outputs": [
        {
          "output_type": "stream",
          "name": "stderr",
          "text": [
            "/usr/local/lib/python3.7/dist-packages/statsmodels/tsa/base/tsa_model.py:219: ValueWarning: A date index has been provided, but it has no associated frequency information and so will be ignored when e.g. forecasting.\n",
            "  the underlying index is a RangeIndex or an integral index.\n"
          ]
        }
      ],
      "source": [
        "model= SARIMAX(train_y, \n",
        " exog=train_X,\n",
        " order=(5,0,0),\n",
        "enforce_invertibility=False, enforce_stationarity=False)"
      ]
    },
    {
      "cell_type": "code",
      "execution_count": null,
      "metadata": {
        "id": "NWwLzlBGbMMh",
        "colab": {
          "base_uri": "https://localhost:8080/"
        },
        "outputId": "bdf53608-68c6-4d42-efb4-8e9db031aef2"
      },
      "outputs": [
        {
          "output_type": "stream",
          "name": "stderr",
          "text": [
            "/usr/local/lib/python3.7/dist-packages/statsmodels/base/model.py:512: ConvergenceWarning: Maximum Likelihood optimization failed to converge. Check mle_retvals\n",
            "  \n",
            "/usr/local/lib/python3.7/dist-packages/statsmodels/tsa/base/tsa_model.py:576: ValueWarning: No supported index is available. Prediction results will be given with an integer index beginning at `start`.\n",
            "  # If no frequency, try to get an inferred frequency\n"
          ]
        }
      ],
      "source": [
        "results=model.fit()\n",
        "\n",
        "forecast = results.forecast(steps=17640, exog = test_X)"
      ]
    },
    {
      "cell_type": "code",
      "execution_count": null,
      "metadata": {
        "id": "H6WY0Oh8bozG"
      },
      "outputs": [],
      "source": [
        "train_size = 34968\n",
        "test_size = 52608\n",
        "steps = -24"
      ]
    },
    {
      "cell_type": "code",
      "execution_count": null,
      "metadata": {
        "colab": {
          "base_uri": "https://localhost:8080/",
          "height": 450
        },
        "id": "LKaaklxf9k-e",
        "outputId": "754d0e87-87a1-4680-af18-e8710de065c0"
      },
      "outputs": [
        {
          "output_type": "execute_result",
          "data": {
            "text/plain": [
              "                         price day ahead real\n",
              "Date                                         \n",
              "2014-12-31 23:59:59.991                 18.29\n",
              "2015-01-01 00:59:59.991                 16.04\n",
              "2015-01-01 01:59:59.991                 14.60\n",
              "2015-01-01 02:59:59.991                 14.95\n",
              "2015-01-01 03:59:59.991                 14.50\n",
              "...                                       ...\n",
              "2020-12-31 18:59:59.980                 56.70\n",
              "2020-12-31 19:59:59.980                 52.44\n",
              "2020-12-31 20:59:59.980                 51.86\n",
              "2020-12-31 21:59:59.980                 52.26\n",
              "2020-12-31 22:59:59.980                 50.87\n",
              "\n",
              "[52608 rows x 1 columns]"
            ],
            "text/html": [
              "\n",
              "  <div id=\"df-e6c31bff-4f84-4339-bdd0-ceb83f6a6671\">\n",
              "    <div class=\"colab-df-container\">\n",
              "      <div>\n",
              "<style scoped>\n",
              "    .dataframe tbody tr th:only-of-type {\n",
              "        vertical-align: middle;\n",
              "    }\n",
              "\n",
              "    .dataframe tbody tr th {\n",
              "        vertical-align: top;\n",
              "    }\n",
              "\n",
              "    .dataframe thead th {\n",
              "        text-align: right;\n",
              "    }\n",
              "</style>\n",
              "<table border=\"1\" class=\"dataframe\">\n",
              "  <thead>\n",
              "    <tr style=\"text-align: right;\">\n",
              "      <th></th>\n",
              "      <th>price day ahead real</th>\n",
              "    </tr>\n",
              "    <tr>\n",
              "      <th>Date</th>\n",
              "      <th></th>\n",
              "    </tr>\n",
              "  </thead>\n",
              "  <tbody>\n",
              "    <tr>\n",
              "      <th>2014-12-31 23:59:59.991</th>\n",
              "      <td>18.29</td>\n",
              "    </tr>\n",
              "    <tr>\n",
              "      <th>2015-01-01 00:59:59.991</th>\n",
              "      <td>16.04</td>\n",
              "    </tr>\n",
              "    <tr>\n",
              "      <th>2015-01-01 01:59:59.991</th>\n",
              "      <td>14.60</td>\n",
              "    </tr>\n",
              "    <tr>\n",
              "      <th>2015-01-01 02:59:59.991</th>\n",
              "      <td>14.95</td>\n",
              "    </tr>\n",
              "    <tr>\n",
              "      <th>2015-01-01 03:59:59.991</th>\n",
              "      <td>14.50</td>\n",
              "    </tr>\n",
              "    <tr>\n",
              "      <th>...</th>\n",
              "      <td>...</td>\n",
              "    </tr>\n",
              "    <tr>\n",
              "      <th>2020-12-31 18:59:59.980</th>\n",
              "      <td>56.70</td>\n",
              "    </tr>\n",
              "    <tr>\n",
              "      <th>2020-12-31 19:59:59.980</th>\n",
              "      <td>52.44</td>\n",
              "    </tr>\n",
              "    <tr>\n",
              "      <th>2020-12-31 20:59:59.980</th>\n",
              "      <td>51.86</td>\n",
              "    </tr>\n",
              "    <tr>\n",
              "      <th>2020-12-31 21:59:59.980</th>\n",
              "      <td>52.26</td>\n",
              "    </tr>\n",
              "    <tr>\n",
              "      <th>2020-12-31 22:59:59.980</th>\n",
              "      <td>50.87</td>\n",
              "    </tr>\n",
              "  </tbody>\n",
              "</table>\n",
              "<p>52608 rows × 1 columns</p>\n",
              "</div>\n",
              "      <button class=\"colab-df-convert\" onclick=\"convertToInteractive('df-e6c31bff-4f84-4339-bdd0-ceb83f6a6671')\"\n",
              "              title=\"Convert this dataframe to an interactive table.\"\n",
              "              style=\"display:none;\">\n",
              "        \n",
              "  <svg xmlns=\"http://www.w3.org/2000/svg\" height=\"24px\"viewBox=\"0 0 24 24\"\n",
              "       width=\"24px\">\n",
              "    <path d=\"M0 0h24v24H0V0z\" fill=\"none\"/>\n",
              "    <path d=\"M18.56 5.44l.94 2.06.94-2.06 2.06-.94-2.06-.94-.94-2.06-.94 2.06-2.06.94zm-11 1L8.5 8.5l.94-2.06 2.06-.94-2.06-.94L8.5 2.5l-.94 2.06-2.06.94zm10 10l.94 2.06.94-2.06 2.06-.94-2.06-.94-.94-2.06-.94 2.06-2.06.94z\"/><path d=\"M17.41 7.96l-1.37-1.37c-.4-.4-.92-.59-1.43-.59-.52 0-1.04.2-1.43.59L10.3 9.45l-7.72 7.72c-.78.78-.78 2.05 0 2.83L4 21.41c.39.39.9.59 1.41.59.51 0 1.02-.2 1.41-.59l7.78-7.78 2.81-2.81c.8-.78.8-2.07 0-2.86zM5.41 20L4 18.59l7.72-7.72 1.47 1.35L5.41 20z\"/>\n",
              "  </svg>\n",
              "      </button>\n",
              "      \n",
              "  <style>\n",
              "    .colab-df-container {\n",
              "      display:flex;\n",
              "      flex-wrap:wrap;\n",
              "      gap: 12px;\n",
              "    }\n",
              "\n",
              "    .colab-df-convert {\n",
              "      background-color: #E8F0FE;\n",
              "      border: none;\n",
              "      border-radius: 50%;\n",
              "      cursor: pointer;\n",
              "      display: none;\n",
              "      fill: #1967D2;\n",
              "      height: 32px;\n",
              "      padding: 0 0 0 0;\n",
              "      width: 32px;\n",
              "    }\n",
              "\n",
              "    .colab-df-convert:hover {\n",
              "      background-color: #E2EBFA;\n",
              "      box-shadow: 0px 1px 2px rgba(60, 64, 67, 0.3), 0px 1px 3px 1px rgba(60, 64, 67, 0.15);\n",
              "      fill: #174EA6;\n",
              "    }\n",
              "\n",
              "    [theme=dark] .colab-df-convert {\n",
              "      background-color: #3B4455;\n",
              "      fill: #D2E3FC;\n",
              "    }\n",
              "\n",
              "    [theme=dark] .colab-df-convert:hover {\n",
              "      background-color: #434B5C;\n",
              "      box-shadow: 0px 1px 3px 1px rgba(0, 0, 0, 0.15);\n",
              "      filter: drop-shadow(0px 1px 2px rgba(0, 0, 0, 0.3));\n",
              "      fill: #FFFFFF;\n",
              "    }\n",
              "  </style>\n",
              "\n",
              "      <script>\n",
              "        const buttonEl =\n",
              "          document.querySelector('#df-e6c31bff-4f84-4339-bdd0-ceb83f6a6671 button.colab-df-convert');\n",
              "        buttonEl.style.display =\n",
              "          google.colab.kernel.accessAllowed ? 'block' : 'none';\n",
              "\n",
              "        async function convertToInteractive(key) {\n",
              "          const element = document.querySelector('#df-e6c31bff-4f84-4339-bdd0-ceb83f6a6671');\n",
              "          const dataTable =\n",
              "            await google.colab.kernel.invokeFunction('convertToInteractive',\n",
              "                                                     [key], {});\n",
              "          if (!dataTable) return;\n",
              "\n",
              "          const docLinkHtml = 'Like what you see? Visit the ' +\n",
              "            '<a target=\"_blank\" href=https://colab.research.google.com/notebooks/data_table.ipynb>data table notebook</a>'\n",
              "            + ' to learn more about interactive tables.';\n",
              "          element.innerHTML = '';\n",
              "          dataTable['output_type'] = 'display_data';\n",
              "          await google.colab.output.renderOutput(dataTable, element);\n",
              "          const docLink = document.createElement('div');\n",
              "          docLink.innerHTML = docLinkHtml;\n",
              "          element.appendChild(docLink);\n",
              "        }\n",
              "      </script>\n",
              "    </div>\n",
              "  </div>\n",
              "  "
            ]
          },
          "metadata": {},
          "execution_count": 96
        }
      ],
      "source": [
        "y\n"
      ]
    },
    {
      "cell_type": "code",
      "execution_count": null,
      "metadata": {
        "id": "ONe7qD5gb5v1",
        "colab": {
          "base_uri": "https://localhost:8080/"
        },
        "outputId": "6002236d-b297-478c-c15b-ba2de690bb0d"
      },
      "outputs": [
        {
          "output_type": "stream",
          "name": "stderr",
          "text": [
            "/usr/local/lib/python3.7/dist-packages/statsmodels/tsa/base/tsa_model.py:576: ValueWarning: No supported index is available. Prediction results will be given with an integer index beginning at `start`.\n",
            "  # If no frequency, try to get an inferred frequency\n"
          ]
        }
      ],
      "source": [
        "predictions= results.predict(start = 34968, end=52608+(steps)-1 ,exog=test_X)"
      ]
    },
    {
      "cell_type": "code",
      "execution_count": null,
      "metadata": {
        "id": "tpMRn8zpd64W"
      },
      "outputs": [],
      "source": [
        "forecast_electricity= pd.DataFrame(forecast)\n",
        "forecast_electricity.reset_index(drop=True, inplace=True)\n",
        "forecast_electricity.index=test_X.index\n",
        "forecast_electricity['Actual'] =y.iloc[34968:, 0]\n",
        "forecast_electricity.rename(columns={0:'Forecast'}, inplace=True)"
      ]
    },
    {
      "cell_type": "code",
      "execution_count": null,
      "metadata": {
        "colab": {
          "base_uri": "https://localhost:8080/"
        },
        "id": "Z24Nm8DheDbo",
        "outputId": "51774e99-8d83-48a1-e307-90c3427e9efd"
      },
      "outputs": [
        {
          "output_type": "execute_result",
          "data": {
            "text/plain": [
              "Date\n",
              "2018-12-27 23:59:59.983    50.138688\n",
              "2018-12-28 00:59:59.983    49.173831\n",
              "2018-12-28 01:59:59.983    49.497919\n",
              "2018-12-28 02:59:59.983    51.093145\n",
              "2018-12-28 03:59:59.983    54.289427\n",
              "                             ...    \n",
              "2020-12-31 18:59:59.980    64.583485\n",
              "2020-12-31 19:59:59.980    62.294897\n",
              "2020-12-31 20:59:59.980    62.980435\n",
              "2020-12-31 21:59:59.980    61.977881\n",
              "2020-12-31 22:59:59.980    60.719123\n",
              "Name: Forecast, Length: 17640, dtype: float64"
            ]
          },
          "metadata": {},
          "execution_count": 68
        }
      ],
      "source": [
        "\n",
        "forecast_electricity['Forecast']"
      ]
    },
    {
      "cell_type": "code",
      "source": [
        "forecast_electricity['Actual']"
      ],
      "metadata": {
        "colab": {
          "base_uri": "https://localhost:8080/"
        },
        "id": "YnKMrl3sBEQI",
        "outputId": "4779019f-3058-42e8-f7ef-b9163973f71f"
      },
      "execution_count": null,
      "outputs": [
        {
          "output_type": "execute_result",
          "data": {
            "text/plain": [
              "Date\n",
              "2018-12-27 23:59:59.983    50.00\n",
              "2018-12-28 00:59:59.983    49.19\n",
              "2018-12-28 01:59:59.983    48.51\n",
              "2018-12-28 02:59:59.983    48.07\n",
              "2018-12-28 03:59:59.983    49.82\n",
              "                           ...  \n",
              "2020-12-31 18:59:59.980    56.70\n",
              "2020-12-31 19:59:59.980    52.44\n",
              "2020-12-31 20:59:59.980    51.86\n",
              "2020-12-31 21:59:59.980    52.26\n",
              "2020-12-31 22:59:59.980    50.87\n",
              "Name: Actual, Length: 17640, dtype: float64"
            ]
          },
          "metadata": {},
          "execution_count": 69
        }
      ]
    },
    {
      "cell_type": "code",
      "source": [
        "import csv \n",
        "forecast_electricity = pd.DataFrame(forecast_electricity)\n",
        "forecast_electricity.to_csv(\"SARIMAX_rslts.csv\", header=True, quoting=csv.QUOTE_NONE, escapechar=' ')"
      ],
      "metadata": {
        "id": "3zfxkvwuuRpf"
      },
      "execution_count": null,
      "outputs": []
    },
    {
      "cell_type": "code",
      "execution_count": null,
      "metadata": {
        "colab": {
          "base_uri": "https://localhost:8080/",
          "height": 490
        },
        "id": "q0cdPbNDd-O3",
        "outputId": "7769fd35-bd18-467b-cbee-522434194a63"
      },
      "outputs": [
        {
          "output_type": "execute_result",
          "data": {
            "text/plain": [
              "<matplotlib.axes._subplots.AxesSubplot at 0x7fc6ea3441d0>"
            ]
          },
          "metadata": {},
          "execution_count": 71
        },
        {
          "output_type": "display_data",
          "data": {
            "text/plain": [
              "<Figure size 1440x576 with 1 Axes>"
            ],
            "image/png": "[encoded data removed]"
          },
          "metadata": {
            "needs_background": "light"
          }
        }
      ],
      "source": [
        "forecast_electricity['Forecast'][:17640].plot(figsize=(20,8), legend=True, color='blue')\n",
        "forecast_electricity['Actual'][:17640].plot(legend=True, color='red', figsize=(20,8))"
      ]
    },
    {
      "cell_type": "code",
      "execution_count": null,
      "metadata": {
        "id": "erKRnB5LnuqD"
      },
      "outputs": [],
      "source": [
        "from numpy import inf\n",
        "\n",
        "def mean_absolute_percentage_error(y_true, y_pred):\n",
        "    y_true, y_pred = np.array(y_true), np.array(y_pred)\n",
        "    difference = abs((y_true - y_pred))\n",
        "    difference[difference == inf] = 0.01\n",
        "    difference[difference == -inf] = 0.01\n",
        "    difference[difference == 0] = 0.01\n",
        "    y_true[y_true == 0] = 0.01\n",
        "    return np.mean((difference/y_true) * 100)"
      ]
    },
    {
      "cell_type": "code",
      "execution_count": null,
      "metadata": {
        "colab": {
          "base_uri": "https://localhost:8080/"
        },
        "id": "EaAyQoLXnvdS",
        "outputId": "42ef3e66-3869-42ab-cd82-e509738b9137"
      },
      "outputs": [
        {
          "output_type": "execute_result",
          "data": {
            "text/plain": [
              "245.7378355638589"
            ]
          },
          "metadata": {},
          "execution_count": 73
        }
      ],
      "source": [
        "mape = mean_absolute_percentage_error(forecast_electricity['Actual'], forecast_electricity['Forecast'])\n",
        "mape"
      ]
    }
  ],
  "metadata": {
    "colab": {
      "collapsed_sections": [],
      "name": "SARIMAX for bridging_project Corrected .ipynb",
      "provenance": [],
      "authorship_tag": "ABX9TyOFz0zM7jkJybOlY0+/usUC",
      "include_colab_link": true
    },
    "kernelspec": {
      "display_name": "Python 3",
      "name": "python3"
    },
    "language_info": {
      "name": "python"
    }
  },
  "nbformat": 4,
  "nbformat_minor": 0
}